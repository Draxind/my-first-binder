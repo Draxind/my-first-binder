{
 "cells": [
  {
   "cell_type": "markdown",
   "metadata": {},
   "source": [
    "#### Exercise 9.4.4 answer"
   ]
  },
  {
   "cell_type": "markdown",
   "metadata": {},
   "source": [
    "The algorithm first creates two queues of length _wagons_,\n",
    "then it enters the main loop.\n",
    "\n",
    "A worst-case scenario is when the main loop doesn't exit early.\n",
    "In that case the outgoing permutation is possible and the loop executes\n",
    "2 × _wagons_ times: each wagon has to enter from the east and leave to the west,\n",
    "when it's removed from the outgoing queue.\n",
    "\n",
    "Since all queue and stack operations take constant time,\n",
    "the complexity is Θ(4 × _wagons_) = Θ(_wagons_) or Θ(│*outgoing*│)."
   ]
  }
 ],
 "metadata": {
  "kernelspec": {
   "display_name": "Python 3",
   "language": "python",
   "name": "python3"
  },
  "language_info": {
   "codemirror_mode": {
    "name": "ipython",
    "version": 3
   },
   "file_extension": ".py",
   "mimetype": "text/x-python",
   "name": "python",
   "nbconvert_exporter": "python",
   "pygments_lexer": "ipython3",
   "version": "3.8.5"
  }
 },
 "nbformat": 4,
 "nbformat_minor": 4
}
