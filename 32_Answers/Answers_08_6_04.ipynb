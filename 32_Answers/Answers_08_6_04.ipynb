{
 "cells": [
  {
   "cell_type": "markdown",
   "metadata": {},
   "source": [
    "#### Exercise 8.6.4 answer"
   ]
  },
  {
   "cell_type": "code",
   "execution_count": 1,
   "metadata": {
    "execution": {
     "iopub.execute_input": "2021-09-10T16:10:13.919427Z",
     "iopub.status.busy": "2021-09-10T16:10:13.918730Z",
     "iopub.status.idle": "2021-09-10T16:10:13.920463Z",
     "shell.execute_reply": "2021-09-10T16:10:13.920913Z"
    }
   },
   "outputs": [],
   "source": [
    "def deletions(left: list, right: list) -> int:\n",
    "    left_bag = Counter(left)\n",
    "    right_bag = Counter(right)\n",
    "    deleted = (left_bag | right_bag) - (left_bag & right_bag)\n",
    "    size = 0\n",
    "    for (item, multiplicity) in deleted.items():\n",
    "        size = size + multiplicity\n",
    "    return size\n",
    "\n",
    "deletions_tests = [\n",
    "    # case,             left,                   right,  deletions\n",
    "    ('empty',           [],                     [],             0),\n",
    "    ('same item',       [1],                    [1],            0),\n",
    "    ('different item',  [1],                    [-1],           2),\n",
    "    ('permutations',    [1, 2, 3],              [3, 1, 2],      0),\n",
    "    ('no common items', [1, 2, 3],              [4, 5, 6],      6)\n",
    "]"
   ]
  },
  {
   "cell_type": "markdown",
   "metadata": {
    "tags": [
     "INFO"
    ]
   },
   "source": [
    "<div class=\"alert alert-info\">\n",
    "<strong>Info:</strong> This exercise is based on Online Judge problem\n",
    "<a href=\"https://onlinejudge.org/external/120/12049.pdf\">Just prune the list</a>.\n",
    "</div>"
   ]
  }
 ],
 "metadata": {
  "kernelspec": {
   "display_name": "Python 3",
   "language": "python",
   "name": "python3"
  },
  "language_info": {
   "codemirror_mode": {
    "name": "ipython",
    "version": 3
   },
   "file_extension": ".py",
   "mimetype": "text/x-python",
   "name": "python",
   "nbconvert_exporter": "python",
   "pygments_lexer": "ipython3",
   "version": "3.8.5"
  }
 },
 "nbformat": 4,
 "nbformat_minor": 4
}
