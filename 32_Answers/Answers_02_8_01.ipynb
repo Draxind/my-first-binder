{
 "cells": [
  {
   "cell_type": "markdown",
   "metadata": {},
   "source": [
    "#### Exercise 2.8.1 answer"
   ]
  },
  {
   "cell_type": "markdown",
   "metadata": {},
   "source": [
    "$1^y = 1$ for all $y$, so the exponentiation might be optimised for this base\n",
    "and take constant time. This wouldn't allow us to see any growth in run-times.\n",
    "\n",
    "It may well be that exponentiation is _not_ optimised for a base of one,\n",
    "and thus still shows the sub-linear growth. There's only way to find out:\n",
    "change the base from 3 to 1 in the code cell, run it and see what happens."
   ]
  }
 ],
 "metadata": {
  "kernelspec": {
   "display_name": "Python 3",
   "language": "python",
   "name": "python3"
  },
  "language_info": {
   "codemirror_mode": {
    "name": "ipython",
    "version": 3
   },
   "file_extension": ".py",
   "mimetype": "text/x-python",
   "name": "python",
   "nbconvert_exporter": "python",
   "pygments_lexer": "ipython3",
   "version": "3.8.5"
  }
 },
 "nbformat": 4,
 "nbformat_minor": 4
}
