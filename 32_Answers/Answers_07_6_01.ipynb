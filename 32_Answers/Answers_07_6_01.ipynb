{
 "cells": [
  {
   "cell_type": "markdown",
   "metadata": {},
   "source": [
    "#### Exercise 7.6.1 answer"
   ]
  },
  {
   "cell_type": "markdown",
   "metadata": {},
   "source": [
    "Inserting is appending (amortised constant time) followed by sorting\n",
    "(linear in the best case and quadratic in the worst), so the latter\n",
    "determines the overall complexity.\n",
    "\n",
    "Operation | Complexity\n",
    ":-|:-\n",
    "insert  |  best Θ(│*pq*│), worst Θ(│*pq*│²)\n",
    "find max  |  Θ(1)\n",
    "remove max  |  Θ(1)"
   ]
  }
 ],
 "metadata": {
  "kernelspec": {
   "display_name": "Python 3",
   "language": "python",
   "name": "python3"
  },
  "language_info": {
   "codemirror_mode": {
    "name": "ipython",
    "version": 3
   },
   "file_extension": ".py",
   "mimetype": "text/x-python",
   "name": "python",
   "nbconvert_exporter": "python",
   "pygments_lexer": "ipython3",
   "version": "3.8.5"
  }
 },
 "nbformat": 4,
 "nbformat_minor": 4
}
