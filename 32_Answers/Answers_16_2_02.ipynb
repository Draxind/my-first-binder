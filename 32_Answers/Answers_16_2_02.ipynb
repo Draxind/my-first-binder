{
 "cells": [
  {
   "cell_type": "markdown",
   "metadata": {},
   "source": [
    "#### Exercise 16.2.2 answer"
   ]
  },
  {
   "cell_type": "code",
   "execution_count": 1,
   "metadata": {
    "execution": {
     "iopub.execute_input": "2021-09-10T16:16:47.758738Z",
     "iopub.status.busy": "2021-09-10T16:16:47.758114Z",
     "iopub.status.idle": "2021-09-10T16:16:47.761975Z",
     "shell.execute_reply": "2021-09-10T16:16:47.762478Z"
    }
   },
   "outputs": [
    {
     "name": "stdout",
     "output_type": "stream",
     "text": [
      "Tests finished.\n"
     ]
    }
   ],
   "source": [
    "%run -i ../m269_tree\n",
    "%run -i ../m269_util\n",
    "\n",
    "def height(tree: Tree) -> int:\n",
    "    \"\"\"Return the height of the tree.\"\"\"\n",
    "    if is_empty(tree):\n",
    "        return 0\n",
    "    else:\n",
    "        return max(height(tree.left), height(tree.right)) + 1\n",
    "\n",
    "height_tests = [\n",
    "    # case,         tree,   height\n",
    "    ('empty',       EMPTY,  0),\n",
    "    ('(3+4)*(5-6)',   TPM,  3),\n",
    "    ('3+((4*5)-6)',   PMT,  4),\n",
    "    ('(3+(4*5))-6',   MPT,  4),\n",
    "]\n",
    "\n",
    "test(height, height_tests)"
   ]
  }
 ],
 "metadata": {
  "kernelspec": {
   "display_name": "Python 3",
   "language": "python",
   "name": "python3"
  },
  "language_info": {
   "codemirror_mode": {
    "name": "ipython",
    "version": 3
   },
   "file_extension": ".py",
   "mimetype": "text/x-python",
   "name": "python",
   "nbconvert_exporter": "python",
   "pygments_lexer": "ipython3",
   "version": "3.8.5"
  }
 },
 "nbformat": 4,
 "nbformat_minor": 4
}
