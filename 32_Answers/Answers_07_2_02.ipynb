{
 "cells": [
  {
   "cell_type": "markdown",
   "metadata": {},
   "source": [
    "#### Exercise 7.2.2 answer"
   ]
  },
  {
   "cell_type": "code",
   "execution_count": 1,
   "metadata": {
    "execution": {
     "iopub.execute_input": "2021-09-10T16:06:57.214901Z",
     "iopub.status.busy": "2021-09-10T16:06:57.214063Z",
     "iopub.status.idle": "2021-09-10T16:06:57.216608Z",
     "shell.execute_reply": "2021-09-10T16:06:57.216933Z"
    }
   },
   "outputs": [],
   "source": [
    "def is_balanced(text: str) -> bool:\n",
    "    \"\"\"Check if all brackets in text are balanced.\n",
    "\n",
    "    Preconditions: each bracket in 'text' is one of (, ), [, ]\n",
    "    \"\"\"\n",
    "    opened = []     # stack of opened but not closed brackets\n",
    "    for character in text:\n",
    "        if character in '([':\n",
    "            opened.append(character)\n",
    "        elif character == ')':\n",
    "            if len(opened) > 0 and opened[-1] == '(':\n",
    "                opened.pop()\n",
    "            else:\n",
    "                return False\n",
    "        elif character == ']':\n",
    "            if len(opened) > 0 and opened[-1] == '[':\n",
    "                opened.pop()\n",
    "            else:\n",
    "                return False\n",
    "    return len(opened) == 0"
   ]
  }
 ],
 "metadata": {
  "kernelspec": {
   "display_name": "Python 3",
   "language": "python",
   "name": "python3"
  },
  "language_info": {
   "codemirror_mode": {
    "name": "ipython",
    "version": 3
   },
   "file_extension": ".py",
   "mimetype": "text/x-python",
   "name": "python",
   "nbconvert_exporter": "python",
   "pygments_lexer": "ipython3",
   "version": "3.8.5"
  }
 },
 "nbformat": 4,
 "nbformat_minor": 4
}
