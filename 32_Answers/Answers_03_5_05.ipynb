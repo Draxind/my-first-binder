{
 "cells": [
  {
   "cell_type": "markdown",
   "metadata": {},
   "source": [
    "#### Exercise 3.5.5 answer"
   ]
  },
  {
   "cell_type": "markdown",
   "metadata": {},
   "source": [
    "1. My function definition is as follows:\n",
    "\n",
    "**Function**: maximum\\\n",
    "**Inputs**: _left_, a real number; _right_, a real number\\\n",
    "**Preconditions**: true\\\n",
    "**Output**: _largest_, a real number\\\n",
    "**Postconditions**:\n",
    "_largest_ = _left_ if _left_ > _right_, otherwise _largest_ = _right_\n",
    "\n",
    "Although the output can only be one of two values (either _left_ or _right_),\n",
    "we can't treat them as if they were Booleans and use 'if and only if' in the\n",
    "postconditions. The following is wrong because it doesn't specify\n",
    "which of the infinitely many real numbers the output is when _left_ ≤ _right_.\n",
    "\n",
    "**Postconditions**: _largest_ = _left_ if and only if _left_ > _right_\n",
    "\n",
    "2. My test table uses a mix of integers and decimal numbers and\n",
    "   has one test case for each possible relationship between the inputs.\n",
    "\n",
    "Case | _left_ | _right_ | _largest_\n",
    "-|-|-|-\n",
    "_left_ > _right_  | 5  | 3.5  | 5\n",
    "_left_ < _right_  | −5.3  | 3.5  | 3.5\n",
    "_left_ = _right_  | −3  | −3  |  −3"
   ]
  }
 ],
 "metadata": {
  "kernelspec": {
   "display_name": "Python 3",
   "language": "python",
   "name": "python3"
  },
  "language_info": {
   "codemirror_mode": {
    "name": "ipython",
    "version": 3
   },
   "file_extension": ".py",
   "mimetype": "text/x-python",
   "name": "python",
   "nbconvert_exporter": "python",
   "pygments_lexer": "ipython3",
   "version": "3.8.5"
  }
 },
 "nbformat": 4,
 "nbformat_minor": 4
}
