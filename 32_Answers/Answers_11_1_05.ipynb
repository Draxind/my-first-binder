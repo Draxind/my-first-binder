{
 "cells": [
  {
   "cell_type": "markdown",
   "metadata": {},
   "source": [
    "#### Exercise 11.1.5 answer"
   ]
  },
  {
   "cell_type": "markdown",
   "metadata": {},
   "source": [
    "The following doesn't change any of the existing steps;\n",
    "it only adds new steps to keep a collection of the solutions found so far.\n",
    "\n",
    "1. let _best_ be the first of _candidates_\n",
    "1. let _solutions_ be a collection just with _best_\n",
    "1. for each _candidate_ in _candidates_:\n",
    "   1. if _candidate_ is better than _best_:\n",
    "      1. let _best_ be _candidate_\n",
    "      1. let _solutions_ be a collection just with _best_\n",
    "   2. otherwise if _candidate_ is as good as _best_:\n",
    "      1. add _candidate_ to _solutions_\n",
    "\n",
    "Step&nbsp;3.1.2 creates the solutions collection afresh, with the new best candidate.\n",
    "\n",
    "Again, the output collection could be\n",
    "a sequence to keep solutions in the order they're found,\n",
    "or a set to avoid duplicate solutions,\n",
    "or a bag if the order doesn't matter but duplicate solutions do."
   ]
  }
 ],
 "metadata": {
  "kernelspec": {
   "display_name": "Python 3",
   "language": "python",
   "name": "python3"
  },
  "language_info": {
   "codemirror_mode": {
    "name": "ipython",
    "version": 3
   },
   "file_extension": ".py",
   "mimetype": "text/x-python",
   "name": "python",
   "nbconvert_exporter": "python",
   "pygments_lexer": "ipython3",
   "version": "3.8.5"
  }
 },
 "nbformat": 4,
 "nbformat_minor": 4
}
