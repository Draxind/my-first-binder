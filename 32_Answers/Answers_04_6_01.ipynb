{
 "cells": [
  {
   "cell_type": "markdown",
   "metadata": {},
   "source": [
    "#### Exercise 4.6.1 answer"
   ]
  },
  {
   "cell_type": "markdown",
   "metadata": {},
   "source": [
    "**Operation**: reverse\\\n",
    "**Inputs/Outputs**: _values_, a sequence\\\n",
    "**Preconditions**: true\\\n",
    "**Postconditions**: post-_values_ =\n",
    "(pre-_values_[│pre-_values_│ - 1], pre-_values_[│pre-_values_│ - 2], ...,\n",
    "pre-_values_[1], pre-_values_[0])"
   ]
  }
 ],
 "metadata": {
  "kernelspec": {
   "display_name": "Python 3",
   "language": "python",
   "name": "python3"
  },
  "language_info": {
   "codemirror_mode": {
    "name": "ipython",
    "version": 3
   },
   "file_extension": ".py",
   "mimetype": "text/x-python",
   "name": "python",
   "nbconvert_exporter": "python",
   "pygments_lexer": "ipython3",
   "version": "3.8.5"
  }
 },
 "nbformat": 4,
 "nbformat_minor": 4
}
