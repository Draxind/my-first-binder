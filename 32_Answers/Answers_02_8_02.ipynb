{
 "cells": [
  {
   "cell_type": "markdown",
   "metadata": {},
   "source": [
    "#### Exercise 2.8.2 answer"
   ]
  },
  {
   "cell_type": "markdown",
   "metadata": {},
   "source": [
    "I chose the truncation operation."
   ]
  },
  {
   "cell_type": "code",
   "execution_count": 1,
   "metadata": {
    "execution": {
     "iopub.execute_input": "2021-09-10T16:02:19.727148Z",
     "iopub.status.busy": "2021-09-10T16:02:19.717265Z",
     "iopub.status.idle": "2021-09-10T16:02:19.729247Z",
     "shell.execute_reply": "2021-09-10T16:02:19.729811Z"
    }
   },
   "outputs": [
    {
     "name": "stdout",
     "output_type": "stream",
     "text": [
      "119 ns ± 19.9 ns per loop (mean ± std. dev. of 3 runs, 5000 loops each)\n",
      "108 ns ± 4.78 ns per loop (mean ± std. dev. of 3 runs, 5000 loops each)\n",
      "106 ns ± 2.75 ns per loop (mean ± std. dev. of 3 runs, 5000 loops each)\n",
      "140 ns ± 31.3 ns per loop (mean ± std. dev. of 3 runs, 5000 loops each)\n",
      "106 ns ± 2.96 ns per loop (mean ± std. dev. of 3 runs, 5000 loops each)\n"
     ]
    }
   ],
   "source": [
    "import math\n",
    "\n",
    "value = 98765.43\n",
    "%timeit -r 3 -n 5000 math.trunc(value)\n",
    "value = value * 2\n",
    "%timeit -r 3 -n 5000 math.trunc(value)\n",
    "value = value * 2\n",
    "%timeit -r 3 -n 5000 math.trunc(value)\n",
    "value = value * 2\n",
    "%timeit -r 3 -n 5000 math.trunc(value)\n",
    "value = value * 2\n",
    "%timeit -r 3 -n 5000 math.trunc(value)"
   ]
  }
 ],
 "metadata": {
  "kernelspec": {
   "display_name": "Python 3",
   "language": "python",
   "name": "python3"
  },
  "language_info": {
   "codemirror_mode": {
    "name": "ipython",
    "version": 3
   },
   "file_extension": ".py",
   "mimetype": "text/x-python",
   "name": "python",
   "nbconvert_exporter": "python",
   "pygments_lexer": "ipython3",
   "version": "3.8.5"
  }
 },
 "nbformat": 4,
 "nbformat_minor": 4
}
