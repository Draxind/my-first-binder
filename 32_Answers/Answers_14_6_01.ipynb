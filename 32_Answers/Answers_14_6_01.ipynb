{
 "cells": [
  {
   "cell_type": "markdown",
   "metadata": {},
   "source": [
    "#### Exercise 14.6.1 answer"
   ]
  },
  {
   "cell_type": "markdown",
   "metadata": {},
   "source": [
    "The pivot is the first item of the input.\n",
    "Items with the same key as the pivot go to partition _larger_\n",
    "because the comparison in step&nbsp;4.2 is false.\n",
    "That partition is concatenated after the pivot, so\n",
    "items with the pivot's key still come after it in the output.\n",
    "The algorithm is stable.\n",
    "\n",
    "If step&nbsp;4.2 used ≤ instead of < then the algorithm wouldn't be stable,\n",
    "as the items with the pivot's key would go to _smaller_ and\n",
    "come before the pivot in the _sorted_ sequence."
   ]
  }
 ],
 "metadata": {
  "kernelspec": {
   "display_name": "Python 3",
   "language": "python",
   "name": "python3"
  },
  "language_info": {
   "codemirror_mode": {
    "name": "ipython",
    "version": 3
   },
   "file_extension": ".py",
   "mimetype": "text/x-python",
   "name": "python",
   "nbconvert_exporter": "python",
   "pygments_lexer": "ipython3",
   "version": "3.8.5"
  }
 },
 "nbformat": 4,
 "nbformat_minor": 4
}
