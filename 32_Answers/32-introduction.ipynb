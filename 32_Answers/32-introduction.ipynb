{
 "cells": [
  {
   "cell_type": "markdown",
   "metadata": {},
   "source": [
    "# 18 Answers"
   ]
  },
  {
   "cell_type": "markdown",
   "metadata": {},
   "source": [
    "This chapter contains the answers for all exercises throughout the book.\n",
    "\n",
    "\n",
    "Before starting to work on this chapter, check the\n",
    "[M269 website](https://learn2.open.ac.uk/course/view.php?id=208089) for relevant news and errata."
   ]
  },
  {
   "cell_type": "markdown",
   "metadata": {
    "nbsphinx-toctree": {
     "hidden": true,
     "maxdepth": 1,
     "numbered": false
    }
   },
   "source": [
    "1. [Introduction](Answers_01.ipynb)\n",
    "1. [Numbers and sequence](Answers_02.ipynb)\n",
    "1. [Booleans and selection](Answers_03.ipynb)\n",
    "1. [Sequences and iteration](Answers_04.ipynb)\n",
    "1. [Implementing sequences](Answers_06.ipynb)\n",
    "1. [Stacks and queues](Answers_07.ipynb)\n",
    "1. [Unordered collections](Answers_08.ipynb)\n",
    "1. [Practice 1](Answers_09.ipynb)\n",
    "1. [Exhaustive search](Answers_11.ipynb)\n",
    "1. [Recursion](Answers_12.ipynb)\n",
    "1. [Divide and conquer](Answers_13.ipynb)\n",
    "1. [Sorting](Answers_14.ipynb)\n",
    "1. [Rooted trees](Answers_16.ipynb)"
   ]
  },
  {
   "cell_type": "markdown",
   "metadata": {},
   "source": [
    "⟵ [Previous chapter](../31_Hints/31-introduction.ipynb) | [Up](../M269.ipynb) | [Next section](Answers_01.ipynb) ⟶"
   ]
  }
 ],
 "metadata": {
  "kernelspec": {
   "display_name": "Python 3",
   "language": "python",
   "name": "python3"
  },
  "language_info": {
   "codemirror_mode": {
    "name": "ipython",
    "version": 3
   },
   "file_extension": ".py",
   "mimetype": "text/x-python",
   "name": "python",
   "nbconvert_exporter": "python",
   "pygments_lexer": "ipython3",
   "version": "3.8.5"
  }
 },
 "nbformat": 4,
 "nbformat_minor": 4
}
