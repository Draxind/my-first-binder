{
 "cells": [
  {
   "cell_type": "markdown",
   "metadata": {},
   "source": [
    "#### Exercise 7.5.2 answer"
   ]
  },
  {
   "cell_type": "markdown",
   "metadata": {},
   "source": [
    "The last item is normally at index _end_ − 1.\n",
    "If _end_ = 0, then we must 'wrap around' to index │*items*│.\n",
    "The index of the last item is (_end_ − 1) mod │*items*│."
   ]
  },
  {
   "cell_type": "markdown",
   "metadata": {
    "tags": [
     "INFO"
    ]
   },
   "source": [
    "<div class=\"alert alert-info\">\n",
    "<strong>Info:</strong> This expression doesn't work in Java because it implements the\n",
    "<a href=\"../02_Sequence/02<em>2</em>operations.ipynb#2.2-Arithmetic-operations\">modulo operation</a> differently.\n",
    "If we want to wrap around from index&nbsp;0 in an array with capacity 4,\n",
    "`(0 - 1) % 4` evaluates to 3 (as we want) in Python but to −1 in Java.\n",
    "</div>"
   ]
  }
 ],
 "metadata": {
  "kernelspec": {
   "display_name": "Python 3",
   "language": "python",
   "name": "python3"
  },
  "language_info": {
   "codemirror_mode": {
    "name": "ipython",
    "version": 3
   },
   "file_extension": ".py",
   "mimetype": "text/x-python",
   "name": "python",
   "nbconvert_exporter": "python",
   "pygments_lexer": "ipython3",
   "version": "3.8.5"
  }
 },
 "nbformat": 4,
 "nbformat_minor": 4
}
