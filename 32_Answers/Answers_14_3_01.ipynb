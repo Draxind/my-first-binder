{
 "cells": [
  {
   "cell_type": "markdown",
   "metadata": {},
   "source": [
    "#### Exercise 14.3.1 answer"
   ]
  },
  {
   "cell_type": "markdown",
   "metadata": {},
   "source": [
    "Let's suppose items A and B are in the unsorted part and\n",
    "B is the first item to the right of A with the same key as A.\n",
    "A is moved before B to the sorted part. As B is moved,\n",
    "the items in the sorted part shift up (i.e. to the right) to make space for B,\n",
    "but A isn't shifted because its key isn't larger than B's key.\n",
    "So the shifting stops at A and B is put immediately to the right of A,\n",
    "thus keeping the original relative order. The algorithm is stable."
   ]
  }
 ],
 "metadata": {
  "kernelspec": {
   "display_name": "Python 3",
   "language": "python",
   "name": "python3"
  },
  "language_info": {
   "codemirror_mode": {
    "name": "ipython",
    "version": 3
   },
   "file_extension": ".py",
   "mimetype": "text/x-python",
   "name": "python",
   "nbconvert_exporter": "python",
   "pygments_lexer": "ipython3",
   "version": "3.8.5"
  }
 },
 "nbformat": 4,
 "nbformat_minor": 4
}
