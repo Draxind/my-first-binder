{
 "cells": [
  {
   "cell_type": "markdown",
   "metadata": {},
   "source": [
    "#### Exercise 12.2.2 answer"
   ]
  },
  {
   "cell_type": "code",
   "execution_count": 1,
   "metadata": {
    "execution": {
     "iopub.execute_input": "2021-09-10T16:13:42.578872Z",
     "iopub.status.busy": "2021-09-10T16:13:42.578340Z",
     "iopub.status.idle": "2021-09-10T16:13:42.581266Z",
     "shell.execute_reply": "2021-09-10T16:13:42.581720Z"
    }
   },
   "outputs": [
    {
     "name": "stdout",
     "output_type": "stream",
     "text": [
      "Tests finished.\n"
     ]
    }
   ],
   "source": [
    "%run -i ../m269_util\n",
    "\n",
    "def even(n: int) -> bool:\n",
    "    \"\"\"Return True if and only if n is divisible by 2.\n",
    "\n",
    "    Preconditions: n > 0\n",
    "    \"\"\"\n",
    "    if n == 1:\n",
    "        return False\n",
    "    else:\n",
    "        return not even(n-1)\n",
    "\n",
    "even_tests = [\n",
    "    # case,             n,      even?\n",
    "    ('smallest even',   2,      True),\n",
    "    ('larger even',     100,    True),\n",
    "    # your tests here\n",
    "    ('smallest input',  1,      False),\n",
    "    ('larger odd',      45,     False)\n",
    "]\n",
    "\n",
    "test(even, even_tests)"
   ]
  }
 ],
 "metadata": {
  "kernelspec": {
   "display_name": "Python 3",
   "language": "python",
   "name": "python3"
  },
  "language_info": {
   "codemirror_mode": {
    "name": "ipython",
    "version": 3
   },
   "file_extension": ".py",
   "mimetype": "text/x-python",
   "name": "python",
   "nbconvert_exporter": "python",
   "pygments_lexer": "ipython3",
   "version": "3.8.5"
  }
 },
 "nbformat": 4,
 "nbformat_minor": 4
}
