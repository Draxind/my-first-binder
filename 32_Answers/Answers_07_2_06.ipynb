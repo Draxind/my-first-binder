{
 "cells": [
  {
   "cell_type": "markdown",
   "metadata": {},
   "source": [
    "#### Exercise 7.2.6 answer"
   ]
  },
  {
   "cell_type": "code",
   "execution_count": 1,
   "metadata": {
    "execution": {
     "iopub.execute_input": "2021-09-10T16:07:10.613816Z",
     "iopub.status.busy": "2021-09-10T16:07:10.613095Z",
     "iopub.status.idle": "2021-09-10T16:07:10.614660Z",
     "shell.execute_reply": "2021-09-10T16:07:10.615308Z"
    }
   },
   "outputs": [],
   "source": [
    "def evaluate(expression: list) -> int:\n",
    "    values = []     # stack of operands\n",
    "    for item in expression:\n",
    "        if item == '-':\n",
    "            right = values.pop()\n",
    "            left = values.pop()\n",
    "            values.append(left - right)\n",
    "        elif item == '*':\n",
    "            right = values.pop()\n",
    "            left = values.pop()\n",
    "            values.append(left * right)\n",
    "        else:       # it's an operand\n",
    "            values.append(item)\n",
    "    return values[-1]"
   ]
  }
 ],
 "metadata": {
  "kernelspec": {
   "display_name": "Python 3",
   "language": "python",
   "name": "python3"
  },
  "language_info": {
   "codemirror_mode": {
    "name": "ipython",
    "version": 3
   },
   "file_extension": ".py",
   "mimetype": "text/x-python",
   "name": "python",
   "nbconvert_exporter": "python",
   "pygments_lexer": "ipython3",
   "version": "3.8.5"
  }
 },
 "nbformat": 4,
 "nbformat_minor": 4
}
