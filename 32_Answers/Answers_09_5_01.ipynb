{
 "cells": [
  {
   "cell_type": "markdown",
   "metadata": {},
   "source": [
    "#### Exercise 9.5.1 answer"
   ]
  },
  {
   "cell_type": "markdown",
   "metadata": {},
   "source": [
    "I added these calls:\n",
    "```py\n",
    "session.visit('YouTube')        # history is now M269, YouTube\n",
    "session.previous()              # current = M269\n",
    "session.previous()              # trying to go past first page\n",
    "check('OU forgotten', session.now(), 'M269', 'session')\n",
    "session.visit('Wikipedia')      # forget YouTube\n",
    "session.next()                  # trying to go past last page\n",
    "check('no next page', session.now(), 'Wikipedia', 'session')\n",
    "session.previous()\n",
    "check('YouTube removed', session.now(), 'M269', 'session')\n",
    "```"
   ]
  }
 ],
 "metadata": {
  "kernelspec": {
   "display_name": "Python 3",
   "language": "python",
   "name": "python3"
  },
  "language_info": {
   "codemirror_mode": {
    "name": "ipython",
    "version": 3
   },
   "file_extension": ".py",
   "mimetype": "text/x-python",
   "name": "python",
   "nbconvert_exporter": "python",
   "pygments_lexer": "ipython3",
   "version": "3.8.5"
  }
 },
 "nbformat": 4,
 "nbformat_minor": 4
}
