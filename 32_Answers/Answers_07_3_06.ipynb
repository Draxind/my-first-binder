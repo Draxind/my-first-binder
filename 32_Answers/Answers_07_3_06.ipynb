{
 "cells": [
  {
   "cell_type": "markdown",
   "metadata": {},
   "source": [
    "#### Exercise 7.3.6 answer"
   ]
  },
  {
   "cell_type": "markdown",
   "metadata": {},
   "source": [
    "Here's one possible translation of the algorithm's description\n",
    "in the previous exercise."
   ]
  },
  {
   "cell_type": "code",
   "execution_count": 1,
   "metadata": {
    "execution": {
     "iopub.execute_input": "2021-09-10T16:07:28.568296Z",
     "iopub.status.busy": "2021-09-10T16:07:28.567759Z",
     "iopub.status.idle": "2021-09-10T16:07:28.570439Z",
     "shell.execute_reply": "2021-09-10T16:07:28.569731Z"
    }
   },
   "outputs": [],
   "source": [
    "from collections import deque\n",
    "def counting_rhyme(n: int) -> int:\n",
    "    \"\"\"Return which child from 1 to n remains last in the circle.\n",
    "\n",
    "    Preconditions: n > 0\n",
    "    \"\"\"\n",
    "    circle = deque()\n",
    "    for child in range(1, n+1):\n",
    "        circle.append(child)\n",
    "    for round in range(n - 1):\n",
    "        # in each round, the child on syllable 28 leaves the circle\n",
    "        for syllable in range(27):\n",
    "            circle.append(circle.popleft())\n",
    "        circle.popleft()\n",
    "    return circle[0]"
   ]
  }
 ],
 "metadata": {
  "kernelspec": {
   "display_name": "Python 3",
   "language": "python",
   "name": "python3"
  },
  "language_info": {
   "codemirror_mode": {
    "name": "ipython",
    "version": 3
   },
   "file_extension": ".py",
   "mimetype": "text/x-python",
   "name": "python",
   "nbconvert_exporter": "python",
   "pygments_lexer": "ipython3",
   "version": "3.8.5"
  }
 },
 "nbformat": 4,
 "nbformat_minor": 4
}
