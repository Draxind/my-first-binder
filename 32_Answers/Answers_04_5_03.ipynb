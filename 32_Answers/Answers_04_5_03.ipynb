{
 "cells": [
  {
   "cell_type": "markdown",
   "metadata": {},
   "source": [
    "#### Exercise 4.5.3 answer"
   ]
  },
  {
   "cell_type": "markdown",
   "metadata": {},
   "source": [
    "The obvious representation of a 10 × 10 grid is a tuple with 10 nested tuples,\n",
    "each of length&nbsp;10. This requires representing each pawn as a tuple with\n",
    "the row and column indices of its current position.\n",
    "Calculating the new row and column after rolling, say, 5 isn't trivial.\n",
    "\n",
    "To simplify the calculation of where a pawn moves to,\n",
    "the board can be represented 'flat' as a tuple of length&nbsp;100.\n",
    "The position of each pawn is given by\n",
    "an integer variable with a value from 0 to 99.\n",
    "Moving a pawn after a roll of _n_ requires adding _n_ to its current position.\n",
    "\n",
    "To handle snakes and ladders, the board is represented as a tuple of integers,\n",
    "each indicating how much to move forwards (positive integer) or\n",
    "backwards (negative integer) when landing on that position.\n",
    "Most positions have a value of zero.\n",
    "\n",
    "If there's a ladder from position _start_ to position _end_ > _start_, then\n",
    "the positive integer at index _start_ - 1 (because indices are zero-based)\n",
    "is _end_ - _start_.\n",
    "If there's a snake from position _tail_ to position _head_ > _tail_, then\n",
    "the negative integer at index _head_ - 1 is  _tail_ - _head_.\n",
    "\n",
    "The moral of this exercise is that the chosen data type doesn't have to\n",
    "represent faithfully how something looks like in the user interface.\n",
    "A two-dimensional grid doesn't have to be represented as a table."
   ]
  }
 ],
 "metadata": {
  "kernelspec": {
   "display_name": "Python 3",
   "language": "python",
   "name": "python3"
  },
  "language_info": {
   "codemirror_mode": {
    "name": "ipython",
    "version": 3
   },
   "file_extension": ".py",
   "mimetype": "text/x-python",
   "name": "python",
   "nbconvert_exporter": "python",
   "pygments_lexer": "ipython3",
   "version": "3.8.5"
  }
 },
 "nbformat": 4,
 "nbformat_minor": 4
}
