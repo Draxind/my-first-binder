{
 "cells": [
  {
   "cell_type": "markdown",
   "metadata": {},
   "source": [
    "#### Exercise 7.4.1 answer"
   ]
  },
  {
   "cell_type": "markdown",
   "metadata": {},
   "source": [
    "If the front item is in the last node, to remove it we need to get a reference\n",
    "to the penultimate node and then replace its _next_ pointer with\n",
    "the null pointer to indicate that the linked lists now ends there.\n",
    "Finding the penultimate node requires traversing the linked list and\n",
    "thus takes linear time.\n",
    "\n",
    "If the front item is instead in the head node, it can be removed (dequeued) in\n",
    "constant time by just 'moving' the head pointer to the next node. To append\n",
    "(enqueue) a new item in constant time, we keep a reference to the last node.\n",
    "\n",
    "This is yet another example of how the way we structure data affects\n",
    "the operations' complexity."
   ]
  }
 ],
 "metadata": {
  "kernelspec": {
   "display_name": "Python 3",
   "language": "python",
   "name": "python3"
  },
  "language_info": {
   "codemirror_mode": {
    "name": "ipython",
    "version": 3
   },
   "file_extension": ".py",
   "mimetype": "text/x-python",
   "name": "python",
   "nbconvert_exporter": "python",
   "pygments_lexer": "ipython3",
   "version": "3.8.5"
  }
 },
 "nbformat": 4,
 "nbformat_minor": 4
}
