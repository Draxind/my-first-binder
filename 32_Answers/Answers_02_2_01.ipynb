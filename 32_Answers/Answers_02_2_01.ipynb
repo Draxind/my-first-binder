{
 "cells": [
  {
   "cell_type": "markdown",
   "metadata": {},
   "source": [
    "#### Exercise 2.2.1 answer"
   ]
  },
  {
   "cell_type": "markdown",
   "metadata": {},
   "source": [
    "1. Only full bottles can be sold, so we have to round down,\n",
    "   even if that wastes milk that would fill, say, 99% of a bottle. When only\n",
    "   positive numbers are involved, rounding down is equivalent to truncating.\n",
    "1. No ore should go to waste, so even if a truck is only 1% full,\n",
    "   the ore has to be transported. We therefore round up.\n",
    "   (In real life, there would probably be a minimum load,\n",
    "   to make the transport economically viable.)"
   ]
  }
 ],
 "metadata": {
  "kernelspec": {
   "display_name": "Python 3",
   "language": "python",
   "name": "python3"
  },
  "language_info": {
   "codemirror_mode": {
    "name": "ipython",
    "version": 3
   },
   "file_extension": ".py",
   "mimetype": "text/x-python",
   "name": "python",
   "nbconvert_exporter": "python",
   "pygments_lexer": "ipython3",
   "version": "3.8.5"
  }
 },
 "nbformat": 4,
 "nbformat_minor": 4
}
