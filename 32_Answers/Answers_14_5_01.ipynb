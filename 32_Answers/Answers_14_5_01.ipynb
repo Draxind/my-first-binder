{
 "cells": [
  {
   "cell_type": "markdown",
   "metadata": {},
   "source": [
    "#### Exercise 14.5.1 answer"
   ]
  },
  {
   "cell_type": "markdown",
   "metadata": {},
   "source": [
    "The splitting preserves the order of items with duplicate keys.\n",
    "To still preserve them when merging, the left half must have precedence\n",
    "because its items were before the right half in the original sequence.\n",
    "The algorithm above gives precedence to the right half when the keys are equal.\n",
    "For merge sort to be stable, we must change < to ≤ in step&nbsp;4.3."
   ]
  }
 ],
 "metadata": {
  "kernelspec": {
   "display_name": "Python 3",
   "language": "python",
   "name": "python3"
  },
  "language_info": {
   "codemirror_mode": {
    "name": "ipython",
    "version": 3
   },
   "file_extension": ".py",
   "mimetype": "text/x-python",
   "name": "python",
   "nbconvert_exporter": "python",
   "pygments_lexer": "ipython3",
   "version": "3.8.5"
  }
 },
 "nbformat": 4,
 "nbformat_minor": 4
}
