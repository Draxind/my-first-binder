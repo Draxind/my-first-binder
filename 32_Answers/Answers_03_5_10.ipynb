{
 "cells": [
  {
   "cell_type": "markdown",
   "metadata": {},
   "source": [
    "#### Exercise 3.5.10 answer"
   ]
  },
  {
   "cell_type": "code",
   "execution_count": 1,
   "metadata": {
    "execution": {
     "iopub.execute_input": "2021-09-10T16:04:01.763759Z",
     "iopub.status.busy": "2021-09-10T16:04:01.763258Z",
     "iopub.status.idle": "2021-09-10T16:04:01.764774Z",
     "shell.execute_reply": "2021-09-10T16:04:01.765254Z"
    }
   },
   "outputs": [],
   "source": [
    "def is_leap_year(year: int) -> bool:\n",
    "    \"\"\"Return whether the given year is a leap year.\n",
    "\n",
    "    Preconditions: year > 1582\n",
    "    Postconditions: return true if and only if\n",
    "    year is divisible by 4 but not by 100, or is divisible by 400\n",
    "    \"\"\"\n",
    "    return year % 400 == 0 or (year % 4 == 0 and year % 100 != 0)"
   ]
  },
  {
   "cell_type": "code",
   "execution_count": 2,
   "metadata": {
    "execution": {
     "iopub.execute_input": "2021-09-10T16:04:01.772145Z",
     "iopub.status.busy": "2021-09-10T16:04:01.771644Z",
     "iopub.status.idle": "2021-09-10T16:04:01.773826Z",
     "shell.execute_reply": "2021-09-10T16:04:01.774301Z"
    }
   },
   "outputs": [
    {
     "data": {
      "text/plain": [
       "True"
      ]
     },
     "execution_count": 1,
     "metadata": {},
     "output_type": "execute_result"
    }
   ],
   "source": [
    "is_leap_year(1600) == True"
   ]
  },
  {
   "cell_type": "code",
   "execution_count": 3,
   "metadata": {
    "execution": {
     "iopub.execute_input": "2021-09-10T16:04:01.777385Z",
     "iopub.status.busy": "2021-09-10T16:04:01.776885Z",
     "iopub.status.idle": "2021-09-10T16:04:01.778875Z",
     "shell.execute_reply": "2021-09-10T16:04:01.779328Z"
    }
   },
   "outputs": [
    {
     "data": {
      "text/plain": [
       "True"
      ]
     },
     "execution_count": 1,
     "metadata": {},
     "output_type": "execute_result"
    }
   ],
   "source": [
    "is_leap_year(1700) == False"
   ]
  },
  {
   "cell_type": "code",
   "execution_count": 4,
   "metadata": {
    "execution": {
     "iopub.execute_input": "2021-09-10T16:04:01.782079Z",
     "iopub.status.busy": "2021-09-10T16:04:01.781602Z",
     "iopub.status.idle": "2021-09-10T16:04:01.784101Z",
     "shell.execute_reply": "2021-09-10T16:04:01.783633Z"
    }
   },
   "outputs": [
    {
     "data": {
      "text/plain": [
       "True"
      ]
     },
     "execution_count": 1,
     "metadata": {},
     "output_type": "execute_result"
    }
   ],
   "source": [
    "is_leap_year(2020) == True"
   ]
  },
  {
   "cell_type": "code",
   "execution_count": 5,
   "metadata": {
    "execution": {
     "iopub.execute_input": "2021-09-10T16:04:01.787257Z",
     "iopub.status.busy": "2021-09-10T16:04:01.786688Z",
     "iopub.status.idle": "2021-09-10T16:04:01.789226Z",
     "shell.execute_reply": "2021-09-10T16:04:01.789769Z"
    }
   },
   "outputs": [
    {
     "data": {
      "text/plain": [
       "True"
      ]
     },
     "execution_count": 1,
     "metadata": {},
     "output_type": "execute_result"
    }
   ],
   "source": [
    "is_leap_year(1583) == False"
   ]
  },
  {
   "cell_type": "markdown",
   "metadata": {},
   "source": [
    "If you don't feel confident about if-elif-else statements, I suggest\n",
    "you try to code one or two of the intermediate algorithms."
   ]
  }
 ],
 "metadata": {
  "kernelspec": {
   "display_name": "Python 3",
   "language": "python",
   "name": "python3"
  },
  "language_info": {
   "codemirror_mode": {
    "name": "ipython",
    "version": 3
   },
   "file_extension": ".py",
   "mimetype": "text/x-python",
   "name": "python",
   "nbconvert_exporter": "python",
   "pygments_lexer": "ipython3",
   "version": "3.8.5"
  }
 },
 "nbformat": 4,
 "nbformat_minor": 4
}
