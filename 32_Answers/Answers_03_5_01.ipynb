{
 "cells": [
  {
   "cell_type": "markdown",
   "metadata": {},
   "source": [
    "#### Exercise 3.5.1 answer"
   ]
  },
  {
   "cell_type": "markdown",
   "metadata": {},
   "source": [
    "1. It's a decision problem because it asks a yes/no question:\n",
    "   can a phone make and receive calls?\n",
    "2. The preconditions state the possible values of the signal strength.\n",
    "\n",
    "**Function**: calls possible\\\n",
    "**Inputs**: _flight mode_, a Boolean; _signal strength_, an integer\\\n",
    "**Preconditions**: 0 ≤ _signal strength_ ≤ 4\\\n",
    "**Output**: _make calls_, a Boolean\\\n",
    "**Postconditions**:\n",
    "_make calls_ = true if and only if _flight mode_ = false and _signal strength_ ≥ 2\n",
    "\n",
    "You may have chosen different function and variable names.\n",
    "The problem statement doesn't preclude the signal strength to be internally\n",
    "represented by a real number, with only five values shown in the user interface.\n",
    "If typing ≥ is not easy with your keyboard, you may write '> 1' instead in this example."
   ]
  }
 ],
 "metadata": {
  "kernelspec": {
   "display_name": "Python 3",
   "language": "python",
   "name": "python3"
  },
  "language_info": {
   "codemirror_mode": {
    "name": "ipython",
    "version": 3
   },
   "file_extension": ".py",
   "mimetype": "text/x-python",
   "name": "python",
   "nbconvert_exporter": "python",
   "pygments_lexer": "ipython3",
   "version": "3.8.5"
  }
 },
 "nbformat": 4,
 "nbformat_minor": 4
}
