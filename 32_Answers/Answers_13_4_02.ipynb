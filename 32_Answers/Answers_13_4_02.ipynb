{
 "cells": [
  {
   "cell_type": "markdown",
   "metadata": {},
   "source": [
    "#### Exercise 13.4.2 answer"
   ]
  },
  {
   "cell_type": "markdown",
   "metadata": {},
   "source": [
    "All operations take constant time and the recursive call is made on one half, so\n",
    "\n",
    "- T(0) = Θ(1)\n",
    "- T(_n_) = T(_n_ / 2) + Θ(1).\n",
    "\n",
    "As indicated for the [exponentiation algorithm](../13_Divide/13_2_decrease_half.ipynb#13.2.3-Complexity),\n",
    "this recursive definition leads to T(_n_) = Θ(log _n_)."
   ]
  }
 ],
 "metadata": {
  "kernelspec": {
   "display_name": "Python 3",
   "language": "python",
   "name": "python3"
  },
  "language_info": {
   "codemirror_mode": {
    "name": "ipython",
    "version": 3
   },
   "file_extension": ".py",
   "mimetype": "text/x-python",
   "name": "python",
   "nbconvert_exporter": "python",
   "pygments_lexer": "ipython3",
   "version": "3.8.5"
  }
 },
 "nbformat": 4,
 "nbformat_minor": 4
}
