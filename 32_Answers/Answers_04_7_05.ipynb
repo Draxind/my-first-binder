{
 "cells": [
  {
   "cell_type": "markdown",
   "metadata": {},
   "source": [
    "#### Exercise 4.7.5 answer"
   ]
  },
  {
   "cell_type": "markdown",
   "metadata": {},
   "source": [
    "Concatenation copies the items in both operands, so step&nbsp;2.1\n",
    "has complexity Θ(│*reversed*│ + 1) = Θ(│*reversed*│).\n",
    "The loop is executed for each item in _values_, so the complexity is quadratic:\n",
    "│*values*│ × Θ(│*reversed*│) = Θ(│*values*│ × │*reversed*│) =\n",
    "Θ(│*values*│ × │*values*│) = Θ(│*values*│²)."
   ]
  }
 ],
 "metadata": {
  "kernelspec": {
   "display_name": "Python 3",
   "language": "python",
   "name": "python3"
  },
  "language_info": {
   "codemirror_mode": {
    "name": "ipython",
    "version": 3
   },
   "file_extension": ".py",
   "mimetype": "text/x-python",
   "name": "python",
   "nbconvert_exporter": "python",
   "pygments_lexer": "ipython3",
   "version": "3.8.5"
  }
 },
 "nbformat": 4,
 "nbformat_minor": 4
}
