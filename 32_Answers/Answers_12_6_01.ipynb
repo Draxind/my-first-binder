{
 "cells": [
  {
   "cell_type": "markdown",
   "metadata": {},
   "source": [
    "#### Exercise 12.6.1 answer"
   ]
  },
  {
   "cell_type": "markdown",
   "metadata": {},
   "source": [
    "1. if _start_ = _end_:\n",
    "   1. let _solutions_ be ()\n",
    "2. otherwise:\n",
    "   1. let _solutions_ be search(_candidates_, _start_ + 1, _end_)\n",
    "   2. if _candidates_[*start*] satisfies conditions:\n",
    "      1. let _solutions_ be prepend(_candidates_[*start*], _solutions_)"
   ]
  }
 ],
 "metadata": {
  "kernelspec": {
   "display_name": "Python 3",
   "language": "python",
   "name": "python3"
  },
  "language_info": {
   "codemirror_mode": {
    "name": "ipython",
    "version": 3
   },
   "file_extension": ".py",
   "mimetype": "text/x-python",
   "name": "python",
   "nbconvert_exporter": "python",
   "pygments_lexer": "ipython3",
   "version": "3.8.5"
  }
 },
 "nbformat": 4,
 "nbformat_minor": 4
}
