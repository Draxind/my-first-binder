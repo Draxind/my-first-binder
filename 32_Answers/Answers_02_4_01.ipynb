{
 "cells": [
  {
   "cell_type": "markdown",
   "metadata": {},
   "source": [
    "#### Exercise 2.4.1 answer"
   ]
  },
  {
   "cell_type": "markdown",
   "metadata": {},
   "source": [
    "Here's my solution.\n",
    "\n",
    "1. let _price_ be 100\n",
    "2. let _tax rate_ be 0.2\n",
    "3. let _total price_ be _price_ × (1 + _tax rate_)\n",
    "4. print _total price_\n",
    "\n",
    "You may have chosen a different price and different names,\n",
    "but make sure the names are descriptive.\n",
    "You may also have written\n",
    "\n",
    "2. let _tax rate_ be 20 / 100\n",
    "3. let _total price_ be _price_ + _price_ × _tax rate_\n",
    "\n",
    "You may have remembered that code cells can display a value\n",
    "if it's the last line of the cell, and have omitted the word 'print' from step&nbsp;4.\n",
    "I'm sorry to say that's wrong.\n",
    "An English description of an algorithm is an abstract description\n",
    "that can be translated to different computational environments,\n",
    "Jupyter notebooks being only one of them."
   ]
  }
 ],
 "metadata": {
  "kernelspec": {
   "display_name": "Python 3",
   "language": "python",
   "name": "python3"
  },
  "language_info": {
   "codemirror_mode": {
    "name": "ipython",
    "version": 3
   },
   "file_extension": ".py",
   "mimetype": "text/x-python",
   "name": "python",
   "nbconvert_exporter": "python",
   "pygments_lexer": "ipython3",
   "version": "3.8.5"
  }
 },
 "nbformat": 4,
 "nbformat_minor": 4
}
