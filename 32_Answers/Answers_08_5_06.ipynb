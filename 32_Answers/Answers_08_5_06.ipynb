{
 "cells": [
  {
   "cell_type": "markdown",
   "metadata": {},
   "source": [
    "#### Exercise 8.5.6 answer"
   ]
  },
  {
   "cell_type": "markdown",
   "metadata": {},
   "source": [
    "First create a new empty bag for the intersection.\n",
    "\n",
    "Next determine which of the two bags has the fewest unique items,\n",
    "by comparing the number of keys in both maps.\n",
    "\n",
    "Iterate over the unique items of the smaller bag and, for each one,\n",
    "obtain its multiplicity in both bags and take the minimum of the two numbers.\n",
    "Add the item that many times to the intersection.\n",
    "\n",
    "Note that for this algorithm,\n",
    "the smaller bag is the one with the fewest unique items,\n",
    "not necessarily the one with the fewest members (smaller size).\n",
    "For example, {1, 1, 1, 1} has fewer unique items but more members than\n",
    "{1, 2}. The number of iterations is determined by\n",
    "the size of the map (number of keys, i.e. unique items of the bag),\n",
    "not the size of the bag (number of members)."
   ]
  }
 ],
 "metadata": {
  "kernelspec": {
   "display_name": "Python 3",
   "language": "python",
   "name": "python3"
  },
  "language_info": {
   "codemirror_mode": {
    "name": "ipython",
    "version": 3
   },
   "file_extension": ".py",
   "mimetype": "text/x-python",
   "name": "python",
   "nbconvert_exporter": "python",
   "pygments_lexer": "ipython3",
   "version": "3.8.5"
  }
 },
 "nbformat": 4,
 "nbformat_minor": 4
}
