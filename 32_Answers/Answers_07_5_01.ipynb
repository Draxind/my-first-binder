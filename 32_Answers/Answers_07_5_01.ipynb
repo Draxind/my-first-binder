{
 "cells": [
  {
   "cell_type": "markdown",
   "metadata": {},
   "source": [
    "#### Exercise 7.5.1 answer"
   ]
  },
  {
   "cell_type": "code",
   "execution_count": 1,
   "metadata": {
    "execution": {
     "iopub.execute_input": "2021-09-10T16:07:42.270144Z",
     "iopub.status.busy": "2021-09-10T16:07:42.269574Z",
     "iopub.status.idle": "2021-09-10T16:07:42.273841Z",
     "shell.execute_reply": "2021-09-10T16:07:42.274466Z"
    }
   },
   "outputs": [],
   "source": [
    "%run -i ../m269_array\n",
    "\n",
    "class ArrayDeque:\n",
    "    \"\"\"A deque implemented with a dynamic circular array.\"\"\"\n",
    "\n",
    "    def _resize(self, capacity) -> None:\n",
    "        \"\"\"Resize the dynamic array to the new capacity.\n",
    "\n",
    "        Preconditions: capacity > self.length()\n",
    "        \"\"\"\n",
    "        new_items = StaticArray(capacity)\n",
    "        index = self.head\n",
    "        for new_index in range(self.size):\n",
    "            new_items.set_item(new_index, self.items.get_item(index))\n",
    "            index = (index + 1) % self.items.length()\n",
    "        self.items = new_items\n",
    "        self.head = 0\n",
    "        self.end = self.size"
   ]
  }
 ],
 "metadata": {
  "kernelspec": {
   "display_name": "Python 3",
   "language": "python",
   "name": "python3"
  },
  "language_info": {
   "codemirror_mode": {
    "name": "ipython",
    "version": 3
   },
   "file_extension": ".py",
   "mimetype": "text/x-python",
   "name": "python",
   "nbconvert_exporter": "python",
   "pygments_lexer": "ipython3",
   "version": "3.8.5"
  }
 },
 "nbformat": 4,
 "nbformat_minor": 4
}
