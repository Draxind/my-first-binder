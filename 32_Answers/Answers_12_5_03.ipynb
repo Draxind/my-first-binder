{
 "cells": [
  {
   "cell_type": "markdown",
   "metadata": {},
   "source": [
    "#### Exercise 12.5.3 answer"
   ]
  },
  {
   "cell_type": "markdown",
   "metadata": {},
   "source": [
    "The insight is similar to the indexing operation:\n",
    "inserting an item in the _n_-th position of a sequence\n",
    "is the same as inserting it in the _n_−1-th position of the tail,\n",
    "and inserting in position 0 means to prepend it.\n",
    "\n",
    "- if _index_ is 0: insert(_items_, _item_, _index_) = prepend(_item_, _items_)\n",
    "- otherwise: insert(_items_, _item_, _index_) = prepend(head(_items_), insert(tail(_items_), _item_, _index_ − 1))"
   ]
  }
 ],
 "metadata": {
  "kernelspec": {
   "display_name": "Python 3",
   "language": "python",
   "name": "python3"
  },
  "language_info": {
   "codemirror_mode": {
    "name": "ipython",
    "version": 3
   },
   "file_extension": ".py",
   "mimetype": "text/x-python",
   "name": "python",
   "nbconvert_exporter": "python",
   "pygments_lexer": "ipython3",
   "version": "3.8.5"
  }
 },
 "nbformat": 4,
 "nbformat_minor": 4
}
