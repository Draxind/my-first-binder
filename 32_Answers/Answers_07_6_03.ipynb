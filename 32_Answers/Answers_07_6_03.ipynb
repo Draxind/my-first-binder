{
 "cells": [
  {
   "cell_type": "markdown",
   "metadata": {},
   "source": [
    "#### Exercise 7.6.3 answer"
   ]
  },
  {
   "cell_type": "code",
   "execution_count": 1,
   "metadata": {
    "execution": {
     "iopub.execute_input": "2021-09-10T16:08:10.819959Z",
     "iopub.status.busy": "2021-09-10T16:08:10.819156Z",
     "iopub.status.idle": "2021-09-10T16:08:10.821203Z",
     "shell.execute_reply": "2021-09-10T16:08:10.822022Z"
    }
   },
   "outputs": [],
   "source": [
    "class ArrayPriorityQueue:\n",
    "\n",
    "    def insert(self, item: object, priority: object) -> None:\n",
    "        index = 0\n",
    "        while index < len(self.priorities) and self.priorities[index] < priority:\n",
    "            index = index + 1\n",
    "        self.items.insert(index, item)\n",
    "        self.priorities.insert(index, priority)"
   ]
  }
 ],
 "metadata": {
  "kernelspec": {
   "display_name": "Python 3",
   "language": "python",
   "name": "python3"
  },
  "language_info": {
   "codemirror_mode": {
    "name": "ipython",
    "version": 3
   },
   "file_extension": ".py",
   "mimetype": "text/x-python",
   "name": "python",
   "nbconvert_exporter": "python",
   "pygments_lexer": "ipython3",
   "version": "3.8.5"
  }
 },
 "nbformat": 4,
 "nbformat_minor": 4
}
