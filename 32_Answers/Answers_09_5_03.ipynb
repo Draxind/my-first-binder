{
 "cells": [
  {
   "cell_type": "markdown",
   "metadata": {},
   "source": [
    "#### Exercise 9.5.3 answer"
   ]
  },
  {
   "cell_type": "code",
   "execution_count": 1,
   "metadata": {
    "execution": {
     "iopub.execute_input": "2021-09-10T16:11:50.333732Z",
     "iopub.status.busy": "2021-09-10T16:11:50.333210Z",
     "iopub.status.idle": "2021-09-10T16:11:50.335644Z",
     "shell.execute_reply": "2021-09-10T16:11:50.335003Z"
    }
   },
   "outputs": [],
   "source": [
    "from collections import deque\n",
    "\n",
    "class BrowsingHistory:\n",
    "\n",
    "    def __init__(self, pages: int) -> None:\n",
    "        self.before = deque()   # visited before the current page\n",
    "        self.current = ''\n",
    "        self.after = deque()    # visited after the current page\n",
    "        self.capacity = pages\n",
    "\n",
    "    def visit(self, url: str) -> None:\n",
    "        if self.current != '':  # if it's not the first page visited\n",
    "            self.before.append(self.current)\n",
    "        self.current = url\n",
    "        self.after = deque()    # no page yet visited after this\n",
    "        if len(self.before) == self.capacity:\n",
    "            self.before.popleft()       # forget oldest page\n",
    "\n",
    "    def now(self) -> str:\n",
    "        return self.current\n",
    "\n",
    "    def next(self) -> None:\n",
    "        if len(self.after) > 0:\n",
    "            self.before.append(self.current)\n",
    "            self.current = self.after.popleft()\n",
    "\n",
    "    def previous(self) -> None:\n",
    "        if len(self.before) > 0:\n",
    "            self.after.appendleft(self.current)\n",
    "            self.current = self.before.pop()"
   ]
  }
 ],
 "metadata": {
  "kernelspec": {
   "display_name": "Python 3",
   "language": "python",
   "name": "python3"
  },
  "language_info": {
   "codemirror_mode": {
    "name": "ipython",
    "version": 3
   },
   "file_extension": ".py",
   "mimetype": "text/x-python",
   "name": "python",
   "nbconvert_exporter": "python",
   "pygments_lexer": "ipython3",
   "version": "3.8.5"
  }
 },
 "nbformat": 4,
 "nbformat_minor": 4
}
