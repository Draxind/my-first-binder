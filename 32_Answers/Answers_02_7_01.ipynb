{
 "cells": [
  {
   "cell_type": "markdown",
   "metadata": {},
   "source": [
    "#### Exercise 2.7.1 answer"
   ]
  },
  {
   "cell_type": "markdown",
   "metadata": {},
   "source": [
    "The algorithm does a fixed number of operations, namely four:\n",
    "two assignments and two multiplications.\n",
    "All these operations have constant complexity, hence so does the algorithm.\n",
    "The complexity is Θ(1).\n",
    "\n",
    "You may have phrased your answer differently, e.g. that\n",
    "the algorithm runs in constant time or that it takes Θ(1) time."
   ]
  }
 ],
 "metadata": {
  "kernelspec": {
   "display_name": "Python 3",
   "language": "python",
   "name": "python3"
  },
  "language_info": {
   "codemirror_mode": {
    "name": "ipython",
    "version": 3
   },
   "file_extension": ".py",
   "mimetype": "text/x-python",
   "name": "python",
   "nbconvert_exporter": "python",
   "pygments_lexer": "ipython3",
   "version": "3.8.5"
  }
 },
 "nbformat": 4,
 "nbformat_minor": 4
}
