{
 "cells": [
  {
   "cell_type": "markdown",
   "metadata": {},
   "source": [
    "## 18.9 Exhaustive search"
   ]
  },
  {
   "cell_type": "markdown",
   "metadata": {
    "nbsphinx-toctree": {
     "hidden": true,
     "maxdepth": 1,
     "numbered": false
    }
   },
   "source": [
    "1. [Linear search (again)](Answers_11_1.ipynb)\n",
    "1. [Factorisation](Answers_11_2.ipynb)\n",
    "1. [Constraint satisfaction](Answers_11_3.ipynb)\n",
    "1. [Searching permutations](Answers_11_4.ipynb)\n",
    "1. [Searching subsets](Answers_11_5.ipynb)\n",
    "1. [Practice](Answers_11_6.ipynb)"
   ]
  },
  {
   "cell_type": "markdown",
   "metadata": {},
   "source": [
    "⟵ [Previous section](Answers_09.ipynb) | [Up](32-introduction.ipynb) | [Next section](Answers_12.ipynb) ⟶"
   ]
  }
 ],
 "metadata": {
  "kernelspec": {
   "display_name": "Python 3",
   "language": "python",
   "name": "python3"
  },
  "language_info": {
   "codemirror_mode": {
    "name": "ipython",
    "version": 3
   },
   "file_extension": ".py",
   "mimetype": "text/x-python",
   "name": "python",
   "nbconvert_exporter": "python",
   "pygments_lexer": "ipython3",
   "version": "3.8.5"
  }
 },
 "nbformat": 4,
 "nbformat_minor": 4
}
