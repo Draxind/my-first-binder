{
 "cells": [
  {
   "cell_type": "markdown",
   "metadata": {},
   "source": [
    "#### Exercise 8.6.2 answer"
   ]
  },
  {
   "cell_type": "markdown",
   "metadata": {},
   "source": [
    "The items to be removed are those that aren't common to both sequences.\n",
    "As the examples show, the order of items in the sequences doesn't matter\n",
    "but their frequency does. This problem is begging for bags.\n",
    "\n",
    "Each sequence can be seen as a bag.\n",
    "The number of items to be removed are those that are in either sequence\n",
    "(_left_ $\\cup$ _right_) but not in both (_left_ $\\cap$ _right_).\n",
    "Since we only want the number of such items, the algorithm is essentially:\n",
    "\n",
    "Convert each sequence to a bag and output\n",
    "│_left_ $\\cup$ _right_ − _left_ $\\cap$ _right_│.\n",
    "\n",
    "There's a more efficient way of computing the number of deletions.\n",
    "I'll leave it as an exercise for you. Hint: you don't need the union operation."
   ]
  }
 ],
 "metadata": {
  "kernelspec": {
   "display_name": "Python 3",
   "language": "python",
   "name": "python3"
  },
  "language_info": {
   "codemirror_mode": {
    "name": "ipython",
    "version": 3
   },
   "file_extension": ".py",
   "mimetype": "text/x-python",
   "name": "python",
   "nbconvert_exporter": "python",
   "pygments_lexer": "ipython3",
   "version": "3.8.5"
  }
 },
 "nbformat": 4,
 "nbformat_minor": 4
}
