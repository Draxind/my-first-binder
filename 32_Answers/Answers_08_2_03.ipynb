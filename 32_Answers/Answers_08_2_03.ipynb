{
 "cells": [
  {
   "cell_type": "markdown",
   "metadata": {},
   "source": [
    "#### Exercise 8.2.3 answer"
   ]
  },
  {
   "cell_type": "code",
   "execution_count": 1,
   "metadata": {
    "execution": {
     "iopub.execute_input": "2021-09-10T16:08:54.962959Z",
     "iopub.status.busy": "2021-09-10T16:08:54.962355Z",
     "iopub.status.idle": "2021-09-10T16:08:54.965056Z",
     "shell.execute_reply": "2021-09-10T16:08:54.965706Z"
    }
   },
   "outputs": [],
   "source": [
    "%run -i ../m269_util\n",
    "\n",
    "def invert(original: dict) -> dict:\n",
    "    inverted = dict()\n",
    "    for (word, translations) in original.items():\n",
    "        for translation in translations:\n",
    "            if translation not in inverted:\n",
    "                inverted[translation] = [word]\n",
    "            else:\n",
    "                inverted[translation].append(word)\n",
    "    return inverted"
   ]
  }
 ],
 "metadata": {
  "kernelspec": {
   "display_name": "Python 3",
   "language": "python",
   "name": "python3"
  },
  "language_info": {
   "codemirror_mode": {
    "name": "ipython",
    "version": 3
   },
   "file_extension": ".py",
   "mimetype": "text/x-python",
   "name": "python",
   "nbconvert_exporter": "python",
   "pygments_lexer": "ipython3",
   "version": "3.8.5"
  }
 },
 "nbformat": 4,
 "nbformat_minor": 4
}
