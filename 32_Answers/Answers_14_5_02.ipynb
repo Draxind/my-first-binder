{
 "cells": [
  {
   "cell_type": "markdown",
   "metadata": {},
   "source": [
    "#### Exercise 14.5.2 answer"
   ]
  },
  {
   "cell_type": "markdown",
   "metadata": {},
   "source": [
    "Slicing or merging each half takes Θ(_n_ / 2) and\n",
    "sorting each half takes T(_n_ / 2), so the recursive definition is:\n",
    "\n",
    "- if _n_ < 2: T(_n_) = Θ(1)\n",
    "- if _n_ ≥ 2: T(_n_)\n",
    "  = 2×Θ(_n_ / 2) + 2×T(_n_ / 2) + 2×Θ(_n_ / 2)\n",
    "  = 2×T(_n_ / 2) + Θ(_n_).\n",
    "\n",
    "This form of definition leads to T(_n_) = Θ(_n_ log _n_),\n",
    "confirming our informal analysis."
   ]
  }
 ],
 "metadata": {
  "kernelspec": {
   "display_name": "Python 3",
   "language": "python",
   "name": "python3"
  },
  "language_info": {
   "codemirror_mode": {
    "name": "ipython",
    "version": 3
   },
   "file_extension": ".py",
   "mimetype": "text/x-python",
   "name": "python",
   "nbconvert_exporter": "python",
   "pygments_lexer": "ipython3",
   "version": "3.8.5"
  }
 },
 "nbformat": 4,
 "nbformat_minor": 4
}
