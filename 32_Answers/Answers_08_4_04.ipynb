{
 "cells": [
  {
   "cell_type": "markdown",
   "metadata": {},
   "source": [
    "#### Exercise 8.4.4 answer"
   ]
  },
  {
   "cell_type": "markdown",
   "metadata": {},
   "source": [
    "The algorithm keeps a set of the schools which already have a certificate.\n",
    "If a team's school isn't in that set, then the team gets a certificate\n",
    "and the school is added to the set."
   ]
  },
  {
   "cell_type": "code",
   "execution_count": 1,
   "metadata": {
    "execution": {
     "iopub.execute_input": "2021-09-10T16:09:29.633199Z",
     "iopub.status.busy": "2021-09-10T16:09:29.632404Z",
     "iopub.status.idle": "2021-09-10T16:09:29.634015Z",
     "shell.execute_reply": "2021-09-10T16:09:29.634463Z"
    }
   },
   "outputs": [],
   "source": [
    "def certificates(ranking: list) -> list:\n",
    "    best_teams = []\n",
    "    awarded_schools = set()\n",
    "    for team in ranking:\n",
    "        school = team[0:-1]\n",
    "        if school not in awarded_schools:\n",
    "            awarded_schools.add(school)\n",
    "            best_teams.append(team)\n",
    "    return best_teams\n",
    "\n",
    "certificates_tests = [\n",
    "    # case,         ranking,                    certificates\n",
    "    ('3 schools',   ['C1','B2','B1','A1','C2'], ['C1','B2','A1']),\n",
    "    # new tests:\n",
    "    ('1 team',      ['A1'],                     ['A1']),\n",
    "    ('1 school',    ['C3', 'C1', 'C2'],         ['C3']),\n",
    "    ('1 team per school', ['C1', 'B1', 'A1'],   ['C1', 'B1', 'A1'])\n",
    "]"
   ]
  },
  {
   "cell_type": "markdown",
   "metadata": {
    "tags": [
     "INFO"
    ]
   },
   "source": [
    "<div class=\"alert alert-info\">\n",
    "<strong>Info:</strong> This exercise is based on Kattis problem\n",
    "<a href=\"https://open.kattis.com/problems/icpcawards\">ICPC Awards</a>.\n",
    "</div>"
   ]
  }
 ],
 "metadata": {
  "kernelspec": {
   "display_name": "Python 3",
   "language": "python",
   "name": "python3"
  },
  "language_info": {
   "codemirror_mode": {
    "name": "ipython",
    "version": 3
   },
   "file_extension": ".py",
   "mimetype": "text/x-python",
   "name": "python",
   "nbconvert_exporter": "python",
   "pygments_lexer": "ipython3",
   "version": "3.8.5"
  }
 },
 "nbformat": 4,
 "nbformat_minor": 4
}
