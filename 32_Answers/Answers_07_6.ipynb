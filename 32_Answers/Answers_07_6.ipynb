{
 "cells": [
  {
   "cell_type": "markdown",
   "metadata": {},
   "source": [
    "### 18.6.6 Priority queues"
   ]
  },
  {
   "cell_type": "markdown",
   "metadata": {
    "nbsphinx-toctree": {
     "hidden": true,
     "maxdepth": 1,
     "numbered": false
    }
   },
   "source": [
    "1. [Exercise 7.6.1 answer](Answers_07_6_01.ipynb)\n",
    "1. [Exercise 7.6.2 answer](Answers_07_6_02.ipynb)\n",
    "1. [Exercise 7.6.3 answer](Answers_07_6_03.ipynb)\n",
    "1. [Exercise 7.6.4 answer](Answers_07_6_04.ipynb)\n",
    "1. [Exercise 7.6.5 answer](Answers_07_6_05.ipynb)\n",
    "1. [Exercise 7.6.6 answer](Answers_07_6_06.ipynb)\n",
    "1. [Exercise 7.6.8 answer](Answers_07_6_08.ipynb)\n",
    "1. [Exercise 7.6.9 answer](Answers_07_6_09.ipynb)"
   ]
  },
  {
   "cell_type": "markdown",
   "metadata": {},
   "source": [
    "⟵ [Previous section](Answers_06.ipynb) | [Up](32-introduction.ipynb) | [Next section](Answers_08.ipynb) ⟶"
   ]
  }
 ],
 "metadata": {
  "kernelspec": {
   "display_name": "Python 3",
   "language": "python",
   "name": "python3"
  },
  "language_info": {
   "codemirror_mode": {
    "name": "ipython",
    "version": 3
   },
   "file_extension": ".py",
   "mimetype": "text/x-python",
   "name": "python",
   "nbconvert_exporter": "python",
   "pygments_lexer": "ipython3",
   "version": "3.8.5"
  }
 },
 "nbformat": 4,
 "nbformat_minor": 4
}
