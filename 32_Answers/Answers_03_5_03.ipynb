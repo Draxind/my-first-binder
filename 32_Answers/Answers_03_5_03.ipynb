{
 "cells": [
  {
   "cell_type": "markdown",
   "metadata": {},
   "source": [
    "#### Exercise 3.5.3 answer"
   ]
  },
  {
   "cell_type": "markdown",
   "metadata": {},
   "source": [
    "1. let _make calls_ be (not _flight mode_) and (_signal_ ≥ 2)\n",
    "\n",
    "Since the algorithm has a single step, it's not necessary to number it.\n",
    "A 'stop' instruction at the end is unnecessary too:\n",
    "an algorithm stops if it has no more instructions to execute."
   ]
  }
 ],
 "metadata": {
  "kernelspec": {
   "display_name": "Python 3",
   "language": "python",
   "name": "python3"
  },
  "language_info": {
   "codemirror_mode": {
    "name": "ipython",
    "version": 3
   },
   "file_extension": ".py",
   "mimetype": "text/x-python",
   "name": "python",
   "nbconvert_exporter": "python",
   "pygments_lexer": "ipython3",
   "version": "3.8.5"
  }
 },
 "nbformat": 4,
 "nbformat_minor": 4
}
