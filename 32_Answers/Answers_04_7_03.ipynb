{
 "cells": [
  {
   "cell_type": "markdown",
   "metadata": {},
   "source": [
    "#### Exercise 4.7.3 answer"
   ]
  },
  {
   "cell_type": "code",
   "execution_count": 1,
   "metadata": {
    "execution": {
     "iopub.execute_input": "2021-09-10T16:05:41.376988Z",
     "iopub.status.busy": "2021-09-10T16:05:41.376289Z",
     "iopub.status.idle": "2021-09-10T16:05:41.379168Z",
     "shell.execute_reply": "2021-09-10T16:05:41.379618Z"
    }
   },
   "outputs": [
    {
     "name": "stdout",
     "output_type": "stream",
     "text": [
      "Tests finished.\n"
     ]
    }
   ],
   "source": [
    "reversed_list_tests = [\n",
    "    # case,             values,             reversed\n",
    "    ('empty list',      [],                 []              ),\n",
    "    ('length 1',        [4],                [4]             ),\n",
    "    ('length 2',        [5, True],          [True, 5]       ),\n",
    "    ('length 5',        [5, 6, 7, 8, 9],    [9, 8, 7, 6, 5] ),\n",
    "    ('same items',      [0, 0, 0],          [0, 0, 0]       )\n",
    "]\n",
    "\n",
    "def reversed_list_2(values: list) -> list:\n",
    "    \"\"\"Return the same items as values, in inverse order.\n",
    "\n",
    "    This is a more efficient version of reversed_list.\n",
    "    Postconditions: the output is\n",
    "    [values[-1], values [-2], ..., values[1], values[0]]\n",
    "    \"\"\"\n",
    "    reversed = []\n",
    "    for index in range(len(values)-1, -1, -1):\n",
    "        reversed.append(values[index])\n",
    "    return reversed\n",
    "\n",
    "%run -i ../m269_util\n",
    "test(reversed_list_2, reversed_list_tests)"
   ]
  }
 ],
 "metadata": {
  "kernelspec": {
   "display_name": "Python 3",
   "language": "python",
   "name": "python3"
  },
  "language_info": {
   "codemirror_mode": {
    "name": "ipython",
    "version": 3
   },
   "file_extension": ".py",
   "mimetype": "text/x-python",
   "name": "python",
   "nbconvert_exporter": "python",
   "pygments_lexer": "ipython3",
   "version": "3.8.5"
  }
 },
 "nbformat": 4,
 "nbformat_minor": 4
}
