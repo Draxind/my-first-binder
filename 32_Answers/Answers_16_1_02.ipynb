{
 "cells": [
  {
   "cell_type": "markdown",
   "metadata": {},
   "source": [
    "#### Exercise 16.1.2 answer"
   ]
  },
  {
   "cell_type": "code",
   "execution_count": 1,
   "metadata": {
    "execution": {
     "iopub.execute_input": "2021-09-10T16:16:34.777415Z",
     "iopub.status.busy": "2021-09-10T16:16:34.776870Z",
     "iopub.status.idle": "2021-09-10T16:16:34.779648Z",
     "shell.execute_reply": "2021-09-10T16:16:34.780317Z"
    }
   },
   "outputs": [],
   "source": [
    "%run -i ../m269_tree\n",
    "\n",
    "MTP = join('-', join('*', join('+', THREE, FOUR), FIVE), SIX) # ((3+4)*5)-6"
   ]
  }
 ],
 "metadata": {
  "kernelspec": {
   "display_name": "Python 3",
   "language": "python",
   "name": "python3"
  },
  "language_info": {
   "codemirror_mode": {
    "name": "ipython",
    "version": 3
   },
   "file_extension": ".py",
   "mimetype": "text/x-python",
   "name": "python",
   "nbconvert_exporter": "python",
   "pygments_lexer": "ipython3",
   "version": "3.8.5"
  }
 },
 "nbformat": 4,
 "nbformat_minor": 4
}
