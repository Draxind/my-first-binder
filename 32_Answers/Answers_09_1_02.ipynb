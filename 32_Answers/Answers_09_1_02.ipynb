{
 "cells": [
  {
   "cell_type": "markdown",
   "metadata": {},
   "source": [
    "#### Exercise 9.1.2 answer"
   ]
  },
  {
   "cell_type": "markdown",
   "metadata": {},
   "source": [
    "A straightforward algorithm checks whether each letter from 'a' to 'z'\n",
    "occurs in _text_. If not, it's appended to _missing_, which starts empty.\n",
    "\n",
    "1. let _missing_ be the empty string\n",
    "2. for each _letter_ in 'abc...xyz':\n",
    "   1. if _letter_ isn't in _text_:\n",
    "      1. let _missing_ be the concatenation of _missing_ and _letter_\n",
    "\n",
    "Step&nbsp;2.1 does a linear search over the whole text for each letter.\n",
    "The order and frequency of the characters in _text_ don't matter,\n",
    "so the appropriate data type to represent the text is a set.\n",
    "This reduces _text_ to its unique characters,\n",
    "i.e. a much smaller collection in the typical case,\n",
    "making step&nbsp;2.1 more efficient.\n",
    "\n",
    "1. let _missing_ be the empty string\n",
    "2. let _occurring_ be the set of characters in _text_\n",
    "2. for each _letter_ in 'abc...xyz':\n",
    "   1. if _letter_ isn't in _occurring_:\n",
    "      1. let _missing_ be the concatenation of _missing_ and _letter_\n",
    "\n",
    "This makes me think of a second algorithm that uses set operations to directly\n",
    "compute the missing letters.\n",
    "The resulting set must be converted to a sorted string.\n",
    "\n",
    "1. let _occurring_ be the set of characters in _text_\n",
    "1. let _all_ be the set of letters from 'a' to 'z'\n",
    "1. let _absent_ be _all_ − _occurring_\n",
    "1. let _ordered_ be _absent_ as a sorted list\n",
    "1. let _missing_ be the empty string\n",
    "1. for each _letter_ in _ordered_:\n",
    "   1. let _missing_ be the concatenation of _missing_ and _letter_\n",
    "\n",
    "Step&nbsp;4 can be implemented with Python's `sorted` function."
   ]
  }
 ],
 "metadata": {
  "kernelspec": {
   "display_name": "Python 3",
   "language": "python",
   "name": "python3"
  },
  "language_info": {
   "codemirror_mode": {
    "name": "ipython",
    "version": 3
   },
   "file_extension": ".py",
   "mimetype": "text/x-python",
   "name": "python",
   "nbconvert_exporter": "python",
   "pygments_lexer": "ipython3",
   "version": "3.8.5"
  }
 },
 "nbformat": 4,
 "nbformat_minor": 4
}
