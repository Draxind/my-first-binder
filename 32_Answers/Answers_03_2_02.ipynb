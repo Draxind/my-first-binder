{
 "cells": [
  {
   "cell_type": "markdown",
   "metadata": {},
   "source": [
    "#### Exercise 3.2.2 answer"
   ]
  },
  {
   "cell_type": "code",
   "execution_count": 1,
   "metadata": {
    "execution": {
     "iopub.execute_input": "2021-09-10T16:02:57.668004Z",
     "iopub.status.busy": "2021-09-10T16:02:57.667368Z",
     "iopub.status.idle": "2021-09-10T16:02:57.669357Z",
     "shell.execute_reply": "2021-09-10T16:02:57.669852Z"
    }
   },
   "outputs": [],
   "source": [
    "def internet_connection(in_flight_mode: bool,\n",
    "                        wifi_on: bool,\n",
    "                        data_on: bool) -> bool:\n",
    "    \"\"\"Return whether there's a connection to the Internet.\n",
    "\n",
    "    Postconditions: the output is true if and only if\n",
    "    (not in_flight_mode) and (wifi_on or data_on)\n",
    "    \"\"\"\n",
    "    internet_on = (not in_flight_mode) and (wifi_on or data_on)\n",
    "    return internet_on"
   ]
  },
  {
   "cell_type": "code",
   "execution_count": 2,
   "metadata": {
    "execution": {
     "iopub.execute_input": "2021-09-10T16:02:57.679486Z",
     "iopub.status.busy": "2021-09-10T16:02:57.678740Z",
     "iopub.status.idle": "2021-09-10T16:02:57.681624Z",
     "shell.execute_reply": "2021-09-10T16:02:57.682170Z"
    }
   },
   "outputs": [
    {
     "data": {
      "text/plain": [
       "False"
      ]
     },
     "execution_count": 1,
     "metadata": {},
     "output_type": "execute_result"
    }
   ],
   "source": [
    "internet_connection(True, True, False)"
   ]
  },
  {
   "cell_type": "code",
   "execution_count": 3,
   "metadata": {
    "execution": {
     "iopub.execute_input": "2021-09-10T16:02:57.685321Z",
     "iopub.status.busy": "2021-09-10T16:02:57.684820Z",
     "iopub.status.idle": "2021-09-10T16:02:57.686928Z",
     "shell.execute_reply": "2021-09-10T16:02:57.687374Z"
    }
   },
   "outputs": [
    {
     "data": {
      "text/plain": [
       "False"
      ]
     },
     "execution_count": 1,
     "metadata": {},
     "output_type": "execute_result"
    }
   ],
   "source": [
    "internet_connection(True, False, True)"
   ]
  },
  {
   "cell_type": "code",
   "execution_count": 4,
   "metadata": {
    "execution": {
     "iopub.execute_input": "2021-09-10T16:02:57.690155Z",
     "iopub.status.busy": "2021-09-10T16:02:57.689542Z",
     "iopub.status.idle": "2021-09-10T16:02:57.691799Z",
     "shell.execute_reply": "2021-09-10T16:02:57.692436Z"
    }
   },
   "outputs": [
    {
     "data": {
      "text/plain": [
       "False"
      ]
     },
     "execution_count": 1,
     "metadata": {},
     "output_type": "execute_result"
    }
   ],
   "source": [
    "internet_connection(True, False, False)"
   ]
  }
 ],
 "metadata": {
  "kernelspec": {
   "display_name": "Python 3",
   "language": "python",
   "name": "python3"
  },
  "language_info": {
   "codemirror_mode": {
    "name": "ipython",
    "version": 3
   },
   "file_extension": ".py",
   "mimetype": "text/x-python",
   "name": "python",
   "nbconvert_exporter": "python",
   "pygments_lexer": "ipython3",
   "version": "3.8.5"
  }
 },
 "nbformat": 4,
 "nbformat_minor": 4
}
