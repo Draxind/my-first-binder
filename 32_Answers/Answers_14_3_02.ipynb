{
 "cells": [
  {
   "cell_type": "markdown",
   "metadata": {},
   "source": [
    "#### Exercise 14.3.2 answer"
   ]
  },
  {
   "cell_type": "markdown",
   "metadata": {},
   "source": [
    "There are no shifts if the sequence is ordered and\n",
    "there's the maximum number of shifts if it's in reverse order. Any ascending\n",
    "[substring](../04_Iteration/04_1_sequences.ipynb#4.1.2-Creating-sequences) won't trigger any shifts,\n",
    "so the more sorted the input is, the fewer shifts are done.\n",
    "The algorithm is adaptive."
   ]
  }
 ],
 "metadata": {
  "kernelspec": {
   "display_name": "Python 3",
   "language": "python",
   "name": "python3"
  },
  "language_info": {
   "codemirror_mode": {
    "name": "ipython",
    "version": 3
   },
   "file_extension": ".py",
   "mimetype": "text/x-python",
   "name": "python",
   "nbconvert_exporter": "python",
   "pygments_lexer": "ipython3",
   "version": "3.8.5"
  }
 },
 "nbformat": 4,
 "nbformat_minor": 4
}
