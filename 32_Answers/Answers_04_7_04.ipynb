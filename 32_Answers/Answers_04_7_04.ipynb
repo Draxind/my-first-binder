{
 "cells": [
  {
   "cell_type": "markdown",
   "metadata": {},
   "source": [
    "#### Exercise 4.7.4 answer"
   ]
  },
  {
   "cell_type": "markdown",
   "metadata": {},
   "source": [
    "Strings can't be modified, so appending is replaced by concatenation.\n",
    "\n",
    "1. let _reversed_ be the empty string\n",
    "2. for each _index_ from │*values*│ - 1 down to 0:\n",
    "   1. let _reversed_ be _reversed_ + _values_[*index*]\n",
    "\n",
    "If you want additional practice, then create a new test table, copy\n",
    "the `reversed_list_2` function, rename it to `reversed_string`,\n",
    "change the header, docstring and body as necessary, and test it."
   ]
  }
 ],
 "metadata": {
  "kernelspec": {
   "display_name": "Python 3",
   "language": "python",
   "name": "python3"
  },
  "language_info": {
   "codemirror_mode": {
    "name": "ipython",
    "version": 3
   },
   "file_extension": ".py",
   "mimetype": "text/x-python",
   "name": "python",
   "nbconvert_exporter": "python",
   "pygments_lexer": "ipython3",
   "version": "3.8.5"
  }
 },
 "nbformat": 4,
 "nbformat_minor": 4
}
