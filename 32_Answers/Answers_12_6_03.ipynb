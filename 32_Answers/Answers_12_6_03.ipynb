{
 "cells": [
  {
   "cell_type": "markdown",
   "metadata": {},
   "source": [
    "#### Exercise 12.6.3 answer"
   ]
  },
  {
   "cell_type": "code",
   "execution_count": 1,
   "metadata": {
    "execution": {
     "iopub.execute_input": "2021-09-10T16:14:22.601203Z",
     "iopub.status.busy": "2021-09-10T16:14:22.600684Z",
     "iopub.status.idle": "2021-09-10T16:14:22.602348Z",
     "shell.execute_reply": "2021-09-10T16:14:22.602808Z"
    }
   },
   "outputs": [],
   "source": [
    "def maximum(numbers: list) -> int:\n",
    "    \"\"\"Return the largest number in numbers.\n",
    "\n",
    "    Preconditions: numbers is a non-empty list of integers\n",
    "    \"\"\"\n",
    "    def in_slice(start: int, end: int) -> int:\n",
    "        \"\"\"Return the largest integer in slice numbers[start:end].\n",
    "\n",
    "        Preconditions: 0 <= start < end <= len(items)\n",
    "        \"\"\"\n",
    "        if start + 1 == end:\n",
    "            return numbers[start]\n",
    "        else:\n",
    "            return max(numbers[start], in_slice(start+1, end))\n",
    "\n",
    "    return in_slice(0, len(numbers))"
   ]
  }
 ],
 "metadata": {
  "kernelspec": {
   "display_name": "Python 3",
   "language": "python",
   "name": "python3"
  },
  "language_info": {
   "codemirror_mode": {
    "name": "ipython",
    "version": 3
   },
   "file_extension": ".py",
   "mimetype": "text/x-python",
   "name": "python",
   "nbconvert_exporter": "python",
   "pygments_lexer": "ipython3",
   "version": "3.8.5"
  }
 },
 "nbformat": 4,
 "nbformat_minor": 4
}
