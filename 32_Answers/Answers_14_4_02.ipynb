{
 "cells": [
  {
   "cell_type": "markdown",
   "metadata": {},
   "source": [
    "#### Exercise 14.4.2 answer"
   ]
  },
  {
   "cell_type": "markdown",
   "metadata": {},
   "source": [
    "Step&nbsp;1.2 takes constant time and hence can be ignored for analysis purposes.\n",
    "Like insertion sort, selection sort does _n_ − 1 linear searches and hence is\n",
    "also quadratic. To be precise, step&nbsp;1.1 first searches among _n_ items,\n",
    "then among _n_−1, then among _n_−2, and so on until only searching two items.\n",
    "As we've seen before, 2 + ... + _n_ = (*n*² + _n_) / 2 – 1."
   ]
  }
 ],
 "metadata": {
  "kernelspec": {
   "display_name": "Python 3",
   "language": "python",
   "name": "python3"
  },
  "language_info": {
   "codemirror_mode": {
    "name": "ipython",
    "version": 3
   },
   "file_extension": ".py",
   "mimetype": "text/x-python",
   "name": "python",
   "nbconvert_exporter": "python",
   "pygments_lexer": "ipython3",
   "version": "3.8.5"
  }
 },
 "nbformat": 4,
 "nbformat_minor": 4
}
