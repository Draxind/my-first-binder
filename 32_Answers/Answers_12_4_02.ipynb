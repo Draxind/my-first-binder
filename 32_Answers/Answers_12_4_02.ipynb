{
 "cells": [
  {
   "cell_type": "markdown",
   "metadata": {},
   "source": [
    "#### Exercise 12.4.2 answer"
   ]
  },
  {
   "cell_type": "markdown",
   "metadata": {},
   "source": [
    "The answers to the usual two questions are:\n",
    "\n",
    "1. The smallest input is the empty sequence and the output is true.\n",
    "2. Sequence S is ascending if the tail is ascending and if the head is smaller than\n",
    "   the next number, which is the head of the tail.\n",
    "\n",
    "I can only compare a number to the next one if there are at least two in the\n",
    "sequence, so I need to handle the cases of zero and one items separately,\n",
    "as base cases.\n",
    "\n",
    "- if _numbers_ is empty: ascending(_numbers_) = true\n",
    "- if length(_numbers_) is 1: ascending(_numbers_) = true\n",
    "- if length(_numbers_) > 1: ascending(_numbers_) = ascending(tail(_numbers_)) and head(_numbers_) < head(tail(_numbers_)).\n",
    "\n",
    "The output is the same for both base cases, so they can be merged into one:\n",
    "\n",
    "- if length(_numbers_) ≤ 1: ascending(_numbers_) = true\n",
    "- if length(_numbers_) > 1: ascending(_numbers_) = ascending(tail(_numbers_)) and head(_numbers_) < head(tail(_numbers_)).\n",
    "\n",
    "A tail-recursive definition is also possible, by adding a second base case:\n",
    "\n",
    "- if length(_numbers_) ≤ 1: ascending(_numbers_) = true\n",
    "- otherwise if head(_numbers_) ≥ head(tail(_numbers_)): ascending(_numbers_) = false\n",
    "- otherwise: ascending(_numbers_) = ascending(tail(_numbers_))."
   ]
  }
 ],
 "metadata": {
  "kernelspec": {
   "display_name": "Python 3",
   "language": "python",
   "name": "python3"
  },
  "language_info": {
   "codemirror_mode": {
    "name": "ipython",
    "version": 3
   },
   "file_extension": ".py",
   "mimetype": "text/x-python",
   "name": "python",
   "nbconvert_exporter": "python",
   "pygments_lexer": "ipython3",
   "version": "3.8.5"
  }
 },
 "nbformat": 4,
 "nbformat_minor": 4
}
