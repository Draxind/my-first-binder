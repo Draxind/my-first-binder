{
 "cells": [
  {
   "cell_type": "markdown",
   "metadata": {},
   "source": [
    "#### Exercise 9.1.3 answer"
   ]
  },
  {
   "cell_type": "markdown",
   "metadata": {},
   "source": [
    "The shortest output (_missing_ is the empty string) occurs when\n",
    "_text_ is a pangram.\n",
    "The longest output (_missing_ is the string 'abc..xyz') occurs when\n",
    "_text_ hasn't any of 'a' to 'z'.\n",
    "However, creating a string of at most 26 characters\n",
    "takes constant time, so the length of the output doesn't affect the complexity.\n",
    "\n",
    "My first algorithm always does 26 linear searches over the string _text_:\n",
    "in the best case it has constant complexity\n",
    "(when all letters occur in the first 26 positions of _text_)\n",
    "and in the worst case it has complexity Θ(│*text*│).\n",
    "\n",
    "My second algorithm first goes through _text_ to create a set of its characters:\n",
    "this has complexity Θ(│*text*│).\n",
    "Then it executes 26 membership operations on that set, which take constant time.\n",
    "\n",
    "My third algorithm first creates two sets, one with the 26 lowercase letters,\n",
    "the other with _text_'s characters: this has complexity Θ(│*text*│).\n",
    "All the remaining operations (set difference, sorting, constructing _missing_)\n",
    "take constant time: they handle at most 26 letters.\n",
    "\n",
    "To sum up, the first algorithm has constant complexity in the best case and\n",
    "linear complexity in the worst case.\n",
    "The other two algorithms always have linear complexity."
   ]
  }
 ],
 "metadata": {
  "kernelspec": {
   "display_name": "Python 3",
   "language": "python",
   "name": "python3"
  },
  "language_info": {
   "codemirror_mode": {
    "name": "ipython",
    "version": 3
   },
   "file_extension": ".py",
   "mimetype": "text/x-python",
   "name": "python",
   "nbconvert_exporter": "python",
   "pygments_lexer": "ipython3",
   "version": "3.8.5"
  }
 },
 "nbformat": 4,
 "nbformat_minor": 4
}
