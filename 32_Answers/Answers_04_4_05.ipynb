{
 "cells": [
  {
   "cell_type": "markdown",
   "metadata": {},
   "source": [
    "#### Exercise 4.4.5 answer"
   ]
  },
  {
   "cell_type": "markdown",
   "metadata": {},
   "source": [
    "Here's the more efficient version. I simplified the code slightly.\n",
    "I don't write the postconditions explicitly in the docstring:\n",
    "they're already captured by the description."
   ]
  },
  {
   "cell_type": "code",
   "execution_count": 1,
   "metadata": {
    "execution": {
     "iopub.execute_input": "2021-09-10T16:05:05.588006Z",
     "iopub.status.busy": "2021-09-10T16:05:05.587422Z",
     "iopub.status.idle": "2021-09-10T16:05:05.589158Z",
     "shell.execute_reply": "2021-09-10T16:05:05.589605Z"
    }
   },
   "outputs": [],
   "source": [
    "def valid_password(password: str) -> bool:\n",
    "    \"\"\"Return whether password has a digit and a lowercase letter.\"\"\"\n",
    "    has_letter = False\n",
    "    has_digit = False\n",
    "    for character in password:\n",
    "        if '0' <= character <= '9':\n",
    "            has_digit = True\n",
    "        if 'a' <= character <= 'z':\n",
    "            has_letter = True\n",
    "        if has_letter and has_digit:\n",
    "            return True\n",
    "    return False"
   ]
  },
  {
   "cell_type": "markdown",
   "metadata": {},
   "source": [
    "I also simplify the tests: `b == True` is equivalent to `b`,\n",
    "and `b == False` is equivalent to `not b` for Boolean `b`."
   ]
  },
  {
   "cell_type": "code",
   "execution_count": 2,
   "metadata": {
    "execution": {
     "iopub.execute_input": "2021-09-10T16:05:05.596438Z",
     "iopub.status.busy": "2021-09-10T16:05:05.595750Z",
     "iopub.status.idle": "2021-09-10T16:05:05.598588Z",
     "shell.execute_reply": "2021-09-10T16:05:05.599375Z"
    }
   },
   "outputs": [
    {
     "data": {
      "text/plain": [
       "True"
      ]
     },
     "execution_count": 1,
     "metadata": {},
     "output_type": "execute_result"
    }
   ],
   "source": [
    "not valid_password('')"
   ]
  },
  {
   "cell_type": "code",
   "execution_count": 3,
   "metadata": {
    "execution": {
     "iopub.execute_input": "2021-09-10T16:05:05.602240Z",
     "iopub.status.busy": "2021-09-10T16:05:05.601705Z",
     "iopub.status.idle": "2021-09-10T16:05:05.603626Z",
     "shell.execute_reply": "2021-09-10T16:05:05.604099Z"
    }
   },
   "outputs": [
    {
     "data": {
      "text/plain": [
       "True"
      ]
     },
     "execution_count": 1,
     "metadata": {},
     "output_type": "execute_result"
    }
   ],
   "source": [
    "valid_password('a5')"
   ]
  },
  {
   "cell_type": "code",
   "execution_count": 4,
   "metadata": {
    "execution": {
     "iopub.execute_input": "2021-09-10T16:05:05.607188Z",
     "iopub.status.busy": "2021-09-10T16:05:05.606639Z",
     "iopub.status.idle": "2021-09-10T16:05:05.609062Z",
     "shell.execute_reply": "2021-09-10T16:05:05.609697Z"
    }
   },
   "outputs": [
    {
     "data": {
      "text/plain": [
       "True"
      ]
     },
     "execution_count": 1,
     "metadata": {},
     "output_type": "execute_result"
    }
   ],
   "source": [
    "not valid_password('MK 01908')"
   ]
  },
  {
   "cell_type": "code",
   "execution_count": 5,
   "metadata": {
    "execution": {
     "iopub.execute_input": "2021-09-10T16:05:05.612485Z",
     "iopub.status.busy": "2021-09-10T16:05:05.611973Z",
     "iopub.status.idle": "2021-09-10T16:05:05.614130Z",
     "shell.execute_reply": "2021-09-10T16:05:05.614623Z"
    }
   },
   "outputs": [
    {
     "data": {
      "text/plain": [
       "True"
      ]
     },
     "execution_count": 1,
     "metadata": {},
     "output_type": "execute_result"
    }
   ],
   "source": [
    "not valid_password('päßword')"
   ]
  },
  {
   "cell_type": "code",
   "execution_count": 6,
   "metadata": {
    "execution": {
     "iopub.execute_input": "2021-09-10T16:05:05.617356Z",
     "iopub.status.busy": "2021-09-10T16:05:05.616807Z",
     "iopub.status.idle": "2021-09-10T16:05:05.618824Z",
     "shell.execute_reply": "2021-09-10T16:05:05.619462Z"
    }
   },
   "outputs": [
    {
     "data": {
      "text/plain": [
       "True"
      ]
     },
     "execution_count": 1,
     "metadata": {},
     "output_type": "execute_result"
    }
   ],
   "source": [
    "not valid_password('^+-/&?')"
   ]
  },
  {
   "cell_type": "code",
   "execution_count": 7,
   "metadata": {
    "execution": {
     "iopub.execute_input": "2021-09-10T16:05:05.622691Z",
     "iopub.status.busy": "2021-09-10T16:05:05.622142Z",
     "iopub.status.idle": "2021-09-10T16:05:05.624367Z",
     "shell.execute_reply": "2021-09-10T16:05:05.624871Z"
    }
   },
   "outputs": [
    {
     "data": {
      "text/plain": [
       "True"
      ]
     },
     "execution_count": 1,
     "metadata": {},
     "output_type": "execute_result"
    }
   ],
   "source": [
    "valid_password('my_P455W0RD')"
   ]
  }
 ],
 "metadata": {
  "kernelspec": {
   "display_name": "Python 3",
   "language": "python",
   "name": "python3"
  },
  "language_info": {
   "codemirror_mode": {
    "name": "ipython",
    "version": 3
   },
   "file_extension": ".py",
   "mimetype": "text/x-python",
   "name": "python",
   "nbconvert_exporter": "python",
   "pygments_lexer": "ipython3",
   "version": "3.8.5"
  }
 },
 "nbformat": 4,
 "nbformat_minor": 4
}
