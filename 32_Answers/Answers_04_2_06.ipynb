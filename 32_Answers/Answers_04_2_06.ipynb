{
 "cells": [
  {
   "cell_type": "markdown",
   "metadata": {},
   "source": [
    "#### Exercise 4.2.6 answer"
   ]
  },
  {
   "cell_type": "markdown",
   "metadata": {},
   "source": [
    "First solution:"
   ]
  },
  {
   "cell_type": "code",
   "execution_count": 1,
   "metadata": {
    "execution": {
     "iopub.execute_input": "2021-09-10T16:04:37.170214Z",
     "iopub.status.busy": "2021-09-10T16:04:37.169644Z",
     "iopub.status.idle": "2021-09-10T16:04:37.172184Z",
     "shell.execute_reply": "2021-09-10T16:04:37.172633Z"
    }
   },
   "outputs": [
    {
     "data": {
      "text/plain": [
       "'hello...hello...hello'"
      ]
     },
     "execution_count": 1,
     "metadata": {},
     "output_type": "execute_result"
    }
   ],
   "source": [
    "text = 'hello'\n",
    "times = 3\n",
    "(text + '...') * (times - 1) + text"
   ]
  },
  {
   "cell_type": "markdown",
   "metadata": {},
   "source": [
    "This works when `times` is one, because repeated concatenation produces\n",
    "the empty string when the integer operand is zero.\n",
    "\n",
    "Second solution:"
   ]
  },
  {
   "cell_type": "code",
   "execution_count": 2,
   "metadata": {
    "execution": {
     "iopub.execute_input": "2021-09-10T16:04:37.176469Z",
     "iopub.status.busy": "2021-09-10T16:04:37.175807Z",
     "iopub.status.idle": "2021-09-10T16:04:37.178160Z",
     "shell.execute_reply": "2021-09-10T16:04:37.178634Z"
    }
   },
   "outputs": [
    {
     "data": {
      "text/plain": [
       "'hello...hello...hello'"
      ]
     },
     "execution_count": 1,
     "metadata": {},
     "output_type": "execute_result"
    }
   ],
   "source": [
    "text = 'hello'\n",
    "times = 3\n",
    "((text + '...') * times)[0:-3]"
   ]
  }
 ],
 "metadata": {
  "kernelspec": {
   "display_name": "Python 3",
   "language": "python",
   "name": "python3"
  },
  "language_info": {
   "codemirror_mode": {
    "name": "ipython",
    "version": 3
   },
   "file_extension": ".py",
   "mimetype": "text/x-python",
   "name": "python",
   "nbconvert_exporter": "python",
   "pygments_lexer": "ipython3",
   "version": "3.8.5"
  }
 },
 "nbformat": 4,
 "nbformat_minor": 4
}
