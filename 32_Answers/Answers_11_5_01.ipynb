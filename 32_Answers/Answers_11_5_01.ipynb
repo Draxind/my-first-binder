{
 "cells": [
  {
   "cell_type": "markdown",
   "metadata": {},
   "source": [
    "#### Exercise 11.5.1 answer"
   ]
  },
  {
   "cell_type": "markdown",
   "metadata": {},
   "source": [
    "We generate subsets from the largest to the smallest and as soon as\n",
    "we find a feasible product, we output its number of features.\n",
    "\n",
    "1. for each _k_ from │*features*│ down to 1:\n",
    "   1. for each _k_-combination _product_ of _features_:\n",
    "      1. if feasible(_product_, _incompatible_):\n",
    "        1. let _compatible_ be _k_\n",
    "        2. stop"
   ]
  }
 ],
 "metadata": {
  "kernelspec": {
   "display_name": "Python 3",
   "language": "python",
   "name": "python3"
  },
  "language_info": {
   "codemirror_mode": {
    "name": "ipython",
    "version": 3
   },
   "file_extension": ".py",
   "mimetype": "text/x-python",
   "name": "python",
   "nbconvert_exporter": "python",
   "pygments_lexer": "ipython3",
   "version": "3.8.5"
  }
 },
 "nbformat": 4,
 "nbformat_minor": 4
}
