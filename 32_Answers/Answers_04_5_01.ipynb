{
 "cells": [
  {
   "cell_type": "markdown",
   "metadata": {},
   "source": [
    "#### Exercise 4.5.1 answer"
   ]
  },
  {
   "cell_type": "markdown",
   "metadata": {},
   "source": [
    "The table was 'rotated': the same constants can be used to index rows\n",
    "instead of columns. The row index is written first."
   ]
  },
  {
   "cell_type": "code",
   "execution_count": 1,
   "metadata": {
    "execution": {
     "iopub.execute_input": "2021-09-10T16:05:10.413464Z",
     "iopub.status.busy": "2021-09-10T16:05:10.412892Z",
     "iopub.status.idle": "2021-09-10T16:05:10.415347Z",
     "shell.execute_reply": "2021-09-10T16:05:10.415994Z"
    }
   },
   "outputs": [
    {
     "data": {
      "text/plain": [
       "9"
      ]
     },
     "execution_count": 1,
     "metadata": {},
     "output_type": "execute_result"
    }
   ],
   "source": [
    "games_by_column = (                     # each item is a column\n",
    "    ('Board game', 'Power Grid', 'Vintage', 'Pandemic'),\n",
    "    ('Rating',              10 ,        8 ,         9 ),\n",
    "    ('Owned',             True ,     True ,     False )\n",
    ")\n",
    "\n",
    "GAME = 0\n",
    "RATING = 1\n",
    "OWNED = 2\n",
    "\n",
    "games_by_column[RATING][3]"
   ]
  },
  {
   "cell_type": "markdown",
   "metadata": {},
   "source": [
    "Pandemic is the last game in the table so `games_by_column[RATING][-1]`\n",
    "is an alternative expression."
   ]
  }
 ],
 "metadata": {
  "kernelspec": {
   "display_name": "Python 3",
   "language": "python",
   "name": "python3"
  },
  "language_info": {
   "codemirror_mode": {
    "name": "ipython",
    "version": 3
   },
   "file_extension": ".py",
   "mimetype": "text/x-python",
   "name": "python",
   "nbconvert_exporter": "python",
   "pygments_lexer": "ipython3",
   "version": "3.8.5"
  }
 },
 "nbformat": 4,
 "nbformat_minor": 4
}
