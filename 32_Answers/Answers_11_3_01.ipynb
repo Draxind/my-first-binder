{
 "cells": [
  {
   "cell_type": "markdown",
   "metadata": {},
   "source": [
    "#### Exercise 11.3.1 answer"
   ]
  },
  {
   "cell_type": "markdown",
   "metadata": {},
   "source": [
    "For _product_ = 336, the algorithm will take about 76&nbsp;seconds:"
   ]
  },
  {
   "cell_type": "code",
   "execution_count": 1,
   "metadata": {
    "execution": {
     "iopub.execute_input": "2021-09-10T16:12:44.570375Z",
     "iopub.status.busy": "2021-09-10T16:12:44.569740Z",
     "iopub.status.idle": "2021-09-10T16:12:44.572215Z",
     "shell.execute_reply": "2021-09-10T16:12:44.572732Z"
    }
   },
   "outputs": [
    {
     "data": {
      "text/plain": [
       "75.866112"
      ]
     },
     "execution_count": 1,
     "metadata": {},
     "output_type": "execute_result"
    }
   ],
   "source": [
    "(2*336) ** 3 * 250 / 1e9"
   ]
  },
  {
   "cell_type": "markdown",
   "metadata": {},
   "source": [
    "For _product_ = 1320, it will take about one hour and a quarter:"
   ]
  },
  {
   "cell_type": "code",
   "execution_count": 2,
   "metadata": {
    "execution": {
     "iopub.execute_input": "2021-09-10T16:12:44.575650Z",
     "iopub.status.busy": "2021-09-10T16:12:44.575155Z",
     "iopub.status.idle": "2021-09-10T16:12:44.577084Z",
     "shell.execute_reply": "2021-09-10T16:12:44.577553Z"
    }
   },
   "outputs": [
    {
     "data": {
      "text/plain": [
       "76.6656"
      ]
     },
     "execution_count": 1,
     "metadata": {},
     "output_type": "execute_result"
    }
   ],
   "source": [
    "(2*1320) ** 3 * 250 / 1e9 / 60"
   ]
  }
 ],
 "metadata": {
  "kernelspec": {
   "display_name": "Python 3",
   "language": "python",
   "name": "python3"
  },
  "language_info": {
   "codemirror_mode": {
    "name": "ipython",
    "version": 3
   },
   "file_extension": ".py",
   "mimetype": "text/x-python",
   "name": "python",
   "nbconvert_exporter": "python",
   "pygments_lexer": "ipython3",
   "version": "3.8.5"
  }
 },
 "nbformat": 4,
 "nbformat_minor": 4
}
