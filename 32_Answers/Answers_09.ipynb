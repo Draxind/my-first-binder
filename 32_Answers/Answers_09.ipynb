{
 "cells": [
  {
   "cell_type": "markdown",
   "metadata": {},
   "source": [
    "## 18.8 Practice 1"
   ]
  },
  {
   "cell_type": "markdown",
   "metadata": {
    "nbsphinx-toctree": {
     "hidden": true,
     "maxdepth": 1,
     "numbered": false
    }
   },
   "source": [
    "1. [Pangram](Answers_09_1.ipynb)\n",
    "1. [Election](Answers_09_2.ipynb)\n",
    "1. [Voucher](Answers_09_3.ipynb)\n",
    "1. [Trains](Answers_09_4.ipynb)\n",
    "1. [Browsing](Answers_09_5.ipynb)\n",
    "1. [SMS](Answers_09_6.ipynb)"
   ]
  },
  {
   "cell_type": "markdown",
   "metadata": {},
   "source": [
    "⟵ [Previous section](Answers_08.ipynb) | [Up](32-introduction.ipynb) | [Next section](Answers_11.ipynb) ⟶"
   ]
  }
 ],
 "metadata": {
  "kernelspec": {
   "display_name": "Python 3",
   "language": "python",
   "name": "python3"
  },
  "language_info": {
   "codemirror_mode": {
    "name": "ipython",
    "version": 3
   },
   "file_extension": ".py",
   "mimetype": "text/x-python",
   "name": "python",
   "nbconvert_exporter": "python",
   "pygments_lexer": "ipython3",
   "version": "3.8.5"
  }
 },
 "nbformat": 4,
 "nbformat_minor": 4
}
