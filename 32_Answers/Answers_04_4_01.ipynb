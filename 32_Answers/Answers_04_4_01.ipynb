{
 "cells": [
  {
   "cell_type": "markdown",
   "metadata": {},
   "source": [
    "#### Exercise 4.4.1 answer"
   ]
  },
  {
   "cell_type": "markdown",
   "metadata": {},
   "source": [
    "This is one of many possible test tables.\n",
    "\n",
    "Case | _password_ | _is valid_\n",
    "-|-|-\n",
    "smallest input  | ''  | false\n",
    "smallest valid input  | 'a5'  | true\n",
    "no lowercase letters | 'MK 01908' | false\n",
    "no digits | 'päßword'  | false\n",
    "no lowercase or digits  | '^+-/&?'  | false\n",
    "both and others  | 'my_P455W0RD' |  true"
   ]
  }
 ],
 "metadata": {
  "kernelspec": {
   "display_name": "Python 3",
   "language": "python",
   "name": "python3"
  },
  "language_info": {
   "codemirror_mode": {
    "name": "ipython",
    "version": 3
   },
   "file_extension": ".py",
   "mimetype": "text/x-python",
   "name": "python",
   "nbconvert_exporter": "python",
   "pygments_lexer": "ipython3",
   "version": "3.8.5"
  }
 },
 "nbformat": 4,
 "nbformat_minor": 4
}
