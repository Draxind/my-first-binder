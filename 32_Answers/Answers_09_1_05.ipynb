{
 "cells": [
  {
   "cell_type": "markdown",
   "metadata": {},
   "source": [
    "#### Exercise 9.1.5 answer"
   ]
  },
  {
   "cell_type": "code",
   "execution_count": 1,
   "metadata": {
    "execution": {
     "iopub.execute_input": "2021-09-10T16:10:39.969302Z",
     "iopub.status.busy": "2021-09-10T16:10:39.968798Z",
     "iopub.status.idle": "2021-09-10T16:10:39.972226Z",
     "shell.execute_reply": "2021-09-10T16:10:39.972873Z"
    }
   },
   "outputs": [
    {
     "name": "stdout",
     "output_type": "stream",
     "text": [
      "Tests finished.\n"
     ]
    }
   ],
   "source": [
    "%run -i ../m269_util\n",
    "\n",
    "LETTERS = 'abcdefghijklmnopqrstuvwxyz'\n",
    "\n",
    "def missing_letters(text: str) -> str:\n",
    "    \"\"\"Return all English alphabet letters that aren't in text.\n",
    "\n",
    "    Preconditions: all letters in text are lowercase\n",
    "    Postconditions: the output are the letters from a to z that\n",
    "    don't occur in text, in alphabetical order\n",
    "    \"\"\"\n",
    "    occurring = set(text)\n",
    "    missing = ''\n",
    "    for letter in LETTERS:\n",
    "        if letter not in occurring:\n",
    "            missing = missing + letter\n",
    "    return missing\n",
    "\n",
    "PANGRAM = 'The quick brown fox jumps over the lazy dog.'\n",
    "\n",
    "missing_letters_tests = [\n",
    "    # case,         text,                           missing\n",
    "    ['pangram',     PANGRAM,                        ''],\n",
    "    ['no vowels',   'bcd fgh jklmn pqrst vwxyz',    'aeiou'],\n",
    "    # new tests:\n",
    "    ['no text',     '',                             LETTERS],\n",
    "    ['no a-z',      'TEL: 01908...',                LETTERS]\n",
    "]\n",
    "\n",
    "test(missing_letters, missing_letters_tests)"
   ]
  }
 ],
 "metadata": {
  "kernelspec": {
   "display_name": "Python 3",
   "language": "python",
   "name": "python3"
  },
  "language_info": {
   "codemirror_mode": {
    "name": "ipython",
    "version": 3
   },
   "file_extension": ".py",
   "mimetype": "text/x-python",
   "name": "python",
   "nbconvert_exporter": "python",
   "pygments_lexer": "ipython3",
   "version": "3.8.5"
  }
 },
 "nbformat": 4,
 "nbformat_minor": 4
}
