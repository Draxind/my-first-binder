{
 "cells": [
  {
   "cell_type": "markdown",
   "metadata": {},
   "source": [
    "#### Exercise 8.6.1 answer"
   ]
  },
  {
   "cell_type": "markdown",
   "metadata": {},
   "source": [
    "As usual, sequences with zero and one items are edge cases,\n",
    "and so are having to delete no item or all items.\n",
    "\n",
    "Case | _left_ | _right_ | Deletions\n",
    ":-|:-|:-|:-\n",
    "some overlap  | (1, 2, 3, 2)  | (3, 2, 2, 5)  |  2\n",
    "one common  | ('a', 'man', 'a', 'plan')  | ('a', 'canal')  |  4\n",
    "empty sequence | () | () | 0\n",
    "single item, no deletion  | ( 1 )  | ( 1 )  |  0\n",
    "single item, 2 deletions  | ( 1 )  | (-1)  |  2\n",
    "permutation: no deletions  | (1, 2, 3)  | (3, 2, 1)  |  0\n",
    "all deleted  | (1, 2, 3)  | (4, 5, 6)  |  6"
   ]
  }
 ],
 "metadata": {
  "kernelspec": {
   "display_name": "Python 3",
   "language": "python",
   "name": "python3"
  },
  "language_info": {
   "codemirror_mode": {
    "name": "ipython",
    "version": 3
   },
   "file_extension": ".py",
   "mimetype": "text/x-python",
   "name": "python",
   "nbconvert_exporter": "python",
   "pygments_lexer": "ipython3",
   "version": "3.8.5"
  }
 },
 "nbformat": 4,
 "nbformat_minor": 4
}
