{
 "cells": [
  {
   "cell_type": "markdown",
   "metadata": {},
   "source": [
    "## 18.10 Recursion"
   ]
  },
  {
   "cell_type": "markdown",
   "metadata": {
    "nbsphinx-toctree": {
     "hidden": true,
     "maxdepth": 1,
     "numbered": false
    }
   },
   "source": [
    "1. [Recursion on integers](Answers_12_2.ipynb)\n",
    "1. [Length of a sequence](Answers_12_3.ipynb)\n",
    "1. [Inspecting sequences](Answers_12_4.ipynb)\n",
    "1. [Creating sequences](Answers_12_5.ipynb)\n",
    "1. [Avoiding slicing](Answers_12_6.ipynb)\n",
    "1. [Multiple recursion](Answers_12_8.ipynb)"
   ]
  },
  {
   "cell_type": "markdown",
   "metadata": {},
   "source": [
    "⟵ [Previous section](Answers_11.ipynb) | [Up](32-introduction.ipynb) | [Next section](Answers_13.ipynb) ⟶"
   ]
  }
 ],
 "metadata": {
  "kernelspec": {
   "display_name": "Python 3",
   "language": "python",
   "name": "python3"
  },
  "language_info": {
   "codemirror_mode": {
    "name": "ipython",
    "version": 3
   },
   "file_extension": ".py",
   "mimetype": "text/x-python",
   "name": "python",
   "nbconvert_exporter": "python",
   "pygments_lexer": "ipython3",
   "version": "3.8.5"
  }
 },
 "nbformat": 4,
 "nbformat_minor": 4
}
