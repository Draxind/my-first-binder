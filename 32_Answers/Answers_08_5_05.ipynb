{
 "cells": [
  {
   "cell_type": "markdown",
   "metadata": {},
   "source": [
    "#### Exercise 8.5.5 answer"
   ]
  },
  {
   "cell_type": "markdown",
   "metadata": {},
   "source": [
    "The statement '_left_ is included in _right_' is equivalent to\n",
    "'there's no _left_ item occurring less often in _right_'.\n",
    "The latter decision problem can be solved with a linear search for an item that\n",
    "falsifies the statement.\n",
    "\n",
    "Iterate over the keys (unique items) of _left_. For each unique item,\n",
    "obtain its multiplicity in _left_ and _right_:\n",
    "it's the value associated to the key, or zero if the key doesn't exist.\n",
    "\n",
    "If the item's multiplicity in _right_ is less than its multiplicity in _left_,\n",
    "then the _left_ bag isn't included in the _right_ bag and\n",
    "the search can stop with output false.\n",
    "\n",
    "If the end of the loop is reached, then all items in _left_ occur in _right_\n",
    "with the same or a larger multiplicity, so set the output to true."
   ]
  }
 ],
 "metadata": {
  "kernelspec": {
   "display_name": "Python 3",
   "language": "python",
   "name": "python3"
  },
  "language_info": {
   "codemirror_mode": {
    "name": "ipython",
    "version": 3
   },
   "file_extension": ".py",
   "mimetype": "text/x-python",
   "name": "python",
   "nbconvert_exporter": "python",
   "pygments_lexer": "ipython3",
   "version": "3.8.5"
  }
 },
 "nbformat": 4,
 "nbformat_minor": 4
}
