{
 "cells": [
  {
   "cell_type": "markdown",
   "metadata": {},
   "source": [
    "#### Exercise 13.5.3 answer"
   ]
  },
  {
   "cell_type": "markdown",
   "metadata": {},
   "source": [
    "Since the numbers are in ascending order and unique,\n",
    "if the middle number is larger than its index, as happens in (1, 2, 3),\n",
    "then all numbers to its right are also larger than their indices.\n",
    "So we search the left half.\n",
    "Vice versa, if the middle number is below its index, as in (-1, 0, 2),\n",
    "so are the numbers to the left, so we search the right half.\n",
    "\n",
    "Here's a recursive algorithm for right_place(_numbers_, _start_, _end_)\n",
    "with precondition 0 ≤ _start_ ≤ _end_ ≤ │*numbers*│:\n",
    "\n",
    "1. if _end_ = _start_:\n",
    "   1. let _found_ be false\n",
    "2. otherwise:\n",
    "   1. let _middle_ be _start_ + floor((_end_ − _start_) / 2)\n",
    "   2. if _numbers_[*middle*] = _middle_:\n",
    "      1. let _found_ be true\n",
    "   2. otherwise if _numbers_[*middle*] < _middle_:\n",
    "      1. let _found_ be right_place(_numbers_, _middle_ + 1, _end_)\n",
    "   2. otherwise:\n",
    "      1. let _found_ be right_place(_numbers_, _start_, _middle_)\n",
    "\n",
    "Neither recursive search includes the middle number, so the slice is decreased."
   ]
  }
 ],
 "metadata": {
  "kernelspec": {
   "display_name": "Python 3",
   "language": "python",
   "name": "python3"
  },
  "language_info": {
   "codemirror_mode": {
    "name": "ipython",
    "version": 3
   },
   "file_extension": ".py",
   "mimetype": "text/x-python",
   "name": "python",
   "nbconvert_exporter": "python",
   "pygments_lexer": "ipython3",
   "version": "3.8.5"
  }
 },
 "nbformat": 4,
 "nbformat_minor": 4
}
