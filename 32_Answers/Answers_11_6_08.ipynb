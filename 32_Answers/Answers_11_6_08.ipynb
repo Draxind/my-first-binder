{
 "cells": [
  {
   "cell_type": "markdown",
   "metadata": {},
   "source": [
    "#### Exercise 11.6.8 answer"
   ]
  },
  {
   "cell_type": "markdown",
   "metadata": {},
   "source": [
    "The candidates are all possible slices of _t_ of the same length as _s_.\n",
    "For each index _start_ from 0 to _│t│_ − _│s│_,\n",
    "the algorithm generates the slice _t_[_start_:_start_ + │*s*│]\n",
    "and tests if the slice is equal to _s_.\n",
    "If so, the algorithm stops with output true: _s_ occurs in _t_ at index _start_.\n",
    "If the loop reaches the end, _s_ doesn't occur in _t_ and the output is false."
   ]
  }
 ],
 "metadata": {
  "kernelspec": {
   "display_name": "Python 3",
   "language": "python",
   "name": "python3"
  },
  "language_info": {
   "codemirror_mode": {
    "name": "ipython",
    "version": 3
   },
   "file_extension": ".py",
   "mimetype": "text/x-python",
   "name": "python",
   "nbconvert_exporter": "python",
   "pygments_lexer": "ipython3",
   "version": "3.8.5"
  }
 },
 "nbformat": 4,
 "nbformat_minor": 4
}
