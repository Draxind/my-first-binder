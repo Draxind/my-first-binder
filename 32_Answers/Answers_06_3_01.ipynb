{
 "cells": [
  {
   "cell_type": "markdown",
   "metadata": {},
   "source": [
    "#### Exercise 6.3.1 answer"
   ]
  },
  {
   "cell_type": "code",
   "execution_count": 1,
   "metadata": {
    "execution": {
     "iopub.execute_input": "2021-09-10T16:06:06.178394Z",
     "iopub.status.busy": "2021-09-10T16:06:06.177889Z",
     "iopub.status.idle": "2021-09-10T16:06:06.179557Z",
     "shell.execute_reply": "2021-09-10T16:06:06.180007Z"
    }
   },
   "outputs": [],
   "source": [
    "class Sequence:\n",
    "    \"\"\"The sequence ADT.\"\"\"\n",
    "\n",
    "    def has(self, item: object) -> bool:\n",
    "        \"\"\"Return True if and only if item is a member of self.\"\"\"\n",
    "        for index in range(self.length()):\n",
    "            if self.get_item(index) == item:\n",
    "                return True\n",
    "        return False"
   ]
  }
 ],
 "metadata": {
  "kernelspec": {
   "display_name": "Python 3",
   "language": "python",
   "name": "python3"
  },
  "language_info": {
   "codemirror_mode": {
    "name": "ipython",
    "version": 3
   },
   "file_extension": ".py",
   "mimetype": "text/x-python",
   "name": "python",
   "nbconvert_exporter": "python",
   "pygments_lexer": "ipython3",
   "version": "3.8.5"
  }
 },
 "nbformat": 4,
 "nbformat_minor": 4
}
