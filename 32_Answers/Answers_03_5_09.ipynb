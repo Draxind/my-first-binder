{
 "cells": [
  {
   "cell_type": "markdown",
   "metadata": {},
   "source": [
    "#### Exercise 3.5.9 answer"
   ]
  },
  {
   "cell_type": "markdown",
   "metadata": {},
   "source": [
    "My first algorithm checks the mutually exclusive and comprehensive conditions\n",
    "separately.\n",
    "\n",
    "1. if _year_ mod 4 ≠ 0:\n",
    "   1. let _leap_ be false\n",
    "1. if _year_ mod 4 = 0 and _year_ mod 100 ≠ 0:\n",
    "   1. let _leap_ be true\n",
    "1. if _year_ mod 100 = 0 and _year_ mod 400 ≠ 0:\n",
    "   1. let _leap_ be false\n",
    "1. if _year_ mod 400 = 0:\n",
    "   1. let _leap_ be true\n",
    "\n",
    "Next I use 'otherwise' to not re-check conditions that I know are false.\n",
    "\n",
    "1. if _year_ mod 4 ≠ 0:\n",
    "   1. let _leap_ be false\n",
    "1. otherwise if _year_ mod 100 ≠ 0:\n",
    "   1. let _leap_ be true\n",
    "1. otherwise if _year_ mod 400 ≠ 0:\n",
    "   1. let _leap_ be false\n",
    "1. otherwise:\n",
    "   1. let _leap_ be true\n",
    "\n",
    "I notice that steps 3 and 4 assign the output variable to the opposite value\n",
    "of the condition in step&nbsp;3, so I can simplify those steps by using negation.\n",
    "\n",
    "1. if _year_ mod 4 ≠ 0:\n",
    "   1. let _leap_ be false\n",
    "1. otherwise if _year_ mod 100 ≠ 0:\n",
    "   1. let _leap_ be true\n",
    "1. otherwise:\n",
    "   1. let _leap_ be not _year_ mod 400 ≠ 0\n",
    "\n",
    "Step&nbsp;3.1 can be simplified because\n",
    "'not different from' is equivalent to 'is equal to'.\n",
    "\n",
    "1. if _year_ mod 4 ≠ 0:\n",
    "   1. let _leap_ be false\n",
    "1. otherwise if _year_ mod 100 ≠ 0:\n",
    "   1. let _leap_ be true\n",
    "1. otherwise:\n",
    "   1. let _leap_ be _year_ mod 400 = 0\n",
    "\n",
    "You may have checked conditions in the opposite order and obtained:\n",
    "\n",
    "1. if _year_ mod 400 = 0:\n",
    "   1. let _leap_ be true\n",
    "1. otherwise if _year_ mod 100 = 0:\n",
    "   1. let _leap_ be false\n",
    "1. otherwise:\n",
    "   1. let _leap_ be _year_ mod 4 = 0\n",
    "\n",
    "Other variations of the above are possible.\n",
    "\n",
    "Looking at the algorithm I see that the output is true when\n",
    "the year is divisible by 400 or\n",
    "when it's divisible by 4 but not 100. This leads to a much simpler algorithm:\n",
    "\n",
    "1. let _leap_ be _year_ mod 400 = 0 or (_year_ mod 4 = 0 and _year_ mod 100 ≠ 0)\n",
    "\n",
    "I can reformulate the postconditions accordingly,\n",
    "which I'll do in the Python docstring."
   ]
  }
 ],
 "metadata": {
  "kernelspec": {
   "display_name": "Python 3",
   "language": "python",
   "name": "python3"
  },
  "language_info": {
   "codemirror_mode": {
    "name": "ipython",
    "version": 3
   },
   "file_extension": ".py",
   "mimetype": "text/x-python",
   "name": "python",
   "nbconvert_exporter": "python",
   "pygments_lexer": "ipython3",
   "version": "3.8.5"
  }
 },
 "nbformat": 4,
 "nbformat_minor": 4
}
