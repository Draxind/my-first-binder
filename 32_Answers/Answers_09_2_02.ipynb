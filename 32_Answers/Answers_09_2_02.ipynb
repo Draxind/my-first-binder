{
 "cells": [
  {
   "cell_type": "markdown",
   "metadata": {},
   "source": [
    "#### Exercise 9.2.2 answer"
   ]
  },
  {
   "cell_type": "markdown",
   "metadata": {},
   "source": [
    "The order in which votes were cast is irrelevant, only their frequency.\n",
    "The ADT of choice is a bag, together with a linear search to find\n",
    "the unique item (candidate) with the highest multiplicity (votes).\n",
    "Here's the algorithm:\n",
    "\n",
    "Put all votes in a bag. Do a linear search over all item–multiplicity pairs,\n",
    "keeping the 'best' pair found so far, i.e. with the highest multiplicity.\n",
    "If an item has the same best multiplicity found so far,\n",
    "that's a tie so change the best item to 'round 2'.\n",
    "At the end of the loop, return the best item."
   ]
  }
 ],
 "metadata": {
  "kernelspec": {
   "display_name": "Python 3",
   "language": "python",
   "name": "python3"
  },
  "language_info": {
   "codemirror_mode": {
    "name": "ipython",
    "version": 3
   },
   "file_extension": ".py",
   "mimetype": "text/x-python",
   "name": "python",
   "nbconvert_exporter": "python",
   "pygments_lexer": "ipython3",
   "version": "3.8.5"
  }
 },
 "nbformat": 4,
 "nbformat_minor": 4
}
