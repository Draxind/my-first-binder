{
 "cells": [
  {
   "cell_type": "markdown",
   "metadata": {},
   "source": [
    "#### Exercise 8.4.2 answer"
   ]
  },
  {
   "cell_type": "markdown",
   "metadata": {},
   "source": [
    "The union is computed by first adding all items of _a_ to the resulting set,\n",
    "which takes Θ(│*a*│), and then adding all members of _b_, which takes Θ(│*b*│).\n",
    "\n",
    "The difference takes Θ(│*a*│) time because it does at most two constant-time\n",
    "operations per member of _a_:\n",
    "check if it's in _b_ and add it to the output set if it isn't.\n",
    "\n",
    "The intersection operation computes the common members,\n",
    "which by definition are in both sets.\n",
    "The operation goes through the smaller set,\n",
    "checking if each member is in the larger set.\n",
    "If it is, it's added to the result.\n",
    "The operation obtains and compares the size of both sets and then,\n",
    "assuming _a_ is the smaller set, does │*a*│ membership operations in _b_ and\n",
    "at most │*a*│ addition operations to the resulting set.\n",
    "All these operations take constant time,\n",
    "so the operation is linear in the size of the smaller of both sets."
   ]
  }
 ],
 "metadata": {
  "kernelspec": {
   "display_name": "Python 3",
   "language": "python",
   "name": "python3"
  },
  "language_info": {
   "codemirror_mode": {
    "name": "ipython",
    "version": 3
   },
   "file_extension": ".py",
   "mimetype": "text/x-python",
   "name": "python",
   "nbconvert_exporter": "python",
   "pygments_lexer": "ipython3",
   "version": "3.8.5"
  }
 },
 "nbformat": 4,
 "nbformat_minor": 4
}
