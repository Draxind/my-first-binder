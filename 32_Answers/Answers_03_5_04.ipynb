{
 "cells": [
  {
   "cell_type": "markdown",
   "metadata": {},
   "source": [
    "#### Exercise 3.5.4 answer"
   ]
  },
  {
   "cell_type": "code",
   "execution_count": 1,
   "metadata": {
    "execution": {
     "iopub.execute_input": "2021-09-10T16:03:41.815632Z",
     "iopub.status.busy": "2021-09-10T16:03:41.814925Z",
     "iopub.status.idle": "2021-09-10T16:03:41.816721Z",
     "shell.execute_reply": "2021-09-10T16:03:41.817363Z"
    }
   },
   "outputs": [],
   "source": [
    "def calls_possible(flight_mode: bool, signal_strength: int) -> bool:\n",
    "    \"\"\"Return whether the phone can make and receive calls.\n",
    "\n",
    "    Preconditions: 0 <= signal_strength <= 4\n",
    "    Postconditions: the output is true if and only if\n",
    "    flight_mode is false and signal_strength >= 2\n",
    "    \"\"\"\n",
    "    return (not flight_mode) and (signal_strength >= 2)"
   ]
  },
  {
   "cell_type": "markdown",
   "metadata": {},
   "source": [
    "You may have omitted the redundant parentheses in the return statement."
   ]
  },
  {
   "cell_type": "code",
   "execution_count": 2,
   "metadata": {
    "execution": {
     "iopub.execute_input": "2021-09-10T16:03:41.825590Z",
     "iopub.status.busy": "2021-09-10T16:03:41.824942Z",
     "iopub.status.idle": "2021-09-10T16:03:41.827552Z",
     "shell.execute_reply": "2021-09-10T16:03:41.828134Z"
    }
   },
   "outputs": [
    {
     "data": {
      "text/plain": [
       "True"
      ]
     },
     "execution_count": 1,
     "metadata": {},
     "output_type": "execute_result"
    }
   ],
   "source": [
    "calls_possible(False, 1) == False"
   ]
  },
  {
   "cell_type": "code",
   "execution_count": 3,
   "metadata": {
    "execution": {
     "iopub.execute_input": "2021-09-10T16:03:41.831189Z",
     "iopub.status.busy": "2021-09-10T16:03:41.830693Z",
     "iopub.status.idle": "2021-09-10T16:03:41.832850Z",
     "shell.execute_reply": "2021-09-10T16:03:41.833451Z"
    }
   },
   "outputs": [
    {
     "data": {
      "text/plain": [
       "True"
      ]
     },
     "execution_count": 1,
     "metadata": {},
     "output_type": "execute_result"
    }
   ],
   "source": [
    "calls_possible(False, 2) == True"
   ]
  },
  {
   "cell_type": "code",
   "execution_count": 4,
   "metadata": {
    "execution": {
     "iopub.execute_input": "2021-09-10T16:03:41.836982Z",
     "iopub.status.busy": "2021-09-10T16:03:41.836334Z",
     "iopub.status.idle": "2021-09-10T16:03:41.838480Z",
     "shell.execute_reply": "2021-09-10T16:03:41.839137Z"
    }
   },
   "outputs": [
    {
     "data": {
      "text/plain": [
       "True"
      ]
     },
     "execution_count": 1,
     "metadata": {},
     "output_type": "execute_result"
    }
   ],
   "source": [
    "calls_possible(True, 4) == False"
   ]
  }
 ],
 "metadata": {
  "kernelspec": {
   "display_name": "Python 3",
   "language": "python",
   "name": "python3"
  },
  "language_info": {
   "codemirror_mode": {
    "name": "ipython",
    "version": 3
   },
   "file_extension": ".py",
   "mimetype": "text/x-python",
   "name": "python",
   "nbconvert_exporter": "python",
   "pygments_lexer": "ipython3",
   "version": "3.8.5"
  }
 },
 "nbformat": 4,
 "nbformat_minor": 4
}
