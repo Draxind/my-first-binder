{
 "cells": [
  {
   "cell_type": "markdown",
   "metadata": {},
   "source": [
    "#### Exercise 12.8.1 answer"
   ]
  },
  {
   "cell_type": "markdown",
   "metadata": {},
   "source": [
    "I divide the sequence into halves.\n",
    "The results for each half are combined with disjunction.\n",
    "The algorithm requires two base cases,\n",
    "as when splitting a sequence into one third and two thirds.\n",
    "It's not possible to split sequences of length&nbsp;0 and 1 into two shorter sequences,\n",
    "so those are the base cases.\n",
    "\n",
    "1. if _start_ = _end_:\n",
    "   1. let _exists_ be false\n",
    "2. otherwise if _start_ + 1 = _end_:\n",
    "   1. let _exists_ be _items_[*start*] = _item_\n",
    "2. otherwise:\n",
    "   1. let _middle_ be _start_ + floor((_end_ – _start_) / 2)\n",
    "   1. let _exists left_ be has(_items_, _item_, _start_, _middle_)\n",
    "   1. let _exists right_ be has(_items_, _item_, _middle_, _end_)\n",
    "   1. let _exists_ be _exists left_ or _exists right_\n",
    "\n",
    "Another way of spotting that the algorithm needs two bases cases is to realise\n",
    "that with the first base case alone the algorithm always returns false.\n",
    "An algorithm for a decision problem must be able to return either Boolean value.\n",
    "\n",
    "A more efficient version wouldn't recur into the right half if\n",
    "the item is in the left one."
   ]
  }
 ],
 "metadata": {
  "kernelspec": {
   "display_name": "Python 3",
   "language": "python",
   "name": "python3"
  },
  "language_info": {
   "codemirror_mode": {
    "name": "ipython",
    "version": 3
   },
   "file_extension": ".py",
   "mimetype": "text/x-python",
   "name": "python",
   "nbconvert_exporter": "python",
   "pygments_lexer": "ipython3",
   "version": "3.8.5"
  }
 },
 "nbformat": 4,
 "nbformat_minor": 4
}
