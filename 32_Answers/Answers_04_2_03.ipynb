{
 "cells": [
  {
   "cell_type": "markdown",
   "metadata": {},
   "source": [
    "#### Exercise 4.2.3 answer"
   ]
  },
  {
   "cell_type": "markdown",
   "metadata": {},
   "source": [
    "1. In a best-case scenario, no characters need to be copied:\n",
    "   the output is the empty string. This may happen because\n",
    "   the input string _s_ is empty or the number of times _t_ isn't positive.\n",
    "\n",
    "   In a worst-case scenario, each character is copied _t_ times\n",
    "   to the output string.\n",
    "2. The best-case complexity is Θ(1).\n",
    "   The worst-case complexity is Θ(1)Θ(│*s*│ × _t_)."
   ]
  }
 ],
 "metadata": {
  "kernelspec": {
   "display_name": "Python 3",
   "language": "python",
   "name": "python3"
  },
  "language_info": {
   "codemirror_mode": {
    "name": "ipython",
    "version": 3
   },
   "file_extension": ".py",
   "mimetype": "text/x-python",
   "name": "python",
   "nbconvert_exporter": "python",
   "pygments_lexer": "ipython3",
   "version": "3.8.5"
  }
 },
 "nbformat": 4,
 "nbformat_minor": 4
}
