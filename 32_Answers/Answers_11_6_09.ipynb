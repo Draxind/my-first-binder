{
 "cells": [
  {
   "cell_type": "markdown",
   "metadata": {},
   "source": [
    "#### Exercise 11.6.9 answer"
   ]
  },
  {
   "cell_type": "markdown",
   "metadata": {},
   "source": [
    "In the worst case, _s_ isn't a substring of _t_.\n",
    "My algorithm will compute _│t│_ − _│s│_ slices, each taking Θ(│*s*│).\n",
    "The worst-case complexity is Θ((_│t│_ − _│s│_)×│*s*│).\n",
    "\n",
    "Usually _t_ is much longer than _s_, e.g. _s_ is a word and _t_ is a document,\n",
    "so the complexity can be simplified to Θ(│*t*│×│*s*│)."
   ]
  }
 ],
 "metadata": {
  "kernelspec": {
   "display_name": "Python 3",
   "language": "python",
   "name": "python3"
  },
  "language_info": {
   "codemirror_mode": {
    "name": "ipython",
    "version": 3
   },
   "file_extension": ".py",
   "mimetype": "text/x-python",
   "name": "python",
   "nbconvert_exporter": "python",
   "pygments_lexer": "ipython3",
   "version": "3.8.5"
  }
 },
 "nbformat": 4,
 "nbformat_minor": 4
}
