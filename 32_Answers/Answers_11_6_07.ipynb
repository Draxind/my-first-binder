{
 "cells": [
  {
   "cell_type": "markdown",
   "metadata": {},
   "source": [
    "#### Exercise 11.6.7 answer"
   ]
  },
  {
   "cell_type": "markdown",
   "metadata": {},
   "source": [
    "We can substantially reduce the search space by removing all products\n",
    "costing more than the voucher, before starting to generate the subsets.\n",
    "Each product removed halves the search space!\n",
    "\n",
    "We can stop as soon as we get a subset of products that adds up exactly to\n",
    "the voucher amount, as no subset will be better.\n",
    "\n",
    "We can also stop if all _k_-combinations exceed the voucher amount.\n",
    "It's pointless to continue searching: if any _k_ products exceed the amount,\n",
    "so will any _k_ + 1 products, any _k_ + 2 products, etc.\n",
    "Checking if all _k_-combinations exceed the amount requires a Boolean flag,\n",
    "because we want to know if several candidates, together, satisfy some condition."
   ]
  }
 ],
 "metadata": {
  "kernelspec": {
   "display_name": "Python 3",
   "language": "python",
   "name": "python3"
  },
  "language_info": {
   "codemirror_mode": {
    "name": "ipython",
    "version": 3
   },
   "file_extension": ".py",
   "mimetype": "text/x-python",
   "name": "python",
   "nbconvert_exporter": "python",
   "pygments_lexer": "ipython3",
   "version": "3.8.5"
  }
 },
 "nbformat": 4,
 "nbformat_minor": 4
}
