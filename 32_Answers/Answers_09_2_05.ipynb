{
 "cells": [
  {
   "cell_type": "markdown",
   "metadata": {},
   "source": [
    "#### Exercise 9.2.5 answer"
   ]
  },
  {
   "cell_type": "code",
   "execution_count": 1,
   "metadata": {
    "execution": {
     "iopub.execute_input": "2021-09-10T16:10:57.496089Z",
     "iopub.status.busy": "2021-09-10T16:10:57.495361Z",
     "iopub.status.idle": "2021-09-10T16:10:57.498686Z",
     "shell.execute_reply": "2021-09-10T16:10:57.499345Z"
    }
   },
   "outputs": [
    {
     "name": "stdout",
     "output_type": "stream",
     "text": [
      "Tests finished.\n"
     ]
    }
   ],
   "source": [
    "from collections import Counter\n",
    "\n",
    "%run -i ../m269_util\n",
    "\n",
    "def winner(votes: list) -> str:\n",
    "    results = Counter(votes)\n",
    "    winner_votes = 0\n",
    "    for (candidate_name, candidate_votes) in results.items():\n",
    "        if candidate_votes > winner_votes:\n",
    "            winner_votes = candidate_votes\n",
    "            winner_name = candidate_name\n",
    "        elif candidate_votes == winner_votes:\n",
    "            winner_name = 'round 2'\n",
    "    return winner_name\n",
    "\n",
    "winner_tests = [\n",
    "    # case,         votes,                              name\n",
    "    ['2 of 2 tied', ['Alice', 'Bob', 'Bob', 'Alice'],   'round 2'],\n",
    "    ['1 of 2 wins', ['Alice', 'Bob', 'Alice', 'Alice'], 'Alice'  ],\n",
    "    ['1 of 3 wins', ['Bob', 'Chan', 'Chan', 'Alice'],   'Chan'   ],\n",
    "    # new tests:\n",
    "    ['1 vote',      ['Chan'],                           'Chan'   ],\n",
    "    ['1 vote per candidate', ['Bob', 'Chan', 'Alice'],  'round 2'],\n",
    "    ['1 candidate', ['Bob'] * 5,                        'Bob'    ],\n",
    "    ['2 of 3 tied', ['Al', 'Bob', 'Chan', 'Al', 'Bob'], 'round 2']\n",
    "]\n",
    "\n",
    "test(winner, winner_tests)"
   ]
  },
  {
   "cell_type": "markdown",
   "metadata": {
    "tags": [
     "INFO"
    ]
   },
   "source": [
    "<div class=\"alert alert-info\">\n",
    "<strong>Info:</strong> This exercise is based on Kattis problem\n",
    "<a href=\"https://open.kattis.com/problems/recount\">Recount</a>.\n",
    "</div>"
   ]
  }
 ],
 "metadata": {
  "kernelspec": {
   "display_name": "Python 3",
   "language": "python",
   "name": "python3"
  },
  "language_info": {
   "codemirror_mode": {
    "name": "ipython",
    "version": 3
   },
   "file_extension": ".py",
   "mimetype": "text/x-python",
   "name": "python",
   "nbconvert_exporter": "python",
   "pygments_lexer": "ipython3",
   "version": "3.8.5"
  }
 },
 "nbformat": 4,
 "nbformat_minor": 4
}
