{
 "cells": [
  {
   "cell_type": "markdown",
   "metadata": {},
   "source": [
    "#### Exercise 9.5.2 answer"
   ]
  },
  {
   "cell_type": "markdown",
   "metadata": {},
   "source": [
    "The history is a bounded queue of strings: new pages are added to one end and\n",
    "the oldest page is removed from the other end when the capacity is exceeded.\n",
    "We also need to access the current page in the middle of the queue,\n",
    "but only the front item of a queue can be accessed.\n",
    "\n",
    "This suggests using two queues _before_ and _after_ with the pages visited\n",
    "before and after the current one.\n",
    "The previous page is the back (right-most page) of _before_ and\n",
    "the next page is the front (left-most page) of _after_.\n",
    "\n",
    "For example, if C is the current page, with A and B visited before\n",
    "and D and E visited after, we have the following.\n",
    "\n",
    "![The figure shows two groups of two boxes each.\n",
    "The left pair of boxes, which are labelled with the word 'before',\n",
    "has A in the left box and B in the right box.\n",
    "The right pair of boxes, labelled with the word 'after',\n",
    "has D in the left box and E in the right box.\n",
    "Between the pairs of boxes there is letter C, labelled with the word 'current'.\n",
    "There are two arrows pointing left, from D to C and from C to B,\n",
    "labelled with the word 'next'.\n",
    "There are two arrows pointing right, from B to C and from C to D,\n",
    "labelled with the word 'previous'.](09_5_ex952.png)\n",
    "\n",
    "The arrows pointing left show how operation 'next' works: append the current page to _before_ and pop the first string of _after_ as the new current page.\n",
    "The arrows pointing right show how operation 'previous' works.\n",
    "\n",
    "This makes me realise that I'm adding and removing strings at the same end of\n",
    "each queue, which isn't permitted. I need deques instead of queues.\n",
    "\n",
    "Let's describe each operation to check they take constant time:\n",
    "\n",
    "- new: Create two empty deques and let _current_ be the empty string.\n",
    "- visit: If it's not the first page visited, append _current_ to _before_.\n",
    "  If _before_ now has length _p_, remove the front (left-most item) of _before_.\n",
    "  Let _current_ be the visited page. Let _after_ be a new deque,\n",
    "  as there's no next page after the just visited page.\n",
    "- now: Return _current_.\n",
    "- next: If _after_ isn't empty, append _current_ to _before_, remove the front of _after_ and copy it to _current_.\n",
    "- previous: If _before_ isn't empty, prepend _current_ to _after_, remove the back of _before_ and copy it to _current_.\n",
    "\n",
    "All history operations take constant time because they only involve\n",
    "deque operations, integer comparisons and assignments."
   ]
  }
 ],
 "metadata": {
  "kernelspec": {
   "display_name": "Python 3",
   "language": "python",
   "name": "python3"
  },
  "language_info": {
   "codemirror_mode": {
    "name": "ipython",
    "version": 3
   },
   "file_extension": ".py",
   "mimetype": "text/x-python",
   "name": "python",
   "nbconvert_exporter": "python",
   "pygments_lexer": "ipython3",
   "version": "3.8.5"
  }
 },
 "nbformat": 4,
 "nbformat_minor": 4
}
