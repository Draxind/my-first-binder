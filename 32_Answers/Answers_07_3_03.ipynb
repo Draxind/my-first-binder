{
 "cells": [
  {
   "cell_type": "markdown",
   "metadata": {},
   "source": [
    "#### Exercise 7.3.3 answer"
   ]
  },
  {
   "cell_type": "markdown",
   "metadata": {},
   "source": [
    "I decided to put the front item at index&nbsp;0: it's less confusing for me.\n",
    "\n",
    "deque operation | list operation | complexity\n",
    "-|-|-\n",
    "new | `a_deque = []` | Θ(1)\n",
    "length  | `len(a_deque)`  | Θ(1)\n",
    "append | `a_deque.append(item)` | Θ(1)\n",
    "prepend |  `a_deque.insert(0, item)` | Θ(│`a_deque`│)\n",
    "remove front | `a_deque.pop(0)` | Θ(│`a_deque`│)\n",
    "remove back | `a_deque.pop(-1)` | Θ(1)\n",
    "front   | `a_deque[0]` | Θ(1)\n",
    "back   |  `a_deque[-1]` | Θ(1)"
   ]
  }
 ],
 "metadata": {
  "kernelspec": {
   "display_name": "Python 3",
   "language": "python",
   "name": "python3"
  },
  "language_info": {
   "codemirror_mode": {
    "name": "ipython",
    "version": 3
   },
   "file_extension": ".py",
   "mimetype": "text/x-python",
   "name": "python",
   "nbconvert_exporter": "python",
   "pygments_lexer": "ipython3",
   "version": "3.8.5"
  }
 },
 "nbformat": 4,
 "nbformat_minor": 4
}
