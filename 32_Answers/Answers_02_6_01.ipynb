{
 "cells": [
  {
   "cell_type": "markdown",
   "metadata": {},
   "source": [
    "#### Exercise 2.6.1 answer"
   ]
  },
  {
   "cell_type": "code",
   "execution_count": 1,
   "metadata": {
    "execution": {
     "iopub.execute_input": "2021-09-10T16:02:03.649732Z",
     "iopub.status.busy": "2021-09-10T16:02:03.649021Z",
     "iopub.status.idle": "2021-09-10T16:02:03.650866Z",
     "shell.execute_reply": "2021-09-10T16:02:03.651514Z"
    }
   },
   "outputs": [],
   "source": [
    "def brick_volume(length: int, width: int, height: int) -> int:\n",
    "    \"\"\"Return the volume of a brick, given its dimensions.\n",
    "\n",
    "    Preconditions:\n",
    "    - length > 0; width > 0; height > 0\n",
    "    - length, width and height are in millimetres\n",
    "    Postconditions:\n",
    "    - the output is length * width * height\n",
    "    - the output is in cubic millimetres\n",
    "    \"\"\"\n",
    "    return length * width * height"
   ]
  }
 ],
 "metadata": {
  "kernelspec": {
   "display_name": "Python 3",
   "language": "python",
   "name": "python3"
  },
  "language_info": {
   "codemirror_mode": {
    "name": "ipython",
    "version": 3
   },
   "file_extension": ".py",
   "mimetype": "text/x-python",
   "name": "python",
   "nbconvert_exporter": "python",
   "pygments_lexer": "ipython3",
   "version": "3.8.5"
  }
 },
 "nbformat": 4,
 "nbformat_minor": 4
}
