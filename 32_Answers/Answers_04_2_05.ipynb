{
 "cells": [
  {
   "cell_type": "markdown",
   "metadata": {},
   "source": [
    "#### Exercise 4.2.5 answer"
   ]
  },
  {
   "cell_type": "markdown",
   "metadata": {},
   "source": [
    "Converting a number _n_ to a string _s_ or vice versa takes linear time in the\n",
    "number of digits or characters to be processed: Θ(│*n*│) or Θ(│*s*│).\n",
    "In M269 we only use numbers that fit in 64&nbsp;bits, so the number of digits is\n",
    "limited. We can assume the conversion takes constant time: Θ(1).\n",
    "\n",
    "For Booleans, the `str` and `bool` constructors take constant time too, because\n",
    "the strings `'True'` and `'False'` have a fixed length."
   ]
  }
 ],
 "metadata": {
  "kernelspec": {
   "display_name": "Python 3",
   "language": "python",
   "name": "python3"
  },
  "language_info": {
   "codemirror_mode": {
    "name": "ipython",
    "version": 3
   },
   "file_extension": ".py",
   "mimetype": "text/x-python",
   "name": "python",
   "nbconvert_exporter": "python",
   "pygments_lexer": "ipython3",
   "version": "3.8.5"
  }
 },
 "nbformat": 4,
 "nbformat_minor": 4
}
