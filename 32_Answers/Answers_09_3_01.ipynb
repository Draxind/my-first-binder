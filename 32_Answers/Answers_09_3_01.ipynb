{
 "cells": [
  {
   "cell_type": "markdown",
   "metadata": {},
   "source": [
    "#### Exercise 9.3.1 answer"
   ]
  },
  {
   "cell_type": "markdown",
   "metadata": {},
   "source": [
    "The best way to find pairs that cost the voucher's amount is to organise\n",
    "products by price. If the current product costs _n_, I need to quickly know if\n",
    "any previously seen products cost _voucher_ − _n_.\n",
    "I thus use a map of prices to products. No product is free, so\n",
    "products costing the voucher's amount or more can be ignored as\n",
    "they can't be matched with any other product.\n",
    "\n",
    "> Create an empty map of prices to product sequences.\n",
    "> Create an empty set _results_.\n",
    "> Iterate over _store_. For each product _current_,\n",
    "> if its cost _price_ is less than _voucher_,\n",
    "> append _product_ to the map's entry for _price_.\n",
    "> Then add (_previous_, _current_) to _results_ for every product _previous_\n",
    "> in the map's entry for _voucher_ − _price_.\n",
    "> The added pairs must not be (_current_, _previous_) due to the postconditions.\n",
    "\n",
    "Follow up question: does it matter whether we add the current product to the\n",
    "map before or after finding the matching products?\n",
    "Hint: consider the last test case."
   ]
  }
 ],
 "metadata": {
  "kernelspec": {
   "display_name": "Python 3",
   "language": "python",
   "name": "python3"
  },
  "language_info": {
   "codemirror_mode": {
    "name": "ipython",
    "version": 3
   },
   "file_extension": ".py",
   "mimetype": "text/x-python",
   "name": "python",
   "nbconvert_exporter": "python",
   "pygments_lexer": "ipython3",
   "version": "3.8.5"
  }
 },
 "nbformat": 4,
 "nbformat_minor": 4
}
