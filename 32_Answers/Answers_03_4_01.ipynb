{
 "cells": [
  {
   "cell_type": "markdown",
   "metadata": {},
   "source": [
    "#### Exercise 3.4.1 answer"
   ]
  },
  {
   "cell_type": "markdown",
   "metadata": {},
   "source": [
    "1. if _mark_ ≥ 80:\n",
    "    1.  let _pass_ be 1\n",
    "1. otherwise if _mark_ ≥ 60:\n",
    "    1.  let _pass_ be 2\n",
    "1. otherwise if _mark_ ≥ 50:\n",
    "    1.  let _pass_ be 3\n",
    "1. otherwise if _mark_ ≥ 40:\n",
    "    1.  let _pass_ be 4\n",
    "1. otherwise:\n",
    "    1.  let _pass_ be 5"
   ]
  }
 ],
 "metadata": {
  "kernelspec": {
   "display_name": "Python 3",
   "language": "python",
   "name": "python3"
  },
  "language_info": {
   "codemirror_mode": {
    "name": "ipython",
    "version": 3
   },
   "file_extension": ".py",
   "mimetype": "text/x-python",
   "name": "python",
   "nbconvert_exporter": "python",
   "pygments_lexer": "ipython3",
   "version": "3.8.5"
  }
 },
 "nbformat": 4,
 "nbformat_minor": 4
}
