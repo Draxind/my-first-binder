{
 "cells": [
  {
   "cell_type": "markdown",
   "metadata": {},
   "source": [
    "#### Exercise 7.5.3 answer"
   ]
  },
  {
   "cell_type": "markdown",
   "metadata": {},
   "source": [
    "Here are just the methods asked for, without repeating the docstrings.\n",
    "```py\n",
    "def back(self) -> object:\n",
    "    index = (self.end - 1) % self.items.length()\n",
    "    return self.items.get_item(index)\n",
    "\n",
    "def prepend(self, item: object) -> None:\n",
    "    if self.length() == self.items.length():    # capacity full\n",
    "        self._resize(2 * self.items.length())\n",
    "    self.head = (self.head - 1) % self.items.length()\n",
    "    self.items.set_item(self.head, item)\n",
    "    self.size = self.size + 1\n",
    "\n",
    "def remove_back(self) -> None:\n",
    "    self.end = (self.end - 1) % self.items.length()\n",
    "    self.items.set_item(self.end, None)     # for garbage collection\n",
    "    self.size = self.size - 1\n",
    "    if self.size < self.items.length() // 4:    # spare capacity\n",
    "        self._resize(self.items.length() // 2)\n",
    "```"
   ]
  }
 ],
 "metadata": {
  "kernelspec": {
   "display_name": "Python 3",
   "language": "python",
   "name": "python3"
  },
  "language_info": {
   "codemirror_mode": {
    "name": "ipython",
    "version": 3
   },
   "file_extension": ".py",
   "mimetype": "text/x-python",
   "name": "python",
   "nbconvert_exporter": "python",
   "pygments_lexer": "ipython3",
   "version": "3.8.5"
  }
 },
 "nbformat": 4,
 "nbformat_minor": 4
}
