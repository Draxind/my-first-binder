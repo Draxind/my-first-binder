{
 "cells": [
  {
   "cell_type": "markdown",
   "metadata": {},
   "source": [
    "#### Exercise 6.3.3 answer"
   ]
  },
  {
   "cell_type": "markdown",
   "metadata": {},
   "source": [
    "As usual, I create a sequence of natural numbers.\n",
    "I then check for membership at the start, middle and end, and for a non-member.\n",
    "\n",
    "This notebook is separate from the notebook with the `Sequence` class, so\n",
    "I must first load the class: otherwise the interpreter reports a name error."
   ]
  },
  {
   "cell_type": "code",
   "execution_count": 1,
   "metadata": {
    "execution": {
     "iopub.execute_input": "2021-09-10T16:06:10.531561Z",
     "iopub.status.busy": "2021-09-10T16:06:10.531061Z",
     "iopub.status.idle": "2021-09-10T16:06:10.535890Z",
     "shell.execute_reply": "2021-09-10T16:06:10.536345Z"
    }
   },
   "outputs": [],
   "source": [
    "%run -i ../m269_sequence"
   ]
  },
  {
   "cell_type": "code",
   "execution_count": 2,
   "metadata": {
    "execution": {
     "iopub.execute_input": "2021-09-10T16:06:10.540496Z",
     "iopub.status.busy": "2021-09-10T16:06:10.540051Z",
     "iopub.status.idle": "2021-09-10T16:06:10.541747Z",
     "shell.execute_reply": "2021-09-10T16:06:10.542195Z"
    }
   },
   "outputs": [],
   "source": [
    "def test_has(items: Sequence, length: int) -> None:\n",
    "    \"\"\"Add 'length' values to items and check membership.\n",
    "\n",
    "    Preconditions: items is an empty sequence; length >= 0\n",
    "    \"\"\"\n",
    "    for number in range(min(length, items.capacity())):\n",
    "        items.append(number)\n",
    "    if items.length() > 0:\n",
    "        check('has first item', items.has(0), True, items)\n",
    "        check('has middle item', items.has(items.length() // 2), True, items)\n",
    "        check('has last item', items.has(items.length() - 1), True, items)\n",
    "    check('has not -1', items.has(-1), False, items)"
   ]
  }
 ],
 "metadata": {
  "kernelspec": {
   "display_name": "Python 3",
   "language": "python",
   "name": "python3"
  },
  "language_info": {
   "codemirror_mode": {
    "name": "ipython",
    "version": 3
   },
   "file_extension": ".py",
   "mimetype": "text/x-python",
   "name": "python",
   "nbconvert_exporter": "python",
   "pygments_lexer": "ipython3",
   "version": "3.8.5"
  }
 },
 "nbformat": 4,
 "nbformat_minor": 4
}
