{
 "cells": [
  {
   "cell_type": "markdown",
   "metadata": {},
   "source": [
    "#### Exercise 4.5.2 answer"
   ]
  },
  {
   "cell_type": "code",
   "execution_count": 1,
   "metadata": {
    "execution": {
     "iopub.execute_input": "2021-09-10T16:05:12.868276Z",
     "iopub.status.busy": "2021-09-10T16:05:12.867612Z",
     "iopub.status.idle": "2021-09-10T16:05:12.870279Z",
     "shell.execute_reply": "2021-09-10T16:05:12.871061Z"
    }
   },
   "outputs": [
    {
     "name": "stdout",
     "output_type": "stream",
     "text": [
      "3\n"
     ]
    }
   ],
   "source": [
    "tic_tac_toe = (\n",
    "    ('X', 'O', 'X'),\n",
    "    (' ', 'X', ' '),\n",
    "    ('O', ' ', 'O')\n",
    ")\n",
    "\n",
    "empty = 0\n",
    "for row in tic_tac_toe:\n",
    "    for space in row:\n",
    "        if space == ' ':\n",
    "            empty = empty + 1\n",
    "print(empty)"
   ]
  }
 ],
 "metadata": {
  "kernelspec": {
   "display_name": "Python 3",
   "language": "python",
   "name": "python3"
  },
  "language_info": {
   "codemirror_mode": {
    "name": "ipython",
    "version": 3
   },
   "file_extension": ".py",
   "mimetype": "text/x-python",
   "name": "python",
   "nbconvert_exporter": "python",
   "pygments_lexer": "ipython3",
   "version": "3.8.5"
  }
 },
 "nbformat": 4,
 "nbformat_minor": 4
}
