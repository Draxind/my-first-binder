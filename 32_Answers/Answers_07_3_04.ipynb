{
 "cells": [
  {
   "cell_type": "markdown",
   "metadata": {},
   "source": [
    "#### Exercise 7.3.4 answer"
   ]
  },
  {
   "cell_type": "markdown",
   "metadata": {},
   "source": [
    "At any point in time, the queue contains the children (more specifically,\n",
    "the number of each child) that haven't been counted out yet.\n",
    "The child at the front is the one Alice is currently pointing to.\n",
    "The rest of the queue contains the remaining children, in clockwise order.\n",
    "\n",
    "Here's an example of 6 children in a circle and the corresponding queue.\n",
    "For illustration, child 3&nbsp;has already been counted out and\n",
    "Alice is pointing at child 4.\n",
    "\n",
    "![The left half of the figure shows the word Alice surround by\n",
    "the numbers 1, 2, 4, 5 and 6, going clockwise, with 1 at the 12 o'clock position.\n",
    "There's an arrow from Alice to number 4.\n",
    "The right half of the figure shows a series of boxes,\n",
    "with the numbers 4, 5, 6, 1, 2 inside them, from left to right.\n",
    "There's an arrow going from the word 'front' to the left-most box,\n",
    "with number 4.](07_3_ex734.png)"
   ]
  }
 ],
 "metadata": {
  "kernelspec": {
   "display_name": "Python 3",
   "language": "python",
   "name": "python3"
  },
  "language_info": {
   "codemirror_mode": {
    "name": "ipython",
    "version": 3
   },
   "file_extension": ".py",
   "mimetype": "text/x-python",
   "name": "python",
   "nbconvert_exporter": "python",
   "pygments_lexer": "ipython3",
   "version": "3.8.5"
  }
 },
 "nbformat": 4,
 "nbformat_minor": 4
}
