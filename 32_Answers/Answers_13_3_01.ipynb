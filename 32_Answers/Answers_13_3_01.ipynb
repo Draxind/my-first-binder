{
 "cells": [
  {
   "cell_type": "markdown",
   "metadata": {},
   "source": [
    "#### Exercise 13.3.1 answer"
   ]
  },
  {
   "cell_type": "markdown",
   "metadata": {},
   "source": [
    "The GCD of two positive numbers _a_ and _b_ is a positive factor of both,\n",
    "so it's at least 1 and can't be larger than _a_ or _b_.\n",
    "The range of candidates is thus 1 to min(_a_, _b_).\n",
    "\n",
    "Since we want to find the greatest of them,\n",
    "we generate and test the candidates in reverse sorted order.\n",
    "We iterate over the integers from min(_a_, _b_) down to 1\n",
    "and stop when a candidate divides both input numbers.\n",
    "Since 1 divides any integer, the algorithm is guaranteed to stop."
   ]
  }
 ],
 "metadata": {
  "kernelspec": {
   "display_name": "Python 3",
   "language": "python",
   "name": "python3"
  },
  "language_info": {
   "codemirror_mode": {
    "name": "ipython",
    "version": 3
   },
   "file_extension": ".py",
   "mimetype": "text/x-python",
   "name": "python",
   "nbconvert_exporter": "python",
   "pygments_lexer": "ipython3",
   "version": "3.8.5"
  }
 },
 "nbformat": 4,
 "nbformat_minor": 4
}
