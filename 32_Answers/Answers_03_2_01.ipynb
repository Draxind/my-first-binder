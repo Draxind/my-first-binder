{
 "cells": [
  {
   "cell_type": "markdown",
   "metadata": {},
   "source": [
    "#### Exercise 3.2.1 answer"
   ]
  },
  {
   "cell_type": "markdown",
   "metadata": {},
   "source": [
    "The table has four instances with flight mode off, so\n",
    "the three missing instances have flight mode on.\n",
    "This means the output is always false.\n",
    "\n",
    "Case | _in flight mode_ | _wifi on_ | _data on_ | _internet on_\n",
    "-|-|-|-|-\n",
    "flight mode and Wi-Fi | true | true | false | false\n",
    "flight mode and data | true | false | true | false\n",
    "only flight mode | true | false | false | false"
   ]
  }
 ],
 "metadata": {
  "kernelspec": {
   "display_name": "Python 3",
   "language": "python",
   "name": "python3"
  },
  "language_info": {
   "codemirror_mode": {
    "name": "ipython",
    "version": 3
   },
   "file_extension": ".py",
   "mimetype": "text/x-python",
   "name": "python",
   "nbconvert_exporter": "python",
   "pygments_lexer": "ipython3",
   "version": "3.8.5"
  }
 },
 "nbformat": 4,
 "nbformat_minor": 4
}
