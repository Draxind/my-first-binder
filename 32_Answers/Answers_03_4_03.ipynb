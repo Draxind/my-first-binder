{
 "cells": [
  {
   "cell_type": "markdown",
   "metadata": {},
   "source": [
    "#### Exercise 3.4.3 answer"
   ]
  },
  {
   "cell_type": "markdown",
   "metadata": {},
   "source": [
    "The algorithm only produces two grades: merit and distinction.\n",
    "Step&nbsp;1.1 classifies any mark below 80 as a merit\n",
    "and step&nbsp;4.1 classifies the remaining marks as distinctions.\n",
    "Any mark below 60 is a counter-example because it shouldn't get a merit.\n",
    "\n",
    "To correct the algorithm, the first condition can't be simplified.\n",
    "The upper bound of the fourth condition can be omitted due to the preconditions.\n",
    "The final condition can be omitted because it covers whatever cases remain.\n",
    "\n",
    "1. if 60 ≤ _mark_ < 80:\n",
    "    1.  let _pass_ be 2\n",
    "1. otherwise if _mark_ < 40:\n",
    "    1.  let _pass_ be 5\n",
    "1. otherwise if 50 ≤ _mark_ < 60:\n",
    "    1.  let _pass_ be 3\n",
    "1. otherwise if 80 ≤ _mark_:\n",
    "    1.  let _pass_ be 1\n",
    "1. otherwise:\n",
    "    1.  let _pass_ be 4\n",
    "\n",
    "As both examples show, checking for the category boundaries in a\n",
    "haphazard order doesn't allow for many simplifications."
   ]
  }
 ],
 "metadata": {
  "kernelspec": {
   "display_name": "Python 3",
   "language": "python",
   "name": "python3"
  },
  "language_info": {
   "codemirror_mode": {
    "name": "ipython",
    "version": 3
   },
   "file_extension": ".py",
   "mimetype": "text/x-python",
   "name": "python",
   "nbconvert_exporter": "python",
   "pygments_lexer": "ipython3",
   "version": "3.8.5"
  }
 },
 "nbformat": 4,
 "nbformat_minor": 4
}
