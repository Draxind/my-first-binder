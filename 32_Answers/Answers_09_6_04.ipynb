{
 "cells": [
  {
   "cell_type": "markdown",
   "metadata": {},
   "source": [
    "#### Exercise 9.6.4 answer"
   ]
  },
  {
   "cell_type": "markdown",
   "metadata": {},
   "source": [
    "The key idea (pun intended) to achieve constant time is\n",
    "to look up (rather than compute) the words for each prefix,\n",
    "using a map with the prefixes as keys and\n",
    "the completions (sequences of at most three strings) as values.\n",
    "If the prefix is in the map, then the operation returns the associated completions,\n",
    "otherwise it returns an empty sequence:\n",
    "no word has that prefix and so there are no completions.\n",
    "\n",
    "The initialisation operation does all the work.\n",
    "Each word is associated to all its prefixes.\n",
    "The sequence of score–word pairs for each prefix is then sorted in descending\n",
    "score order, trimmed to the first three suggestions and the scores removed.\n",
    "In this way the map is ready for the completions operation to use.\n",
    "\n",
    "1. let _suggestions_ be an empty map\n",
    "2. for each _word_ and _score_ read from the file:\n",
    "   1. for each _length_ from 0 to │*word*│:\n",
    "      1. let _prefix_ be _word_[0:*length*]\n",
    "      1. if _prefix_ isn't in _suggestions_:\n",
    "         1. let _suggestions_(_prefix_) be the empty sequence\n",
    "      1. append (_score_, _word_) to _suggestions_(_prefix_)\n",
    "2. for each _prefix_ in _suggestions_:\n",
    "   1. let _words_ be _suggestions_(_prefix_) in descending order\n",
    "   2. let _words_ be _words_[0:3]\n",
    "   3. for each _index_ of _words_:\n",
    "      1. let _words_[*index*] be _words_[*index*][1]\n",
    "   2. let _suggestions_(_prefix_) be _words_\n",
    "\n",
    "The loop in step&nbsp;2.1&nbsp;starts at _length_ 0 to produce the empty prefix.\n",
    "\n",
    "All steps take linear or constant time because they do at most a constant\n",
    "number _l_ of operations where _l_ is the length of a word.\n",
    "The slowest step is 3.1: sorting can take from constant time in the best case,\n",
    "if there's only one word for a given prefix, to Θ(*n*²) in the worst case,\n",
    "if all _n_ words have the same prefix.\n",
    "That case actually occurs: all words have the empty prefix.\n",
    "So the whole algorithm takes Θ(_n_) in the best case, when that entry is\n",
    "already sorted because the words are in descending score order in the file,\n",
    "and Θ(*n*²) in the worst case (when we have no such luck).\n",
    "\n",
    "Note that each word of length _l_ has _l_ + 1 prefixes (from the empty string to\n",
    "the word itself) and hence occurs _l_ + 1 times in the map when step&nbsp;3&nbsp;starts.\n",
    "This uses quite a lot more memory than the first approach,\n",
    "but in exchange we can return the completions of any prefix in constant time.\n",
    "\n",
    "The initialisation can be improved to use less memory and\n",
    "run always in linear time in the number of words, i.e. Θ(_n_).\n",
    "I'll leave that as an optional exercise.\n",
    "Hint: keep the sequences in the map bounded."
   ]
  }
 ],
 "metadata": {
  "kernelspec": {
   "display_name": "Python 3",
   "language": "python",
   "name": "python3"
  },
  "language_info": {
   "codemirror_mode": {
    "name": "ipython",
    "version": 3
   },
   "file_extension": ".py",
   "mimetype": "text/x-python",
   "name": "python",
   "nbconvert_exporter": "python",
   "pygments_lexer": "ipython3",
   "version": "3.8.5"
  }
 },
 "nbformat": 4,
 "nbformat_minor": 4
}
