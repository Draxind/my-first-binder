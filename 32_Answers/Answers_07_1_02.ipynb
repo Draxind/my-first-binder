{
 "cells": [
  {
   "cell_type": "markdown",
   "metadata": {},
   "source": [
    "#### Exercise 7.1.2 answer"
   ]
  },
  {
   "cell_type": "markdown",
   "metadata": {},
   "source": [
    "**Operation**: pop\\\n",
    "**Inputs/Outputs**: _values_, a stack\\\n",
    "**Inputs**: none\\\n",
    "**Preconditions**: 0 < │*values*│\\\n",
    "**Postconditions**: post-_values_ =\n",
    "(pre-_values_[0], ..., pre-_values_[│pre-_values_│ − 2])"
   ]
  },
  {
   "cell_type": "markdown",
   "metadata": {},
   "source": [
    "**Function**: peek\\\n",
    "**Inputs**: _values_, a stack\\\n",
    "**Preconditions**: 0 < │*values*│ \\\n",
    "**Output**: _value_, an object\\\n",
    "**Postconditions**: if _value_ is the _n_-th item of _values_, with _n_ = │*values*│"
   ]
  }
 ],
 "metadata": {
  "kernelspec": {
   "display_name": "Python 3",
   "language": "python",
   "name": "python3"
  },
  "language_info": {
   "codemirror_mode": {
    "name": "ipython",
    "version": 3
   },
   "file_extension": ".py",
   "mimetype": "text/x-python",
   "name": "python",
   "nbconvert_exporter": "python",
   "pygments_lexer": "ipython3",
   "version": "3.8.5"
  }
 },
 "nbformat": 4,
 "nbformat_minor": 4
}
