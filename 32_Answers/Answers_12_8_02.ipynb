{
 "cells": [
  {
   "cell_type": "markdown",
   "metadata": {},
   "source": [
    "#### Exercise 12.8.2 answer"
   ]
  },
  {
   "cell_type": "code",
   "execution_count": 1,
   "metadata": {
    "execution": {
     "iopub.execute_input": "2021-09-10T16:14:31.758795Z",
     "iopub.status.busy": "2021-09-10T16:14:31.758295Z",
     "iopub.status.idle": "2021-09-10T16:14:31.759868Z",
     "shell.execute_reply": "2021-09-10T16:14:31.760319Z"
    }
   },
   "outputs": [],
   "source": [
    "def has(items: list, item: object) -> bool:\n",
    "    \"\"\"Return True if and only if item is a member of items.\"\"\"\n",
    "\n",
    "    def in_slice(start: int, end: int) -> bool:\n",
    "        \"\"\"Return True if and only if item is in slice items[start:end].\n",
    "\n",
    "        Preconditions: 0 <= start <= end <= len(items)\n",
    "        \"\"\"\n",
    "        if start == end:\n",
    "            return False\n",
    "        elif start + 1 == end:\n",
    "            return items[start] == item\n",
    "        else:\n",
    "            middle = start + (end - start) // 2\n",
    "            exists_left = in_slice(start, middle)\n",
    "            exists_right = in_slice(middle, end)\n",
    "            return exists_left or exists_right\n",
    "\n",
    "    return in_slice(0, len(items))"
   ]
  }
 ],
 "metadata": {
  "kernelspec": {
   "display_name": "Python 3",
   "language": "python",
   "name": "python3"
  },
  "language_info": {
   "codemirror_mode": {
    "name": "ipython",
    "version": 3
   },
   "file_extension": ".py",
   "mimetype": "text/x-python",
   "name": "python",
   "nbconvert_exporter": "python",
   "pygments_lexer": "ipython3",
   "version": "3.8.5"
  }
 },
 "nbformat": 4,
 "nbformat_minor": 4
}
