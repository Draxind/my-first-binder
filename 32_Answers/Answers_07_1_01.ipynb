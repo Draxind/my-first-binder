{
 "cells": [
  {
   "cell_type": "markdown",
   "metadata": {},
   "source": [
    "#### Exercise 7.1.1 answer"
   ]
  },
  {
   "cell_type": "markdown",
   "metadata": {},
   "source": [
    "The item is appended to the items already in the stack, so\n",
    "no index is necessary, which simplifies the definition.\n",
    "\n",
    "**Operation**: push\\\n",
    "**Inputs/Outputs**: _values_, a stack\\\n",
    "**Inputs**: _value_, an object\\\n",
    "**Preconditions**: true\\\n",
    "**Postconditions**: post-_values_ =\n",
    "(pre-_values_[0], ..., pre-_values_[│pre-_values_│ − 1], _value_)"
   ]
  }
 ],
 "metadata": {
  "kernelspec": {
   "display_name": "Python 3",
   "language": "python",
   "name": "python3"
  },
  "language_info": {
   "codemirror_mode": {
    "name": "ipython",
    "version": 3
   },
   "file_extension": ".py",
   "mimetype": "text/x-python",
   "name": "python",
   "nbconvert_exporter": "python",
   "pygments_lexer": "ipython3",
   "version": "3.8.5"
  }
 },
 "nbformat": 4,
 "nbformat_minor": 4
}
