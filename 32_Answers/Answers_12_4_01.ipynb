{
 "cells": [
  {
   "cell_type": "markdown",
   "metadata": {},
   "source": [
    "#### Exercise 12.4.1 answer"
   ]
  },
  {
   "cell_type": "code",
   "execution_count": 1,
   "metadata": {
    "execution": {
     "iopub.execute_input": "2021-09-10T16:13:53.899700Z",
     "iopub.status.busy": "2021-09-10T16:13:53.899183Z",
     "iopub.status.idle": "2021-09-10T16:13:53.900866Z",
     "shell.execute_reply": "2021-09-10T16:13:53.901328Z"
    }
   },
   "outputs": [],
   "source": [
    "def maximum(numbers: list) -> int:\n",
    "    \"\"\"Return the largest number in numbers.\n",
    "\n",
    "    Preconditions: numbers is a non-empty list of integers\n",
    "    \"\"\"\n",
    "    if len(numbers) == 1:\n",
    "        return head(numbers)\n",
    "    return max(head(numbers), maximum(tail(numbers)))"
   ]
  }
 ],
 "metadata": {
  "kernelspec": {
   "display_name": "Python 3",
   "language": "python",
   "name": "python3"
  },
  "language_info": {
   "codemirror_mode": {
    "name": "ipython",
    "version": 3
   },
   "file_extension": ".py",
   "mimetype": "text/x-python",
   "name": "python",
   "nbconvert_exporter": "python",
   "pygments_lexer": "ipython3",
   "version": "3.8.5"
  }
 },
 "nbformat": 4,
 "nbformat_minor": 4
}
