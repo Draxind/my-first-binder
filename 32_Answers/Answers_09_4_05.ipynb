{
 "cells": [
  {
   "cell_type": "markdown",
   "metadata": {},
   "source": [
    "#### Exercise 9.4.5 answer"
   ]
  },
  {
   "cell_type": "markdown",
   "metadata": {},
   "source": [
    "I use two deques as queues and a list as a stack."
   ]
  },
  {
   "cell_type": "code",
   "execution_count": 1,
   "metadata": {
    "execution": {
     "iopub.execute_input": "2021-09-10T16:11:39.285393Z",
     "iopub.status.busy": "2021-09-10T16:11:39.284390Z",
     "iopub.status.idle": "2021-09-10T16:11:39.288318Z",
     "shell.execute_reply": "2021-09-10T16:11:39.288964Z"
    }
   },
   "outputs": [
    {
     "name": "stdout",
     "output_type": "stream",
     "text": [
      "Tests finished.\n"
     ]
    }
   ],
   "source": [
    "from collections import deque\n",
    "\n",
    "%run -i ../m269_util\n",
    "\n",
    "def rearrange(wagons: int, outgoing: list) -> bool:\n",
    "    \"\"\"Can the incoming train be rearranged into outgoing?\n",
    "\n",
    "    Preconditions: wagons > 0\n",
    "    Postconditions:\n",
    "    outgoing is a permutation of the numbers from 1 to wagons\n",
    "    \"\"\"\n",
    "    east = deque()      # queue\n",
    "    for wagon in range(1, wagons + 1):\n",
    "        east.append(wagon)\n",
    "\n",
    "    west = deque()      # queue\n",
    "    for wagon in outgoing:\n",
    "        west.append(wagon)\n",
    "\n",
    "    station = []        # stack\n",
    "    while len(west) > 0:\n",
    "        if len(station) > 0 and west[0] == station[-1]:\n",
    "            # move wagon out of station, tick it off the outgoing\n",
    "            west.popleft()\n",
    "            station.pop(-1)\n",
    "        elif len(east) == 0:\n",
    "            # no more incoming wagons available\n",
    "            return False\n",
    "        else:\n",
    "            # move incoming wagon to station\n",
    "            station.append(east.popleft())\n",
    "    return True\n",
    "\n",
    "rearrange_tests = [\n",
    "    # case,             wagons, outgoing,       rearrange?\n",
    "    ['keep order',      3,      [1, 2, 3],          True],\n",
    "    ['invert',          3,      [3, 2, 1],          True],\n",
    "    ['swap',            3,      [1, 3, 2],          True],\n",
    "    ['move to front',   5,      [5, 1, 2, 3, 4],    False],\n",
    "    # new tests:\n",
    "    ['1 wagon',         1,      [1],                True],\n",
    "    ['move to back',    4,      [2, 3, 4, 1],       True]\n",
    "]\n",
    "\n",
    "test(rearrange, rearrange_tests)"
   ]
  },
  {
   "cell_type": "markdown",
   "metadata": {},
   "source": [
    "Both queues can be represented in a much simpler way,\n",
    "each with a single integer: the front wagon of the incoming queue and\n",
    "the index of the next wagon in _outgoing_ to be sent off.\n",
    "While this is more efficient in terms of memory and run-time,\n",
    "it's an implementation optimisation.\n",
    "Conceptually, the incoming and outgoing trains are queues,\n",
    "and thinking in terms of such abstractions helps to get a grip on a problem."
   ]
  },
  {
   "cell_type": "markdown",
   "metadata": {
    "tags": [
     "NOTE"
    ]
   },
   "source": [
    "<div class=\"alert alert-warning\">\n",
    "<strong>Note:</strong> When solving a problem, try first to model it in terms of one or more ADTs.\n",
    "</div>"
   ]
  },
  {
   "cell_type": "markdown",
   "metadata": {
    "tags": [
     "INFO"
    ]
   },
   "source": [
    "<div class=\"alert alert-info\">\n",
    "<strong>Info:</strong> This problem is based on Online Judge problem\n",
    "<a href=\"https://onlinejudge.org/external/5/514.pdf\">Rails</a>.\n",
    "</div>"
   ]
  }
 ],
 "metadata": {
  "kernelspec": {
   "display_name": "Python 3",
   "language": "python",
   "name": "python3"
  },
  "language_info": {
   "codemirror_mode": {
    "name": "ipython",
    "version": 3
   },
   "file_extension": ".py",
   "mimetype": "text/x-python",
   "name": "python",
   "nbconvert_exporter": "python",
   "pygments_lexer": "ipython3",
   "version": "3.8.5"
  }
 },
 "nbformat": 4,
 "nbformat_minor": 4
}
