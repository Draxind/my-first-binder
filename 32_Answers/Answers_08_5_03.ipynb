{
 "cells": [
  {
   "cell_type": "markdown",
   "metadata": {},
   "source": [
    "#### Exercise 8.5.3 answer"
   ]
  },
  {
   "cell_type": "markdown",
   "metadata": {},
   "source": [
    "The edge cases are where zero, one and all items are unique and\n",
    "each item has zero, one or as many copies as the size of the bag:\n",
    "\n",
    "- zero unique items: the smallest bag, the empty bag {}\n",
    "- one unique item, one copy: a smallest non-empty bag with a single member, e.g. {1}\n",
    "- one unique item, as many copies as the size of the bag: e.g. {1, 1, 1}\n",
    "- all items are unique: a set, e.g. {1, 2, 3}\n",
    "- a 'normal' bag: some items repeated, e.g. {1, 2, 2, 3, 3, 3}."
   ]
  }
 ],
 "metadata": {
  "kernelspec": {
   "display_name": "Python 3",
   "language": "python",
   "name": "python3"
  },
  "language_info": {
   "codemirror_mode": {
    "name": "ipython",
    "version": 3
   },
   "file_extension": ".py",
   "mimetype": "text/x-python",
   "name": "python",
   "nbconvert_exporter": "python",
   "pygments_lexer": "ipython3",
   "version": "3.8.5"
  }
 },
 "nbformat": 4,
 "nbformat_minor": 4
}
