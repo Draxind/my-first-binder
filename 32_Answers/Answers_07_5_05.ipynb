{
 "cells": [
  {
   "cell_type": "markdown",
   "metadata": {},
   "source": [
    "#### Exercise 7.5.5 answer"
   ]
  },
  {
   "cell_type": "code",
   "execution_count": 1,
   "metadata": {
    "execution": {
     "iopub.execute_input": "2021-09-10T16:07:55.104213Z",
     "iopub.status.busy": "2021-09-10T16:07:55.103602Z",
     "iopub.status.idle": "2021-09-10T16:07:55.105333Z",
     "shell.execute_reply": "2021-09-10T16:07:55.105789Z"
    }
   },
   "outputs": [],
   "source": [
    "class LinkedDeque:\n",
    "\n",
    "    def back(self) -> object:\n",
    "        return self.end.item\n",
    "\n",
    "    def prepend(self, item: object) -> None:\n",
    "        new = LinkedDeque.Node(item)\n",
    "        if self.head == None:          # empty deque\n",
    "            self.head = new\n",
    "            self.end = new\n",
    "        else:\n",
    "            new.next = self.head\n",
    "            self.head.previous = new\n",
    "            self.head = new\n",
    "        self.size = self.size + 1\n",
    "\n",
    "    def remove_back(self) -> None:\n",
    "        if self.head == self.end:   # only one node\n",
    "            self.head = None\n",
    "            self.end = None\n",
    "        else:                       # there's a penultimate node\n",
    "            self.end = self.end.previous\n",
    "            self.end.next = None\n",
    "        self.size = self.size - 1"
   ]
  }
 ],
 "metadata": {
  "kernelspec": {
   "display_name": "Python 3",
   "language": "python",
   "name": "python3"
  },
  "language_info": {
   "codemirror_mode": {
    "name": "ipython",
    "version": 3
   },
   "file_extension": ".py",
   "mimetype": "text/x-python",
   "name": "python",
   "nbconvert_exporter": "python",
   "pygments_lexer": "ipython3",
   "version": "3.8.5"
  }
 },
 "nbformat": 4,
 "nbformat_minor": 4
}
