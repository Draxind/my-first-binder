{
 "cells": [
  {
   "cell_type": "markdown",
   "metadata": {},
   "source": [
    "#### Exercise 7.3.7 answer"
   ]
  },
  {
   "cell_type": "markdown",
   "metadata": {},
   "source": [
    "The first loop iterates _n_ times to create the circle.\n",
    "The outer loop iterates _n_ − 1 times to simulate the _n_ − 1 rounds\n",
    "and the inner loop iterates 27 times.\n",
    "All `deque` methods take constant time, and so does the inner loop.\n",
    "\n",
    "The algorithm boils down to two linear-time loops, one after the other,\n",
    "and so the overall complexity is linear in _n_.\n",
    "In Big-Theta notation:\n",
    "Θ(_n_) + Θ(_n_ - 1) = Θ(_n_) + Θ(_n_) = Θ(2×_n_) = Θ(_n_)\n",
    "because constants are ignored."
   ]
  }
 ],
 "metadata": {
  "kernelspec": {
   "display_name": "Python 3",
   "language": "python",
   "name": "python3"
  },
  "language_info": {
   "codemirror_mode": {
    "name": "ipython",
    "version": 3
   },
   "file_extension": ".py",
   "mimetype": "text/x-python",
   "name": "python",
   "nbconvert_exporter": "python",
   "pygments_lexer": "ipython3",
   "version": "3.8.5"
  }
 },
 "nbformat": 4,
 "nbformat_minor": 4
}
