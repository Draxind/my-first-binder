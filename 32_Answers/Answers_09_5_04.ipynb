{
 "cells": [
  {
   "cell_type": "markdown",
   "metadata": {},
   "source": [
    "#### Exercise 9.5.4 answer"
   ]
  },
  {
   "cell_type": "markdown",
   "metadata": {},
   "source": [
    "As I mentioned earlier, the browsing history is conceptually like\n",
    "a bounded queue that provides access to an element in the middle.\n",
    "I can implement it with:\n",
    "\n",
    "- a circular static array with capacity for _p_ strings\n",
    "- _start_ and _current_, the array indices of the oldest and current pages\n",
    "- _end_, the next available array index.\n",
    "\n",
    "Using a single static array is more efficient in terms of memory and run-time\n",
    "than using two doubly linked lists for deques that grow and shrink,\n",
    "even though their combined length is bounded.\n",
    "\n",
    "Visiting the previous or next page, if there is one,\n",
    "is achieved by decrementing or incrementing _current_.\n",
    "\n",
    "Visiting a new page increments the _current_ index,\n",
    "puts the new URL in that position and\n",
    "sets _end_ to the index after _current_ to forget the next page(s).\n",
    "If necessary, the _start_ index is incremented to forget the oldest page.\n",
    "\n",
    "All operations must of course wrap the indices around as needed."
   ]
  }
 ],
 "metadata": {
  "kernelspec": {
   "display_name": "Python 3",
   "language": "python",
   "name": "python3"
  },
  "language_info": {
   "codemirror_mode": {
    "name": "ipython",
    "version": 3
   },
   "file_extension": ".py",
   "mimetype": "text/x-python",
   "name": "python",
   "nbconvert_exporter": "python",
   "pygments_lexer": "ipython3",
   "version": "3.8.5"
  }
 },
 "nbformat": 4,
 "nbformat_minor": 4
}
