{
 "cells": [
  {
   "cell_type": "markdown",
   "metadata": {},
   "source": [
    "#### Exercise 14.7.3 answer"
   ]
  },
  {
   "cell_type": "markdown",
   "metadata": {},
   "source": [
    "I use _item_ as the output variable name.\n",
    "\n",
    "A sequence can't be split if it's empty (which the preconditions don't allow)\n",
    "or has a single item, i.e. _n_ = 1. In that case, it must be _k_ = 1 and\n",
    "the smallest item is the only item in the sequence.\n",
    "\n",
    "1. if _n_ = 1:\n",
    "   1. let _item_ be _unsorted_[0]\n",
    "1. otherwise:\n",
    "   1. let (_smaller_, _pivot_, _larger_) be partition(_unsorted_)\n",
    "   1. if │*smaller*│ = _k_ − 1:\n",
    "      1. let _item_ be _pivot_[0]\n",
    "   1. otherwise if │*smaller*│ ≥ _k_:\n",
    "      1. let _item_ be quickselect(_smaller_, _key_, _k_)\n",
    "   1. otherwise:\n",
    "      1. let _item_ be quickselect(_larger_, _key_, _k_ − │*smaller*│ − 1)"
   ]
  }
 ],
 "metadata": {
  "kernelspec": {
   "display_name": "Python 3",
   "language": "python",
   "name": "python3"
  },
  "language_info": {
   "codemirror_mode": {
    "name": "ipython",
    "version": 3
   },
   "file_extension": ".py",
   "mimetype": "text/x-python",
   "name": "python",
   "nbconvert_exporter": "python",
   "pygments_lexer": "ipython3",
   "version": "3.8.5"
  }
 },
 "nbformat": 4,
 "nbformat_minor": 4
}
