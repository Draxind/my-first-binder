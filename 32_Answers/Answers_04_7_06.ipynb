{
 "cells": [
  {
   "cell_type": "markdown",
   "metadata": {},
   "source": [
    "#### Exercise 4.7.6 answer"
   ]
  },
  {
   "cell_type": "markdown",
   "metadata": {},
   "source": [
    "The algorithm stops when both fingers meet (the sequence has odd length)\n",
    "or cross each other (the sequence has even length).\n",
    "\n",
    "1. left _left index_ be 0\n",
    "2. left _right index_ be │*values*│ - 1\n",
    "3. while _left index_ < _right index_:\n",
    "   1. _left item_ = _values_[*left index*]\n",
    "   1. _right item_ = _values_[*right index*]\n",
    "   1. let _values_[*left index*] be _right item_\n",
    "   1. let _values_[*right index*] be _left item_\n",
    "   1. let _left index_ be _left index_ + 1\n",
    "   1. let _right index_ be _right index_ - 1\n",
    "\n",
    "The first four steps in the loop can be simplified to:\n",
    "\n",
    "1. _left item_ = _values_[*left index*]\n",
    "1. let _values_[*left index*] be _values_[*right index*]\n",
    "1. let _values_[*right index*] be _left item_\n",
    "\n",
    "but not to:\n",
    "\n",
    "1. let _values_[*left index*] be _values_[*right index*]\n",
    "1. let _values_[*right index*] be _values_[*left index*]"
   ]
  },
  {
   "cell_type": "markdown",
   "metadata": {
    "tags": [
     "INFO"
    ]
   },
   "source": [
    "<div class=\"alert alert-info\">\n",
    "<strong>Info:</strong> TM112 Block&nbsp;1 Activity 2.16 explains why.\n",
    "</div>"
   ]
  }
 ],
 "metadata": {
  "kernelspec": {
   "display_name": "Python 3",
   "language": "python",
   "name": "python3"
  },
  "language_info": {
   "codemirror_mode": {
    "name": "ipython",
    "version": 3
   },
   "file_extension": ".py",
   "mimetype": "text/x-python",
   "name": "python",
   "nbconvert_exporter": "python",
   "pygments_lexer": "ipython3",
   "version": "3.8.5"
  }
 },
 "nbformat": 4,
 "nbformat_minor": 4
}
