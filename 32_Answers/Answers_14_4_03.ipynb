{
 "cells": [
  {
   "cell_type": "markdown",
   "metadata": {},
   "source": [
    "#### Exercise 14.4.3 answer"
   ]
  },
  {
   "cell_type": "markdown",
   "metadata": {},
   "source": [
    "As items are swapped out of their original place, items with duplicate keys\n",
    "may get out of order. For example, to sort the card sequence ('7H', '7S', 'AD')\n",
    "by value, the linear search finds the ace to be the lowest value and\n",
    "swaps it with the first card, obtaining ('AD', '7S', '7H').\n",
    "This is already sorted by value so no further swaps are done.\n",
    "The sorted sequence hasn't got the sevens\n",
    "in their original order so in-place selection sort isn't stable."
   ]
  }
 ],
 "metadata": {
  "kernelspec": {
   "display_name": "Python 3",
   "language": "python",
   "name": "python3"
  },
  "language_info": {
   "codemirror_mode": {
    "name": "ipython",
    "version": 3
   },
   "file_extension": ".py",
   "mimetype": "text/x-python",
   "name": "python",
   "nbconvert_exporter": "python",
   "pygments_lexer": "ipython3",
   "version": "3.8.5"
  }
 },
 "nbformat": 4,
 "nbformat_minor": 4
}
