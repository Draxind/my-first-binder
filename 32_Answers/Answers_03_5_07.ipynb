{
 "cells": [
  {
   "cell_type": "markdown",
   "metadata": {},
   "source": [
    "#### Exercise 3.5.7 answer"
   ]
  },
  {
   "cell_type": "code",
   "execution_count": 1,
   "metadata": {
    "execution": {
     "iopub.execute_input": "2021-09-10T16:03:52.932036Z",
     "iopub.status.busy": "2021-09-10T16:03:52.931317Z",
     "iopub.status.idle": "2021-09-10T16:03:52.933111Z",
     "shell.execute_reply": "2021-09-10T16:03:52.933643Z"
    }
   },
   "outputs": [],
   "source": [
    "def maximum(left: float, right: float) -> float:\n",
    "    \"\"\"Return the largest of the two values.\n",
    "\n",
    "    Postconditions:\n",
    "    return left if left > right, otherwise return right\n",
    "    \"\"\"\n",
    "    if left > right:\n",
    "        largest = left\n",
    "    else:\n",
    "        largest = right\n",
    "    return largest"
   ]
  },
  {
   "cell_type": "markdown",
   "metadata": {},
   "source": [
    "You may have written:\n",
    "```py\n",
    "if left > right:\n",
    "    return left\n",
    "else:\n",
    "    return right\n",
    "```\n",
    "My tests are:"
   ]
  },
  {
   "cell_type": "code",
   "execution_count": 2,
   "metadata": {
    "execution": {
     "iopub.execute_input": "2021-09-10T16:03:52.942771Z",
     "iopub.status.busy": "2021-09-10T16:03:52.942117Z",
     "iopub.status.idle": "2021-09-10T16:03:52.944846Z",
     "shell.execute_reply": "2021-09-10T16:03:52.945361Z"
    }
   },
   "outputs": [
    {
     "data": {
      "text/plain": [
       "True"
      ]
     },
     "execution_count": 1,
     "metadata": {},
     "output_type": "execute_result"
    }
   ],
   "source": [
    "maximum(5, 3.5) == 5"
   ]
  },
  {
   "cell_type": "code",
   "execution_count": 3,
   "metadata": {
    "execution": {
     "iopub.execute_input": "2021-09-10T16:03:52.948198Z",
     "iopub.status.busy": "2021-09-10T16:03:52.947716Z",
     "iopub.status.idle": "2021-09-10T16:03:52.950070Z",
     "shell.execute_reply": "2021-09-10T16:03:52.950610Z"
    }
   },
   "outputs": [
    {
     "data": {
      "text/plain": [
       "True"
      ]
     },
     "execution_count": 1,
     "metadata": {},
     "output_type": "execute_result"
    }
   ],
   "source": [
    "maximum(-5.3, 3.5) == 3.5"
   ]
  },
  {
   "cell_type": "code",
   "execution_count": 4,
   "metadata": {
    "execution": {
     "iopub.execute_input": "2021-09-10T16:03:52.954393Z",
     "iopub.status.busy": "2021-09-10T16:03:52.953604Z",
     "iopub.status.idle": "2021-09-10T16:03:52.955979Z",
     "shell.execute_reply": "2021-09-10T16:03:52.956291Z"
    }
   },
   "outputs": [
    {
     "data": {
      "text/plain": [
       "True"
      ]
     },
     "execution_count": 1,
     "metadata": {},
     "output_type": "execute_result"
    }
   ],
   "source": [
    "maximum(-3, -3) == -3"
   ]
  }
 ],
 "metadata": {
  "kernelspec": {
   "display_name": "Python 3",
   "language": "python",
   "name": "python3"
  },
  "language_info": {
   "codemirror_mode": {
    "name": "ipython",
    "version": 3
   },
   "file_extension": ".py",
   "mimetype": "text/x-python",
   "name": "python",
   "nbconvert_exporter": "python",
   "pygments_lexer": "ipython3",
   "version": "3.8.5"
  }
 },
 "nbformat": 4,
 "nbformat_minor": 4
}
