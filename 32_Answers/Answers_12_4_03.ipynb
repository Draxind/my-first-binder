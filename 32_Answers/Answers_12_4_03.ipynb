{
 "cells": [
  {
   "cell_type": "markdown",
   "metadata": {},
   "source": [
    "#### Exercise 12.4.3 answer"
   ]
  },
  {
   "cell_type": "code",
   "execution_count": 1,
   "metadata": {
    "execution": {
     "iopub.execute_input": "2021-09-10T16:13:58.431071Z",
     "iopub.status.busy": "2021-09-10T16:13:58.430563Z",
     "iopub.status.idle": "2021-09-10T16:13:58.435540Z",
     "shell.execute_reply": "2021-09-10T16:13:58.436005Z"
    }
   },
   "outputs": [],
   "source": [
    "%run -i ../m269_util\n",
    "%run -i ../m269_rec_list\n",
    "\n",
    "def value(items: list, index: int) -> object:\n",
    "    \"\"\"Return the value at position index of items.\n",
    "\n",
    "    Preconditions: 0 <= index < len(items)\n",
    "    \"\"\"\n",
    "    if index == 0:\n",
    "        return head(items)\n",
    "    return value(tail(items), index - 1)\n",
    "\n",
    "value_tests = [\n",
    "    # case,             items,      index,  value\n",
    "    ('shortest input',  [5],        0,      5),\n",
    "    ('access last',     [3, 4, 1],  2,      1),\n",
    "    ('access middle',   [3, 4, 1],  1,      4)\n",
    "]"
   ]
  }
 ],
 "metadata": {
  "kernelspec": {
   "display_name": "Python 3",
   "language": "python",
   "name": "python3"
  },
  "language_info": {
   "codemirror_mode": {
    "name": "ipython",
    "version": 3
   },
   "file_extension": ".py",
   "mimetype": "text/x-python",
   "name": "python",
   "nbconvert_exporter": "python",
   "pygments_lexer": "ipython3",
   "version": "3.8.5"
  }
 },
 "nbformat": 4,
 "nbformat_minor": 4
}
