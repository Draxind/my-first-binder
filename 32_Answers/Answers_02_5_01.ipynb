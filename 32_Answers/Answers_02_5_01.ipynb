{
 "cells": [
  {
   "cell_type": "markdown",
   "metadata": {},
   "source": [
    "#### Exercise 2.5.1 answer"
   ]
  },
  {
   "cell_type": "markdown",
   "metadata": {},
   "source": [
    "Here's my solution; other variable names and currencies are possible.\n",
    "You could also represent the rate as an integer between 0 and 100."
   ]
  },
  {
   "cell_type": "markdown",
   "metadata": {},
   "source": [
    "**Function**: total price\\\n",
    "**Inputs**: _price_, a real number; _vat rate_, a real number\\\n",
    "**Preconditions**: _price_ > 0; _price_ is in euros; 0 ≤ _vat rate_ < 1\\\n",
    "**Output**: _total_, a real number\\\n",
    "**Postconditions**: _total_ = _price_ × (1 + _vat rate_); _total_ is in euros"
   ]
  }
 ],
 "metadata": {
  "kernelspec": {
   "display_name": "Python 3",
   "language": "python",
   "name": "python3"
  },
  "language_info": {
   "codemirror_mode": {
    "name": "ipython",
    "version": 3
   },
   "file_extension": ".py",
   "mimetype": "text/x-python",
   "name": "python",
   "nbconvert_exporter": "python",
   "pygments_lexer": "ipython3",
   "version": "3.8.5"
  }
 },
 "nbformat": 4,
 "nbformat_minor": 4
}
