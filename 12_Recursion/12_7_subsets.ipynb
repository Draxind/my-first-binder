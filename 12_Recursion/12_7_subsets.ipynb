{
 "cells": [
  {
   "cell_type": "markdown",
   "metadata": {},
   "source": [
    "## 12.7 Subsets and permutations"
   ]
  },
  {
   "cell_type": "markdown",
   "metadata": {},
   "source": [
    "As promised in the previous chapter, I now show two algorithms\n",
    "to generate permutations and subsets. Both are recursive.\n",
    "The main aims of this section are\n",
    "to illustrate more complicated combination steps and show that the decrease step\n",
    "splits the input collection into an item and the rest of the collection.\n",
    "Any item will do, but for sequences it's usually the head."
   ]
  },
  {
   "cell_type": "markdown",
   "metadata": {},
   "source": [
    "### 12.7.1 Generating subsets"
   ]
  },
  {
   "cell_type": "markdown",
   "metadata": {},
   "source": [
    "Let's generate all subsets of a given set of items. The output will be\n",
    "a sequence of subsets so that we can see in which order they're generated.\n",
    "The usual two questions, adapted to this problem, are:\n",
    "\n",
    "1. What's the smallest input and the corresponding output?\n",
    "   It's the empty set; the output is a sequence just with the empty set.\n",
    "\n",
    "2. If we have all the subsets for a set with one member less,\n",
    "   how do we obtain the subsets of the whole set?\n",
    "\n",
    "When in doubt about how to proceed, construct an example – preferably small.\n",
    "Let's assume the input is {1, 2} and we take member 2 away.\n",
    "\n",
    "Set | Subsets\n",
    "-|-\n",
    "{1}  |  {}, {1}\n",
    "{1, 2}  |  {}, {1}, {2}, {1, 2}\n",
    "\n",
    "We can see that the subsets of {1, 2} are the subsets of {1} plus\n",
    "the subsets of {1} with the removed member 2 added to them:\n",
    "{2} is obtained by adding 2 to {} and {1, 2} is obtained by adding 2 to {1}.\n",
    "\n",
    "More generally, each subset of S $\\cup$ {_item_} either doesn't include _item_,\n",
    "in which case it's a subset of S, or it does include _item_, in which case\n",
    "it's a subset of S with _item_ added to it.\n",
    "\n",
    "Here's an algorithm for subsets(_items_),\n",
    "with _solution_ as the output variable.\n",
    "\n",
    "1. if _items_ = {}:\n",
    "   1. let _solution_ be ({})\n",
    "2. otherwise:\n",
    "   1. let _item_ be an element of _items_\n",
    "   2. let _rest_ be _items_ − {_item_}\n",
    "   1. let _solution_ be subsets(_rest_)\n",
    "   1. for each _subset_ in _solution_:\n",
    "      1. append _subset_ $\\cup$ {_item_} to _solution_\n",
    "\n",
    "Step&nbsp;1.1&nbsp;handles the base case, steps 2.2 and 2.3 decrease and recur, and\n",
    "step&nbsp;2.4 combines the result for the rest of the set with the removed item.\n",
    "\n",
    "Step&nbsp;2.4.1 is appending to the sequence that is being iterated over.\n",
    "The sequence is thereby always getting longer and the iteration never stops.\n",
    "The algorithm is incorrect because it enters an infinite loop,\n",
    "without ever producing the output."
   ]
  },
  {
   "cell_type": "markdown",
   "metadata": {
    "tags": [
     "NOTE"
    ]
   },
   "source": [
    "<div class=\"alert alert-warning\">\n",
    "<strong>Note:</strong> A loop iterating over a collection must not increase that collection.\n",
    "</div>"
   ]
  },
  {
   "cell_type": "markdown",
   "metadata": {},
   "source": [
    "Here's a correct version.\n",
    "\n",
    "1. if _items_ = {}:\n",
    "   1. let _solution_ be ({})\n",
    "2. otherwise:\n",
    "   1. let _item_ be an element of _items_\n",
    "   2. let _rest_ be _items_ − {_item_}\n",
    "   1. let _subsolution_ be subsets(_rest_)\n",
    "   1. let _new subsets_ be the empty sequence\n",
    "   1. for each _subset_ in _subsolution_:\n",
    "      1. append _subset_ $\\cup$ {_item_} to _new subsets_\n",
    "   1. let _solution_ be _subsolution_ concatenated with _new subsets_\n",
    "\n",
    "Step&nbsp;2.6 puts the new subsets after the recursively generated ones\n",
    "to keep the order in which they were generated.\n",
    "\n",
    "Let's see the algorithm in action. Most of the algorithm is straightforward to\n",
    "translate to code, using Python's [set operators](../08_Unordered/08_4_set.ipynb#8.4-Sets).\n",
    "Step&nbsp;2.1 requires some thinking. Method `pop`,\n",
    "introduced in [Section&nbsp;11.2.2](../11_Search/11_2_factorisation.ipynb#11.2.2-Compute-solutions),\n",
    "removes an arbitrary member from a set, but we shouldn't change the input.\n",
    "The simplest way I can think of implementing step&nbsp;2.1 is to convert the\n",
    "set to a list and pick the first item."
   ]
  },
  {
   "cell_type": "code",
   "execution_count": 1,
   "metadata": {
    "execution": {
     "iopub.execute_input": "2021-09-10T15:40:15.270726Z",
     "iopub.status.busy": "2021-09-10T15:40:15.270123Z",
     "iopub.status.idle": "2021-09-10T15:40:15.272808Z",
     "shell.execute_reply": "2021-09-10T15:40:15.273462Z"
    }
   },
   "outputs": [
    {
     "data": {
      "text/plain": [
       "[set(), {3}, {2}, {2, 3}, {1}, {1, 3}, {1, 2}, {1, 2, 3}]"
      ]
     },
     "execution_count": 1,
     "metadata": {},
     "output_type": "execute_result"
    }
   ],
   "source": [
    "def subsets(items: set) -> list:\n",
    "    \"\"\"Return all subsets of items, in the order generated.\"\"\"\n",
    "    if items == set():      # alternative: len(items) == 0\n",
    "        return [set()]\n",
    "    item = list(items)[0]\n",
    "    rest = items - {item}\n",
    "    subsolution = subsets(rest)\n",
    "    new_subsets = []\n",
    "    for subset in subsolution:\n",
    "        new_subsets.append(subset.union({item}))\n",
    "    return subsolution + new_subsets\n",
    "\n",
    "subsets({1, 2, 3})"
   ]
  },
  {
   "cell_type": "markdown",
   "metadata": {},
   "source": [
    "The empty subset (the base case) is generated first, then some member is added.\n",
    "The third and fourth subsets add another member to the first two subsets.\n",
    "The last four subsets add the remaining third member to the first four subsets:\n",
    "the fifth subset adds the item to the first (empty) subset,\n",
    "the sixth subset adds the item to the second subset, and so on."
   ]
  },
  {
   "cell_type": "markdown",
   "metadata": {},
   "source": [
    "### 12.7.2 Generating permutations"
   ]
  },
  {
   "cell_type": "markdown",
   "metadata": {},
   "source": [
    "The next problem is to generate all rearrangements of a given sequence of items.\n",
    "Once more, I'll output a sequence to see in which order the permutations\n",
    "are generated.\n",
    "\n",
    "The smallest input, i.e. the base case, is the empty sequence,\n",
    "which has a single permutation: itself.\n",
    "\n",
    "The second question is: if we have the permutations of tail(S),\n",
    "how do we construct the permutations for sequence S?\n",
    "Let's consider input sequence (1, 2, 3) with head 1 and tail (2,&nbsp;3).\n",
    "\n",
    "Sequence | Permutations\n",
    "-|-\n",
    "(1, 2, 3)  | (1, 2, 3) (1, 3, 2) (2, 1, 3) (2, 3, 1) (3, 1, 2) (3, 2, 1)\n",
    "(2, 3)  |  (2, 3) (3, 2)\n",
    "\n",
    "The permutations for (1, 2, 3) can be obtained by inserting head 1 in\n",
    "all possible positions of each permutation for (2, 3). For example,\n",
    "permutation (2, 3) leads to permutations (1, 2, 3), (2,&nbsp;1,&nbsp;3) and (2, 3, 1).\n",
    "\n",
    "More generally, every permutation P of tail(S) with length _n_ leads to _n_\n",
    "permutations of S, by inserting head(S) at positions\n",
    "0, 1, ..., _n_ – 1, and _n_. The last insertion is effectively an append.\n",
    "Here's an algorithm for permutations(_items_)\n",
    "with output variable _arrangements_.\n",
    "\n",
    "1. if _items_ is empty:\n",
    "   1. let _arrangements_ be the empty sequence\n",
    "2. otherwise:\n",
    "   1. let _arrangements_ be the empty sequence\n",
    "   2. let _item_ be head(_items_)\n",
    "   2. for each _permutation_ in permutations(tail(_items_)):\n",
    "      1. for each _index_ from 0 to │*permutation*│:\n",
    "         1. let _new permutation_ be a copy of _permutation_\n",
    "         2. insert _item_ in _new permutation_ at position _index_\n",
    "         2. append _new permutation_ to _arrangements_\n",
    "\n",
    "The easiest way to copy a list (step&nbsp;2.3.1.1) is to slice all of it.\n",
    "Here's the code."
   ]
  },
  {
   "cell_type": "code",
   "execution_count": 2,
   "metadata": {
    "execution": {
     "iopub.execute_input": "2021-09-10T15:40:15.279091Z",
     "iopub.status.busy": "2021-09-10T15:40:15.278373Z",
     "iopub.status.idle": "2021-09-10T15:40:15.281455Z",
     "shell.execute_reply": "2021-09-10T15:40:15.281902Z"
    }
   },
   "outputs": [
    {
     "data": {
      "text/plain": [
       "[]"
      ]
     },
     "execution_count": 1,
     "metadata": {},
     "output_type": "execute_result"
    }
   ],
   "source": [
    "%run -i ../m269_rec_list\n",
    "\n",
    "def permutations(items: list) -> list:\n",
    "    \"\"\"Return all permutations of items in the order generated.\"\"\"\n",
    "    if len(items) == 0:\n",
    "        return []\n",
    "    arrangements = []\n",
    "    item = head(items)\n",
    "    for permutation in permutations(tail(items)):\n",
    "        for index in range(len(permutation) + 1):\n",
    "            new_permutation = permutation[0:len(permutation)]\n",
    "            new_permutation.insert(index, item)\n",
    "            arrangements.append(new_permutation)\n",
    "    return arrangements\n",
    "\n",
    "permutations([1, 2, 3])"
   ]
  },
  {
   "cell_type": "markdown",
   "metadata": {},
   "source": [
    "Hmm, the plot thickens.\n",
    "Why on Earth isn't there a single permutation?!\n",
    "\n",
    "This is an actual mistake I did and it took me some minutes to figure it out.\n",
    "The reason is that `permutations([])` returns the empty list, so\n",
    "the outer for-loop doesn't execute for `permutations([3])` because\n",
    "there's no permutation in an empty list. So the function call returns\n",
    "the empty list and so do `permutations([2, 3])` and `permutations([1, 2, 3])`.\n",
    "In a nutshell, the algorithm needs the permutations for tails(S) in order to\n",
    "construct the permutations for S, but there are none.\n",
    "\n",
    "Can you suggest how to easily fix the problem?\n",
    "(Hint: see the subset generation algorithm.)\n",
    "\n",
    "___\n",
    "\n",
    "The subset generation algorithm doesn't return the empty set for the base case:\n",
    "it returns a sequence with an empty set. Likewise,\n",
    "this algorithm must return a sequence with the empty permutation.\n",
    "Step&nbsp;1.1 must be changed to\n",
    "\n",
    "1. 1. let _arrangements_ be ( () )\n",
    "\n",
    "and the second line of code must become `return [ [] ]`.\n",
    "If you make these changes and run the code again, it will work as expected.\n",
    "\n",
    "Everyone makes mistakes.\n",
    "The important thing is to learn from them to avoid repeating them.\n",
    "Here, I rushed the analysis of the base case. I wrote above:\n",
    "\n",
    "> The smallest input, i.e. the base case, is the empty sequence,\n",
    "> which has a single permutation: itself.\n",
    "\n",
    "That's correct but my failure to answer the second part of the question\n",
    "'What's the base case and the corresponding output?' led to the mistake.\n",
    "The moral of the story is to always follow the 'checklist' of questions."
   ]
  },
  {
   "cell_type": "markdown",
   "metadata": {},
   "source": [
    "⟵ [Previous section](12_6_avoid_slicing.ipynb) | [Up](12-introduction.ipynb) | [Next section](12_8_multiple.ipynb) ⟶"
   ]
  }
 ],
 "metadata": {
  "kernelspec": {
   "display_name": "Python 3",
   "language": "python",
   "name": "python3"
  },
  "language_info": {
   "codemirror_mode": {
    "name": "ipython",
    "version": 3
   },
   "file_extension": ".py",
   "mimetype": "text/x-python",
   "name": "python",
   "nbconvert_exporter": "python",
   "pygments_lexer": "ipython3",
   "version": "3.8.5"
  }
 },
 "nbformat": 4,
 "nbformat_minor": 4
}
