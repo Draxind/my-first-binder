{
 "cells": [
  {
   "cell_type": "markdown",
   "metadata": {},
   "source": [
    "## 12.2 Recursion on integers"
   ]
  },
  {
   "cell_type": "markdown",
   "metadata": {},
   "source": [
    "Let's step back from the factorial example and see\n",
    "how to design a recursive algorithm on integers.\n",
    "Consider a problem on an integer _n_ with precondition _n_ ≥ _lowest_.\n",
    "Computing the factorial is such a problem, with _lowest_ = 0."
   ]
  },
  {
   "cell_type": "markdown",
   "metadata": {},
   "source": [
    "### 12.2.1 Algorithm"
   ]
  },
  {
   "cell_type": "markdown",
   "metadata": {},
   "source": [
    "A recursive algorithm repeatedly decreases _n_ by one each time,\n",
    "until it can't be further decreased, i.e. until the input is _lowest_.\n",
    "At that point we reached the base case and the answer is directly computed.\n",
    "Then, the output for _lowest_ is used to obtain the answer for _lowest_ + 1.\n",
    "That output is then used to obtain the output for _lowest_ + 2 and so on,\n",
    "until we get the output for the original input _n_.\n",
    "\n",
    "The algorithmic pattern for a recursive decrease by one function f(_n_) is:\n",
    "\n",
    "1. if _n_ = _lowest_:\n",
    "   1. let _solution_ be ...\n",
    "3. otherwise:\n",
    "   1. let _subproblem_ be _n_−1\n",
    "   1. let _subsolution_ be f(_subproblem_)\n",
    "   2. let _solution_ be based on _subsolution_ and _n_\n",
    "\n",
    "The algorithm first checks for the base case (step&nbsp;1) and\n",
    "computes the output directly (step&nbsp;1.1).\n",
    "Otherwise, the algorithm decreases the input (step&nbsp;2.1), makes a recursive call\n",
    "to solve the smaller subproblem (step&nbsp;2.2),\n",
    "and finally combines the 'subsolution' (the solution for the subproblem)\n",
    "with _n_ to get the solution for the original problem (step&nbsp;2.3).\n",
    "As you shall see, for some problems the solution can be computed from the\n",
    "subsolution only, without using the value of _n_, but that's rare.\n",
    "\n",
    "To sum up, a recursive algorithm usually consists of four steps:\n",
    "\n",
    "- check and compute the base case\n",
    "- decrease the input\n",
    "- recur\n",
    "- combine.\n",
    "\n",
    "If the last three steps are simple and short,\n",
    "they are merged into a single expression, as done for the factorial.\n",
    "\n",
    "The second step usually decreases the input by one to make sure\n",
    "it reaches the base case. For example, if _lowest_ = 3 and\n",
    "the input were decreased by two at a time,\n",
    "then the recursion wouldn't stop for any even _n_,\n",
    "because the successive inputs would be ..., 4, 2, 0, −2, −4, ..."
   ]
  },
  {
   "cell_type": "markdown",
   "metadata": {},
   "source": [
    "### 12.2.2 Recursive definition"
   ]
  },
  {
   "cell_type": "markdown",
   "metadata": {},
   "source": [
    "To fill in the algorithmic pattern, you only need to come up with\n",
    "the recursive definition and for that you need to answer just two questions:\n",
    "\n",
    "1. What's the lowest value for the input and what's the corresponding output?\n",
    "2. If I know the output for _n_−1, how can I use it to compute the output for _n_?\n",
    "\n",
    "The recursive definition for function f is then:\n",
    "\n",
    "- if _n_ = _lowest_: f(_n_) = output\n",
    "- if _n_ > _lowest_: f(_n_) = some expression based on f(_n_−1) and _n_.\n",
    "\n",
    "Not all problems on integers can be defined recursively. For example,\n",
    "as far as I know there's no recursive definition for being prime, because\n",
    "whether _n_−1 is prime doesn't in general provide a clue about whether _n_ is prime.\n",
    "So for this example, it's not possible, at least without advanced mathematical knowledge,\n",
    "to answer question 2 above."
   ]
  },
  {
   "cell_type": "markdown",
   "metadata": {},
   "source": [
    "#### Exercise 12.2.1"
   ]
  },
  {
   "cell_type": "markdown",
   "metadata": {},
   "source": [
    "Write a recursive definition of whether a positive integer is even,\n",
    "i.e. divisible by two."
   ]
  },
  {
   "cell_type": "markdown",
   "metadata": {},
   "source": [
    "- if _n_ = ...: even(_n_) = ...\n",
    "- if _n_ > ...: even(_n_) = ...\n",
    "\n",
    "\n",
    "[Hint](../31_Hints/Hints_12_2_01.ipynb)\n",
    "[Answer](../32_Answers/Answers_12_2_01.ipynb)"
   ]
  },
  {
   "cell_type": "markdown",
   "metadata": {},
   "source": [
    "#### Exercise 12.2.2"
   ]
  },
  {
   "cell_type": "markdown",
   "metadata": {},
   "source": [
    "Implement it and add more tests. Add print statements if you wish."
   ]
  },
  {
   "cell_type": "code",
   "execution_count": 1,
   "metadata": {
    "execution": {
     "iopub.execute_input": "2021-09-10T15:39:58.242175Z",
     "iopub.status.busy": "2021-09-10T15:39:58.241569Z",
     "iopub.status.idle": "2021-09-10T15:39:58.244848Z",
     "shell.execute_reply": "2021-09-10T15:39:58.245302Z"
    }
   },
   "outputs": [],
   "source": [
    "%run -i ../m269_util\n",
    "\n",
    "def even(n: int) -> bool:\n",
    "    \"\"\"Write the docstring here.\"\"\"\n",
    "    pass\n",
    "\n",
    "even_tests = [\n",
    "    # case,             n,      even?\n",
    "    ('smallest even',   2,      True),\n",
    "    ('larger even',     100,    True),\n",
    "    # your tests here\n",
    "]\n",
    "\n",
    "test(even, even_tests)"
   ]
  },
  {
   "cell_type": "markdown",
   "metadata": {},
   "source": [
    "[Answer](../32_Answers/Answers_12_2_02.ipynb)"
   ]
  },
  {
   "cell_type": "markdown",
   "metadata": {},
   "source": [
    "⟵ [Previous section](12_1_factorial.ipynb) | [Up](12-introduction.ipynb) | [Next section](12_3_length.ipynb) ⟶"
   ]
  }
 ],
 "metadata": {
  "kernelspec": {
   "display_name": "Python 3",
   "language": "python",
   "name": "python3"
  },
  "language_info": {
   "codemirror_mode": {
    "name": "ipython",
    "version": 3
   },
   "file_extension": ".py",
   "mimetype": "text/x-python",
   "name": "python",
   "nbconvert_exporter": "python",
   "pygments_lexer": "ipython3",
   "version": "3.8.5"
  }
 },
 "nbformat": 4,
 "nbformat_minor": 4
}
