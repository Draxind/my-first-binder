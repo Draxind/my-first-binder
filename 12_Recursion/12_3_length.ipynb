{
 "cells": [
  {
   "cell_type": "markdown",
   "metadata": {},
   "source": [
    "## 12.3 Length of a sequence"
   ]
  },
  {
   "cell_type": "markdown",
   "metadata": {},
   "source": [
    "The same approach can be used with a collection of items,\n",
    "if we decrease it by one item at a time until it has the lowest number of items\n",
    "imposed by the preconditions (often, zero).\n",
    "\n",
    "Let's consider the problem of determining the length of a sequence."
   ]
  },
  {
   "cell_type": "markdown",
   "metadata": {},
   "source": [
    "### 12.3.1 Recursive definition"
   ]
  },
  {
   "cell_type": "markdown",
   "metadata": {},
   "source": [
    "To define the problem recursively, I must answer two questions:\n",
    "\n",
    "1. What are the smallest possible input and its output?\n",
    "   It's the empty sequence, with length&nbsp;0.\n",
    "2. If I know the output for a sequence with one item less,\n",
    "   how can I use it to compute the output for the whole sequence?\n",
    "   The length of the whole sequence is the length of the shorter sequence\n",
    "   plus one, because we only shortened it by one item.\n",
    "\n",
    "The recursive definition will be something like:\n",
    "\n",
    "- if _sequence_ is empty: length(_sequence_) = 0\n",
    "- if _sequence_ isn't empty: length(_sequence_) = length(shorter sequence) + 1.\n",
    "\n",
    "For integers, the decrease step did the subtraction _n_−1,\n",
    "but how can we decrease collections by one item?\n",
    "For a [stack](../07_Ordered/07_1_stack.ipynb#7.1-Stacks), we pop the top item.\n",
    "For a [queue](../07_Ordered/07_3_queue.ipynb#7.3-Queues), we dequeue the front item.\n",
    "For a [linked list](../06_Implementing/06_7_linked_list.ipynb#6.7-Linked-lists), we remove the first node by\n",
    "making the head point to the next node.\n",
    "For an array we remove any item and shift the others.\n",
    "\n",
    "To define recursive functions on general sequences,\n",
    "without depending on the operations of each sequence data type,\n",
    "it's useful to define a sequence recursively:\n",
    "\n",
    "> A sequence S is either empty or it consists of an item\n",
    "> (called the **head** of S) followed by another sequence\n",
    "> (called the **tail** of S).\n",
    "\n",
    "The second question can now be rephrased as\n",
    "\n",
    "2. If I know the output for the tail of sequence S, how can I compute the output for S?\n",
    "\n",
    "Defining the data recursively allows recursive function definitions to simply\n",
    "follow the shape of the data.\n",
    "For the problem at hand, the length of a sequence is zero if it's empty,\n",
    "otherwise it's one more than the length of its tail.\n",
    "\n",
    "- if _sequence_ is empty: length(_sequence_) = 0\n",
    "- if _sequence_ isn't empty: length(_sequence_) = length(tail(_sequence_)) + 1."
   ]
  },
  {
   "cell_type": "markdown",
   "metadata": {},
   "source": [
    "#### Exercise 12.3.1"
   ]
  },
  {
   "cell_type": "markdown",
   "metadata": {},
   "source": [
    "Write a recursive definition for sum(_numbers_),\n",
    "where _numbers_ is a sequence of integers."
   ]
  },
  {
   "cell_type": "markdown",
   "metadata": {},
   "source": [
    "- if _numbers_ is empty:\n",
    "- otherwise:\n",
    "\n",
    "[Hint](../31_Hints/Hints_12_3_01.ipynb)\n",
    "[Answer](../32_Answers/Answers_12_3_01.ipynb)"
   ]
  },
  {
   "cell_type": "markdown",
   "metadata": {},
   "source": [
    "### 12.3.2 Code"
   ]
  },
  {
   "cell_type": "markdown",
   "metadata": {},
   "source": [
    "The algorithm is the same as the recursive definition, just in slightly different notation, so I proceed directly to the code.\n",
    "I will use lists as the sequence data type.\n",
    "\n",
    "First I write the three functions that support the recursive definition of lists."
   ]
  },
  {
   "cell_type": "code",
   "execution_count": 1,
   "metadata": {
    "execution": {
     "iopub.execute_input": "2021-09-10T15:40:00.526586Z",
     "iopub.status.busy": "2021-09-10T15:40:00.526012Z",
     "iopub.status.idle": "2021-09-10T15:40:00.527616Z",
     "shell.execute_reply": "2021-09-10T15:40:00.528255Z"
    }
   },
   "outputs": [],
   "source": [
    "# this code is also in m269_rec_list.py\n",
    "\n",
    "def head(items: list) -> object:\n",
    "    \"\"\"Return the first item of the list.\n",
    "\n",
    "    Preconditions: items isn't empty\n",
    "    \"\"\"\n",
    "    return items[0]\n",
    "\n",
    "def tail(items: list) -> list:\n",
    "    \"\"\"Return the list without the first item.\n",
    "\n",
    "    Preconditions: items isn't empty\n",
    "    \"\"\"\n",
    "    return items[1:len(items)]\n",
    "\n",
    "def is_empty(items: list) -> bool:\n",
    "    \"\"\"Return True if and only if the list is empty.\"\"\"\n",
    "    return items == []"
   ]
  },
  {
   "cell_type": "markdown",
   "metadata": {},
   "source": [
    "Now I can implement the recursive definition of length."
   ]
  },
  {
   "cell_type": "code",
   "execution_count": 2,
   "metadata": {
    "execution": {
     "iopub.execute_input": "2021-09-10T15:40:00.531593Z",
     "iopub.status.busy": "2021-09-10T15:40:00.530964Z",
     "iopub.status.idle": "2021-09-10T15:40:00.532663Z",
     "shell.execute_reply": "2021-09-10T15:40:00.533132Z"
    }
   },
   "outputs": [],
   "source": [
    "def length(items: list) -> int:\n",
    "    \"\"\"Return the number of objects in the list.\"\"\"\n",
    "    if is_empty(items):\n",
    "        return 0\n",
    "    else:\n",
    "        return length(tail(items)) + 1"
   ]
  },
  {
   "cell_type": "markdown",
   "metadata": {},
   "source": [
    "The last line of code does the decrease, recur and combine steps in one expression. Decreasing the input is done by computing its tail.\n",
    "The combination step increments the solution of the decreased problem by one;\n",
    "the head of the sequence isn't needed for this problem, but that's an exception.\n",
    "\n",
    "Let's quickly check the implementation."
   ]
  },
  {
   "cell_type": "code",
   "execution_count": 3,
   "metadata": {
    "execution": {
     "iopub.execute_input": "2021-09-10T15:40:00.539781Z",
     "iopub.status.busy": "2021-09-10T15:40:00.539258Z",
     "iopub.status.idle": "2021-09-10T15:40:00.541474Z",
     "shell.execute_reply": "2021-09-10T15:40:00.542098Z"
    }
   },
   "outputs": [
    {
     "data": {
      "text/plain": [
       "0"
      ]
     },
     "execution_count": 1,
     "metadata": {},
     "output_type": "execute_result"
    }
   ],
   "source": [
    "length([])"
   ]
  },
  {
   "cell_type": "code",
   "execution_count": 4,
   "metadata": {
    "execution": {
     "iopub.execute_input": "2021-09-10T15:40:00.545460Z",
     "iopub.status.busy": "2021-09-10T15:40:00.544976Z",
     "iopub.status.idle": "2021-09-10T15:40:00.547103Z",
     "shell.execute_reply": "2021-09-10T15:40:00.547545Z"
    }
   },
   "outputs": [
    {
     "data": {
      "text/plain": [
       "3"
      ]
     },
     "execution_count": 1,
     "metadata": {},
     "output_type": "execute_result"
    }
   ],
   "source": [
    "length(['one', 'two', 'three'])"
   ]
  },
  {
   "cell_type": "markdown",
   "metadata": {},
   "source": [
    "### 12.3.3 Mistakes"
   ]
  },
  {
   "cell_type": "markdown",
   "metadata": {},
   "source": [
    "For a recursive definition and the corresponding algorithm to be correct,\n",
    "there must be a base case at which the recursion stops and\n",
    "the recurrence relation must progress towards the base case\n",
    "by decreasing the input.\n",
    "\n",
    "Without the base case the algorithm doesn't stop.\n",
    "The factorial function will happily decrease _n_ by one forever\n",
    "if there's no check for _n_ = 0 (and if the call stack were unlimited).\n",
    "\n",
    "Consider this implementation of the length function, which lacks the base case."
   ]
  },
  {
   "cell_type": "code",
   "execution_count": 5,
   "metadata": {
    "execution": {
     "iopub.execute_input": "2021-09-10T15:40:00.550570Z",
     "iopub.status.busy": "2021-09-10T15:40:00.549926Z",
     "iopub.status.idle": "2021-09-10T15:40:00.551495Z",
     "shell.execute_reply": "2021-09-10T15:40:00.552179Z"
    }
   },
   "outputs": [],
   "source": [
    "def wrong_length(items: list) -> int:\n",
    "    return wrong_length(tail(items)) + 1"
   ]
  },
  {
   "cell_type": "markdown",
   "metadata": {},
   "source": [
    "What will happen if this Python function is called for a list with three items?\n",
    "\n",
    "___\n",
    "\n",
    "It may look like this function will raise an error after three calls,\n",
    "because the tail operation is undefined for the empty list,\n",
    "according to its preconditions.\n",
    "\n",
    "However, it's implemented with slicing from index&nbsp;1.\n",
    "In Python, slicing returns an empty sequence if the indices are out of bounds.\n",
    "So, slicing the empty list (which doesn't have index&nbsp;1) produces the empty list."
   ]
  },
  {
   "cell_type": "code",
   "execution_count": 6,
   "metadata": {
    "execution": {
     "iopub.execute_input": "2021-09-10T15:40:00.556669Z",
     "iopub.status.busy": "2021-09-10T15:40:00.556001Z",
     "iopub.status.idle": "2021-09-10T15:40:00.559444Z",
     "shell.execute_reply": "2021-09-10T15:40:00.558711Z"
    }
   },
   "outputs": [
    {
     "data": {
      "text/plain": [
       "[]"
      ]
     },
     "execution_count": 1,
     "metadata": {},
     "output_type": "execute_result"
    }
   ],
   "source": [
    "tail([])"
   ]
  },
  {
   "cell_type": "markdown",
   "metadata": {},
   "source": [
    "Function `wrong_length` will keep attempting to decrease the empty list and\n",
    "only stop when the call stack's memory is exhausted."
   ]
  },
  {
   "cell_type": "code",
   "execution_count": 7,
   "metadata": {
    "execution": {
     "iopub.execute_input": "2021-09-10T15:40:00.565604Z",
     "iopub.status.busy": "2021-09-10T15:40:00.565050Z",
     "iopub.status.idle": "2021-09-10T15:40:03.475035Z",
     "shell.execute_reply": "2021-09-10T15:40:03.475530Z"
    }
   },
   "outputs": [
    {
     "ename": "RecursionError",
     "evalue": "maximum recursion depth exceeded while calling a Python object",
     "output_type": "error",
     "traceback": [
      "\u001b[0;31m---------------------------------------------------------------------------\u001b[0m",
      "\u001b[0;31mRecursionError\u001b[0m                            Traceback (most recent call last)",
      "\u001b[0;32m<ipython-input-1-158a9e59c1d1>\u001b[0m in \u001b[0;36m<module>\u001b[0;34m\u001b[0m\n\u001b[0;32m----> 1\u001b[0;31m \u001b[0mwrong_length\u001b[0m\u001b[0;34m(\u001b[0m\u001b[0;34m[\u001b[0m\u001b[0;36m1\u001b[0m\u001b[0;34m,\u001b[0m \u001b[0;36m2\u001b[0m\u001b[0;34m,\u001b[0m \u001b[0;36m3\u001b[0m\u001b[0;34m]\u001b[0m\u001b[0;34m)\u001b[0m\u001b[0;34m\u001b[0m\u001b[0;34m\u001b[0m\u001b[0m\n\u001b[0m",
      "\u001b[0;32m<ipython-input-1-d6538beba035>\u001b[0m in \u001b[0;36mwrong_length\u001b[0;34m(items)\u001b[0m\n\u001b[1;32m      1\u001b[0m \u001b[0;32mdef\u001b[0m \u001b[0mwrong_length\u001b[0m\u001b[0;34m(\u001b[0m\u001b[0mitems\u001b[0m\u001b[0;34m:\u001b[0m \u001b[0mlist\u001b[0m\u001b[0;34m)\u001b[0m \u001b[0;34m->\u001b[0m \u001b[0mint\u001b[0m\u001b[0;34m:\u001b[0m\u001b[0;34m\u001b[0m\u001b[0;34m\u001b[0m\u001b[0m\n\u001b[0;32m----> 2\u001b[0;31m     \u001b[0;32mreturn\u001b[0m \u001b[0mwrong_length\u001b[0m\u001b[0;34m(\u001b[0m\u001b[0mtail\u001b[0m\u001b[0;34m(\u001b[0m\u001b[0mitems\u001b[0m\u001b[0;34m)\u001b[0m\u001b[0;34m)\u001b[0m \u001b[0;34m+\u001b[0m \u001b[0;36m1\u001b[0m\u001b[0;34m\u001b[0m\u001b[0;34m\u001b[0m\u001b[0m\n\u001b[0m",
      "... last 1 frames repeated, from the frame below ...\n",
      "\u001b[0;32m<ipython-input-1-d6538beba035>\u001b[0m in \u001b[0;36mwrong_length\u001b[0;34m(items)\u001b[0m\n\u001b[1;32m      1\u001b[0m \u001b[0;32mdef\u001b[0m \u001b[0mwrong_length\u001b[0m\u001b[0;34m(\u001b[0m\u001b[0mitems\u001b[0m\u001b[0;34m:\u001b[0m \u001b[0mlist\u001b[0m\u001b[0;34m)\u001b[0m \u001b[0;34m->\u001b[0m \u001b[0mint\u001b[0m\u001b[0;34m:\u001b[0m\u001b[0;34m\u001b[0m\u001b[0;34m\u001b[0m\u001b[0m\n\u001b[0;32m----> 2\u001b[0;31m     \u001b[0;32mreturn\u001b[0m \u001b[0mwrong_length\u001b[0m\u001b[0;34m(\u001b[0m\u001b[0mtail\u001b[0m\u001b[0;34m(\u001b[0m\u001b[0mitems\u001b[0m\u001b[0;34m)\u001b[0m\u001b[0;34m)\u001b[0m \u001b[0;34m+\u001b[0m \u001b[0;36m1\u001b[0m\u001b[0;34m\u001b[0m\u001b[0;34m\u001b[0m\u001b[0m\n\u001b[0m",
      "\u001b[0;31mRecursionError\u001b[0m: maximum recursion depth exceeded while calling a Python object"
     ]
    }
   ],
   "source": [
    "wrong_length([1, 2, 3])"
   ]
  },
  {
   "cell_type": "markdown",
   "metadata": {},
   "source": [
    "⟵ [Previous section](12_2_integers.ipynb) | [Up](12-introduction.ipynb) | [Next section](12_4_inspect_sequences.ipynb) ⟶"
   ]
  }
 ],
 "metadata": {
  "kernelspec": {
   "display_name": "Python 3",
   "language": "python",
   "name": "python3"
  },
  "language_info": {
   "codemirror_mode": {
    "name": "ipython",
    "version": 3
   },
   "file_extension": ".py",
   "mimetype": "text/x-python",
   "name": "python",
   "nbconvert_exporter": "python",
   "pygments_lexer": "ipython3",
   "version": "3.8.5"
  }
 },
 "nbformat": 4,
 "nbformat_minor": 4
}
