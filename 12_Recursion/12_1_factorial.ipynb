{
 "cells": [
  {
   "cell_type": "markdown",
   "metadata": {},
   "source": [
    "## 12.1 The factorial function"
   ]
  },
  {
   "cell_type": "markdown",
   "metadata": {},
   "source": [
    "The [factorial function](../11_Search/11_4_permutations.ipynb#11.4-Searching-permutations) is a classic\n",
    "simple example to introduce recursion."
   ]
  },
  {
   "cell_type": "markdown",
   "metadata": {},
   "source": [
    "### 12.1.1 Definition and algorithm"
   ]
  },
  {
   "cell_type": "markdown",
   "metadata": {},
   "source": [
    "The factorial function can be defined like this:\n",
    "\n",
    "$$n! = \\begin{cases}\n",
    "1                   & \\text{if } n = 0 \\\\\n",
    "1×2×\\cdots×(n-1)×n  & \\text{if } n > 0\n",
    "\\end{cases}$$"
   ]
  },
  {
   "cell_type": "markdown",
   "metadata": {
    "tags": [
     "INFO"
    ]
   },
   "source": [
    "<div class=\"alert alert-info\">\n",
    "<strong>Info:</strong> MST124 Unit&nbsp;3 Section&nbsp;1.3 calls this a piecewise-defined function.\n",
    "</div>"
   ]
  },
  {
   "cell_type": "markdown",
   "metadata": {},
   "source": [
    "The product of 1 to _n_ is the product of 1 to _n_−1, multiplied by _n_.\n",
    "The product up to _n_−1&nbsp;happens to be the factorial of _n_−1,\n",
    "so the definition can be rewritten as:\n",
    "\n",
    "$$n! = \\begin{cases}\n",
    "1          & \\text{if } n = 0 \\\\\n",
    "(n-1)! \\times n & \\text{if } n > 0\n",
    "\\end{cases}$$\n",
    "\n",
    "This is a **recursive** definition:\n",
    "the factorial of _n_ is defined in terms of the factorial of _n_–1.\n",
    "Eventually _n_ is small enough for the factorial to be directly computed.\n",
    "The case _n_ = 0 is called the **base case**.\n",
    "The case _n_ > 0 is defined with a **recurrence relation** that shows\n",
    "how the value for _n_ is computed from the value for _n_−1."
   ]
  },
  {
   "cell_type": "markdown",
   "metadata": {
    "tags": [
     "INFO"
    ]
   },
   "source": [
    "<div class=\"alert alert-info\">\n",
    "<strong>Info:</strong> MST124 Unit&nbsp;10 Section&nbsp;1.3 introduces recurrence relations.\n",
    "</div>"
   ]
  },
  {
   "cell_type": "markdown",
   "metadata": {},
   "source": [
    "The mathematical notation is cumbersome to typeset, so in M269\n",
    "we write recursive definitions with one bullet point per case\n",
    "and with the condition before the expression:\n",
    "\n",
    "- if _n_ = 0: _n_! = 1\n",
    "- if _n_ > 0: _n_! = (_n_−1)! × _n_\n",
    "\n",
    "A recursive definition must satisfy three conditions:\n",
    "\n",
    "- The cases must cover all possible input values.\n",
    "  Otherwise, the output wouldn't be defined for at least one input value.\n",
    "  Here, the two cases together cover all natural numbers.\n",
    "- The lowest possible input value must be a base case because\n",
    "  it can't be further decreased. Here, the lowest input value is zero.\n",
    "  You'll see examples with more than one base case.\n",
    "- The recurrence relation must decrease the input to\n",
    "  eventually reach the base case(s). In the next chapter\n",
    "  you'll see recursive definitions that decrease by more than one.\n",
    "\n",
    "We can restate the definition in our usual notation:\n",
    "\n",
    "**Function**: factorial\\\n",
    "**Inputs**: _n_, an integer\\\n",
    "**Preconditions**: n ≥ 0\\\n",
    "**Outputs**: _product_, an integer\\\n",
    "**Postconditions**:\n",
    "_product_ = 1 if _n_ = 0, otherwise _product_ = factorial(_n_−1) × _n_\n",
    "\n",
    "The algorithm just follows the definition.\n",
    "\n",
    "1. if _n_ = 0:\n",
    "   1. let _product_ be 1\n",
    "1. otherwise:\n",
    "   1. let _product_ be factorial(_n_−1) × _n_\n",
    "\n",
    "The last step has a **recursive call**: the algorithm calls the same function,\n",
    "but with a smaller argument; otherwise the algorithm would never stop.\n",
    "There's nothing magical or mysterious about a recursive call.\n",
    "It's a function call like any other: the arguments are passed to the function,\n",
    "which returns a value after doing its job.\n",
    "The adjective 'recursive' just indicates that the function being called\n",
    "happens to be the same as the function doing the call."
   ]
  },
  {
   "cell_type": "markdown",
   "metadata": {},
   "source": [
    "### 12.1.2 Code"
   ]
  },
  {
   "cell_type": "markdown",
   "metadata": {},
   "source": [
    "The beauty of recursion is that once the problem is recursively defined,\n",
    "the algorithm and the code follow that definition."
   ]
  },
  {
   "cell_type": "code",
   "execution_count": 1,
   "metadata": {
    "execution": {
     "iopub.execute_input": "2021-09-10T15:39:53.244217Z",
     "iopub.status.busy": "2021-09-10T15:39:53.243516Z",
     "iopub.status.idle": "2021-09-10T15:39:53.245823Z",
     "shell.execute_reply": "2021-09-10T15:39:53.246269Z"
    }
   },
   "outputs": [
    {
     "data": {
      "text/plain": [
       "120"
      ]
     },
     "execution_count": 1,
     "metadata": {},
     "output_type": "execute_result"
    }
   ],
   "source": [
    "def factorial(n: int) -> int:\n",
    "    \"\"\"Return the factorial of n.\n",
    "\n",
    "    Preconditions: n >= 0\n",
    "    Postconditions:\n",
    "    - if n = 0, then the output is 1\n",
    "    - otherwise the output is 1*2*...*(n-1)*n.\n",
    "    \"\"\"\n",
    "    if n == 0:\n",
    "        return 1\n",
    "    else:\n",
    "        return factorial(n-1) * n\n",
    "\n",
    "factorial(5)"
   ]
  },
  {
   "cell_type": "markdown",
   "metadata": {},
   "source": [
    "Let's add some print statements to see what each recursive call is computing.\n",
    "Each call indents the message by four spaces."
   ]
  },
  {
   "cell_type": "code",
   "execution_count": 2,
   "metadata": {
    "execution": {
     "iopub.execute_input": "2021-09-10T15:39:53.251672Z",
     "iopub.status.busy": "2021-09-10T15:39:53.251157Z",
     "iopub.status.idle": "2021-09-10T15:39:53.254013Z",
     "shell.execute_reply": "2021-09-10T15:39:53.254316Z"
    }
   },
   "outputs": [
    {
     "name": "stdout",
     "output_type": "stream",
     "text": [
      " factorial of 3 =\n",
      "     factorial of 2 =\n",
      "         factorial of 1 =\n",
      "             factorial of 0 =\n",
      "             1\n",
      "         * 1 = 1\n",
      "     * 2 = 2\n",
      " * 3 = 6\n"
     ]
    },
    {
     "data": {
      "text/plain": [
       "6"
      ]
     },
     "execution_count": 1,
     "metadata": {},
     "output_type": "execute_result"
    }
   ],
   "source": [
    "def factorial_printed(n: int, level: int) -> int:\n",
    "    \"\"\"Return the factorial of n.\n",
    "\n",
    "    Preconditions: n >= 0, level >= 0\n",
    "    Postconditions: the output is 1 for n=0, otherwise 1*...*(n-1)*n\n",
    "    \"\"\"\n",
    "    print('    ' * level, 'factorial of', n, '=')\n",
    "    if n == 0:\n",
    "        print('    ' * level, 1)\n",
    "        return 1\n",
    "    else:\n",
    "        product = factorial_printed(n-1, level+1) * n\n",
    "        print('    ' * level, '*', n, '=', product)\n",
    "        return product\n",
    "\n",
    "factorial_printed(3, 0)"
   ]
  },
  {
   "cell_type": "markdown",
   "metadata": {},
   "source": [
    "This shows, for example, that the factorial of 3 computes\n",
    "the factorial of 2 and, once the result is obtained, multiplies it by 3.\n",
    "The algorithm does indeed multiply all integers from 1 to _n_.\n",
    "\n",
    "The way that the indentation level increases and then decreases\n",
    "shows that this and many other recursive algorithms have two phases.\n",
    "The first phase proceeds top-down from the given problem instance and\n",
    "makes it progressively smaller until the answer can be directly computed,\n",
    "in this example for _n_ = 0.\n",
    "The second phase proceeds bottom up from the base case.\n",
    "It extends the answers to increasingly large subproblems (0!, 1!, 2!, etc.)\n",
    "until it obtains the answer to the original problem instance."
   ]
  },
  {
   "cell_type": "markdown",
   "metadata": {},
   "source": [
    "### 12.1.3 The call stack"
   ]
  },
  {
   "cell_type": "markdown",
   "metadata": {},
   "source": [
    "When function A calls function B, A is on hold until B returns.\n",
    "To be able to resume A where it left off to call B,\n",
    "the interpreter must remember the value of each variable in A.\n",
    "This information is stored before calling B and restored after B returns.\n",
    "The _last_ function called is the function currently running, so it's the _first_\n",
    "function to return. This [LIFO](../07_Ordered/07_1_stack.ipynb#7.1-Stacks) relation allows the interpreter to\n",
    "store the information in a stack, named the **call stack**.\n",
    "Each item on the call stack is called a **stack frame**, which includes the\n",
    "function's variables (both arguments and local variables), the instruction\n",
    "where the function resumes execution after calling another function, and\n",
    "any other data the interpreter needs.\n",
    "\n",
    "\n",
    "Here's a [visualisation](https://learn2.open.ac.uk/mod/oucontent/view.php?id=1827810&extra=thumbnail_idm45069228689552)\n",
    "of call stacks in general, then for the factorial function.\n",
    "The visualisation was produced for the previous edition of M269:\n",
    "the coding style is different and it mentions a Unit&nbsp;3 that no longer exists.\n",
    "\n",
    "Interpreters reserve a limited amount of memory for call stacks.\n",
    "If many functions are waiting for others to complete,\n",
    "then the stack may get full, which leads to an error.\n",
    "Limiting the number of calls is good to detect infinite calls,\n",
    "e.g. if A calls B which calls C which then calls A again and so on, or\n",
    "if a recursive call doesn't decrease the input.\n",
    "Unfortunately, limiting the number of calls also leads to errors\n",
    "for correct recursive functions, if the input is too large."
   ]
  },
  {
   "cell_type": "code",
   "execution_count": 3,
   "metadata": {
    "execution": {
     "iopub.execute_input": "2021-09-10T15:39:53.259478Z",
     "iopub.status.busy": "2021-09-10T15:39:53.259026Z",
     "iopub.status.idle": "2021-09-10T15:39:56.038581Z",
     "shell.execute_reply": "2021-09-10T15:39:56.039115Z"
    }
   },
   "outputs": [
    {
     "ename": "RecursionError",
     "evalue": "maximum recursion depth exceeded in comparison",
     "output_type": "error",
     "traceback": [
      "\u001b[0;31m---------------------------------------------------------------------------\u001b[0m",
      "\u001b[0;31mRecursionError\u001b[0m                            Traceback (most recent call last)",
      "\u001b[0;32m<ipython-input-1-1f81c569e3b4>\u001b[0m in \u001b[0;36m<module>\u001b[0;34m\u001b[0m\n\u001b[0;32m----> 1\u001b[0;31m \u001b[0mfactorial\u001b[0m\u001b[0;34m(\u001b[0m\u001b[0;36m3000\u001b[0m\u001b[0;34m)\u001b[0m\u001b[0;34m\u001b[0m\u001b[0;34m\u001b[0m\u001b[0m\n\u001b[0m",
      "\u001b[0;32m<ipython-input-1-1b88a3ac08c8>\u001b[0m in \u001b[0;36mfactorial\u001b[0;34m(n)\u001b[0m\n\u001b[1;32m     10\u001b[0m         \u001b[0;32mreturn\u001b[0m \u001b[0;36m1\u001b[0m\u001b[0;34m\u001b[0m\u001b[0;34m\u001b[0m\u001b[0m\n\u001b[1;32m     11\u001b[0m     \u001b[0;32melse\u001b[0m\u001b[0;34m:\u001b[0m\u001b[0;34m\u001b[0m\u001b[0;34m\u001b[0m\u001b[0m\n\u001b[0;32m---> 12\u001b[0;31m         \u001b[0;32mreturn\u001b[0m \u001b[0mfactorial\u001b[0m\u001b[0;34m(\u001b[0m\u001b[0mn\u001b[0m\u001b[0;34m-\u001b[0m\u001b[0;36m1\u001b[0m\u001b[0;34m)\u001b[0m \u001b[0;34m*\u001b[0m \u001b[0mn\u001b[0m\u001b[0;34m\u001b[0m\u001b[0;34m\u001b[0m\u001b[0m\n\u001b[0m\u001b[1;32m     13\u001b[0m \u001b[0;34m\u001b[0m\u001b[0m\n\u001b[1;32m     14\u001b[0m \u001b[0mfactorial\u001b[0m\u001b[0;34m(\u001b[0m\u001b[0;36m5\u001b[0m\u001b[0;34m)\u001b[0m\u001b[0;34m\u001b[0m\u001b[0;34m\u001b[0m\u001b[0m\n",
      "... last 1 frames repeated, from the frame below ...\n",
      "\u001b[0;32m<ipython-input-1-1b88a3ac08c8>\u001b[0m in \u001b[0;36mfactorial\u001b[0;34m(n)\u001b[0m\n\u001b[1;32m     10\u001b[0m         \u001b[0;32mreturn\u001b[0m \u001b[0;36m1\u001b[0m\u001b[0;34m\u001b[0m\u001b[0;34m\u001b[0m\u001b[0m\n\u001b[1;32m     11\u001b[0m     \u001b[0;32melse\u001b[0m\u001b[0;34m:\u001b[0m\u001b[0;34m\u001b[0m\u001b[0;34m\u001b[0m\u001b[0m\n\u001b[0;32m---> 12\u001b[0;31m         \u001b[0;32mreturn\u001b[0m \u001b[0mfactorial\u001b[0m\u001b[0;34m(\u001b[0m\u001b[0mn\u001b[0m\u001b[0;34m-\u001b[0m\u001b[0;36m1\u001b[0m\u001b[0;34m)\u001b[0m \u001b[0;34m*\u001b[0m \u001b[0mn\u001b[0m\u001b[0;34m\u001b[0m\u001b[0;34m\u001b[0m\u001b[0m\n\u001b[0m\u001b[1;32m     13\u001b[0m \u001b[0;34m\u001b[0m\u001b[0m\n\u001b[1;32m     14\u001b[0m \u001b[0mfactorial\u001b[0m\u001b[0;34m(\u001b[0m\u001b[0;36m5\u001b[0m\u001b[0;34m)\u001b[0m\u001b[0;34m\u001b[0m\u001b[0;34m\u001b[0m\u001b[0m\n",
      "\u001b[0;31mRecursionError\u001b[0m: maximum recursion depth exceeded in comparison"
     ]
    }
   ],
   "source": [
    "factorial(3000)"
   ]
  },
  {
   "cell_type": "markdown",
   "metadata": {},
   "source": [
    "Interpreters usually allow users to change the limit,\n",
    "but Python's default suffices for our needs in M269."
   ]
  },
  {
   "cell_type": "markdown",
   "metadata": {
    "tags": [
     "NOTE"
    ]
   },
   "source": [
    "<div class=\"alert alert-warning\">\n",
    "<strong>Note:</strong> In Python, recursive functions that decrease the input by one can't take large inputs.\n",
    "</div>"
   ]
  },
  {
   "cell_type": "markdown",
   "metadata": {},
   "source": [
    "⟵ [Previous section](12-introduction.ipynb) | [Up](12-introduction.ipynb) | [Next section](12_2_integers.ipynb) ⟶"
   ]
  }
 ],
 "metadata": {
  "kernelspec": {
   "display_name": "Python 3",
   "language": "python",
   "name": "python3"
  },
  "language_info": {
   "codemirror_mode": {
    "name": "ipython",
    "version": 3
   },
   "file_extension": ".py",
   "mimetype": "text/x-python",
   "name": "python",
   "nbconvert_exporter": "python",
   "pygments_lexer": "ipython3",
   "version": "3.8.5"
  }
 },
 "nbformat": 4,
 "nbformat_minor": 4
}
