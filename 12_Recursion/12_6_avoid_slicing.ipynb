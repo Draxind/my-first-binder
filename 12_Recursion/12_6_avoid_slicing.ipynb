{
 "cells": [
  {
   "cell_type": "markdown",
   "metadata": {},
   "source": [
    "## 12.6 Avoiding slicing"
   ]
  },
  {
   "cell_type": "markdown",
   "metadata": {},
   "source": [
    "Recursive algorithms that use the tail operation on arrays\n",
    "aren't very efficient because it takes linear time to slice an array.\n",
    "\n",
    "To avoid slicing, we add two parameters to the recursive function:\n",
    "the start and end indices of the slice to be processed.\n",
    "Each recursive call reduces the range of the indices instead of\n",
    "creating a new smaller sequence. In other words, we keep track of the slice\n",
    "but don't extract it from the sequence. Let's see an example."
   ]
  },
  {
   "cell_type": "markdown",
   "metadata": {},
   "source": [
    "### 12.6.1 Problem definition"
   ]
  },
  {
   "cell_type": "markdown",
   "metadata": {},
   "source": [
    "Consider the [membership function](../04_Iteration/04_1_sequences.ipynb#4.1.1.6-Membership).\n",
    "\n",
    "**Function**: membership\\\n",
    "**Inputs**: _items_, a sequence; _item_, an object\\\n",
    "**Preconditions**: true\\\n",
    "**Output**: _exists_, a Boolean\\\n",
    "**Postconditions**: _exists_ is true if and only if there's an integer _index_ such that _items_[*index*] = _item_\n",
    "\n",
    "A more general membership operation allows the user to specify in which\n",
    "slice of the input sequence the item should be searched.\n",
    "\n",
    "**Function**: slice membership\\\n",
    "**Inputs**: _items_, a sequence; _item_, an object; _start_, an integer; _end_, an integer\\\n",
    "**Preconditions**: 0 ≤ _start_ ≤ _end_ ≤ │*items*│\\\n",
    "**Output**: _exists_, a Boolean\\\n",
    "**Postconditions**: _exists_ is true if and only if there's an integer _index_ such that _items_[*index*] = _item_ and _start_ ≤ _index_ < _end_\n",
    "\n",
    "This new operation can be seen as a combination of the\n",
    "[slicing](../04_Iteration/04_1_sequences.ipynb#4.1.2.1-Slicing) and membership operations.\n",
    "As such, it has the same preconditions as the slicing operation and\n",
    "follows the same convention of not including the end item in the slice.\n",
    "\n",
    "The less general membership function can now be defined more simply:\n",
    "the item exists in the sequence if it exists in\n",
    "the slice comprising the whole sequence.\n",
    "\n",
    "**Function**: membership\\\n",
    "**Inputs**: _items_, a sequence; _item_, an object\\\n",
    "**Preconditions**: true\\\n",
    "**Output**: _exists_, a Boolean\\\n",
    "**Postconditions**: _exists_ = slice membership(_items_, _item_, 0, │*items*│)"
   ]
  },
  {
   "cell_type": "markdown",
   "metadata": {},
   "source": [
    "### 12.6.2 Recursive definition"
   ]
  },
  {
   "cell_type": "markdown",
   "metadata": {},
   "source": [
    "For the recursive definitions,\n",
    "I use the shorter function name 'has' instead of 'membership'.\n",
    "\n",
    "Function has(_items_, _item_) was defined as follows in\n",
    "[Section&nbsp;12.4.2](../12_Recursion/12_4_inspect_sequences.ipynb#12.4.2-Membership):\n",
    "\n",
    "- if _items_ is empty: has(_items_, _item_) = false\n",
    "- otherwise if _item_ is head(_items_): has(_items_, _item_) = true\n",
    "- otherwise: has(_items_, _item_) = has(tail(_items_), _item_).\n",
    "\n",
    "The new function slice\\_has(_items_, _item_, _start_, _end_) is defined in\n",
    "a similar way, but works on the slice given by the start and end indices\n",
    "instead of the whole sequence.\n",
    "The first base case is for the slice to be empty.\n",
    "\n",
    "- if _start_ = _end_: slice\\_has(_items_, _item_, _start_, _end_) = false\n",
    "\n",
    "The second base case is for the head of the slice to be the sought item.\n",
    "\n",
    "- otherwise if _items_[*start*] = _item_: slice\\_has(_items_, _item_, _start_, _end_) = true\n",
    "\n",
    "The recurrence relation looks for the item in the tail of the slice, i.e.\n",
    "after the current _start_ index.\n",
    "\n",
    "- otherwise: slice\\_has(_items_, _item_, _start_, _end_) = slice\\_has(_items_, _item_, _start_ + 1, _end_)\n",
    "\n",
    "The recurrence relation is progressing towards the first base case,\n",
    "as it should:\n",
    "increasing the start index gets it closer to being equal to the end index."
   ]
  },
  {
   "cell_type": "markdown",
   "metadata": {},
   "source": [
    "#### Exercise 12.6.1"
   ]
  },
  {
   "cell_type": "markdown",
   "metadata": {},
   "source": [
    "Here again is the algorithmic pattern for a\n",
    "[recursive linear search](../12_Recursion/12_5_create_sequences.ipynb#12.5.2-Linear-search) that outputs\n",
    "all items from the input sequence _candidates_ which satisfy some conditions."
   ]
  },
  {
   "cell_type": "markdown",
   "metadata": {},
   "source": [
    "1. if _candidates_ is empty:\n",
    "   1. let _solutions_ be ()\n",
    "2. otherwise:\n",
    "   1. let _solutions_ be search(tail(_candidates_))\n",
    "   2. if head(_candidates_) satisfies the conditions:\n",
    "      1. let _solutions_ be prepend(head(_candidates_), _solutions_)"
   ]
  },
  {
   "cell_type": "markdown",
   "metadata": {},
   "source": [
    "Modify the pattern so that it implements the function\n",
    "search(_candidates_, _start_, _end_), which only searches the slice\n",
    "_candidates_[_start_:*end*].\n",
    "The precondition is 0 ≤ _start_ ≤ _end_ ≤ _numbers_."
   ]
  },
  {
   "cell_type": "markdown",
   "metadata": {
    "tags": [
     "ANSWER"
    ]
   },
   "source": [
    "_Write your answer here._"
   ]
  },
  {
   "cell_type": "markdown",
   "metadata": {},
   "source": [
    "[Hint](../31_Hints/Hints_12_6_01.ipynb)\n",
    "[Answer](../32_Answers/Answers_12_6_01.ipynb)"
   ]
  },
  {
   "cell_type": "markdown",
   "metadata": {},
   "source": [
    "#### Exercise 12.6.2"
   ]
  },
  {
   "cell_type": "markdown",
   "metadata": {},
   "source": [
    "Here again is the recursive definition of the maximum operation\n",
    "on a non-empty sequence of numbers.\n",
    "\n",
    "- if length(_numbers_) = 1: maximum(_numbers_) = head(_numbers_)\n",
    "- otherwise: maximum(_numbers_) = max(head(_numbers_), maximum(tail(_numbers_)))\n",
    "\n",
    "Write a recursive definition for a function maximum(_numbers_, _start_, _end_)\n",
    "that returns the largest number in the slice _numbers_[_start_:*end*].\n",
    "The precondition is 0 ≤ _start_ < _end_ ≤ _numbers_."
   ]
  },
  {
   "cell_type": "markdown",
   "metadata": {
    "tags": [
     "ANSWER"
    ]
   },
   "source": [
    "_Write your answer here._"
   ]
  },
  {
   "cell_type": "markdown",
   "metadata": {},
   "source": [
    "[Hint](../31_Hints/Hints_12_6_02.ipynb)\n",
    "[Answer](../32_Answers/Answers_12_6_02.ipynb)"
   ]
  },
  {
   "cell_type": "markdown",
   "metadata": {},
   "source": [
    "### 12.6.3 Code"
   ]
  },
  {
   "cell_type": "markdown",
   "metadata": {},
   "source": [
    "The algorithm and code directly follow the recursive definition,\n",
    "so I skip the algorithm."
   ]
  },
  {
   "cell_type": "code",
   "execution_count": 1,
   "metadata": {
    "execution": {
     "iopub.execute_input": "2021-09-10T15:40:12.863350Z",
     "iopub.status.busy": "2021-09-10T15:40:12.862746Z",
     "iopub.status.idle": "2021-09-10T15:40:12.865562Z",
     "shell.execute_reply": "2021-09-10T15:40:12.866050Z"
    }
   },
   "outputs": [
    {
     "name": "stdout",
     "output_type": "stream",
     "text": [
      "Tests finished.\n"
     ]
    }
   ],
   "source": [
    "%run -i ../m269_util\n",
    "\n",
    "def slice_has(items: list, item: object, start: int, end: int) -> bool:\n",
    "    \"\"\"Return True if and only if item is a member of slice items[start:end].\n",
    "\n",
    "    Preconditions: 0 <= start <= end <= len(items)\n",
    "    \"\"\"\n",
    "    if start == end:\n",
    "        return False\n",
    "    elif items[start] == item:\n",
    "        return True\n",
    "    else:\n",
    "        return slice_has(items, item, start+1, end)\n",
    "\n",
    "def has(items: list, item: object) -> bool:\n",
    "    \"\"\"Return True if and only if item is a member of items.\"\"\"\n",
    "    return slice_has(items, item, 0, len(items))\n",
    "\n",
    "has_tests = [\n",
    "    # case,         items,   item,  has?\n",
    "    ('empty list',  [],         3,  False),\n",
    "    ('last member', [1, 2, 3],  3,  True),\n",
    "    ('not member',  [1, 2, 3],  4,  False),\n",
    "]\n",
    "\n",
    "test(has, has_tests)"
   ]
  },
  {
   "cell_type": "markdown",
   "metadata": {},
   "source": [
    "If for some reason we don't want to provide the `slice_has` function\n",
    "to the user, we can hide it by nesting it inside the main `has` function.\n",
    "I introduced inner functions in\n",
    "[Section&nbsp;11.3.3](../11_Search/11_3_constraints.ipynb#11.3.3-Code-and-performance)\n",
    "to test a candidate for complicated conditions.\n",
    "An inner function can access the arguments of the outer function.\n",
    "Here, the sequence being searched and the sought item are never modified,\n",
    "so we don't have to constantly pass them to each recursive call.\n",
    "The code becomes slightly shorter."
   ]
  },
  {
   "cell_type": "code",
   "execution_count": 2,
   "metadata": {
    "execution": {
     "iopub.execute_input": "2021-09-10T15:40:12.870002Z",
     "iopub.status.busy": "2021-09-10T15:40:12.869354Z",
     "iopub.status.idle": "2021-09-10T15:40:12.871390Z",
     "shell.execute_reply": "2021-09-10T15:40:12.872029Z"
    }
   },
   "outputs": [
    {
     "name": "stdout",
     "output_type": "stream",
     "text": [
      "Tests finished.\n"
     ]
    }
   ],
   "source": [
    "def has(items: list, item: object) -> bool:\n",
    "    \"\"\"Return True if and only if item is a member of items.\"\"\"\n",
    "\n",
    "    def in_slice(start: int, end: int) -> bool:\n",
    "        \"\"\"Return True if and only if item is in slice items[start:end].\n",
    "\n",
    "        Preconditions: 0 <= start <= end <= len(items)\n",
    "        \"\"\"\n",
    "        if start == end:\n",
    "            return False\n",
    "        elif items[start] == item:\n",
    "            return True\n",
    "        else:\n",
    "            return in_slice(start+1, end)\n",
    "\n",
    "    return in_slice(0, len(items))\n",
    "\n",
    "test(has, has_tests)    # run against the same tests"
   ]
  },
  {
   "cell_type": "markdown",
   "metadata": {},
   "source": [
    "#### Exercise 12.6.3"
   ]
  },
  {
   "cell_type": "markdown",
   "metadata": {},
   "source": [
    "Implement the maximum function, as defined in the previous exercise,\n",
    "using an inner function."
   ]
  },
  {
   "cell_type": "code",
   "execution_count": 3,
   "metadata": {
    "execution": {
     "iopub.execute_input": "2021-09-10T15:40:12.876985Z",
     "iopub.status.busy": "2021-09-10T15:40:12.876392Z",
     "iopub.status.idle": "2021-09-10T15:40:12.880262Z",
     "shell.execute_reply": "2021-09-10T15:40:12.880948Z"
    }
   },
   "outputs": [],
   "source": [
    "%run -i ../m269_util\n",
    "\n",
    "def maximum(numbers: list) -> int:\n",
    "    \"\"\"Return the largest number in numbers.\n",
    "\n",
    "    Preconditions: numbers is a non-empty list of integers\n",
    "    \"\"\"\n",
    "    pass\n",
    "\n",
    "maximum_tests = [\n",
    "    # case,             numbers,       maximum\n",
    "    ('shortest input',  [5],                5),\n",
    "    ('all equal',       [-1, -1],          -1),\n",
    "    ('ascending',       [-1, 0, 3],         3),\n",
    "    ('descending',      [4, 2, 1],          4),\n",
    "    ('unsorted',        [2, 4, 3, 4, 1],    4)\n",
    "]\n",
    "\n",
    "test(maximum, maximum_tests)"
   ]
  },
  {
   "cell_type": "markdown",
   "metadata": {},
   "source": [
    "[Answer](../32_Answers/Answers_12_6_03.ipynb)"
   ]
  },
  {
   "cell_type": "markdown",
   "metadata": {},
   "source": [
    "⟵ [Previous section](12_5_create_sequences.ipynb) | [Up](12-introduction.ipynb) | [Next section](12_7_subsets.ipynb) ⟶"
   ]
  }
 ],
 "metadata": {
  "kernelspec": {
   "display_name": "Python 3",
   "language": "python",
   "name": "python3"
  },
  "language_info": {
   "codemirror_mode": {
    "name": "ipython",
    "version": 3
   },
   "file_extension": ".py",
   "mimetype": "text/x-python",
   "name": "python",
   "nbconvert_exporter": "python",
   "pygments_lexer": "ipython3",
   "version": "3.8.5"
  }
 },
 "nbformat": 4,
 "nbformat_minor": 4
}
