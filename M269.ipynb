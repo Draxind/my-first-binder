{
 "cells": [
  {
   "cell_type": "markdown",
   "metadata": {},
   "source": [
    "# Algorithms, Data Structures and Computability"
   ]
  },
  {
   "cell_type": "markdown",
   "metadata": {},
   "source": [
    "### Michel Wermelinger"
   ]
  },
  {
   "cell_type": "markdown",
   "metadata": {},
   "source": [
    "![4 depictions of a cow](cover.jpg)\n",
    "\n",
    "This textbook is part of the new edition of the\n",
    "Open University module M269 *Algorithms, data structures and computability*,\n",
    "starting October 2021.\n",
    "\n",
    "This is the version as of 10 September 2021.\n",
    "\n",
    "Copyright © 2020, 2021 The Open University\n",
    "\n",
    "All rights reserved. No part of this publication may be reproduced, stored in a\n",
    "retrieval system, transmitted or utilised in any form or by any means,\n",
    "electronic, mechanical, photocopying, recording or otherwise, without written\n",
    "permission from the publisher or a licence from the Copyright Licensing Agency\n",
    "Ltd. Details of such licences (for reprographic reproduction) may be obtained\n",
    "from the Copyright Licensing Agency Ltd, Saffron House, 5th Floor,\n",
    "Shackleton House, 4 Battlebridge Lane, London SE1 2HX (website www.cla.co.uk).\n",
    "\n",
    "Open University materials may also be made available in electronic formats for\n",
    "use by students of the University. All rights, including copyright and related\n",
    "rights and database rights, in electronic materials and their contents are owned\n",
    "by or licensed to The Open University, or otherwise used by The Open University\n",
    "as permitted by applicable law.\n",
    "\n",
    "In using electronic materials and their contents you agree that your use will be\n",
    "solely for the purposes of following an Open University course of study or\n",
    "otherwise as licensed by The Open University or its assigns.\n",
    "\n",
    "Except as permitted above you undertake not to copy, store in any medium\n",
    "(including electronic storage or use in a website), distribute, transmit or\n",
    "retransmit, broadcast, modify or show in public such electronic materials in\n",
    "whole or in part without the prior written consent of The Open University or in\n",
    "accordance with the Copyright, Designs and Patents Act 1988."
   ]
  },
  {
   "cell_type": "markdown",
   "metadata": {},
   "source": [
    "## Table of Contents"
   ]
  },
  {
   "cell_type": "markdown",
   "metadata": {},
   "source": [
    "1. [Introduction](01_Introduction/01-introduction.ipynb)\n",
    "1. [Numbers and sequence](02_Sequence/02-introduction.ipynb)\n",
    "1. [Booleans and selection](03_Selection/03-introduction.ipynb)\n",
    "1. [Sequences and iteration](04_Iteration/04-introduction.ipynb)\n",
    "1. [TMA 01 part 1](05_TMA01-1/05-introduction.ipynb)\n",
    "1. [Implementing sequences](06_Implementing/06-introduction.ipynb)\n",
    "1. [Stacks and queues](07_Ordered/07-introduction.ipynb)\n",
    "1. [Unordered collections](08_Unordered/08-introduction.ipynb)\n",
    "1. [Practice 1](09_Practice-1/09-introduction.ipynb)\n",
    "1. [TMA 01 part 2](10_TMA01-2/10-introduction.ipynb)\n",
    "1. [Exhaustive search](11_Search/11-introduction.ipynb)\n",
    "1. [Recursion](12_Recursion/12-introduction.ipynb)\n",
    "1. [Divide and conquer](13_Divide/13-introduction.ipynb)\n",
    "1. [Sorting](14_Sorting/14-introduction.ipynb)\n",
    "1. [TMA 02 part 1](15_TMA02-1/15-introduction.ipynb)\n",
    "1. [Rooted trees](16_Trees/16-introduction.ipynb)\n",
    "1. [Hints](31_Hints/31-introduction.ipynb)\n",
    "1. [Answers](32_Answers/32-introduction.ipynb)"
   ]
  }
 ],
 "metadata": {
  "kernelspec": {
   "display_name": "Python 3",
   "language": "python",
   "name": "python3"
  }
 },
 "nbformat": 4,
 "nbformat_minor": 4
}
