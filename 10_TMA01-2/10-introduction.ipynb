{
 "cells": [
  {
   "cell_type": "markdown",
   "metadata": {},
   "source": [
    "# 10 TMA 01 part 2"
   ]
  },
  {
   "cell_type": "markdown",
   "metadata": {},
   "source": [
    "This study-free week is for you to work on the second part of TMA&nbsp;01\n",
    "(available from the 'Assessment' tab of the [M269 website](https://learn2.open.ac.uk/course/view.php?id=208089))\n",
    "and submit it together with the first part.\n",
    "\n",
    "Unless otherwise told, your TMA answers can only use the Python data types,\n",
    "methods and functions listed in the chapters' summaries. This is to help you\n",
    "write simple algorithms that are easier to understand, analyse and debug\n",
    "than if using the full range of Python operations.\n",
    "Using a small set of operations doesn't necessarily make the algorithms long.\n",
    "\n",
    "This chapter provides guidance for this TMA,\n",
    "in addition to [Chapter&nbsp;5](../05_TMA01-1/05-introduction.ipynb#5-TMA-01-part-1)."
   ]
  },
  {
   "cell_type": "markdown",
   "metadata": {
    "nbsphinx-toctree": {
     "hidden": true,
     "maxdepth": 1,
     "numbered": false
    }
   },
   "source": [
    "1. [Using collections](10_1_collections.ipynb)\n",
    "1. [Algorithms](10_2_algorithms.ipynb)\n",
    "1. [Coding style](10_3_coding_style.ipynb)"
   ]
  },
  {
   "cell_type": "markdown",
   "metadata": {},
   "source": [
    "⟵ [Previous chapter](../09_Practice-1/09-introduction.ipynb) | [Up](../M269.ipynb) | [Next chapter](../11_Search/11-introduction.ipynb) ⟶"
   ]
  }
 ],
 "metadata": {
  "kernelspec": {
   "display_name": "Python 3",
   "language": "python",
   "name": "python3"
  },
  "language_info": {
   "codemirror_mode": {
    "name": "ipython",
    "version": 3
   },
   "file_extension": ".py",
   "mimetype": "text/x-python",
   "name": "python",
   "nbconvert_exporter": "python",
   "pygments_lexer": "ipython3",
   "version": "3.8.5"
  }
 },
 "nbformat": 4,
 "nbformat_minor": 4
}
