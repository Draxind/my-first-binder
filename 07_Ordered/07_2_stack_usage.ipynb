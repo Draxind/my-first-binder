{
 "cells": [
  {
   "cell_type": "markdown",
   "metadata": {},
   "source": [
    "## 7.2 Using stacks"
   ]
  },
  {
   "cell_type": "markdown",
   "metadata": {},
   "source": [
    "Let's look at two classic applications of stacks."
   ]
  },
  {
   "cell_type": "markdown",
   "metadata": {},
   "source": [
    "### 7.2.1 Balanced brackets"
   ]
  },
  {
   "cell_type": "markdown",
   "metadata": {},
   "source": [
    "Python expressions use round and square brackets. The brackets must be\n",
    "balanced: opening and closing brackets must match in pairs, and\n",
    "the brackets enclosed within a pair of matching brackets must also be balanced.\n",
    "If the brackets are not balanced, a syntax error occurs."
   ]
  },
  {
   "cell_type": "code",
   "execution_count": 1,
   "metadata": {
    "execution": {
     "iopub.execute_input": "2021-09-10T15:37:47.597722Z",
     "iopub.status.busy": "2021-09-10T15:37:47.597124Z",
     "iopub.status.idle": "2021-09-10T15:37:47.599642Z",
     "shell.execute_reply": "2021-09-10T15:37:47.600200Z"
    }
   },
   "outputs": [
    {
     "ename": "SyntaxError",
     "evalue": "closing parenthesis ')' does not match opening parenthesis '[' (<ipython-input-1-e0af9f199a1e>, line 1)",
     "output_type": "error",
     "traceback": [
      "\u001b[0;36m  File \u001b[0;32m\"<ipython-input-1-e0af9f199a1e>\"\u001b[0;36m, line \u001b[0;32m1\u001b[0m\n\u001b[0;31m    ('hello'[1:3 + 'h')] * 3    # brackets within () aren't balanced\u001b[0m\n\u001b[0m                      ^\u001b[0m\n\u001b[0;31mSyntaxError\u001b[0m\u001b[0;31m:\u001b[0m closing parenthesis ')' does not match opening parenthesis '['\n"
     ]
    }
   ],
   "source": [
    "('hello'[1:3 + 'h')] * 3    # brackets within () aren't balanced"
   ]
  },
  {
   "cell_type": "markdown",
   "metadata": {},
   "source": [
    "Given a string, containing Python code or some other text,\n",
    "we want to know if the brackets within that string are balanced.\n",
    "That's a decision problem.\n",
    "\n",
    "**Function**: is balanced?\\\n",
    "**Inputs**: _text_, a string\\\n",
    "**Preconditions**: each bracket in _text_ is one of (, ), [, ]\\\n",
    "**Outputs**: _balanced_, a Boolean\\\n",
    "**Postconditions**: _balanced_ is true if and only if\n",
    "\n",
    "- all opening and closing brackets in _text_ match (have the same shape) in pairs\n",
    "- for each pair of matching brackets, the substring they delimit is balanced\n",
    "\n",
    "For the test table we need balanced and unbalanced brackets, nested and not.\n",
    "We must think of the various ways in which brackets are unbalanced.\n",
    "The empty string, the absence of brackets, and a string only with brackets\n",
    "are edge cases."
   ]
  },
  {
   "cell_type": "code",
   "execution_count": 2,
   "metadata": {
    "execution": {
     "iopub.execute_input": "2021-09-10T15:37:47.604542Z",
     "iopub.status.busy": "2021-09-10T15:37:47.604068Z",
     "iopub.status.idle": "2021-09-10T15:37:47.605907Z",
     "shell.execute_reply": "2021-09-10T15:37:47.606546Z"
    }
   },
   "outputs": [],
   "source": [
    "is_balanced_tests = [\n",
    "    # case,         text,                               balanced\n",
    "    ['no text',     '',                                 True],\n",
    "    ['no brackets', 'brackets are like Russian dolls',  True],\n",
    "    ['matched',     '(3 + 4)',                          True],\n",
    "    ['mismatched',  '(3 + 4]',                          False],\n",
    "    ['not opened',  '3 + 4]',                           False],\n",
    "    ['not closed',  '(3 + 4',                           False],\n",
    "    ['wrong order', 'close ) before open (',            False],\n",
    "    ['nested',      '([([])])',                         True],\n",
    "    ['nested pair', 'items[(i - 1):(i + 1)]',           True]\n",
    "]"
   ]
  },
  {
   "cell_type": "markdown",
   "metadata": {},
   "source": [
    "I told you at the start of this section that this problem requires a stack.\n",
    "If I hadn't let the cat out of the bag, one way to spot a stack\n",
    "is to look for a LIFO relationship. In a balanced string, the _first_ closing\n",
    "bracket must match the _last_ (most recent) opening bracket, or\n",
    "vice versa the _first_ opening bracket must match the _last_ closing bracket.\n",
    "\n",
    "By the way, this problem is a particular case of the more general\n",
    "problem of matching delimiters that can be nested.\n",
    "Any language that has them, like the opening and closing tags in HTML and XML,\n",
    "requires a stack to be processed."
   ]
  },
  {
   "cell_type": "markdown",
   "metadata": {
    "tags": [
     "NOTE"
    ]
   },
   "source": [
    "<div class=\"alert alert-warning\">\n",
    "<strong>Note:</strong> When processing a nested structure, consider a stack.\n",
    "</div>"
   ]
  },
  {
   "cell_type": "markdown",
   "metadata": {},
   "source": [
    "The algorithm must check if each closing bracket matches the most recent\n",
    "opening bracket. For that, we must keep a stack of the brackets opened so far.\n",
    "As we go through the string, we push opening brackets on the stack,\n",
    "and we pop them as we go through the matching closing brackets.\n",
    "Let's work through the last test in the table, as it has both kinds of brackets\n",
    "and they're nested. Characters that aren't brackets are skipped.\n",
    "\n",
    "Stack | Remaining string | Action\n",
    "-|-|-\n",
    "&nbsp; | '[(i - 1):(i + 1)]'  |  opening bracket: push\n",
    "[  | '(i - 1):(i + 1)]'  |  opening bracket: push\n",
    "[(  | '):(i + 1)]'  |  closing bracket matches top item: pop\n",
    "[  | '(i + 1)]'  |  opening bracket: push\n",
    "[(  | ')]'  |  closing bracket matches top item: pop\n",
    "[  | ']'  |  closing bracket matches top item: pop\n",
    "\n",
    "We reached the end of the string. Since the stack is empty,\n",
    "i.e. there are no open but yet unclosed brackets,\n",
    "the brackets must be balanced.\n",
    "\n",
    "The other tests with balanced brackets are checked in a similar way,\n",
    "so let's consider the tests with unbalanced brackets.\n",
    "As the algorithm goes through the string, how can it spot that the fourth text,\n",
    "'(3 + 4]', isn't balanced?\n",
    "\n",
    "___\n",
    "\n",
    "When it reaches the closing square bracket, the stack has the opening round\n",
    "bracket. The brackets don't match, so the algorithm can immediately stop\n",
    "with _balanced_ = false.\n",
    "\n",
    "Let's consider now the 'not opened' case: `'3 + 4]'`.\n",
    "How can the algorithm spot the brackets are unbalanced?\n",
    "\n",
    "___\n",
    "\n",
    "When it reaches the closing square bracket, the stack is empty.\n",
    "There's no opening bracket the closing bracket can match, so the algorithm\n",
    "can immediately stop with a false output.\n",
    "\n",
    "The 'wrong order' case, `'close ) before open ('`, is processed\n",
    "in the same way, so let's look at the final 'not closed' case: `'(3 + 4'`.\n",
    "How can the algorithm detect it's unbalanced?\n",
    "\n",
    "___\n",
    "\n",
    "Upon reaching the end of the string, the stack isn't empty.\n",
    "Some brackets were opened but not closed, which means they're unbalanced.\n",
    "\n",
    "Now that we have thought through the test cases, we can describe the algorithm.\n",
    "Here's one possible way, using the imperative tense and\n",
    "describing some of the rationale.\n",
    "\n",
    "> Create an empty stack for the brackets opened so far and not yet matched.\n",
    "> Iterate over the string and process each character.\n",
    "> If it's an opening bracket, push it on the stack.\n",
    "> If it's a closing bracket and the stack is empty or the top item isn't a\n",
    "> matching opening bracket, stop: the brackets aren't balanced.\n",
    "> Otherwise, the brackets match, so pop the opening bracket from stack.\n",
    "> If the end of the string is reached, the brackets are balanced if and only if\n",
    "> the stack is empty, i.e. no open brackets remain to be closed.\n",
    "\n",
    "Here's a more precise description.\n",
    "\n",
    "1. let _opened_ be an empty stack\n",
    "2. for each _character_ in _text_:\n",
    "    1. if _character_ = '(' or _character_ = '[':\n",
    "        1. push _character_ on _opened_\n",
    "    2. otherwise if _character_ = ')':\n",
    "        1. if │*opened*│ > 0 and top of _opened_ = '(':\n",
    "            1. pop _opened_\n",
    "        2. otherwise:\n",
    "            1. let _balanced_ be false\n",
    "            2. stop\n",
    "    3. otherwise if _character_ = ']':\n",
    "        1. if │*opened*│ > 0 and top of _opened_ = '[':\n",
    "            1. pop _opened_\n",
    "        2. otherwise:\n",
    "            1. let _balanced_ be false\n",
    "            2. stop\n",
    "3. let _balanced_ be │*opened*│ = 0"
   ]
  },
  {
   "cell_type": "markdown",
   "metadata": {},
   "source": [
    "#### Exercise 7.2.1"
   ]
  },
  {
   "cell_type": "markdown",
   "metadata": {},
   "source": [
    "Give a best- and a worst-case scenario of the algorithm and\n",
    "their corresponding complexities."
   ]
  },
  {
   "cell_type": "markdown",
   "metadata": {
    "tags": [
     "ANSWER"
    ]
   },
   "source": [
    "_Write your answer here._"
   ]
  },
  {
   "cell_type": "markdown",
   "metadata": {},
   "source": [
    "[Hint](../31_Hints/Hints_07_2_01.ipynb)\n",
    "[Answer](../32_Answers/Answers_07_2_01.ipynb)"
   ]
  },
  {
   "cell_type": "markdown",
   "metadata": {},
   "source": [
    "#### Exercise 7.2.2"
   ]
  },
  {
   "cell_type": "markdown",
   "metadata": {},
   "source": [
    "Translate the algorithm to Python code. Use a list as a stack."
   ]
  },
  {
   "cell_type": "code",
   "execution_count": 3,
   "metadata": {
    "execution": {
     "iopub.execute_input": "2021-09-10T15:37:47.611351Z",
     "iopub.status.busy": "2021-09-10T15:37:47.610649Z",
     "iopub.status.idle": "2021-09-10T15:37:47.614536Z",
     "shell.execute_reply": "2021-09-10T15:37:47.615072Z"
    }
   },
   "outputs": [],
   "source": [
    "%run -i ../m269_util\n",
    "\n",
    "def is_balanced(text: str) -> bool:\n",
    "    \"\"\"Check if all brackets in text are balanced.\n",
    "\n",
    "    Preconditions: each bracket in 'text' is one of (, ), [, ]\n",
    "    \"\"\"\n",
    "    pass\n",
    "\n",
    "test(is_balanced, is_balanced_tests)"
   ]
  },
  {
   "cell_type": "markdown",
   "metadata": {},
   "source": [
    "[Answer](../32_Answers/Answers_07_2_02.ipynb)"
   ]
  },
  {
   "cell_type": "markdown",
   "metadata": {},
   "source": [
    "#### Exercise 7.2.3"
   ]
  },
  {
   "cell_type": "markdown",
   "metadata": {},
   "source": [
    "Assuming only round brackets (parentheses) can occur in the input string,\n",
    "describe a simpler linear-time algorithm that checks if they're balanced.\n",
    "\n",
    "[Hint](../31_Hints/Hints_07_2_03.ipynb)\n",
    "[Answer](../32_Answers/Answers_07_2_03.ipynb)"
   ]
  },
  {
   "cell_type": "markdown",
   "metadata": {},
   "source": [
    "### 7.2.2 Postfix expressions"
   ]
  },
  {
   "cell_type": "markdown",
   "metadata": {},
   "source": [
    "An expression like 3 − 4 is in **infix** notation: the operator is\n",
    "between the operands. An expression like 3 4 − is in **postfix** notation:\n",
    "the operator comes after the operands.\n",
    "\n",
    "Postfix expressions don't require parentheses because they show explicitly\n",
    "in which order the operators are applied. Some examples:\n",
    "\n",
    "Infix | Postfix |\n",
    "-|-\n",
    "3 − 4 × 5 |  3 4 5 × −\n",
    "(3 − 4) × 5 |  3 4 − 5 ×\n",
    "(3 − 4) × (5 − 6) | 3 4 − 5 6 − ×\n",
    "3 − 4 × (5 − 6)  | 3 4 5 6 − × −"
   ]
  },
  {
   "cell_type": "markdown",
   "metadata": {
    "tags": [
     "INFO"
    ]
   },
   "source": [
    "<div class=\"alert alert-info\">\n",
    "<strong>Info:</strong> Postfix notation is also known as reverse Polish notation.\n",
    "</div>"
   ]
  },
  {
   "cell_type": "markdown",
   "metadata": {},
   "source": [
    "In the following, postfix expressions only contain\n",
    "natural numbers and the subtraction and multiplication operators."
   ]
  },
  {
   "cell_type": "markdown",
   "metadata": {},
   "source": [
    "#### Exercise 7.2.4"
   ]
  },
  {
   "cell_type": "markdown",
   "metadata": {},
   "source": [
    "Postfix expressions can be evaluated in a single pass from left to right,\n",
    "using a stack. Explain why."
   ]
  },
  {
   "cell_type": "markdown",
   "metadata": {
    "tags": [
     "ANSWER"
    ]
   },
   "source": [
    "_Write your answer here._"
   ]
  },
  {
   "cell_type": "markdown",
   "metadata": {},
   "source": [
    "[Hint](../31_Hints/Hints_07_2_04.ipynb)\n",
    "[Answer](../32_Answers/Answers_07_2_04.ipynb)"
   ]
  },
  {
   "cell_type": "markdown",
   "metadata": {},
   "source": [
    "#### Exercise 7.2.5"
   ]
  },
  {
   "cell_type": "markdown",
   "metadata": {},
   "source": [
    "Describe an algorithm that evaluates a postfix expression, given as\n",
    "a non-empty sequence of characters '−' and '*' and natural numbers.\n",
    "You can assume the sequence represents a valid postfix expression,\n",
    "e.g. it doesn't start with an operator."
   ]
  },
  {
   "cell_type": "markdown",
   "metadata": {
    "tags": [
     "ANSWER"
    ]
   },
   "source": [
    "_Write your answer here._"
   ]
  },
  {
   "cell_type": "markdown",
   "metadata": {},
   "source": [
    "[Hint](../31_Hints/Hints_07_2_05.ipynb)\n",
    "[Answer](../32_Answers/Answers_07_2_05.ipynb)"
   ]
  },
  {
   "cell_type": "markdown",
   "metadata": {},
   "source": [
    "#### Exercise 7.2.6"
   ]
  },
  {
   "cell_type": "markdown",
   "metadata": {},
   "source": [
    "Implement the algorithm. You don't need to add tests."
   ]
  },
  {
   "cell_type": "code",
   "execution_count": 4,
   "metadata": {
    "execution": {
     "iopub.execute_input": "2021-09-10T15:37:47.623736Z",
     "iopub.status.busy": "2021-09-10T15:37:47.623012Z",
     "iopub.status.idle": "2021-09-10T15:37:47.628527Z",
     "shell.execute_reply": "2021-09-10T15:37:47.629046Z"
    }
   },
   "outputs": [],
   "source": [
    "%run -i ../m269_util\n",
    "\n",
    "def evaluate(expression: list) -> int:\n",
    "    \"\"\"Return the value of the given postfix expression.\n",
    "\n",
    "    Preconditions:\n",
    "    - each item in the input list is a natural number, '-' or '*'\n",
    "    - the input represents a valid non-empty postfix expression\n",
    "    \"\"\"\n",
    "    pass\n",
    "\n",
    "evaluate_tests = [\n",
    "    # case,             expression,                     value\n",
    "    ['3 * 4',           [3, 4, '*'],                    12],\n",
    "    ['3 - 4',           [3, 4, '-'],                    -1],\n",
    "    ['3 - 4 * 5',       [3, 4, 5, '*', '-'],            -17],\n",
    "    ['(3 - 4) * 5',     [3, 4, '-', 5, '*'],            -5],\n",
    "    ['(3 - 4) * (5 - 6)', [3, 4, '-', 5, 6, '-', '*'],  1],\n",
    "    ['no operation',    [4],                            4]\n",
    "]\n",
    "\n",
    "test(evaluate, evaluate_tests)"
   ]
  },
  {
   "cell_type": "markdown",
   "metadata": {},
   "source": [
    "[Answer](../32_Answers/Answers_07_2_06.ipynb)"
   ]
  },
  {
   "cell_type": "markdown",
   "metadata": {},
   "source": [
    "#### Optional exercises"
   ]
  },
  {
   "cell_type": "markdown",
   "metadata": {},
   "source": [
    "I've listed further problems requiring stacks in the\n",
    "[Kattis Guide](https://mwermelinger.github.io/kattis-guide/ordered.html#stacks)."
   ]
  },
  {
   "cell_type": "markdown",
   "metadata": {},
   "source": [
    "⟵ [Previous section](07_1_stack.ipynb) | [Up](07-introduction.ipynb) | [Next section](07_3_queue.ipynb) ⟶"
   ]
  }
 ],
 "metadata": {
  "kernelspec": {
   "display_name": "Python 3",
   "language": "python",
   "name": "python3"
  },
  "language_info": {
   "codemirror_mode": {
    "name": "ipython",
    "version": 3
   },
   "file_extension": ".py",
   "mimetype": "text/x-python",
   "name": "python",
   "nbconvert_exporter": "python",
   "pygments_lexer": "ipython3",
   "version": "3.8.5"
  }
 },
 "nbformat": 4,
 "nbformat_minor": 4
}
