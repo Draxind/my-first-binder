{
 "cells": [
  {
   "cell_type": "markdown",
   "metadata": {},
   "source": [
    "## 7.1 Stacks"
   ]
  },
  {
   "cell_type": "markdown",
   "metadata": {},
   "source": [
    "A pile of boxes is a stack. Only the topmost box can be easily accessed.\n",
    "To access any other box, one usually must remove boxes from the top, one by one.\n",
    "To re-form the pile, one must put each box back on top of the previous boxes.\n",
    "\n",
    "Computationally, a **stack** is a restricted sequence in which\n",
    "new items are added to and removed from only one end of the sequence.\n",
    "A stack can be seen as a sequence ordered by 'age'.\n",
    "The 'oldest' item, the one added first, is at the bottom of the stack.\n",
    "The 'youngest' item, the one added last, is at the top.\n",
    "A stack is a **last-in, first-out (LIFO)** sequence:\n",
    "the last item to be added is the first to be removed."
   ]
  },
  {
   "cell_type": "markdown",
   "metadata": {
    "tags": [
     "INFO"
    ]
   },
   "source": [
    "<div class=\"alert alert-info\">\n",
    "<strong>Info:</strong> Some texts also use FILO (first-in, last-out) as a synonym for LIFO.\n",
    "</div>"
   ]
  },
  {
   "cell_type": "markdown",
   "metadata": {},
   "source": [
    "### 7.1.1 The stack ADT"
   ]
  },
  {
   "cell_type": "markdown",
   "metadata": {},
   "source": [
    "The stack ADT has five operations, where _s_ is some stack:\n",
    "\n",
    "Operation | Effect | Algorithm in English\n",
    "-|-|-\n",
    "new  | create a new empty stack | let _s_ be an empty stack\n",
    "size | obtain the size of _s_ | │*s*│\n",
    "push | put an item on top of _s_ | push _item_ on _s_\n",
    "pop | remove the top item, if _s_ isn't empty | pop _s_\n",
    "peek  | access the top item, if _s_ isn't empty | top of _s_\n",
    "\n",
    "A common alternative pop operation also returns the removed item.\n",
    "This makes the peek operation redundant:\n",
    "the top item can be inspected by popping and pushing it.\n",
    "\n",
    "A stack is a sequence of objects and so\n",
    "we can use sequence ADT operations in defining the stack ADT.\n",
    "The push, pop and peek operations are simply restricted versions of\n",
    "the insert, remove and indexing operations of the sequence ADT.\n",
    "\n",
    "**ADT**: stack, a sequence of objects\n",
    "\n",
    "**Function**: new\\\n",
    "**Inputs**: none\\\n",
    "**Preconditions**: true\\\n",
    "**Outputs**: _items_, a stack\\\n",
    "**Postconditions**: _items_ = ()\n",
    "\n",
    "**Function**: size\\\n",
    "**Inputs**: _items_, a stack\\\n",
    "**Preconditions**: true\\\n",
    "**Outputs**: _count_, an integer\\\n",
    "**Postconditions**: _count_ = │*items*│"
   ]
  },
  {
   "cell_type": "markdown",
   "metadata": {},
   "source": [
    "#### Exercise 7.1.1"
   ]
  },
  {
   "cell_type": "markdown",
   "metadata": {},
   "source": [
    "Here again is the definition of the insert operation of the sequence ADT\n",
    "from [Section&nbsp;4.6](../04_Iteration/04_6_lists.ipynb#4.6.1-Modifying-sequences).\n",
    "Modify it for the push operation for a stack."
   ]
  },
  {
   "cell_type": "markdown",
   "metadata": {},
   "source": [
    "**Operation**: insert\\\n",
    "**Inputs/Outputs**: _values_, a sequence\\\n",
    "**Inputs**: _index_, an integer; _value_, an object\\\n",
    "**Preconditions**: 0 ≤ _index_ ≤ │*values*│\\\n",
    "**Postconditions**: post-_values_ =\n",
    "(pre-_values_[0], ..., pre-_values_[_index_ − 1], _value_,\n",
    "pre-_values_[*index*], ..., pre-_values_[│pre-_values_│ − 1])\n",
    "\n",
    "[Hint](../31_Hints/Hints_07_1_01.ipynb)\n",
    "[Answer](../32_Answers/Answers_07_1_01.ipynb)"
   ]
  },
  {
   "cell_type": "markdown",
   "metadata": {},
   "source": [
    "#### Exercise 7.1.2"
   ]
  },
  {
   "cell_type": "markdown",
   "metadata": {},
   "source": [
    "Modify the definitions of the general remove and indexing operations\n",
    "to become the definitions of the pop and peek operations."
   ]
  },
  {
   "cell_type": "markdown",
   "metadata": {},
   "source": [
    "**Operation**: remove\\\n",
    "**Inputs/Outputs**: _values_, a sequence\\\n",
    "**Inputs**: _index_, an integer\\\n",
    "**Preconditions**: 0 ≤ _index_ < │*values*│\\\n",
    "**Postconditions**: post-_values_ =\n",
    "(pre-_values_[0], ..., pre-_values_[_index_ − 1],\n",
    "pre-_values_[_index_ + 1], ..., pre-_values_[│pre-_values_│ − 1])"
   ]
  },
  {
   "cell_type": "markdown",
   "metadata": {},
   "source": [
    "**Function**: indexing\\\n",
    "**Inputs**: _values_, a sequence; _index_, an integer\\\n",
    "**Preconditions**: 0 ≤ _index_ < │*values*│ \\\n",
    "**Output**: _value_, an object\\\n",
    "**Postconditions**: _value_ is the _n_-th item of _values_, with _n_ = _index_ + 1\n",
    "\n",
    "[Hint](../31_Hints/Hints_07_1_02.ipynb)\n",
    "[Answer](../32_Answers/Answers_07_1_02.ipynb)"
   ]
  },
  {
   "cell_type": "markdown",
   "metadata": {},
   "source": [
    "### 7.1.2 Implementing with an array"
   ]
  },
  {
   "cell_type": "markdown",
   "metadata": {},
   "source": [
    "Python doesn't provide a stack data type because stacks can be easily simulated\n",
    "with lists, as long as we only access, add and remove the last item.\n",
    "Here's a list being used as a stack:"
   ]
  },
  {
   "cell_type": "code",
   "execution_count": 1,
   "metadata": {
    "execution": {
     "iopub.execute_input": "2021-09-10T15:37:45.018825Z",
     "iopub.status.busy": "2021-09-10T15:37:45.017948Z",
     "iopub.status.idle": "2021-09-10T15:37:45.020967Z",
     "shell.execute_reply": "2021-09-10T15:37:45.021911Z"
    }
   },
   "outputs": [
    {
     "name": "stdout",
     "output_type": "stream",
     "text": [
      "push 0\n",
      "push 1\n",
      "push 2\n",
      "pop 2\n",
      "pop 1\n",
      "pop 0\n"
     ]
    }
   ],
   "source": [
    "numbers = []    # a stack\n",
    "for number in range(3):\n",
    "    print('push', number)\n",
    "    numbers.append(number)\n",
    "while len(numbers) > 0:\n",
    "    print('pop', numbers[-1])\n",
    "    numbers.pop(-1)"
   ]
  },
  {
   "cell_type": "markdown",
   "metadata": {},
   "source": [
    "This example clearly shows the last-in, first-out behaviour of stacks:\n",
    "the items are popped in the opposite order they were pushed.\n",
    "\n",
    "Since Python's `pop` method also returns the removed item,\n",
    "it would be daft not to make use of it when convenient.\n",
    "The last two lines of the cell above can be rewritten as a single line:\n",
    "`print('pop', numbers.pop(-1))`.\n",
    "\n",
    "Lists are implemented with dynamic arrays, which means that all stack operations\n",
    "have constant-time complexity, possibly amortised,\n",
    "as they don't involve any shifting of items.\n",
    "\n",
    "We can implement a bounded stack with a static array, like we did for a\n",
    "[bounded sequence](../06_Implementing/06_4_bounded.ipynb#6.4-Bounded-sequences),\n",
    "by keeping track of the current size of the stack.\n",
    "\n",
    "Using list operations makes it harder to spot that a list is being\n",
    "used as a stack, and this may lead to errors when the code needs to be changed.\n",
    "That's why I added a comment at the start of the code example,\n",
    "indicating that the `numbers` list represents a stack."
   ]
  },
  {
   "cell_type": "markdown",
   "metadata": {
    "tags": [
     "NOTE"
    ]
   },
   "source": [
    "<div class=\"alert alert-warning\">\n",
    "<strong>Note:</strong> When using a Python list as a stack, signal it with a comment.\n",
    "</div>"
   ]
  },
  {
   "cell_type": "markdown",
   "metadata": {},
   "source": [
    "One could define a class for stacks, with a list instance variable and\n",
    "each method calling the corresponding list method, but\n",
    "this is seldom done in practice in Python."
   ]
  },
  {
   "cell_type": "markdown",
   "metadata": {
    "tags": [
     "INFO"
    ]
   },
   "source": [
    "<div class=\"alert alert-info\">\n",
    "<strong>Info:</strong> Class <code>Stack</code> in package <code>java.util</code> implements the stack ADT in Java.\n",
    "It's a subclass of <code>java.util.Vector</code>, a dynamic array data type.\n",
    "</div>"
   ]
  },
  {
   "cell_type": "markdown",
   "metadata": {},
   "source": [
    "#### Exercise 7.1.3 (optional)"
   ]
  },
  {
   "cell_type": "markdown",
   "metadata": {},
   "source": [
    "Write a `Stack` abstract class and tests.\n",
    "Then write a subclass `BoundedStack` and test it.\n",
    "You can swap classes with your study buddy or\n",
    "post your class on the forums for others to suggest improvements."
   ]
  },
  {
   "cell_type": "markdown",
   "metadata": {},
   "source": [
    "### 7.1.3 Implementing with a linked list"
   ]
  },
  {
   "cell_type": "markdown",
   "metadata": {},
   "source": [
    "The stack ADT can also be implemented with the linked list data structure.\n",
    "With an array, the top item is the _last_ one, at the highest index,\n",
    "so that the push and pop operations don't have to shift items.\n",
    "With a linked list, the top item is the _first_ one, in the head node,\n",
    "so that the push and pop operations don't have to traverse the linked list.\n",
    "\n",
    "Here's the same stack, obtained by pushing 0, 1 and 2 in this order,\n",
    "stored in a static array with capacity 5, and in a linked list.\n",
    "In both cases, an additional instance variable keeps track of the length.\n",
    "\n",
    "![The left half of the figure shows a linked list representation of a stack.\n",
    "There's an arrow from the word 'length' to a box with number 3 inside.\n",
    "There's an arrow from the word 'head' to a pair of boxes: the left box has\n",
    "number 2, the right box has an arrow leading to another pair of boxes. This\n",
    "pair has number 1 in the left box and another arrow to another pair of boxes.\n",
    "This third pair of boxes has number 0 in the left box and a cross in the right box.\n",
    "The right half of the figure shows an array representation of the same stack.\n",
    "The array is depicted as a sequence of 5 boxes with their indices,\n",
    "from 0 to 4, written beneath. The first three boxes have numbers 0, 1 and 2\n",
    "inside them, and the last two boxes have the word 'None'.\n",
    "There's an arrow from the word 'items' to the first box, with number 0.\n",
    "There's an arrow from word 'length' to index&nbsp;3.](07_1_siwl.png)\n",
    "\n",
    "The implementation with a linked list is rather straightforward.\n",
    "The push operation corresponds to\n",
    "[inserting at index&nbsp;0](../06_Implementing/06_7_linked_list.ipynb#6.7.2-Inserting-an-item)."
   ]
  },
  {
   "cell_type": "code",
   "execution_count": 2,
   "metadata": {
    "execution": {
     "iopub.execute_input": "2021-09-10T15:37:45.028897Z",
     "iopub.status.busy": "2021-09-10T15:37:45.028440Z",
     "iopub.status.idle": "2021-09-10T15:37:45.030204Z",
     "shell.execute_reply": "2021-09-10T15:37:45.030661Z"
    }
   },
   "outputs": [],
   "source": [
    "class LinkedStack:\n",
    "    \"A last-in, first-out sequence of objects.\"\"\"\n",
    "\n",
    "    class Node:\n",
    "        \"\"\"A node in a linked list.\"\"\"\n",
    "\n",
    "        def __init__(self, item: object):\n",
    "            \"\"\"Initialise the node with the given item.\"\"\"\n",
    "            self.item = item\n",
    "            self.next = None\n",
    "\n",
    "    def __init__(self):\n",
    "        \"\"\"Initialise the stack to be empty.\"\"\"\n",
    "        self.head = None\n",
    "        self.length = 0\n",
    "\n",
    "    def size(self) -> int:\n",
    "        \"\"\"Return the number of items in the stack.\"\"\"\n",
    "        return self.length\n",
    "\n",
    "    def peek(self) -> object:\n",
    "        \"\"\"Return the top item in the stack.\n",
    "\n",
    "        Preconditions: self.size() > 0\n",
    "        \"\"\"\n",
    "        return self.head.item\n",
    "\n",
    "    def pop(self) -> None:\n",
    "        \"\"\"Remove the top item from the stack.\n",
    "\n",
    "        Preconditions: self.length() > 0\n",
    "        \"\"\"\n",
    "        self.head = self.head.next\n",
    "        self.length = self.length - 1\n",
    "\n",
    "    def push(self, item: object) -> None:\n",
    "        \"\"\"Put the given item on top of the stack.\n",
    "\n",
    "        Postconditions: post-self.peek() == item\n",
    "        \"\"\"\n",
    "        new = LinkedStack.Node(item)\n",
    "        new.next = self.head\n",
    "        self.head = new\n",
    "        self.length = self.length + 1"
   ]
  },
  {
   "cell_type": "markdown",
   "metadata": {},
   "source": [
    "The example becomes:"
   ]
  },
  {
   "cell_type": "code",
   "execution_count": 3,
   "metadata": {
    "execution": {
     "iopub.execute_input": "2021-09-10T15:37:45.035266Z",
     "iopub.status.busy": "2021-09-10T15:37:45.034581Z",
     "iopub.status.idle": "2021-09-10T15:37:45.036901Z",
     "shell.execute_reply": "2021-09-10T15:37:45.037547Z"
    }
   },
   "outputs": [
    {
     "name": "stdout",
     "output_type": "stream",
     "text": [
      "push 0\n",
      "push 1\n",
      "push 2\n",
      "pop 2\n",
      "pop 1\n",
      "pop 0\n"
     ]
    }
   ],
   "source": [
    "numbers = LinkedStack()\n",
    "for number in range(3):\n",
    "    print('push', number)\n",
    "    numbers.push(number)\n",
    "while numbers.size() > 0:\n",
    "    print('pop', numbers.peek())\n",
    "    numbers.pop()"
   ]
  },
  {
   "cell_type": "markdown",
   "metadata": {},
   "source": [
    "With a linked list, each stack operation takes constant time,\n",
    "as it involves just a few assignments and possibly an integer operation."
   ]
  },
  {
   "cell_type": "markdown",
   "metadata": {},
   "source": [
    "#### Exercise 7.1.4"
   ]
  },
  {
   "cell_type": "markdown",
   "metadata": {},
   "source": [
    "Is it better to implement stacks with dynamic arrays or linked lists?"
   ]
  },
  {
   "cell_type": "markdown",
   "metadata": {
    "tags": [
     "ANSWER"
    ]
   },
   "source": [
    "_Write your answer here._"
   ]
  },
  {
   "cell_type": "markdown",
   "metadata": {},
   "source": [
    "[Hint](../31_Hints/Hints_07_1_04.ipynb)\n",
    "[Answer](../32_Answers/Answers_07_1_04.ipynb)"
   ]
  },
  {
   "cell_type": "markdown",
   "metadata": {},
   "source": [
    "⟵ [Previous section](07-introduction.ipynb) | [Up](07-introduction.ipynb) | [Next section](07_2_stack_usage.ipynb) ⟶"
   ]
  }
 ],
 "metadata": {
  "kernelspec": {
   "display_name": "Python 3",
   "language": "python",
   "name": "python3"
  },
  "language_info": {
   "codemirror_mode": {
    "name": "ipython",
    "version": 3
   },
   "file_extension": ".py",
   "mimetype": "text/x-python",
   "name": "python",
   "nbconvert_exporter": "python",
   "pygments_lexer": "ipython3",
   "version": "3.8.5"
  }
 },
 "nbformat": 4,
 "nbformat_minor": 4
}
