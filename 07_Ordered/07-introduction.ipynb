{
 "cells": [
  {
   "cell_type": "markdown",
   "metadata": {},
   "source": [
    "# 7 Stacks and queues"
   ]
  },
  {
   "cell_type": "markdown",
   "metadata": {},
   "source": [
    "The sequence ADT allows any item to be accessed, replaced or removed,\n",
    "and to insert new items anywhere.\n",
    "In some situations we don't need such flexibility.\n",
    "This chapter introduces three restricted sequence ADTs\n",
    "with examples of their use: stacks, queues and priority queues.\n",
    "They only allow us to access or remove one particular item:\n",
    "the most recently added item (stacks), the least recently added item (queues) or\n",
    "the highest-priority item (priority queues).\n",
    "The chapter also shows how to implement these ADTs.\n",
    "\n",
    "This chapter supports the following learning outcomes:\n",
    "\n",
    "- Apply general-purpose data structures and algorithmic techniques to\n",
    "  efficiently solve computational problems –\n",
    "  this chapter introduces three ADTs (stacks, queues and priority queues)\n",
    "  and how to implement them with arrays and linked lists.\n",
    "\n",
    "This chapter includes further examples to support these learning outcomes:\n",
    "\n",
    "- explain in a clear and succinct way how an algorithm or data structure works,\n",
    "  and its assumptions, in order to communicate with peers\n",
    "- analyse the complexity of algorithms to support design choices\n",
    "- write readable, tested and documented Python functions and classes to\n",
    "  implement algorithms and abstract data types.\n",
    "\n",
    "\n",
    "Before starting to work on this chapter, check the\n",
    "[M269 website](https://learn2.open.ac.uk/course/view.php?id=208089) for relevant news and errata."
   ]
  },
  {
   "cell_type": "markdown",
   "metadata": {
    "nbsphinx-toctree": {
     "hidden": true,
     "maxdepth": 1,
     "numbered": false
    }
   },
   "source": [
    "1. [Stacks](07_1_stack.ipynb)\n",
    "1. [Using stacks](07_2_stack_usage.ipynb)\n",
    "1. [Queues](07_3_queue.ipynb)\n",
    "1. [Implementing queues](07_4_queue_implementation.ipynb)\n",
    "1. [Implementing deques](07_5_deque_implementation.ipynb)\n",
    "1. [Priority queues](07_6_priority_queue.ipynb)\n",
    "1. [Summary](07_9_summary.ipynb)"
   ]
  },
  {
   "cell_type": "markdown",
   "metadata": {},
   "source": [
    "⟵ [Previous chapter](../06_Implementing/06-introduction.ipynb) | [Up](../M269.ipynb) | [Next chapter](../08_Unordered/08-introduction.ipynb) ⟶"
   ]
  }
 ],
 "metadata": {
  "kernelspec": {
   "display_name": "Python 3",
   "language": "python",
   "name": "python3"
  },
  "language_info": {
   "codemirror_mode": {
    "name": "ipython",
    "version": 3
   },
   "file_extension": ".py",
   "mimetype": "text/x-python",
   "name": "python",
   "nbconvert_exporter": "python",
   "pygments_lexer": "ipython3",
   "version": "3.8.5"
  }
 },
 "nbformat": 4,
 "nbformat_minor": 4
}
