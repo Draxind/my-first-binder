{
 "cells": [
  {
   "cell_type": "markdown",
   "metadata": {},
   "source": [
    "#### Exercise 14.7.3 hint"
   ]
  },
  {
   "cell_type": "markdown",
   "metadata": {},
   "source": [
    "Replace step&nbsp;1.1 with an if-statement that handles the three cases mentioned:\n",
    "return the pivot, search partition _smaller_ or search partition _larger_.\n",
    "\n",
    "You must keep the base case of a short sequence that can't be split.\n",
    "In two-way quicksort, that's when the sequence is empty or has a single item.\n",
    "What's the corresponding base case for quickselect and how is it handled?"
   ]
  }
 ],
 "metadata": {
  "kernelspec": {
   "display_name": "Python 3",
   "language": "python",
   "name": "python3"
  },
  "language_info": {
   "codemirror_mode": {
    "name": "ipython",
    "version": 3
   },
   "file_extension": ".py",
   "mimetype": "text/x-python",
   "name": "python",
   "nbconvert_exporter": "python",
   "pygments_lexer": "ipython3",
   "version": "3.8.5"
  }
 },
 "nbformat": 4,
 "nbformat_minor": 4
}
