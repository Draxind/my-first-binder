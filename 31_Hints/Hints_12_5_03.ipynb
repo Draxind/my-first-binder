{
 "cells": [
  {
   "cell_type": "markdown",
   "metadata": {},
   "source": [
    "#### Exercise 12.5.3 hint"
   ]
  },
  {
   "cell_type": "markdown",
   "metadata": {},
   "source": [
    "Like indexing, this operation has two arguments that can be decreased:\n",
    "the sequence _items_ and the integer _index_. What's the base case?"
   ]
  }
 ],
 "metadata": {
  "kernelspec": {
   "display_name": "Python 3",
   "language": "python",
   "name": "python3"
  },
  "language_info": {
   "codemirror_mode": {
    "name": "ipython",
    "version": 3
   },
   "file_extension": ".py",
   "mimetype": "text/x-python",
   "name": "python",
   "nbconvert_exporter": "python",
   "pygments_lexer": "ipython3",
   "version": "3.8.5"
  }
 },
 "nbformat": 4,
 "nbformat_minor": 4
}
