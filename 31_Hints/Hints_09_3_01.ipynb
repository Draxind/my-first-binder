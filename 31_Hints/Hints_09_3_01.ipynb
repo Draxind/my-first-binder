{
 "cells": [
  {
   "cell_type": "markdown",
   "metadata": {},
   "source": [
    "#### Exercise 9.3.1 hint"
   ]
  },
  {
   "cell_type": "markdown",
   "metadata": {},
   "source": [
    "The algorithm should go only once through the store to find all 'matching'\n",
    "products, i.e. that add up to the voucher's amount.\n",
    "Thinking of concrete examples always helps: point with a finger through\n",
    "one of the problem instances and think what needs to be done for each product.\n",
    "For example, in the fifth test case, with _voucher_ = 7,\n",
    "as you go through the products, how can you know that `F2` matches `F5`?\n",
    "What data structure can help you quickly find a matching product?"
   ]
  }
 ],
 "metadata": {
  "kernelspec": {
   "display_name": "Python 3",
   "language": "python",
   "name": "python3"
  },
  "language_info": {
   "codemirror_mode": {
    "name": "ipython",
    "version": 3
   },
   "file_extension": ".py",
   "mimetype": "text/x-python",
   "name": "python",
   "nbconvert_exporter": "python",
   "pygments_lexer": "ipython3",
   "version": "3.8.5"
  }
 },
 "nbformat": 4,
 "nbformat_minor": 4
}
