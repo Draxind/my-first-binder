{
 "cells": [
  {
   "cell_type": "markdown",
   "metadata": {},
   "source": [
    "# 17 Hints"
   ]
  },
  {
   "cell_type": "markdown",
   "metadata": {},
   "source": [
    "This chapter contains all hints for exercises throughout the book.\n",
    "Not every exercise has a hint.\n",
    "\n",
    "\n",
    "Before starting to work on this chapter, check the\n",
    "[M269 website](https://learn2.open.ac.uk/course/view.php?id=208089) for relevant news and errata."
   ]
  },
  {
   "cell_type": "markdown",
   "metadata": {
    "nbsphinx-toctree": {
     "hidden": true,
     "maxdepth": 1,
     "numbered": false
    }
   },
   "source": [
    "1. [Introduction](Hints_01.ipynb)\n",
    "1. [Numbers and sequence](Hints_02.ipynb)\n",
    "1. [Booleans and selection](Hints_03.ipynb)\n",
    "1. [Sequences and iteration](Hints_04.ipynb)\n",
    "1. [Implementing sequences](Hints_06.ipynb)\n",
    "1. [Stacks and queues](Hints_07.ipynb)\n",
    "1. [Unordered collections](Hints_08.ipynb)\n",
    "1. [Practice 1](Hints_09.ipynb)\n",
    "1. [Exhaustive search](Hints_11.ipynb)\n",
    "1. [Recursion](Hints_12.ipynb)\n",
    "1. [Divide and conquer](Hints_13.ipynb)\n",
    "1. [Sorting](Hints_14.ipynb)\n",
    "1. [Rooted trees](Hints_16.ipynb)"
   ]
  },
  {
   "cell_type": "markdown",
   "metadata": {},
   "source": [
    "⟵ [Previous chapter](../16_Trees/16-introduction.ipynb) | [Up](../M269.ipynb) | [Next chapter](../32_Answers/32-introduction.ipynb) ⟶"
   ]
  }
 ],
 "metadata": {
  "kernelspec": {
   "display_name": "Python 3",
   "language": "python",
   "name": "python3"
  },
  "language_info": {
   "codemirror_mode": {
    "name": "ipython",
    "version": 3
   },
   "file_extension": ".py",
   "mimetype": "text/x-python",
   "name": "python",
   "nbconvert_exporter": "python",
   "pygments_lexer": "ipython3",
   "version": "3.8.5"
  }
 },
 "nbformat": 4,
 "nbformat_minor": 4
}
