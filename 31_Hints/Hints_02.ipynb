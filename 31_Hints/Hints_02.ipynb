{
 "cells": [
  {
   "cell_type": "markdown",
   "metadata": {},
   "source": [
    "## 17.2 Numbers and sequence"
   ]
  },
  {
   "cell_type": "markdown",
   "metadata": {
    "nbsphinx-toctree": {
     "hidden": true,
     "maxdepth": 1,
     "numbered": false
    }
   },
   "source": [
    "1. [Numbers](Hints_02_1.ipynb)\n",
    "1. [Arithmetic operations](Hints_02_2.ipynb)\n",
    "1. [Expressions](Hints_02_3.ipynb)\n",
    "1. [Functions in mathematics](Hints_02_5.ipynb)\n",
    "1. [Functions in Python](Hints_02_6.ipynb)\n",
    "1. [Complexity](Hints_02_7.ipynb)\n",
    "1. [Run-times](Hints_02_8.ipynb)"
   ]
  },
  {
   "cell_type": "markdown",
   "metadata": {},
   "source": [
    "⟵ [Previous section](Hints_01.ipynb) | [Up](31-introduction.ipynb) | [Next section](Hints_03.ipynb) ⟶"
   ]
  }
 ],
 "metadata": {
  "kernelspec": {
   "display_name": "Python 3",
   "language": "python",
   "name": "python3"
  },
  "language_info": {
   "codemirror_mode": {
    "name": "ipython",
    "version": 3
   },
   "file_extension": ".py",
   "mimetype": "text/x-python",
   "name": "python",
   "nbconvert_exporter": "python",
   "pygments_lexer": "ipython3",
   "version": "3.8.5"
  }
 },
 "nbformat": 4,
 "nbformat_minor": 4
}
