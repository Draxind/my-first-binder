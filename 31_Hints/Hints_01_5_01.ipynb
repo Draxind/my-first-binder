{
 "cells": [
  {
   "cell_type": "markdown",
   "metadata": {},
   "source": [
    "#### Exercise 1.5.1 hint"
   ]
  },
  {
   "cell_type": "markdown",
   "metadata": {},
   "source": [
    "4. To have each sentence on its own line,\n",
    "   add backslashes to the end of the first two sentences,\n",
    "   to break up the paragraph at those points.\n",
    "   If the question had asked to break the paragraph into three paragraphs, then you'd have to insert a blank line after each of the first two sentences.\n",
    "\n",
    "You can now close and halt this notebook\n",
    "(remember to use the keyboard shortcut if you created one)\n",
    "and return to the exercise question."
   ]
  }
 ],
 "metadata": {
  "kernelspec": {
   "display_name": "Python 3",
   "language": "python",
   "name": "python3"
  },
  "language_info": {
   "codemirror_mode": {
    "name": "ipython",
    "version": 3
   },
   "file_extension": ".py",
   "mimetype": "text/x-python",
   "name": "python",
   "nbconvert_exporter": "python",
   "pygments_lexer": "ipython3",
   "version": "3.8.5"
  }
 },
 "nbformat": 4,
 "nbformat_minor": 4
}
