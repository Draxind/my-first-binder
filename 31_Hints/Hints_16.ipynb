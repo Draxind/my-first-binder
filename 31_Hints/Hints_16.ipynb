{
 "cells": [
  {
   "cell_type": "markdown",
   "metadata": {},
   "source": [
    "## 17.13 Rooted trees"
   ]
  },
  {
   "cell_type": "markdown",
   "metadata": {
    "nbsphinx-toctree": {
     "hidden": true,
     "maxdepth": 1,
     "numbered": false
    }
   },
   "source": [
    "1. [Algorithms on trees](Hints_16_2.ipynb)\n",
    "1. [Traversals](Hints_16_3.ipynb)\n",
    "1. [Binary search trees](Hints_16_4.ipynb)\n",
    "1. [Balanced trees](Hints_16_5.ipynb)\n",
    "1. [Heapsort](Hints_16_6.ipynb)"
   ]
  },
  {
   "cell_type": "markdown",
   "metadata": {},
   "source": [
    "⟵ [Previous section](Hints_14.ipynb) | [Up](31-introduction.ipynb) | [Next section](../32_Answers/32-introduction.ipynb) ⟶"
   ]
  }
 ],
 "metadata": {
  "kernelspec": {
   "display_name": "Python 3",
   "language": "python",
   "name": "python3"
  },
  "language_info": {
   "codemirror_mode": {
    "name": "ipython",
    "version": 3
   },
   "file_extension": ".py",
   "mimetype": "text/x-python",
   "name": "python",
   "nbconvert_exporter": "python",
   "pygments_lexer": "ipython3",
   "version": "3.8.5"
  }
 },
 "nbformat": 4,
 "nbformat_minor": 4
}
