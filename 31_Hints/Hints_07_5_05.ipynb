{
 "cells": [
  {
   "cell_type": "markdown",
   "metadata": {},
   "source": [
    "#### Exercise 7.5.5 hint"
   ]
  },
  {
   "cell_type": "markdown",
   "metadata": {},
   "source": [
    "The `prepend` method must first check whether the linked list is empty and\n",
    "act accordingly. If it's not empty, you may wish to make step-by-step drawings\n",
    "of how the new node is inserted before the current head node and\n",
    "how the _head_, _next_ and _previous_ variables must be updated.\n",
    "\n",
    "The `remove_back` method must also distinguish two cases:\n",
    "the deque has one or more items.\n",
    "In the second case, you must obtain the penultimate node and make it the new final node. Again, drawing a diagram may help."
   ]
  }
 ],
 "metadata": {
  "kernelspec": {
   "display_name": "Python 3",
   "language": "python",
   "name": "python3"
  },
  "language_info": {
   "codemirror_mode": {
    "name": "ipython",
    "version": 3
   },
   "file_extension": ".py",
   "mimetype": "text/x-python",
   "name": "python",
   "nbconvert_exporter": "python",
   "pygments_lexer": "ipython3",
   "version": "3.8.5"
  }
 },
 "nbformat": 4,
 "nbformat_minor": 4
}
