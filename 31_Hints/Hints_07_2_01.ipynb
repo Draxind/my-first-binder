{
 "cells": [
  {
   "cell_type": "markdown",
   "metadata": {},
   "source": [
    "#### Exercise 7.2.1 hint"
   ]
  },
  {
   "cell_type": "markdown",
   "metadata": {},
   "source": [
    "Which scenarios lead to the least or most work done by the algorithm?\n",
    "Remember that scenarios are about the form of the input, not their size.\n",
    "The empty string isn't a best-case scenario."
   ]
  }
 ],
 "metadata": {
  "kernelspec": {
   "display_name": "Python 3",
   "language": "python",
   "name": "python3"
  },
  "language_info": {
   "codemirror_mode": {
    "name": "ipython",
    "version": 3
   },
   "file_extension": ".py",
   "mimetype": "text/x-python",
   "name": "python",
   "nbconvert_exporter": "python",
   "pygments_lexer": "ipython3",
   "version": "3.8.5"
  }
 },
 "nbformat": 4,
 "nbformat_minor": 4
}
