{
 "cells": [
  {
   "cell_type": "markdown",
   "metadata": {},
   "source": [
    "## 2.1 Numbers"
   ]
  },
  {
   "cell_type": "markdown",
   "metadata": {},
   "source": [
    "A **data type** is a collection of values and operations on those values.\n",
    "This and the next section introduce the numeric types used in M269.\n",
    "This section covers the values; the next section covers the operations.\n",
    "\n",
    "When referring to a type independently of how it's implemented,\n",
    "we'll use the term **abstract data type**, abbreviated **ADT**.\n",
    "M269 uses two numeric ADTs: the integer ADT and the real number ADT.\n",
    "(ADTs are usually named after their values, in the singular.)"
   ]
  },
  {
   "cell_type": "markdown",
   "metadata": {},
   "source": [
    "### 2.1.1 Integers and real numbers"
   ]
  },
  {
   "cell_type": "markdown",
   "metadata": {},
   "source": [
    "The **real numbers** are the numbers that can be represented in decimal form,\n",
    "with a finite or infinite number of digits after the decimal point."
   ]
  },
  {
   "cell_type": "markdown",
   "metadata": {
    "tags": [
     "INFO"
    ]
   },
   "source": [
    "<div class=\"alert alert-info\">\n",
    "<strong>Info:</strong> Most countries in the world use a comma as the decimal separator but\n",
    "M269 follows the conventions of English-speaking countries.\n",
    "More generally, M269 doesn't use the alternative terms and notations\n",
    "mentioned in these information boxes.\n",
    "</div>"
   ]
  },
  {
   "cell_type": "markdown",
   "metadata": {},
   "source": [
    "The real numbers include the **integers** (0, 1, −1, 2, −2, etc.)\n",
    "and numbers like $\\frac{1}{3}$ = 0.333... and π = 3.141592....\n",
    "The **positive** numbers are those greater than zero;\n",
    "the **negative** numbers are those less than zero."
   ]
  },
  {
   "cell_type": "markdown",
   "metadata": {
    "tags": [
     "INFO"
    ]
   },
   "source": [
    "<div class=\"alert alert-info\">\n",
    "<strong>Info:</strong> The integers are also called integer numbers or whole numbers.\n",
    "</div>"
   ]
  },
  {
   "cell_type": "markdown",
   "metadata": {},
   "source": [
    "The **natural numbers** are the non-negative integers: 0, 1, 2, etc.\n",
    "They are typically used for counting,\n",
    "e.g. how many copies of a certain product are in stock:\n",
    "if a product is out of stock, its count is zero."
   ]
  },
  {
   "cell_type": "markdown",
   "metadata": {
    "tags": [
     "INFO"
    ]
   },
   "source": [
    "<div class=\"alert alert-info\">\n",
    "<strong>Info:</strong> Some texts, like the MU123 and MST124 books,\n",
    "don't consider zero to be a natural number.\n",
    "Computing texts usually do, because natural numbers are also used for indexing,\n",
    "as we shall see in Chapter&nbsp;4.\n",
    "</div>"
   ]
  },
  {
   "cell_type": "markdown",
   "metadata": {},
   "source": [
    "Many real numbers can be represented in various ways, e.g. 0.5 can be\n",
    "represented as a **fraction** (e.g. $\\frac{1}{2}$ or $\\frac{-3}{-6}$),\n",
    "as a **percentage** (50%) and in **scientific notation** (5 × 10$^{−1}$).\n",
    "The latter representation is useful for very large and very small numbers."
   ]
  },
  {
   "cell_type": "markdown",
   "metadata": {
    "tags": [
     "INFO"
    ]
   },
   "source": [
    "<div class=\"alert alert-info\">\n",
    "<strong>Info:</strong> MU123 Units 1 and 3 and MST124 Unit&nbsp;1 introduce\n",
    "the various kinds of numbers and notations.\n",
    "</div>"
   ]
  },
  {
   "cell_type": "markdown",
   "metadata": {},
   "source": [
    "If it makes long numbers easier to read for you, in exercises and assignments\n",
    "you may separate groups of three digits with commas,\n",
    "e.g. 9,500 is nine and a half thousand.\n",
    "\n",
    "Numbers are often accompanied by units of measurement.\n",
    "Depending on the unit and the required precision,\n",
    "we may use integers or real numbers. For example,\n",
    "we can represent a person's height as 1.7 metres or 170 centimetres.\n",
    "As another example, travel sites indicate temperature values with integers,\n",
    "but engineering applications need more precision and use real numbers."
   ]
  },
  {
   "cell_type": "markdown",
   "metadata": {},
   "source": [
    "### 2.1.2 `int` and `float`"
   ]
  },
  {
   "cell_type": "markdown",
   "metadata": {},
   "source": [
    "Python provides several numeric data types. M269 uses types `int` and `float`.\n",
    "\n",
    "Python's `int` type is, for practical purposes,\n",
    "indistinguishable from the integer ADT, because Python can represent\n",
    "any integer, no matter how many digits it has, provided there's enough memory.\n",
    "\n",
    "A **literal** is a direct representation of a value. In Python,\n",
    "an integer literal is one or more digits, optionally separated by underscores\n",
    "to make long numbers easier to read.\n",
    "Note that in Python, numeric literals don't include a minus sign.\n",
    "I'll come back to this point later. Here's an example."
   ]
  },
  {
   "cell_type": "code",
   "execution_count": 1,
   "metadata": {
    "execution": {
     "iopub.execute_input": "2021-09-10T15:35:14.127304Z",
     "iopub.status.busy": "2021-09-10T15:35:14.126606Z",
     "iopub.status.idle": "2021-09-10T15:35:14.129336Z",
     "shell.execute_reply": "2021-09-10T15:35:14.129802Z"
    }
   },
   "outputs": [
    {
     "data": {
      "text/plain": [
       "76543210"
      ]
     },
     "execution_count": 1,
     "metadata": {},
     "output_type": "execute_result"
    }
   ],
   "source": [
    "76_543_210"
   ]
  },
  {
   "cell_type": "markdown",
   "metadata": {},
   "source": [
    "As the example shows, by default integers aren't displayed with underscores.\n",
    "\n",
    "By the way, if you want to try out your own examples,\n",
    "you should create a checkpoint, copy my code cell,\n",
    "paste a duplicate below the original cell,\n",
    "and then work on the pasted cell.\n",
    "If you don't want to keep your examples, revert to the checkpoint,\n",
    "or simply delete the pasted cell.\n",
    "\n",
    "Python's `float` type only includes a restricted subset of the real numbers,\n",
    "namely those that can be represented as a binary **floating-point number**\n",
    "(**float** for short) with some fixed number of binary digits.\n",
    "(The exact number of digits available may depend on the Python interpreter\n",
    "and the hardware used.)\n",
    "\n",
    "In Python, a number written with a decimal point or in scientific notation is\n",
    "a float literal (even if it represents an integer number),\n",
    "otherwise it's an integer literal. In Python's scientific notation\n",
    "_x_ × 10$^y$ is written as `xey` or `xEy`, the choice is yours.\n",
    "(The letter 'e' stands for 'exponent'.)\n",
    "You can also use the underscore after the decimal point. Some examples:"
   ]
  },
  {
   "cell_type": "code",
   "execution_count": 2,
   "metadata": {
    "execution": {
     "iopub.execute_input": "2021-09-10T15:35:14.132920Z",
     "iopub.status.busy": "2021-09-10T15:35:14.132383Z",
     "iopub.status.idle": "2021-09-10T15:35:14.134674Z",
     "shell.execute_reply": "2021-09-10T15:35:14.135320Z"
    }
   },
   "outputs": [
    {
     "data": {
      "text/plain": [
       "1250000.0"
      ]
     },
     "execution_count": 1,
     "metadata": {},
     "output_type": "execute_result"
    }
   ],
   "source": [
    "1.25e6      # 1.25 x 10 ^ 6 = 1_250_000"
   ]
  },
  {
   "cell_type": "code",
   "execution_count": 3,
   "metadata": {
    "execution": {
     "iopub.execute_input": "2021-09-10T15:35:14.138368Z",
     "iopub.status.busy": "2021-09-10T15:35:14.137698Z",
     "iopub.status.idle": "2021-09-10T15:35:14.140073Z",
     "shell.execute_reply": "2021-09-10T15:35:14.140725Z"
    }
   },
   "outputs": [
    {
     "data": {
      "text/plain": [
       "0.5"
      ]
     },
     "execution_count": 1,
     "metadata": {},
     "output_type": "execute_result"
    }
   ],
   "source": [
    "5E-1        # 5 x 10 ^ -1 = 0.5"
   ]
  },
  {
   "cell_type": "code",
   "execution_count": 4,
   "metadata": {
    "execution": {
     "iopub.execute_input": "2021-09-10T15:35:14.143730Z",
     "iopub.status.busy": "2021-09-10T15:35:14.143068Z",
     "iopub.status.idle": "2021-09-10T15:35:14.145411Z",
     "shell.execute_reply": "2021-09-10T15:35:14.146060Z"
    }
   },
   "outputs": [
    {
     "data": {
      "text/plain": [
       "5.0"
      ]
     },
     "execution_count": 1,
     "metadata": {},
     "output_type": "execute_result"
    }
   ],
   "source": [
    "5e0         # integer as float literal: 5 x 10 ^ 0 = 5 x 1 = 5 = 5.0"
   ]
  },
  {
   "cell_type": "code",
   "execution_count": 5,
   "metadata": {
    "execution": {
     "iopub.execute_input": "2021-09-10T15:35:14.149520Z",
     "iopub.status.busy": "2021-09-10T15:35:14.148718Z",
     "iopub.status.idle": "2021-09-10T15:35:14.151747Z",
     "shell.execute_reply": "2021-09-10T15:35:14.152512Z"
    }
   },
   "outputs": [
    {
     "data": {
      "text/plain": [
       "12.345678"
      ]
     },
     "execution_count": 1,
     "metadata": {},
     "output_type": "execute_result"
    }
   ],
   "source": [
    "12.345_678"
   ]
  },
  {
   "cell_type": "markdown",
   "metadata": {},
   "source": [
    "The text after the hash symbol `#` is a **comment**.\n",
    "Comments are ignored by the Python interpreter;\n",
    "they are notes for us, human readers of the code.\n",
    "\n",
    "The real number π occurs in many mathematical formulas.\n",
    "Python provides a float with an approximate value.\n",
    "Python's definition of π is in a separate **module** (code library)\n",
    "named `math`, because not all applications need it.\n",
    "To use a module, we must tell the interpreter to **import** it, like so:"
   ]
  },
  {
   "cell_type": "code",
   "execution_count": 6,
   "metadata": {
    "execution": {
     "iopub.execute_input": "2021-09-10T15:35:14.156465Z",
     "iopub.status.busy": "2021-09-10T15:35:14.155779Z",
     "iopub.status.idle": "2021-09-10T15:35:14.157633Z",
     "shell.execute_reply": "2021-09-10T15:35:14.158345Z"
    }
   },
   "outputs": [],
   "source": [
    "import math"
   ]
  },
  {
   "cell_type": "markdown",
   "metadata": {},
   "source": [
    "This line of code generates no output, but the number to the left of the\n",
    "cell is a confirmation that it has been executed.\n",
    "The syntax colouring shows that the two words have a different 'status': `import` is a Python **keyword**, a word with a special meaning,\n",
    "while `math` is an **identifier**, simply a name.\n",
    "\n",
    "Now we can access the approximate value of π like so (note the dot):"
   ]
  },
  {
   "cell_type": "code",
   "execution_count": 7,
   "metadata": {
    "execution": {
     "iopub.execute_input": "2021-09-10T15:35:14.162028Z",
     "iopub.status.busy": "2021-09-10T15:35:14.161318Z",
     "iopub.status.idle": "2021-09-10T15:35:14.163679Z",
     "shell.execute_reply": "2021-09-10T15:35:14.164340Z"
    }
   },
   "outputs": [
    {
     "data": {
      "text/plain": [
       "3.141592653589793"
      ]
     },
     "execution_count": 1,
     "metadata": {},
     "output_type": "execute_result"
    }
   ],
   "source": [
    "math.pi"
   ]
  },
  {
   "cell_type": "markdown",
   "metadata": {},
   "source": [
    "Precise calculations with reals may become imprecise with floats\n",
    "due to their internal binary representation.\n",
    "For example, the product of 0.1 and 3 is not 0.3 when using floats,\n",
    "because there's no binary floating-point number that represents exactly&nbsp;0.1."
   ]
  },
  {
   "cell_type": "code",
   "execution_count": 8,
   "metadata": {
    "execution": {
     "iopub.execute_input": "2021-09-10T15:35:14.168959Z",
     "iopub.status.busy": "2021-09-10T15:35:14.168261Z",
     "iopub.status.idle": "2021-09-10T15:35:14.170591Z",
     "shell.execute_reply": "2021-09-10T15:35:14.171158Z"
    }
   },
   "outputs": [
    {
     "data": {
      "text/plain": [
       "0.30000000000000004"
      ]
     },
     "execution_count": 1,
     "metadata": {},
     "output_type": "execute_result"
    }
   ],
   "source": [
    "0.1 * 3"
   ]
  },
  {
   "cell_type": "markdown",
   "metadata": {
    "tags": [
     "INFO"
    ]
   },
   "source": [
    "<div class=\"alert alert-info\">\n",
    "<strong>Info:</strong> TM112 Block&nbsp;1 Section&nbsp;1.2 explains floating-point numbers and their binary representation.\n",
    "</div>"
   ]
  },
  {
   "cell_type": "markdown",
   "metadata": {},
   "source": [
    "In M269, floats occur mainly when measuring the run-time of code, and are\n",
    "sometimes displayed in Python's scientific notation. Here's some practice."
   ]
  },
  {
   "cell_type": "markdown",
   "metadata": {},
   "source": [
    "#### Exercise 2.1.1"
   ]
  },
  {
   "cell_type": "markdown",
   "metadata": {},
   "source": [
    "Rewrite the following floats, as done for the first one."
   ]
  },
  {
   "cell_type": "markdown",
   "metadata": {},
   "source": [
    "With 'e' | Without 'e'\n",
    "-|-\n",
    "`5e-1` | 0.5\n",
    "`3.4e2` |\n",
    "`5.67e-6` |\n",
    "\n",
    "[Hint](../31_Hints/Hints_02_1_01.ipynb)\n",
    "[Answer](../32_Answers/Answers_02_1_01.ipynb)"
   ]
  },
  {
   "cell_type": "markdown",
   "metadata": {},
   "source": [
    "### 2.1.3 Mistakes"
   ]
  },
  {
   "cell_type": "markdown",
   "metadata": {},
   "source": [
    "Programming language interpreters are either very picky or very lax about the\n",
    "form in which they expect instructions to be. Deviations from the expected form can lead to error messages or subtle mistakes that may be difficult to detect.\n",
    "This and similar subsections throughout the book show you some typical mistakes\n",
    "when writing code and how the interpreter reacts to them.\n",
    "\n",
    "Underscores in numbers are just for your convenience:\n",
    "the interpreter simply ignores them.\n",
    "If you misplace them, you may read the number wrongly."
   ]
  },
  {
   "cell_type": "code",
   "execution_count": 9,
   "metadata": {
    "execution": {
     "iopub.execute_input": "2021-09-10T15:35:14.174845Z",
     "iopub.status.busy": "2021-09-10T15:35:14.174242Z",
     "iopub.status.idle": "2021-09-10T15:35:14.176673Z",
     "shell.execute_reply": "2021-09-10T15:35:14.177217Z"
    }
   },
   "outputs": [
    {
     "data": {
      "text/plain": [
       "76543210"
      ]
     },
     "execution_count": 1,
     "metadata": {},
     "output_type": "execute_result"
    }
   ],
   "source": [
    "7_654_3210  # same number as before, not 7 million and ..."
   ]
  },
  {
   "cell_type": "markdown",
   "metadata": {},
   "source": [
    "Python uses commas to separate items, as we shall see in Chapter&nbsp;4.\n",
    "So, if you use a comma instead of an underscore or a decimal point,\n",
    "then the interpreter will consider the input to be several separate numbers."
   ]
  },
  {
   "cell_type": "code",
   "execution_count": 10,
   "metadata": {
    "execution": {
     "iopub.execute_input": "2021-09-10T15:35:14.181235Z",
     "iopub.status.busy": "2021-09-10T15:35:14.180524Z",
     "iopub.status.idle": "2021-09-10T15:35:14.183109Z",
     "shell.execute_reply": "2021-09-10T15:35:14.183758Z"
    }
   },
   "outputs": [
    {
     "data": {
      "text/plain": [
       "(76, 543, 210)"
      ]
     },
     "execution_count": 1,
     "metadata": {},
     "output_type": "execute_result"
    }
   ],
   "source": [
    "76,543,210      # wrong thousands separator: must be _"
   ]
  },
  {
   "cell_type": "code",
   "execution_count": 11,
   "metadata": {
    "execution": {
     "iopub.execute_input": "2021-09-10T15:35:14.186799Z",
     "iopub.status.busy": "2021-09-10T15:35:14.186275Z",
     "iopub.status.idle": "2021-09-10T15:35:14.188218Z",
     "shell.execute_reply": "2021-09-10T15:35:14.188671Z"
    }
   },
   "outputs": [
    {
     "data": {
      "text/plain": [
       "(3, 400.0)"
      ]
     },
     "execution_count": 1,
     "metadata": {},
     "output_type": "execute_result"
    }
   ],
   "source": [
    "3,4e2           # wrong decimal separator: must be ."
   ]
  },
  {
   "cell_type": "markdown",
   "metadata": {},
   "source": [
    "This mistake is hard to detect, because it's valid Python syntax.\n",
    "If you get an error message about the interpreter expecting a number\n",
    "instead of a list of numbers, then the source of the error might be this one.\n",
    "\n",
    "If the interpreter doesn't know what a name refers to,\n",
    "it raises a **name error**.\n",
    "The exact message may vary, depending on the context.\n",
    "For example, the error may occur if you misspell a name:"
   ]
  },
  {
   "cell_type": "code",
   "execution_count": 12,
   "metadata": {
    "execution": {
     "iopub.execute_input": "2021-09-10T15:35:14.191868Z",
     "iopub.status.busy": "2021-09-10T15:35:14.191164Z",
     "iopub.status.idle": "2021-09-10T15:35:14.308971Z",
     "shell.execute_reply": "2021-09-10T15:35:14.309499Z"
    }
   },
   "outputs": [
    {
     "ename": "ModuleNotFoundError",
     "evalue": "No module named 'maths'",
     "output_type": "error",
     "traceback": [
      "\u001b[0;31m---------------------------------------------------------------------------\u001b[0m",
      "\u001b[0;31mModuleNotFoundError\u001b[0m                       Traceback (most recent call last)",
      "\u001b[0;32m<ipython-input-1-aeefdbf30e51>\u001b[0m in \u001b[0;36m<module>\u001b[0;34m\u001b[0m\n\u001b[0;32m----> 1\u001b[0;31m \u001b[0;32mimport\u001b[0m \u001b[0mmaths\u001b[0m    \u001b[0;31m# should be math\u001b[0m\u001b[0;34m\u001b[0m\u001b[0;34m\u001b[0m\u001b[0m\n\u001b[0m",
      "\u001b[0;31mModuleNotFoundError\u001b[0m: No module named 'maths'"
     ]
    }
   ],
   "source": [
    "import maths    # should be math"
   ]
  },
  {
   "cell_type": "markdown",
   "metadata": {},
   "source": [
    "or if you forget to indicate in which module the name is defined:"
   ]
  },
  {
   "cell_type": "code",
   "execution_count": 13,
   "metadata": {
    "execution": {
     "iopub.execute_input": "2021-09-10T15:35:14.312967Z",
     "iopub.status.busy": "2021-09-10T15:35:14.312302Z",
     "iopub.status.idle": "2021-09-10T15:35:14.316862Z",
     "shell.execute_reply": "2021-09-10T15:35:14.317329Z"
    }
   },
   "outputs": [
    {
     "ename": "NameError",
     "evalue": "name 'pi' is not defined",
     "output_type": "error",
     "traceback": [
      "\u001b[0;31m---------------------------------------------------------------------------\u001b[0m",
      "\u001b[0;31mNameError\u001b[0m                                 Traceback (most recent call last)",
      "\u001b[0;32m<ipython-input-1-f84ab820532c>\u001b[0m in \u001b[0;36m<module>\u001b[0;34m\u001b[0m\n\u001b[0;32m----> 1\u001b[0;31m \u001b[0mpi\u001b[0m\u001b[0;34m\u001b[0m\u001b[0;34m\u001b[0m\u001b[0m\n\u001b[0m",
      "\u001b[0;31mNameError\u001b[0m: name 'pi' is not defined"
     ]
    }
   ],
   "source": [
    "pi"
   ]
  },
  {
   "cell_type": "markdown",
   "metadata": {},
   "source": [
    "⟵ [Previous section](02-introduction.ipynb) | [Up](02-introduction.ipynb) | [Next section](02_2_operations.ipynb) ⟶"
   ]
  }
 ],
 "metadata": {
  "kernelspec": {
   "display_name": "Python 3",
   "language": "python",
   "name": "python3"
  },
  "language_info": {
   "codemirror_mode": {
    "name": "ipython",
    "version": 3
   },
   "file_extension": ".py",
   "mimetype": "text/x-python",
   "name": "python",
   "nbconvert_exporter": "python",
   "pygments_lexer": "ipython3",
   "version": "3.8.5"
  }
 },
 "nbformat": 4,
 "nbformat_minor": 4
}
