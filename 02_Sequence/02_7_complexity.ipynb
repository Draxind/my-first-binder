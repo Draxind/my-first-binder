{
 "cells": [
  {
   "cell_type": "markdown",
   "metadata": {},
   "source": [
    "## 2.7 Complexity"
   ]
  },
  {
   "cell_type": "markdown",
   "metadata": {},
   "source": [
    "We want algorithms to be correct _and_ fast, especially on large inputs.\n",
    "The run-time of an algorithm, implemented as a Python function,\n",
    "depends on the hardware, operating system and Python interpreter we're using,\n",
    "and whether other processes are running in the background,\n",
    "like checking for software updates.\n",
    "\n",
    "Computer scientists found a way of talking about algorithms\n",
    "that is independent of all these factors. Instead of getting bogged down with the exact run-times for particular input values, we look at how the run-times increase for ever-larger inputs. In other words, what we really want to know is how well (or not) an algorithm copes with growing inputs."
   ]
  },
  {
   "cell_type": "markdown",
   "metadata": {},
   "source": [
    "### 2.7.1 Constant complexity"
   ]
  },
  {
   "cell_type": "markdown",
   "metadata": {},
   "source": [
    "The algorithms that best cope with growing inputs are those where\n",
    "the run-time stays roughly the same, no matter how small or large the input is.\n",
    "Such algorithms are said to have constant run-time or **constant complexity**.\n",
    "The term 'constant' doesn't mean that the run-time stays exactly the same\n",
    "for all inputs: it means that it doesn't grow.\n",
    "\n",
    "The **complexity** of an algorithm is the growth rate of its run-times\n",
    "for larger inputs, when executed on the same computational environment\n",
    "(hardware, operating system, programming language and interpreter).\n",
    "The complexity is _not_ about how fast the algorithm runs. For example,\n",
    "an addition algorithm that takes one whole day to find out the sum of 3 and 4\n",
    "but also takes one day (in the same environment) to add two 500-digit numbers\n",
    "has constant complexity. A constant complexity algorithm may be slow,\n",
    "but it won't get slower for large inputs.\n",
    "\n",
    "A simple way to see if an algorithm has constant complexity is\n",
    "to implement the algorithm in some computational environment,\n",
    "run it with ever larger inputs, measure the run-times\n",
    "and see if they remain more or less the same.\n",
    "A better approach is to determine the complexity of an algorithm\n",
    "before implementing it, from its English description.\n",
    "This prevents wasting effort in coding and testing algorithms\n",
    "that turn out to be inefficient.\n",
    "To determine the complexity of an algorithm\n",
    "we have to agree on the complexity of each operation it uses.\n",
    "\n",
    "M269 covers general-purpose algorithms, not specialised ones that\n",
    "require humongous numbers with hundreds of digits, like in cryptography.\n",
    "Even though Python supports arbitrarily large integers,\n",
    "64-bit integers and floats are large enough for our purposes."
   ]
  },
  {
   "cell_type": "code",
   "execution_count": 1,
   "metadata": {
    "execution": {
     "iopub.execute_input": "2021-09-10T15:35:33.570936Z",
     "iopub.status.busy": "2021-09-10T15:35:33.570020Z",
     "iopub.status.idle": "2021-09-10T15:35:33.573391Z",
     "shell.execute_reply": "2021-09-10T15:35:33.574164Z"
    }
   },
   "outputs": [
    {
     "data": {
      "text/plain": [
       "9223372036854775807"
      ]
     },
     "execution_count": 1,
     "metadata": {},
     "output_type": "execute_result"
    }
   ],
   "source": [
    "(2 ** 63) - 1   # largest 64-bit integer; 1 bit is for the sign"
   ]
  },
  {
   "cell_type": "markdown",
   "metadata": {},
   "source": [
    "Modern processors can do arithmetic operations on two 64-bit numbers\n",
    "with a single hardware instruction.\n",
    "We thus assume that all arithmetic operations from Section&nbsp;1.2\n",
    "(except exponentiation, which I explain later) have constant complexity.\n",
    "We're not assuming that multiplication and addition take the same time, but\n",
    "rather that adding 3 and 7 takes about the same time as adding 3 million and 7\n",
    "million, and similarly for the other operations.\n",
    "\n",
    "We also assume that assignments and return statements\n",
    "have constant complexity because the work required is always the same,\n",
    "no matter how small or large the value being named or returned is.\n",
    "To be clear, we're not assuming that `x = expression` or `return expression`\n",
    "always takes the same time, as that will depend on the expression.\n",
    "However, once the expression is evaluated, assigning the value to a name or\n",
    "returning the value is a constant-time operation.\n",
    "\n",
    "If each instruction always takes some fixed amount of time,\n",
    "and the number of instructions is fixed, i.e. doesn't depend on the inputs,\n",
    "then the overall time the algorithm takes is also fixed. For example,\n",
    "floor(_x_ × _y_ / _z_) consists of three constant-time arithmetic operations,\n",
    "so the evaluation of the expression also takes constant time.\n",
    "Multiplication, division and computing the floor all take different times,\n",
    "but each takes a fixed time, independent of the values of its operands,\n",
    "so the overall time is also fixed."
   ]
  },
  {
   "cell_type": "markdown",
   "metadata": {
    "tags": [
     "NOTE"
    ]
   },
   "source": [
    "<div class=\"alert alert-warning\">\n",
    "<strong>Note:</strong> An algorithm that executes a fixed number of operations, each with constant complexity, has constant complexity.\n",
    "</div>"
   ]
  },
  {
   "cell_type": "markdown",
   "metadata": {},
   "source": [
    "The **Big-Theta notation** states the complexity in a concise and precise way.\n",
    "If the run-time is constant, we say that the algorithm has complexity Θ(1), or\n",
    "takes Θ(1) time, or has run-time Θ(1). The Θ(1) notation informally means\n",
    "'proportional to 1', which is a roundabout way of saying 'constant' because\n",
    "a value that is proportional to a constant (1 in this case) is also constant."
   ]
  },
  {
   "cell_type": "markdown",
   "metadata": {},
   "source": [
    "### 2.7.2 Linear complexity"
   ]
  },
  {
   "cell_type": "markdown",
   "metadata": {},
   "source": [
    "In primary school we learned an algorithm that\n",
    "adds two arbitrarily large integers digit by digit.\n",
    "Assuming that adding two digits takes constant time,\n",
    "the time to add two integers is directly proportional to\n",
    "the number of digits of the longest integer,\n",
    "e.g. 222 + 77 requires three digit additions, one of them being 2 + 0.\n",
    "If the number of digits of the longest integer doubles,\n",
    "the addition takes double the time.\n",
    "This can also happen when we need to carry over one from a previous addition:\n",
    "9999 + 8888&nbsp;has double the carry overs of 99 + 88 and so\n",
    "takes double the time to calculate.\n",
    "\n",
    "Algorithms where the run-time grows proportionally to the value or size of the\n",
    "inputs have **linear complexity** or take linear time.\n",
    "The **size** of an input is, strictly speaking, how much memory it occupies.\n",
    "Since the memory allocated to an integer may vary across\n",
    "computational environments, we use a proxy measure.\n",
    "For the purposes of M269, the size of integer _n_,\n",
    "written │*n*│, is the number of its decimal digits, e.g. │102│ = 3.\n",
    "\n",
    "For linear-time algorithms we have to state\n",
    "how their run-time exactly depends on the inputs. For example,\n",
    "the school algorithm for _x_ + _y_ is linear in max(│*x*│, │*y*│), i.e. its\n",
    "run-time is proportional to the largest size of the two integers being added.\n",
    "\n",
    "The Big-Theta notation Θ(...) indicates that an algorithm's run-time is\n",
    "proportional to ..., so we can simply state:\n",
    "the complexity of the school addition algorithm for integer inputs _x_ and _y_ is Θ(max(│*x*│, │*y*│)).\n",
    "\n",
    "Another operation with linear complexity is exponentiation.\n",
    "To compute $x^y$ for integers _x_ and _y_, with _y_ ≥ 0,\n",
    "we have to multiply _x_ with itself _y_ times. We're assuming that each\n",
    "multiplication takes constant time, but if _y_ doubles in value (not size!)\n",
    "then the number of multiplications also doubles. In other words,\n",
    "the exponentiation operation doesn't execute a fixed number of\n",
    "multiplications but rather a varying number of them.\n",
    "The exponentiation algorithm is therefore linear in _y_. In other words,\n",
    "the complexity of $x^y$ is Θ(_y_).\n",
    "\n",
    "Actually, when _y_ = 0, it takes constant time to compute *x*⁰,\n",
    "because the result is always 1, independent of _x_.\n",
    "So the complexity of the algorithm varies:\n",
    "it's constant for _y_ = 0 and linear for _y_ > 0.\n",
    "When the complexity is different for small inputs, we just ignore it,\n",
    "because we're only interested in how an algorithm behaves for large inputs.\n",
    "So, we keep stating that the complexity of exponentiation is linear in the\n",
    "exponent's value, even though it's constant for one small exponent.\n",
    "To sum up, Θ(_e_),\n",
    "where _e_ is an expression involving zero or more of the input variables,\n",
    "means that the run-time is proportional to _e_ for large inputs."
   ]
  },
  {
   "cell_type": "markdown",
   "metadata": {},
   "source": [
    "### 2.7.3 Mistakes"
   ]
  },
  {
   "cell_type": "markdown",
   "metadata": {},
   "source": [
    "An algorithm's complexity either doesn't depend at all on the inputs\n",
    "(constant complexity) or depends on one or more of the inputs.\n",
    "The variables that appear in the complexity expression must always be\n",
    "some or all of the input variables, otherwise the complexity isn't defined.\n",
    "For example, if a function definition starts like this:\n",
    "\n",
    "**Function**: secret operation\\\n",
    "**Inputs**: _left_, an integer; _right_: an integer\n",
    "\n",
    "then I can't write that an algorithm for this function has complexity Θ(_x_)\n",
    "or Θ(max(_l_, _r_)) or Θ(│*y*│) because none of those variables are defined:\n",
    "they don't refer to any of the inputs. I must write\n",
    "Θ(_left_) or Θ(max(_left_, _right_)) or Θ(│*right*│) or whatever I meant."
   ]
  },
  {
   "cell_type": "markdown",
   "metadata": {
    "tags": [
     "NOTE"
    ]
   },
   "source": [
    "<div class=\"alert alert-warning\">\n",
    "<strong>Note:</strong> Many texts always use the variable <em>n</em> in Big-Theta expressions,\n",
    "without making clear to what the variable refers. Don't follow their example.\n",
    "</div>"
   ]
  },
  {
   "cell_type": "markdown",
   "metadata": {},
   "source": [
    "Another common mistake is to confuse size and value of an integer.\n",
    "For example, if the complexity of $x^y$  were Θ(│*y*│), then\n",
    "$x^{22}$ would take double the time to compute as $x$²,\n",
    "because │22│ = 2 and │2│ = 1, when in fact it takes 11 times longer,\n",
    "because $x$² involves 2 multiplications whereas $x^{22}$ involves 22 of them.\n",
    "The complexity of exponentiation is linear in the value (not the size)\n",
    "of the exponent, i.e. it is Θ(_y_) not Θ(│*y*│)."
   ]
  },
  {
   "cell_type": "markdown",
   "metadata": {},
   "source": [
    "#### Exercise 2.7.1"
   ]
  },
  {
   "cell_type": "markdown",
   "metadata": {},
   "source": [
    "Here again is an algorithm for the circumference,\n",
    "where _radius_ is the input variable and _length_ is the output variable.\n",
    "\n",
    "1. let _diameter_ be 2 × _radius_\n",
    "2. let _length_ be π × _diameter_\n",
    "\n",
    "What is the complexity of this algorithm?\n",
    "State it in words and with Big-Theta notation."
   ]
  },
  {
   "cell_type": "markdown",
   "metadata": {
    "tags": [
     "ANSWER"
    ]
   },
   "source": [
    "_Write your answer here._"
   ]
  },
  {
   "cell_type": "markdown",
   "metadata": {},
   "source": [
    "[Hint](../31_Hints/Hints_02_7_01.ipynb)\n",
    "[Answer](../32_Answers/Answers_02_7_01.ipynb)"
   ]
  },
  {
   "cell_type": "markdown",
   "metadata": {},
   "source": [
    "⟵ [Previous section](02_6_py_functions.ipynb) | [Up](02-introduction.ipynb) | [Next section](02_8_time.ipynb) ⟶"
   ]
  }
 ],
 "metadata": {
  "kernelspec": {
   "display_name": "Python 3",
   "language": "python",
   "name": "python3"
  },
  "language_info": {
   "codemirror_mode": {
    "name": "ipython",
    "version": 3
   },
   "file_extension": ".py",
   "mimetype": "text/x-python",
   "name": "python",
   "nbconvert_exporter": "python",
   "pygments_lexer": "ipython3",
   "version": "3.8.5"
  }
 },
 "nbformat": 4,
 "nbformat_minor": 4
}
