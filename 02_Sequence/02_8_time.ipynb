{
 "cells": [
  {
   "cell_type": "markdown",
   "metadata": {},
   "source": [
    "## 2.8 Run-times"
   ]
  },
  {
   "cell_type": "markdown",
   "metadata": {},
   "source": [
    "We determine the complexity of an algorithm from its English description.\n",
    "After implementing it in Python, we can measure the run-times\n",
    "for ever-growing inputs to check the actual growth rate against what the\n",
    "complexity analysis predicted.\n",
    "\n",
    "The run-time depends on the hardware, operating system and Python interpreter\n",
    "that execute the code, so you'll get different timings from mine\n",
    "if you run the code cells in this notebook.\n",
    "The run-times also depend on what other processes the computer is executing,\n",
    "so they change every time we run the code.\n",
    "\n",
    "We can measure the run-time of some code with the IPython command `%timeit`.\n",
    "Instructions starting with a percentage sign aren't part of the Python language:\n",
    "they're direct commands to the IPython interpreter."
   ]
  },
  {
   "cell_type": "code",
   "execution_count": 1,
   "metadata": {
    "execution": {
     "iopub.execute_input": "2021-09-10T15:35:38.098149Z",
     "iopub.status.busy": "2021-09-10T15:35:38.059162Z",
     "iopub.status.idle": "2021-09-10T15:35:46.836586Z",
     "shell.execute_reply": "2021-09-10T15:35:46.837163Z"
    }
   },
   "outputs": [
    {
     "name": "stdout",
     "output_type": "stream",
     "text": [
      "10.8 ns ± 0.243 ns per loop (mean ± std. dev. of 7 runs, 100000000 loops each)\n"
     ]
    }
   ],
   "source": [
    "%timeit 3 + 4"
   ]
  },
  {
   "cell_type": "markdown",
   "metadata": {},
   "source": [
    "Adding 3 and 4 takes about 7–9&nbsp;ns on my computer, that's 7 to 9 nanoseconds.\n",
    "Other abbreviations you may see are\n",
    "'s' (seconds), 'ms' (milliseconds) and 'µs' (microseconds).\n",
    "One second is a thousand milliseconds;\n",
    "one millisecond is a thousand microseconds;\n",
    "one microsecond is a thousand nanoseconds.\n",
    "In other words, 1&nbsp;ms = 10$^{−3}$&nbsp;s, 1&nbsp;µs = 10$^{−6}$&nbsp;s and 1&nbsp;ns = 10$^{−9}$&nbsp;s.\n",
    "\n",
    "Measuring a very short lapse of time is prone to\n",
    "significant measurement errors, so `%timeit` executes the code multiple times,\n",
    "measures the total run-time, and divides it by the number of iterations\n",
    "to get a more precise value. On my machine, the addition was computed 100 million times, but on yours it may have been fewer or more times;\n",
    "the interpreter chooses the number of repetitions.\n",
    "Finally, to reduce the effect of other processes running at the same time,\n",
    "`%timeit` repeats everything seven times and takes the average.\n",
    "\n",
    "Even though addition is very fast, running the code cell takes about\n",
    "5&nbsp;seconds (7 × 100,000,000 × 7&nbsp;ns = 7 × 100 × 7&nbsp;ms = 4,900&nbsp;ms = 4.9&nbsp;s).\n",
    "Fortunately, the `%timeit` command allows us to\n",
    "set the number of runs and loops with the options `-r` and `-n`, respectively."
   ]
  },
  {
   "cell_type": "code",
   "execution_count": 2,
   "metadata": {
    "execution": {
     "iopub.execute_input": "2021-09-10T15:35:46.842579Z",
     "iopub.status.busy": "2021-09-10T15:35:46.841960Z",
     "iopub.status.idle": "2021-09-10T15:35:46.844000Z",
     "shell.execute_reply": "2021-09-10T15:35:46.844498Z"
    }
   },
   "outputs": [
    {
     "name": "stdout",
     "output_type": "stream",
     "text": [
      "12.5 ns ± 0.036 ns per loop (mean ± std. dev. of 5 runs, 10000 loops each)\n"
     ]
    }
   ],
   "source": [
    "%timeit -r 5 -n 10000 2 + 7"
   ]
  },
  {
   "cell_type": "markdown",
   "metadata": {},
   "source": [
    "I reduce the number of runs to 5 and the number of loops to 10 thousand;\n",
    "now I get the result in about 5 × 10,000 × 7&nbsp;ns = 5 × 10 × 7&nbsp;µs = 350&nbsp;µs.\n",
    "The measured time may differ a bit from previously,\n",
    "because reducing the number of loops reduces accuracy.\n",
    "That's OK, as I'll explain in a minute.\n",
    "\n",
    "Modern processors add two 64-bit numbers in hardware,\n",
    "so the very short time is not a surprise.\n",
    "Let's try some inputs that don't fit in 64&nbsp;bits."
   ]
  },
  {
   "cell_type": "code",
   "execution_count": 3,
   "metadata": {
    "execution": {
     "iopub.execute_input": "2021-09-10T15:35:46.850387Z",
     "iopub.status.busy": "2021-09-10T15:35:46.849659Z",
     "iopub.status.idle": "2021-09-10T15:35:46.851795Z",
     "shell.execute_reply": "2021-09-10T15:35:46.852340Z"
    }
   },
   "outputs": [
    {
     "name": "stdout",
     "output_type": "stream",
     "text": [
      "12.5 ns ± 0.0216 ns per loop (mean ± std. dev. of 5 runs, 10000 loops each)\n"
     ]
    }
   ],
   "source": [
    "%timeit -r 5 -n 10000 (2 ** 64 + 1) + (2 ** 64 + 2)"
   ]
  },
  {
   "cell_type": "markdown",
   "metadata": {},
   "source": [
    "This took about the same time! That can't be right. Let's try a different way."
   ]
  },
  {
   "cell_type": "code",
   "execution_count": 4,
   "metadata": {
    "execution": {
     "iopub.execute_input": "2021-09-10T15:35:46.868902Z",
     "iopub.status.busy": "2021-09-10T15:35:46.867723Z",
     "iopub.status.idle": "2021-09-10T15:35:46.871922Z",
     "shell.execute_reply": "2021-09-10T15:35:46.871062Z"
    }
   },
   "outputs": [
    {
     "name": "stdout",
     "output_type": "stream",
     "text": [
      "72.7 ns ± 4.55 ns per loop (mean ± std. dev. of 5 runs, 10000 loops each)\n",
      "89.6 ns ± 11.1 ns per loop (mean ± std. dev. of 5 runs, 10000 loops each)\n"
     ]
    }
   ],
   "source": [
    "left = 2\n",
    "right = 7\n",
    "%timeit -r 5 -n 10000 left + right\n",
    "left = 2 ** 64 + 1\n",
    "right = 2 * 64 + 2\n",
    "%timeit -r 5 -n 10000 left + right"
   ]
  },
  {
   "cell_type": "markdown",
   "metadata": {},
   "source": [
    "The times look right now: adding longer numbers takes more time, as we'd expect.\n",
    "Before, the interpreter figured out I was adding two constant values\n",
    "and pre-computed the sum, as it wouldn't change.\n",
    "I was just measuring the time to retrieve a value from memory,\n",
    "which is always the same, no matter how small or large the value is.\n",
    "The interpreter can't make such optimisations when adding\n",
    "variables because their values may change."
   ]
  },
  {
   "cell_type": "markdown",
   "metadata": {
    "tags": [
     "NOTE"
    ]
   },
   "source": [
    "<div class=\"alert alert-warning\">\n",
    "<strong>Note:</strong> When measuring the run-time of an expression, use variables instead of literals.\n",
    "</div>"
   ]
  },
  {
   "cell_type": "markdown",
   "metadata": {},
   "source": [
    "As I mentioned in the previous section,\n",
    "'constant time' doesn't mean that _all_ operations take the same time,\n",
    "but rather that _each_ operation takes the same time for small and large inputs.\n",
    "For example, I expect that dividing two numbers takes longer than adding them\n",
    "because it requires a more complicated hardware circuit."
   ]
  },
  {
   "cell_type": "code",
   "execution_count": 5,
   "metadata": {
    "execution": {
     "iopub.execute_input": "2021-09-10T15:35:46.888337Z",
     "iopub.status.busy": "2021-09-10T15:35:46.887457Z",
     "iopub.status.idle": "2021-09-10T15:35:46.890548Z",
     "shell.execute_reply": "2021-09-10T15:35:46.891406Z"
    }
   },
   "outputs": [
    {
     "name": "stdout",
     "output_type": "stream",
     "text": [
      "75.3 ns ± 13 ns per loop (mean ± std. dev. of 5 runs, 10000 loops each)\n",
      "69.3 ns ± 8.19 ns per loop (mean ± std. dev. of 5 runs, 10000 loops each)\n"
     ]
    }
   ],
   "source": [
    "left = 2\n",
    "right = 7\n",
    "%timeit -r 5 -n 10000 left + right\n",
    "%timeit -r 5 -n 10000 left / right"
   ]
  },
  {
   "cell_type": "markdown",
   "metadata": {},
   "source": [
    "We can also measure the run-time of functions we define.\n",
    "The docstring is irrelevant for measuring the run-time,\n",
    "so I omit it here to shorten the example."
   ]
  },
  {
   "cell_type": "code",
   "execution_count": 6,
   "metadata": {
    "execution": {
     "iopub.execute_input": "2021-09-10T15:35:46.974831Z",
     "iopub.status.busy": "2021-09-10T15:35:46.934127Z",
     "iopub.status.idle": "2021-09-10T15:35:56.943425Z",
     "shell.execute_reply": "2021-09-10T15:35:56.944193Z"
    }
   },
   "outputs": [
    {
     "name": "stdout",
     "output_type": "stream",
     "text": [
      "163 ns ± 2.42 ns per loop (mean ± std. dev. of 5 runs, 10000000 loops each)\n"
     ]
    }
   ],
   "source": [
    "def brick_volume(length: int, width: int, height: int) -> int:\n",
    "    return length * width * height\n",
    "\n",
    "%timeit -r 5 brick_volume(2, 3, 4)"
   ]
  },
  {
   "cell_type": "markdown",
   "metadata": {},
   "source": [
    "I didn't set the number of loops, so the interpreter\n",
    "automatically sets it according to the run-time.\n",
    "The longer the code takes to run,\n",
    "the fewer loops are necessary to get a precise measurement. In this example,\n",
    "the interpreter on my machine 'only' made 10 million function calls\n",
    "in each run, whereas it made 100 million for addition."
   ]
  },
  {
   "cell_type": "markdown",
   "metadata": {},
   "source": [
    "### 2.8.1 Checking growth rates"
   ]
  },
  {
   "cell_type": "markdown",
   "metadata": {},
   "source": [
    "To check the complexity of an operation,\n",
    "we measure the run-times for a series of inputs and look at the trend.\n",
    "That's why the actual run-time values don't matter,\n",
    "as long as we measure them in the same way.\n",
    "What matters is how the run-times increase, as the inputs get larger.\n",
    "Often, we keep doubling the input size or value,\n",
    "as that's a good way to check if an operation has constant or linear complexity.\n",
    "Here's a little experiment for addition."
   ]
  },
  {
   "cell_type": "code",
   "execution_count": 7,
   "metadata": {
    "execution": {
     "iopub.execute_input": "2021-09-10T15:35:56.984640Z",
     "iopub.status.busy": "2021-09-10T15:35:56.974100Z",
     "iopub.status.idle": "2021-09-10T15:35:57.005841Z",
     "shell.execute_reply": "2021-09-10T15:35:57.006614Z"
    }
   },
   "outputs": [
    {
     "name": "stdout",
     "output_type": "stream",
     "text": [
      "56.4 ns ± 6.3 ns per loop (mean ± std. dev. of 5 runs, 10000 loops each)\n",
      "62.4 ns ± 4.22 ns per loop (mean ± std. dev. of 5 runs, 10000 loops each)\n",
      "92.4 ns ± 0.0574 ns per loop (mean ± std. dev. of 5 runs, 10000 loops each)\n",
      "65.6 ns ± 4.76 ns per loop (mean ± std. dev. of 5 runs, 10000 loops each)\n",
      "94.9 ns ± 1.77 ns per loop (mean ± std. dev. of 5 runs, 10000 loops each)\n",
      "94.2 ns ± 5.64 ns per loop (mean ± std. dev. of 5 runs, 10000 loops each)\n",
      "99.1 ns ± 13.9 ns per loop (mean ± std. dev. of 5 runs, 10000 loops each)\n"
     ]
    }
   ],
   "source": [
    "left =  2\n",
    "right = 7                                   # 1 digit\n",
    "%timeit -r 5 -n 10000 left + right\n",
    "left =  22\n",
    "right = 77                                  # 2 digits\n",
    "%timeit -r 5 -n 10000 left + right\n",
    "left =  2222\n",
    "right = 7777                                # 4 digits\n",
    "%timeit -r 5 -n 10000 left + right\n",
    "left =  22222222\n",
    "right = 77777777                            # 8 digits\n",
    "%timeit -r 5 -n 10000 left + right\n",
    "left =  2222222222222222\n",
    "right = 7777777777777777                    # 16 digits\n",
    "%timeit -r 5 -n 10000 left + right\n",
    "left =  22222222222222222222222222222222\n",
    "right = 77777777777777777777777777777777    # 32 digits\n",
    "%timeit -r 5 -n 10000 left + right\n",
    "l = 2222222222222222222222222222222222222222222222222222222222222222\n",
    "r = 7777777777777777777777777777777777777777777777777777777777777777\n",
    "                                            # 64 digits\n",
    "%timeit -r 5 -n 10000 l + r"
   ]
  },
  {
   "cell_type": "markdown",
   "metadata": {},
   "source": [
    "The first two additions run markedly faster on my computer.\n",
    "Maybe addition is optimised for numbers that fit in one byte.\n",
    "The remaining additions take about the same time, even the last two,\n",
    "which exceed the 64-bit capacity. It seems our assumption that\n",
    "addition takes constant time for 64-bit numbers is reasonable.\n",
    "\n",
    "In general, measuring the run-time on small inputs isn't very useful.\n",
    "First, the computational environment may make some optimisations for small\n",
    "values, which means the timings won't fit a clear growth rate.\n",
    "Second, even without optimisations the run-times may be so short that\n",
    "they will all be very similar and look like constant run-time.\n",
    "Third, we're interested in how algorithms cope with large, not small, inputs."
   ]
  },
  {
   "cell_type": "markdown",
   "metadata": {
    "tags": [
     "NOTE"
    ]
   },
   "source": [
    "<div class=\"alert alert-warning\">\n",
    "<strong>Note:</strong> In general, don't measure run-times for very small inputs.\n",
    "</div>"
   ]
  },
  {
   "cell_type": "markdown",
   "metadata": {},
   "source": [
    "Let's now look at exponentiation.\n",
    "We assume it's linear in the value of the exponent,\n",
    "so we must double the value, not the number of digits.\n",
    "Doubling the exponent quickly leads to integers that don't fit in 64&nbsp;bits.\n",
    "To have enough run-time samples to see a trend,\n",
    "I will start with very small exponents.\n",
    "This is one of those cases that is an exception to the general advice above."
   ]
  },
  {
   "cell_type": "code",
   "execution_count": 8,
   "metadata": {
    "execution": {
     "iopub.execute_input": "2021-09-10T15:35:57.054668Z",
     "iopub.status.busy": "2021-09-10T15:35:57.015433Z",
     "iopub.status.idle": "2021-09-10T15:35:57.140448Z",
     "shell.execute_reply": "2021-09-10T15:35:57.141377Z"
    }
   },
   "outputs": [
    {
     "name": "stdout",
     "output_type": "stream",
     "text": [
      "494 ns ± 89.6 ns per loop (mean ± std. dev. of 5 runs, 10000 loops each)\n",
      "535 ns ± 94.9 ns per loop (mean ± std. dev. of 5 runs, 10000 loops each)\n",
      "446 ns ± 24.1 ns per loop (mean ± std. dev. of 5 runs, 10000 loops each)\n",
      "404 ns ± 33.5 ns per loop (mean ± std. dev. of 5 runs, 10000 loops each)\n",
      "402 ns ± 41.9 ns per loop (mean ± std. dev. of 5 runs, 10000 loops each)\n"
     ]
    }
   ],
   "source": [
    "base = 3\n",
    "%timeit -r 5 -n 10000 base ** 2\n",
    "%timeit -r 5 -n 10000 base ** 4\n",
    "%timeit -r 5 -n 10000 base ** 8\n",
    "%timeit -r 5 -n 10000 base ** 16\n",
    "%timeit -r 5 -n 10000 base ** 32"
   ]
  },
  {
   "cell_type": "markdown",
   "metadata": {},
   "source": [
    "The run-time is clearly increasing,\n",
    "but it's not doubling whenever the exponent doubles.\n",
    "The interpreter or the hardware is using a more efficient algorithm\n",
    "than repeatedly multiplying the base with itself.\n",
    "\n",
    "The fact that exponentiation has a lower complexity than linear in my\n",
    "computational environment (and yours too, probably) doesn't change our\n",
    "assumption. When analysing algorithms involving exponentiation,\n",
    "we shall still assume it's linear.\n",
    "The whole point of making these assumptions is to guarantee that you and your\n",
    "700+ fellow M269&nbsp;students obtain the same complexity for the same algorithm,\n",
    "and not different ones, depending on everyone's computational environment.\n",
    "You can imagine the confusion this would cause in forums, tutorials and TMAs."
   ]
  },
  {
   "cell_type": "markdown",
   "metadata": {
    "tags": [
     "NOTE"
    ]
   },
   "source": [
    "<div class=\"alert alert-warning\">\n",
    "<strong>Note:</strong> To see the growth of run-times, keep doubling the input values or sizes.\n",
    "</div>"
   ]
  },
  {
   "cell_type": "markdown",
   "metadata": {},
   "source": [
    "#### Exercise 2.8.1"
   ]
  },
  {
   "cell_type": "markdown",
   "metadata": {},
   "source": [
    "When measuring the run-times of exponentiation,\n",
    "would  `base = 1` be a good choice? Explain why or why not."
   ]
  },
  {
   "cell_type": "markdown",
   "metadata": {
    "tags": [
     "ANSWER"
    ]
   },
   "source": [
    "_Write your answer here._"
   ]
  },
  {
   "cell_type": "markdown",
   "metadata": {},
   "source": [
    "[Hint](../31_Hints/Hints_02_8_01.ipynb)\n",
    "[Answer](../32_Answers/Answers_02_8_01.ipynb)"
   ]
  },
  {
   "cell_type": "markdown",
   "metadata": {},
   "source": [
    "#### Exercise 2.8.2"
   ]
  },
  {
   "cell_type": "markdown",
   "metadata": {},
   "source": [
    "Check whether the assumption that the truncation, floor and ceiling operations\n",
    "take constant time holds in your computational environment.\n",
    "Add a code cell below the next paragraph for your experiment.\n",
    "Do three runs, each with five thousand loops.\n",
    "\n",
    "The aim is to practise using the `%timeit` command and <!-- ('practise' with 's' when verb; 'practice' with 'c' when noun) -->\n",
    "doing a complete run-time measurement experiment.\n",
    "You only have to choose and check one of the three operations,\n",
    "as it will be similar for the other two. If you have a study buddy,\n",
    "you and your buddy should choose different operations and compare the timings.\n",
    "\n",
    "\n",
    "[Hint](../31_Hints/Hints_02_8_02.ipynb)\n",
    "[Answer](../32_Answers/Answers_02_8_02.ipynb)"
   ]
  },
  {
   "cell_type": "markdown",
   "metadata": {},
   "source": [
    "⟵ [Previous section](02_7_complexity.ipynb) | [Up](02-introduction.ipynb) | [Next section](02_9_summary.ipynb) ⟶"
   ]
  }
 ],
 "metadata": {
  "kernelspec": {
   "display_name": "Python 3",
   "language": "python",
   "name": "python3"
  },
  "language_info": {
   "codemirror_mode": {
    "name": "ipython",
    "version": 3
   },
   "file_extension": ".py",
   "mimetype": "text/x-python",
   "name": "python",
   "nbconvert_exporter": "python",
   "pygments_lexer": "ipython3",
   "version": "3.8.5"
  }
 },
 "nbformat": 4,
 "nbformat_minor": 4
}
