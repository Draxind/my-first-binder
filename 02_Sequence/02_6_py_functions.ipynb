{
 "cells": [
  {
   "cell_type": "markdown",
   "metadata": {},
   "source": [
    "## 2.6 Functions in Python"
   ]
  },
  {
   "cell_type": "markdown",
   "metadata": {},
   "source": [
    "A function definition of the form:\n",
    "\n",
    "**Function**: name\\\n",
    "**Inputs**: _input_, input type\\\n",
    "**Preconditions**: condition 1; condition 2\\\n",
    "**Output**: _output_, output type\\\n",
    "**Postconditions**:\n",
    "\n",
    "- _output_ = expression\n",
    "- another condition\n",
    "\n",
    "is translated to a Python function definition of the form:\n",
    "```py\n",
    "def name(input: input_type) -> output_type:\n",
    "    \"\"\"Prescribe what the function computes.\n",
    "\n",
    "    Preconditions: condition 1; condition 2\n",
    "    Postconditions:\n",
    "    - the output is expression\n",
    "    - another condition\n",
    "    \"\"\"\n",
    "    algorithm\n",
    "    return output\n",
    "```\n",
    "\n",
    "For example,\n",
    "\n",
    "**Function**: circumference\\\n",
    "**Inputs**: _radius_, a real number\\\n",
    "**Preconditions**: _radius_ > 0\\\n",
    "**Output**: _length_, a real number\\\n",
    "**Postconditions**: _length_ = 2 × π × _radius_\n",
    "\n",
    "is implemented in Python like so:"
   ]
  },
  {
   "cell_type": "code",
   "execution_count": 1,
   "metadata": {
    "execution": {
     "iopub.execute_input": "2021-09-10T15:35:30.161421Z",
     "iopub.status.busy": "2021-09-10T15:35:30.160178Z",
     "iopub.status.idle": "2021-09-10T15:35:30.162390Z",
     "shell.execute_reply": "2021-09-10T15:35:30.163144Z"
    }
   },
   "outputs": [],
   "source": [
    "import math\n",
    "\n",
    "def circumference(radius: float) -> float:\n",
    "    \"\"\"Return the length of the circumference for the given radius.\n",
    "\n",
    "    Preconditions: radius > 0\n",
    "    Postconditions: the output is 2 * π * radius\n",
    "    \"\"\"\n",
    "    length = 2 * math.pi * radius\n",
    "    return length"
   ]
  },
  {
   "cell_type": "markdown",
   "metadata": {},
   "source": [
    "Defining a function doesn't produce any output (only applying a function does),\n",
    "but the number on the left shows that the cell was executed, i.e.\n",
    "the function has been successfully defined.\n",
    "\n",
    "A Python function has three parts: the header,\n",
    "the **docstring** (short for documentation string) and the body.\n",
    "(Technically, the docstring is part of the body, but I prefer to separate them.)\n",
    "The docstring and body are indented with respect to the header\n",
    "to indicate that they belong to the function.\n",
    "The conventional indentation is four spaces (see the example).\n",
    "\n",
    "The header starts with the `def` keyword and ends with a colon. The header\n",
    "defines the function's name and its **parameters**, i.e. input variables.\n",
    "The convention is to write function names in lower case, like variable names.\n",
    "Parameters are enclosed in parentheses and separated with commas.\n",
    "The header also includes **type annotations** to indicate\n",
    "the type of each parameter and the type of the output, as shown above.\n",
    "\n",
    "I describe docstrings in the next subsection.\n",
    "\n",
    "The body contains the algorithm that computes the output value.\n",
    "Contrary to our template, the function header doesn't indicate\n",
    "the output's name, so after the algorithm (a sequence of assignments)\n",
    "we need a **return statement** to indicate which of the assigned variables\n",
    "corresponds to the output. A return statement ends the execution of the body:\n",
    "the interpreter returns the value of the variable following the `return` keyword\n",
    "to the code that called the function.\n",
    "\n",
    "To **call** a function, write its name followed by the **arguments**,\n",
    "i.e. the actual input values, within parentheses.\n",
    "A function call is an expression because\n",
    "a function defines an operation on some given data.\n",
    "The following cell has a single expression, so the returned value is displayed."
   ]
  },
  {
   "cell_type": "code",
   "execution_count": 2,
   "metadata": {
    "execution": {
     "iopub.execute_input": "2021-09-10T15:35:30.174252Z",
     "iopub.status.busy": "2021-09-10T15:35:30.173347Z",
     "iopub.status.idle": "2021-09-10T15:35:30.176865Z",
     "shell.execute_reply": "2021-09-10T15:35:30.177992Z"
    }
   },
   "outputs": [
    {
     "data": {
      "text/plain": [
       "6.283185307179586"
      ]
     },
     "execution_count": 1,
     "metadata": {},
     "output_type": "execute_result"
    }
   ],
   "source": [
    "circumference(1) # calculate for radius = 1"
   ]
  },
  {
   "cell_type": "markdown",
   "metadata": {
    "tags": [
     "INFO"
    ]
   },
   "source": [
    "<div class=\"alert alert-info\">\n",
    "<strong>Info:</strong> TM112 Block&nbsp;2 Part&nbsp;4 introduces functions in Python.\n",
    "In TM112 and other texts,\n",
    "the input variables (parameters) are also called formal arguments\n",
    "while the input values are called the actual arguments.\n",
    "</div>"
   ]
  },
  {
   "cell_type": "markdown",
   "metadata": {},
   "source": [
    "Actually, the `return` keyword may be followed by any expression,\n",
    "not just a variable name.\n",
    "The interpreter evaluates the expression and returns its value.\n",
    "Here's a shorter alternative version.\n",
    "(Remember that we only import a module once per notebook.)"
   ]
  },
  {
   "cell_type": "code",
   "execution_count": 3,
   "metadata": {
    "execution": {
     "iopub.execute_input": "2021-09-10T15:35:30.195449Z",
     "iopub.status.busy": "2021-09-10T15:35:30.191087Z",
     "iopub.status.idle": "2021-09-10T15:35:30.198535Z",
     "shell.execute_reply": "2021-09-10T15:35:30.199204Z"
    }
   },
   "outputs": [],
   "source": [
    "def circumference(radius: float) -> float:\n",
    "    \"\"\"Return the length of the circumference for the given radius.\n",
    "\n",
    "    Preconditions: radius > 0\n",
    "    Postconditions: the output is 2 * π * radius\n",
    "    \"\"\"\n",
    "    return 2 * math.pi * radius"
   ]
  },
  {
   "cell_type": "markdown",
   "metadata": {},
   "source": [
    "This function has the same name as an earlier function,\n",
    "so this definition overrides the previous one.\n",
    "From now on, any calls to `circumference` execute the second version,\n",
    "without the `length` variable.\n",
    "Since both function definitions are equivalent, it doesn't really matter.\n",
    "When writing different versions of a function for exercises,\n",
    "remember that only the last executed function definition is active."
   ]
  },
  {
   "cell_type": "markdown",
   "metadata": {},
   "source": [
    "### 2.6.1 Documentation"
   ]
  },
  {
   "cell_type": "markdown",
   "metadata": {},
   "source": [
    "Docstrings are enclosed in three double quotes (`\"\"\"`).\n",
    "The first line is a brief statement\n",
    "prescribing what the function does, usually starting with the word 'return'.\n",
    "After a blank line, more details may follow.\n",
    "If the docstring occupies several lines, then\n",
    "the closing quotes are on their own line."
   ]
  },
  {
   "cell_type": "markdown",
   "metadata": {
    "tags": [
     "INFO"
    ]
   },
   "source": [
    "<div class=\"alert alert-info\">\n",
    "<strong>Info:</strong> Python's docstring conventions are described in\n",
    "<a href=\"https://www.python.org/dev/peps/pep-0257/\">PEP 257</a>.\n",
    "</div>"
   ]
  },
  {
   "cell_type": "markdown",
   "metadata": {},
   "source": [
    "In M269, we write pre- and postconditions in the docstring, so that users know\n",
    "what input values the function expects and what value it returns.\n",
    "In Python and other languages, function headers have names for the inputs\n",
    "but not for the output. I suggest using simply 'the output' in the docstring.\n",
    "The important thing is for the header and the docstring to contain, together,\n",
    "the same information as the template.\n",
    "\n",
    "Docstrings are optional in Python, i.e. they're not needed for functions to\n",
    "work, but are mandatory in M269. The rationale is to get you into\n",
    "the good professional habit of documenting your code, so that\n",
    "those who use it or have to modify it know what it does."
   ]
  },
  {
   "cell_type": "markdown",
   "metadata": {
    "tags": [
     "NOTE"
    ]
   },
   "source": [
    "<div class=\"alert alert-warning\">\n",
    "<strong>Note:</strong> Always document your code.\n",
    "</div>"
   ]
  },
  {
   "cell_type": "markdown",
   "metadata": {},
   "source": [
    "Python's `help` function displays the header and docstring of a function,\n",
    "given its name. This works with your and Python's functions.\n",
    "It may come in handy if you forget what a function does."
   ]
  },
  {
   "cell_type": "code",
   "execution_count": 4,
   "metadata": {
    "execution": {
     "iopub.execute_input": "2021-09-10T15:35:30.211220Z",
     "iopub.status.busy": "2021-09-10T15:35:30.209613Z",
     "iopub.status.idle": "2021-09-10T15:35:30.216120Z",
     "shell.execute_reply": "2021-09-10T15:35:30.216852Z"
    }
   },
   "outputs": [
    {
     "name": "stdout",
     "output_type": "stream",
     "text": [
      "Help on function circumference in module __main__:\n",
      "\n",
      "circumference(radius: float) -> float\n",
      "    Return the length of the circumference for the given radius.\n",
      "    \n",
      "    Preconditions: radius > 0\n",
      "    Postconditions: the output is 2 * π * radius\n",
      "\n"
     ]
    }
   ],
   "source": [
    "help(circumference)"
   ]
  },
  {
   "cell_type": "code",
   "execution_count": 5,
   "metadata": {
    "execution": {
     "iopub.execute_input": "2021-09-10T15:35:30.225400Z",
     "iopub.status.busy": "2021-09-10T15:35:30.224514Z",
     "iopub.status.idle": "2021-09-10T15:35:30.227635Z",
     "shell.execute_reply": "2021-09-10T15:35:30.228623Z"
    }
   },
   "outputs": [
    {
     "name": "stdout",
     "output_type": "stream",
     "text": [
      "Help on built-in function round in module builtins:\n",
      "\n",
      "round(number, ndigits=None)\n",
      "    Round a number to a given precision in decimal digits.\n",
      "    \n",
      "    The return value is an integer if ndigits is omitted or None.  Otherwise\n",
      "    the return value has the same type as the number.  ndigits may be negative.\n",
      "\n"
     ]
    }
   ],
   "source": [
    "help(round)"
   ]
  },
  {
   "cell_type": "markdown",
   "metadata": {},
   "source": [
    "Note that `round`'s docstring mentions a second optional parameter that we\n",
    "don't use in M269, but omits the most important detail:\n",
    "that numbers ending in .5 are rounded to the nearest even integer."
   ]
  },
  {
   "cell_type": "code",
   "execution_count": 6,
   "metadata": {
    "execution": {
     "iopub.execute_input": "2021-09-10T15:35:30.239254Z",
     "iopub.status.busy": "2021-09-10T15:35:30.236938Z",
     "iopub.status.idle": "2021-09-10T15:35:30.241950Z",
     "shell.execute_reply": "2021-09-10T15:35:30.242660Z"
    }
   },
   "outputs": [
    {
     "name": "stdout",
     "output_type": "stream",
     "text": [
      "Help on built-in function trunc in module math:\n",
      "\n",
      "trunc(x, /)\n",
      "    Truncates the Real x to the nearest Integral toward 0.\n",
      "    \n",
      "    Uses the __trunc__ magic method.\n",
      "\n"
     ]
    }
   ],
   "source": [
    "help(math.trunc)"
   ]
  },
  {
   "cell_type": "markdown",
   "metadata": {},
   "source": [
    "You can ignore the slash (`/`) in the header of `trunc`.\n",
    "It's not a second parameter. It's additional information about\n",
    "the single  parameter of `trunc`, but we don't make use of that information."
   ]
  },
  {
   "cell_type": "markdown",
   "metadata": {},
   "source": [
    "### 2.6.2 Mistakes"
   ]
  },
  {
   "cell_type": "markdown",
   "metadata": {},
   "source": [
    "Python functions are the most complex construct seen so far,\n",
    "and thus provide ample opportunity for mistakes:\n",
    "forgetting the colon at the end of the header,\n",
    "forgetting a comma between consecutive parameters,\n",
    "misspelling a parameter name in the function body, etc.\n",
    "\n",
    "Using a keyword as an identifier is also a syntax error:"
   ]
  },
  {
   "cell_type": "code",
   "execution_count": 7,
   "metadata": {
    "execution": {
     "iopub.execute_input": "2021-09-10T15:35:30.247247Z",
     "iopub.status.busy": "2021-09-10T15:35:30.246398Z",
     "iopub.status.idle": "2021-09-10T15:35:30.249298Z",
     "shell.execute_reply": "2021-09-10T15:35:30.250016Z"
    }
   },
   "outputs": [
    {
     "ename": "SyntaxError",
     "evalue": "invalid syntax (<ipython-input-1-f1d383812158>, line 1)",
     "output_type": "error",
     "traceback": [
      "\u001b[0;36m  File \u001b[0;32m\"<ipython-input-1-f1d383812158>\"\u001b[0;36m, line \u001b[0;32m1\u001b[0m\n\u001b[0;31m    return = 2 * math.pi * radius\u001b[0m\n\u001b[0m           ^\u001b[0m\n\u001b[0;31mSyntaxError\u001b[0m\u001b[0;31m:\u001b[0m invalid syntax\n"
     ]
    }
   ],
   "source": [
    "return = 2 * math.pi * radius"
   ]
  },
  {
   "cell_type": "markdown",
   "metadata": {},
   "source": [
    "Referring to a parameter outside the function body is a name error:"
   ]
  },
  {
   "cell_type": "code",
   "execution_count": 8,
   "metadata": {
    "execution": {
     "iopub.execute_input": "2021-09-10T15:35:30.255048Z",
     "iopub.status.busy": "2021-09-10T15:35:30.254284Z",
     "iopub.status.idle": "2021-09-10T15:35:30.395842Z",
     "shell.execute_reply": "2021-09-10T15:35:30.396803Z"
    }
   },
   "outputs": [
    {
     "ename": "NameError",
     "evalue": "name 'radius' is not defined",
     "output_type": "error",
     "traceback": [
      "\u001b[0;31m---------------------------------------------------------------------------\u001b[0m",
      "\u001b[0;31mNameError\u001b[0m                                 Traceback (most recent call last)",
      "\u001b[0;32m<ipython-input-1-3d37a05b6170>\u001b[0m in \u001b[0;36m<module>\u001b[0;34m\u001b[0m\n\u001b[0;32m----> 1\u001b[0;31m \u001b[0mdiameter\u001b[0m \u001b[0;34m=\u001b[0m \u001b[0;36m2\u001b[0m \u001b[0;34m*\u001b[0m \u001b[0mradius\u001b[0m\u001b[0;34m\u001b[0m\u001b[0;34m\u001b[0m\u001b[0m\n\u001b[0m",
      "\u001b[0;31mNameError\u001b[0m: name 'radius' is not defined"
     ]
    }
   ],
   "source": [
    "diameter = 2 * radius"
   ]
  },
  {
   "cell_type": "markdown",
   "metadata": {},
   "source": [
    "A double quote is _one_ character, not two single quotes:\n",
    "note the difference between `\"` and `''`."
   ]
  },
  {
   "cell_type": "code",
   "execution_count": 9,
   "metadata": {
    "execution": {
     "iopub.execute_input": "2021-09-10T15:35:30.402732Z",
     "iopub.status.busy": "2021-09-10T15:35:30.401840Z",
     "iopub.status.idle": "2021-09-10T15:35:30.404785Z",
     "shell.execute_reply": "2021-09-10T15:35:30.405612Z"
    }
   },
   "outputs": [
    {
     "data": {
      "text/plain": [
       "'This is a docstring.'"
      ]
     },
     "execution_count": 1,
     "metadata": {},
     "output_type": "execute_result"
    }
   ],
   "source": [
    "\"\"\"This is a docstring.\"\"\"              # note the syntax colouring"
   ]
  },
  {
   "cell_type": "code",
   "execution_count": 10,
   "metadata": {
    "execution": {
     "iopub.execute_input": "2021-09-10T15:35:30.410738Z",
     "iopub.status.busy": "2021-09-10T15:35:30.409879Z",
     "iopub.status.idle": "2021-09-10T15:35:30.412981Z",
     "shell.execute_reply": "2021-09-10T15:35:30.413942Z"
    }
   },
   "outputs": [
    {
     "ename": "SyntaxError",
     "evalue": "invalid syntax (<ipython-input-1-4db208616687>, line 1)",
     "output_type": "error",
     "traceback": [
      "\u001b[0;36m  File \u001b[0;32m\"<ipython-input-1-4db208616687>\"\u001b[0;36m, line \u001b[0;32m1\u001b[0m\n\u001b[0;31m    ''''''This is not a docstring.''''''    # different syntax colouring\u001b[0m\n\u001b[0m          ^\u001b[0m\n\u001b[0;31mSyntaxError\u001b[0m\u001b[0;31m:\u001b[0m invalid syntax\n"
     ]
    }
   ],
   "source": [
    "''''''This is not a docstring.''''''    # different syntax colouring"
   ]
  },
  {
   "cell_type": "markdown",
   "metadata": {},
   "source": [
    "If you forget to indent the docstring or the body, you get an error."
   ]
  },
  {
   "cell_type": "code",
   "execution_count": 11,
   "metadata": {
    "execution": {
     "iopub.execute_input": "2021-09-10T15:35:30.421964Z",
     "iopub.status.busy": "2021-09-10T15:35:30.420909Z",
     "iopub.status.idle": "2021-09-10T15:35:30.424310Z",
     "shell.execute_reply": "2021-09-10T15:35:30.425670Z"
    }
   },
   "outputs": [
    {
     "ename": "IndentationError",
     "evalue": "expected an indented block (<ipython-input-1-07c145b2d6b2>, line 3)",
     "output_type": "error",
     "traceback": [
      "\u001b[0;36m  File \u001b[0;32m\"<ipython-input-1-07c145b2d6b2>\"\u001b[0;36m, line \u001b[0;32m3\u001b[0m\n\u001b[0;31m    \"\"\"\u001b[0m\n\u001b[0m    ^\u001b[0m\n\u001b[0;31mIndentationError\u001b[0m\u001b[0;31m:\u001b[0m expected an indented block\n"
     ]
    }
   ],
   "source": [
    "def circumference(radius: float) -> float:\n",
    "\"\"\"Return bla bla bla ...\n",
    "\"\"\"\n",
    "    return 2 * math.pi * diameter"
   ]
  },
  {
   "cell_type": "code",
   "execution_count": 12,
   "metadata": {
    "execution": {
     "iopub.execute_input": "2021-09-10T15:35:30.431306Z",
     "iopub.status.busy": "2021-09-10T15:35:30.430050Z",
     "iopub.status.idle": "2021-09-10T15:35:30.434443Z",
     "shell.execute_reply": "2021-09-10T15:35:30.435406Z"
    }
   },
   "outputs": [
    {
     "ename": "SyntaxError",
     "evalue": "'return' outside function (<ipython-input-1-5e0f0d820a95>, line 4)",
     "output_type": "error",
     "traceback": [
      "\u001b[0;36m  File \u001b[0;32m\"<ipython-input-1-5e0f0d820a95>\"\u001b[0;36m, line \u001b[0;32m4\u001b[0m\n\u001b[0;31m    return 2 * math.pi * diameter\u001b[0m\n\u001b[0m    ^\u001b[0m\n\u001b[0;31mSyntaxError\u001b[0m\u001b[0;31m:\u001b[0m 'return' outside function\n"
     ]
    }
   ],
   "source": [
    "def circumference(radius: float) -> float:\n",
    "    \"\"\"Return bla bla bla ...\n",
    "    \"\"\"\n",
    "return 2 * math.pi * diameter"
   ]
  },
  {
   "cell_type": "markdown",
   "metadata": {},
   "source": [
    "The second error has subtle consequences.\n",
    "If you call the function, you get no value back because the return statement\n",
    "wasn't considered part of the function."
   ]
  },
  {
   "cell_type": "code",
   "execution_count": 13,
   "metadata": {
    "execution": {
     "iopub.execute_input": "2021-09-10T15:35:30.440162Z",
     "iopub.status.busy": "2021-09-10T15:35:30.439536Z",
     "iopub.status.idle": "2021-09-10T15:35:30.441757Z",
     "shell.execute_reply": "2021-09-10T15:35:30.442566Z"
    }
   },
   "outputs": [],
   "source": [
    "circumference(1)"
   ]
  },
  {
   "cell_type": "markdown",
   "metadata": {},
   "source": [
    "This means that the interpreter still defined the function, even though it had\n",
    "no return statement!\n",
    "For example, the following definition doesn't raise any error."
   ]
  },
  {
   "cell_type": "code",
   "execution_count": 14,
   "metadata": {
    "execution": {
     "iopub.execute_input": "2021-09-10T15:35:30.447732Z",
     "iopub.status.busy": "2021-09-10T15:35:30.446515Z",
     "iopub.status.idle": "2021-09-10T15:35:30.448791Z",
     "shell.execute_reply": "2021-09-10T15:35:30.449595Z"
    }
   },
   "outputs": [],
   "source": [
    "def circumference(radius: float) -> float:\n",
    "    \"\"\"Return ...\"\"\"\n",
    "    diameter = 2 * radius\n",
    "    length = math.pi * diameter"
   ]
  },
  {
   "cell_type": "markdown",
   "metadata": {
    "tags": [
     "NOTE"
    ]
   },
   "source": [
    "<div class=\"alert alert-warning\">\n",
    "<strong>Note:</strong> If a function doesn't return a value, then the return statement is missing or\n",
    "wrongly indented.\n",
    "</div>"
   ]
  },
  {
   "cell_type": "markdown",
   "metadata": {},
   "source": [
    "#### Exercise 2.6.1"
   ]
  },
  {
   "cell_type": "markdown",
   "metadata": {},
   "source": [
    "Here's the brick volume function definition again:\n",
    "\n",
    "**Function**: brick volume\\\n",
    "**Inputs**: _length_, an integer; _width_, an integer; _height_, an integer\\\n",
    "**Preconditions**:\n",
    "\n",
    "- _length_ > 0; _width_ > 0; _height_ > 0\n",
    "- _length_, _width_ and _height_ are in millimetres\n",
    "\n",
    "**Output**: _volume_, an integer\\\n",
    "**Postconditions**:\n",
    "\n",
    "- _volume_ = _length_ × _width_ × _height_\n",
    "- _volume_ is in cubic millimetres\n",
    "\n",
    "Translate it to Python. I've given you a head start."
   ]
  },
  {
   "cell_type": "code",
   "execution_count": 15,
   "metadata": {
    "execution": {
     "iopub.execute_input": "2021-09-10T15:35:30.454388Z",
     "iopub.status.busy": "2021-09-10T15:35:30.453629Z",
     "iopub.status.idle": "2021-09-10T15:35:30.455552Z",
     "shell.execute_reply": "2021-09-10T15:35:30.457188Z"
    }
   },
   "outputs": [],
   "source": [
    "def brick_volume(length: int):\n",
    "    \"\"\"Return ...\n",
    "    \"\"\""
   ]
  },
  {
   "cell_type": "markdown",
   "metadata": {},
   "source": [
    "Run the previous cell to define the function,\n",
    "then uncomment and run the next cell."
   ]
  },
  {
   "cell_type": "code",
   "execution_count": 16,
   "metadata": {
    "execution": {
     "iopub.execute_input": "2021-09-10T15:35:30.462622Z",
     "iopub.status.busy": "2021-09-10T15:35:30.461535Z",
     "iopub.status.idle": "2021-09-10T15:35:30.463822Z",
     "shell.execute_reply": "2021-09-10T15:35:30.464964Z"
    }
   },
   "outputs": [],
   "source": [
    "# brick_volume(2, 3, 4)   # the output should be 2 * 3 * 4 = 24"
   ]
  },
  {
   "cell_type": "markdown",
   "metadata": {},
   "source": [
    "[Hint](../31_Hints/Hints_02_6_01.ipynb)\n",
    "[Answer](../32_Answers/Answers_02_6_01.ipynb)"
   ]
  },
  {
   "cell_type": "markdown",
   "metadata": {},
   "source": [
    "#### Exercise 2.6.2"
   ]
  },
  {
   "cell_type": "markdown",
   "metadata": {},
   "source": [
    "Here's a definition of the total price function.\n",
    "\n",
    "**Function**: total price\\\n",
    "**Inputs**: _price_, a real number; _vat rate_, a real number\\\n",
    "**Preconditions**: _price_ > 0; _price_ is in euros; 0 ≤ _vat rate_ < 1\\\n",
    "**Output**: _total_, a real number\\\n",
    "**Postconditions**: _total_ = _price_ × (1 + _vat rate_); _total_ is in euros\n",
    "\n",
    "Write the corresponding Python function in the next code cell.\n",
    "End the code cell with a function call to check the definition has no errors."
   ]
  },
  {
   "cell_type": "code",
   "execution_count": 17,
   "metadata": {
    "execution": {
     "iopub.execute_input": "2021-09-10T15:35:30.469283Z",
     "iopub.status.busy": "2021-09-10T15:35:30.468566Z",
     "iopub.status.idle": "2021-09-10T15:35:30.470490Z",
     "shell.execute_reply": "2021-09-10T15:35:30.471307Z"
    }
   },
   "outputs": [],
   "source": [
    "# replace this by a function definition\n",
    "\n",
    "# replace this by a function call"
   ]
  },
  {
   "cell_type": "markdown",
   "metadata": {},
   "source": [
    "[Answer](../32_Answers/Answers_02_6_02.ipynb)"
   ]
  },
  {
   "cell_type": "markdown",
   "metadata": {},
   "source": [
    "### 2.6.3 Optional exercises"
   ]
  },
  {
   "cell_type": "markdown",
   "metadata": {},
   "source": [
    "An online judge is a web platform that accepts the user's solution\n",
    "to a given problem and checks it against hidden tests. Online judges have\n",
    "thousands of problems that cover many algorithms and data structures.\n",
    "They are good practice, helping you to pay attention to details,\n",
    "separate the wheat from the chaff in a problem description, and\n",
    "think for which input values an algorithm may fail.\n",
    "Some companies use online judges as part of their technical interviews.\n",
    "\n",
    "One of the many online judges is Kattis. I've created a\n",
    "[guide to Kattis](https://mwermelinger.github.io/kattis-guide/),\n",
    "with a selection of Kattis problems, organised by algorithm or data structure.\n",
    "If you want more practice, you can attempt these problems.\n",
    "The guide wasn't written exclusively for this module,\n",
    "so it may mention Python features not covered in M269.\n",
    "\n",
    "For this chapter, you can attempt problems involving only\n",
    "a sequence of instructions and numeric expressions, listed in the guide's\n",
    "['Foundations' section](https://mwermelinger.github.io/kattis-guide/foundations.html).\n",
    "Note that the crux of many numeric problems is finding the formula, so\n",
    "they may feel more like maths problems than computing problems."
   ]
  },
  {
   "cell_type": "markdown",
   "metadata": {},
   "source": [
    "⟵ [Previous section](02_5_maths_functions.ipynb) | [Up](02-introduction.ipynb) | [Next section](02_7_complexity.ipynb) ⟶"
   ]
  }
 ],
 "metadata": {
  "kernelspec": {
   "display_name": "Python 3",
   "language": "python",
   "name": "python3"
  },
  "language_info": {
   "codemirror_mode": {
    "name": "ipython",
    "version": 3
   },
   "file_extension": ".py",
   "mimetype": "text/x-python",
   "name": "python",
   "nbconvert_exporter": "python",
   "pygments_lexer": "ipython3",
   "version": "3.8.5"
  }
 },
 "nbformat": 4,
 "nbformat_minor": 4
}
