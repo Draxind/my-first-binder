{
 "cells": [
  {
   "cell_type": "markdown",
   "metadata": {},
   "source": [
    "## 2.4 Assignments"
   ]
  },
  {
   "cell_type": "markdown",
   "metadata": {},
   "source": [
    "In the previous section we assumed that an expression doesn't involve variables.\n",
    "If it does, then we must know their values in order to evaluate the expression.\n",
    "A variable is said to be undefined if no value has been assigned to it.\n",
    "Expressions involving undefined variables are undefined too.\n",
    "\n",
    "To define a variable, we use the **assignment** instruction,\n",
    "which evaluates an expression and assigns its value to a variable.\n",
    "In M269, when writing algorithms in English, assignments are of the form\n",
    "\n",
    "> let _variable_ be expression\n",
    "\n",
    "with variable names in italics so that they stand out.\n",
    "In Python, assignments are of the form `variable = expression`."
   ]
  },
  {
   "cell_type": "markdown",
   "metadata": {},
   "source": [
    "### 2.4.1 Algorithms"
   ]
  },
  {
   "cell_type": "markdown",
   "metadata": {},
   "source": [
    "In this chapter, an algorithm is a sequence of assignments.\n",
    "Here's a simple algorithm that computes the age of a person\n",
    "in a particular year as the difference between that year and their birth year.\n",
    "We write algorithms as numbered lists to show the order of steps."
   ]
  },
  {
   "cell_type": "markdown",
   "metadata": {},
   "source": [
    "1. let _year_ be 2020\n",
    "1. let _birth_ be 2010\n",
    "1. let _age_ be _year_ − _birth_\n",
    "\n",
    "The translation to Python is:"
   ]
  },
  {
   "cell_type": "code",
   "execution_count": 1,
   "metadata": {
    "execution": {
     "iopub.execute_input": "2021-09-10T15:35:23.059560Z",
     "iopub.status.busy": "2021-09-10T15:35:23.058480Z",
     "iopub.status.idle": "2021-09-10T15:35:23.061470Z",
     "shell.execute_reply": "2021-09-10T15:35:23.062045Z"
    }
   },
   "outputs": [],
   "source": [
    "year = 2020\n",
    "birth = 2010\n",
    "age = year - birth"
   ]
  },
  {
   "cell_type": "markdown",
   "metadata": {},
   "source": [
    "The previous cell doesn't display a value, because\n",
    "assignments aren't like arithmetic operations: they don't produce an output.\n",
    "In Jupyter notebooks,\n",
    "the value of an expression (which may be a single variable)\n",
    "is displayed only if the expression is the last or only line in a code cell."
   ]
  },
  {
   "cell_type": "code",
   "execution_count": 2,
   "metadata": {
    "execution": {
     "iopub.execute_input": "2021-09-10T15:35:23.072839Z",
     "iopub.status.busy": "2021-09-10T15:35:23.072094Z",
     "iopub.status.idle": "2021-09-10T15:35:23.075052Z",
     "shell.execute_reply": "2021-09-10T15:35:23.075763Z"
    }
   },
   "outputs": [
    {
     "data": {
      "text/plain": [
       "10"
      ]
     },
     "execution_count": 1,
     "metadata": {},
     "output_type": "execute_result"
    }
   ],
   "source": [
    "year = 2020\n",
    "year                # not last line, so it isn't displayed\n",
    "birth = 2010\n",
    "age = year - birth\n",
    "age                 # last line, so it's displayed"
   ]
  },
  {
   "cell_type": "markdown",
   "metadata": {},
   "source": [
    "To display the value of an expression at any point in an algorithm,\n",
    "we'll use the instruction\n",
    "\n",
    "> print expression\n",
    "\n",
    "in English, and `print(expression)` in Python."
   ]
  },
  {
   "cell_type": "code",
   "execution_count": 3,
   "metadata": {
    "execution": {
     "iopub.execute_input": "2021-09-10T15:35:23.079720Z",
     "iopub.status.busy": "2021-09-10T15:35:23.079021Z",
     "iopub.status.idle": "2021-09-10T15:35:23.082327Z",
     "shell.execute_reply": "2021-09-10T15:35:23.082986Z"
    }
   },
   "outputs": [
    {
     "name": "stdout",
     "output_type": "stream",
     "text": [
      "2020\n"
     ]
    },
    {
     "data": {
      "text/plain": [
       "10"
      ]
     },
     "execution_count": 1,
     "metadata": {},
     "output_type": "execute_result"
    }
   ],
   "source": [
    "year = 2020\n",
    "print(year)\n",
    "birth = 2010\n",
    "age = year - birth\n",
    "age"
   ]
  },
  {
   "cell_type": "markdown",
   "metadata": {},
   "source": [
    "### 2.4.2 Names"
   ]
  },
  {
   "cell_type": "markdown",
   "metadata": {},
   "source": [
    "Names can consist of multiple words.\n",
    "In English and other languages, we separate multiple words with spaces.\n",
    "In Python, they are joined together with underscores.\n",
    "\n",
    "1. let _current year_ be 2020\n",
    "2. let _year of birth_ be 2010\n",
    "3. let _age_ be _current year_ − _year of birth_\n",
    "4. print _age_"
   ]
  },
  {
   "cell_type": "code",
   "execution_count": 4,
   "metadata": {
    "execution": {
     "iopub.execute_input": "2021-09-10T15:35:23.088138Z",
     "iopub.status.busy": "2021-09-10T15:35:23.087408Z",
     "iopub.status.idle": "2021-09-10T15:35:23.089812Z",
     "shell.execute_reply": "2021-09-10T15:35:23.090717Z"
    }
   },
   "outputs": [
    {
     "name": "stdout",
     "output_type": "stream",
     "text": [
      "10\n"
     ]
    }
   ],
   "source": [
    "current_year = 2020\n",
    "year_of_birth = 2010\n",
    "age = current_year - year_of_birth\n",
    "print(age)"
   ]
  },
  {
   "cell_type": "markdown",
   "metadata": {},
   "source": [
    "Names can include digits, which may come in handy if you need a few variables\n",
    "with unrelated values, e.g. _year1_ and _year2_, or _year 1_ and _year 2_,\n",
    "and correspondingly `year1`, `year_1`, etc.\n",
    "\n",
    "A period can only be used to separate names of different things,\n",
    "like in `math.pi` to separate the names of the module and the variable.\n",
    "\n",
    "You may see Python code that uses mixed-case variable names, like\n",
    "`currentYear`, `yearOfBirth`, `Year_of_Birth`, etc.\n",
    "Although they're all valid names according to Python's syntax,\n",
    "in M269 we follow the convention of writing variable names in lowercase,\n",
    "with underscores to separate words."
   ]
  },
  {
   "cell_type": "markdown",
   "metadata": {
    "tags": [
     "NOTE"
    ]
   },
   "source": [
    "<div class=\"alert alert-warning\">\n",
    "<strong>Note:</strong> Following conventions makes your code easier to understand by others.\n",
    "</div>"
   ]
  },
  {
   "cell_type": "markdown",
   "metadata": {
    "tags": [
     "INFO"
    ]
   },
   "source": [
    "<div class=\"alert alert-info\">\n",
    "<strong>Info:</strong> Writing names in lowercase with underscores is known as snake case.\n",
    "The Python coding style conventions are given in\n",
    "<a href=\"https://www.python.org/dev/peps/pep-0008/\">Python Enhancement Proposal (PEP) 8</a>.\n",
    "</div>"
   ]
  },
  {
   "cell_type": "markdown",
   "metadata": {},
   "source": [
    "Descriptive names make algorithms much easier to understand.\n",
    "Use full English words. Avoid abbreviations, like `yob = 2010`,\n",
    "and single-letter names, like `y = 2020`."
   ]
  },
  {
   "cell_type": "markdown",
   "metadata": {
    "tags": [
     "NOTE"
    ]
   },
   "source": [
    "<div class=\"alert alert-warning\">\n",
    "<strong>Note:</strong> Use descriptive names that reflect what the variables represent.\n",
    "</div>"
   ]
  },
  {
   "cell_type": "markdown",
   "metadata": {},
   "source": [
    "### 2.4.3 Mistakes"
   ]
  },
  {
   "cell_type": "markdown",
   "metadata": {},
   "source": [
    "An assignment's expression can only refer to previously assigned variables,\n",
    "otherwise the expression is undefined. The following sequence\n",
    "doesn't define variable _age_ because _birth_ is undefined.\n",
    "\n",
    "1. let _year_ be 2020\n",
    "1. let _age_ be _year_ − _birth_\n",
    "\n",
    "If the above algorithm were written and executed in Python,\n",
    "the interpreter would stop in the second step with a name error for _birth_.\n",
    "\n",
    "If your algorithm for an exercise is calculating a wrong final value,\n",
    "consider using print statements to display the intermediate values.\n",
    "This helps you narrow down the source of the error.\n",
    "\n",
    "If you forget the underscores or periods between the words of a name in Python,\n",
    "you get a syntax error."
   ]
  },
  {
   "cell_type": "code",
   "execution_count": 5,
   "metadata": {
    "execution": {
     "iopub.execute_input": "2021-09-10T15:35:23.095589Z",
     "iopub.status.busy": "2021-09-10T15:35:23.094875Z",
     "iopub.status.idle": "2021-09-10T15:35:23.097909Z",
     "shell.execute_reply": "2021-09-10T15:35:23.098593Z"
    }
   },
   "outputs": [
    {
     "ename": "SyntaxError",
     "evalue": "invalid syntax (<ipython-input-1-69555bcc12a2>, line 1)",
     "output_type": "error",
     "traceback": [
      "\u001b[0;36m  File \u001b[0;32m\"<ipython-input-1-69555bcc12a2>\"\u001b[0;36m, line \u001b[0;32m1\u001b[0m\n\u001b[0;31m    current year = 2020     # missing underscore\u001b[0m\n\u001b[0m            ^\u001b[0m\n\u001b[0;31mSyntaxError\u001b[0m\u001b[0;31m:\u001b[0m invalid syntax\n"
     ]
    }
   ],
   "source": [
    "current year = 2020     # missing underscore"
   ]
  },
  {
   "cell_type": "markdown",
   "metadata": {},
   "source": [
    "Every character matters,\n",
    "so _current year_, _currentyear_ and  _currentYear_ are different names.\n",
    "In Python, if you misspell a name, you get a name error."
   ]
  },
  {
   "cell_type": "code",
   "execution_count": 6,
   "metadata": {
    "execution": {
     "iopub.execute_input": "2021-09-10T15:35:23.102964Z",
     "iopub.status.busy": "2021-09-10T15:35:23.102169Z",
     "iopub.status.idle": "2021-09-10T15:35:23.225161Z",
     "shell.execute_reply": "2021-09-10T15:35:23.225644Z"
    }
   },
   "outputs": [
    {
     "ename": "NameError",
     "evalue": "name 'currentyear' is not defined",
     "output_type": "error",
     "traceback": [
      "\u001b[0;31m---------------------------------------------------------------------------\u001b[0m",
      "\u001b[0;31mNameError\u001b[0m                                 Traceback (most recent call last)",
      "\u001b[0;32m<ipython-input-1-c236245493b5>\u001b[0m in \u001b[0;36m<module>\u001b[0;34m\u001b[0m\n\u001b[0;32m----> 1\u001b[0;31m \u001b[0mcurrentyear\u001b[0m     \u001b[0;31m# current_year is defined, currentyear isn't\u001b[0m\u001b[0;34m\u001b[0m\u001b[0;34m\u001b[0m\u001b[0m\n\u001b[0m",
      "\u001b[0;31mNameError\u001b[0m: name 'currentyear' is not defined"
     ]
    }
   ],
   "source": [
    "currentyear     # current_year is defined, currentyear isn't"
   ]
  },
  {
   "cell_type": "markdown",
   "metadata": {
    "tags": [
     "NOTE"
    ]
   },
   "source": [
    "<div class=\"alert alert-warning\">\n",
    "<strong>Note:</strong> If you get a name error then you either misspelt the name,\n",
    "didn't assign a value to it (e.g. you forgot to run a particular cell),\n",
    "didn't indicate the module defining the name, or didn't import the module.\n",
    "</div>"
   ]
  },
  {
   "cell_type": "markdown",
   "metadata": {},
   "source": [
    "Hyphens, apostrophes and punctuation other than periods aren't allowed in names.\n",
    "If you use them in Python, you'll get a (possibly strange) error."
   ]
  },
  {
   "cell_type": "code",
   "execution_count": 7,
   "metadata": {
    "execution": {
     "iopub.execute_input": "2021-09-10T15:35:23.229306Z",
     "iopub.status.busy": "2021-09-10T15:35:23.228596Z",
     "iopub.status.idle": "2021-09-10T15:35:23.231603Z",
     "shell.execute_reply": "2021-09-10T15:35:23.232303Z"
    }
   },
   "outputs": [
    {
     "ename": "SyntaxError",
     "evalue": "invalid character in identifier (<ipython-input-1-cae8eb227a45>, line 1)",
     "output_type": "error",
     "traceback": [
      "\u001b[0;36m  File \u001b[0;32m\"<ipython-input-1-cae8eb227a45>\"\u001b[0;36m, line \u001b[0;32m1\u001b[0m\n\u001b[0;31m    Bob’s_phone_number  # curved apostrophe\u001b[0m\n\u001b[0m                     ^\u001b[0m\n\u001b[0;31mSyntaxError\u001b[0m\u001b[0;31m:\u001b[0m invalid character in identifier\n"
     ]
    }
   ],
   "source": [
    "Bob’s_phone_number  # curved apostrophe"
   ]
  },
  {
   "cell_type": "code",
   "execution_count": 8,
   "metadata": {
    "execution": {
     "iopub.execute_input": "2021-09-10T15:35:23.235747Z",
     "iopub.status.busy": "2021-09-10T15:35:23.235045Z",
     "iopub.status.idle": "2021-09-10T15:35:23.237698Z",
     "shell.execute_reply": "2021-09-10T15:35:23.238299Z"
    }
   },
   "outputs": [
    {
     "ename": "SyntaxError",
     "evalue": "EOL while scanning string literal (<ipython-input-1-5bbc674037ec>, line 1)",
     "output_type": "error",
     "traceback": [
      "\u001b[0;36m  File \u001b[0;32m\"<ipython-input-1-5bbc674037ec>\"\u001b[0;36m, line \u001b[0;32m1\u001b[0m\n\u001b[0;31m    Bob's_phone_number  # straight apostrophe\u001b[0m\n\u001b[0m                                             ^\u001b[0m\n\u001b[0;31mSyntaxError\u001b[0m\u001b[0;31m:\u001b[0m EOL while scanning string literal\n"
     ]
    }
   ],
   "source": [
    "Bob's_phone_number  # straight apostrophe"
   ]
  },
  {
   "cell_type": "code",
   "execution_count": 9,
   "metadata": {
    "execution": {
     "iopub.execute_input": "2021-09-10T15:35:23.241818Z",
     "iopub.status.busy": "2021-09-10T15:35:23.241140Z",
     "iopub.status.idle": "2021-09-10T15:35:23.246597Z",
     "shell.execute_reply": "2021-09-10T15:35:23.247327Z"
    }
   },
   "outputs": [
    {
     "ename": "NameError",
     "evalue": "name 'left' is not defined",
     "output_type": "error",
     "traceback": [
      "\u001b[0;31m---------------------------------------------------------------------------\u001b[0m",
      "\u001b[0;31mNameError\u001b[0m                                 Traceback (most recent call last)",
      "\u001b[0;32m<ipython-input-1-691812ef689a>\u001b[0m in \u001b[0;36m<module>\u001b[0;34m\u001b[0m\n\u001b[0;32m----> 1\u001b[0;31m \u001b[0mleft\u001b[0m\u001b[0;34m-\u001b[0m\u001b[0massociative\u001b[0m\u001b[0;34m\u001b[0m\u001b[0;34m\u001b[0m\u001b[0m\n\u001b[0m",
      "\u001b[0;31mNameError\u001b[0m: name 'left' is not defined"
     ]
    }
   ],
   "source": [
    "left-associative"
   ]
  },
  {
   "cell_type": "markdown",
   "metadata": {},
   "source": [
    "Note that some error messages use the term 'identifier',\n",
    "while others use the term 'name'. They mean the same in Python.\n",
    "\n",
    "Why is the last example a name error rather than a syntax error?\n",
    "\n",
    "___\n",
    "\n",
    "It is a name error because the hyphen is interpreted as the difference operator\n",
    "between two numeric variables, but neither has been assigned a value.\n",
    "\n",
    "It's time to apply what you learned in this and the previous section.\n",
    "The next exercises ask you to write assignments and expressions\n",
    "that have the brackets, if necessary, in the right places.\n",
    "As mentioned in Chapter&nbsp;1, I assume you know how to work with percentages."
   ]
  },
  {
   "cell_type": "markdown",
   "metadata": {},
   "source": [
    "#### Exercise 2.4.1"
   ]
  },
  {
   "cell_type": "markdown",
   "metadata": {},
   "source": [
    "Many countries impose a sales tax or value-added tax (VAT)\n",
    "on various products and services. Write an algorithm in English that:\n",
    "\n",
    "1. sets the price of a product to an integer or real value of your choice\n",
    "2. sets the tax rate to 20%\n",
    "3. computes the total price, including the tax to be paid\n",
    "4. prints the total price"
   ]
  },
  {
   "cell_type": "markdown",
   "metadata": {
    "tags": [
     "ANSWER"
    ]
   },
   "source": [
    "_Write your answer here._"
   ]
  },
  {
   "cell_type": "markdown",
   "metadata": {},
   "source": [
    "[Answer](../32_Answers/Answers_02_4_01.ipynb)"
   ]
  },
  {
   "cell_type": "markdown",
   "metadata": {},
   "source": [
    "#### Exercise 2.4.2"
   ]
  },
  {
   "cell_type": "markdown",
   "metadata": {},
   "source": [
    "Translate the previous algorithm to Python code.\n",
    "Don't forget to press Tab to autocomplete names."
   ]
  },
  {
   "cell_type": "code",
   "execution_count": 10,
   "metadata": {
    "execution": {
     "iopub.execute_input": "2021-09-10T15:35:23.251346Z",
     "iopub.status.busy": "2021-09-10T15:35:23.250602Z",
     "iopub.status.idle": "2021-09-10T15:35:23.252476Z",
     "shell.execute_reply": "2021-09-10T15:35:23.253144Z"
    }
   },
   "outputs": [],
   "source": [
    "# replace this by your code"
   ]
  },
  {
   "cell_type": "markdown",
   "metadata": {},
   "source": [
    "[Answer](../32_Answers/Answers_02_4_02.ipynb)"
   ]
  },
  {
   "cell_type": "markdown",
   "metadata": {},
   "source": [
    "⟵ [Previous section](02_3_expressions.ipynb) | [Up](02-introduction.ipynb) | [Next section](02_5_maths_functions.ipynb) ⟶"
   ]
  }
 ],
 "metadata": {
  "kernelspec": {
   "display_name": "Python 3",
   "language": "python",
   "name": "python3"
  },
  "language_info": {
   "codemirror_mode": {
    "name": "ipython",
    "version": 3
   },
   "file_extension": ".py",
   "mimetype": "text/x-python",
   "name": "python",
   "nbconvert_exporter": "python",
   "pygments_lexer": "ipython3",
   "version": "3.8.5"
  }
 },
 "nbformat": 4,
 "nbformat_minor": 4
}
