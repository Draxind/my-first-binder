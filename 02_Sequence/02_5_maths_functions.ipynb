{
 "cells": [
  {
   "cell_type": "markdown",
   "metadata": {},
   "source": [
    "## 2.5 Functions in mathematics"
   ]
  },
  {
   "cell_type": "markdown",
   "metadata": {},
   "source": [
    "In M269, you won't be asked to develop complete applications (with user\n",
    "interface, database, etc.) but rather to design and implement algorithms for\n",
    "individual operations on some data, e.g. to add the VAT to a given price.\n",
    "\n",
    "In M269, most operations are functions as defined in mathematics,\n",
    "so let's recap them.\n",
    "\n",
    "A function has a set of allowed input values and a rule\n",
    "for calculating exactly one output value from the input values,\n",
    "i.e. a function never produces two different outputs for the same input values.\n",
    "A function doesn't modify its inputs.\n",
    "\n",
    "For example, the function to calculate the length of the circumference of\n",
    "a circle with radius _r_ can be defined as g(_r_) = 2×π×_r_ (_r_ > 0), where:\n",
    "\n",
    "- _g_ is the name of the function\n",
    "- _r_ is the input variable\n",
    "- _r_ > 0 indicates that only positive real numbers are allowed\n",
    "- 2×π×_r_ is the rule for calculating the output value."
   ]
  },
  {
   "cell_type": "markdown",
   "metadata": {
    "tags": [
     "INFO"
    ]
   },
   "source": [
    "<div class=\"alert alert-info\">\n",
    "<strong>Info:</strong> MST124 Unit&nbsp;3 Section&nbsp;1.2 and MU123 Unit&nbsp;6 Section&nbsp;3.1 define functions.\n",
    "The example is from MST124 Unit&nbsp;3 Section&nbsp;1.3.\n",
    "</div>"
   ]
  },
  {
   "cell_type": "markdown",
   "metadata": {},
   "source": [
    "In MU123 and MST124, the input and output values are always real numbers,\n",
    "and therefore a function rule can be stated as a formula.\n",
    "M269 doesn't use just one data type and the functions\n",
    "to be implemented are more complicated than a single formula,\n",
    "so we need a more general notation to define them. We shall use this template:"
   ]
  },
  {
   "cell_type": "markdown",
   "metadata": {},
   "source": [
    "**Function**: the name of the function\\\n",
    "**Inputs**: the name and data type of each input\\\n",
    "**Preconditions**: any conditions on the inputs\\\n",
    "**Output**: the name and data type of the result\\\n",
    "**Postconditions**: how the output relates to the inputs"
   ]
  },
  {
   "cell_type": "markdown",
   "metadata": {},
   "source": [
    "If you wish, you can use the singular ('input', 'precondition' and\n",
    "'postcondition') when there's only one input or condition, but\n",
    "I always use the plural, to reuse the same template for different functions.\n",
    "\n",
    "Here's how function g(_r_) = 2×π×_r_ (_r_ > 0) could be defined\n",
    "with this template:"
   ]
  },
  {
   "cell_type": "markdown",
   "metadata": {},
   "source": [
    "**Function**: g\\\n",
    "**Inputs**: _r_, a real number\\\n",
    "**Preconditions**: _r_ > 0\\\n",
    "**Output**: g(_r_), a real number\\\n",
    "**Postconditions**: g(_r_) = 2 × π × _r_"
   ]
  },
  {
   "cell_type": "markdown",
   "metadata": {},
   "source": [
    "The data types _must_ be stated: we can't assume they're always real numbers.\n",
    "Strictly speaking, the output's data type can be inferred from\n",
    "the formula in the postconditions, but it's clearer to state it explicitly.\n",
    "The types are usually ADTs, so that the function can be implemented\n",
    "with different programming languages.\n",
    "The pre- and postconditions state what must be true before and after\n",
    "the function is applied. The preconditions define the allowed input values.\n",
    "For simple numeric functions, the postcondition states that the output\n",
    "is equal to the value of an expression over the input variables.\n",
    "\n",
    "A better definition for the circumference function uses descriptive names,\n",
    "so that the reader doesn't have to figure out\n",
    "what the function computes from the postconditions.\n",
    "Moreover, in M269 we use a variable for the computed output value.\n",
    "A clearer definition is, for example:"
   ]
  },
  {
   "cell_type": "markdown",
   "metadata": {},
   "source": [
    "**Function**: circumference\\\n",
    "**Inputs**: _radius_, a real number\\\n",
    "**Preconditions**: _radius_ > 0\\\n",
    "**Output**: _length_, a real number\\\n",
    "**Postconditions**: _length_ = 2 × π × _radius_"
   ]
  },
  {
   "cell_type": "markdown",
   "metadata": {},
   "source": [
    "At this point you may be wondering what's the point of this far more verbose\n",
    "notation than simply writing g(_r_) = 2×π×_r_ (_r_ > 0). The main advantage is that\n",
    "the template explicitly shows the different parts of a function and thus serves\n",
    "as a 'thinking scaffold' when defining your functions.\n",
    "Filling the template prompts you to think about:\n",
    "\n",
    "- the name of the function, to reflect what it does\n",
    "- how many inputs are needed and what they represent\n",
    "- any invalid input values\n",
    "- how the output is obtained from the inputs."
   ]
  },
  {
   "cell_type": "markdown",
   "metadata": {},
   "source": [
    "### 2.5.1 Example"
   ]
  },
  {
   "cell_type": "markdown",
   "metadata": {},
   "source": [
    "To illustrate how the template can guide your thinking, let me go through it\n",
    "to define a function to compute the volume of a brick.\n",
    "\n",
    "The function name should be descriptive but not too long,\n",
    "and capture _what_ the function does or produces, not _how_ it does it\n",
    "(that's the algorithm's job). One possible name is:\n",
    "\n",
    "**Function**: brick volume\n",
    "\n",
    "Next, the inputs.\n",
    "The statement 'compute the volume of a brick' doesn't specify them.\n",
    "I have to make a reasonable decision.\n",
    "What values do I need to compute the volume?\n",
    "I need the brick's width, length and height.\n",
    "What are their types? This will depend on the measurement units and precision.\n",
    "In real life I'd contact the client and ask them\n",
    "for the units and precision in which the input data is provided.\n",
    "In the absence of a client's wishes, I always prefer integers to real numbers\n",
    "due to the limitations of representing real numbers in Python.\n",
    "I will thus assume that the input values are integers.\n",
    "To achieve a reasonable measuring precision, I assume the unit is millimetres.\n",
    "\n",
    "**Inputs**: _length_, an integer; _width_, an integer; _height_, an integer\n",
    "\n",
    "You may separate inputs with semicolons or with bullet points, as you prefer.\n",
    "\n",
    "**Inputs**:\n",
    "\n",
    "- _length_, an integer\n",
    "- _width_, an integer\n",
    "- _height_, an integer\n",
    "\n",
    "Since all inputs have the same type,\n",
    "you may also write something like:\n",
    "\n",
    "**Inputs**: integers _length_, _width_ and _height_\n",
    "\n",
    "However, I recommend you state each input's type explicitly:\n",
    "the translation to Python becomes more direct, as shown in the next section.\n",
    "\n",
    "Next I must think if any input values are not allowed.\n",
    "Like it was the case with the circle's radius,\n",
    "a brick cannot have zero or negative length, width or height.\n",
    "\n",
    "**Preconditions**: _length_ > 0; _width_ > 0; _height_ > 0\n",
    "\n",
    "I assumed that the dimensions are given in millimetres.\n",
    "I must state that, so I need to add:\n",
    "\n",
    "**Preconditions**: _length_, _width_ and _height_ are in millimetres"
   ]
  },
  {
   "cell_type": "markdown",
   "metadata": {
    "tags": [
     "NOTE"
    ]
   },
   "source": [
    "<div class=\"alert alert-warning\">\n",
    "<strong>Note:</strong> Always state your assumptions explicitly.\n",
    "</div>"
   ]
  },
  {
   "cell_type": "markdown",
   "metadata": {},
   "source": [
    "Next comes the output. Without a client telling me\n",
    "what the output's unit and precision are, I must make a sensible decision.\n",
    "I choose to have an integer value, in cubic millimetres,\n",
    "to not lose precision. Again, I state the data type and the units separately.\n",
    "\n",
    "**Output**: _volume_, an integer\\\n",
    "**Postconditions**: _volume_ is in cubic millimetres\n",
    "\n",
    "Finally, I add the most important postcondition,\n",
    "which relates the output to the inputs.\n",
    "\n",
    "**Postconditions**: _volume_ = _length_ × _width_ × _height_\n",
    "\n",
    "Here's the whole definition:"
   ]
  },
  {
   "cell_type": "markdown",
   "metadata": {},
   "source": [
    "**Function**: brick volume\\\n",
    "**Inputs**: _length_, an integer; _width_, an integer; _height_, an integer\\\n",
    "**Preconditions**:\n",
    "\n",
    "- _length_ > 0; _width_ > 0; _height_ > 0\n",
    "- _length_, _width_ and _height_ are in millimetres\n",
    "\n",
    "**Output**: _volume_, an integer\\\n",
    "**Postconditions**:\n",
    "\n",
    "- _volume_ = _length_ × _width_ × _height_\n",
    "- _volume_ is in cubic millimetres"
   ]
  },
  {
   "cell_type": "markdown",
   "metadata": {},
   "source": [
    "### 2.5.2 Algorithms"
   ]
  },
  {
   "cell_type": "markdown",
   "metadata": {},
   "source": [
    "To implement a function, we need a sequence of one or more assignments that\n",
    "take the input values and produce the output value.\n",
    "For most numeric functions, the algorithm can be a single assignment\n",
    "based on the formula in the postconditions.\n",
    "For the circumference function, the algorithm can be simply:\n",
    "\n",
    "1. let _length_ be 2 × π × _radius_\n",
    "\n",
    "After this assignment is executed, the value of _length_ is equal to the\n",
    "value of 2 × π × _radius_, i.e. the postcondition is satisfied.\n",
    "An alternative algorithm is:\n",
    "\n",
    "1. let _diameter_ be 2 × _radius_\n",
    "1. let _length_ be π × _diameter_\n",
    "\n",
    "This one also satisfies the postcondition _length_ = 2 × π × _radius_.\n",
    "\n",
    "Function definitions don't just help you think about the problem at hand.\n",
    "They are crucial to check if an algorithm is **correct**:\n",
    "an algorithm correctly implements a function if for all inputs that\n",
    "satisfy the preconditions it produces an output satisfying the postconditions.\n",
    "A function is considered undefined for invalid inputs,\n",
    "so how the algorithm behaves in such cases is irrelevant for its correctness.\n",
    "(Usually, some expression in the algorithm is undefined for invalid inputs.)"
   ]
  },
  {
   "cell_type": "markdown",
   "metadata": {},
   "source": [
    "### 2.5.3 Mistakes"
   ]
  },
  {
   "cell_type": "markdown",
   "metadata": {},
   "source": [
    "The preconditions state what is true _before_ the function is applied.\n",
    "At that point there's no output yet,\n",
    "so the output variable must never appear in the preconditions.\n",
    "\n",
    "Don't feel forced to write preconditions. Some functions don't have any, e.g.\n",
    "the rounding functions can be applied to any real number.\n",
    "In such cases, for the moment leave that part of the template empty.\n",
    "The next chapter introduces a better way to indicate there are no preconditions.\n",
    "\n",
    "Functions should be as generally applicable as possible, so\n",
    "don't constrain the input values unnecessarily. For example, the precondition\n",
    "_length_ ≥ _width_ isn't needed to correctly compute a brick's volume\n",
    "and so should be left out.\n",
    "\n",
    "By the way, the symbols ≤, ≥ and ≠ occur often in preconditions,\n",
    "so try to find out if they can be easily typed on your keyboard.\n",
    "On mine, they're obtained by pressing Alt and <, > or =, respectively.\n",
    "\n",
    "While a function may not have preconditions,\n",
    "it always has one or more postconditions. They effectively define the function.\n",
    "The postconditions must involve _all_ input and output variables.\n",
    "If an input variable doesn't appear in the postconditions, then you're stating\n",
    "it's not needed to compute the output: so why should it be an input?\n",
    "\n",
    "When writing an algorithm, especially a longer one,\n",
    "it's easy to forget a variable in an expression or to forget an assignment.\n",
    "Check that each expression only refers to previously assigned variables or\n",
    "to the input variables. This means that the first assignment in the sequence\n",
    "can only use the input variables, as no other variable is defined at that point.\n",
    "\n",
    "Each variable should be assigned only once and\n",
    "the output variable should be assigned last. If this isn't the case, then\n",
    "your sequence of assignments has room for improvement.\n",
    "You may be doing unnecessary work or using meaningless variables, like this:\n",
    "\n",
    "1. let _diameter_ be 2\n",
    "2. let _diameter_ be _diameter_ × _radius_\n",
    "3. let _length_ be π × _diameter_\n",
    "4. let _pi_ be π\n",
    "\n",
    "This is a correct algorithm (it satisfies the postcondition),\n",
    "but a rather poor one. Step&nbsp;4 is unnecessary and\n",
    "the variable name in step&nbsp;1 is meaningless because the diameter isn't two.\n",
    "\n",
    "The next algorithm is also correct,\n",
    "but there's no meaning to twice the value of π, whereas\n",
    "twice the radius is a meaningful concept (the circle's diameter).\n",
    "\n",
    "1. let _double pie_ be 2 × π\n",
    "2. let _length_ be _double pie_ × _radius_\n",
    "\n",
    "If you can't give the variable on the left-hand side of an assignment a\n",
    "meaningful name, then the right-hand expression may not make much sense either.\n",
    "It's probably time to rewrite the assignments."
   ]
  },
  {
   "cell_type": "markdown",
   "metadata": {
    "tags": [
     "NOTE"
    ]
   },
   "source": [
    "<div class=\"alert alert-warning\">\n",
    "<strong>Note:</strong> Write assignments that compute meaningful values and\n",
    "name the variables accordingly.\n",
    "</div>"
   ]
  },
  {
   "cell_type": "markdown",
   "metadata": {},
   "source": [
    "#### Exercise 2.5.1"
   ]
  },
  {
   "cell_type": "markdown",
   "metadata": {},
   "source": [
    "Fill out the template below to define a function that,\n",
    "given the price of a product or service and a VAT rate,\n",
    "calculates the total price, including VAT at the given rate.\n",
    "Some products and services are not subject to VAT.\n",
    "The VAT rate is always less than 100%.\n",
    "\n",
    "When editing the next cell, keep the backslashes at the end of the lines\n",
    "to enforce the line breaks."
   ]
  },
  {
   "cell_type": "markdown",
   "metadata": {},
   "source": [
    "**Function**:\\\n",
    "**Inputs**:\\\n",
    "**Preconditions**:\\\n",
    "**Output**:\\\n",
    "**Postconditions**:\n",
    "\n",
    "[Hint](../31_Hints/Hints_02_5_01.ipynb)\n",
    "[Answer](../32_Answers/Answers_02_5_01.ipynb)"
   ]
  },
  {
   "cell_type": "markdown",
   "metadata": {},
   "source": [
    "⟵ [Previous section](02_4_assignments.ipynb) | [Up](02-introduction.ipynb) | [Next section](02_6_py_functions.ipynb) ⟶"
   ]
  }
 ],
 "metadata": {
  "kernelspec": {
   "display_name": "Python 3",
   "language": "python",
   "name": "python3"
  },
  "language_info": {
   "codemirror_mode": {
    "name": "ipython",
    "version": 3
   },
   "file_extension": ".py",
   "mimetype": "text/x-python",
   "name": "python",
   "nbconvert_exporter": "python",
   "pygments_lexer": "ipython3",
   "version": "3.8.5"
  }
 },
 "nbformat": 4,
 "nbformat_minor": 4
}
