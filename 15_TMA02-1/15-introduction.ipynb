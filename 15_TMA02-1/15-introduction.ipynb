{
 "cells": [
  {
   "cell_type": "markdown",
   "metadata": {},
   "source": [
    "# 15 TMA 02 part 1"
   ]
  },
  {
   "cell_type": "markdown",
   "metadata": {},
   "source": [
    "This study-free week is for you to catch up if you need to,\n",
    "and to complete the first part of TMA&nbsp;02, which you can download from\n",
    "the 'Assessment' tab of the [M269 website](https://learn2.open.ac.uk/course/view.php?id=208089).\n",
    "\n",
    "Unless otherwise told, you can only use the ADTs, data structures and\n",
    "Python classes, methods and functions given in Chapters 2 to 14,\n",
    "including:\n",
    "\n",
    "- [Chapter&nbsp;11](../11_Search/11_7_summary.ipynb): `permutations`, `combinations`\n",
    "- [Chapter&nbsp;12](../12_Recursion/12_9_summary.ipynb): is empty, head, tail and prepend operations in file `m269_rec_list.py`\n",
    "- [Chapter&nbsp;14](../14_Sorting/14_9_summary.ipynb): `shuffle`;\n",
    "  `sort` and `sorted` with function argument `key`.\n",
    "\n",
    "This chapter complements the summaries of Chapters 11–14\n",
    "with higher level advice for designing and analysing algorithms.\n",
    "The guidance in [Chapter&nbsp;5](../05_TMA01-1/05-introduction.ipynb#5-TMA-01-part-1) and\n",
    "[Chapter&nbsp;10](../10_TMA01-2/10-introduction.ipynb#10-TMA-01-part-2) still applies.\n",
    "\n",
    "\n",
    "Before starting to work on this chapter, check the\n",
    "[M269 website](https://learn2.open.ac.uk/course/view.php?id=208089) for relevant news and errata."
   ]
  },
  {
   "cell_type": "markdown",
   "metadata": {
    "nbsphinx-toctree": {
     "hidden": true,
     "maxdepth": 1,
     "numbered": false
    }
   },
   "source": [
    "1. [Brute-force search](15_1_exhaustive_search.ipynb)\n",
    "1. [Divide and conquer](15_2_divide_conquer.ipynb)"
   ]
  },
  {
   "cell_type": "markdown",
   "metadata": {},
   "source": [
    "⟵ [Previous chapter](../14_Sorting/14-introduction.ipynb) | [Up](../M269.ipynb) | [Next chapter](../16_Trees/16-introduction.ipynb) ⟶"
   ]
  }
 ],
 "metadata": {
  "kernelspec": {
   "display_name": "Python 3",
   "language": "python",
   "name": "python3"
  },
  "language_info": {
   "codemirror_mode": {
    "name": "ipython",
    "version": 3
   },
   "file_extension": ".py",
   "mimetype": "text/x-python",
   "name": "python",
   "nbconvert_exporter": "python",
   "pygments_lexer": "ipython3",
   "version": "3.8.5"
  }
 },
 "nbformat": 4,
 "nbformat_minor": 4
}
