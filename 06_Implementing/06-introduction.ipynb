{
 "cells": [
  {
   "cell_type": "markdown",
   "metadata": {},
   "source": [
    "# 6 Implementing sequences"
   ]
  },
  {
   "cell_type": "markdown",
   "metadata": {},
   "source": [
    "This chapter explains how the sequence ADT can be implemented using two\n",
    "different **data structures**, i.e. ways of organising data:\n",
    "arrays and linked lists.\n",
    "A data type implements an ADT using a particular data structure. For example,\n",
    "Python's list data type implements the sequence ADT with arrays, but\n",
    "we can define our own data type implementing the same ADT with a linked list.\n",
    "\n",
    "The same data structure can be used by data types implementing different ADTs.\n",
    "Chapter&nbsp;7 introduces other sequence-like ADTs and how they can be implemented\n",
    "with the array and linked list data structures."
   ]
  },
  {
   "cell_type": "markdown",
   "metadata": {
    "tags": [
     "INFO"
    ]
   },
   "source": [
    "<div class=\"alert alert-info\">\n",
    "<strong>Info:</strong> Some texts use 'data structure' as a synonym of 'data type',\n",
    "i.e. as the implementation of an abstract data type.\n",
    "</div>"
   ]
  },
  {
   "cell_type": "markdown",
   "metadata": {},
   "source": [
    "Arrays and linked lists are **linear** data structures:\n",
    "the data is arranged sequentially.\n",
    "Linear data structures can be traversed with a single loop. They are widely used\n",
    "by Python and other languages to implement various kinds of sequence ADTs.\n",
    "\n",
    "Learning about data structures not only helps you understand\n",
    "a data type's behaviour, e.g. why some operations take constant time,\n",
    "it also gives you the foundations to implement ADTs.\n",
    "\n",
    "This chapter supports the following learning outcomes.\n",
    "\n",
    "- Apply general-purpose data structures and algorithmic techniques to\n",
    "  efficiently solve computational problems –\n",
    "  this chapter introduces two fundamental data structures (arrays and linked lists).\n",
    "- Explain in a clear and succinct way how an algorithm or data structure works,\n",
    "  and its assumptions, in order to communicate with peers –\n",
    "  this chapter illustrates how to communicate the gist of an algorithm or data structure.\n",
    "- Analyse the complexity of algorithms to support design choices –\n",
    "  this chapter shows how the choice of data structure affects\n",
    "  the complexity of the data type's operations.\n",
    "- Write readable, tested and documented Python functions and classes to\n",
    "  implement algorithms and abstract data types –\n",
    "  this chapter shows how to implement data types with Python classes\n",
    "  and how to test them.\n",
    "\n",
    "\n",
    "Before starting to work on this chapter, check the\n",
    "[M269 website](https://learn2.open.ac.uk/course/view.php?id=208089) for relevant news and errata."
   ]
  },
  {
   "cell_type": "markdown",
   "metadata": {
    "nbsphinx-toctree": {
     "hidden": true,
     "maxdepth": 1,
     "numbered": false
    }
   },
   "source": [
    "1. [Defining data types](06_1_define_type.ipynb)\n",
    "1. [Static arrays](06_2_static_array.ipynb)\n",
    "1. [Developing data types](06_3_develop_type.ipynb)\n",
    "1. [Bounded sequences](06_4_bounded.ipynb)\n",
    "1. [Dynamic arrays](06_5_dynamic_array.ipynb)\n",
    "1. [Using dynamic arrays](06_6_use_dyn_array.ipynb)\n",
    "1. [Linked lists](06_7_linked_list.ipynb)\n",
    "1. [Summary](06_8_summary.ipynb)"
   ]
  },
  {
   "cell_type": "markdown",
   "metadata": {},
   "source": [
    "⟵ [Previous chapter](../05_TMA01-1/05-introduction.ipynb) | [Up](../M269.ipynb) | [Next chapter](../07_Ordered/07-introduction.ipynb) ⟶"
   ]
  }
 ],
 "metadata": {
  "kernelspec": {
   "display_name": "Python 3",
   "language": "python",
   "name": "python3"
  },
  "language_info": {
   "codemirror_mode": {
    "name": "ipython",
    "version": 3
   },
   "file_extension": ".py",
   "mimetype": "text/x-python",
   "name": "python",
   "nbconvert_exporter": "python",
   "pygments_lexer": "ipython3",
   "version": "3.8.5"
  }
 },
 "nbformat": 4,
 "nbformat_minor": 4
}
