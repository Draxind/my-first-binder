{
 "cells": [
  {
   "cell_type": "markdown",
   "metadata": {},
   "source": [
    "## 6.8 Summary"
   ]
  },
  {
   "cell_type": "markdown",
   "metadata": {},
   "source": [
    "### 6.8.1 Classes"
   ]
  },
  {
   "cell_type": "markdown",
   "metadata": {},
   "source": [
    "A class defines a data type in Python.\n",
    "A value of a type defined by a class _C_ is said to be an object and\n",
    "in particular, an instance of class _C_.\n",
    "The instance variables hold the data for each instance of the class.\n",
    "A method is an operation provided by a class. In Python,\n",
    "the first argument of each method for class _C_ is an instance of _C_.\n",
    "Methods often modify the class instance to which they are applied\n",
    "and in such cases do not implement a mathematical function.\n",
    "\n",
    "The methods form the class's interface.\n",
    "A class may change its instance variables without changing its interface.\n",
    "A class's attributes are its instance variables and methods.\n",
    "\n",
    "To define a class `C`, write:"
   ]
  },
  {
   "cell_type": "code",
   "execution_count": 1,
   "metadata": {
    "execution": {
     "iopub.execute_input": "2021-09-10T15:37:37.858823Z",
     "iopub.status.busy": "2021-09-10T15:37:37.858347Z",
     "iopub.status.idle": "2021-09-10T15:37:37.860105Z",
     "shell.execute_reply": "2021-09-10T15:37:37.860550Z"
    }
   },
   "outputs": [],
   "source": [
    "class C:\n",
    "    \"\"\"What class C represents.\"\"\"\n",
    "\n",
    "    def __init__(self):\n",
    "        \"\"\"Initialise a new instance of C.\"\"\"\n",
    "        # create the instance variables with self.x = value\n",
    "\n",
    "    # define further methods"
   ]
  },
  {
   "cell_type": "markdown",
   "metadata": {},
   "source": [
    "If all instances of class _A_ are also instances of class _B_,\n",
    "then _A_ is a subclass of _B_ and _B_ a superclass of _A_.\n",
    "Class _A_ inherits the methods of _B_.\n",
    "In Python, write `class A(B):` to define a subclass of _B_.\n",
    "\n",
    "An abstract class isn't meant to be instantiated.\n",
    "It usually doesn't have an `__init__` method nor does it implement most methods.\n",
    "It can be used to define an ADT.\n",
    "\n",
    "An inner class is an auxiliary class defined within another.\n",
    "In Python, a class `Inner` within a class `Outer`\n",
    "must be referred to by its full name: `Outer.Inner`.\n",
    "\n",
    "The Python statement `pass` does nothing.\n",
    "\n",
    "White-box tests access the instance variables while black-box tests\n",
    "only use a class's interface to test the behaviour of each method.\n",
    "Running the same tests after a change is called regression testing.\n",
    "Black-box testing facilitates regression testing, as changes to\n",
    "instance variables and method bodies don't require changing the black-box tests."
   ]
  },
  {
   "cell_type": "markdown",
   "metadata": {},
   "source": [
    "### 6.8.2 Data structures"
   ]
  },
  {
   "cell_type": "markdown",
   "metadata": {},
   "source": [
    "A data type implements an ADT with a data structure,\n",
    "a particular way of organising data.\n",
    "A linear data structure organises data sequentially.\n",
    "\n",
    "A static array is a data structure that stores a fixed-length sequence\n",
    "contiguously in memory, with the same number of bytes per item.\n",
    "This allows any item to be accessed and replaced in constant time.\n",
    "\n",
    "In Python, a static array can be emulated by creating a list with\n",
    "`[initial_value] * length` and never applying operations that change its\n",
    "length.\n",
    "\n",
    "A heterogeneous sequence can be stored in a static array of references to the\n",
    "actual items. A reference is an object that refers another one.\n",
    "A pointer is the memory address of the referred objected.\n",
    "Garbage collection is the process of freeing the memory occupied by objects\n",
    "that are no longer used because no object refers to them.\n",
    "\n",
    "A bounded sequence has a fixed capacity,\n",
    "the maximum number of items it can hold, set at creation time.\n",
    "The sequence is full when its length and capacity are equal.\n",
    "A bounded sequence can be implemented with a static array and\n",
    "a variable to keep track of the sequence's length.\n",
    "\n",
    "A dynamic array is a succession of static arrays to give the illusion that\n",
    "the length of the dynamic array shrinks and grows.\n",
    "Resizing the dynamic array involves copying the items from\n",
    "the current static array to a new static array with the new length,\n",
    "and therefore takes time linear in the new length.\n",
    "Python lists are implemented with dynamic arrays.\n",
    "\n",
    "A linked list is a chain of nodes,\n",
    "each holding an item and pointing to the next node.\n",
    "The last node has a null pointer to indicate there's no further node.\n",
    "A null pointer dereference occurs when trying to access the object\n",
    "referenced by a pointer without first checking that it's the null pointer.\n",
    "The first node is called the head of the list.\n",
    "Linked lists don't require a resize operation nor shifting items when\n",
    "inserting or removing one."
   ]
  },
  {
   "cell_type": "markdown",
   "metadata": {},
   "source": [
    "### 6.8.3 Complexity"
   ]
  },
  {
   "cell_type": "markdown",
   "metadata": {},
   "source": [
    "The amortised complexity of an operation is its average complexity over a\n",
    "succession of executions. When resizing a dynamic array,\n",
    "if its new length is proportional to the current one,\n",
    "then the amortised overhead is constant.\n",
    "\n",
    "Implementing operations may require making space–time tradeoffs to\n",
    "reduce the run-time by using extra memory.\n",
    "\n",
    "The complexity of an operation depends on the underlying data structure.\n",
    "In the following table, _s_ is a sequence and _i_ the index of the item to access,\n",
    "replace, insert or remove.\n",
    "\n",
    "Sequence operation | Dynamic array | Linked list\n",
    "-|-|-\n",
    "length  | Θ(1)  | Θ(1)\n",
    "indexing, replace  | Θ(1)  | Θ(_i_)\n",
    "insert, remove  | Θ(│*s*│ − _i_) | Θ(_i_)\n",
    "append  | amortised Θ(1), worst Θ(│*s*│) | Θ(1)"
   ]
  },
  {
   "cell_type": "markdown",
   "metadata": {},
   "source": [
    "### 6.8.4 Python"
   ]
  },
  {
   "cell_type": "markdown",
   "metadata": {},
   "source": [
    "Module `math` defines constant `inf` for positive infinity.\n",
    "It can be used to represent the capacity of an unbounded sequence.\n",
    "Negative infinity is represented as `-inf`."
   ]
  },
  {
   "cell_type": "markdown",
   "metadata": {},
   "source": [
    "⟵ [Previous section](06_7_linked_list.ipynb) | [Up](06-introduction.ipynb) | [Next section](../07_Ordered/07-introduction.ipynb) ⟶"
   ]
  }
 ],
 "metadata": {
  "kernelspec": {
   "display_name": "Python 3",
   "language": "python",
   "name": "python3"
  },
  "language_info": {
   "codemirror_mode": {
    "name": "ipython",
    "version": 3
   },
   "file_extension": ".py",
   "mimetype": "text/x-python",
   "name": "python",
   "nbconvert_exporter": "python",
   "pygments_lexer": "ipython3",
   "version": "3.8.5"
  }
 },
 "nbformat": 4,
 "nbformat_minor": 4
}
