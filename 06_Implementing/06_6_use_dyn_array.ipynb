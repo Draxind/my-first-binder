{
 "cells": [
  {
   "cell_type": "markdown",
   "metadata": {},
   "source": [
    "## 6.6 Using dynamic arrays"
   ]
  },
  {
   "cell_type": "markdown",
   "metadata": {},
   "source": [
    "With dynamic arrays we can implement the unrestricted sequence ADT,\n",
    "without any additional arguments or preconditions due to capacity issues.\n",
    "\n",
    "Since at each point in time the sequence is stored in a static array,\n",
    "the implementation of every operation stays the same, so I won't repeat them.\n",
    "I will just focus on the main issue when using dynamic arrays:\n",
    "when should the array be resized and by how much?\n",
    "\n",
    "It's obvious the dynamic array must grow when inserting an item in a full\n",
    "array. Two simple policies are to grow the capacity by a fixed amount,\n",
    "or by an amount proportional to the current one, say by 100% (doubling).\n",
    "The former may lead to many linear-time resize operations as the sequence grows,\n",
    "while the latter risks wasting capacity if the sequence doesn't grow much more.\n",
    "So which policy is better?"
   ]
  },
  {
   "cell_type": "markdown",
   "metadata": {},
   "source": [
    "### 6.6.1 Amortised complexity"
   ]
  },
  {
   "cell_type": "markdown",
   "metadata": {},
   "source": [
    "I'm going to compare doubling the capacity against increasing it by 100,\n",
    "when the array gets full. It doesn't matter where the item is inserted when\n",
    "it triggers a resize, so I'm going to consider the fastest insertion: appending.\n",
    "\n",
    "In the best case, appending an item doesn't require resizing the array and thus\n",
    "takes constant time. In the worst case, appending an item to a full array\n",
    "takes linear time: if the full array has length and capacity _n_,\n",
    "then the new array has length _n_ + 1 (after appending the new item) and\n",
    "capacity _n_ + 100 or 2×_n_, depending on the policy.\n",
    "\n",
    "The best- and worst-case complexities only consider a single execution of the\n",
    "operation. However, often the same operation is executed repeatedly.\n",
    "Users are interested in the total time,\n",
    "not whether some executions were faster than others.\n",
    "If some function does 1000 appends, and 999 of them take 1&nbsp;ms but one takes\n",
    "1001&nbsp;ms, for the user it's the same as if each had taken 2&nbsp;ms:\n",
    "the total time waiting for the result is 2&nbsp;seconds.\n",
    "\n",
    "In cases where the best- and worst-case complexities vary widely,\n",
    "a more realistic view is the average complexity over a series of executions.\n",
    "The **amortised complexity** of an operation is\n",
    "the total complexity of _n_ executions of that operation, divided by _n_.\n",
    "If the amortised complexity is similar to the worst-case complexity,\n",
    "then the worst case occurs often; if it's similar to the best-case complexity,\n",
    "then the worst case occurs infrequently over a series of executions."
   ]
  },
  {
   "cell_type": "markdown",
   "metadata": {
    "tags": [
     "INFO"
    ]
   },
   "source": [
    "<div class=\"alert alert-info\">\n",
    "<strong>Info:</strong> The average-case complexity is not the same as amortised complexity. The former\n",
    "is the complexity of a single execution averaged over all possible inputs of\n",
    "the same size. The latter is the average over consecutive executions which may\n",
    "make the input grow.\n",
    "</div>"
   ]
  },
  {
   "cell_type": "markdown",
   "metadata": {},
   "source": [
    "Let's calculate the amortised complexity of the append operation for each\n",
    "policy, looking at the total complexity from one resize operation to the next.\n",
    "Let's assume that a resize occurs at length _L_.\n",
    "\n",
    "In the fixed-growth policy, the resize makes the array grow by 100 positions to\n",
    "length _L_ + 100 and hence has complexity Θ(_L_ + 100).\n",
    "The last resize was 100 appends ago, when the length was _L_ - 100.\n",
    "So, the total complexity of the 100 appends is\n",
    "100 × Θ(1) + Θ(_L_ + 100) =  Θ(_L_),\n",
    "each one with average complexity Θ(_L_) / 100 = Θ(_L_).\n",
    "(Remember that in complexity analysis, constant complexity and\n",
    "fixed additive and multiplicative factors can be ignored.)\n",
    "\n",
    "An informal way to see that each successive append has on average\n",
    "linear complexity is to realise that each resize takes increasingly longer,\n",
    "because the sequence is growing, and yet its run-time can only be amortised\n",
    "over a fixed number of appends. Therefore, as the sequence grows,\n",
    "the average run-time of each append also grows.\n",
    "\n",
    "In the relative-growth policy, the resize at length _L_ grows the dynamic array\n",
    "to length&nbsp;2 × _L_, with complexity Θ(2 × _L_).\n",
    "The previous resize was at length _L_/2.\n",
    "The total complexity of the _L_/2 appends leading from length _L_/2 to _L_\n",
    "is _L_ / 2 × Θ(1) + Θ(2 × _L_) = Θ(_L_) +  Θ(_L_) = Θ(_L_).\n",
    "The average complexity of each is thus Θ(_L_) / (_L_ / 2) = Θ(1).\n",
    "\n",
    "Informally, although each resize takes longer as the sequence grows,\n",
    "because the capacity grows proportionally to the current length,\n",
    "the number of appends until the next resize grows by the same factor, so\n",
    "the average run-time per append remains constant.\n",
    "\n",
    "To sum up, while individual appends may take some time when they trigger a\n",
    "resize operation, the amortised and best-case complexity is constant,\n",
    "if the dynamic array grows proportionally to its length.\n",
    "\n",
    "The policy of doubling the array on each resize can waste considerable memory.\n",
    "If the dynamic array starts with a length of one,\n",
    "then its length is always a power of two. A sequence of\n",
    "length&nbsp;600 requires an array of length&nbsp;1024 (giving 424 unused positions), a sequence\n",
    "of length&nbsp;1200 requires an array of length&nbsp;2048 (giving 848 free positions), etc.\n",
    "As the capacity of the array doubles, the number of unused positions may\n",
    "increase, if the sequence doesn't grow enough to fill most of the array."
   ]
  },
  {
   "cell_type": "markdown",
   "metadata": {
    "tags": [
     "INFO"
    ]
   },
   "source": [
    "<div class=\"alert alert-info\">\n",
    "<strong>Info:</strong> Python interpreters usually use a factor of less than two, to not waste memory.\n",
    "</div>"
   ]
  },
  {
   "cell_type": "markdown",
   "metadata": {},
   "source": [
    "### 6.6.2 The `ArraySequence` class"
   ]
  },
  {
   "cell_type": "markdown",
   "metadata": {},
   "source": [
    "A dynamic array allows us to access and replace items in constant time,\n",
    "and only adds an amortised constant-time overhead to inserting (or appending)\n",
    "an item. It is therefore the usual choice to implement Python's lists.\n",
    "\n",
    "To implement the sequence ADT with dynamic arrays, the interpreter\n",
    "needs the definitions of the `Sequence` and `DynamicArray` classes."
   ]
  },
  {
   "cell_type": "code",
   "execution_count": 1,
   "metadata": {
    "execution": {
     "iopub.execute_input": "2021-09-10T15:37:32.282735Z",
     "iopub.status.busy": "2021-09-10T15:37:32.281478Z",
     "iopub.status.idle": "2021-09-10T15:37:32.287373Z",
     "shell.execute_reply": "2021-09-10T15:37:32.288174Z"
    }
   },
   "outputs": [],
   "source": [
    "%run -i ../m269_array\n",
    "%run -i ../m269_sequence"
   ]
  },
  {
   "cell_type": "markdown",
   "metadata": {},
   "source": [
    "The name and docstring of the new subclass reveal which data structure is used,\n",
    "so that users know that they can count on constant-time indexing."
   ]
  },
  {
   "cell_type": "code",
   "execution_count": 2,
   "metadata": {
    "execution": {
     "iopub.execute_input": "2021-09-10T15:37:32.299690Z",
     "iopub.status.busy": "2021-09-10T15:37:32.298424Z",
     "iopub.status.idle": "2021-09-10T15:37:32.301333Z",
     "shell.execute_reply": "2021-09-10T15:37:32.302123Z"
    }
   },
   "outputs": [],
   "source": [
    "# this code is also in m269_sequence.py\n",
    "\n",
    "import math\n",
    "\n",
    "class ArraySequence(Sequence):\n",
    "    \"\"\"A dynamic array implementation of the sequence ADT.\"\"\"\n",
    "\n",
    "    def __init__(self):\n",
    "        \"\"\"Create an empty sequence.\"\"\"\n",
    "        self.items = DynamicArray(1)\n",
    "        self.size = 0\n",
    "\n",
    "    def capacity(self) -> float:\n",
    "        return math.inf     # infinite capacity\n",
    "\n",
    "    def length(self) -> int:\n",
    "        return self.size\n",
    "\n",
    "    def get_item(self, index: int) -> object:\n",
    "        return self.items.get_item(index)\n",
    "\n",
    "    def set_item(self, index: int, item: object) -> None:\n",
    "        self.items.set_item(index, item)\n",
    "\n",
    "    def insert(self, index: int, item: object) -> None:\n",
    "        if self.size == self.items.length():    # array full\n",
    "            self.items.resize(2 * self.size)\n",
    "\n",
    "        for position in range(self.size - 1, index - 1, -1):\n",
    "            self.items.set_item(position + 1, self.items.get_item(position))\n",
    "        self.items.set_item(index, item)\n",
    "        self.size = self.size + 1"
   ]
  },
  {
   "cell_type": "markdown",
   "metadata": {},
   "source": [
    "The following accesses the instance variables on purpose\n",
    "to show how the internal static array evolves.\n",
    "The array is printed with the `__str__` method inherited from `StaticArray`\n",
    "and the sequence is printed with the `__str__` method inherited from `Sequence`."
   ]
  },
  {
   "cell_type": "code",
   "execution_count": 3,
   "metadata": {
    "execution": {
     "iopub.execute_input": "2021-09-10T15:37:32.308429Z",
     "iopub.status.busy": "2021-09-10T15:37:32.307515Z",
     "iopub.status.idle": "2021-09-10T15:37:32.310909Z",
     "shell.execute_reply": "2021-09-10T15:37:32.311704Z"
    }
   },
   "outputs": [
    {
     "name": "stdout",
     "output_type": "stream",
     "text": [
      "array [None] stores sequence []\n",
      "array [0] stores sequence [0]\n",
      "array [0, 1] stores sequence [0, 1]\n",
      "array [0, 1, 2, None] stores sequence [0, 1, 2]\n",
      "array [0, 1, 2, 3] stores sequence [0, 1, 2, 3]\n",
      "array [0, 1, 2, 3, 4, None, None, None] stores sequence [0, 1, 2, 3, 4]\n"
     ]
    }
   ],
   "source": [
    "sequence = ArraySequence()\n",
    "print('array', sequence.items, 'stores sequence', sequence)\n",
    "for value in range(0, 5):\n",
    "    sequence.append(value)\n",
    "    print('array', sequence.items, 'stores sequence', sequence)"
   ]
  },
  {
   "cell_type": "markdown",
   "metadata": {},
   "source": [
    "As we can see, the length of the static array doubles step-wise from 1 to 8,\n",
    "and the unused positions have value `None`.\n",
    "\n",
    "Finally, let's test each method."
   ]
  },
  {
   "cell_type": "code",
   "execution_count": 4,
   "metadata": {
    "execution": {
     "iopub.execute_input": "2021-09-10T15:37:32.318495Z",
     "iopub.status.busy": "2021-09-10T15:37:32.317678Z",
     "iopub.status.idle": "2021-09-10T15:37:32.322797Z",
     "shell.execute_reply": "2021-09-10T15:37:32.323510Z"
    }
   },
   "outputs": [
    {
     "name": "stdout",
     "output_type": "stream",
     "text": [
      "Testing length 0\n",
      "Testing length 1\n",
      "Testing length 2\n",
      "Testing length 3\n",
      "Testing length 4\n",
      "Testing length 5\n",
      "Testing length 6\n",
      "Testing length 7\n",
      "Testing length 8\n",
      "Testing length 9\n"
     ]
    }
   ],
   "source": [
    "%run -i ../m269_check\n",
    "\n",
    "test_init(ArraySequence())\n",
    "for length in range(10):\n",
    "    print('Testing length', length)\n",
    "    test_append(ArraySequence(), length)\n",
    "    test_insert_start(ArraySequence(), length)\n",
    "    test_set_item(ArraySequence(), length)"
   ]
  },
  {
   "cell_type": "markdown",
   "metadata": {},
   "source": [
    "#### Exercise 6.6.1 (optional)"
   ]
  },
  {
   "cell_type": "markdown",
   "metadata": {},
   "source": [
    "Implement and test the remove operation.\n",
    "The algorithm to remove the item is the same as for a bounded sequence, so\n",
    "you can copy your previous code.\n",
    "\n",
    "After the tests pass, add code to the remove method to shrink the array if the\n",
    "sequence, after the item was removed, is much shorter than the array.\n",
    "The exact policy is up to you.\n",
    "\n",
    "Remember that you must shrink to a capacity that is proportional to the current\n",
    "one in order to achieve amortised constant complexity for the append operation.\n",
    "Leave some spare capacity after shrinking:\n",
    "otherwise the next insert or append operation makes the array grow again.\n",
    "Having to grow a dynamic array immediately after shrinking it is not efficient.\n",
    "\n",
    "[Hint](../31_Hints/Hints_06_6_01.ipynb)"
   ]
  },
  {
   "cell_type": "markdown",
   "metadata": {},
   "source": [
    "⟵ [Previous section](06_5_dynamic_array.ipynb) | [Up](06-introduction.ipynb) | [Next section](06_7_linked_list.ipynb) ⟶"
   ]
  }
 ],
 "metadata": {
  "kernelspec": {
   "display_name": "Python 3",
   "language": "python",
   "name": "python3"
  },
  "language_info": {
   "codemirror_mode": {
    "name": "ipython",
    "version": 3
   },
   "file_extension": ".py",
   "mimetype": "text/x-python",
   "name": "python",
   "nbconvert_exporter": "python",
   "pygments_lexer": "ipython3",
   "version": "3.8.5"
  }
 },
 "nbformat": 4,
 "nbformat_minor": 4
}
