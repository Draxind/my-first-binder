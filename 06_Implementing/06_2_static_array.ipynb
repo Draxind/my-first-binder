{
 "cells": [
  {
   "cell_type": "markdown",
   "metadata": {},
   "source": [
    "## 6.2 Static arrays"
   ]
  },
  {
   "cell_type": "markdown",
   "metadata": {},
   "source": [
    "A **static array** is a data structure that stores a fixed-length sequence\n",
    "contiguously in memory, with the same number of bytes per item. This allows us\n",
    "to compute the address of any item, and thereby access it, in constant time.\n",
    "For example, the next figure shows a static array storing the string 'Hi!'\n",
    "from memory address 123 onwards, using two bytes per character.\n",
    "\n",
    "![The figure shows three rectangular boxes next to each other.\n",
    "The left-most box has numbers 123 and 124 over it and the letter H inside it.\n",
    "The middle box has numbers 125 and 126 over it and the letter i inside it.\n",
    "The right-most box has numbers 127 and 128 over it and an exclamation mark\n",
    "inside it.](06_2_sa1.png)\n",
    "\n",
    "The character at index _i_ is stored at the address 123 + _i_ × 2 and the next address,\n",
    "e.g. the character at index&nbsp;1&nbsp;starts at address 123 + 1 × 2 = 125.\n",
    "(Remember that indices start at zero.)\n",
    "More generally, if an array at memory _start_ allocates _n_ bytes per item,\n",
    "the item at index _i_ can be found at address _start_ + _i_ × _n_ and the\n",
    "subsequent _n_ − 1&nbsp;bytes."
   ]
  },
  {
   "cell_type": "markdown",
   "metadata": {
    "tags": [
     "INFO"
    ]
   },
   "source": [
    "<div class=\"alert alert-info\">\n",
    "<strong>Info:</strong> The term 'array' can mean different things (static array, list,\n",
    "homogeneous sequence, etc.), depending on the author or programming language.\n",
    "To avoid confusions, we use 'static array' in M269, with the above meaning.\n",
    "</div>"
   ]
  },
  {
   "cell_type": "markdown",
   "metadata": {},
   "source": [
    "Static arrays are the ideal data structure for immutable sequences where all\n",
    "items occupy the same number of bytes, like strings and tuples of Booleans.\n",
    "But how to store a tuple of strings of different lengths,\n",
    "or a heterogeneous tuple? The trick is to store in the array\n",
    "the addresses of the items instead of the items themselves.\n",
    "Let's suppose we have $2^{32}$ bytes = 4&nbsp;GB of RAM.\n",
    "We can represent any memory location as a 32-bit integer.\n",
    "The next figure illustrates the storage of tuple `('Hi!', 'Go', 'left')`.\n",
    "The static array for the tuple contains the address of each string.\n",
    "The strings may be anywhere in memory,\n",
    "not necessarily next to the tuple or each other.\n",
    "\n",
    "![The figure shows four rows of boxes.\n",
    "The first row has three boxes containing numbers 123, 100542 and 1423208.\n",
    "These are the first addresses of the other rows of boxes. Each first row box\n",
    "occupies 4&nbsp;bytes, indicated by the addresses above the boxes\n",
    "going from 1050 to 1053 for the left-hand box, 1054 to 1057 for the middle box\n",
    "and 1058 to 1061 for the right-hand box.\n",
    "The second row of boxes are the same as in the previous figure:\n",
    "three boxes with uppercase H, lowercase i and an exclamation mark inside them,\n",
    "and addresses 123 to 128 over them.\n",
    "The third row has two boxes, with uppercase G and lowercase o inside them,\n",
    "and addresses 100542 to 100545 above them.\n",
    "The fourth row has four boxes, with lowercase l, e, f and t inside,\n",
    "and addresses 1423208 to 1423215 above them.](06_2_sa2.png)\n",
    "\n",
    "We usually don't know (and don't care) where in memory a data structure\n",
    "will be stored. It's also often irrelevant how many bytes characters,\n",
    "addresses and other items occupy. Abstracting away those details,\n",
    "we can represent the tuple and its three strings in a more schematic way.\n",
    "\n",
    "![The figure shows four separate groups of boxes.\n",
    "Three of the groups contain the words Hi!, Go and left,\n",
    "with one character per box.\n",
    "The fourth group has three boxes, each containing the start of an arrow.\n",
    "Each of the three arrows ends below the first box of one of the other three groups.\n",
    "The arrow starting in the left-hand box points to H (the first box of Hi!),\n",
    "the arrow starting in the middle box points to G (the first box of Go) and\n",
    "the arrow starting in the right-hand box points to l\n",
    "(the first box of left).](06_2_sa3.png)\n",
    "\n",
    "This image conveys the gist of the data structure:\n",
    "a string is stored as a static array of characters, and the tuple of strings is\n",
    "stored as a static array of references to those strings.\n",
    "A **reference** is an object that refers to another object.\n",
    "If the reference consists of the memory address of that other object,\n",
    "we call it a **pointer**.\n",
    "\n",
    "Before continuing with static arrays, let me illustrate how the use of\n",
    "references explains the behaviour of assignments in Python."
   ]
  },
  {
   "cell_type": "markdown",
   "metadata": {},
   "source": [
    "### 6.2.1 Variables and assignments"
   ]
  },
  {
   "cell_type": "markdown",
   "metadata": {},
   "source": [
    "There are other kinds of reference objects.\n",
    "An index is an integer object that refers to a particular item of a sequence.\n",
    "A variable is a named reference to an object: you can think of it as\n",
    "a string-pointer pair with the name of the variable\n",
    "and the address of the object it refers to.\n",
    "\n",
    "Consider the following example, which uses a list instead of a tuple."
   ]
  },
  {
   "cell_type": "code",
   "execution_count": 1,
   "metadata": {
    "execution": {
     "iopub.execute_input": "2021-09-10T15:37:21.496150Z",
     "iopub.status.busy": "2021-09-10T15:37:21.495435Z",
     "iopub.status.idle": "2021-09-10T15:37:21.497490Z",
     "shell.execute_reply": "2021-09-10T15:37:21.498026Z"
    }
   },
   "outputs": [],
   "source": [
    "x = 1           # the x-y coordinates of a 2D point\n",
    "y = 2\n",
    "pair = [x, y]\n",
    "point = pair"
   ]
  },
  {
   "cell_type": "markdown",
   "metadata": {},
   "source": [
    "Assuming that lists are also stored as static arrays,\n",
    "the situation in memory at this stage is as follows:\n",
    "\n",
    "![The figure shows variable names pair, point, x and y.\n",
    "Names pair and point have arrows next to them leading to a pair of boxes.\n",
    "The first box has an arrow that leads to a separate box, with number 1 in it.\n",
    "The second box has an arrow that leads to a separate box, with number 2 in it.\n",
    "Variable name x has an arrow that leads to the box with the number 1.\n",
    "Variable y has an arrow that leads to the box with the number 2.](06_2_va1.png)\n",
    "\n",
    "Names `pair` and `point` refer to exactly the same list object,\n",
    "`pair[0]` and `x` refer to the exact same integer object with value one,\n",
    "and `pair[1]` and `y` refer to the same integer object with value two.\n",
    "Let's change the value that `y` refers to:"
   ]
  },
  {
   "cell_type": "code",
   "execution_count": 2,
   "metadata": {
    "execution": {
     "iopub.execute_input": "2021-09-10T15:37:21.501365Z",
     "iopub.status.busy": "2021-09-10T15:37:21.500737Z",
     "iopub.status.idle": "2021-09-10T15:37:21.502743Z",
     "shell.execute_reply": "2021-09-10T15:37:21.503441Z"
    }
   },
   "outputs": [],
   "source": [
    "y = 3"
   ]
  },
  {
   "cell_type": "markdown",
   "metadata": {},
   "source": [
    "The Python interpreter does _not_ change the value of the existing integer\n",
    "object. Instead, it creates a new integer object with value three,\n",
    "and makes the variable refer to that object.\n",
    "In Python, `variable = value` 'attaches' the variable's name to the value,\n",
    "rather than modifies the current variable's value.\n",
    "The data structures look now like this:\n",
    "\n",
    "![This figure is the same as the previous one, but the arrow next to\n",
    "variable y is no longer pointing at the box with number 2. Instead, it's\n",
    "pointing at a new box with number 3.](06_2_va2.png)\n",
    "\n",
    "Hence, if we display the list, it hasn't changed:"
   ]
  },
  {
   "cell_type": "code",
   "execution_count": 3,
   "metadata": {
    "execution": {
     "iopub.execute_input": "2021-09-10T15:37:21.512923Z",
     "iopub.status.busy": "2021-09-10T15:37:21.512068Z",
     "iopub.status.idle": "2021-09-10T15:37:21.515392Z",
     "shell.execute_reply": "2021-09-10T15:37:21.516153Z"
    }
   },
   "outputs": [
    {
     "data": {
      "text/plain": [
       "[1, 2]"
      ]
     },
     "execution_count": 1,
     "metadata": {},
     "output_type": "execute_result"
    }
   ],
   "source": [
    "point"
   ]
  },
  {
   "cell_type": "markdown",
   "metadata": {},
   "source": [
    "If we do this assignment,"
   ]
  },
  {
   "cell_type": "code",
   "execution_count": 4,
   "metadata": {
    "execution": {
     "iopub.execute_input": "2021-09-10T15:37:21.520694Z",
     "iopub.status.busy": "2021-09-10T15:37:21.519947Z",
     "iopub.status.idle": "2021-09-10T15:37:21.522274Z",
     "shell.execute_reply": "2021-09-10T15:37:21.523020Z"
    }
   },
   "outputs": [],
   "source": [
    "pair[1] = 3"
   ]
  },
  {
   "cell_type": "markdown",
   "metadata": {},
   "source": [
    "then the interpreter again creates an integer object with value 3 and\n",
    "makes the name `pair[1]` refer to that object. The situation is now:\n",
    "\n",
    "![This figure is the same as the previous one, but the arrow stemming from\n",
    "the second of the pair of boxes is no longer pointing at the box with number 2.\n",
    "Instead, it's pointing at yet another new box with number 3,\n",
    "so there are two boxes with number 3: one has an arrow from variable y,\n",
    "the other has an arrow from the second of the pair of boxes.\n",
    "The box with number 2&nbsp;has no arrows leading to it.](06_2_va3.png)\n",
    "\n",
    "Let's display again the point's coordinates:"
   ]
  },
  {
   "cell_type": "code",
   "execution_count": 5,
   "metadata": {
    "execution": {
     "iopub.execute_input": "2021-09-10T15:37:21.527153Z",
     "iopub.status.busy": "2021-09-10T15:37:21.526424Z",
     "iopub.status.idle": "2021-09-10T15:37:21.529418Z",
     "shell.execute_reply": "2021-09-10T15:37:21.530122Z"
    }
   },
   "outputs": [
    {
     "data": {
      "text/plain": [
       "[1, 3]"
      ]
     },
     "execution_count": 1,
     "metadata": {},
     "output_type": "execute_result"
    }
   ],
   "source": [
    "point"
   ]
  },
  {
   "cell_type": "markdown",
   "metadata": {},
   "source": [
    "They have changed, even though the assignment was to `pair[1]`, not `point[1]`.\n",
    "The earlier assignment `point = pair` created a new reference to the same list,\n",
    "it didn't create a copy of the list."
   ]
  },
  {
   "cell_type": "markdown",
   "metadata": {
    "tags": [
     "INFO"
    ]
   },
   "source": [
    "<div class=\"alert alert-info\">\n",
    "<strong>Info:</strong> TM112 Block&nbsp;2 Sections 4.5.1 to 4.5.3 explain the above in more detail.\n",
    "</div>"
   ]
  },
  {
   "cell_type": "markdown",
   "metadata": {},
   "source": [
    "The diagram also shows that the integer object with value two isn't referred by\n",
    "any other object anymore. The Python interpreter detects that automatically,\n",
    "and frees the memory occupied by the object so that it can be reused later.\n",
    "This process is known as **garbage collection**."
   ]
  },
  {
   "cell_type": "markdown",
   "metadata": {},
   "source": [
    "### 6.2.2 The `StaticArray` class"
   ]
  },
  {
   "cell_type": "markdown",
   "metadata": {},
   "source": [
    "Some languages provide a static array data type to implement a restricted form\n",
    "of the sequence ADT, namely fixed-length homogeneous sequences.\n",
    "Besides the length of the array, one has to indicate the type of items.\n",
    "This allows the interpreter to figure out how many bytes per item are needed\n",
    "and the initial value of each item, to then create the static array in memory.\n",
    "For example, an array of Booleans may be created with one byte per Boolean,\n",
    "each initialised to false, whereas an array of strings may be created with\n",
    "pointers to the same empty string."
   ]
  },
  {
   "cell_type": "markdown",
   "metadata": {
    "tags": [
     "INFO"
    ]
   },
   "source": [
    "<div class=\"alert alert-info\">\n",
    "<strong>Info:</strong> Java has a static array data type, simply called array,\n",
    "with indices starting at zero.\n",
    "The type of items is indicated when the array is declared, and\n",
    "the length is determined when the array is initialised.\n",
    "Java arrays can be heterogeneous if the item's type is <code>Object</code>.\n",
    "</div>"
   ]
  },
  {
   "cell_type": "markdown",
   "metadata": {},
   "source": [
    "A data type for static arrays only has to support three operations,\n",
    "besides the constructor: length, indexing, and replacing an item.\n",
    "All other operations, e.g. slicing, can be implemented with these basic operations.\n",
    "\n",
    "Python doesn't include such a data type as it already has a far more flexible\n",
    "one: lists. The implementation of lists may differ between Python interpreters,\n",
    "because the Python language only defines the list as an ADT,\n",
    "i.e. which operations it supports.\n",
    "However, it's safe to assume all interpreters use static arrays as the\n",
    "underlying data structure in order to achieve constant-time indexing.\n",
    "We can thus use lists as if they were static arrays providing we never call methods\n",
    "`append`, `insert` and `pop`. I will however define a new data type,\n",
    "to make the use of static arrays explicit in subsequent examples.\n",
    "\n",
    "I won't restrict my static array data type to any particular type of items.\n",
    "The constructor simply takes the length of the array,\n",
    "and initialises it with `None` in every position.\n",
    "The essential operations on an array are to obtain its length, and to\n",
    "access and replace an item at a given index.\n",
    "Following my definition of the\n",
    "[indexing operation](../04_Iteration/04_1_sequences.ipynb#4.1.1-Inspecting-sequences),\n",
    "I assume indices aren't negative.\n",
    "For convenience I also implement an operation to convert to a string.\n",
    "\n",
    "I write the class to a file to reuse it later."
   ]
  },
  {
   "cell_type": "code",
   "execution_count": 6,
   "metadata": {
    "execution": {
     "iopub.execute_input": "2021-09-10T15:37:21.536655Z",
     "iopub.status.busy": "2021-09-10T15:37:21.535827Z",
     "iopub.status.idle": "2021-09-10T15:37:21.538768Z",
     "shell.execute_reply": "2021-09-10T15:37:21.537989Z"
    }
   },
   "outputs": [],
   "source": [
    "# this code is also in m269_array.py\n",
    "\n",
    "class StaticArray:\n",
    "    \"\"\"A fixed-length sequence of references in contiguous memory.\"\"\"\n",
    "\n",
    "    def __init__(self, length: int):\n",
    "        \"\"\"Create an array of the given length.\n",
    "\n",
    "        Preconditions: length >= 0\n",
    "        Postconditions: every item in the array is None\n",
    "        \"\"\"\n",
    "        # assume lists are stored in arrays\n",
    "        self.items = [None] * length\n",
    "\n",
    "    def length(self) -> int:\n",
    "        \"\"\"Return the length of the array.\"\"\"\n",
    "        return len(self.items)\n",
    "\n",
    "    def get_item(self, index: int) -> object:\n",
    "        \"\"\"Return the item at the given index.\n",
    "\n",
    "        Preconditions: 0 <= index < self.length()\n",
    "        \"\"\"\n",
    "        return self.items[index]\n",
    "\n",
    "    def set_item(self, index: int, item: object) -> None:\n",
    "        \"\"\"Replace the item at the given index with the given item.\n",
    "\n",
    "        Preconditions: 0 <= index < self.length()\n",
    "        Postconditions: self.get_item(index) == item\n",
    "        \"\"\"\n",
    "        self.items[index] = item\n",
    "\n",
    "    def __str__(self) -> str:\n",
    "        \"\"\"Return a string representation of the array.\"\"\"\n",
    "        return str(self.items)"
   ]
  },
  {
   "cell_type": "markdown",
   "metadata": {},
   "source": [
    "In Python, every object is an instance of a class appropriately named `object`.\n",
    "All other classes are subclasses of `object`.\n",
    "Class _A_ is a **subclass** of class _B_, and _B_ is a **superclass** of _A_,\n",
    "if every instance of _A_ is also an instance of _B_.\n",
    "Using `object` in a method or function header indicates that the input or\n",
    "output value can be any object. As such, the method or function body can only\n",
    "use the equality and inequality comparisons or assign the object to a variable."
   ]
  },
  {
   "cell_type": "markdown",
   "metadata": {},
   "source": [
    "### 6.2.3 Testing methods"
   ]
  },
  {
   "cell_type": "markdown",
   "metadata": {},
   "source": [
    "Our [generic test function](../04_Iteration/04_7_reverse.ipynb#4.7.6-Tests) is meant for testing functions\n",
    "with a single output that can be easily compared against an expected value.\n",
    "However, class methods sometimes modify an instance variable instead of\n",
    "returning a value, like `set_item` above. We need a different approach.\n",
    "\n",
    "**White-box tests**, also known as structural tests,\n",
    "have full knowledge of the data structure(s) used by the data type.\n",
    "Structural tests can be written independently for each method, as they can\n",
    "access the instance variables before and after the method to check\n",
    "they were correctly modified. The disadvantage of structural tests is that\n",
    "they must be rewritten whenever the data structures change.\n",
    "\n",
    "**Black-box tests**, also known as specification-based tests,\n",
    "don't access the data structures.\n",
    "They test methods based on their defined behaviour.\n",
    "This means that methods can't be tested independently: a method that\n",
    "changes data can only be tested with methods that inspect data.\n",
    "Black-box testing makes **regression testing** easier.\n",
    "That's the process of running the same tests after each change,\n",
    "to make sure the modified code still behaves as before.\n",
    "\n",
    "For example, a white-box test of the `__init__` method can iterate over\n",
    "the `self.items` list to check all items were initialised to `None`,\n",
    "whereas a black-box test has to use method `get_item`.\n",
    "\n",
    "In M269 we'll use mostly black-box testing: a single set of tests,\n",
    "based on the ADT's operations, can be run repeatedly to test\n",
    "different implementations of the same ADT. This saves work and time.\n",
    "\n",
    "To make test code shorter and more readable, I define an auxiliary function\n",
    "for the error messages and write it to a file to reuse it later."
   ]
  },
  {
   "cell_type": "code",
   "execution_count": 7,
   "metadata": {
    "execution": {
     "iopub.execute_input": "2021-09-10T15:37:21.543820Z",
     "iopub.status.busy": "2021-09-10T15:37:21.543025Z",
     "iopub.status.idle": "2021-09-10T15:37:21.544962Z",
     "shell.execute_reply": "2021-09-10T15:37:21.545693Z"
    }
   },
   "outputs": [],
   "source": [
    "# this code is also in m269_check.py\n",
    "\n",
    "def check(case: str, actual: object, expected: object, context: object) -> None:\n",
    "    \"\"\"Write a message if actual and expected are different.\"\"\"\n",
    "    if actual != expected:\n",
    "        print(case, 'FAILED for', context, ':', actual, 'instead of', expected)"
   ]
  },
  {
   "cell_type": "markdown",
   "metadata": {},
   "source": [
    "The context is some additional information to help us make sense of the error.\n",
    "In the following, the context is the static array for which the test failed.\n",
    "\n",
    "Let's start by testing the initialisation method for an arbitrary array length.\n",
    "We must check it has created the right number of items, all of them `None`."
   ]
  },
  {
   "cell_type": "code",
   "execution_count": 8,
   "metadata": {
    "execution": {
     "iopub.execute_input": "2021-09-10T15:37:21.551150Z",
     "iopub.status.busy": "2021-09-10T15:37:21.550428Z",
     "iopub.status.idle": "2021-09-10T15:37:21.552439Z",
     "shell.execute_reply": "2021-09-10T15:37:21.553018Z"
    }
   },
   "outputs": [],
   "source": [
    "def test_init(length: int) -> None:\n",
    "    \"\"\"Create a new array of the given length and check it.\n",
    "\n",
    "    Preconditions: length >= 0\n",
    "    \"\"\"\n",
    "    array = StaticArray(length)\n",
    "    check('length', array.length(), length, array)\n",
    "    for index in range(0, length):\n",
    "        check('initial item', array.get_item(index), None, array)"
   ]
  },
  {
   "cell_type": "markdown",
   "metadata": {},
   "source": [
    "The black-box test uses methods `length` and `get_item` to inspect\n",
    "the created instance.\n",
    "As such, we're also testing these methods besides `__init__`.\n",
    "\n",
    "We also test `set_item` by creating an array and checking it with `get_item`.\n",
    "I often use the sequence 0, 1, 2, ... for testing, because if a test fails\n",
    "it's easy to see which value is not at the right index."
   ]
  },
  {
   "cell_type": "markdown",
   "metadata": {
    "tags": [
     "NOTE"
    ]
   },
   "source": [
    "<div class=\"alert alert-warning\">\n",
    "<strong>Note:</strong> When testing operations on sequences, use sequences of the form (0, 1, 2, ...).\n",
    "</div>"
   ]
  },
  {
   "cell_type": "code",
   "execution_count": 9,
   "metadata": {
    "execution": {
     "iopub.execute_input": "2021-09-10T15:37:21.558444Z",
     "iopub.status.busy": "2021-09-10T15:37:21.557765Z",
     "iopub.status.idle": "2021-09-10T15:37:21.559779Z",
     "shell.execute_reply": "2021-09-10T15:37:21.560533Z"
    }
   },
   "outputs": [],
   "source": [
    "def test_set_item(length: int) -> None:\n",
    "    \"\"\"Create an array of the given length, replace all items and check it.\n",
    "\n",
    "    Preconditions: length >= 0\n",
    "    \"\"\"\n",
    "    array = StaticArray(length)\n",
    "    for index in range(length):\n",
    "        array.set_item(index, index)\n",
    "    for index in range(length):\n",
    "        check('replaced item', array.get_item(index), index, array)"
   ]
  },
  {
   "cell_type": "markdown",
   "metadata": {},
   "source": [
    "This only tests `set_item` with a homogeneous array.\n",
    "In general, you may need several test functions for one method.\n",
    "It's not unusual for test code to be longer than the code it tests.\n",
    "\n",
    "I can now test arrays of different lengths.\n",
    "The `check` function will print every array that fails a test."
   ]
  },
  {
   "cell_type": "code",
   "execution_count": 10,
   "metadata": {
    "execution": {
     "iopub.execute_input": "2021-09-10T15:37:21.565158Z",
     "iopub.status.busy": "2021-09-10T15:37:21.564422Z",
     "iopub.status.idle": "2021-09-10T15:37:21.565879Z",
     "shell.execute_reply": "2021-09-10T15:37:21.566521Z"
    }
   },
   "outputs": [],
   "source": [
    "test_init(0)    # edge case: length zero\n",
    "for length in range(1, 11):\n",
    "    test_init(length)\n",
    "    test_set_item(length)"
   ]
  },
  {
   "cell_type": "markdown",
   "metadata": {},
   "source": [
    "In testing, no news is good news."
   ]
  },
  {
   "cell_type": "markdown",
   "metadata": {
    "tags": [
     "NOTE"
    ]
   },
   "source": [
    "<div class=\"alert alert-warning\">\n",
    "<strong>Note:</strong> To black-box test a class, write one or more test functions for each\n",
    "method that creates or modifies an instance of that class,\n",
    "using the methods that inspect the instance.\n",
    "Together, the tests must use all inspection methods.\n",
    "</div>"
   ]
  },
  {
   "cell_type": "markdown",
   "metadata": {},
   "source": [
    "⟵ [Previous section](06_1_define_type.ipynb) | [Up](06-introduction.ipynb) | [Next section](06_3_develop_type.ipynb) ⟶"
   ]
  }
 ],
 "metadata": {
  "kernelspec": {
   "display_name": "Python 3",
   "language": "python",
   "name": "python3"
  },
  "language_info": {
   "codemirror_mode": {
    "name": "ipython",
    "version": 3
   },
   "file_extension": ".py",
   "mimetype": "text/x-python",
   "name": "python",
   "nbconvert_exporter": "python",
   "pygments_lexer": "ipython3",
   "version": "3.8.5"
  }
 },
 "nbformat": 4,
 "nbformat_minor": 4
}
