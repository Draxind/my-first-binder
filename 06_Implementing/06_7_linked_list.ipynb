{
 "cells": [
  {
   "cell_type": "markdown",
   "metadata": {},
   "source": [
    "## 6.7 Linked lists"
   ]
  },
  {
   "cell_type": "markdown",
   "metadata": {},
   "source": [
    "Arrays keep all data (or pointers to data) in contiguous memory to support\n",
    "constant-time access. Another approach to implementing sequences scatters the\n",
    "data over memory. There's a reason and a method to this apparent madness.\n",
    "\n",
    "A **linked list** is a chain of **nodes**, each with an element of the sequence\n",
    "(or pointer to it) and a pointer to the next node.\n",
    "The first node is called the **head** of the linked list.\n",
    "The last node has a **null pointer**, as there's no next node.\n",
    "The next figure shows a linked list with integers 0, 1 and 2.\n",
    "The X represents the null pointer and marks the end of the linked list.\n",
    "\n",
    "![The figure shows a linked list with three nodes, each depicted by a pair of boxes.\n",
    "The variable 'head' points to (i.e. has an arrow to) a pair of boxes:\n",
    "the left box has number 0; the right box has an arrow leading to\n",
    "another pair of boxes. This second pair has number 1 in the left box and\n",
    "in the right box an arrow to another pair of boxes. This third pair of boxes\n",
    "has number 2 in the left box and a cross in the right box.](06_7_ll.png)\n",
    "\n",
    "The _head_ variable refers to the first node.\n",
    "If _head_ is the null pointer, then the list is empty."
   ]
  },
  {
   "cell_type": "markdown",
   "metadata": {},
   "source": [
    "### 6.7.1 Traversing a linked list"
   ]
  },
  {
   "cell_type": "markdown",
   "metadata": {},
   "source": [
    "Assuming each node is an object with two instance variables _item_ and _next_,\n",
    "then the algorithm to traverse a linked list and process each item is:\n",
    "\n",
    "1. let _current_ be _head_\n",
    "2. while _current_ isn't the null pointer:\n",
    "   1. process _current.item_\n",
    "   2. let _current_ be _current.next_\n",
    "\n",
    "Step&nbsp;2.1 does whatever is needed for the problem at hand and\n",
    "step&nbsp;2.2 updates the reference to now refer to the next node.\n",
    "If the linked list is empty, the step&nbsp;2 condition is false and\n",
    "the loop doesn't execute.\n",
    "\n",
    "This algorithm can be adapted to access the item at a given index of the\n",
    "sequence by replacing the while-loop with a for-loop.\n",
    "This means that accessing an item takes linear time with linked lists,\n",
    "more specifically Θ(_i_) to get the item at index _i_,\n",
    "whereas with arrays it takes constant time."
   ]
  },
  {
   "cell_type": "markdown",
   "metadata": {},
   "source": [
    "### 6.7.2 Inserting an item"
   ]
  },
  {
   "cell_type": "markdown",
   "metadata": {},
   "source": [
    "The algorithm to insert an item _value_ at position _index_ is more subtle.\n",
    "Here's a description of it:\n",
    "\n",
    "> First iterate over the linked list to obtain references to\n",
    "> the nodes that will be before and after the new item.\n",
    "> The 'before' node is at position _index_ − 1;\n",
    "> the 'after' node is at position _index_.\n",
    "> Create a new node with the item to be inserted. Make\n",
    "> the 'before' node point to the new node, and the new node point to the 'after' node.\n",
    "> In this way the new node is now at position _index_ and the 'after' node\n",
    "> (and the rest of the list) has been 'pushed' one position up.\n",
    "\n",
    "To illustrate the algorithm, let's insert integer 3 in the sequence (0, 1, 2)\n",
    "at index&nbsp;2, i.e. the resulting sequence should be (0, 1, 3, 2).\n",
    "\n",
    "First we obtain references to the node at positions _index_ − 1 and _index_:\n",
    "\n",
    "1. let _before_ be _head_\n",
    "1. repeat _index_ − 1 times:\n",
    "   1. let _before_ be _before.next_\n",
    "1. let _after_ be _before.next_\n",
    "\n",
    "Next we create a new node with the item to be inserted\n",
    "but without a next node:\n",
    "\n",
    "4. let _new_ be a node with _item_ = _value_ and _next_ = null pointer\n",
    "\n",
    "For our example the situation at this stage is:\n",
    "\n",
    "![This figure shows two linked lists. The first list is the same as\n",
    "in the previous figure, with three nodes with numbers 0, 1 and 2 and\n",
    "with variable 'head' pointing to the first node with number 0.\n",
    "There are two more variables: 'before' points to the second node,\n",
    "which has number 1, and variable 'after' points to the third node,\n",
    "which has number 2. The second list has a single node pointed to by\n",
    "variable 'new'. The node has number 3 in the left box and\n",
    "a cross in the right box.](06_7_ll1.png)\n",
    "\n",
    "Finally we change the pointers to put the new node between _before_ and _after_.\n",
    "\n",
    "5. let _before.next_ be _new_\n",
    "6. let _new.next_ be _after_\n",
    "\n",
    "![The figure is the same as the previous one, but with two differences. First,\n",
    "the arrow going from the node with number 1 to the node with number 2 now\n",
    "goes to the node with number 3. Second, the cross in the node with number 3\n",
    "has been replaced with an arrow going to the node with number 2.](06_7_ll2.png)\n",
    "\n",
    "Once the algorithm knows where to insert the new item, the insertion itself\n",
    "takes constant time: no copying of values takes place.\n",
    "\n",
    "Let's check the algorithm with our test table.\n",
    "\n",
    "Case | Pre-_values_ | _index_ | Post-_values_\n",
    "-|-|-|-\n",
    "length&nbsp;0  | ( ) | 0 | ('!')\n",
    "length&nbsp;1, before  | ( 0 )  | 0  | ('!', 0)\n",
    "length&nbsp;1, after  | ( 0 )  |  1 | (0, '!')\n",
    "length&nbsp;2, before  | (0, 1)  | 0  | ('!', 0, 1)\n",
    "length&nbsp;2, middle  | (0, 1)  | 1  | (0, '!', 1)\n",
    "length&nbsp;2, after  | (0, 1)  | 2  | (0, 1, '!')\n",
    "\n",
    "For the first test case (empty sequence),\n",
    "the _head_ variable is the null pointer\n",
    "and so is _before_ after step&nbsp;1. Variable _index_ has value zero,\n",
    "so the loop is skipped, because it can't be executed minus one times.\n",
    "Step&nbsp;3 tries to access instance variable _next_ but _before_ is not pointing to a node. This kind of error is called **null pointer dereference**:\n",
    "we're trying to dereference (i.e. access the object pointed by) _before_,\n",
    "but _before_ is not a valid pointer.\n",
    "\n",
    "A quick fix to the algorithm is to move step&nbsp;4 (the creation of the new node)\n",
    "to the beginning and then handle empty and non-empty sequences separately.\n",
    "\n",
    "1. let _new_ be a node with _item_ = _value_ and _next_ = null pointer\n",
    "1. if _head_ is the null pointer:\n",
    "   1. let _head_ be _new_\n",
    "1. otherwise:\n",
    "   1. let _before_ be _head_\n",
    "   1. repeat _index_ − 1 times:\n",
    "      1. let _before_ be _before.next_\n",
    "   1. let _after_ be _before.next_\n",
    "   1. let _before.next_ be _new_\n",
    "   1. let _new.next_ be _after_\n",
    "\n",
    "Let's move on to the second test:\n",
    "inserting the item at the start of a sequence of length one.\n",
    "Is the algorithm correct for this case?\n",
    "\n",
    "___\n",
    "\n",
    "Alas, it isn't. If an item is inserted at the start, we must update the _head_\n",
    "variable to refer to the new node, but the algorithm never does so.\n",
    "\n",
    "We can fix the algorithm by treating this edge case separately.\n",
    "The current head node becomes the node after the new node,\n",
    "which in turn becomes the head node.\n",
    "\n",
    "1. let _new_ be a node with _item_ = _value_ and _next_ = null pointer\n",
    "1. if _head_ is the null pointer:\n",
    "   1. let _head_ be _new_\n",
    "1. otherwise if _index_ = 0:\n",
    "   1. let _after_ be _head_\n",
    "   2. let _head_ be _new_\n",
    "   3. let _new.next_ be _after_\n",
    "1. otherwise:\n",
    "   1. let _before_ be _head_\n",
    "   1. repeat _index_ − 1 times:\n",
    "      1. let _before_ be _before.next_\n",
    "   1. let _after_ be _before.next_\n",
    "   1. let _before.next_ be _new_\n",
    "   1. let _new.next_ be _after_\n",
    "\n",
    "\n",
    "Let's move on to the third test, which inserts the item at index one of\n",
    "a sequence of length one, i.e. it appends the item.\n",
    "Is the algorithm correct for this case?\n",
    "\n",
    "____\n",
    "\n",
    "The sequence not being empty and the index not being zero, the algorithm\n",
    "executes step&nbsp;1 and then step&nbsp;4.1, making _before_ refer to the first and only node in the linked list. The loop is repeated zero times, because _index_ = 1.\n",
    "Step&nbsp;4.3&nbsp;sets _after_ to be the null pointer. The situation is:\n",
    "\n",
    "![The figure shows two linked lists, each with one node.\n",
    "One node has the number 0 in the left box and a cross in the right box. The other\n",
    "node has an exclamation mark in the left box and a cross in the right box.\n",
    "The variable 'new' points to the second node, with the exclamation mark.\n",
    "The variables 'head' and 'before' both point to the first node, with number 0.\n",
    "Additionally, the variable 'after' points to a separate x,\n",
    "indicating that 'after' is a null pointer.](06_7_ll3.png)\n",
    "\n",
    "Step&nbsp;4.4 links the 'before' node to the new node. Step&nbsp;4.5&nbsp;has no practical\n",
    "effect, because the new node's _next_ variable is already the null pointer.\n",
    "The final situation is as follows. The algorithm correctly appends items.\n",
    "\n",
    "![This figure is like the previous one except that\n",
    "the cross in the right half of the node with number 0&nbsp;has been replaced with\n",
    "an arrow that leads to the other node, with the exclamation mark.\n",
    "The two nodes now form part of a single linked list.](06_7_ll4.png)\n",
    "\n",
    "The algorithm works when there's no node after the new node.\n",
    "This makes me realise\n",
    "that the part that handles insertions at the start (steps 3 to 3.3)\n",
    "also works for the empty list, when _head_ and _after_ are the null pointer.\n",
    "I can eliminate steps 2 and 2.1. I actually don't need variable _after_ and\n",
    "can reduce steps 3.1 to 3.3 and 4.3 to 4.5 to just two steps each.\n",
    "Here's my final algorithm:\n",
    "\n",
    "1. let _new_ be a node with _item_ = _value_ and _next_ = null pointer\n",
    "1. if _index_ = 0:\n",
    "   1. let _new.next_ be _head_\n",
    "   1. let _head_ be _new_\n",
    "1. otherwise:\n",
    "   1. let _before_ be _head_\n",
    "   1. repeat _index_ − 1 times:\n",
    "      1. let _before_ be _before.next_\n",
    "   1. let _new.next_ be _before.next_\n",
    "   1. let _before.next_ be _new_"
   ]
  },
  {
   "cell_type": "markdown",
   "metadata": {},
   "source": [
    "#### Exercise 6.7.1"
   ]
  },
  {
   "cell_type": "markdown",
   "metadata": {},
   "source": [
    "Describe an algorithm to remove the item at a given position _index_.\n",
    "\n",
    "[Hint](../31_Hints/Hints_06_7_01.ipynb)\n",
    "[Answer](../32_Answers/Answers_06_7_01.ipynb)"
   ]
  },
  {
   "cell_type": "markdown",
   "metadata": {},
   "source": [
    "### 6.7.3 The `LinkedSequence` class"
   ]
  },
  {
   "cell_type": "markdown",
   "metadata": {},
   "source": [
    "Python doesn't allow us to manipulate pointers (memory addresses)\n",
    "directly: we can only refer to objects via variables.\n",
    "The most natural choice is to represent a null pointer as\n",
    "a variable with value `None`, but any other object that hasn't got instance\n",
    "variables named 'next' and 'item' can be used: in this way\n",
    "a null pointer dereference becomes an attribute error in Python."
   ]
  },
  {
   "cell_type": "code",
   "execution_count": 1,
   "metadata": {
    "execution": {
     "iopub.execute_input": "2021-09-10T15:37:35.079225Z",
     "iopub.status.busy": "2021-09-10T15:37:35.078620Z",
     "iopub.status.idle": "2021-09-10T15:37:35.189527Z",
     "shell.execute_reply": "2021-09-10T15:37:35.190001Z"
    }
   },
   "outputs": [
    {
     "ename": "AttributeError",
     "evalue": "'NoneType' object has no attribute 'next'",
     "output_type": "error",
     "traceback": [
      "\u001b[0;31m---------------------------------------------------------------------------\u001b[0m",
      "\u001b[0;31mAttributeError\u001b[0m                            Traceback (most recent call last)",
      "\u001b[0;32m<ipython-input-1-3fcafb63fc14>\u001b[0m in \u001b[0;36m<module>\u001b[0;34m\u001b[0m\n\u001b[1;32m      1\u001b[0m \u001b[0mnode\u001b[0m \u001b[0;34m=\u001b[0m \u001b[0;32mNone\u001b[0m\u001b[0;34m\u001b[0m\u001b[0;34m\u001b[0m\u001b[0m\n\u001b[0;32m----> 2\u001b[0;31m \u001b[0mnode\u001b[0m\u001b[0;34m.\u001b[0m\u001b[0mnext\u001b[0m\u001b[0;34m\u001b[0m\u001b[0;34m\u001b[0m\u001b[0m\n\u001b[0m",
      "\u001b[0;31mAttributeError\u001b[0m: 'NoneType' object has no attribute 'next'"
     ]
    }
   ],
   "source": [
    "node = None\n",
    "node.next"
   ]
  },
  {
   "cell_type": "markdown",
   "metadata": {},
   "source": [
    "The node objects are just data: they don't have operations.\n",
    "Writing a class with two instance variables and four methods to access\n",
    "and modify the variables is overkill.\n",
    "Since nodes are only meaningful in the context of linked lists, I create\n",
    "an **inner**  `Node` class, defined within the `LinkedSequence` class, and\n",
    "let the methods of the latter access the instance variables of nodes.\n",
    "This saves us from writing four trivial methods\n",
    "while keeping nodes hidden from users of sequences.\n",
    "Since `Node` is an inner class, the constructor must be called by\n",
    "its full name: `LinkedSequence.Node(item)`.\n",
    "\n",
    "Here's the class. Most methods of `Sequence` are implemented by\n",
    "traversing the linked list as explained above."
   ]
  },
  {
   "cell_type": "code",
   "execution_count": 2,
   "metadata": {
    "execution": {
     "iopub.execute_input": "2021-09-10T15:37:35.200320Z",
     "iopub.status.busy": "2021-09-10T15:37:35.199632Z",
     "iopub.status.idle": "2021-09-10T15:37:35.203355Z",
     "shell.execute_reply": "2021-09-10T15:37:35.203938Z"
    }
   },
   "outputs": [],
   "source": [
    "%run -i ../m269_sequence\n",
    "\n",
    "import math\n",
    "\n",
    "class LinkedSequence(Sequence):\n",
    "    \"\"\"A linked list implementation of the sequence ADT.\"\"\"\n",
    "\n",
    "    class Node:\n",
    "        \"\"\"A node in a linked list.\"\"\"\n",
    "\n",
    "        def __init__(self, item: object):\n",
    "            \"\"\"Initialise the node with the given item.\"\"\"\n",
    "            self.item = item\n",
    "            self.next = None\n",
    "\n",
    "    def __init__(self):\n",
    "        \"\"\"Initialise the sequence to be empty.\"\"\"\n",
    "        self.head = None\n",
    "\n",
    "    def capacity(self) -> float:\n",
    "        return math.inf     # infinite capacity\n",
    "\n",
    "    def length(self) -> int:\n",
    "        size = 0\n",
    "        current = self.head\n",
    "        while current != None:\n",
    "            size = size + 1\n",
    "            current = current.next\n",
    "        return size\n",
    "\n",
    "    def get_item(self, index: int) -> object:\n",
    "        current = self.head\n",
    "        for times in range(index):\n",
    "            current = current.next\n",
    "        return current.item\n",
    "\n",
    "    def set_item(self, index: int, item: object) -> None:\n",
    "        current = self.head\n",
    "        for times in range(index):\n",
    "            current = current.next\n",
    "        current.item = item\n",
    "\n",
    "    def insert(self, index: int, item: object) -> None:\n",
    "        new = LinkedSequence.Node(item)\n",
    "        if index == 0:\n",
    "            new.next = self.head\n",
    "            self.head = new\n",
    "        else:\n",
    "            before = self.head\n",
    "            for times in range(index - 1):\n",
    "                before = before.next\n",
    "            new.next = before.next\n",
    "            before.next = new"
   ]
  },
  {
   "cell_type": "markdown",
   "metadata": {},
   "source": [
    "And again, let's test the operations."
   ]
  },
  {
   "cell_type": "code",
   "execution_count": 3,
   "metadata": {
    "execution": {
     "iopub.execute_input": "2021-09-10T15:37:35.209383Z",
     "iopub.status.busy": "2021-09-10T15:37:35.208758Z",
     "iopub.status.idle": "2021-09-10T15:37:35.212770Z",
     "shell.execute_reply": "2021-09-10T15:37:35.213483Z"
    }
   },
   "outputs": [
    {
     "name": "stdout",
     "output_type": "stream",
     "text": [
      "Testing length 0\n",
      "Testing length 1\n",
      "Testing length 2\n",
      "Testing length 3\n",
      "Testing length 4\n",
      "Testing length 5\n",
      "Testing length 6\n",
      "Testing length 7\n",
      "Testing length 8\n",
      "Testing length 9\n"
     ]
    }
   ],
   "source": [
    "%run -i ../m269_check\n",
    "\n",
    "test_init(LinkedSequence())\n",
    "for length in range(10):\n",
    "    print('Testing length', length)\n",
    "    test_append(LinkedSequence(), length)\n",
    "    test_insert_start(LinkedSequence(), length)\n",
    "    test_set_item(LinkedSequence(), length)"
   ]
  },
  {
   "cell_type": "markdown",
   "metadata": {},
   "source": [
    "#### Exercise 6.7.2 (optional)"
   ]
  },
  {
   "cell_type": "markdown",
   "metadata": {},
   "source": [
    "Add the remove operation to the `LinkedSequence` class and\n",
    "run the test function you wrote previously."
   ]
  },
  {
   "cell_type": "markdown",
   "metadata": {},
   "source": [
    "### 6.7.4 Linked list v. array"
   ]
  },
  {
   "cell_type": "markdown",
   "metadata": {},
   "source": [
    "The sequence ADT can be implemented with dynamic arrays and with linked lists.\n",
    "The choice depends on which operations we require to be most efficient.\n",
    "Here's a table of the complexities for some operations on sequence _s_\n",
    "and index _i_.\n",
    "\n",
    "Sequence operation | Dynamic array | Linked list\n",
    ":-|:-|:-\n",
    "get item at _i_  | Θ(1)  | Θ(_i_)\n",
    "replace item at _i_ | Θ(1)  | Θ(_i_)\n",
    "insert at _i_ = 0  | Θ(│*s*│)  | Θ(1)\n",
    "insert at _i_ = │*s*│ (append) | amortised Θ(1) | Θ(│*s*│)\n",
    "insert elsewhere  | Θ(│*s*│ − _i_) | Θ(_i_)\n",
    "\n",
    "The main advantage of arrays over linked lists is the constant-time access\n",
    "to items, whereas linked lists have to be traversed.\n",
    "Doing operations at the start of a list can be efficient,\n",
    "and we'll take advantage of that in the next chapter, because\n",
    "linked lists don't require copying items when inserting or removing one.\n",
    "Linked lists are never resized.\n",
    "They require more memory than arrays (one pointer per item),\n",
    "but dynamic arrays may also waste memory.\n",
    "\n",
    "Some operations on linked lists can become more efficient with extra data.\n",
    "The implementation above computes the length in linear time,\n",
    "by counting items while iterating over the linked list.\n",
    "It's also possible to obtain the length in constant time,\n",
    "by adding an instance variable that is initially zero and\n",
    "is incremented (or decremented) when an item is inserted (or removed),\n",
    "as done with dynamic arrays.\n",
    "This is an example of a **space–time tradeoff**:\n",
    "we are willing to increase the memory usage of a linked list object\n",
    "to reduce the run-time of an operation."
   ]
  },
  {
   "cell_type": "markdown",
   "metadata": {
    "tags": [
     "NOTE"
    ]
   },
   "source": [
    "<div class=\"alert alert-warning\">\n",
    "<strong>Note:</strong> Each data structure makes some operations more efficient than others. The best\n",
    "data structure for the problem at hand is the one that favours the operations we\n",
    "need more frequently.\n",
    "</div>"
   ]
  },
  {
   "cell_type": "markdown",
   "metadata": {},
   "source": [
    "#### Exercise 6.7.3"
   ]
  },
  {
   "cell_type": "markdown",
   "metadata": {},
   "source": [
    "How could you make the append operation take constant time on linked lists?"
   ]
  },
  {
   "cell_type": "markdown",
   "metadata": {
    "tags": [
     "ANSWER"
    ]
   },
   "source": [
    "_Write your answer here._"
   ]
  },
  {
   "cell_type": "markdown",
   "metadata": {},
   "source": [
    "[Hint](../31_Hints/Hints_06_7_03.ipynb)\n",
    "[Answer](../32_Answers/Answers_06_7_03.ipynb)"
   ]
  },
  {
   "cell_type": "markdown",
   "metadata": {},
   "source": [
    "⟵ [Previous section](06_6_use_dyn_array.ipynb) | [Up](06-introduction.ipynb) | [Next section](06_8_summary.ipynb) ⟶"
   ]
  }
 ],
 "metadata": {
  "kernelspec": {
   "display_name": "Python 3",
   "language": "python",
   "name": "python3"
  },
  "language_info": {
   "codemirror_mode": {
    "name": "ipython",
    "version": 3
   },
   "file_extension": ".py",
   "mimetype": "text/x-python",
   "name": "python",
   "nbconvert_exporter": "python",
   "pygments_lexer": "ipython3",
   "version": "3.8.5"
  }
 },
 "nbformat": 4,
 "nbformat_minor": 4
}
