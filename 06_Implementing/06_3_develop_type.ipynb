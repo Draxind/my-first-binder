{
 "cells": [
  {
   "cell_type": "markdown",
   "metadata": {},
   "source": [
    "## 6.3 Developing data types"
   ]
  },
  {
   "cell_type": "markdown",
   "metadata": {},
   "source": [
    "In the rest of this chapter I will show you how to implement the sequence ADT\n",
    "with static arrays and other data structures.\n",
    "\n",
    "A static array cannot grow, so it's convenient to distinguish\n",
    "sequences that are  **bounded**, i.e. that have a maximum length by design,\n",
    "from those that aren't.\n",
    "The length of any sequence is limited by the available memory, but bounded\n",
    "sequences have their **capacity** (maximum length) set when they're created.\n",
    "The sequence is full when its length (number of items it has) equals\n",
    "its capacity (number of items it can hold).\n",
    "When a bounded sequence is full, no item can be inserted or appended.\n",
    "A sequence with capacity zero never grows and remains empty.\n",
    "An unbounded sequence can be seen as a sequence with infinite capacity.\n",
    "\n",
    "Introducing the notion of capacity forces us to change the sequence ADT\n",
    "definition. First, we should add a function to obtain a sequence's capacity.\n",
    "Second, we must change the preconditions of the insertion and append\n",
    "operations: they aren't defined for full sequences.\n",
    "Third, for operations that produce a new sequence, like slicing and concatenation, what should the capacity of the output sequence be? For example,\n",
    "when taking a slice of length _s_ from a sequence with capacity _c_,\n",
    "should the capacity of the output sequence be _s_, _c_ or some other value?\n",
    "\n",
    "It's difficult to decide without knowing how the slice will be used.\n",
    "It's best to add the new capacity as a further input of the operation,\n",
    "so that the user can set a meaningful value for their intended use of the slice.\n",
    "The concatenation operation should also have the capacity of the output sequence as an additional input.\n",
    "Both operations need an additional precondition for the new input:\n",
    "the capacity set by the user must be at least the length of the output, otherwise the slice or the concatenation won't fit in the new sequence.\n",
    "\n",
    "To sum up, the plan to implement the sequence ADT with a static array requires\n",
    "the concept of capacity, which leads to a new operation and changes to others."
   ]
  },
  {
   "cell_type": "markdown",
   "metadata": {
    "tags": [
     "NOTE"
    ]
   },
   "source": [
    "<div class=\"alert alert-warning\">\n",
    "<strong>Note:</strong> When implementing a restricted version of an ADT,\n",
    "the definition of some operations may have to change.\n",
    "</div>"
   ]
  },
  {
   "cell_type": "markdown",
   "metadata": {},
   "source": [
    "### 6.3.1 Abstract classes"
   ]
  },
  {
   "cell_type": "markdown",
   "metadata": {},
   "source": [
    "Before we write each implementation of the sequence ADT,\n",
    "it's convenient to define the ADT itself as an **abstract class**:\n",
    "a class that won't be instantiated.\n",
    "The abstract class lists the available methods (operations),\n",
    "but doesn't implement all of them.\n",
    "Each sequence data type will be a subclass of the abstract class,\n",
    "using a particular data structure and implementing the methods.\n",
    "Each sequence object will be an instance of a subclass,\n",
    "not of the abstract class.\n",
    "\n",
    "In M269 we define an abstract class like any other class, but without\n",
    "an `__init__` method because the abstract class isn't meant to be instantiated.\n",
    "This in turn leads to most methods not being implemented,\n",
    "as there are no instance variables to access.\n",
    "The [Zen of Python](../05_TMA01-1/05_3_coding_style.ipynb#5.3-Coding-style) states that\n",
    "explicit is better than implicit, so we'll use Python's `pass` statement\n",
    "to reinforce that the method does nothing.\n",
    "\n",
    "For the new operation that returns a sequence's capacity,\n",
    "we must somehow represent infinity to handle unbounded sequences.\n",
    "Fortunately, that's easy.\n",
    "The IEEE 754&nbsp;standard that defines floating-point numbers also includes\n",
    "special values to represent positive and negative infinity.\n",
    "Python's `math` module defines the float constant `inf` for positive infinity.\n",
    "Negative infinity is simply `-inf`.\n",
    "\n",
    "Here's a partial definition of the sequence ADT in Python.\n",
    "It follows the templates that define the sequence operations in\n",
    "[Section&nbsp;4.1](../04_Iteration/04_1_sequences.ipynb#4.1-The-Sequence-ADT) and\n",
    "[Section&nbsp;4.6](../04_Iteration/04_6_lists.ipynb#4.6.1-Modifying-sequences), modified to\n",
    "take the sequence's capacity into account and use Python's syntax."
   ]
  },
  {
   "cell_type": "code",
   "execution_count": 1,
   "metadata": {
    "execution": {
     "iopub.execute_input": "2021-09-10T15:37:24.314844Z",
     "iopub.status.busy": "2021-09-10T15:37:24.314011Z",
     "iopub.status.idle": "2021-09-10T15:37:24.317391Z",
     "shell.execute_reply": "2021-09-10T15:37:24.316762Z"
    }
   },
   "outputs": [],
   "source": [
    "# this code is also in m269_sequence.py\n",
    "\n",
    "class Sequence:\n",
    "    \"\"\"The sequence ADT.\"\"\"\n",
    "\n",
    "    def capacity(self) -> float:\n",
    "        \"\"\"Return how many items the sequence can hold.\n",
    "\n",
    "        Postconditions: if the capacity is only limited by memory,\n",
    "        the output is math.inf,\n",
    "        otherwise it's the non-negative integer set at creation time\n",
    "        \"\"\"\n",
    "        pass\n",
    "\n",
    "    def length(self) -> int:\n",
    "        \"\"\"Return the number of items in the sequence.\n",
    "\n",
    "        Postconditions: 0 <= self.length() <= self.capacity()\n",
    "        \"\"\"\n",
    "        pass\n",
    "\n",
    "    def get_item(self, index: int) -> object:\n",
    "        \"\"\"Return the item at position index.\n",
    "\n",
    "        Preconditions: 0 <= index < self.length()\n",
    "        Postconditions: the output is the n-th item of self, with n = index + 1\n",
    "        \"\"\"\n",
    "        pass\n",
    "\n",
    "    def set_item(self, index: int, item: object) -> None:\n",
    "        \"\"\"Replace the item at position index with the given one.\n",
    "\n",
    "        Preconditions: 0 <= index < self.length()\n",
    "        Postconditions: post-self.get_item(index) == item\n",
    "        \"\"\"\n",
    "        pass\n",
    "\n",
    "    def insert(self, index: int, item: object) -> None:\n",
    "        \"\"\"Insert item at position index.\n",
    "\n",
    "        Preconditions: 0 <= index <= self.length() < self.capacity()\n",
    "        Postconditions: post-self is the sequence\n",
    "        pre-self.get_item(0), ..., pre-self.get_item(index - 1),\n",
    "        item, pre-self.get_item(index), ...,\n",
    "        pre-self.get_item(pre-self.length() - 1)\n",
    "        \"\"\"\n",
    "        pass\n",
    "\n",
    "    def append(self, item: object) -> None:\n",
    "        \"\"\"Add item to the end of the sequence.\n",
    "\n",
    "        Preconditions: self.length() < self.capacity()\n",
    "        Postconditions: post-self is the sequence\n",
    "        pre-self.get_item(0), ..., pre-self.get_item(pre-self.length() - 1), item\n",
    "        \"\"\"\n",
    "        self.insert(self.length(), item)\n",
    "\n",
    "    def __str__(self) -> str:\n",
    "        \"\"\"Return a string representation of the sequence.\n",
    "\n",
    "        Postconditions: the output uses Python's syntax for lists\n",
    "        \"\"\"\n",
    "        items = []\n",
    "        for index in range(self.length()):\n",
    "            items.append(self.get_item(index))\n",
    "        return str(items)"
   ]
  },
  {
   "cell_type": "markdown",
   "metadata": {},
   "source": [
    "Methods `append` and `__str__` can already be implemented because\n",
    "they don't need to access any instance variable.\n",
    "This saves us from repeatedly implementing them in each subclass because\n",
    "a subclass inherits the methods of its superclass, unless it redefines them.\n",
    "This gives subclasses of `Sequence` the flexibility\n",
    "to either use the above `append` and `__str__` methods or\n",
    "to implement a more efficient version.\n",
    "\n",
    "Note that the `__str__` method uses the `append` method of the `list` class:\n",
    "methods in different classes can have the same name."
   ]
  },
  {
   "cell_type": "markdown",
   "metadata": {},
   "source": [
    "#### Exercise 6.3.1"
   ]
  },
  {
   "cell_type": "markdown",
   "metadata": {},
   "source": [
    "Add to the `Sequence` class a `has` method that implements\n",
    "the membership operation in terms of the other operations.\n",
    "\n",
    "[Hint](../31_Hints/Hints_06_3_01.ipynb)\n",
    "[Answer](../32_Answers/Answers_06_3_01.ipynb)"
   ]
  },
  {
   "cell_type": "markdown",
   "metadata": {},
   "source": [
    "#### Exercise 6.3.2 (optional)"
   ]
  },
  {
   "cell_type": "markdown",
   "metadata": {},
   "source": [
    "Add a method header, docstring and `pass` statement for the\n",
    "[remove operation](../04_Iteration/04_6_lists.ipynb#4.6.1-Modifying-sequences).\n",
    "Later optional exercises ask you to implement the method."
   ]
  },
  {
   "cell_type": "markdown",
   "metadata": {},
   "source": [
    "### 6.3.2 Testing data types"
   ]
  },
  {
   "cell_type": "markdown",
   "metadata": {},
   "source": [
    "Having defined the methods to be implemented, we can write tests for them.\n",
    "Each test takes an empty sequence instance, created by the subclass to be\n",
    "tested, applies operations that modify the sequence and finally uses the\n",
    "operations that inspect sequences to check the result.\n",
    "\n",
    "In the following, I create a sequence of natural numbers in different ways,\n",
    "by inserting, appending and replacing items, and check the result.\n",
    "I must make sure that I don't create sequences longer than their capacity.\n",
    "\n",
    "The final argument of `check` is always the sequence being tested,\n",
    "so that it's printed if the test fails."
   ]
  },
  {
   "cell_type": "code",
   "execution_count": 2,
   "metadata": {
    "execution": {
     "iopub.execute_input": "2021-09-10T15:37:24.325831Z",
     "iopub.status.busy": "2021-09-10T15:37:24.325278Z",
     "iopub.status.idle": "2021-09-10T15:37:24.327279Z",
     "shell.execute_reply": "2021-09-10T15:37:24.328050Z"
    }
   },
   "outputs": [],
   "source": [
    "# this code is also in m269_sequence.py\n",
    "\n",
    "def test_items(test: str, items: Sequence) -> None:\n",
    "    \"\"\"Check that items is the sequence 0, 1, 2, ..., length - 1.\"\"\"\n",
    "    for index in range(items.length()):\n",
    "        check(test + ': n-th item',\n",
    "            items.get_item(index), index, items)\n",
    "    check(test + ': length <= capacity',\n",
    "          items.length() <= items.capacity(), True, items)\n",
    "\n",
    "def test_init(items: Sequence) -> None:\n",
    "    \"\"\"Check that items is the empty sequence.\"\"\"\n",
    "    check('init length', items.length(), 0, items)\n",
    "    test_items('init', items)\n",
    "\n",
    "def test_append(items: Sequence, length: int) -> None:\n",
    "    \"\"\"Check a sequence created with successive appends.\n",
    "\n",
    "    Preconditions: items is empty; 0 <= length < items.capacity()\n",
    "    \"\"\"\n",
    "    for number in range(min(length, items.capacity())):\n",
    "        items.append(number)\n",
    "    test_items('append', items)\n",
    "\n",
    "def test_insert_start(items: Sequence, length: int) -> None:\n",
    "    \"\"\"Check a sequence created by successive inserts at index 0.\n",
    "\n",
    "    Preconditions: items is empty; 0 <= length <= items.capacity()\n",
    "    \"\"\"\n",
    "    for number in range(min(length, items.capacity()) - 1, -1, -1):\n",
    "        items.insert(0, number)\n",
    "    test_items('insert at 0', items)\n",
    "\n",
    "def test_set_item(items: Sequence, length: int) -> None:\n",
    "    \"\"\"Check a sequence created by replacing all items.\n",
    "\n",
    "    Preconditions: items is empty; 0 <= length <= items.capacity()\n",
    "    \"\"\"\n",
    "    for number in range(min(length, items.capacity())):\n",
    "        items.append(None)\n",
    "    for number in range(min(length, items.capacity())):\n",
    "        items.set_item(number, number)\n",
    "    test_items('set item', items)"
   ]
  },
  {
   "cell_type": "markdown",
   "metadata": {},
   "source": [
    "We'll run the tests after implementing each subclass  of `Sequence`\n",
    "in the rest of the chapter."
   ]
  },
  {
   "cell_type": "markdown",
   "metadata": {},
   "source": [
    "#### Exercise 6.3.3"
   ]
  },
  {
   "cell_type": "markdown",
   "metadata": {},
   "source": [
    "Add to the previous code cell a test function for the membership method.\n",
    "Like the other test functions,\n",
    "it takes an empty sequence and a non-negative length, and returns nothing.\n",
    "\n",
    "After writing the function, run the cell to add your function to the file.\n",
    "\n",
    "[Hint](../31_Hints/Hints_06_3_03.ipynb)\n",
    "[Answer](../32_Answers/Answers_06_3_03.ipynb)"
   ]
  },
  {
   "cell_type": "markdown",
   "metadata": {},
   "source": [
    "#### Exercise 6.3.4 (optional)"
   ]
  },
  {
   "cell_type": "markdown",
   "metadata": {},
   "source": [
    "Add to the code cell a function to test the remove operation.\n",
    "The test function has the same inputs and output as the previous one, but\n",
    "with precondition `length > 0`: we can't remove items from an empty sequence.\n",
    "\n",
    "[Hint](../31_Hints/Hints_06_3_04.ipynb)"
   ]
  },
  {
   "cell_type": "markdown",
   "metadata": {},
   "source": [
    "⟵ [Previous section](06_2_static_array.ipynb) | [Up](06-introduction.ipynb) | [Next section](06_4_bounded.ipynb) ⟶"
   ]
  }
 ],
 "metadata": {
  "kernelspec": {
   "display_name": "Python 3",
   "language": "python",
   "name": "python3"
  },
  "language_info": {
   "codemirror_mode": {
    "name": "ipython",
    "version": 3
   },
   "file_extension": ".py",
   "mimetype": "text/x-python",
   "name": "python",
   "nbconvert_exporter": "python",
   "pygments_lexer": "ipython3",
   "version": "3.8.5"
  }
 },
 "nbformat": 4,
 "nbformat_minor": 4
}
