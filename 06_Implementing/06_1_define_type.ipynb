{
 "cells": [
  {
   "cell_type": "markdown",
   "metadata": {},
   "source": [
    "## 6.1 Defining data types"
   ]
  },
  {
   "cell_type": "markdown",
   "metadata": {},
   "source": [
    "Before looking at how to implement the sequence ADT,\n",
    "let's start with a simpler example that illustrates the difference between\n",
    "a data structure and a data type, and how to define a data type in Python.\n",
    "\n",
    "Let's suppose we want to define and implement an ADT for fractions $\\frac{x}{y}$,\n",
    "where $x$ and $y$ are integers, with $x$ being the numerator and\n",
    "$y ≠ 0$ being the denominator."
   ]
  },
  {
   "cell_type": "markdown",
   "metadata": {
    "tags": [
     "INFO"
    ]
   },
   "source": [
    "<div class=\"alert alert-info\">\n",
    "<strong>Info:</strong> MU123 Unit&nbsp;3 Section&nbsp;2 introduces fractions and their operations.\n",
    "</div>"
   ]
  },
  {
   "cell_type": "markdown",
   "metadata": {},
   "source": [
    "Programming languages have special syntax for literals of built-in\n",
    "data types, like integers and strings and other sequence types.\n",
    "However, for our own types we need to define constructor operations\n",
    "that create values of the new type from values of other types, e.g.\n",
    "like Python's constructor to create strings from integers.\n",
    "To highlight such operations,\n",
    "we shall use 'Constructor' instead of 'Function' in the template.\n",
    "Here's how two of the fraction ADT's operations could be defined.\n",
    "\n",
    "**ADT**: fraction\n",
    "\n",
    "**Constructor**: new fraction\\\n",
    "**Inputs**: _numerator_, an integer; _denominator_, an integer\\\n",
    "**Preconditions**: _denominator_ ≠ 0\\\n",
    "**Output**: _ratio_, a fraction\\\n",
    "**Postconditions**: _ratio_ = $\\frac{numerator}{denominator}$\n",
    "\n",
    "**Function**: multiplication\\\n",
    "**Inputs**: _left_, a fraction; _right_, a fraction\\\n",
    "**Preconditions**: true\\\n",
    "**Output**: _product_, a fraction\\\n",
    "**Postconditions**: if _left_ = $\\frac{ln}{ld}$ and _right_ = $\\frac{rn}{rd}$,\n",
    "then _product_ = $\\frac{ln \\times rn}{ld \\times rd}$\n",
    "\n",
    "Let's see how to implement the fraction ADT in Python."
   ]
  },
  {
   "cell_type": "markdown",
   "metadata": {},
   "source": [
    "### 6.1.1 Data structure"
   ]
  },
  {
   "cell_type": "markdown",
   "metadata": {},
   "source": [
    "The first step in implementing an ADT is to choose how to\n",
    "structure the data. A fraction is represented by two integers,\n",
    "so the obvious choice is to use a tuple or list with a pair of integers.\n",
    "A tuple is a better choice, to prevent changes to the numerator or denominator.\n",
    "Furthermore, we must state what each integer represents. It's probably\n",
    "more intuitive for the first integer of the tuple to be the numerator and\n",
    "the second to be the denominator.\n",
    "\n",
    "Data structures vary widely and we can't fit their description into a template,\n",
    "like we do for operations.\n",
    "During your professional life you may need to explain what data structures you\n",
    "use, verbally to a colleague, or in writing documentation, and so it's\n",
    "important you communicate the structure of data in plain but clear English,\n",
    "or whatever language you may use at work.\n",
    "For this example, a good description would be:\n",
    "\n",
    "> The data structure to represent a fraction is a tuple of two integers,\n",
    "> the first being the numerator and the second the non-zero denominator."
   ]
  },
  {
   "cell_type": "markdown",
   "metadata": {},
   "source": [
    "### 6.1.2 Functions"
   ]
  },
  {
   "cell_type": "markdown",
   "metadata": {},
   "source": [
    "Having decided the data structure, we can implement the operations.\n",
    "Until now we implemented each operation with a Python function,\n",
    "like the following. (I omit docstrings to keep this temporary solution short.)"
   ]
  },
  {
   "cell_type": "code",
   "execution_count": 1,
   "metadata": {
    "execution": {
     "iopub.execute_input": "2021-09-10T15:37:18.440331Z",
     "iopub.status.busy": "2021-09-10T15:37:18.439745Z",
     "iopub.status.idle": "2021-09-10T15:37:18.441753Z",
     "shell.execute_reply": "2021-09-10T15:37:18.442218Z"
    }
   },
   "outputs": [],
   "source": [
    "def fraction(numerator: int, denominator: int) -> tuple:\n",
    "    return (numerator, denominator)\n",
    "\n",
    "def multiplication(left: tuple, right: tuple) -> tuple:\n",
    "    return (left[0] * right[0], left[1] * right[1])"
   ]
  },
  {
   "cell_type": "markdown",
   "metadata": {},
   "source": [
    "We use the constructor operation to create new values,\n",
    "which are used by the other operations."
   ]
  },
  {
   "cell_type": "code",
   "execution_count": 2,
   "metadata": {
    "execution": {
     "iopub.execute_input": "2021-09-10T15:37:18.451788Z",
     "iopub.status.busy": "2021-09-10T15:37:18.450913Z",
     "iopub.status.idle": "2021-09-10T15:37:18.454310Z",
     "shell.execute_reply": "2021-09-10T15:37:18.454920Z"
    }
   },
   "outputs": [
    {
     "data": {
      "text/plain": [
       "(1, 4)"
      ]
     },
     "execution_count": 1,
     "metadata": {},
     "output_type": "execute_result"
    }
   ],
   "source": [
    "half = fraction(1, 2)\n",
    "multiplication(half, half)  # one half times one half is a quarter"
   ]
  },
  {
   "cell_type": "markdown",
   "metadata": {},
   "source": [
    "This way of implementing ADTs is unsatisfactory because\n",
    "it exposes the data structure to the user.\n",
    "This allows the user to bypass the constructor and make (by mistake) calls like"
   ]
  },
  {
   "cell_type": "code",
   "execution_count": 3,
   "metadata": {
    "execution": {
     "iopub.execute_input": "2021-09-10T15:37:18.459410Z",
     "iopub.status.busy": "2021-09-10T15:37:18.458755Z",
     "iopub.status.idle": "2021-09-10T15:37:18.461318Z",
     "shell.execute_reply": "2021-09-10T15:37:18.462044Z"
    }
   },
   "outputs": [
    {
     "data": {
      "text/plain": [
       "(1, 6)"
      ]
     },
     "execution_count": 1,
     "metadata": {},
     "output_type": "execute_result"
    }
   ],
   "source": [
    "multiplication((1, 2), (1, 3, 5))"
   ]
  },
  {
   "cell_type": "markdown",
   "metadata": {},
   "source": [
    "where the second argument doesn't represent a fraction.\n",
    "Moreover, if we change the data structure then\n",
    "the user will likely have to change their code. We need a better approach."
   ]
  },
  {
   "cell_type": "markdown",
   "metadata": {},
   "source": [
    "### 6.1.3 Classes"
   ]
  },
  {
   "cell_type": "markdown",
   "metadata": {},
   "source": [
    "A data type is a collection of values and operations on those values.\n",
    "Python and other languages have a construct to bundle together\n",
    "data and functionality: **classes**. Each class implements a data type:\n",
    "the values are the **instances** of the class and\n",
    "the operations are the class's **methods**.\n",
    "An **object** is an instance of some class, and that's why I used\n",
    "the word 'object' in templates to denote any value.\n",
    "For example, `5` and `[]` are objects: `5` is an instance of class `int` and\n",
    "`[]` is an instance of class `list`, which has methods like `pop` and `append`.\n",
    "Methods are usually directly called using the dot notation, but some are\n",
    "indirectly called via operators, like `+` for addition or concatenation."
   ]
  },
  {
   "cell_type": "markdown",
   "metadata": {
    "tags": [
     "INFO"
    ]
   },
   "source": [
    "<div class=\"alert alert-info\">\n",
    "<strong>Info:</strong> Object-oriented programming is an approach that models a software system as a\n",
    "collection of objects calling each other's methods.\n",
    "M250 explains this approach at length.\n",
    "</div>"
   ]
  },
  {
   "cell_type": "markdown",
   "metadata": {},
   "source": [
    "Every instance has some variables, called **instance variables**,\n",
    "to hold the data for that instance.\n",
    "When defining a class we define the variables for all instances of that class.\n",
    "Different instances typically have different values for their variables.\n",
    "Let me show you how to define a class in Python. I explain the code afterwards."
   ]
  },
  {
   "cell_type": "code",
   "execution_count": 4,
   "metadata": {
    "execution": {
     "iopub.execute_input": "2021-09-10T15:37:18.470271Z",
     "iopub.status.busy": "2021-09-10T15:37:18.469446Z",
     "iopub.status.idle": "2021-09-10T15:37:18.471518Z",
     "shell.execute_reply": "2021-09-10T15:37:18.472286Z"
    }
   },
   "outputs": [],
   "source": [
    "class Fraction:\n",
    "    \"\"\"A ratio represented as a pair of integers:\n",
    "    a numerator and a non-zero denominator.\n",
    "    \"\"\"\n",
    "\n",
    "    def __init__(self, numerator: int, denominator: int) -> None:\n",
    "        \"\"\"Initialise the fraction.\n",
    "\n",
    "        Preconditions: denominator != 0\n",
    "        \"\"\"\n",
    "        self.value = (numerator, denominator)\n",
    "\n",
    "    def multiplication(self, right: 'Fraction') -> 'Fraction':\n",
    "        \"\"\"Return the product of self and right.\n",
    "\n",
    "        Postconditions: if self is the fraction sn/sd and\n",
    "        right is the fraction rn/rd, then the output is fraction\n",
    "        (sn*rn) / (sd*rd)\n",
    "        \"\"\"\n",
    "        numerator = self.value[0] * right.value[0]\n",
    "        denominator = self.value[1] * right.value[1]\n",
    "        return Fraction(numerator, denominator)"
   ]
  },
  {
   "cell_type": "markdown",
   "metadata": {},
   "source": [
    "The definition of a class `C` starts with `class C:` and\n",
    "a docstring describing the data type being defined, followed by the methods,\n",
    "which are defined like any Python function.\n",
    "All methods are indented: they are 'within' the class.\n",
    "The name of a class reflects what each instance represents, so\n",
    "it's usually in the singular.\n",
    "The names of built-in classes are usually in lowercase,\n",
    "but the names of classes we define should use capitalised words\n",
    "without underscores to separate them, e.g. `FractionalNumber`.\n",
    "\n",
    "In M269, each class must have a method named `__init__`,\n",
    "with two underscores at the start and at the end.\n",
    "This method takes as first argument an instance of the class,\n",
    "conventionally called `self`, and possibly additional arguments with data to\n",
    "initialise that instance: here, the numerator and denominator of the fraction.\n",
    "The body of the method creates the instance variables,\n",
    "using dot notation to indicate that these variables 'belong' to the instance.\n",
    "For every instance variable `x` there's an assignment to `self.x`.\n",
    "In this example, I create an instance variable `value` that holds the\n",
    "tuple with the two integers passed to the method.\n",
    "\n",
    "Each built-in class, like `range` and `list`, has a constructor: a function\n",
    "with the same name as the class to create instances of that class.\n",
    "The Python interpreter automatically defines a constructor for every class\n",
    "we define, with the same arguments as method `__init__`, except for `self`.\n",
    "For this example, the interpreter creates a constructor `Function`\n",
    "with two arguments, which we use to create new fractions."
   ]
  },
  {
   "cell_type": "code",
   "execution_count": 5,
   "metadata": {
    "execution": {
     "iopub.execute_input": "2021-09-10T15:37:18.476838Z",
     "iopub.status.busy": "2021-09-10T15:37:18.476119Z",
     "iopub.status.idle": "2021-09-10T15:37:18.477865Z",
     "shell.execute_reply": "2021-09-10T15:37:18.478514Z"
    }
   },
   "outputs": [],
   "source": [
    "one_half = Fraction(1, 2)"
   ]
  },
  {
   "cell_type": "markdown",
   "metadata": {},
   "source": [
    "When we call the constructor, the interpreter creates an 'empty' instance,\n",
    "without any data, and passes it as the first argument to `__init__`,\n",
    "which creates the instance variables and assigns values to them.\n",
    "The constructor (not the `__init__` method!) then returns the instance:\n",
    "that's why there are no return statements in the `__init__` method.\n",
    "\n",
    "We can use the `help` function to obtain information about any class.\n",
    "Some of the information is of no relevance to M269."
   ]
  },
  {
   "cell_type": "code",
   "execution_count": 6,
   "metadata": {
    "execution": {
     "iopub.execute_input": "2021-09-10T15:37:18.483741Z",
     "iopub.status.busy": "2021-09-10T15:37:18.482851Z",
     "iopub.status.idle": "2021-09-10T15:37:18.485701Z",
     "shell.execute_reply": "2021-09-10T15:37:18.486540Z"
    }
   },
   "outputs": [
    {
     "name": "stdout",
     "output_type": "stream",
     "text": [
      "Help on class Fraction in module __main__:\n",
      "\n",
      "class Fraction(builtins.object)\n",
      " |  Fraction(numerator: int, denominator: int) -> None\n",
      " |  \n",
      " |  A ratio represented as a pair of integers:\n",
      " |  a numerator and a non-zero denominator.\n",
      " |  \n",
      " |  Methods defined here:\n",
      " |  \n",
      " |  __init__(self, numerator: int, denominator: int) -> None\n",
      " |      Initialise the fraction.\n",
      " |      \n",
      " |      Preconditions: denominator != 0\n",
      " |  \n",
      " |  multiplication(self, right: 'Fraction') -> 'Fraction'\n",
      " |      Return the product of self and right.\n",
      " |      \n",
      " |      Postconditions: if self is the fraction sn/sd and\n",
      " |      right is the fraction rn/rd, then the output is fraction\n",
      " |      (sn*rn) / (sd*rd)\n",
      " |  \n",
      " |  ----------------------------------------------------------------------\n",
      " |  Data descriptors defined here:\n",
      " |  \n",
      " |  __dict__\n",
      " |      dictionary for instance variables (if defined)\n",
      " |  \n",
      " |  __weakref__\n",
      " |      list of weak references to the object (if defined)\n",
      "\n"
     ]
    }
   ],
   "source": [
    "help(Fraction)"
   ]
  },
  {
   "cell_type": "markdown",
   "metadata": {},
   "source": [
    "The `help` function copied the header of the `__init__` method\n",
    "for the constructor. This gives the erroneous impression that\n",
    "the constructor doesn't return anything. As an exception to the rule,\n",
    "from now on we won't indicate the return type of the `__init__` method.\n",
    "\n",
    "Methods are called with dot notation.\n",
    "The interpreter looks up the class of the object to the\n",
    "left of the dot and calls the method defined in that class.\n",
    "The first argument of every method is therefore\n",
    "an instance of the class being defined.\n",
    "We conventionally call it `self` and don't indicate explicitly its type,\n",
    "which is `Fraction` in this example.\n",
    "Here's an example of calling a method."
   ]
  },
  {
   "cell_type": "code",
   "execution_count": 7,
   "metadata": {
    "execution": {
     "iopub.execute_input": "2021-09-10T15:37:18.490914Z",
     "iopub.status.busy": "2021-09-10T15:37:18.490357Z",
     "iopub.status.idle": "2021-09-10T15:37:18.492807Z",
     "shell.execute_reply": "2021-09-10T15:37:18.493484Z"
    }
   },
   "outputs": [
    {
     "data": {
      "text/plain": [
       "<__main__.Fraction at 0x7ff4ddf4b070>"
      ]
     },
     "execution_count": 1,
     "metadata": {},
     "output_type": "execute_result"
    }
   ],
   "source": [
    "one_half.multiplication(one_half)"
   ]
  },
  {
   "cell_type": "markdown",
   "metadata": {},
   "source": [
    "Unfortunately, the output message is not very useful.\n",
    "The interpreter shows the class and unique id of the resulting object.\n",
    "The id is an integer, shown here in hexadecimal notation.\n",
    "Printing the fraction doesn't help either."
   ]
  },
  {
   "cell_type": "code",
   "execution_count": 8,
   "metadata": {
    "execution": {
     "iopub.execute_input": "2021-09-10T15:37:18.497494Z",
     "iopub.status.busy": "2021-09-10T15:37:18.496738Z",
     "iopub.status.idle": "2021-09-10T15:37:18.499090Z",
     "shell.execute_reply": "2021-09-10T15:37:18.499711Z"
    }
   },
   "outputs": [
    {
     "name": "stdout",
     "output_type": "stream",
     "text": [
      "<__main__.Fraction object at 0x7ff4ddf4bca0>\n"
     ]
    }
   ],
   "source": [
    "print(one_half.multiplication(one_half))"
   ]
  },
  {
   "cell_type": "markdown",
   "metadata": {},
   "source": [
    "If we want to see the value of an instance in a meaningful way,\n",
    "we have to implement a method `__str__`\n",
    "(again, two underscores before and after) that returns a string.\n",
    "The `print` function calls the `str` constructor on each object it prints,\n",
    "which in turn calls the `__str__` method on that object.\n",
    "\n",
    "Here's the class again, with the additional method and without indicating\n",
    "the return type for the initialisation method."
   ]
  },
  {
   "cell_type": "code",
   "execution_count": 9,
   "metadata": {
    "execution": {
     "iopub.execute_input": "2021-09-10T15:37:18.506629Z",
     "iopub.status.busy": "2021-09-10T15:37:18.505743Z",
     "iopub.status.idle": "2021-09-10T15:37:18.507735Z",
     "shell.execute_reply": "2021-09-10T15:37:18.508428Z"
    }
   },
   "outputs": [],
   "source": [
    "class Fraction:\n",
    "    \"\"\"A number represented as a pair of integers:\n",
    "    a numerator and a non-zero denominator.\n",
    "    \"\"\"\n",
    "\n",
    "    def __init__(self, numerator: int, denominator: int):\n",
    "        \"\"\"Initialise the fraction.\n",
    "\n",
    "        Preconditions: denominator != 0\n",
    "        \"\"\"\n",
    "        self.value = (numerator, denominator)\n",
    "\n",
    "    def multiplication(self, right: 'Fraction') -> 'Fraction':\n",
    "        \"\"\"Return the product of self and right.\n",
    "\n",
    "        Postconditions: if self is the fraction sn/sd and\n",
    "        right is the fraction rn/rd, then the output is fraction\n",
    "        (sn*rn) / (sd * rd)\n",
    "        \"\"\"\n",
    "        numerator = self.value[0] * right.value[0]\n",
    "        denominator = self.value[1] * right.value[1]\n",
    "        return Fraction(numerator, denominator)\n",
    "\n",
    "    def __str__(self) -> str:\n",
    "        \"\"\"Return a string representation of the fraction.\"\"\"\n",
    "        return str(self.value[0]) + ' / ' + str(self.value[1])"
   ]
  },
  {
   "cell_type": "markdown",
   "metadata": {},
   "source": [
    "Now we can see the value of a fraction:"
   ]
  },
  {
   "cell_type": "code",
   "execution_count": 10,
   "metadata": {
    "execution": {
     "iopub.execute_input": "2021-09-10T15:37:18.512352Z",
     "iopub.status.busy": "2021-09-10T15:37:18.511627Z",
     "iopub.status.idle": "2021-09-10T15:37:18.514050Z",
     "shell.execute_reply": "2021-09-10T15:37:18.514711Z"
    }
   },
   "outputs": [
    {
     "data": {
      "text/plain": [
       "<__main__.Fraction at 0x7ff4ddf6f4c0>"
      ]
     },
     "execution_count": 1,
     "metadata": {},
     "output_type": "execute_result"
    }
   ],
   "source": [
    "ONE_HALF = Fraction(1, 2)\n",
    "ONE_QUARTER = ONE_HALF.multiplication(ONE_HALF)\n",
    "ONE_QUARTER         # display class and unique id"
   ]
  },
  {
   "cell_type": "code",
   "execution_count": 11,
   "metadata": {
    "execution": {
     "iopub.execute_input": "2021-09-10T15:37:18.519425Z",
     "iopub.status.busy": "2021-09-10T15:37:18.518657Z",
     "iopub.status.idle": "2021-09-10T15:37:18.522116Z",
     "shell.execute_reply": "2021-09-10T15:37:18.522799Z"
    }
   },
   "outputs": [
    {
     "name": "stdout",
     "output_type": "stream",
     "text": [
      "1 / 4\n"
     ]
    },
    {
     "data": {
      "text/plain": [
       "'1 / 4'"
      ]
     },
     "execution_count": 1,
     "metadata": {},
     "output_type": "execute_result"
    }
   ],
   "source": [
    "print(ONE_QUARTER)\n",
    "str(ONE_QUARTER)"
   ]
  },
  {
   "cell_type": "markdown",
   "metadata": {},
   "source": [
    "### 6.1.4 Mistakes"
   ]
  },
  {
   "cell_type": "markdown",
   "metadata": {},
   "source": [
    "Whenever you change a class you must rerun code cells that create instances:\n",
    "otherwise they remain instances of the old version of the class. Consider this:"
   ]
  },
  {
   "cell_type": "code",
   "execution_count": 12,
   "metadata": {
    "execution": {
     "iopub.execute_input": "2021-09-10T15:37:18.527003Z",
     "iopub.status.busy": "2021-09-10T15:37:18.526189Z",
     "iopub.status.idle": "2021-09-10T15:37:18.528757Z",
     "shell.execute_reply": "2021-09-10T15:37:18.529532Z"
    }
   },
   "outputs": [
    {
     "name": "stdout",
     "output_type": "stream",
     "text": [
      "(1, 2)\n",
      "<__main__.Fraction object at 0x7ff4ddf4b8e0>\n",
      "1 / 2\n"
     ]
    }
   ],
   "source": [
    "print(half)         # created with fraction(1, 2); instance of tuple\n",
    "print(one_half)     # created with first version of Fraction class\n",
    "print(ONE_HALF)     # created with second version of Fraction class"
   ]
  },
  {
   "cell_type": "markdown",
   "metadata": {},
   "source": [
    "Unless you have rerun cells in a different order,\n",
    "the middle output of the cell above isn't '1 / 2', because `one_half`\n",
    "was created with the constructor for the class without the `__str__` method.\n",
    "\n",
    "The name of a class becomes known only _after_ processing the class definition.\n",
    "If we need to use the class name in the header of a method, then we must write it\n",
    "as a string, as I've done for the `multiplication` method.\n",
    "This irritating workaround will become unnecessary in Python&nbsp;3.10.\n",
    "If you forget the string quotes you get a name error."
   ]
  },
  {
   "cell_type": "code",
   "execution_count": 13,
   "metadata": {
    "execution": {
     "iopub.execute_input": "2021-09-10T15:37:18.534654Z",
     "iopub.status.busy": "2021-09-10T15:37:18.533837Z",
     "iopub.status.idle": "2021-09-10T15:37:18.656993Z",
     "shell.execute_reply": "2021-09-10T15:37:18.657591Z"
    }
   },
   "outputs": [
    {
     "ename": "NameError",
     "evalue": "name 'Date' is not defined",
     "output_type": "error",
     "traceback": [
      "\u001b[0;31m---------------------------------------------------------------------------\u001b[0m",
      "\u001b[0;31mNameError\u001b[0m                                 Traceback (most recent call last)",
      "\u001b[0;32m<ipython-input-1-16f16f58b056>\u001b[0m in \u001b[0;36m<module>\u001b[0;34m\u001b[0m\n\u001b[0;32m----> 1\u001b[0;31m \u001b[0;32mclass\u001b[0m \u001b[0mDate\u001b[0m\u001b[0;34m:\u001b[0m\u001b[0;34m\u001b[0m\u001b[0;34m\u001b[0m\u001b[0m\n\u001b[0m\u001b[1;32m      2\u001b[0m     \u001b[0;31m# docstrings and __init__ omitted to focus on the issue at hand\u001b[0m\u001b[0;34m\u001b[0m\u001b[0;34m\u001b[0m\u001b[0;34m\u001b[0m\u001b[0m\n\u001b[1;32m      3\u001b[0m \u001b[0;34m\u001b[0m\u001b[0m\n\u001b[1;32m      4\u001b[0m     \u001b[0;32mdef\u001b[0m \u001b[0mdifference\u001b[0m\u001b[0;34m(\u001b[0m\u001b[0mself\u001b[0m\u001b[0;34m,\u001b[0m \u001b[0mother\u001b[0m\u001b[0;34m:\u001b[0m \u001b[0mDate\u001b[0m\u001b[0;34m)\u001b[0m \u001b[0;34m->\u001b[0m \u001b[0mint\u001b[0m\u001b[0;34m:\u001b[0m\u001b[0;34m\u001b[0m\u001b[0;34m\u001b[0m\u001b[0m\n\u001b[1;32m      5\u001b[0m         \u001b[0;34m\"\"\"Return number of days between two dates.\"\"\"\u001b[0m\u001b[0;34m\u001b[0m\u001b[0;34m\u001b[0m\u001b[0m\n",
      "\u001b[0;32m<ipython-input-1-16f16f58b056>\u001b[0m in \u001b[0;36mDate\u001b[0;34m()\u001b[0m\n\u001b[1;32m      2\u001b[0m     \u001b[0;31m# docstrings and __init__ omitted to focus on the issue at hand\u001b[0m\u001b[0;34m\u001b[0m\u001b[0;34m\u001b[0m\u001b[0;34m\u001b[0m\u001b[0m\n\u001b[1;32m      3\u001b[0m \u001b[0;34m\u001b[0m\u001b[0m\n\u001b[0;32m----> 4\u001b[0;31m     \u001b[0;32mdef\u001b[0m \u001b[0mdifference\u001b[0m\u001b[0;34m(\u001b[0m\u001b[0mself\u001b[0m\u001b[0;34m,\u001b[0m \u001b[0mother\u001b[0m\u001b[0;34m:\u001b[0m \u001b[0mDate\u001b[0m\u001b[0;34m)\u001b[0m \u001b[0;34m->\u001b[0m \u001b[0mint\u001b[0m\u001b[0;34m:\u001b[0m\u001b[0;34m\u001b[0m\u001b[0;34m\u001b[0m\u001b[0m\n\u001b[0m\u001b[1;32m      5\u001b[0m         \u001b[0;34m\"\"\"Return number of days between two dates.\"\"\"\u001b[0m\u001b[0;34m\u001b[0m\u001b[0;34m\u001b[0m\u001b[0m\n\u001b[1;32m      6\u001b[0m         \u001b[0;32mreturn\u001b[0m \u001b[0;36m0\u001b[0m    \u001b[0;31m# dummy code\u001b[0m\u001b[0;34m\u001b[0m\u001b[0;34m\u001b[0m\u001b[0m\n",
      "\u001b[0;31mNameError\u001b[0m: name 'Date' is not defined"
     ]
    }
   ],
   "source": [
    "class Date:\n",
    "    # docstrings and __init__ omitted to focus on the issue at hand\n",
    "\n",
    "    def difference(self, other: Date) -> int:\n",
    "        \"\"\"Return number of days between two dates.\"\"\"\n",
    "        return 0    # dummy code"
   ]
  },
  {
   "cell_type": "markdown",
   "metadata": {},
   "source": [
    "As explained in [Section&nbsp;4.6.4](../04_Iteration/04_6_lists.ipynb#4.6.4-Modifying-lists),\n",
    "method names are only known in the context of their class. Calling a method\n",
    "as if it were a standalone function usually raises a name error."
   ]
  },
  {
   "cell_type": "code",
   "execution_count": 14,
   "metadata": {
    "execution": {
     "iopub.execute_input": "2021-09-10T15:37:18.661109Z",
     "iopub.status.busy": "2021-09-10T15:37:18.660558Z",
     "iopub.status.idle": "2021-09-10T15:37:18.666257Z",
     "shell.execute_reply": "2021-09-10T15:37:18.665768Z"
    }
   },
   "outputs": [
    {
     "ename": "NameError",
     "evalue": "name '__str__' is not defined",
     "output_type": "error",
     "traceback": [
      "\u001b[0;31m---------------------------------------------------------------------------\u001b[0m",
      "\u001b[0;31mNameError\u001b[0m                                 Traceback (most recent call last)",
      "\u001b[0;32m<ipython-input-1-f7834358390e>\u001b[0m in \u001b[0;36m<module>\u001b[0;34m\u001b[0m\n\u001b[0;32m----> 1\u001b[0;31m \u001b[0m__str__\u001b[0m\u001b[0;34m(\u001b[0m\u001b[0mONE_QUARTER\u001b[0m\u001b[0;34m)\u001b[0m\u001b[0;34m\u001b[0m\u001b[0;34m\u001b[0m\u001b[0m\n\u001b[0m",
      "\u001b[0;31mNameError\u001b[0m: name '__str__' is not defined"
     ]
    }
   ],
   "source": [
    "__str__(ONE_QUARTER)"
   ]
  },
  {
   "cell_type": "code",
   "execution_count": 15,
   "metadata": {
    "execution": {
     "iopub.execute_input": "2021-09-10T15:37:18.669493Z",
     "iopub.status.busy": "2021-09-10T15:37:18.668748Z",
     "iopub.status.idle": "2021-09-10T15:37:18.671294Z",
     "shell.execute_reply": "2021-09-10T15:37:18.671959Z"
    }
   },
   "outputs": [
    {
     "data": {
      "text/plain": [
       "'1 / 4'"
      ]
     },
     "execution_count": 1,
     "metadata": {},
     "output_type": "execute_result"
    }
   ],
   "source": [
    "ONE_QUARTER.__str__()"
   ]
  },
  {
   "cell_type": "markdown",
   "metadata": {},
   "source": [
    "However, if a standalone function of the same name exists,\n",
    "the interpreter will call that one."
   ]
  },
  {
   "cell_type": "code",
   "execution_count": 16,
   "metadata": {
    "execution": {
     "iopub.execute_input": "2021-09-10T15:37:18.675192Z",
     "iopub.status.busy": "2021-09-10T15:37:18.674526Z",
     "iopub.status.idle": "2021-09-10T15:37:18.682706Z",
     "shell.execute_reply": "2021-09-10T15:37:18.683235Z"
    }
   },
   "outputs": [
    {
     "ename": "TypeError",
     "evalue": "'Fraction' object is not subscriptable",
     "output_type": "error",
     "traceback": [
      "\u001b[0;31m---------------------------------------------------------------------------\u001b[0m",
      "\u001b[0;31mTypeError\u001b[0m                                 Traceback (most recent call last)",
      "\u001b[0;32m<ipython-input-1-c46de4ed446f>\u001b[0m in \u001b[0;36m<module>\u001b[0;34m\u001b[0m\n\u001b[0;32m----> 1\u001b[0;31m \u001b[0mmultiplication\u001b[0m\u001b[0;34m(\u001b[0m\u001b[0mONE_HALF\u001b[0m\u001b[0;34m,\u001b[0m \u001b[0mONE_HALF\u001b[0m\u001b[0;34m)\u001b[0m\u001b[0;34m\u001b[0m\u001b[0;34m\u001b[0m\u001b[0m\n\u001b[0m",
      "\u001b[0;32m<ipython-input-1-2c9e9afa4f1e>\u001b[0m in \u001b[0;36mmultiplication\u001b[0;34m(left, right)\u001b[0m\n\u001b[1;32m      3\u001b[0m \u001b[0;34m\u001b[0m\u001b[0m\n\u001b[1;32m      4\u001b[0m \u001b[0;32mdef\u001b[0m \u001b[0mmultiplication\u001b[0m\u001b[0;34m(\u001b[0m\u001b[0mleft\u001b[0m\u001b[0;34m:\u001b[0m \u001b[0mtuple\u001b[0m\u001b[0;34m,\u001b[0m \u001b[0mright\u001b[0m\u001b[0;34m:\u001b[0m \u001b[0mtuple\u001b[0m\u001b[0;34m)\u001b[0m \u001b[0;34m->\u001b[0m \u001b[0mtuple\u001b[0m\u001b[0;34m:\u001b[0m\u001b[0;34m\u001b[0m\u001b[0;34m\u001b[0m\u001b[0m\n\u001b[0;32m----> 5\u001b[0;31m     \u001b[0;32mreturn\u001b[0m \u001b[0;34m(\u001b[0m\u001b[0mleft\u001b[0m\u001b[0;34m[\u001b[0m\u001b[0;36m0\u001b[0m\u001b[0;34m]\u001b[0m \u001b[0;34m*\u001b[0m \u001b[0mright\u001b[0m\u001b[0;34m[\u001b[0m\u001b[0;36m0\u001b[0m\u001b[0;34m]\u001b[0m\u001b[0;34m,\u001b[0m \u001b[0mleft\u001b[0m\u001b[0;34m[\u001b[0m\u001b[0;36m1\u001b[0m\u001b[0;34m]\u001b[0m \u001b[0;34m*\u001b[0m \u001b[0mright\u001b[0m\u001b[0;34m[\u001b[0m\u001b[0;36m1\u001b[0m\u001b[0;34m]\u001b[0m\u001b[0;34m)\u001b[0m\u001b[0;34m\u001b[0m\u001b[0;34m\u001b[0m\u001b[0m\n\u001b[0m",
      "\u001b[0;31mTypeError\u001b[0m: 'Fraction' object is not subscriptable"
     ]
    }
   ],
   "source": [
    "multiplication(ONE_HALF, ONE_HALF)"
   ]
  },
  {
   "cell_type": "markdown",
   "metadata": {},
   "source": [
    "We get a type error because the indexing operation is not defined on fractions.\n",
    "The standalone function expects two tuples, not two fractions.\n",
    "`Fraction` and `tuple` are different types,\n",
    "even though `Fraction` has an instance variable of type `tuple`.\n",
    "\n",
    "Likewise, I cannot pass a tuple to a method expecting a fraction."
   ]
  },
  {
   "cell_type": "code",
   "execution_count": 17,
   "metadata": {
    "execution": {
     "iopub.execute_input": "2021-09-10T15:37:18.686427Z",
     "iopub.status.busy": "2021-09-10T15:37:18.685728Z",
     "iopub.status.idle": "2021-09-10T15:37:18.693313Z",
     "shell.execute_reply": "2021-09-10T15:37:18.693898Z"
    }
   },
   "outputs": [
    {
     "ename": "AttributeError",
     "evalue": "'tuple' object has no attribute 'value'",
     "output_type": "error",
     "traceback": [
      "\u001b[0;31m---------------------------------------------------------------------------\u001b[0m",
      "\u001b[0;31mAttributeError\u001b[0m                            Traceback (most recent call last)",
      "\u001b[0;32m<ipython-input-1-49bcb4db65ab>\u001b[0m in \u001b[0;36m<module>\u001b[0;34m\u001b[0m\n\u001b[0;32m----> 1\u001b[0;31m \u001b[0mone_half\u001b[0m\u001b[0;34m.\u001b[0m\u001b[0mmultiplication\u001b[0m\u001b[0;34m(\u001b[0m \u001b[0;34m(\u001b[0m\u001b[0;36m1\u001b[0m\u001b[0;34m,\u001b[0m \u001b[0;36m2\u001b[0m\u001b[0;34m)\u001b[0m \u001b[0;34m)\u001b[0m\u001b[0;34m\u001b[0m\u001b[0;34m\u001b[0m\u001b[0m\n\u001b[0m",
      "\u001b[0;32m<ipython-input-1-cc8a953852a8>\u001b[0m in \u001b[0;36mmultiplication\u001b[0;34m(self, right)\u001b[0m\n\u001b[1;32m     18\u001b[0m         \u001b[0;34m(\u001b[0m\u001b[0msn\u001b[0m\u001b[0;34m*\u001b[0m\u001b[0mrn\u001b[0m\u001b[0;34m)\u001b[0m \u001b[0;34m/\u001b[0m \u001b[0;34m(\u001b[0m\u001b[0msd\u001b[0m\u001b[0;34m*\u001b[0m\u001b[0mrd\u001b[0m\u001b[0;34m)\u001b[0m\u001b[0;34m\u001b[0m\u001b[0;34m\u001b[0m\u001b[0m\n\u001b[1;32m     19\u001b[0m         \"\"\"\n\u001b[0;32m---> 20\u001b[0;31m         \u001b[0mnumerator\u001b[0m \u001b[0;34m=\u001b[0m \u001b[0mself\u001b[0m\u001b[0;34m.\u001b[0m\u001b[0mvalue\u001b[0m\u001b[0;34m[\u001b[0m\u001b[0;36m0\u001b[0m\u001b[0;34m]\u001b[0m \u001b[0;34m*\u001b[0m \u001b[0mright\u001b[0m\u001b[0;34m.\u001b[0m\u001b[0mvalue\u001b[0m\u001b[0;34m[\u001b[0m\u001b[0;36m0\u001b[0m\u001b[0;34m]\u001b[0m\u001b[0;34m\u001b[0m\u001b[0;34m\u001b[0m\u001b[0m\n\u001b[0m\u001b[1;32m     21\u001b[0m         \u001b[0mdenominator\u001b[0m \u001b[0;34m=\u001b[0m \u001b[0mself\u001b[0m\u001b[0;34m.\u001b[0m\u001b[0mvalue\u001b[0m\u001b[0;34m[\u001b[0m\u001b[0;36m1\u001b[0m\u001b[0;34m]\u001b[0m \u001b[0;34m*\u001b[0m \u001b[0mright\u001b[0m\u001b[0;34m.\u001b[0m\u001b[0mvalue\u001b[0m\u001b[0;34m[\u001b[0m\u001b[0;36m1\u001b[0m\u001b[0;34m]\u001b[0m\u001b[0;34m\u001b[0m\u001b[0;34m\u001b[0m\u001b[0m\n\u001b[1;32m     22\u001b[0m         \u001b[0;32mreturn\u001b[0m \u001b[0mFraction\u001b[0m\u001b[0;34m(\u001b[0m\u001b[0mnumerator\u001b[0m\u001b[0;34m,\u001b[0m \u001b[0mdenominator\u001b[0m\u001b[0;34m)\u001b[0m\u001b[0;34m\u001b[0m\u001b[0;34m\u001b[0m\u001b[0m\n",
      "\u001b[0;31mAttributeError\u001b[0m: 'tuple' object has no attribute 'value'"
     ]
    }
   ],
   "source": [
    "one_half.multiplication( (1, 2) )"
   ]
  },
  {
   "cell_type": "markdown",
   "metadata": {},
   "source": [
    "I get a special case of a name error: the interpreter is complaining that\n",
    "tuples don't have an instance variable named `value`.\n",
    "In Python, the instance variables and methods are a class's **attributes**.\n",
    "If you have two attributes with the same name, e.g.\n",
    "an instance variable and a method, you will get errors.\n",
    "In the following incomplete example of a class for dates (day, month, year),\n",
    "the name `day` refers both to an integer instance variable and a method."
   ]
  },
  {
   "cell_type": "code",
   "execution_count": 18,
   "metadata": {
    "execution": {
     "iopub.execute_input": "2021-09-10T15:37:18.696928Z",
     "iopub.status.busy": "2021-09-10T15:37:18.696430Z",
     "iopub.status.idle": "2021-09-10T15:37:18.698288Z",
     "shell.execute_reply": "2021-09-10T15:37:18.698925Z"
    }
   },
   "outputs": [],
   "source": [
    "class Date:\n",
    "\n",
    "    def __init__(self):\n",
    "        self.day = 1\n",
    "\n",
    "    def day(self) -> int:\n",
    "        return self.day"
   ]
  },
  {
   "cell_type": "markdown",
   "metadata": {},
   "source": [
    "We can access the instance variable..."
   ]
  },
  {
   "cell_type": "code",
   "execution_count": 19,
   "metadata": {
    "execution": {
     "iopub.execute_input": "2021-09-10T15:37:18.702039Z",
     "iopub.status.busy": "2021-09-10T15:37:18.701348Z",
     "iopub.status.idle": "2021-09-10T15:37:18.704307Z",
     "shell.execute_reply": "2021-09-10T15:37:18.704860Z"
    }
   },
   "outputs": [
    {
     "data": {
      "text/plain": [
       "1"
      ]
     },
     "execution_count": 1,
     "metadata": {},
     "output_type": "execute_result"
    }
   ],
   "source": [
    "Date().day"
   ]
  },
  {
   "cell_type": "markdown",
   "metadata": {},
   "source": [
    "...but not call the method."
   ]
  },
  {
   "cell_type": "code",
   "execution_count": 20,
   "metadata": {
    "execution": {
     "iopub.execute_input": "2021-09-10T15:37:18.708138Z",
     "iopub.status.busy": "2021-09-10T15:37:18.707462Z",
     "iopub.status.idle": "2021-09-10T15:37:18.712818Z",
     "shell.execute_reply": "2021-09-10T15:37:18.713540Z"
    }
   },
   "outputs": [
    {
     "ename": "TypeError",
     "evalue": "'int' object is not callable",
     "output_type": "error",
     "traceback": [
      "\u001b[0;31m---------------------------------------------------------------------------\u001b[0m",
      "\u001b[0;31mTypeError\u001b[0m                                 Traceback (most recent call last)",
      "\u001b[0;32m<ipython-input-1-d2c07fa50322>\u001b[0m in \u001b[0;36m<module>\u001b[0;34m\u001b[0m\n\u001b[0;32m----> 1\u001b[0;31m \u001b[0mDate\u001b[0m\u001b[0;34m(\u001b[0m\u001b[0;34m)\u001b[0m\u001b[0;34m.\u001b[0m\u001b[0mday\u001b[0m\u001b[0;34m(\u001b[0m\u001b[0;34m)\u001b[0m\u001b[0;34m\u001b[0m\u001b[0;34m\u001b[0m\u001b[0m\n\u001b[0m",
      "\u001b[0;31mTypeError\u001b[0m: 'int' object is not callable"
     ]
    }
   ],
   "source": [
    "Date().day()"
   ]
  },
  {
   "cell_type": "markdown",
   "metadata": {},
   "source": [
    "As the above example shows, Python doesn't prevent users of a class from\n",
    "accessing its instance variables. Here's another example."
   ]
  },
  {
   "cell_type": "code",
   "execution_count": 21,
   "metadata": {
    "execution": {
     "iopub.execute_input": "2021-09-10T15:37:18.717578Z",
     "iopub.status.busy": "2021-09-10T15:37:18.716944Z",
     "iopub.status.idle": "2021-09-10T15:37:18.718808Z",
     "shell.execute_reply": "2021-09-10T15:37:18.719329Z"
    }
   },
   "outputs": [
    {
     "name": "stdout",
     "output_type": "stream",
     "text": [
      "1 / 2 is positive and smaller than 1\n"
     ]
    }
   ],
   "source": [
    "if 0 < ONE_HALF.value[0] < ONE_HALF.value[1]:\n",
    "    print(ONE_HALF, 'is positive and smaller than 1')"
   ]
  },
  {
   "cell_type": "markdown",
   "metadata": {},
   "source": [
    "This code relies on a particular instance variable name and data structure\n",
    "for representing fractions. If either changes, the code won't work.\n",
    "For example, imagine we replace the tuple with two integer instance variables:"
   ]
  },
  {
   "cell_type": "code",
   "execution_count": 22,
   "metadata": {
    "execution": {
     "iopub.execute_input": "2021-09-10T15:37:18.724125Z",
     "iopub.status.busy": "2021-09-10T15:37:18.723079Z",
     "iopub.status.idle": "2021-09-10T15:37:18.725735Z",
     "shell.execute_reply": "2021-09-10T15:37:18.726381Z"
    }
   },
   "outputs": [
    {
     "name": "stdout",
     "output_type": "stream",
     "text": [
      "1 / 6\n"
     ]
    }
   ],
   "source": [
    "class Fraction:\n",
    "    # docstrings omitted to focus on data structure changes\n",
    "\n",
    "    def __init__(self, numerator: int, denominator: int):\n",
    "        self.numerator = numerator\n",
    "        self.denominator = denominator\n",
    "\n",
    "    def multiplication(self, right: 'Fraction') -> 'Fraction':\n",
    "        numerator = self.numerator * right.numerator\n",
    "        denominator = self.denominator * right.denominator\n",
    "        return Fraction(numerator, denominator)\n",
    "\n",
    "    def __str__(self) -> str:\n",
    "        return str(self.numerator) + ' / ' + str(self.denominator)\n",
    "\n",
    "print(Fraction(1, 2).multiplication(Fraction(1, 3)))"
   ]
  },
  {
   "cell_type": "markdown",
   "metadata": {},
   "source": [
    "Any code that uses the previous version of the class without\n",
    "accessing the instance variables also works with this version,\n",
    "because the **interface** of the class,\n",
    "i.e. its methods and their headers, hasn't changed."
   ]
  },
  {
   "cell_type": "markdown",
   "metadata": {
    "tags": [
     "NOTE"
    ]
   },
   "source": [
    "<div class=\"alert alert-warning\">\n",
    "<strong>Note:</strong> Only the class's methods should access the instance variables.\n",
    "</div>"
   ]
  },
  {
   "cell_type": "markdown",
   "metadata": {
    "tags": [
     "INFO"
    ]
   },
   "source": [
    "<div class=\"alert alert-info\">\n",
    "<strong>Info:</strong> Unlike Java, Python doesn't have access modifiers\n",
    "to make instance variables private or protected.\n",
    "</div>"
   ]
  },
  {
   "cell_type": "markdown",
   "metadata": {},
   "source": [
    "Accessing instance variables from outside a class is poor programming practice.\n",
    "If you need access to instance variables to solve a problem,\n",
    "you may not have defined enough methods. For example, the `Fraction` class\n",
    "should provide methods to return the numerator and denominator of a fraction.\n",
    "I'm adding only one of them, to illustrate how methods can call each other.\n",
    "Compare the following version to the previous one."
   ]
  },
  {
   "cell_type": "code",
   "execution_count": 23,
   "metadata": {
    "execution": {
     "iopub.execute_input": "2021-09-10T15:37:18.734230Z",
     "iopub.status.busy": "2021-09-10T15:37:18.733378Z",
     "iopub.status.idle": "2021-09-10T15:37:18.735878Z",
     "shell.execute_reply": "2021-09-10T15:37:18.736639Z"
    }
   },
   "outputs": [
    {
     "name": "stdout",
     "output_type": "stream",
     "text": [
      "1 / 6\n"
     ]
    }
   ],
   "source": [
    "class Fraction:\n",
    "\n",
    "    def __init__(self, numerator: int, denominator: int):\n",
    "        self.top = numerator\n",
    "        self.denominator = denominator\n",
    "\n",
    "    def numerator(self) -> int:\n",
    "        return self.top\n",
    "\n",
    "    def multiplication(self, right: 'Fraction') -> 'Fraction':\n",
    "        numerator = self.numerator() * right.numerator()\n",
    "        denominator = self.denominator * right.denominator\n",
    "        return Fraction(numerator, denominator)\n",
    "\n",
    "    def __str__(self) -> str:\n",
    "        return str(self.numerator()) + ' / ' + str(self.denominator)\n",
    "\n",
    "print(Fraction(1, 2).multiplication(Fraction(1, 3)))"
   ]
  },
  {
   "cell_type": "markdown",
   "metadata": {},
   "source": [
    "I renamed one instance variable, so that it doesn't have the same name as\n",
    "the new method. Note that `x.y()` calls method `y` on instance `x`,\n",
    "whereas `x.y` accesses variable `y` of instance `x`.\n",
    "\n",
    "Assume that a second method to obtain the denominator is added. Can you think\n",
    "of an advantage for the multiplication, string conversion and other methods to\n",
    "be added to call the auxiliary methods instead of\n",
    "directly accessing the instance variables?\n",
    "\n",
    "____\n",
    "\n",
    "If the data structure further changes, only the `__init_`, `numerator` and\n",
    "`denominator` methods must change; all other methods on fractions\n",
    "(multiplication, addition, string conversion, rounding, etc.) remain the same."
   ]
  },
  {
   "cell_type": "markdown",
   "metadata": {},
   "source": [
    "⟵ [Previous section](06-introduction.ipynb) | [Up](06-introduction.ipynb) | [Next section](06_2_static_array.ipynb) ⟶"
   ]
  }
 ],
 "metadata": {
  "kernelspec": {
   "display_name": "Python 3",
   "language": "python",
   "name": "python3"
  },
  "language_info": {
   "codemirror_mode": {
    "name": "ipython",
    "version": 3
   },
   "file_extension": ".py",
   "mimetype": "text/x-python",
   "name": "python",
   "nbconvert_exporter": "python",
   "pygments_lexer": "ipython3",
   "version": "3.8.5"
  }
 },
 "nbformat": 4,
 "nbformat_minor": 4
}
