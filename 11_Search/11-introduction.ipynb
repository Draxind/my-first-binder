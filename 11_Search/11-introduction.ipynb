{
 "cells": [
  {
   "cell_type": "markdown",
   "metadata": {},
   "source": [
    "# 11 Exhaustive search"
   ]
  },
  {
   "cell_type": "markdown",
   "metadata": {},
   "source": [
    "Previous chapters covered the basic 'ingredients' of algorithms:\n",
    "sequence, selection, iteration, and the ordered and unordered ADTs and\n",
    "data structures used by most algorithms. This and the following chapters build on that foundation to explain the main general algorithmic techniques.\n",
    "New ADTs and data structures will still be introduced, as needed.\n",
    "\n",
    "When it's not possible to compute a solution directly from the problem instance,\n",
    "one general approach is to systematically\n",
    "generate all possible candidates, i.e. all _potential_ solutions,\n",
    "and for each candidate, check whether it's an _actual_ solution to the problem.\n",
    "Such an approach is called **generate and test**, **brute-force search** or\n",
    "**exhaustive search**. The candidates generated are the **search space**.\n",
    "\n",
    "It's usually a slow technique, as it generates many candidates that\n",
    "turn out not to be solutions. However, if we generate the candidates correctly,\n",
    "then it's guaranteed to find a solution.\n",
    "Brute-force search can be a useful first approach to a problem,\n",
    "to make sure we have a correct algorithm, with appropriate tests,\n",
    "before we try to improve the algorithm with a different technique.\n",
    "\n",
    "To make an exhaustive search faster, we can\n",
    "generate each candidate as fast as possible,\n",
    "test each candidate as fast as possible, or\n",
    "enumerate as few candidates as possible, i.e. reduce the search space.\n",
    "The latter has the most impact on efficiency, but we must ensure that the\n",
    "reduced search space still includes all solutions.\n",
    "\n",
    "This chapter introduces examples of brute-force search\n",
    "and of techniques to reduce the search space.\n",
    "It supports the usual learning outcomes:\n",
    "\n",
    "- Apply general-purpose data structures and algorithmic techniques\n",
    "  to efficiently solve computational problems – you will learn how to apply exhaustive search and how to make it faster.\n",
    "- Explain in a clear and succinct way how an algorithm or data structure\n",
    "  works, and its assumptions, in order to communicate with peers –\n",
    "  several examples in this chapter are only sketched, not fully implemented.\n",
    "- Analyse the complexity of algorithms to support design choices –\n",
    "  you will learn about cubic, factorial and exponential complexities.\n",
    "- Write readable, tested and documented Python functions and classes\n",
    "  to implement algorithms and abstract data types – this chapter introduces\n",
    "  inner functions to better structure the code.\n",
    "\n",
    "\n",
    "Before starting to work on this chapter, check the\n",
    "[M269 website](https://learn2.open.ac.uk/course/view.php?id=208089) for relevant news and errata."
   ]
  },
  {
   "cell_type": "markdown",
   "metadata": {
    "nbsphinx-toctree": {
     "hidden": true,
     "maxdepth": 1,
     "numbered": false
    }
   },
   "source": [
    "1. [Linear search (again)](11_1_linear.ipynb)\n",
    "1. [Factorisation](11_2_factorisation.ipynb)\n",
    "1. [Constraint satisfaction](11_3_constraints.ipynb)\n",
    "1. [Searching permutations](11_4_permutations.ipynb)\n",
    "1. [Searching subsets](11_5_subsets.ipynb)\n",
    "1. [Practice](11_6_practice.ipynb)\n",
    "1. [Summary](11_7_summary.ipynb)"
   ]
  },
  {
   "cell_type": "markdown",
   "metadata": {},
   "source": [
    "⟵ [Previous chapter](../10_TMA01-2/10-introduction.ipynb) | [Up](../M269.ipynb) | [Next chapter](../12_Recursion/12-introduction.ipynb) ⟶"
   ]
  }
 ],
 "metadata": {
  "kernelspec": {
   "display_name": "Python 3",
   "language": "python",
   "name": "python3"
  },
  "language_info": {
   "codemirror_mode": {
    "name": "ipython",
    "version": 3
   },
   "file_extension": ".py",
   "mimetype": "text/x-python",
   "name": "python",
   "nbconvert_exporter": "python",
   "pygments_lexer": "ipython3",
   "version": "3.8.5"
  }
 },
 "nbformat": 4,
 "nbformat_minor": 4
}
