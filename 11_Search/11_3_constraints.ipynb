{
 "cells": [
  {
   "cell_type": "markdown",
   "metadata": {},
   "source": [
    "## 11.3 Constraint satisfaction"
   ]
  },
  {
   "cell_type": "markdown",
   "metadata": {},
   "source": [
    "Sometimes we must search for each item that satisfies the conditions.\n",
    "Other times we must search for multiple items that _together_ satisfy the conditions.\n",
    "That's a form of **constraint satisfaction problem** (**CSP**). The earlier\n",
    "example of checking if a password is valid is a CSP with two constraints:\n",
    "the string must include a lowercase letter and a digit.\n",
    "We search for two candidates (characters) that together\n",
    "satisfy the conditions because no character can satisfy both by itself.\n",
    "\n",
    "CSPs occur often in business, engineering, manufacturing and many other domains.\n",
    "A classic CSP is timetabling: which class should be taught where and when?\n",
    "Constraints include teaching each class in a sufficiently large room,\n",
    "teaching some classes in specialised rooms (e.g. labs), and making sure\n",
    "no one is scheduled for different classes at the same time.\n",
    "\n",
    "Constraints are often described with mathematical equations or inequalities.\n",
    "Solving a CSP amounts to assigning values to all variables so that the\n",
    "constraints are satisfied.\n",
    "There are advanced specialised techniques to solve CSPs.\n",
    "In M269 we'll solve them with exhaustive search only.\n",
    "\n",
    "This section introduces more techniques to make exhaustive search faster."
   ]
  },
  {
   "cell_type": "markdown",
   "metadata": {},
   "source": [
    "### 11.3.1 Problem"
   ]
  },
  {
   "cell_type": "markdown",
   "metadata": {},
   "source": [
    "Consider the following CSP.\n",
    "\n",
    "> Given positive integers _sum_, _product_ and _square sum_,\n",
    "> find all distinct integers _x_, _y_ and _z_ such that\n",
    "> _x_+_y_+_z_ = _sum_, _x_×_y_×_z_ = _product_ and\n",
    "> *x*² + *y*² + *z*² = _square sum_.\n",
    "\n",
    "This problem has three constraints in the form of equations\n",
    "and another three constraints in the form of inequalities:\n",
    "_x_ ≠ _y_, _y_ ≠ _z_ and _z_ ≠ _x_.\n",
    "\n",
    "Some examples:\n",
    "\n",
    "_sum_ | _product_ | _square sum_ | _x_ | _y_ | _z_\n",
    "-|-|-|-|-|-\n",
    "6 | 6 | 14 | 1 | 2 | 3\n",
    "0 | 6 | 14 | −1 | −2 | 3\n",
    "21 | 336  | 149 | 6 | 7 | 8\n",
    "33 | 1320 | 365 | 10 | 11 | 12"
   ]
  },
  {
   "cell_type": "markdown",
   "metadata": {
    "tags": [
     "INFO"
    ]
   },
   "source": [
    "<div class=\"alert alert-info\">\n",
    "<strong>Info:</strong> This is Online Judge problem\n",
    "<a href=\"https://uva.onlinejudge.org/external/115/11565.pdf\">Simple Equations</a>.\n",
    "</div>"
   ]
  },
  {
   "cell_type": "markdown",
   "metadata": {},
   "source": [
    "### 11.3.2 Algorithm and complexity"
   ]
  },
  {
   "cell_type": "markdown",
   "metadata": {},
   "source": [
    "The solutions are triples of integers, so\n",
    "the output will be a set of tuples (_x_, _y_, _z_).\n",
    "We generate all possible triples with three nested loops.\n",
    "First we must determine a range of possible candidates for each integer.\n",
    "\n",
    "The sum doesn't constrain the values: I can set _x_ as small or large as I want\n",
    "and still find a solution (_y_ = –_x_ and _z_ = _sum_).\n",
    "However, the product equation forces each value to be in the range\n",
    "from –_product_ to _product_. If any value is outside that range, then\n",
    "one of the other two is a real number between −1 and 1, not an integer.\n",
    "\n",
    "1. let _solutions_ be the empty set\n",
    "1. for each _x_ from –_product_ to _product_:\n",
    "   1. for each _y_ from –_product_ to _product_:\n",
    "      1. for each _z_ from –_product_ to _product_:\n",
    "         1. if _x_, _y_ and _z_ satisfy the constraints:\n",
    "            1. add (_x_, _y_, _z_) to _solutions_\n",
    "\n",
    "Steps 2, 2.1 and 2.1.1 generate the candidates and step&nbsp;2.1.1.1 tests them:\n",
    "it checks _x_ ≠ _y_ ≠ _z_ ≠ _x_ and the three equations.\n",
    "A single Boolean expression for checking four constraints is too long,\n",
    "so I'll implement the test with a separate auxiliary function.\n",
    "\n",
    "Each for-loop does 2 × _product_ iterations.\n",
    "Testing a candidate requires a fixed number of arithmetic operations.\n",
    "The overall complexity is:\n",
    "\n",
    "(2 × _product_)³ × Θ(1) = 8 × *product*³ × Θ(1) = Θ(*product*³).\n",
    "\n",
    "This is called **cubic** complexity.\n",
    "Quadratic algorithms are to be avoided when possible;\n",
    "cubic algorithms even more so."
   ]
  },
  {
   "cell_type": "markdown",
   "metadata": {},
   "source": [
    "### 11.3.3 Code and performance"
   ]
  },
  {
   "cell_type": "markdown",
   "metadata": {},
   "source": [
    "Let's implement the algorithm to see how slowly it runs.\n",
    "\n",
    "In Python we can nest functions inside each other.\n",
    "This is useful to write auxiliary functions that aren't used by anyone else.\n",
    "The inner function can access the arguments of the outer function."
   ]
  },
  {
   "cell_type": "code",
   "execution_count": 1,
   "metadata": {
    "execution": {
     "iopub.execute_input": "2021-09-10T15:39:23.288316Z",
     "iopub.status.busy": "2021-09-10T15:39:23.287441Z",
     "iopub.status.idle": "2021-09-10T15:39:23.289094Z",
     "shell.execute_reply": "2021-09-10T15:39:23.289710Z"
    }
   },
   "outputs": [],
   "source": [
    "def equations(sum: int, product: int, square_sum: int) -> set:\n",
    "    \"\"\"Return all triples that satisfy the constraints.\n",
    "\n",
    "    Preconditions: sum > 0, product > 0, square_sum > 0\n",
    "    Postconditions: the output has exactly all (x, y, z) such that\n",
    "    - x ≠ y ≠ z ≠ x and x, y, z are integers\n",
    "    - x+y+z = sum, x*y*z = product, x² + y² + z² = square_sum\n",
    "    \"\"\"\n",
    "\n",
    "    def satisfies(x: int, y: int, z: int) -> bool:\n",
    "        \"\"\"Check if x, y and z satisfy the constraints.\"\"\"\n",
    "        if x == y or y == z or z == x:\n",
    "            return False\n",
    "        if x + y + z != sum or x*y*z != product:\n",
    "            return False\n",
    "        return x*x + y*y + z*z == square_sum\n",
    "\n",
    "    solutions = set()\n",
    "    for x in range(-product, product+1):\n",
    "        for y in range(-product, product+1):\n",
    "            for z in range(-product, product+1):\n",
    "                if satisfies(x, y, z):\n",
    "                    solutions.add( (x, y, z) )\n",
    "    return solutions"
   ]
  },
  {
   "cell_type": "markdown",
   "metadata": {},
   "source": [
    "Let's test this with the simplest example."
   ]
  },
  {
   "cell_type": "code",
   "execution_count": 2,
   "metadata": {
    "execution": {
     "iopub.execute_input": "2021-09-10T15:39:23.298791Z",
     "iopub.status.busy": "2021-09-10T15:39:23.298075Z",
     "iopub.status.idle": "2021-09-10T15:39:23.300901Z",
     "shell.execute_reply": "2021-09-10T15:39:23.301351Z"
    }
   },
   "outputs": [
    {
     "data": {
      "text/plain": [
       "{(1, 2, 3), (1, 3, 2), (2, 1, 3), (2, 3, 1), (3, 1, 2), (3, 2, 1)}"
      ]
     },
     "execution_count": 1,
     "metadata": {},
     "output_type": "execute_result"
    }
   ],
   "source": [
    "equations(6, 6, 14)"
   ]
  },
  {
   "cell_type": "markdown",
   "metadata": {},
   "source": [
    "Oh dear! We get several times the same solution, only in a different order.\n",
    "I'll deal with that in a moment. First, let's time the execution."
   ]
  },
  {
   "cell_type": "code",
   "execution_count": 3,
   "metadata": {
    "execution": {
     "iopub.execute_input": "2021-09-10T15:39:23.381446Z",
     "iopub.status.busy": "2021-09-10T15:39:23.342258Z",
     "iopub.status.idle": "2021-09-10T15:39:25.823451Z",
     "shell.execute_reply": "2021-09-10T15:39:25.823902Z"
    }
   },
   "outputs": [
    {
     "name": "stdout",
     "output_type": "stream",
     "text": [
      "643 µs ± 61.4 µs per loop (mean ± std. dev. of 3 runs, 1000 loops each)\n"
     ]
    }
   ],
   "source": [
    "%timeit -r 3 equations(6, 6, 14)"
   ]
  },
  {
   "cell_type": "markdown",
   "metadata": {},
   "source": [
    "This example required (2×6)³ = 1728 iterations\n",
    "(because each loop goes from −6 to 6)\n",
    "and took on average about 400&nbsp;µs / 1600 = 0.25&nbsp;µs = 250&nbsp;ns\n",
    "per iteration on my machine."
   ]
  },
  {
   "cell_type": "markdown",
   "metadata": {},
   "source": [
    "#### Exercise 11.3.1"
   ]
  },
  {
   "cell_type": "markdown",
   "metadata": {},
   "source": [
    "It's useful to do back-of-the-envelope estimates of the running time,\n",
    "to help decide if the performance is acceptable or a better algorithm is needed.\n",
    "\n",
    "Using Python as a calculator, write an expression that computes the\n",
    "time, in seconds, for the algorithm to solve the example with _product_ = 336, assuming each iteration takes 250&nbsp;ns.\n",
    "There are one billion, i.e. a thousand million, nanoseconds in a second."
   ]
  },
  {
   "cell_type": "code",
   "execution_count": 4,
   "metadata": {
    "execution": {
     "iopub.execute_input": "2021-09-10T15:39:25.826967Z",
     "iopub.status.busy": "2021-09-10T15:39:25.826332Z",
     "iopub.status.idle": "2021-09-10T15:39:25.828027Z",
     "shell.execute_reply": "2021-09-10T15:39:25.828659Z"
    }
   },
   "outputs": [],
   "source": [
    "pass"
   ]
  },
  {
   "cell_type": "markdown",
   "metadata": {},
   "source": [
    "Now write an expression to compute the time in minutes for solving the example\n",
    "with _product_ = 1320."
   ]
  },
  {
   "cell_type": "code",
   "execution_count": 5,
   "metadata": {
    "execution": {
     "iopub.execute_input": "2021-09-10T15:39:25.831398Z",
     "iopub.status.busy": "2021-09-10T15:39:25.830799Z",
     "iopub.status.idle": "2021-09-10T15:39:25.832398Z",
     "shell.execute_reply": "2021-09-10T15:39:25.832891Z"
    }
   },
   "outputs": [],
   "source": [
    "pass"
   ]
  },
  {
   "cell_type": "markdown",
   "metadata": {},
   "source": [
    "[Hint](../31_Hints/Hints_11_3_01.ipynb)\n",
    "[Answer](../32_Answers/Answers_11_3_01.ipynb)"
   ]
  },
  {
   "cell_type": "markdown",
   "metadata": {
    "tags": [
     "NOTE"
    ]
   },
   "source": [
    "<div class=\"alert alert-warning\">\n",
    "<strong>Note:</strong> Knowing the complexity and the run-time for a small input,\n",
    "you can estimate the run-times for large inputs.\n",
    "</div>"
   ]
  },
  {
   "cell_type": "markdown",
   "metadata": {},
   "source": [
    "### 11.3.4 Don't generate equivalent candidates"
   ]
  },
  {
   "cell_type": "markdown",
   "metadata": {},
   "source": [
    "The algorithm is generating all\n",
    "[permutations](../04_Iteration/04_1_sequences.ipynb#4.1.2.3-Sorting) of the same values\n",
    "because the order in which values are added or multiplied doesn't matter.\n",
    "All those solutions are equivalent; we should generate only one of them.\n",
    "\n",
    "The easiest way to generate only one of several permutations is\n",
    "to sort the values, e.g. to only generate triples with _x_ < _y_ < _z_.\n",
    "This ensures the three values are distinct by construction, which\n",
    "makes the test simpler and more efficient,\n",
    "as it only has to check the equations.\n",
    "\n",
    "1. let _solutions_ be the empty set\n",
    "1. for each _x_ from –_product_ to _product_:\n",
    "   1. for each _y_ from _x_ + 1 to _product_:\n",
    "      1. for each _z_ from _y_ + 1 to _product_:\n",
    "         1. if _x_, _y_ and _z_ satisfy the equations:\n",
    "            1. add (_x_, _y_, _z_) to _solutions_\n",
    "\n",
    "Imposing an order on the triple's values reduces the size of the output set\n",
    "and, more importantly, of the search space:\n",
    "steps 2.1 and 2.1.1 now generate fewer candidates for _y_ and _z_."
   ]
  },
  {
   "cell_type": "markdown",
   "metadata": {},
   "source": [
    "### 11.3.5 Reduce the range"
   ]
  },
  {
   "cell_type": "markdown",
   "metadata": {},
   "source": [
    "Another technique is to avoid generating candidates that will fail the test.\n",
    "In the case of integers, that means making the range of candidates as small as\n",
    "possible, while still making sure it contains all solutions.\n",
    "\n",
    "We only used the product equation to set the initial search space.\n",
    "The equation\n",
    "\n",
    "*x*² + *y*² + *z*² = _square sum_\n",
    "\n",
    "may be useful too.\n",
    "Square numbers are never negative: if any of them\n",
    "is larger than _square sum_, then the constraint can't be satisfied.\n",
    "So _x_, _y_ and _z_ must be in the range\n",
    "–$\\sqrt{\\textit{square sum}}$ to $\\sqrt{\\textit{square sum}}$.\n",
    "\n",
    "When we have multiple ranges, the values must be in their intersection.\n",
    "In this case, one range is contained in the other, because both go from\n",
    "−_limit_ to +_limit_ for some integer _limit_, so we take the smallest range.\n",
    "The algorithm becomes:\n",
    "\n",
    "1. let _solutions_ be the empty set\n",
    "1. let _limit_ be min(_product_, floor(sqrt(_square sum_)))\n",
    "1. for each _x_ from –_limit_ to _limit_:\n",
    "   1. for each _y_ from _x_ + 1 to _limit_:\n",
    "      1. for each _z_ from _y_ + 1 to _limit_:\n",
    "         1. if _x_, _y_ and _z_ satisfy the equations:\n",
    "            1. add (_x_, _y_, _z_) to _solutions_\n",
    "\n",
    "Consider the example with _product_ = 336 and _square sum_ = 149.\n",
    "The original algorithm generates (2 × 336)³ ≈ 303 million candidates;\n",
    "the new algorithm generates far fewer than\n",
    "(2 × floor($\\sqrt{149}$))³ = 24³ ≈ 14 thousand, because more often\n",
    "than not the loops for _y_ and _z_ don't start at −149.\n",
    "A vast reduction in the search space!"
   ]
  },
  {
   "cell_type": "markdown",
   "metadata": {},
   "source": [
    "### 11.3.6 Compute part of a candidate"
   ]
  },
  {
   "cell_type": "markdown",
   "metadata": {},
   "source": [
    "Last but not least,\n",
    "when a constraint creates a dependency between values, we can directly\n",
    "compute one value from the others instead of searching for it."
   ]
  },
  {
   "cell_type": "markdown",
   "metadata": {
    "tags": [
     "NOTE"
    ]
   },
   "source": [
    "<div class=\"alert alert-warning\">\n",
    "<strong>Note:</strong> The best way to make searches efficient is to avoid searches.\n",
    "</div>"
   ]
  },
  {
   "cell_type": "markdown",
   "metadata": {},
   "source": [
    "For this problem,\n",
    "once we have candidate values for _x_ and _y_ we can use one equation to\n",
    "determine the value of _z_ and then check the other two equations.\n",
    "The sum equation is the simplest to compute _z_.\n",
    "\n",
    "1. let _solutions_ be the empty set\n",
    "1. let _limit_ be min(_product_, floor(sqrt(_square sum_)))\n",
    "1. for each _x_ from –_limit_ to _limit_:\n",
    "   1. for each _y_ from _x_ + 1 to _limit_:\n",
    "      1. let _z_ be _sum_ − _x_ − _y_\n",
    "      1. if _y_ < _z_ and _x_×_y_×_z_ = _product_ and *x*²+*y*²+*z*² = _square sum_:\n",
    "         1. add (_x_, _y_, _z_) to _solutions_\n",
    "\n",
    "Since _z_ is no longer generated by a loop starting at _y_ + 1,\n",
    "we must explicitly check for _y_ < _z_.\n",
    "\n",
    "Continuing with the same example, the new algorithm generates at\n",
    "most 24² = 576 candidates, down from 24³ ≈ 14 thousand."
   ]
  },
  {
   "cell_type": "markdown",
   "metadata": {},
   "source": [
    "### 11.3.7 Improved code and performance"
   ]
  },
  {
   "cell_type": "markdown",
   "metadata": {},
   "source": [
    "Let's implement the final algorithm, test it and\n",
    "measure its performance. I won't repeat the docstring."
   ]
  },
  {
   "cell_type": "code",
   "execution_count": 6,
   "metadata": {
    "execution": {
     "iopub.execute_input": "2021-09-10T15:39:25.838397Z",
     "iopub.status.busy": "2021-09-10T15:39:25.837970Z",
     "iopub.status.idle": "2021-09-10T15:39:25.839912Z",
     "shell.execute_reply": "2021-09-10T15:39:25.840544Z"
    }
   },
   "outputs": [],
   "source": [
    "import math\n",
    "\n",
    "def fast_equations(sum: int, product: int, square_sum: int) -> set:\n",
    "    solutions = set()\n",
    "    limit = min(product, math.floor(math.sqrt(square_sum)))\n",
    "    for x in range(-limit, limit + 1):\n",
    "        for y in range(x+1, limit + 1):\n",
    "            z = sum - x - y\n",
    "            if y < z and x*y*z == product and x*x+y*y+z*z == square_sum:\n",
    "                solutions.add( (x, y, z) )\n",
    "    return solutions"
   ]
  },
  {
   "cell_type": "code",
   "execution_count": 7,
   "metadata": {
    "execution": {
     "iopub.execute_input": "2021-09-10T15:39:25.882399Z",
     "iopub.status.busy": "2021-09-10T15:39:25.842969Z",
     "iopub.status.idle": "2021-09-10T15:39:28.178897Z",
     "shell.execute_reply": "2021-09-10T15:39:28.179351Z"
    }
   },
   "outputs": [
    {
     "name": "stdout",
     "output_type": "stream",
     "text": [
      "{(1, 2, 3)}\n",
      "5.87 µs ± 443 ns per loop (mean ± std. dev. of 3 runs, 100000 loops each)\n"
     ]
    }
   ],
   "source": [
    "print(fast_equations(6, 6, 14))\n",
    "%timeit -r 3 fast_equations(6, 6, 14)"
   ]
  },
  {
   "cell_type": "code",
   "execution_count": 8,
   "metadata": {
    "execution": {
     "iopub.execute_input": "2021-09-10T15:39:28.250756Z",
     "iopub.status.busy": "2021-09-10T15:39:28.212931Z",
     "iopub.status.idle": "2021-09-10T15:39:30.336769Z",
     "shell.execute_reply": "2021-09-10T15:39:30.337224Z"
    }
   },
   "outputs": [
    {
     "name": "stdout",
     "output_type": "stream",
     "text": [
      "{(6, 7, 8)}\n",
      "53.2 µs ± 4.31 µs per loop (mean ± std. dev. of 3 runs, 10000 loops each)\n"
     ]
    }
   ],
   "source": [
    "print(fast_equations(21, 336, 149))\n",
    "%timeit -r 3 fast_equations(21, 336, 149)"
   ]
  },
  {
   "cell_type": "code",
   "execution_count": 9,
   "metadata": {
    "execution": {
     "iopub.execute_input": "2021-09-10T15:39:30.409175Z",
     "iopub.status.busy": "2021-09-10T15:39:30.373547Z",
     "iopub.status.idle": "2021-09-10T15:39:35.552940Z",
     "shell.execute_reply": "2021-09-10T15:39:35.553593Z"
    }
   },
   "outputs": [
    {
     "name": "stdout",
     "output_type": "stream",
     "text": [
      "{(10, 11, 12)}\n",
      "128 µs ± 4.49 µs per loop (mean ± std. dev. of 3 runs, 10000 loops each)\n"
     ]
    }
   ],
   "source": [
    "print(fast_equations(33, 1320, 365))\n",
    "%timeit -r 3 fast_equations(33, 1320, 365)"
   ]
  },
  {
   "cell_type": "markdown",
   "metadata": {},
   "source": [
    "The complexity has gone down from Θ(*product*³) to\\\n",
    "Θ(min(_product_, $\\sqrt{\\textit{square sum}}$)²) =\n",
    "Θ(min(*product*², _square sum_)).\n",
    "\n",
    "An initially cubic algorithm has become quadratic in one input\n",
    "or linear in another,\n",
    "whatever happens to be best for the particular input values.\n",
    "This makes a substantial difference.\n",
    "An expected run-time of one-and-a-quarter hours shrinks to a few microseconds.\n",
    "That's the power of systematically thinking about the constraints\n",
    "and using them to reduce the search space."
   ]
  },
  {
   "cell_type": "markdown",
   "metadata": {},
   "source": [
    "⟵ [Previous section](11_2_factorisation.ipynb) | [Up](11-introduction.ipynb) | [Next section](11_4_permutations.ipynb) ⟶"
   ]
  }
 ],
 "metadata": {
  "kernelspec": {
   "display_name": "Python 3",
   "language": "python",
   "name": "python3"
  },
  "language_info": {
   "codemirror_mode": {
    "name": "ipython",
    "version": 3
   },
   "file_extension": ".py",
   "mimetype": "text/x-python",
   "name": "python",
   "nbconvert_exporter": "python",
   "pygments_lexer": "ipython3",
   "version": "3.8.5"
  }
 },
 "nbformat": 4,
 "nbformat_minor": 4
}
