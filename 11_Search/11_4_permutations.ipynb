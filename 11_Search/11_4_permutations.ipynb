{
 "cells": [
  {
   "cell_type": "markdown",
   "metadata": {},
   "source": [
    "## 11.4 Searching permutations"
   ]
  },
  {
   "cell_type": "markdown",
   "metadata": {},
   "source": [
    "As the previous section illustrated, an exhaustive search algorithm with\n",
    "_n_ nested loops can generate all permutations of _n_ items and\n",
    "test which of them satisfy the search conditions.\n",
    "That's fine if _n_ is small and known in advance,\n",
    "but if _n_ is an input of the problem, how can we generate the permutations?\n",
    "This section shows how with a classic problem."
   ]
  },
  {
   "cell_type": "markdown",
   "metadata": {},
   "source": [
    "### 11.4.1 Problem"
   ]
  },
  {
   "cell_type": "markdown",
   "metadata": {},
   "source": [
    "The **travelling salesman problem** (**TSP**) asks to find the shortest way to\n",
    "start in one place, visit other places only once and return to the start place,\n",
    "where 'shortest way' means the least total distance travelled.\n",
    "\n",
    "A **tour** is a route that goes once through each place and\n",
    "returns to the start place, e.g. the route of a truck delivering or collecting\n",
    "goods across multiple places and returning to the warehouse.\n",
    "The TSP is thus asking for the tour with the least total distance,\n",
    "given the distances between _n_ places. We assume there are\n",
    "at least two places, in order to travel to a place and back to the start place.\n",
    "\n",
    "If instead of the distance\n",
    "we know the time or cost to go from one place to another,\n",
    "then the TSP asks for the respectively fastest or cheapest tour.\n",
    "If multiple tours are equally short, fast or cheap,\n",
    "then the output can be any of them.\n",
    "\n",
    "Problems that ask for a collection of items that minimise or maximise some\n",
    "quantity are  **optimisation problems**.\n",
    "When talking about optimisation problems in general,\n",
    "the quantity being minimised is traditionally called the **cost**,\n",
    "even if it represents something else, like distance, for particular problems.\n",
    "So, the TSP is an optimisation problem that asks for a tour among _n_ places\n",
    "with the lowest cost, given the costs of travelling between any two places."
   ]
  },
  {
   "cell_type": "markdown",
   "metadata": {
    "tags": [
     "INFO"
    ]
   },
   "source": [
    "<div class=\"alert alert-info\">\n",
    "<strong>Info:</strong> The Robotics and AI block of TM129 introduces optimisation problems and the TSP.\n",
    "</div>"
   ]
  },
  {
   "cell_type": "markdown",
   "metadata": {},
   "source": [
    "To turn the informal description of the TSP into a problem definition,\n",
    "I must choose how to model places and costs.\n",
    "Whether we're flying around the globe with a band,\n",
    "visiting castles in Scotland or island-hopping in the Azores,\n",
    "it doesn't matter what and where the places are:\n",
    "all we need is the cost of travelling between any two of them.\n",
    "The costs must be given by numbers, so that we can add up the cost of the tour.\n",
    "Although costs are usually positive, I allow for zero and negative numbers,\n",
    "e.g. if we wish to represent the cost below or above a given travel budget.\n",
    "\n",
    "There are several ways of representing the costs between pairs of places.\n",
    "A simple way of quickly looking up costs is to store them in a matrix.\n",
    "This means that places must be represented by natural numbers,\n",
    "in order to index the matrix. We have to decide whether the cost of going\n",
    "from _origin_ to _destination_ is in\n",
    "row _origin_ and column _destination_, or row _destination_ and column _origin_.\n",
    "It doesn't matter which way it is, as long as we state it in the preconditions,\n",
    "so that the user knows how to fill the input matrix.\n",
    "\n",
    "Next, the output: the best tour.\n",
    "It can be represented by a sequence of integers,\n",
    "indicating in which order the places are visited.\n",
    "The postconditions must state that all places occur in the tour and\n",
    "that the first and last place are the same.\n",
    "They must also define the optimisation criterion: the tour's cost.\n",
    "\n",
    "**Function**: TSP\\\n",
    "**Inputs**: _costs_, a _n_×_n_ matrix of numbers\\\n",
    "**Preconditions**: _n_ ≥ 2;\n",
    "_costs_[*i*][*j*] is the cost of travelling from _i_ to _j_\\\n",
    "**Output**: _tour_, a sequence of integers\\\n",
    "**Postconditions**:\n",
    "\n",
    "- _tour_ has length _n_ + 1, with _tour_[0] = _tour_[*n*]\n",
    "- every integer from 0 to _n_ − 1 occurs in _tour_\n",
    "- _costs_[_tour_[0]][_tour_[1]] + _costs_[_tour_[1]][_tour_[2]] + ... + _costs_[_tour_[_n_ − 1]][_tour_[*n*]] has the lowest possible value\n",
    "\n",
    "Because the tour has length _n_ + 1, with one duplicate place,\n",
    "all other places must occur once in the tour.\n",
    "\n",
    "Here's a depiction of the example I'll use, with _n_ = 4.\n",
    "In this example, travelling from A to B costs the same as from B to A.\n",
    "The places are numbered from 0 to 3 and indicated by circles.\n",
    "The cost of travelling between two places is indicated\n",
    "next to the line connecting the two places.\n",
    "\n",
    "![This figure shows four circles, labelled 0 to 3, and a straight line between each pair of circles. Each line is labelled with an integer denoting the cost of travelling between those places. It costs 15 to travel between 0 and 1, 10 between 0 and 2 and between 2 and 3, 5 between 0 and 3 and between 3 and 1, and 30 between 1 and 2.](11_4_tsp.png)\n",
    "\n",
    "Can you find at least two tours with the same lowest cost?\n",
    "Two tours are different if their start/end place is different or\n",
    "if they visit the places in a different order.\n",
    "\n",
    "___\n",
    "\n",
    "Some of the tours with lowest cost 40 are (0, 1, 3, 2, 0), (1, 3, 2, 0, 1) and\n",
    "(3, 1, 0, 2, 3)."
   ]
  },
  {
   "cell_type": "markdown",
   "metadata": {},
   "source": [
    "### 11.4.2 Algorithm"
   ]
  },
  {
   "cell_type": "markdown",
   "metadata": {},
   "source": [
    "The exhaustive search algorithm is like a linear search for\n",
    "the best candidate, where the candidates are all possible tours and\n",
    "being better means to have a lower cost.\n",
    "\n",
    "Tours that go through the same places in the same order have the same cost, so\n",
    "to find the best tour it doesn't matter which place we start from,\n",
    "as the example above shows.\n",
    "We can choose place 0 to be the start and end place\n",
    "and generate all permutations of (1, ..., _n_ – 1) for the intermediate places.\n",
    "\n",
    "We compute the cost of each candidate tour and see if it improves\n",
    "the current best cost, which is initially infinite.\n",
    "(If we were maximising a quantity, we'd initialise it with negative infinity.)\n",
    "\n",
    "1. let _best cost_ be infinite\n",
    "2. for each _places_ that is a permutation of (1, 2, ..., _n_ – 1):\n",
    "   1. let _this tour_ be _places_ with 0 prepended and appended\n",
    "   1. let _cost_ be _costs_[_this tour_[0]][_this tour_[1]] + ... + _costs_[_this tour_[_n_ − 1]][_this tour_[*n*]]\n",
    "   2. if _total cost_ < _best cost_:\n",
    "      1. let _best cost_ be _total cost_\n",
    "      2. let _tour_ be _this tour_"
   ]
  },
  {
   "cell_type": "markdown",
   "metadata": {},
   "source": [
    "#### Exercise 11.4.1"
   ]
  },
  {
   "cell_type": "markdown",
   "metadata": {},
   "source": [
    "In many real-life situations,\n",
    "the cost of going from A to B is the same as the cost of going from B to A,\n",
    "like in the example above. In such cases,\n",
    "will the algorithm generate different candidate tours with the same total cost?"
   ]
  },
  {
   "cell_type": "markdown",
   "metadata": {
    "tags": [
     "ANSWER"
    ]
   },
   "source": [
    "_Write your answer here._"
   ]
  },
  {
   "cell_type": "markdown",
   "metadata": {},
   "source": [
    "[Hint](../31_Hints/Hints_11_4_01.ipynb)\n",
    "[Answer](../32_Answers/Answers_11_4_01.ipynb)"
   ]
  },
  {
   "cell_type": "markdown",
   "metadata": {},
   "source": [
    "### 11.4.3 Complexity"
   ]
  },
  {
   "cell_type": "markdown",
   "metadata": {},
   "source": [
    "There are _n_ × (_n_−1) × ... × 2 × 1 permutations of _n_ items,\n",
    "because the first item in the permutation can be any of the _n_ items,\n",
    "the second item in the permutation can be any of the remaining _n_−1 items,\n",
    "and so on, until only one item remains to be put in the last position.\n",
    "\n",
    "The product of all integers from 1 to _n_ is written _n_! and\n",
    "is called the **factorial** of n.\n",
    "There's only one permutation of zero items, the empty sequence, so 0! = 1.\n",
    "\n",
    "The exhaustive search for the best tour among _n_ places only generates\n",
    "the permutations of (1, ..., _n_ – 1), because the start/end place is fixed,\n",
    "so the complexity is Θ((_n_−1)!).\n",
    "\n",
    "The factorial grows much much faster than the square or the cube of a number.\n",
    "A picture shows it best. (You don't have to understand the following code.)"
   ]
  },
  {
   "cell_type": "code",
   "execution_count": 1,
   "metadata": {
    "execution": {
     "iopub.execute_input": "2021-09-10T15:39:38.117339Z",
     "iopub.status.busy": "2021-09-10T15:39:38.116778Z",
     "iopub.status.idle": "2021-09-10T15:39:38.729303Z",
     "shell.execute_reply": "2021-09-10T15:39:38.729794Z"
    }
   },
   "outputs": [
    {
     "data": {
      "image/png": "[encoded data removed]",
      "text/plain": [
       "<Figure size 432x288 with 1 Axes>"
      ]
     },
     "metadata": {
      "needs_background": "light"
     },
     "output_type": "display_data"
    }
   ],
   "source": [
    "import math\n",
    "from matplotlib.pyplot import plot, xlabel, title, legend, show\n",
    "\n",
    "%matplotlib inline\n",
    "\n",
    "n_values = range(1, 7)\n",
    "n_square = []\n",
    "n_cube = []\n",
    "n_factorial = []\n",
    "for n in n_values:\n",
    "    n_square.append(n*n)\n",
    "    n_cube.append(n*n*n)\n",
    "    n_factorial.append(math.factorial(n))\n",
    "\n",
    "plot(n_values, n_square, 'k-', label='n²')\n",
    "plot(n_values, n_cube, 'b-', label='n³')\n",
    "plot(n_values, n_factorial,'r-', label='n!')\n",
    "title('Growth of factorial')\n",
    "xlabel('n')\n",
    "legend()\n",
    "show()"
   ]
  },
  {
   "cell_type": "markdown",
   "metadata": {},
   "source": [
    "As the chart shows, 5! is about the same as 5³ but from then on\n",
    "the factorial function leaves the cubic function in the dust.\n",
    "If you replace 7 with 10 or some other slightly larger value in the\n",
    "range for `n_values` and run the code, you'll see that *n*³ will look\n",
    "like a constant function in comparison to _n_!.\n",
    "\n",
    "I once asked the driver delivering my supermarket online shopping how\n",
    "many customers he served in one tour with a full van. He said about fifteen.\n",
    "Assuming we can compute the cost of each tour in 1&nbsp;µs,\n",
    "we can compute a van's best tour in about&nbsp;..."
   ]
  },
  {
   "cell_type": "code",
   "execution_count": 2,
   "metadata": {
    "execution": {
     "iopub.execute_input": "2021-09-10T15:39:38.733835Z",
     "iopub.status.busy": "2021-09-10T15:39:38.733297Z",
     "iopub.status.idle": "2021-09-10T15:39:38.735248Z",
     "shell.execute_reply": "2021-09-10T15:39:38.735903Z"
    }
   },
   "outputs": [
    {
     "name": "stdout",
     "output_type": "stream",
     "text": [
      "15 days\n"
     ]
    }
   ],
   "source": [
    "print(round(math.factorial(15) / 1e6 / 60 / 60 / 24), 'days')"
   ]
  },
  {
   "cell_type": "markdown",
   "metadata": {},
   "source": [
    "By comparison, if the van delivers to 10 customers,\n",
    "then the best tour can be computed in just&nbsp;..."
   ]
  },
  {
   "cell_type": "code",
   "execution_count": 3,
   "metadata": {
    "execution": {
     "iopub.execute_input": "2021-09-10T15:39:38.739008Z",
     "iopub.status.busy": "2021-09-10T15:39:38.738428Z",
     "iopub.status.idle": "2021-09-10T15:39:38.740443Z",
     "shell.execute_reply": "2021-09-10T15:39:38.740967Z"
    }
   },
   "outputs": [
    {
     "name": "stdout",
     "output_type": "stream",
     "text": [
      "4 seconds\n"
     ]
    }
   ],
   "source": [
    "print(round(math.factorial(10) / 1e6), 'seconds')"
   ]
  },
  {
   "cell_type": "markdown",
   "metadata": {},
   "source": [
    "This shows again how fast the factorial function grows.\n",
    "\n",
    "As you may imagine, delivery companies don't use exhaustive search,\n",
    "with factorial complexity, to compute the best tour.\n",
    "They use **heuristic** algorithms which compute an approximate 'good enough'\n",
    "solution, rather than the optimal one.\n",
    "One such algorithm will be presented in a later chapter."
   ]
  },
  {
   "cell_type": "markdown",
   "metadata": {},
   "source": [
    "#### Exercise 11.4.2"
   ]
  },
  {
   "cell_type": "markdown",
   "metadata": {},
   "source": [
    "The previous exercise showed that the algorithm generates 'symmetric' tours.\n",
    "Would the complexity improve if the algorithm could be modified\n",
    "to not generate them?"
   ]
  },
  {
   "cell_type": "markdown",
   "metadata": {
    "tags": [
     "ANSWER"
    ]
   },
   "source": [
    "_Write your answer here._"
   ]
  },
  {
   "cell_type": "markdown",
   "metadata": {},
   "source": [
    "[Answer](../32_Answers/Answers_11_4_02.ipynb)"
   ]
  },
  {
   "cell_type": "markdown",
   "metadata": {},
   "source": [
    "### 11.4.4 Code"
   ]
  },
  {
   "cell_type": "markdown",
   "metadata": {},
   "source": [
    "You'll see in a later chapter an algorithm to generate permutations for any _n_.\n",
    "For the time being, we use function `permutations` in module `itertools`.\n",
    "The function is meant to be used in a for-loop because\n",
    "it returns the permutations one by one, as a tuple.\n",
    "The function's argument is an iterable collection of items."
   ]
  },
  {
   "cell_type": "code",
   "execution_count": 4,
   "metadata": {
    "execution": {
     "iopub.execute_input": "2021-09-10T15:39:38.744485Z",
     "iopub.status.busy": "2021-09-10T15:39:38.743914Z",
     "iopub.status.idle": "2021-09-10T15:39:38.745916Z",
     "shell.execute_reply": "2021-09-10T15:39:38.746513Z"
    }
   },
   "outputs": [
    {
     "name": "stdout",
     "output_type": "stream",
     "text": [
      "('salesman', 'problem', 'travelling')\n",
      "('salesman', 'travelling', 'problem')\n",
      "('problem', 'salesman', 'travelling')\n",
      "('problem', 'travelling', 'salesman')\n",
      "('travelling', 'salesman', 'problem')\n",
      "('travelling', 'problem', 'salesman')\n"
     ]
    }
   ],
   "source": [
    "from itertools import permutations\n",
    "\n",
    "for permutation in permutations({'travelling', 'salesman', 'problem'}):\n",
    "    print(permutation)"
   ]
  },
  {
   "cell_type": "markdown",
   "metadata": {},
   "source": [
    "Let's construct the matrix of the example input.\n",
    "The cost of 'travelling' from a place to itself can be any number,\n",
    "because it won't be used by the algorithm, but it's usually set to zero."
   ]
  },
  {
   "cell_type": "code",
   "execution_count": 5,
   "metadata": {
    "execution": {
     "iopub.execute_input": "2021-09-10T15:39:38.751183Z",
     "iopub.status.busy": "2021-09-10T15:39:38.750417Z",
     "iopub.status.idle": "2021-09-10T15:39:38.752515Z",
     "shell.execute_reply": "2021-09-10T15:39:38.753359Z"
    }
   },
   "outputs": [],
   "source": [
    "four_places = [\n",
    "    [0, 15, 10, 5],     # cost from 0 to other places\n",
    "    [15, 0, 30, 5],     # cost from 1 to other places\n",
    "    [10, 30, 0, 10],    # cost from 2 to other places\n",
    "    [5, 5, 10, 0],      # cost from 3 to other places\n",
    "]"
   ]
  },
  {
   "cell_type": "markdown",
   "metadata": {},
   "source": [
    "I use slightly different variable names from the algorithm\n",
    "to keep the code lines short."
   ]
  },
  {
   "cell_type": "code",
   "execution_count": 6,
   "metadata": {
    "execution": {
     "iopub.execute_input": "2021-09-10T15:39:38.759074Z",
     "iopub.status.busy": "2021-09-10T15:39:38.758325Z",
     "iopub.status.idle": "2021-09-10T15:39:38.760916Z",
     "shell.execute_reply": "2021-09-10T15:39:38.761624Z"
    }
   },
   "outputs": [
    {
     "data": {
      "text/plain": [
       "(0, 1, 3, 2, 0)"
      ]
     },
     "execution_count": 1,
     "metadata": {},
     "output_type": "execute_result"
    }
   ],
   "source": [
    "from itertools import permutations\n",
    "import math\n",
    "\n",
    "def tsp(costs: list) -> tuple:\n",
    "    \"\"\"Solve the travelling salesman problem.\n",
    "\n",
    "    Input: costs is a n*n matrix of numbers\n",
    "    Preconditions:\n",
    "    - n > 1\n",
    "    - costs[i][j] is the cost of travelling from i to j\n",
    "    Postconditions:\n",
    "    - len(output) = n + 1\n",
    "    - output[0] = output[n]\n",
    "    - every integer from 0 to n - 1 occurs in the output\n",
    "    - costs[output[0]][output[1]] + ... + costs[output[n-1]][output[n]]\n",
    "      has the lowest possible value\n",
    "    \"\"\"\n",
    "    best_cost = math.inf    # positive infinity (Section 6.8)\n",
    "    n = len(costs)\n",
    "    # generate all permutations of (1, .., n-1)\n",
    "    for places in permutations(range(1, n)):\n",
    "        # tuple literals with 1 item need extra comma (Section 4.5)\n",
    "        tour = (0,) + places + (0,)\n",
    "        cost = 0\n",
    "        for index in range(0, n):\n",
    "            cost = cost + costs[tour[index]][tour[index+1]]\n",
    "        if cost < best_cost:\n",
    "            best_cost = cost\n",
    "            best_tour = tour\n",
    "    return best_tour\n",
    "\n",
    "tsp(four_places)"
   ]
  },
  {
   "cell_type": "markdown",
   "metadata": {},
   "source": [
    "There are two equally best tours starting and ending at place 0,\n",
    "namely (0, 1, 3, 2, 0) and (0, 3, 2, 1, 0),\n",
    "but only the one generated first is output as the second one\n",
    "doesn't improve the best cost."
   ]
  },
  {
   "cell_type": "markdown",
   "metadata": {},
   "source": [
    "⟵ [Previous section](11_3_constraints.ipynb) | [Up](11-introduction.ipynb) | [Next section](11_5_subsets.ipynb) ⟶"
   ]
  }
 ],
 "metadata": {
  "kernelspec": {
   "display_name": "Python 3",
   "language": "python",
   "name": "python3"
  },
  "language_info": {
   "codemirror_mode": {
    "name": "ipython",
    "version": 3
   },
   "file_extension": ".py",
   "mimetype": "text/x-python",
   "name": "python",
   "nbconvert_exporter": "python",
   "pygments_lexer": "ipython3",
   "version": "3.8.5"
  }
 },
 "nbformat": 4,
 "nbformat_minor": 4
}
