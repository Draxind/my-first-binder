{
 "cells": [
  {
   "cell_type": "markdown",
   "metadata": {},
   "source": [
    "## 11.1 Linear search (again)"
   ]
  },
  {
   "cell_type": "markdown",
   "metadata": {},
   "source": [
    "[Section&nbsp;4.4](../04_Iteration/04_4_search.ipynb#4.4-Linear-search) introduced linear search as 'an algorithm\n",
    "that goes systematically through the sequence and checks each element'.\n",
    "This section provides a more general treatment."
   ]
  },
  {
   "cell_type": "markdown",
   "metadata": {},
   "source": [
    "### 11.1.1 Basic search"
   ]
  },
  {
   "cell_type": "markdown",
   "metadata": {},
   "source": [
    "Linear search is a special case of exhaustive search\n",
    "in which the collection of candidates is given:\n",
    "generating candidates is simply iterating over the collection.\n",
    "Like for any generate-and-test algorithm, the test part of linear search\n",
    "may involve one or more candidates. For example, to find the best solution,\n",
    "the test involves comparing two candidates:\n",
    "the current one and the best candidate found so far.\n",
    "\n",
    "At this point you may wish to skim again the algorithmic patterns in\n",
    "[Section&nbsp;5.2](../05_TMA01-1/05_2_algorithms.ipynb#5.2.1-Linear-search) for finding\n",
    "all solutions, some solutions and the best solution.\n",
    "\n",
    "Linear searches can be done on any sequence, bag, set or map of candidates.\n",
    "A linear search over a stack or a priority queue destroys it,\n",
    "because we must remove items one by one to iterate over the collection.\n",
    "That's not an issue if the input collection isn't needed after the search.\n",
    "However, in general it's best to avoid modifying the input and so\n",
    "we'd need to search a copy of the input."
   ]
  },
  {
   "cell_type": "markdown",
   "metadata": {},
   "source": [
    "#### Exercise 11.1.1"
   ]
  },
  {
   "cell_type": "markdown",
   "metadata": {},
   "source": [
    "We can do a linear search over a queue or deque without making a copy of\n",
    "the input collection, but not over a priority queue. Why?"
   ]
  },
  {
   "cell_type": "markdown",
   "metadata": {
    "tags": [
     "ANSWER"
    ]
   },
   "source": [
    "_Write your answer here._"
   ]
  },
  {
   "cell_type": "markdown",
   "metadata": {},
   "source": [
    "[Hint](../31_Hints/Hints_11_1_01.ipynb)\n",
    "[Answer](../32_Answers/Answers_11_1_01.ipynb)"
   ]
  },
  {
   "cell_type": "markdown",
   "metadata": {},
   "source": [
    "#### Exercise 11.1.2"
   ]
  },
  {
   "cell_type": "markdown",
   "metadata": {},
   "source": [
    "Linear search has that name because it always has linear complexity in\n",
    "the worst case. True or false?"
   ]
  },
  {
   "cell_type": "markdown",
   "metadata": {
    "tags": [
     "ANSWER"
    ]
   },
   "source": [
    "_Write your answer here._"
   ]
  },
  {
   "cell_type": "markdown",
   "metadata": {},
   "source": [
    "[Answer](../32_Answers/Answers_11_1_02.ipynb)"
   ]
  },
  {
   "cell_type": "markdown",
   "metadata": {},
   "source": [
    "#### Exercise 11.1.3"
   ]
  },
  {
   "cell_type": "markdown",
   "metadata": {},
   "source": [
    "Here's an algorithmic pattern for finding all solutions.\n",
    "It's formulated in more general terms than the corresponding one in Section&nbsp;5.2."
   ]
  },
  {
   "cell_type": "markdown",
   "metadata": {},
   "source": [
    "1. let _solutions_ be an empty collection\n",
    "2. for each _candidate_ in _candidates_:\n",
    "   1. if _candidate_ satisfies all search conditions:\n",
    "      1. add _candidate_ to _solutions_"
   ]
  },
  {
   "cell_type": "markdown",
   "metadata": {},
   "source": [
    "A pattern abstracts several similar algorithms.\n",
    "Here, step&nbsp;1 doesn't indicate the type of the output collection,\n",
    "step&nbsp;2 doesn't specify how each candidate is obtained,\n",
    "step&nbsp;2.1 doesn't detail the test, and step&nbsp;2.1.1 doesn't say which operation is used to add a candidate to the solutions.\n",
    "\n",
    "Make one or more steps more detailed, to obtain a pattern for\n",
    "linear searches that output solutions in the order they're found.\n",
    "\n",
    "[Hint](../31_Hints/Hints_11_1_03.ipynb)\n",
    "[Answer](../32_Answers/Answers_11_1_03.ipynb)"
   ]
  },
  {
   "cell_type": "markdown",
   "metadata": {},
   "source": [
    "#### Exercise 11.1.4"
   ]
  },
  {
   "cell_type": "markdown",
   "metadata": {},
   "source": [
    "Here's the algorithmic pattern once more."
   ]
  },
  {
   "cell_type": "markdown",
   "metadata": {},
   "source": [
    "1. let _solutions_ be an empty collection\n",
    "2. for each _candidate_ in _candidates_:\n",
    "   1. if _candidate_ satisfies all search conditions:\n",
    "      1. add _candidate_ to _solutions_"
   ]
  },
  {
   "cell_type": "markdown",
   "metadata": {},
   "source": [
    "Modify one or more steps to get a pattern for linear searches\n",
    "that don't output repeated solutions.\n",
    "Solutions don't have to be in the order they're found.\n",
    "\n",
    "[Hint](../31_Hints/Hints_11_1_04.ipynb)\n",
    "[Answer](../32_Answers/Answers_11_1_04.ipynb)"
   ]
  },
  {
   "cell_type": "markdown",
   "metadata": {},
   "source": [
    "#### Exercise 11.1.5"
   ]
  },
  {
   "cell_type": "markdown",
   "metadata": {},
   "source": [
    "For this exercise, assume the collection of candidates isn't empty.\n",
    "The next pattern finds _one_ best solution."
   ]
  },
  {
   "cell_type": "markdown",
   "metadata": {},
   "source": [
    "1. let _best_ be the first of _candidates_\n",
    "2. for each _candidate_ in _candidates_:\n",
    "   1. if _candidate_ is better than _best_:\n",
    "      1. let _best_ be _candidate_"
   ]
  },
  {
   "cell_type": "markdown",
   "metadata": {},
   "source": [
    "Modify or add steps to obtain a pattern for a linear search that finds\n",
    "_all_ equally best solutions. You can write '... is as good as ...'\n",
    "to check if two candidates are equally good.\n",
    "The equally best solutions may be in any order and may be duplicated,\n",
    "so don't specify the type of the output collection.\n",
    "\n",
    "[Hint](../31_Hints/Hints_11_1_05.ipynb)\n",
    "[Answer](../32_Answers/Answers_11_1_05.ipynb)"
   ]
  },
  {
   "cell_type": "markdown",
   "metadata": {},
   "source": [
    "### 11.1.2 Simultaneous and successive searches"
   ]
  },
  {
   "cell_type": "markdown",
   "metadata": {},
   "source": [
    "You may remember the decision problem of checking if a string represents a\n",
    "[valid password](../04_Iteration/04_4_search.ipynb#4.4.2-Valid-password). It was solved with\n",
    "two simultaneous linear searches over the candidates (the string's characters):\n",
    "a search for a lowercase letter and a search for a digit.\n",
    "Each search uses a Boolean to record whether it was successful.\n",
    "When both Booleans become true, the simultaneous search stops:\n",
    "the string is a valid password.\n",
    "\n",
    "Simultaneous linear searches allow us to check if the input collection,\n",
    "rather than an individual item, satisfies the conditions. In this example,\n",
    "no character can be a lowercase letter and a digit.\n",
    "The algorithmic pattern for simultaneous linear searches is also in\n",
    "[Section&nbsp;5.2](../05_TMA01-1/05_2_algorithms.ipynb#5.2.1-Linear-search).\n",
    "\n",
    "We can also search for each condition separately instead of simultaneously,\n",
    "i.e. do separate searches for a lowercase letter and for a digit.\n",
    "Doing one linear search for each condition is less efficient than\n",
    "doing a single pass over the input collection, but has other advantages.\n",
    "First, each linear search becomes simpler.\n",
    "Second, the searches can be allocated to different CPUs and executed in\n",
    "parallel.\n",
    "The time waiting for a result may not be much longer than for a single pass.\n",
    "Third, separate linear search functions for general conditions can be reused,\n",
    "making future search problems easier to solve.\n",
    "\n",
    "If we design each linear search so that the input and output collections,\n",
    "i.e. _candidates_ and _solutions_ in the above pattern, are of the same type,\n",
    "then we can find the candidates that satisfy all conditions with\n",
    "successive separate searches, in which the solutions of one search are\n",
    "the candidates of the next search.\n",
    "This approach views searching as **filtering** the candidate collection:\n",
    "the conditions filter away those candidates that don't satisfy them,\n",
    "while the other candidates 'pass through' to the solutions collection."
   ]
  },
  {
   "cell_type": "markdown",
   "metadata": {
    "tags": [
     "INFO"
    ]
   },
   "source": [
    "<div class=\"alert alert-info\">\n",
    "<strong>Info:</strong> TM112 Block&nbsp;2 Sections 2.1.3 and 2.3 introduce filtering and searching,\n",
    "respectively, and their connection. The algorithmic patterns in both sections\n",
    "are less general versions of the linear search patterns in M269.\n",
    "</div>"
   ]
  },
  {
   "cell_type": "markdown",
   "metadata": {},
   "source": [
    "For example, to find all white t-shirts costing less than £20 in a store,\n",
    "we can use three filters, i.e. three separate general linear searches:\n",
    "find all products of a given colour, find all products of a given kind, and\n",
    "find all products below a given price. Each filter takes and produces\n",
    "a collection of products, so they can be applied one after the other.\n",
    "\n",
    "The order of the filters doesn't matter to obtain a correct result but\n",
    "we should apply them so that they **prune** the search space quickly\n",
    "for subsequent filters to go through as few candidates as possible.\n",
    "For example, a store is likely to have many more cheap products and\n",
    "white products than t-shirts, so searching first for t-shirts will lead to\n",
    "a small collection to search for white products costing less than £20.\n",
    "\n",
    "Let's assume the filters are implemented with functions\n",
    "named 'colour', 'kind' and 'price'.\n",
    "Besides the input collection of products they have a string or integer\n",
    "argument to indicate which colour, kind or price to filter for.\n",
    "The successive filtering algorithm for the above example is:\n",
    "\n",
    "1. let _shirts_ be kind(_store_, 't-shirt')\n",
    "2. let _white shirts_ be colour(_shirts_, 'white')\n",
    "3. let _cheap white shirts_ be price(_white shirts_, 20)\n",
    "\n",
    "Note how the output collection of a linear search is the input of the next one."
   ]
  },
  {
   "cell_type": "markdown",
   "metadata": {
    "tags": [
     "NOTE"
    ]
   },
   "source": [
    "<div class=\"alert alert-warning\">\n",
    "<strong>Note:</strong> The order in which you test conditions doesn't matter for correctness but\n",
    "may have a great impact on efficiency.\n",
    "</div>"
   ]
  },
  {
   "cell_type": "markdown",
   "metadata": {},
   "source": [
    "### 11.1.3 Sorted candidates"
   ]
  },
  {
   "cell_type": "markdown",
   "metadata": {},
   "source": [
    "Consider again finding all white t-shirts under £20 in a store,\n",
    "using the basic linear search algorithm pattern at the start of this section,\n",
    "which checks each candidate against all conditions.\n",
    "What are the best- and worst-case scenarios?\n",
    "(Their complexities may be the same.)\n",
    "\n",
    "___\n",
    "\n",
    "The best case, when the linear search does the least work,\n",
    "is for step&nbsp;2.1.1 of the pattern (adding the current candidate to the solutions)\n",
    "to never execute. This happens when _no_ candidate satisfies the conditions,\n",
    "i.e. the store has no white t-shirts under £20.\n",
    "In the worst case, step&nbsp;2.1.1 is always executed.\n",
    "This happens when _all_ candidates satisfy the conditions,\n",
    "i.e. the store has nothing but white t-shirts under £20.\n",
    "\n",
    "In both cases, the search goes through all candidates:\n",
    "it can't stop early, as there might be more solutions ahead.\n",
    "However, if the candidates are comparable, we can sort them\n",
    "to know when no further solutions are possible.\n",
    "For example, if the products are sorted by ascending price, then\n",
    "as soon as the current candidate costs more than £20, we can stop searching\n",
    "because any remaining candidates cost even more and hence won't be solutions."
   ]
  },
  {
   "cell_type": "markdown",
   "metadata": {},
   "source": [
    "#### Exercise 11.1.6"
   ]
  },
  {
   "cell_type": "markdown",
   "metadata": {},
   "source": [
    "What are the best- and worst-case scenarios for finding all white t-shirts\n",
    "under £20, if the candidates (store products) are in ascending price order?"
   ]
  },
  {
   "cell_type": "markdown",
   "metadata": {
    "tags": [
     "ANSWER"
    ]
   },
   "source": [
    "_Write your answer here._"
   ]
  },
  {
   "cell_type": "markdown",
   "metadata": {},
   "source": [
    "[Answer](../32_Answers/Answers_11_1_06.ipynb)\n",
    "\n",
    "Best and worst cases rarely happen with real data, but\n",
    "sorting can nevertheless reduce the average run-time.\n",
    "We must sort and search the candidate collection so that the solutions\n",
    "(if there are any) appear early. For example, to find white products,\n",
    "we can sort products by ascending or descending colour names.\n",
    "If the order is ascending, then 'white' will appear towards the end of the\n",
    "sequence, so we must search backwards from the highest to the lowest index.\n",
    "If the order is descending, then white products appear towards the start of the\n",
    "sequence and we must search from lowest to highest index.\n",
    "For both orders, we're searching colours from 'z' to 'a' and stop as soon as\n",
    "the colour comes alphabetically before 'white', e.g. 'violet'.\n",
    "\n",
    "Sorting can also help find the best candidate if we can sort the candidates\n",
    "by the criterion that is being optimised.\n",
    "For example, if we want to find the cheapest white t-shirt, and the products\n",
    "are in ascending price order, then we can stop as soon as we find a white t-shirt,\n",
    "as it must be the cheapest of them all.\n",
    "If candidates were unsorted, we'd always have to search the whole collection.\n",
    "\n",
    "We can combine sorting and successive filtering.\n",
    "If we want all cheapest white t-shirts,\n",
    "we can first filter by kind and second by colour, then sort by price,\n",
    "and finally select all products that have the same price as the first one.\n",
    "Why is it more efficient to filter before sorting than the other way around?\n",
    "\n",
    "___\n",
    "\n",
    "We're only interested in the prices of white t-shirts,\n",
    "of which there are only a few compared to all products in the store.\n",
    "Sorting all products by price before filtering them would be a waste of time,\n",
    "especially if sorting takes quadratic time.\n",
    "\n",
    "Since sorting takes longer than searching, even for the example given it's best\n",
    "to avoid it: a linear search for all cheapest products\n",
    "after filtering for white t-shirts will do the job in linear time.\n",
    "\n",
    "However, if the same optimisation criterion is used over and over again, like\n",
    "finding the cheapest black shoes, the cheapest blue dresses, etc., then\n",
    "it's worth sorting all products by that criterion before any searches.\n",
    "The aim is again to amortise the cost of an operation\n",
    "over multiple other operations.\n",
    "Previously we amortised the cost of copying an array over the cost of appending\n",
    "items; here we amortise the cost of sorting over the cost of linear searches."
   ]
  },
  {
   "cell_type": "markdown",
   "metadata": {},
   "source": [
    "#### Optional exercises"
   ]
  },
  {
   "cell_type": "markdown",
   "metadata": {},
   "source": [
    "The Kattis Guide includes some [linear search problems](https://mwermelinger.github.io/kattis-guide/exhaustive.html#linear-search)."
   ]
  },
  {
   "cell_type": "markdown",
   "metadata": {},
   "source": [
    "⟵ [Previous section](11-introduction.ipynb) | [Up](11-introduction.ipynb) | [Next section](11_2_factorisation.ipynb) ⟶"
   ]
  }
 ],
 "metadata": {
  "kernelspec": {
   "display_name": "Python 3",
   "language": "python",
   "name": "python3"
  },
  "language_info": {
   "codemirror_mode": {
    "name": "ipython",
    "version": 3
   },
   "file_extension": ".py",
   "mimetype": "text/x-python",
   "name": "python",
   "nbconvert_exporter": "python",
   "pygments_lexer": "ipython3",
   "version": "3.8.5"
  }
 },
 "nbformat": 4,
 "nbformat_minor": 4
}
