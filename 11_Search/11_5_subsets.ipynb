{
 "cells": [
  {
   "cell_type": "markdown",
   "metadata": {},
   "source": [
    "## 11.5 Searching subsets"
   ]
  },
  {
   "cell_type": "markdown",
   "metadata": {},
   "source": [
    "For the TSP, the order in which places are visited impacts the total cost\n",
    "and so the output must be a sequence. For other problems,\n",
    "the output is a set and we must generate subsets instead of permutations of\n",
    "a collection of items. Here's one such problem."
   ]
  },
  {
   "cell_type": "markdown",
   "metadata": {},
   "source": [
    "### 11.5.1 Problem"
   ]
  },
  {
   "cell_type": "markdown",
   "metadata": {},
   "source": [
    "Many products (cars, dishwashers, etc.) are designed and manufactured\n",
    "as product lines with a set of configurable features, to reduce costs.\n",
    "Not all features are compatible with each other, e.g. the features\n",
    "'petrol engine' and 'diesel engine' are mutually incompatible.\n",
    "\n",
    "Given the features and the pairs of incompatible features,\n",
    "how many different products can be made? This is another example of a CSP:\n",
    "the constraints are given as incompatible feature pairs."
   ]
  },
  {
   "cell_type": "markdown",
   "metadata": {
    "tags": [
     "INFO"
    ]
   },
   "source": [
    "<div class=\"alert alert-info\">\n",
    "<strong>Info:</strong> This is an adaptation of Kattis problem\n",
    "<a href=\"https://open.kattis.com/problems/geppetto\">Geppetto</a>.\n",
    "</div>"
   ]
  },
  {
   "cell_type": "markdown",
   "metadata": {},
   "source": [
    "Here's one possible definition of the problem.\n",
    "How each feature is represented (an integer, a string, etc.) is irrelevant.\n",
    "\n",
    "**Function**: feasible products\\\n",
    "**Inputs**:\n",
    "_features_, a set of objects; _incompatible_, a set of pairs of objects\\ **Preconditions**:\n",
    "\n",
    "- _features_ isn't empty\n",
    "- every pair in _incompatible_ consists of two different objects in _features_\n",
    "- if _incompatible_ has feature pair (A, B), then it hasn't pair (B, A)\n",
    "\n",
    "**Outputs**: _products_, an integer\\\n",
    "**Postconditions**: _products_ is the number of non-empty subsets of _features_ that don't contain a pair of objects in _incompatible_\n",
    "\n",
    "The second precondition states that no feature is incompatible with itself.\n",
    "The third precondition prevents redundant incompatibility information.\n",
    "\n",
    "Let's think about some tests. What are the edge cases?\n",
    "\n",
    "___\n",
    "\n",
    "The smallest possible input is a single feature which therefore\n",
    "has no incompatibilities.\n",
    "Other edges cases (with more than one feature) are no incompatibilities\n",
    "and all features are mutually incompatible.\n",
    "\n",
    "To keep lines of code short, I represent features with integers instead of\n",
    "strings. I use tuples to represent pairs."
   ]
  },
  {
   "cell_type": "code",
   "execution_count": 1,
   "metadata": {
    "execution": {
     "iopub.execute_input": "2021-09-10T15:39:41.368626Z",
     "iopub.status.busy": "2021-09-10T15:39:41.368000Z",
     "iopub.status.idle": "2021-09-10T15:39:41.369875Z",
     "shell.execute_reply": "2021-09-10T15:39:41.370522Z"
    }
   },
   "outputs": [],
   "source": [
    "feasible_products_tests = [\n",
    "    # case,             features,     incompatible, products\n",
    "    ('smallest input',  {1},          {},                 1),\n",
    "    ('all compatible',  {1, 2},       {},                 3),\n",
    "    ('no compatible',   {1, 2},       {(1, 2)},           2),\n",
    "    ('some compatible', {1, 2, 3, 4}, {(1, 2), (3, 4)},   8)\n",
    "]"
   ]
  },
  {
   "cell_type": "markdown",
   "metadata": {},
   "source": [
    "The 'all compatible' test has output 3 because there are\n",
    "two products with one feature each and one product with both features.\n",
    "The latter isn't a feasible product when both features are incompatible,\n",
    "so there are only two single-feature products for the 'no compatible' test.\n",
    "\n",
    "Can you explain why there are eight feasible products for the last problem instance?\n",
    "\n",
    "___\n",
    "\n",
    "There are four single-feature products and another four products with\n",
    "two features: one from the first incompatible pair and\n",
    "another from the second pair.\n",
    "Those four products have features 1 and 3, 1 and 4, 2 and 3, and 2 and 4.\n",
    "There are no products with three or four features as they would include\n",
    "two incompatible features."
   ]
  },
  {
   "cell_type": "markdown",
   "metadata": {},
   "source": [
    "### 11.5.2 Algorithm"
   ]
  },
  {
   "cell_type": "markdown",
   "metadata": {},
   "source": [
    "The problem can be solved with an exhaustive search:\n",
    "generate each non-empty subset of features and test whether it includes\n",
    "a pair of incompatible features. If not, we found a subset of compatible\n",
    "features and can increment the product counter.\n",
    "To check if a candidate feature subset is a solution,\n",
    "we make a linear search over all\n",
    "pairs of incompatible features and test if both are in the current candidate.\n",
    "\n",
    "The overall algorithm thus consists of an exhaustive search within\n",
    "an exhaustive search.\n",
    "\n",
    "In mathematics, a **_k_-combination** is a selection of _k_ items\n",
    "from a collection, without considering the order in which they were selected.\n",
    "If the collection from which items are selected is a set,\n",
    "then a _k_-combination is a subset of size _k_.\n",
    "The 0-combination is the empty set.\n",
    "\n",
    "For this problem, _k_ is the number of features to be put in the product.\n",
    "The algorithm has to generate and test all _k_-combinations,\n",
    "for each _k_ from 1 to the total number of features.\n",
    "\n",
    "1. let _products_ be 0\n",
    "2. for each _k_ from 1 to │*features*│:\n",
    "   1. for each _product_ that is a _k_-combination of _features_:\n",
    "      1. if feasible(_product_, _incompatible_):\n",
    "         1. let _products_ be _products_ + 1\n",
    "\n",
    "Step&nbsp;2.1.1 tests the current product candidate with\n",
    "an auxiliary Boolean function that does the linear search."
   ]
  },
  {
   "cell_type": "markdown",
   "metadata": {},
   "source": [
    "#### Exercise 11.5.1"
   ]
  },
  {
   "cell_type": "markdown",
   "metadata": {},
   "source": [
    "Copy the above algorithm and change it so that\n",
    "instead of the number of feasible products\n",
    "it computes the largest number of mutually compatible features.\n",
    "(This is known as the **independent set** problem.)\n",
    "The output variable should be called _compatible_."
   ]
  },
  {
   "cell_type": "markdown",
   "metadata": {
    "tags": [
     "ANSWER"
    ]
   },
   "source": [
    "_Write your answer here._"
   ]
  },
  {
   "cell_type": "markdown",
   "metadata": {},
   "source": [
    "[Answer](../32_Answers/Answers_11_5_01.ipynb)"
   ]
  },
  {
   "cell_type": "markdown",
   "metadata": {},
   "source": [
    "### 11.5.3 Complexity"
   ]
  },
  {
   "cell_type": "markdown",
   "metadata": {},
   "source": [
    "When generating a subset, we have two choices for each item:\n",
    "either we put it in the subset or we don't.\n",
    "This means there are 2ⁿ subsets of a set with _n_ items.\n",
    "\n",
    "A simple rule of thumb is that $2^{10k} = (2^{10})^k = 1024^k$ is about\n",
    "$1000^k$, so sets of 10, 20 and 30 items (_k_ is 1, 2, and 3)\n",
    "have about a thousand, a million and a billion subsets, respectively.\n",
    "\n",
    "The algorithm does a linear search over the incompatible pairs for each subset.\n",
    "The worst-case complexity is therefore Θ(2ⁿ × │*incompatible*│),\n",
    "with _n_ = │*features*│.\n",
    "The complexity is said to be **exponential** when it's of the form *c*ⁿ, with\n",
    "_c_ some constant greater than one and _n_ the size of one of the inputs."
   ]
  },
  {
   "cell_type": "markdown",
   "metadata": {
    "tags": [
     "INFO"
    ]
   },
   "source": [
    "<div class=\"alert alert-info\">\n",
    "<strong>Info:</strong> MU123 Unit&nbsp;13 and MST124 Unit&nbsp;3 Section&nbsp;4 introduce exponential functions.\n",
    "</div>"
   ]
  },
  {
   "cell_type": "markdown",
   "metadata": {},
   "source": [
    "Exponential algorithms with _c_ = 2 become slow very fast,\n",
    "but not as fast as factorial algorithms,\n",
    "which take eons to finish even for very small inputs,\n",
    "assuming the hardware would last that long.\n",
    "Here's a comparison of several functions.\n",
    "(You don't need to understand the code.)"
   ]
  },
  {
   "cell_type": "code",
   "execution_count": 2,
   "metadata": {
    "execution": {
     "iopub.execute_input": "2021-09-10T15:39:41.374625Z",
     "iopub.status.busy": "2021-09-10T15:39:41.374108Z",
     "iopub.status.idle": "2021-09-10T15:39:41.376452Z",
     "shell.execute_reply": "2021-09-10T15:39:41.376984Z"
    }
   },
   "outputs": [
    {
     "name": "stdout",
     "output_type": "stream",
     "text": [
      " n    n²      n³         2ⁿ                        factorial(n)\n",
      " 0     0       0          1                                   1\n",
      " 5    25     125         32                                 120\n",
      "10   100   1,000      1,024                           3,628,800\n",
      "15   225   3,375     32,768                   1,307,674,368,000\n",
      "20   400   8,000  1,048,576           2,432,902,008,176,640,000\n",
      "25   625  15,625 33,554,432  15,511,210,043,330,985,984,000,000\n"
     ]
    }
   ],
   "source": [
    "from math import factorial\n",
    "\n",
    "print(f'{\"n\":>2} {\"n²\":>5} {\"n³\":>7} {\"2ⁿ\":>10} {\"factorial(n)\":>35}')\n",
    "for n in range(0, 30, 5):\n",
    "    print(f'{n:>2} {n**2:>5} {n**3:>7,} {2**n:>10,} {factorial(n):>35,}')"
   ]
  },
  {
   "cell_type": "markdown",
   "metadata": {},
   "source": [
    "For example, if generating and testing a subset of features takes 1&nbsp;ms, then\n",
    "the algorithm takes about 33.5 thousand seconds, that's over 9&nbsp;hours,\n",
    "for 25 features, a rather small input value.\n",
    "\n",
    "If generating a tour and computing its cost also takes 1&nbsp;ms, then the\n",
    "exhaustive search algorithm for the TSP in the previous section takes"
   ]
  },
  {
   "cell_type": "code",
   "execution_count": 3,
   "metadata": {
    "execution": {
     "iopub.execute_input": "2021-09-10T15:39:41.379769Z",
     "iopub.status.busy": "2021-09-10T15:39:41.379263Z",
     "iopub.status.idle": "2021-09-10T15:39:41.381326Z",
     "shell.execute_reply": "2021-09-10T15:39:41.381941Z"
    }
   },
   "outputs": [
    {
     "name": "stdout",
     "output_type": "stream",
     "text": [
      "491857 billion years\n"
     ]
    }
   ],
   "source": [
    "print(round(factorial(25) / 1000 / 60 / 60 / 24 / 365 / 1e9), 'billion years')"
   ]
  },
  {
   "cell_type": "markdown",
   "metadata": {},
   "source": [
    "to find the best tour to visit 25 places and return to the start place."
   ]
  },
  {
   "cell_type": "markdown",
   "metadata": {
    "tags": [
     "NOTE"
    ]
   },
   "source": [
    "<div class=\"alert alert-warning\">\n",
    "<strong>Note:</strong> Algorithms with best-case exponential complexity can only be applied\n",
    "to very small input values.\n",
    "Algorithms with best-case factorial complexity are practically useless.\n",
    "</div>"
   ]
  },
  {
   "cell_type": "markdown",
   "metadata": {},
   "source": [
    "### 11.5.4 Code"
   ]
  },
  {
   "cell_type": "markdown",
   "metadata": {},
   "source": [
    "I'll show you how to generate subsets in a later chapter.\n",
    "For the moment we'll use another function from the `itertools` module:\n",
    "`combinations`. It takes a collection of items and an integer _k_,\n",
    "and generates one by one all _k_-combinations of those items.\n",
    "Each combination is represented with a tuple although conceptually it's a set.\n",
    "Here's a simple example."
   ]
  },
  {
   "cell_type": "code",
   "execution_count": 4,
   "metadata": {
    "execution": {
     "iopub.execute_input": "2021-09-10T15:39:41.385542Z",
     "iopub.status.busy": "2021-09-10T15:39:41.384890Z",
     "iopub.status.idle": "2021-09-10T15:39:41.386942Z",
     "shell.execute_reply": "2021-09-10T15:39:41.387431Z"
    }
   },
   "outputs": [
    {
     "name": "stdout",
     "output_type": "stream",
     "text": [
      "()\n",
      "('some',)\n",
      "('words',)\n",
      "('some', 'words')\n"
     ]
    }
   ],
   "source": [
    "from itertools import combinations\n",
    "\n",
    "items = {'some', 'words'}\n",
    "for size in range(len(items) + 1):\n",
    "    for subset in combinations(items, size):\n",
    "        print(subset)"
   ]
  },
  {
   "cell_type": "markdown",
   "metadata": {},
   "source": [
    "Let's implement the algorithm above."
   ]
  },
  {
   "cell_type": "code",
   "execution_count": 5,
   "metadata": {
    "execution": {
     "iopub.execute_input": "2021-09-10T15:39:41.395259Z",
     "iopub.status.busy": "2021-09-10T15:39:41.394601Z",
     "iopub.status.idle": "2021-09-10T15:39:41.398136Z",
     "shell.execute_reply": "2021-09-10T15:39:41.398655Z"
    }
   },
   "outputs": [
    {
     "name": "stdout",
     "output_type": "stream",
     "text": [
      "Tests finished.\n"
     ]
    }
   ],
   "source": [
    "from itertools import combinations\n",
    "%run -i ../m269_util.py\n",
    "\n",
    "def feasible_products(features: set, incompatible: set) -> int:\n",
    "    \"\"\"Return the number of subsets of features without incompatibilities.\n",
    "\n",
    "    Preconditions:\n",
    "    - len(features) > 0\n",
    "    - incompatible is a set of pairs of distinct elements of features\n",
    "    - if pair (a, b) is in incompatible, pair (b, a) isn't\n",
    "    \"\"\"\n",
    "\n",
    "    def feasible(product: tuple) -> bool:\n",
    "        \"\"\"Check if product hasn't two incompatible features.\"\"\"\n",
    "        for pair in incompatible:\n",
    "            if pair[0] in product and pair[1] in product:\n",
    "                return False\n",
    "        return True\n",
    "\n",
    "    products = 0\n",
    "    for size in range(1, len(features) + 1):\n",
    "        for product in combinations(features, size):\n",
    "            if feasible(product):\n",
    "                products = products + 1\n",
    "    return products\n",
    "\n",
    "test(feasible_products, feasible_products_tests)"
   ]
  },
  {
   "cell_type": "markdown",
   "metadata": {},
   "source": [
    "#### Exercise 11.5.2"
   ]
  },
  {
   "cell_type": "markdown",
   "metadata": {},
   "source": [
    "The **0/1 knapsack** problem, another classic optimisation problem,\n",
    "goes as follows.\n",
    "Given a set of items as weight–value pairs,\n",
    "and given the largest weight a rucksack can carry without bursting,\n",
    "find the highest-valued subset of items that can be packed.\n",
    "\n",
    "The name of the problem comes from the fact that the solution has\n",
    "0 or 1 of each item.\n",
    "\n",
    "Sketch an algorithm."
   ]
  },
  {
   "cell_type": "markdown",
   "metadata": {
    "tags": [
     "ANSWER"
    ]
   },
   "source": [
    "_Write your answer here._"
   ]
  },
  {
   "cell_type": "markdown",
   "metadata": {},
   "source": [
    "[Hint](../31_Hints/Hints_11_5_02.ipynb)\n",
    "[Answer](../32_Answers/Answers_11_5_02.ipynb)"
   ]
  },
  {
   "cell_type": "markdown",
   "metadata": {},
   "source": [
    "⟵ [Previous section](11_4_permutations.ipynb) | [Up](11-introduction.ipynb) | [Next section](11_6_practice.ipynb) ⟶"
   ]
  }
 ],
 "metadata": {
  "kernelspec": {
   "display_name": "Python 3",
   "language": "python",
   "name": "python3"
  },
  "language_info": {
   "codemirror_mode": {
    "name": "ipython",
    "version": 3
   },
   "file_extension": ".py",
   "mimetype": "text/x-python",
   "name": "python",
   "nbconvert_exporter": "python",
   "pygments_lexer": "ipython3",
   "version": "3.8.5"
  }
 },
 "nbformat": 4,
 "nbformat_minor": 4
}
