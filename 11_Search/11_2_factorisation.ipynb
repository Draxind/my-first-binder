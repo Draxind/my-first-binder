{
 "cells": [
  {
   "cell_type": "markdown",
   "metadata": {},
   "source": [
    "## 11.2 Factorisation"
   ]
  },
  {
   "cell_type": "markdown",
   "metadata": {},
   "source": [
    "This section illustrates further exhaustive search techniques with\n",
    "a famous and important problem in number theory and cryptography:\n",
    "given a positive integer _n_, compute all its positive integer\n",
    "divisors (also called factors).\n",
    "For example, the positive integer factors of 5 are 1 and 5, and\n",
    "those of 10 are 1, 2, 5 and 10.\n",
    "\n",
    "I start by writing the problem definition and some tests in Python.\n",
    "To ease testing, I produce the factors in no particular order, as a set.\n",
    "\n",
    "**Function**: factorisation\\\n",
    "**Inputs**: _n_, an integer\\\n",
    "**Preconditions**: _n_ > 0\\\n",
    "**Output**: _factors_, a set\\\n",
    "**Postconditions**: the members of _factors_ are all the\n",
    "positive integer divisors of _n_"
   ]
  },
  {
   "cell_type": "code",
   "execution_count": 1,
   "metadata": {
    "execution": {
     "iopub.execute_input": "2021-09-10T15:39:17.373559Z",
     "iopub.status.busy": "2021-09-10T15:39:17.373054Z",
     "iopub.status.idle": "2021-09-10T15:39:17.374812Z",
     "shell.execute_reply": "2021-09-10T15:39:17.375456Z"
    }
   },
   "outputs": [],
   "source": [
    "factorisation_tests = [\n",
    "    # case,         n,  factors\n",
    "    ('smallest n',  1,  {1}),\n",
    "    ('2 factors',   2,  {1, 2}),\n",
    "    ('3 factors',   25, {1, 5, 25}),\n",
    "    ('4 factors',   10, {1, 2, 5, 10}),\n",
    "    ('5+ factors',  40, {1, 2, 4, 10, 20, 40})\n",
    "]"
   ]
  },
  {
   "cell_type": "markdown",
   "metadata": {},
   "source": [
    "To apply brute-force search I must state the problem as\n",
    "'find those candidates that satisfy these criteria'. For this problem\n",
    "we must find those positive integers that divide _n_ without remainder."
   ]
  },
  {
   "cell_type": "markdown",
   "metadata": {
    "tags": [
     "NOTE"
    ]
   },
   "source": [
    "<div class=\"alert alert-warning\">\n",
    "<strong>Note:</strong> To apply exhaustive search, rephrase the problem at hand\n",
    "as a search problem.\n",
    "</div>"
   ]
  },
  {
   "cell_type": "markdown",
   "metadata": {},
   "source": [
    "### 11.2.1 Make candidates explicit"
   ]
  },
  {
   "cell_type": "markdown",
   "metadata": {},
   "source": [
    "To obtain a brute-force search algorithm we must answer these questions:\n",
    "\n",
    "- What are the candidates?\n",
    "- How are they generated, one by one?\n",
    "- How is each candidate tested?\n",
    "\n",
    "The second question is very easy to answer if we have a collection of\n",
    "candidates to iterate over but the input is a single integer.\n",
    "We must first create a collection of candidates to apply linear search.\n",
    "\n",
    "By rephrasing factorisation as a search problem, the candidates became\n",
    "explicit: the positive integers. Unfortunately, there are\n",
    "infinitely many of them, and the algorithm would never stop iterating.\n",
    "For brute-force search to work, two conditions must be met:\n",
    "the collection of candidates is finite and includes all solutions.\n",
    "Can you think of a finite range of positive integers that\n",
    "includes the factors of _n_?\n",
    "\n",
    "___\n",
    "\n",
    "The smallest positive integer is 1 and no number higher than _n_\n",
    "divides _n_, so the integers from 1 to _n_ include all factors of _n_."
   ]
  },
  {
   "cell_type": "markdown",
   "metadata": {
    "tags": [
     "NOTE"
    ]
   },
   "source": [
    "<div class=\"alert alert-warning\">\n",
    "<strong>Note:</strong> If the solutions are integers, determine the smallest and largest solutions to obtain a finite range of candidates.\n",
    "</div>"
   ]
  },
  {
   "cell_type": "markdown",
   "metadata": {},
   "source": [
    "Having a finite collection of candidates (1 to _n_), we turn to\n",
    "the other two questions of how to generate and test each one.\n",
    "Generating integers within a range is trivial with a for-loop.\n",
    "Checking if a candidate is a solution, i.e. a divisor of _n_,\n",
    "is also trivial with the modulo operation.\n",
    "\n",
    "1. let _factors_ be the empty set\n",
    "2. for each _candidate_ from 1 to _n_:\n",
    "    1. if _n_ mod _candidate_ = 0:\n",
    "        1. add _candidate_ to _factors_\n",
    "\n",
    "What's the complexity of this algorithm?\n",
    "\n",
    "___\n",
    "\n",
    "The algorithm is a linear search over the integers from 1 to _n_ and\n",
    "for each one executes two or three constant-time operations\n",
    "(just step&nbsp;2.1 or also step&nbsp;2.1.1).\n",
    "The best- and worst-case complexities are thus linear in _n_: Θ(_n_).\n",
    "\n",
    "The code is a direct translation of the algorithm to Python."
   ]
  },
  {
   "cell_type": "code",
   "execution_count": 2,
   "metadata": {
    "execution": {
     "iopub.execute_input": "2021-09-10T15:39:17.380346Z",
     "iopub.status.busy": "2021-09-10T15:39:17.379786Z",
     "iopub.status.idle": "2021-09-10T15:39:17.383035Z",
     "shell.execute_reply": "2021-09-10T15:39:17.383691Z"
    }
   },
   "outputs": [
    {
     "name": "stdout",
     "output_type": "stream",
     "text": [
      "5+ factors FAILED: {1, 2, 4, 5, 8, 40, 10, 20} instead of {1, 2, 4, 40, 10, 20}\n",
      "Tests finished.\n"
     ]
    }
   ],
   "source": [
    "%run -i ../m269_util\n",
    "\n",
    "def factorisation(n: int) -> set:\n",
    "    \"\"\"Return all positive integer divisors of n.\n",
    "\n",
    "    Preconditions: n > 0\n",
    "    \"\"\"\n",
    "    factors = set()\n",
    "    for candidate in range(1, n+1):\n",
    "        if n % candidate == 0:\n",
    "            factors.add(candidate)\n",
    "    return factors\n",
    "\n",
    "test(factorisation, factorisation_tests)"
   ]
  },
  {
   "cell_type": "markdown",
   "metadata": {},
   "source": [
    "The last test fails. It's easy to see why, because\n",
    "the test function prints the actual and expected outputs:\n",
    "I forgot two factors of 40.\n",
    "I must replace the expected output of the last test."
   ]
  },
  {
   "cell_type": "code",
   "execution_count": 3,
   "metadata": {
    "execution": {
     "iopub.execute_input": "2021-09-10T15:39:17.387443Z",
     "iopub.status.busy": "2021-09-10T15:39:17.386904Z",
     "iopub.status.idle": "2021-09-10T15:39:17.388652Z",
     "shell.execute_reply": "2021-09-10T15:39:17.389129Z"
    }
   },
   "outputs": [
    {
     "name": "stdout",
     "output_type": "stream",
     "text": [
      "Tests finished.\n"
     ]
    }
   ],
   "source": [
    "factorisation_tests[-1] = ('5+ factors',  40, {1, 2, 4, 5, 8, 10, 20, 40})\n",
    "test(factorisation, factorisation_tests)"
   ]
  },
  {
   "cell_type": "markdown",
   "metadata": {},
   "source": [
    "As explained [previously](../02_Sequence/02_5_maths_functions.ipynb#2.5.2-Algorithms),\n",
    "an algorithm is correct if it produces an output that satisfies\n",
    "the postconditions for each input that satisfies the preconditions.\n",
    "To properly check the implementation of an algorithm,\n",
    "every test must associate a valid input to a valid output;\n",
    "otherwise the test itself is incorrect.\n",
    "Here, the test is incorrect because 40&nbsp;satisfies the preconditions but\n",
    "{1, 2, 4, 10, 20, 40} doesn't satisfy the postconditions: the set doesn't\n",
    "contain all positive integer divisors of 40, it's missing two of them."
   ]
  },
  {
   "cell_type": "markdown",
   "metadata": {
    "tags": [
     "NOTE"
    ]
   },
   "source": [
    "<div class=\"alert alert-warning\">\n",
    "<strong>Note:</strong> If the code fails a test, maybe the code is correct and the test isn't.\n",
    "</div>"
   ]
  },
  {
   "cell_type": "markdown",
   "metadata": {},
   "source": [
    "### 11.2.2 Compute solutions"
   ]
  },
  {
   "cell_type": "markdown",
   "metadata": {},
   "source": [
    "Sometimes, once you find a solution, you can directly compute other\n",
    "solutions from it and remove them from the candidates.\n",
    "This reduces the remaining number of candidates to generate and test.\n",
    "For this problem, if we have a factor _f_ of _n_,\n",
    "then _n/f_ is the 'symmetric' factor, e.g. if 2 divides 10 then\n",
    "10 / 2 = 5 also divides 10.\n",
    "\n",
    "The algorithm must start with an explicit collection of candidates\n",
    "so that the computed solutions can be removed from it.\n",
    "\n",
    "1. let _factors_ be the empty set\n",
    "1. let _candidates_ be {1, ..., _n_}\n",
    "2. while _candidates_ isn't empty:\n",
    "   1. remove some _candidate_ from _candidates_\n",
    "   2. if _n_ mod _candidate_ = 0:\n",
    "      1. add _candidate_ to _factors_\n",
    "      2. add _n_ / _candidate_ to _factors_\n",
    "      3. remove _n_ / _candidate_ from _candidates_\n",
    "\n",
    "This algorithm is a linear search because\n",
    "it iterates over a given collection, but contrary to a for-loop,\n",
    "it goes through the candidates in no particular order.\n",
    "I'll show you shortly how to implement step&nbsp;3.1 in Python.\n",
    "\n",
    "What are the best- and worst-case complexities of this algorithm?\n",
    "Assume step&nbsp;3.1 takes constant time.\n",
    "\n",
    "___\n",
    "\n",
    "All operations within the while-loop take constant time.\n",
    "The number of iterations is either _n_&nbsp;/&nbsp;2 in the best case\n",
    "(each iteration removes two factors) or _n_ in the worst case\n",
    "(each iteration removes one factor).\n",
    "The algorithm is thus linear in _n_ in the best and worst cases.\n",
    "\n",
    "Step&nbsp;3.1 is implemented with Python's `set` method `pop()`, which\n",
    "removes and returns an arbitrary set member."
   ]
  },
  {
   "cell_type": "code",
   "execution_count": 4,
   "metadata": {
    "execution": {
     "iopub.execute_input": "2021-09-10T15:39:17.394043Z",
     "iopub.status.busy": "2021-09-10T15:39:17.393543Z",
     "iopub.status.idle": "2021-09-10T15:39:17.395408Z",
     "shell.execute_reply": "2021-09-10T15:39:17.396029Z"
    }
   },
   "outputs": [
    {
     "name": "stdout",
     "output_type": "stream",
     "text": [
      "Tests finished.\n"
     ]
    }
   ],
   "source": [
    "def symmetric_factorisation(n: int) -> set:\n",
    "    \"\"\"Return all positive integer divisors of n.\n",
    "\n",
    "    Preconditions: n > 0\n",
    "    \"\"\"\n",
    "    factors = set()\n",
    "    candidates = set(range(1, n+1))\n",
    "    while len(candidates) > 0:\n",
    "        candidate = candidates.pop()\n",
    "        if n % candidate == 0:\n",
    "            factors.add(candidate)\n",
    "            factors.add(n / candidate)\n",
    "            candidates.discard(n / candidate)\n",
    "    return factors\n",
    "\n",
    "test(symmetric_factorisation, factorisation_tests)"
   ]
  },
  {
   "cell_type": "markdown",
   "metadata": {},
   "source": [
    "### 11.2.3 Sort candidates"
   ]
  },
  {
   "cell_type": "markdown",
   "metadata": {},
   "source": [
    "In [Section&nbsp;11.1.3](./11_1_linear.ipynb#Sorted-candidates)\n",
    "you saw that sorting the products in store\n",
    "allowed the linear search to stop early.\n",
    "My first factorisation approach generates the factors in ascending\n",
    "order, while the second computes some factors directly.\n",
    "Let's try to combine both approaches and see if we can stop early\n",
    "due to the sorted order of the candidates.\n",
    "\n",
    "The combined algorithm tests candidates _f_ in ascending order\n",
    "(1, 2, 3, ...) and, if they're a factor, adds _n_ / _f_ to _factors_.\n",
    "As _f_ increases, _n_ / _f_ decreases (_n_/1, _n_/2, _n_/3, ...),\n",
    "so we can stop when _f_ = _n_ / _f_. If the algorithm continues\n",
    "increasing _f_ beyond that point, then it will only find the\n",
    "same factors that were already computed.\n",
    "When _f_ = _n_ / _f_ we have *f*² = _n_ or _f_ = $\\sqrt{n}$.\n",
    "The square root may be a real number, not an integer, so\n",
    "we must round it down and stop at _f_ = floor($\\sqrt{n}$).\n",
    "\n",
    "To sum up, by generating candidates in ascending order and by\n",
    "computing the symmetric factors, we can stop much earlier:\n",
    "at the floor of the square root of _n_.\n",
    "Most programming languages have a function named `sqrt` to compute the square\n",
    "root, so we'll use it in algorithms, instead of typesetting the root symbol.\n",
    "\n",
    "1. let _factors_ be the empty set\n",
    "2. for each _candidate_ from 1 to floor(sqrt(_n_)):\n",
    "   2. if _n_ mod _candidate_ = 0:\n",
    "      1. add _candidate_ to _factors_\n",
    "      2. add _n_ / _candidate_ to _factors_\n",
    "\n",
    "Python's `sqrt` function is in the `math` module."
   ]
  },
  {
   "cell_type": "code",
   "execution_count": 5,
   "metadata": {
    "execution": {
     "iopub.execute_input": "2021-09-10T15:39:17.401292Z",
     "iopub.status.busy": "2021-09-10T15:39:17.400344Z",
     "iopub.status.idle": "2021-09-10T15:39:17.403006Z",
     "shell.execute_reply": "2021-09-10T15:39:17.403548Z"
    }
   },
   "outputs": [
    {
     "name": "stdout",
     "output_type": "stream",
     "text": [
      "Tests finished.\n"
     ]
    }
   ],
   "source": [
    "import math\n",
    "\n",
    "def root_factorisation(n: int) -> set:\n",
    "    \"\"\"Return all positive integer divisors of n.\n",
    "\n",
    "    Preconditions: n > 0\n",
    "    \"\"\"\n",
    "    factors = set()\n",
    "    for candidate in range(1, math.floor(math.sqrt(n)) + 1):\n",
    "        if n % candidate == 0:\n",
    "            factors.add(candidate)\n",
    "            factors.add(n / candidate)\n",
    "    return factors\n",
    "\n",
    "test(root_factorisation, factorisation_tests)"
   ]
  },
  {
   "cell_type": "markdown",
   "metadata": {},
   "source": [
    "The complexity of this algorithm is Θ($\\sqrt{n}$).\n",
    "This is a vast improvement. Imagine _n_ is one million.\n",
    "The original algorithm does one million iterations but\n",
    "this one only executes a thousand!\n",
    "\n",
    "The new algorithm isn't just faster: it copes much better with a growing input.\n",
    "The larger the input, the larger the run-time reduction,\n",
    "compared to the full linear search from 1 to _n_.\n",
    "A picture shows it better. (You don't need to understand this code.)"
   ]
  },
  {
   "cell_type": "code",
   "execution_count": 6,
   "metadata": {
    "execution": {
     "iopub.execute_input": "2021-09-10T15:39:17.419517Z",
     "iopub.status.busy": "2021-09-10T15:39:17.419064Z",
     "iopub.status.idle": "2021-09-10T15:39:20.537663Z",
     "shell.execute_reply": "2021-09-10T15:39:20.538213Z"
    }
   },
   "outputs": [
    {
     "data": {
      "image/png": "[encoded data removed]",
      "text/plain": [
       "<Figure size 432x288 with 1 Axes>"
      ]
     },
     "metadata": {
      "needs_background": "light"
     },
     "output_type": "display_data"
    }
   ],
   "source": [
    "from matplotlib.pyplot import plot,xlabel,ylabel,title,legend,show\n",
    "%matplotlib inline\n",
    "\n",
    "n_values = []               # the values for n\n",
    "linear_times = []           # normal factorisation\n",
    "symmetric_times = []        # symmetric factorisation\n",
    "root_times = []             # root factorisation\n",
    "for n in range(200):\n",
    "    n_values.append(n)\n",
    "\n",
    "    run_times = %timeit -qo -r 3 -n 100 factorisation(n)\n",
    "    linear_times.append(run_times.best * 1e6)\n",
    "\n",
    "    run_times = %timeit -qo -r 3 -n 100 symmetric_factorisation(n)\n",
    "    symmetric_times.append(run_times.best * 1e6)\n",
    "\n",
    "    run_times = %timeit -qo -r 3 -n 100 root_factorisation(n)\n",
    "    root_times.append(run_times.best * 1e6)\n",
    "\n",
    "plot(n_values, linear_times, 'r-', label='search 1 to n')\n",
    "plot(n_values, symmetric_times, 'k.', label='add f and n/f')\n",
    "plot(n_values, root_times,'b-', label='search 1 to $\\sqrt{n}$')\n",
    "title('Factorisation')\n",
    "xlabel('n')\n",
    "ylabel('Run-time (µs)')\n",
    "legend()\n",
    "show()"
   ]
  },
  {
   "cell_type": "markdown",
   "metadata": {},
   "source": [
    "The basic linear search from 1 to _n_ (Section&nbsp;11.2.1) and\n",
    "the linear search that computes solution _n_ / _f_ (Section&nbsp;11.2.2)\n",
    "have linear complexity (the run-times form straight upward lines), but\n",
    "the latter takes much longer, even though it makes fewer iterations, because\n",
    "it uses an additional set with the candidates yet to test.\n",
    "The operations within each iteration take much longer to execute."
   ]
  },
  {
   "cell_type": "markdown",
   "metadata": {
    "tags": [
     "NOTE"
    ]
   },
   "source": [
    "<div class=\"alert alert-warning\">\n",
    "<strong>Note:</strong> Algorithms with the same complexity may have very different run-times.\n",
    "</div>"
   ]
  },
  {
   "cell_type": "markdown",
   "metadata": {},
   "source": [
    "The linear search up to $\\sqrt{n}$ (Ssection&nbsp;11.2.3) seems to have\n",
    "constant complexity (a horizontal line) because it runs much faster\n",
    "than the other two and so the time growth is too small to see.\n",
    "If you comment out all code related to `linear_times` and `symmetric_times`,\n",
    "to only compute and plot the `root_times`, then you will see they also grow.\n",
    "\n",
    "The number of factors varies for consecutive values of _n_.\n",
    "This leads to 'spikes' in all run-times because the more factors there are,\n",
    "the more time is spent adding them to the solution set."
   ]
  },
  {
   "cell_type": "markdown",
   "metadata": {},
   "source": [
    "### 11.2.4 Prime numbers"
   ]
  },
  {
   "cell_type": "markdown",
   "metadata": {},
   "source": [
    "To finish this section, here's a similar problem for practice.\n",
    "\n",
    "A positive integer _n_ is prime if and only if it has exactly two\n",
    "different positive integer factors, e.g. 1 and 4 aren't prime but 2 is.\n",
    "Given a positive integer _n_, decide whether it's prime."
   ]
  },
  {
   "cell_type": "markdown",
   "metadata": {},
   "source": [
    "#### Exercise 11.2.1"
   ]
  },
  {
   "cell_type": "markdown",
   "metadata": {},
   "source": [
    "Is `len(factorisation(n)) == 2` an efficient way of solving the problem?"
   ]
  },
  {
   "cell_type": "markdown",
   "metadata": {
    "tags": [
     "ANSWER"
    ]
   },
   "source": [
    "_Write your answer here._"
   ]
  },
  {
   "cell_type": "markdown",
   "metadata": {},
   "source": [
    "[Answer](../32_Answers/Answers_11_2_01.ipynb)"
   ]
  },
  {
   "cell_type": "markdown",
   "metadata": {},
   "source": [
    "#### Exercise 11.2.2"
   ]
  },
  {
   "cell_type": "markdown",
   "metadata": {},
   "source": [
    "Sketch a more efficient algorithm to decide if _n_ is prime."
   ]
  },
  {
   "cell_type": "markdown",
   "metadata": {
    "tags": [
     "ANSWER"
    ]
   },
   "source": [
    "_Write your answer here._"
   ]
  },
  {
   "cell_type": "markdown",
   "metadata": {},
   "source": [
    "[Hint](../31_Hints/Hints_11_2_02.ipynb)\n",
    "[Answer](../32_Answers/Answers_11_2_02.ipynb)"
   ]
  },
  {
   "cell_type": "markdown",
   "metadata": {},
   "source": [
    "#### Exercise 11.2.3 (optional)"
   ]
  },
  {
   "cell_type": "markdown",
   "metadata": {},
   "source": [
    "Implement your algorithm. Write a docstring and add tests."
   ]
  },
  {
   "cell_type": "code",
   "execution_count": 7,
   "metadata": {
    "execution": {
     "iopub.execute_input": "2021-09-10T15:39:20.544595Z",
     "iopub.status.busy": "2021-09-10T15:39:20.543695Z",
     "iopub.status.idle": "2021-09-10T15:39:20.549751Z",
     "shell.execute_reply": "2021-09-10T15:39:20.550280Z"
    }
   },
   "outputs": [],
   "source": [
    "%run -i ../m269_util\n",
    "import math\n",
    "\n",
    "def is_prime(n: int) -> bool:\n",
    "    pass\n",
    "\n",
    "prime_tests = [\n",
    "    # case,         n,      is_prime\n",
    "    ('smallest n',  1,      False),\n",
    "    ('even prime',  2,      True),\n",
    "    ('n = 4',       4,      False)\n",
    "]\n",
    "\n",
    "test(is_prime, prime_tests)"
   ]
  },
  {
   "cell_type": "markdown",
   "metadata": {},
   "source": [
    "⟵ [Previous section](11_1_linear.ipynb) | [Up](11-introduction.ipynb) | [Next section](11_3_constraints.ipynb) ⟶"
   ]
  }
 ],
 "metadata": {
  "kernelspec": {
   "display_name": "Python 3",
   "language": "python",
   "name": "python3"
  },
  "language_info": {
   "codemirror_mode": {
    "name": "ipython",
    "version": 3
   },
   "file_extension": ".py",
   "mimetype": "text/x-python",
   "name": "python",
   "nbconvert_exporter": "python",
   "pygments_lexer": "ipython3",
   "version": "3.8.5"
  }
 },
 "nbformat": 4,
 "nbformat_minor": 4
}
