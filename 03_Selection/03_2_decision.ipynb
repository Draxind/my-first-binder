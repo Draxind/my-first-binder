{
 "cells": [
  {
   "cell_type": "markdown",
   "metadata": {},
   "source": [
    "## 3.2 Decision problems"
   ]
  },
  {
   "cell_type": "markdown",
   "metadata": {},
   "source": [
    "A problem that has only two possible outcomes is called a **decision problem**,\n",
    "like deciding whether an integer is even or odd, or is a natural number or not.\n",
    "The output of such problems is best represented as a Boolean.\n",
    "\n",
    "This section shows the process of solving a computational problem,\n",
    "using a decision problem as an example."
   ]
  },
  {
   "cell_type": "markdown",
   "metadata": {},
   "source": [
    "### 3.2.1 Problem definition"
   ]
  },
  {
   "cell_type": "markdown",
   "metadata": {},
   "source": [
    "Consider the following informal problem description:\n",
    "\n",
    "> Many mobile phone apps require internet access to work.\n",
    "> Implement a function that apps can call\n",
    "> to check if the phone has an internet connection, i.e.\n",
    "> if it's not in flight mode (which ceases all communications) and\n",
    "> Wi-Fi or mobile data are on.\n",
    "\n",
    "The first step towards solving this problem is to define the function.\n",
    "Decision problems should also have names that become yes/no questions\n",
    "when appending a question mark.\n",
    "Here are some options (other names are possible):\n",
    "\n",
    "**Function**: is internet connected\\\n",
    "**Function**: connected to internet\\\n",
    "**Function**: internet connection\n",
    "\n",
    "Next, I must think about the inputs.\n",
    "To determine if there's an internet connection, the function requires\n",
    "the current state of the flight mode, Wi-Fi connection and data connection.\n",
    "Each of those can be on or off. The operation therefore has three Boolean inputs.\n",
    "\n",
    "**Inputs**:\n",
    "_in flight mode_, a Boolean; _wifi on_, a Boolean; _data on_, a Boolean\n",
    "\n",
    "Remember that variable names are in lowercase and can't include hyphens,\n",
    "so it's _wifi on_, not _Wi-Fi on_.\n",
    "\n",
    "I can't think of any excluded value combinations, so:\n",
    "\n",
    "**Preconditions**: true\n",
    "\n",
    "In M269, the output of a decision problem is always a Boolean.\n",
    "\n",
    "**Output**: _internet on_, a Boolean\n",
    "\n",
    "The postcondition is given by the problem statement above:\n",
    "the phone has an internet connection if it's not in flight mode and\n",
    "Wi-Fi or mobile data are on.\n",
    "This statement, in everyday English, is like the statement about Alice:\n",
    "it doesn't use 'and' and 'or' with the same precedence as Boolean logic does.\n",
    "I must therefore translate it to the unambiguous English version we\n",
    "use in function definitions and algorithms, which relies on a precise meaning,\n",
    "precedence and associativity for 'and', 'or' and every other operation.\n",
    "\n",
    "**Postconditions**:\n",
    "_internet on_ = true if and only if _in flight mode_ = false and\n",
    "(_wifi on_ = true or _data on_ = true)\n",
    "\n",
    "A condition of the form '_b_ = true', where _b_ is a Boolean variable,\n",
    "is true when _b_ is true and false when _b_ is false.\n",
    "In other words, the condition has the same value as the variable and\n",
    "can thus be simplified to just _b_. Similarly,\n",
    "a condition of the form '_b_ = false' has the opposite value of _b_ and so\n",
    "can be simplified to 'not _b_'.\n",
    "Here's the whole definition, with these simplifications:\n",
    "\n",
    "**Function**: internet connection\\\n",
    "**Inputs**:\n",
    "_in flight mode_, a Boolean; _wifi on_, a Boolean; _data on_, a Boolean\\\n",
    "**Preconditions**: true\\\n",
    "**Output**: _internet on_, a Boolean\\\n",
    "**Postconditions**:\n",
    "_internet on_ if and only if not _in flight mode_ and\n",
    "(_wifi on_ or _data on_)"
   ]
  },
  {
   "cell_type": "markdown",
   "metadata": {},
   "source": [
    "### 3.2.2 Problem instances"
   ]
  },
  {
   "cell_type": "markdown",
   "metadata": {},
   "source": [
    "The next step of the process is to think how we'll check our solution,\n",
    "when we have it."
   ]
  },
  {
   "cell_type": "markdown",
   "metadata": {
    "tags": [
     "INFO"
    ]
   },
   "source": [
    "<div class=\"alert alert-info\">\n",
    "<strong>Info:</strong> Defining tests before devising an algorithm is part of test-driven development.\n",
    "</div>"
   ]
  },
  {
   "cell_type": "markdown",
   "metadata": {},
   "source": [
    "The function definition describes the general problem.\n",
    "A **problem instance** is a concrete problem: a collection of values,\n",
    "one per input, that satisfy the preconditions. The problem instances are those for which the algorithm must produce the correct output,\n",
    "i.e. that satisfies the postconditions.\n",
    "\n",
    "A **test case** is a problem instance and its expected output.\n",
    "Writing a **test table** with one test case per row helps us check that\n",
    "we didn't forget any input, pre- or postcondition and\n",
    "helps us check our algorithm, once we write it.\n",
    "\n",
    "The table has one column per input and output, and\n",
    "one extra column to describe the test case.\n",
    "You should include problem instances for the **edge cases**,\n",
    "i.e. values that occur at the boundaries.\n",
    "Examples of edge cases are: the input's lowest and highest possible values;\n",
    "zero (the boundary between negative and positive integers);\n",
    "1 (the lowest positive number); −1 (the highest negative number).\n",
    "You can only include edge cases that satisfy the preconditions, or else\n",
    "the edge case is not a problem instance.\n",
    "\n",
    "This function has three inputs, each with two possible values, so there are\n",
    "only 2 × 2 × 2 = 8 problem instances. I consider the most interesting ones and\n",
    "leave the rest as an exercise for you.\n",
    "\n",
    "Case | _in flight mode_ | _wifi on_ | _data on_ | _internet on_\n",
    "-|-|-|-|-\n",
    "all on | true | true | true | false\n",
    "all off | false | false | false | false\n",
    "Wi-Fi connection | false | true | false | true\n",
    "data connection | false | false | true | true\n",
    "both connections | false | true | true | true\n",
    "\n",
    "The chosen instances cover all cases for Wi-Fi and data: both, neither, or only\n",
    "one of them is on. In the first instance, the flight mode overrides the Wi-Fi\n",
    "and data connections and so there's no internet access."
   ]
  },
  {
   "cell_type": "markdown",
   "metadata": {
    "tags": [
     "INFO"
    ]
   },
   "source": [
    "<div class=\"alert alert-info\">\n",
    "<strong>Info:</strong> TM112 Block&nbsp;1 Section&nbsp;4.2.2 introduces test tables.\n",
    "</div>"
   ]
  },
  {
   "cell_type": "markdown",
   "metadata": {},
   "source": [
    "#### Exercise 3.2.1"
   ]
  },
  {
   "cell_type": "markdown",
   "metadata": {},
   "source": [
    "Write the three remaining problem instances in the table below.\n",
    "\n",
    "Case | _in flight mode_ | _wifi on_ | _data on_ | _internet on_\n",
    "-|-|-|-|-\n",
    "  |   |   |   |\n",
    "  |   |   |   |\n",
    "  |   |   |   |\n",
    "\n",
    "\n",
    "[Hint](../31_Hints/Hints_03_2_01.ipynb)\n",
    "[Answer](../32_Answers/Answers_03_2_01.ipynb)"
   ]
  },
  {
   "cell_type": "markdown",
   "metadata": {},
   "source": [
    "### 3.2.3 Algorithm"
   ]
  },
  {
   "cell_type": "markdown",
   "metadata": {},
   "source": [
    "The next step is to write an algorithm in plain but unambiguous English\n",
    "(and some maths, if necessary).\n",
    "This is the most creative step of the whole process: there's no recipe for it.\n",
    "M269 teaches several algorithmic techniques to put you in the right\n",
    "direction, but coming up with the algorithm can still be hard work.\n",
    "\n",
    "For this problem I must translate the postcondition into an assignment:\n",
    "\n",
    "> let _internet on_ be (not _flight mode_) and (_wifi on_ or _data on_)\n",
    "\n",
    "The first pair of parentheses is redundant because\n",
    "negations are evaluated before conjunctions, but\n",
    "I think they make the expression easier to read and understand."
   ]
  },
  {
   "cell_type": "markdown",
   "metadata": {},
   "source": [
    "### 3.2.4 Complexity"
   ]
  },
  {
   "cell_type": "markdown",
   "metadata": {},
   "source": [
    "The next step is to analyse the complexity of our algorithm and,\n",
    "if it turns out to be too high, i.e. the algorithm is too inefficient,\n",
    "go back to the previous step and improve or completely redesign the algorithm.\n",
    "\n",
    "My algorithm does a fixed number of operations:\n",
    "one assignment and three logical operations (one of each). The algorithm has\n",
    "constant complexity, assuming that logical operations have constant complexity.\n",
    "Do you think that's a reasonable assumption?\n",
    "\n",
    "___\n",
    "\n",
    "Definitely, for three reasons. First, logical operations are\n",
    "executed in hardware, by the computer's arithmetic and logic unit (ALU).\n",
    "Second, Booleans can't grow in value and size, unlike numbers, because\n",
    "there's only two of them. Hence the run-time of logical operations can't grow.\n",
    "Third, computing the result of a logical operation consists of a fixed number\n",
    "of elementary steps to look up a truth table of at most four rows."
   ]
  },
  {
   "cell_type": "markdown",
   "metadata": {
    "tags": [
     "INFO"
    ]
   },
   "source": [
    "<div class=\"alert alert-info\">\n",
    "<strong>Info:</strong> TM112 Block&nbsp;1 Section&nbsp;3.1.1 introduces the ALU.\n",
    "</div>"
   ]
  },
  {
   "cell_type": "markdown",
   "metadata": {},
   "source": [
    "The algorithm has complexity Θ(1). That's as good as it gets."
   ]
  },
  {
   "cell_type": "markdown",
   "metadata": {},
   "source": [
    "### 3.2.5 Code and tests"
   ]
  },
  {
   "cell_type": "markdown",
   "metadata": {},
   "source": [
    "Finally, we translate the function definition and the algorithm\n",
    "to a Python function.\n",
    "The header is rather long and so I write the parameters over multiple lines."
   ]
  },
  {
   "cell_type": "code",
   "execution_count": 1,
   "metadata": {
    "execution": {
     "iopub.execute_input": "2021-09-10T15:36:10.344689Z",
     "iopub.status.busy": "2021-09-10T15:36:10.343886Z",
     "iopub.status.idle": "2021-09-10T15:36:10.345744Z",
     "shell.execute_reply": "2021-09-10T15:36:10.346301Z"
    }
   },
   "outputs": [],
   "source": [
    "def internet_connection(in_flight_mode: bool,\n",
    "                        wifi_on: bool,\n",
    "                        data_on: bool) -> bool:\n",
    "    \"\"\"Return whether there's a connection to the Internet.\n",
    "\n",
    "    Postconditions: the output is true if and only if\n",
    "    (not in_flight_mode) and (wifi_on or data_on)\n",
    "    \"\"\"\n",
    "    internet_on = (not in_flight_mode) and (wifi_on or data_on)\n",
    "    return internet_on"
   ]
  },
  {
   "cell_type": "markdown",
   "metadata": {},
   "source": [
    "To check the algorithm and its translation to Python, I must\n",
    "call the Python function for each test case in my table and\n",
    "compare the interpreter's output with the last column of the table."
   ]
  },
  {
   "cell_type": "code",
   "execution_count": 2,
   "metadata": {
    "execution": {
     "iopub.execute_input": "2021-09-10T15:36:10.353704Z",
     "iopub.status.busy": "2021-09-10T15:36:10.352994Z",
     "iopub.status.idle": "2021-09-10T15:36:10.355599Z",
     "shell.execute_reply": "2021-09-10T15:36:10.356194Z"
    }
   },
   "outputs": [
    {
     "data": {
      "text/plain": [
       "False"
      ]
     },
     "execution_count": 1,
     "metadata": {},
     "output_type": "execute_result"
    }
   ],
   "source": [
    "internet_connection(True, True, True)"
   ]
  },
  {
   "cell_type": "code",
   "execution_count": 3,
   "metadata": {
    "execution": {
     "iopub.execute_input": "2021-09-10T15:36:10.359407Z",
     "iopub.status.busy": "2021-09-10T15:36:10.358752Z",
     "iopub.status.idle": "2021-09-10T15:36:10.360941Z",
     "shell.execute_reply": "2021-09-10T15:36:10.361423Z"
    }
   },
   "outputs": [
    {
     "data": {
      "text/plain": [
       "False"
      ]
     },
     "execution_count": 1,
     "metadata": {},
     "output_type": "execute_result"
    }
   ],
   "source": [
    "internet_connection(False, False, False)"
   ]
  },
  {
   "cell_type": "code",
   "execution_count": 4,
   "metadata": {
    "execution": {
     "iopub.execute_input": "2021-09-10T15:36:10.364562Z",
     "iopub.status.busy": "2021-09-10T15:36:10.363902Z",
     "iopub.status.idle": "2021-09-10T15:36:10.366114Z",
     "shell.execute_reply": "2021-09-10T15:36:10.366764Z"
    }
   },
   "outputs": [
    {
     "data": {
      "text/plain": [
       "True"
      ]
     },
     "execution_count": 1,
     "metadata": {},
     "output_type": "execute_result"
    }
   ],
   "source": [
    "internet_connection(False, True, False)"
   ]
  },
  {
   "cell_type": "code",
   "execution_count": 5,
   "metadata": {
    "execution": {
     "iopub.execute_input": "2021-09-10T15:36:10.370791Z",
     "iopub.status.busy": "2021-09-10T15:36:10.369606Z",
     "iopub.status.idle": "2021-09-10T15:36:10.372928Z",
     "shell.execute_reply": "2021-09-10T15:36:10.373494Z"
    }
   },
   "outputs": [
    {
     "data": {
      "text/plain": [
       "True"
      ]
     },
     "execution_count": 1,
     "metadata": {},
     "output_type": "execute_result"
    }
   ],
   "source": [
    "internet_connection(False, False, True)"
   ]
  },
  {
   "cell_type": "code",
   "execution_count": 6,
   "metadata": {
    "execution": {
     "iopub.execute_input": "2021-09-10T15:36:10.377822Z",
     "iopub.status.busy": "2021-09-10T15:36:10.377119Z",
     "iopub.status.idle": "2021-09-10T15:36:10.380011Z",
     "shell.execute_reply": "2021-09-10T15:36:10.380545Z"
    }
   },
   "outputs": [
    {
     "data": {
      "text/plain": [
       "True"
      ]
     },
     "execution_count": 1,
     "metadata": {},
     "output_type": "execute_result"
    }
   ],
   "source": [
    "internet_connection(False, True, True)"
   ]
  },
  {
   "cell_type": "markdown",
   "metadata": {},
   "source": [
    "#### Exercise 3.2.2"
   ]
  },
  {
   "cell_type": "markdown",
   "metadata": {},
   "source": [
    "Add the calls for the remaining three problem instances.\n",
    "The quickest way is to copy and paste code cells and change as necessary.\n",
    "\n",
    "[Answer](../32_Answers/Answers_03_2_02.ipynb)"
   ]
  },
  {
   "cell_type": "markdown",
   "metadata": {},
   "source": [
    "### 3.2.6 Performance"
   ]
  },
  {
   "cell_type": "markdown",
   "metadata": {},
   "source": [
    "The last step is to measure the run-time of the implemented function.\n",
    "As explained in the previous chapter, complexity analysis only gives us an idea\n",
    "of how the run-time grows for increasingly large inputs:\n",
    "it doesn't tell us whether the implemented algorithm runs slow or fast.\n",
    "\n",
    "Often we won't do any run-time measurement as there's little point in it,\n",
    "like in this example. I expect the run-times to be pretty small,\n",
    "given that the function just does a few logical operations, one assignment\n",
    "and one return statement (which also takes constant time).\n",
    "\n",
    "Let's check that logical operations take constant time."
   ]
  },
  {
   "cell_type": "code",
   "execution_count": 7,
   "metadata": {
    "execution": {
     "iopub.execute_input": "2021-09-10T15:36:10.387897Z",
     "iopub.status.busy": "2021-09-10T15:36:10.387251Z",
     "iopub.status.idle": "2021-09-10T15:36:10.389651Z",
     "shell.execute_reply": "2021-09-10T15:36:10.390346Z"
    }
   },
   "outputs": [
    {
     "name": "stdout",
     "output_type": "stream",
     "text": [
      "90.7 ns ± 0.972 ns per loop (mean ± std. dev. of 3 runs, 1000 loops each)\n",
      "106 ns ± 3.39 ns per loop (mean ± std. dev. of 3 runs, 1000 loops each)\n"
     ]
    }
   ],
   "source": [
    "%timeit -r 3 -n 1000 internet_connection(True, True, True)\n",
    "%timeit -r 3 -n 1000 internet_connection(False, False, False)"
   ]
  },
  {
   "cell_type": "markdown",
   "metadata": {},
   "source": [
    "On my computer the second call takes markedly longer than the first one.\n",
    "Can you explain the reason?\n",
    "\n",
    "___\n",
    "\n",
    "The first call doesn't execute the disjunction operation.\n",
    "It short-circuits the conjunction because `in_flight_mode` is true\n",
    "and thus the left operand (`not in_flight_mode`) is false.\n",
    "The second call takes longer to run because it doesn't short-circuit any\n",
    "operation: the left operand of the conjunction is true and\n",
    "the left operand of the disjunction (`wifi_on`) is false.\n",
    "\n",
    "To compare like for like, we must make two calls that do the same number of\n",
    "evaluations. Here are two that don't short-circuit any expression and therefore\n",
    "execute all logical operations (negation, conjunction and disjunction)."
   ]
  },
  {
   "cell_type": "code",
   "execution_count": 8,
   "metadata": {
    "execution": {
     "iopub.execute_input": "2021-09-10T15:36:10.396413Z",
     "iopub.status.busy": "2021-09-10T15:36:10.395679Z",
     "iopub.status.idle": "2021-09-10T15:36:10.398277Z",
     "shell.execute_reply": "2021-09-10T15:36:10.398878Z"
    }
   },
   "outputs": [
    {
     "name": "stdout",
     "output_type": "stream",
     "text": [
      "90.3 ns ± 0.801 ns per loop (mean ± std. dev. of 3 runs, 1000 loops each)\n",
      "89.9 ns ± 0.666 ns per loop (mean ± std. dev. of 3 runs, 1000 loops each)\n"
     ]
    }
   ],
   "source": [
    "%timeit -r 3 -n 1000 internet_connection(False, False, False)\n",
    "%timeit -r 3 -n 1000 internet_connection(False, False, True)"
   ]
  },
  {
   "cell_type": "markdown",
   "metadata": {},
   "source": [
    "The run-times are now more similar."
   ]
  },
  {
   "cell_type": "markdown",
   "metadata": {},
   "source": [
    "#### Exercise 3.2.3"
   ]
  },
  {
   "cell_type": "markdown",
   "metadata": {},
   "source": [
    "Measure the run-times of two function calls that\n",
    "don't short-circuit the conjunction, but short-circuit the disjunction."
   ]
  },
  {
   "cell_type": "code",
   "execution_count": null,
   "metadata": {
    "tags": [
     "CODE"
    ]
   },
   "outputs": [],
   "source": [
    "# replace by your code"
   ]
  },
  {
   "cell_type": "markdown",
   "metadata": {},
   "source": [
    "[Hint](../31_Hints/Hints_03_2_03.ipynb)\n",
    "[Answer](../32_Answers/Answers_03_2_03.ipynb)"
   ]
  },
  {
   "cell_type": "markdown",
   "metadata": {},
   "source": [
    "⟵ [Previous section](03_1_booleans.ipynb) | [Up](03-introduction.ipynb) | [Next section](03_3_expressions.ipynb) ⟶"
   ]
  }
 ],
 "metadata": {
  "kernelspec": {
   "display_name": "Python 3",
   "language": "python",
   "name": "python3"
  },
  "language_info": {
   "codemirror_mode": {
    "name": "ipython",
    "version": 3
   },
   "file_extension": ".py",
   "mimetype": "text/x-python",
   "name": "python",
   "nbconvert_exporter": "python",
   "pygments_lexer": "ipython3",
   "version": "3.8.5"
  }
 },
 "nbformat": 4,
 "nbformat_minor": 4
}
