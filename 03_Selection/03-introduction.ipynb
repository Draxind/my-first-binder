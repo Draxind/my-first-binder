{
 "cells": [
  {
   "cell_type": "markdown",
   "metadata": {},
   "source": [
    "# 3 Booleans and selection"
   ]
  },
  {
   "cell_type": "markdown",
   "metadata": {},
   "source": [
    "There are various 'styles' in which algorithms can be expressed.\n",
    "In the procedural style used in M269,\n",
    "algorithms are made of instructions put together in three ways:\n",
    "a **sequence** puts instructions one after the other;\n",
    "**selection** puts together alternative sets of instructions,\n",
    "allowing the execution of one set or the other;\n",
    "**iteration** repeats a set of instructions.\n",
    "Algorithms in the previous chapter were sequences of one or more assignments.\n",
    "This chapter covers selection and the next chapter covers iteration.\n",
    "\n",
    "The selection of which set of instructions to execute is based on conditions,\n",
    "expressed as Boolean expressions. Hence this chapter also covers the Booleans, named after mathematician George Boole.\n",
    "Finally, the chapter introduces decision and classification problems,\n",
    "two large classes of problems that are solved using Booleans and selection.\n",
    "\n",
    "This chapter supports the following learning outcomes:\n",
    "\n",
    "- Apply general-purpose data structures and algorithmic techniques to\n",
    "  efficiently solve computational problems –\n",
    "  this chapter covers logical data, algorithms with choice, and\n",
    "  decision and classification problems.\n",
    "- Analyse the complexity of algorithms to support design choices –\n",
    "  this chapter introduces best- and worst-case complexities.\n",
    "- Write readable, tested and documented Python functions and classes to\n",
    "  implement algorithms and abstract data types –\n",
    "  this chapter introduces testing in a more systematic way.\n",
    "\n",
    "\n",
    "Before starting to work on this chapter, check the\n",
    "[M269 website](https://learn2.open.ac.uk/course/view.php?id=208089) for relevant news and errata."
   ]
  },
  {
   "cell_type": "markdown",
   "metadata": {
    "nbsphinx-toctree": {
     "hidden": true,
     "maxdepth": 1,
     "numbered": false
    }
   },
   "source": [
    "1. [Booleans](03_1_booleans.ipynb)\n",
    "1. [Decision problems](03_2_decision.ipynb)\n",
    "1. [Boolean expressions](03_3_expressions.ipynb)\n",
    "1. [Classification problems](03_4_classification.ipynb)\n",
    "1. [Practice](03_5_exercises.ipynb)\n",
    "1. [Summary](03_6_summary.ipynb)"
   ]
  },
  {
   "cell_type": "markdown",
   "metadata": {},
   "source": [
    "⟵ [Previous chapter](../02_Sequence/02-introduction.ipynb) | [Up](../M269.ipynb) | [Next chapter](../04_Iteration/04-introduction.ipynb) ⟶"
   ]
  }
 ],
 "metadata": {
  "kernelspec": {
   "display_name": "Python 3",
   "language": "python",
   "name": "python3"
  },
  "language_info": {
   "codemirror_mode": {
    "name": "ipython",
    "version": 3
   },
   "file_extension": ".py",
   "mimetype": "text/x-python",
   "name": "python",
   "nbconvert_exporter": "python",
   "pygments_lexer": "ipython3",
   "version": "3.8.5"
  }
 },
 "nbformat": 4,
 "nbformat_minor": 4
}
