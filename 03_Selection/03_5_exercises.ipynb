{
 "cells": [
  {
   "cell_type": "markdown",
   "metadata": {},
   "source": [
    "## 3.5 Practice"
   ]
  },
  {
   "cell_type": "markdown",
   "metadata": {},
   "source": [
    "This section allows you to practise the problem-solving process\n",
    "using Boolean expressions and selection statements."
   ]
  },
  {
   "cell_type": "markdown",
   "metadata": {},
   "source": [
    "### 3.5.1 Phone calls"
   ]
  },
  {
   "cell_type": "markdown",
   "metadata": {},
   "source": [
    "Assume that a mobile phone can make and receive calls if flight mode is off and\n",
    "if the signal strength (indicated by zero to four vertical bars\n",
    "on the phone's screen) is at least two.\n",
    "Write a function that checks if a phone can make and receive calls.\n",
    "The following exercises break down the process."
   ]
  },
  {
   "cell_type": "markdown",
   "metadata": {},
   "source": [
    "#### Exercise 3.5.1"
   ]
  },
  {
   "cell_type": "markdown",
   "metadata": {},
   "source": [
    "1. What kind of problem is this?\n",
    "1. Fill in the template."
   ]
  },
  {
   "cell_type": "markdown",
   "metadata": {},
   "source": [
    "**Function**:\\\n",
    "**Inputs**:\\\n",
    "**Preconditions**:\\\n",
    "**Output**:\\\n",
    "**Postconditions**:\n",
    "\n",
    "[Hint](../31_Hints/Hints_03_5_01.ipynb)\n",
    "[Answer](../32_Answers/Answers_03_5_01.ipynb)"
   ]
  },
  {
   "cell_type": "markdown",
   "metadata": {},
   "source": [
    "#### Exercise 3.5.2"
   ]
  },
  {
   "cell_type": "markdown",
   "metadata": {},
   "source": [
    "Write a test table. Change the generic column headings.\n",
    "Add columns and rows as needed.\n",
    "\n",
    "Case | _input_ | _output_\n",
    "-|-|-\n",
    "  |   |\n",
    "\n",
    "\n",
    "[Hint](../31_Hints/Hints_03_5_02.ipynb)\n",
    "[Answer](../32_Answers/Answers_03_5_02.ipynb)"
   ]
  },
  {
   "cell_type": "markdown",
   "metadata": {},
   "source": [
    "#### Exercise 3.5.3"
   ]
  },
  {
   "cell_type": "markdown",
   "metadata": {},
   "source": [
    "Write the algorithm."
   ]
  },
  {
   "cell_type": "markdown",
   "metadata": {
    "tags": [
     "ANSWER"
    ]
   },
   "source": [
    "_Write your answer here._"
   ]
  },
  {
   "cell_type": "markdown",
   "metadata": {},
   "source": [
    "[Hint](../31_Hints/Hints_03_5_03.ipynb)\n",
    "[Answer](../32_Answers/Answers_03_5_03.ipynb)"
   ]
  },
  {
   "cell_type": "markdown",
   "metadata": {},
   "source": [
    "#### Exercise 3.5.4"
   ]
  },
  {
   "cell_type": "markdown",
   "metadata": {},
   "source": [
    "1. Translate the function definition and algorithm to a Python function."
   ]
  },
  {
   "cell_type": "code",
   "execution_count": 1,
   "metadata": {
    "execution": {
     "iopub.execute_input": "2021-09-10T15:36:19.089296Z",
     "iopub.status.busy": "2021-09-10T15:36:19.088627Z",
     "iopub.status.idle": "2021-09-10T15:36:19.090368Z",
     "shell.execute_reply": "2021-09-10T15:36:19.090884Z"
    }
   },
   "outputs": [],
   "source": [
    "# def ..."
   ]
  },
  {
   "cell_type": "markdown",
   "metadata": {},
   "source": [
    "2. Run the test cases in your test table. Add code cells as necessary."
   ]
  },
  {
   "cell_type": "code",
   "execution_count": null,
   "metadata": {
    "tags": [
     "CODE"
    ]
   },
   "outputs": [],
   "source": [
    "# replace by your code"
   ]
  },
  {
   "cell_type": "markdown",
   "metadata": {},
   "source": [
    "[Hint](../31_Hints/Hints_03_5_04.ipynb)\n",
    "[Answer](../32_Answers/Answers_03_5_04.ipynb)"
   ]
  },
  {
   "cell_type": "markdown",
   "metadata": {},
   "source": [
    "### 3.5.2 Maximum"
   ]
  },
  {
   "cell_type": "markdown",
   "metadata": {},
   "source": [
    "If there weren't a function to calculate the maximum of several numbers,\n",
    "we could define our own, with only two inputs, and call it repeatedly.\n",
    "For example, maximum(_x_, maximum(_y_, _z_)) calculates\n",
    "the largest of three values, two at a time.\n",
    "\n",
    "Note that the maximum problem, although it requires selection to be solved,\n",
    "is not a classification or decision problem."
   ]
  },
  {
   "cell_type": "markdown",
   "metadata": {},
   "source": [
    "#### Exercise 3.5.5"
   ]
  },
  {
   "cell_type": "markdown",
   "metadata": {},
   "source": [
    "1. Define a maximum function with only two inputs."
   ]
  },
  {
   "cell_type": "markdown",
   "metadata": {},
   "source": [
    "**Function**: maximum\\\n",
    "**Inputs**:\\\n",
    "**Preconditions**:\\\n",
    "**Output**:\\\n",
    "**Postconditions**:"
   ]
  },
  {
   "cell_type": "markdown",
   "metadata": {},
   "source": [
    "2. Write a test table."
   ]
  },
  {
   "cell_type": "markdown",
   "metadata": {
    "tags": [
     "ANSWER"
    ]
   },
   "source": [
    "_Write your answer here._"
   ]
  },
  {
   "cell_type": "markdown",
   "metadata": {},
   "source": [
    "[Hint](../31_Hints/Hints_03_5_05.ipynb)\n",
    "[Answer](../32_Answers/Answers_03_5_05.ipynb)"
   ]
  },
  {
   "cell_type": "markdown",
   "metadata": {},
   "source": [
    "#### Exercise 3.5.6"
   ]
  },
  {
   "cell_type": "markdown",
   "metadata": {},
   "source": [
    "Write the algorithm."
   ]
  },
  {
   "cell_type": "markdown",
   "metadata": {
    "tags": [
     "ANSWER"
    ]
   },
   "source": [
    "_Write your answer here._"
   ]
  },
  {
   "cell_type": "markdown",
   "metadata": {},
   "source": [
    "[Answer](../32_Answers/Answers_03_5_06.ipynb)"
   ]
  },
  {
   "cell_type": "markdown",
   "metadata": {},
   "source": [
    "#### Exercise 3.5.7"
   ]
  },
  {
   "cell_type": "markdown",
   "metadata": {},
   "source": [
    "1. Translate the function definition and algorithm to a Python function."
   ]
  },
  {
   "cell_type": "code",
   "execution_count": null,
   "metadata": {
    "tags": [
     "CODE"
    ]
   },
   "outputs": [],
   "source": [
    "# replace by your code"
   ]
  },
  {
   "cell_type": "markdown",
   "metadata": {},
   "source": [
    "2. Translate your test table to Python code. Add code cells as necessary."
   ]
  },
  {
   "cell_type": "code",
   "execution_count": null,
   "metadata": {
    "tags": [
     "CODE"
    ]
   },
   "outputs": [],
   "source": [
    "# replace by your code"
   ]
  },
  {
   "cell_type": "markdown",
   "metadata": {},
   "source": [
    "[Answer](../32_Answers/Answers_03_5_07.ipynb)"
   ]
  },
  {
   "cell_type": "markdown",
   "metadata": {},
   "source": [
    "### 3.5.3 Leap year"
   ]
  },
  {
   "cell_type": "markdown",
   "metadata": {},
   "source": [
    "In the Gregorian calendar introduced in October 1582 and\n",
    "used by many countries, leap years have an extra day (29 February).\n",
    "Every year that is divisible by four is a leap year,\n",
    "except for those that are divisible by 100.\n",
    "However, years divisible by 100 are leap years if they're divisible by 400.\n",
    "For example, 1600 and 2000 were leap years, but 1700, 1800 and 1900 weren't."
   ]
  },
  {
   "cell_type": "markdown",
   "metadata": {},
   "source": [
    "#### Exercise 3.5.8"
   ]
  },
  {
   "cell_type": "markdown",
   "metadata": {},
   "source": [
    "1. Define a function that decides if a given year is a leap year."
   ]
  },
  {
   "cell_type": "markdown",
   "metadata": {},
   "source": [
    "**Function**:\\\n",
    "**Inputs**:\\\n",
    "**Preconditions**:\\\n",
    "**Output**:\\\n",
    "**Postconditions**:"
   ]
  },
  {
   "cell_type": "markdown",
   "metadata": {},
   "source": [
    "2. Change the column names of this test table and add cases.\n",
    "\n",
    "Case | _input_ | _output_\n",
    "-|-|-\n",
    "divisible by 400 | 1600 | true\n",
    "divisible by 100 but not by 400 | 1700 | false\n",
    "\n",
    "[Hint](../31_Hints/Hints_03_5_08.ipynb)\n",
    "[Answer](../32_Answers/Answers_03_5_08.ipynb)"
   ]
  },
  {
   "cell_type": "markdown",
   "metadata": {},
   "source": [
    "#### Exercise 3.5.9"
   ]
  },
  {
   "cell_type": "markdown",
   "metadata": {},
   "source": [
    "Write an algorithm."
   ]
  },
  {
   "cell_type": "markdown",
   "metadata": {
    "tags": [
     "ANSWER"
    ]
   },
   "source": [
    "_Write your answer here._"
   ]
  },
  {
   "cell_type": "markdown",
   "metadata": {},
   "source": [
    "[Hint](../31_Hints/Hints_03_5_09.ipynb)\n",
    "[Answer](../32_Answers/Answers_03_5_09.ipynb)"
   ]
  },
  {
   "cell_type": "markdown",
   "metadata": {},
   "source": [
    "#### Exercise 3.5.10"
   ]
  },
  {
   "cell_type": "markdown",
   "metadata": {},
   "source": [
    "1. Translate the function definition and algorithm to Python."
   ]
  },
  {
   "cell_type": "code",
   "execution_count": null,
   "metadata": {
    "tags": [
     "CODE"
    ]
   },
   "outputs": [],
   "source": [
    "# replace by your code"
   ]
  },
  {
   "cell_type": "markdown",
   "metadata": {},
   "source": [
    "2. Translate your test table to Python code. Add code cells as necessary."
   ]
  },
  {
   "cell_type": "code",
   "execution_count": 2,
   "metadata": {
    "execution": {
     "iopub.execute_input": "2021-09-10T15:36:19.095778Z",
     "iopub.status.busy": "2021-09-10T15:36:19.095208Z",
     "iopub.status.idle": "2021-09-10T15:36:19.096876Z",
     "shell.execute_reply": "2021-09-10T15:36:19.097391Z"
    }
   },
   "outputs": [],
   "source": [
    "# replace by the test for 1600"
   ]
  },
  {
   "cell_type": "code",
   "execution_count": 3,
   "metadata": {
    "execution": {
     "iopub.execute_input": "2021-09-10T15:36:19.100036Z",
     "iopub.status.busy": "2021-09-10T15:36:19.099415Z",
     "iopub.status.idle": "2021-09-10T15:36:19.101185Z",
     "shell.execute_reply": "2021-09-10T15:36:19.101756Z"
    }
   },
   "outputs": [],
   "source": [
    "# replace by the test for 1700"
   ]
  },
  {
   "cell_type": "markdown",
   "metadata": {},
   "source": [
    "[Answer](../32_Answers/Answers_03_5_10.ipynb)"
   ]
  },
  {
   "cell_type": "markdown",
   "metadata": {},
   "source": [
    "### 3.5.4 Optional exercises"
   ]
  },
  {
   "cell_type": "markdown",
   "metadata": {},
   "source": [
    "If you want more problems involving conditional statements, see the\n",
    "['Selection' section](https://mwermelinger.github.io/kattis-guide/foundations.html#selection)\n",
    "of the Kattis Guide. You can also attempt the\n",
    "[problems on floats](https://mwermelinger.github.io/kattis-guide/foundations.html#floats)\n",
    "that don't require iteration (loops)."
   ]
  },
  {
   "cell_type": "markdown",
   "metadata": {},
   "source": [
    "⟵ [Previous section](03_4_classification.ipynb) | [Up](03-introduction.ipynb) | [Next section](03_6_summary.ipynb) ⟶"
   ]
  }
 ],
 "metadata": {
  "kernelspec": {
   "display_name": "Python 3",
   "language": "python",
   "name": "python3"
  },
  "language_info": {
   "codemirror_mode": {
    "name": "ipython",
    "version": 3
   },
   "file_extension": ".py",
   "mimetype": "text/x-python",
   "name": "python",
   "nbconvert_exporter": "python",
   "pygments_lexer": "ipython3",
   "version": "3.8.5"
  }
 },
 "nbformat": 4,
 "nbformat_minor": 4
}
