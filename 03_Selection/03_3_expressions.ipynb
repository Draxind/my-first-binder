{
 "cells": [
  {
   "cell_type": "markdown",
   "metadata": {},
   "source": [
    "## 3.3 Boolean expressions"
   ]
  },
  {
   "cell_type": "markdown",
   "metadata": {},
   "source": [
    "Besides two-state properties,\n",
    "Booleans can represent whether a condition holds or not,\n",
    "e.g. whether a temperature is below some threshold.\n",
    "To express such conditions we need to be able to compare values."
   ]
  },
  {
   "cell_type": "markdown",
   "metadata": {},
   "source": [
    "### 3.3.1 Comparisons"
   ]
  },
  {
   "cell_type": "markdown",
   "metadata": {},
   "source": [
    "There are six comparison operations.\n",
    "\n",
    "The **equality** operation checks if two expressions have the same value.\n",
    "Any values can be compared for equality, not just Booleans.\n",
    "The equality operator is = in mathematics and `==` in Python."
   ]
  },
  {
   "cell_type": "code",
   "execution_count": 1,
   "metadata": {
    "execution": {
     "iopub.execute_input": "2021-09-10T15:36:13.102223Z",
     "iopub.status.busy": "2021-09-10T15:36:13.101284Z",
     "iopub.status.idle": "2021-09-10T15:36:13.104505Z",
     "shell.execute_reply": "2021-09-10T15:36:13.105190Z"
    }
   },
   "outputs": [
    {
     "data": {
      "text/plain": [
       "False"
      ]
     },
     "execution_count": 1,
     "metadata": {},
     "output_type": "execute_result"
    }
   ],
   "source": [
    "3 == 5"
   ]
  },
  {
   "cell_type": "code",
   "execution_count": 2,
   "metadata": {
    "execution": {
     "iopub.execute_input": "2021-09-10T15:36:13.108837Z",
     "iopub.status.busy": "2021-09-10T15:36:13.108251Z",
     "iopub.status.idle": "2021-09-10T15:36:13.110799Z",
     "shell.execute_reply": "2021-09-10T15:36:13.111257Z"
    }
   },
   "outputs": [
    {
     "data": {
      "text/plain": [
       "False"
      ]
     },
     "execution_count": 1,
     "metadata": {},
     "output_type": "execute_result"
    }
   ],
   "source": [
    "True == 42  # any values can be compared"
   ]
  },
  {
   "cell_type": "code",
   "execution_count": 3,
   "metadata": {
    "execution": {
     "iopub.execute_input": "2021-09-10T15:36:13.114236Z",
     "iopub.status.busy": "2021-09-10T15:36:13.113705Z",
     "iopub.status.idle": "2021-09-10T15:36:13.115974Z",
     "shell.execute_reply": "2021-09-10T15:36:13.116507Z"
    }
   },
   "outputs": [
    {
     "data": {
      "text/plain": [
       "True"
      ]
     },
     "execution_count": 1,
     "metadata": {},
     "output_type": "execute_result"
    }
   ],
   "source": [
    "False == False"
   ]
  },
  {
   "cell_type": "markdown",
   "metadata": {},
   "source": [
    "The **inequality** operation, written ≠ in maths and `!=` in Python,\n",
    "checks if two values are different. It returns the opposite value of equality."
   ]
  },
  {
   "cell_type": "code",
   "execution_count": 4,
   "metadata": {
    "execution": {
     "iopub.execute_input": "2021-09-10T15:36:13.119750Z",
     "iopub.status.busy": "2021-09-10T15:36:13.119067Z",
     "iopub.status.idle": "2021-09-10T15:36:13.122464Z",
     "shell.execute_reply": "2021-09-10T15:36:13.123027Z"
    }
   },
   "outputs": [
    {
     "data": {
      "text/plain": [
       "True"
      ]
     },
     "execution_count": 1,
     "metadata": {},
     "output_type": "execute_result"
    }
   ],
   "source": [
    "3 != 5"
   ]
  },
  {
   "cell_type": "code",
   "execution_count": 5,
   "metadata": {
    "execution": {
     "iopub.execute_input": "2021-09-10T15:36:13.127085Z",
     "iopub.status.busy": "2021-09-10T15:36:13.126341Z",
     "iopub.status.idle": "2021-09-10T15:36:13.129051Z",
     "shell.execute_reply": "2021-09-10T15:36:13.129839Z"
    }
   },
   "outputs": [
    {
     "data": {
      "text/plain": [
       "True"
      ]
     },
     "execution_count": 1,
     "metadata": {},
     "output_type": "execute_result"
    }
   ],
   "source": [
    "True != 42  # any values can be compared"
   ]
  },
  {
   "cell_type": "code",
   "execution_count": 6,
   "metadata": {
    "execution": {
     "iopub.execute_input": "2021-09-10T15:36:13.134047Z",
     "iopub.status.busy": "2021-09-10T15:36:13.133303Z",
     "iopub.status.idle": "2021-09-10T15:36:13.136007Z",
     "shell.execute_reply": "2021-09-10T15:36:13.136684Z"
    }
   },
   "outputs": [
    {
     "data": {
      "text/plain": [
       "False"
      ]
     },
     "execution_count": 1,
     "metadata": {},
     "output_type": "execute_result"
    }
   ],
   "source": [
    "False != False"
   ]
  },
  {
   "cell_type": "markdown",
   "metadata": {},
   "source": [
    "The remaining comparison operators are\n",
    "<, ≤, >, ≥ in mathematics, and `<`, `<=`, `>`, `>=` in Python.\n",
    "They can be applied to various data types, as we shall see.\n",
    "For the moment, they only apply to numbers."
   ]
  },
  {
   "cell_type": "code",
   "execution_count": 7,
   "metadata": {
    "execution": {
     "iopub.execute_input": "2021-09-10T15:36:13.140639Z",
     "iopub.status.busy": "2021-09-10T15:36:13.139960Z",
     "iopub.status.idle": "2021-09-10T15:36:13.142623Z",
     "shell.execute_reply": "2021-09-10T15:36:13.143211Z"
    }
   },
   "outputs": [
    {
     "data": {
      "text/plain": [
       "True"
      ]
     },
     "execution_count": 1,
     "metadata": {},
     "output_type": "execute_result"
    }
   ],
   "source": [
    "4 >= 3.5"
   ]
  },
  {
   "cell_type": "markdown",
   "metadata": {},
   "source": [
    "The comparison operators have lower precedence\n",
    "than arithmetic operators, but higher precedence than logical operators.\n",
    "This allows writing without parentheses complex Boolean expressions with\n",
    "all three kinds of operations."
   ]
  },
  {
   "cell_type": "code",
   "execution_count": 8,
   "metadata": {
    "execution": {
     "iopub.execute_input": "2021-09-10T15:36:13.147470Z",
     "iopub.status.busy": "2021-09-10T15:36:13.146542Z",
     "iopub.status.idle": "2021-09-10T15:36:13.149572Z",
     "shell.execute_reply": "2021-09-10T15:36:13.150415Z"
    }
   },
   "outputs": [
    {
     "data": {
      "text/plain": [
       "True"
      ]
     },
     "execution_count": 1,
     "metadata": {},
     "output_type": "execute_result"
    }
   ],
   "source": [
    "51 - 20 == 29 + 2 and not False"
   ]
  },
  {
   "cell_type": "markdown",
   "metadata": {},
   "source": [
    "Can you explain how the result was obtained?\n",
    "\n",
    "___\n",
    "\n",
    "The arithmetic subexpressions are evaluated first: 31 = 31 and not false.\n",
    "The comparisons are evaluated next: true and not false.\n",
    "Finally, the logical operators are applied, leading to the final true value.\n",
    "\n",
    "Comparisons are left-associative. A double inequality like 1 ≤ _day_ ≤ 31,\n",
    "which checks whether a variable's value is within a certain interval,\n",
    "is equivalent to '1 ≤ _day_ and _day_ ≤ 31'. The latter doesn't need parentheses\n",
    "because comparisons are evaluated before logical operations.\n",
    "The expression 0 < _day_ < 32 is equivalent if _day_ is an integer,\n",
    "but less clear in my opinion, because it doesn't state\n",
    "the lower and upper bounds of the interval explicitly.\n",
    "Python supports the double inequality notation, as shown in the next example."
   ]
  },
  {
   "cell_type": "markdown",
   "metadata": {
    "tags": [
     "INFO"
    ]
   },
   "source": [
    "<div class=\"alert alert-info\">\n",
    "<strong>Info:</strong> MU123 Unit&nbsp;2 Section&nbsp;4.2 and MST124 Unit&nbsp;3 Section&nbsp;1.1 introduce\n",
    "double inequalities and intervals.\n",
    "</div>"
   ]
  },
  {
   "cell_type": "markdown",
   "metadata": {},
   "source": [
    "The short-circuit conjunction and disjunction are useful to\n",
    "guard against errors. For example, let's suppose I want to check if\n",
    "a fraction corresponds to a probability, i.e.\n",
    "is in the interval from zero to one. If the denominator is zero,\n",
    "the fraction is undefined and thus not a probability."
   ]
  },
  {
   "cell_type": "code",
   "execution_count": 9,
   "metadata": {
    "execution": {
     "iopub.execute_input": "2021-09-10T15:36:13.155718Z",
     "iopub.status.busy": "2021-09-10T15:36:13.154934Z",
     "iopub.status.idle": "2021-09-10T15:36:13.158455Z",
     "shell.execute_reply": "2021-09-10T15:36:13.157727Z"
    }
   },
   "outputs": [
    {
     "data": {
      "text/plain": [
       "False"
      ]
     },
     "execution_count": 1,
     "metadata": {},
     "output_type": "execute_result"
    }
   ],
   "source": [
    "numerator = 5\n",
    "denominator = 0\n",
    "is_probability = denominator != 0 and 0 <= numerator / denominator <= 1\n",
    "is_probability"
   ]
  },
  {
   "cell_type": "markdown",
   "metadata": {},
   "source": [
    "There's no division by zero error.\n",
    "The left operand of the conjunction guarantees that\n",
    "the right operand is only evaluated if the fraction has a defined value.\n",
    "If you wish, you can change the denominator to, say,\n",
    "one ($\\frac{5}{1}$ isn't a probability) and then\n",
    "ten ($\\frac{5}{10}$ is a chance of one in two).\n",
    "\n",
    "We will avoid writing algorithms that depend on the short-circuit behaviour,\n",
    "because not all programming languages implement it.\n",
    "\n",
    "We assume comparisons are done in hardware and take constant time."
   ]
  },
  {
   "cell_type": "code",
   "execution_count": 10,
   "metadata": {
    "execution": {
     "iopub.execute_input": "2021-09-10T15:36:13.169511Z",
     "iopub.status.busy": "2021-09-10T15:36:13.165979Z",
     "iopub.status.idle": "2021-09-10T15:36:13.172808Z",
     "shell.execute_reply": "2021-09-10T15:36:13.173706Z"
    }
   },
   "outputs": [
    {
     "name": "stdout",
     "output_type": "stream",
     "text": [
      "26.2 ns ± 1.64 ns per loop (mean ± std. dev. of 3 runs, 1000 loops each)\n",
      "43.3 ns ± 3.21 ns per loop (mean ± std. dev. of 3 runs, 1000 loops each)\n",
      "46.7 ns ± 4.46 ns per loop (mean ± std. dev. of 3 runs, 1000 loops each)\n",
      "31.4 ns ± 4.89 ns per loop (mean ± std. dev. of 3 runs, 1000 loops each)\n"
     ]
    }
   ],
   "source": [
    "%timeit -r 3 -n 1000 9 > 8\n",
    "%timeit -r 3 -n 1000 9_999_999 > 9_999_998\n",
    "%timeit -r 3 -n 1000 9 != False\n",
    "%timeit -r 3 -n 1000 9_999_999 != False"
   ]
  },
  {
   "cell_type": "markdown",
   "metadata": {},
   "source": [
    "### 3.3.2 Mistakes"
   ]
  },
  {
   "cell_type": "markdown",
   "metadata": {},
   "source": [
    "In Python, a single equals sign is the assignment operator, not equality!\n",
    "The Boolean expression `x == y` checks if `x` and `y` refer to the same value,\n",
    "whereas the assignment `x = y` makes `x` refer to the same value as `y`.\n",
    "For example, `phone_on == False` checks if the phone is off,\n",
    "whereas `phone_on = False` turns it off.\n",
    "The Python interpreter may not raise an error and execute the assignment,\n",
    "even if you intended a comparison for equality.\n",
    "The interpreter can't read your mind (fortunately!) and\n",
    "executes any program that looks meaningful."
   ]
  },
  {
   "cell_type": "markdown",
   "metadata": {
    "tags": [
     "NOTE"
    ]
   },
   "source": [
    "<div class=\"alert alert-warning\">\n",
    "<strong>Note:</strong> The difference between what we think we wrote and what we actually wrote\n",
    "is a source of many subtle errors. Always double-check your code.\n",
    "</div>"
   ]
  },
  {
   "cell_type": "markdown",
   "metadata": {},
   "source": [
    "More often than not, Python can detect the error, like in this case:"
   ]
  },
  {
   "cell_type": "code",
   "execution_count": 11,
   "metadata": {
    "execution": {
     "iopub.execute_input": "2021-09-10T15:36:13.178295Z",
     "iopub.status.busy": "2021-09-10T15:36:13.177479Z",
     "iopub.status.idle": "2021-09-10T15:36:13.181252Z",
     "shell.execute_reply": "2021-09-10T15:36:13.180591Z"
    }
   },
   "outputs": [
    {
     "ename": "SyntaxError",
     "evalue": "cannot assign to True (<ipython-input-1-e84c41199e86>, line 1)",
     "output_type": "error",
     "traceback": [
      "\u001b[0;36m  File \u001b[0;32m\"<ipython-input-1-e84c41199e86>\"\u001b[0;36m, line \u001b[0;32m1\u001b[0m\n\u001b[0;31m    True = 42\u001b[0m\n\u001b[0m    ^\u001b[0m\n\u001b[0;31mSyntaxError\u001b[0m\u001b[0;31m:\u001b[0m cannot assign to True\n"
     ]
    }
   ],
   "source": [
    "True = 42"
   ]
  },
  {
   "cell_type": "markdown",
   "metadata": {},
   "source": [
    "In `!=`, `<=` and `>=` there must be no space before the equals sign.\n",
    "If there is one, it separates a single operation (e.g. `>=`)\n",
    "into two (`>` and assignment), which leads to a syntax error."
   ]
  },
  {
   "cell_type": "code",
   "execution_count": 12,
   "metadata": {
    "execution": {
     "iopub.execute_input": "2021-09-10T15:36:13.185287Z",
     "iopub.status.busy": "2021-09-10T15:36:13.184304Z",
     "iopub.status.idle": "2021-09-10T15:36:13.188057Z",
     "shell.execute_reply": "2021-09-10T15:36:13.187333Z"
    }
   },
   "outputs": [
    {
     "ename": "SyntaxError",
     "evalue": "invalid syntax (<ipython-input-1-d8fcfcbee382>, line 1)",
     "output_type": "error",
     "traceback": [
      "\u001b[0;36m  File \u001b[0;32m\"<ipython-input-1-d8fcfcbee382>\"\u001b[0;36m, line \u001b[0;32m1\u001b[0m\n\u001b[0;31m    4 > = 3\u001b[0m\n\u001b[0m        ^\u001b[0m\n\u001b[0;31mSyntaxError\u001b[0m\u001b[0;31m:\u001b[0m invalid syntax\n"
     ]
    }
   ],
   "source": [
    "4 > = 3"
   ]
  },
  {
   "cell_type": "markdown",
   "metadata": {},
   "source": [
    "Another kind of mistake is to compare floats for equality.\n",
    "Due to their approximate representation of most decimal numbers,\n",
    "comparisons for equality may not work."
   ]
  },
  {
   "cell_type": "code",
   "execution_count": 13,
   "metadata": {
    "execution": {
     "iopub.execute_input": "2021-09-10T15:36:13.192278Z",
     "iopub.status.busy": "2021-09-10T15:36:13.191427Z",
     "iopub.status.idle": "2021-09-10T15:36:13.194328Z",
     "shell.execute_reply": "2021-09-10T15:36:13.195011Z"
    }
   },
   "outputs": [
    {
     "data": {
      "text/plain": [
       "False"
      ]
     },
     "execution_count": 1,
     "metadata": {},
     "output_type": "execute_result"
    }
   ],
   "source": [
    "0.1 + 0.2 == 0.3"
   ]
  },
  {
   "cell_type": "markdown",
   "metadata": {},
   "source": [
    "One way to handle such cases is to check if\n",
    "the value of the expression is within some error margin."
   ]
  },
  {
   "cell_type": "code",
   "execution_count": 14,
   "metadata": {
    "execution": {
     "iopub.execute_input": "2021-09-10T15:36:13.199237Z",
     "iopub.status.busy": "2021-09-10T15:36:13.198523Z",
     "iopub.status.idle": "2021-09-10T15:36:13.202084Z",
     "shell.execute_reply": "2021-09-10T15:36:13.201354Z"
    }
   },
   "outputs": [
    {
     "data": {
      "text/plain": [
       "True"
      ]
     },
     "execution_count": 1,
     "metadata": {},
     "output_type": "execute_result"
    }
   ],
   "source": [
    "margin = 0.001\n",
    "0.3 - margin <= 0.1 + 0.2 <= 0.3 + margin"
   ]
  },
  {
   "cell_type": "markdown",
   "metadata": {},
   "source": [
    "Comparisons having higher precedence than logical operations occasionally\n",
    "leads to somewhat surprising mistakes. For example, `False == not True` looks\n",
    "like an innocuous expression showing that false is the opposite of true.\n",
    "However, when evaluating it..."
   ]
  },
  {
   "cell_type": "code",
   "execution_count": 15,
   "metadata": {
    "execution": {
     "iopub.execute_input": "2021-09-10T15:36:13.205756Z",
     "iopub.status.busy": "2021-09-10T15:36:13.205082Z",
     "iopub.status.idle": "2021-09-10T15:36:13.208095Z",
     "shell.execute_reply": "2021-09-10T15:36:13.208846Z"
    }
   },
   "outputs": [
    {
     "ename": "SyntaxError",
     "evalue": "invalid syntax (<ipython-input-1-cc226ff734ef>, line 1)",
     "output_type": "error",
     "traceback": [
      "\u001b[0;36m  File \u001b[0;32m\"<ipython-input-1-cc226ff734ef>\"\u001b[0;36m, line \u001b[0;32m1\u001b[0m\n\u001b[0;31m    False == not True\u001b[0m\n\u001b[0m             ^\u001b[0m\n\u001b[0;31mSyntaxError\u001b[0m\u001b[0;31m:\u001b[0m invalid syntax\n"
     ]
    }
   ],
   "source": [
    "False == not True"
   ]
  },
  {
   "cell_type": "markdown",
   "metadata": {},
   "source": [
    "the interpreter raises a syntax error because it evaluates\n",
    "the comparison `False == not` first, which makes no sense.\n",
    "We must write `False == (not True)` to evaluate the expression as intended.\n",
    "\n",
    "We're used to arithmetic expressions since childhood,\n",
    "but the precedence rules of Boolean expressions are unfamiliar to most of us.\n",
    "Forgetting brackets can lead to syntax errors or, even worse,\n",
    "the wrong value being computed,\n",
    "e.g. due to the precedence of conjunction over disjunction.\n",
    "I therefore recommend:"
   ]
  },
  {
   "cell_type": "markdown",
   "metadata": {
    "tags": [
     "NOTE"
    ]
   },
   "source": [
    "<div class=\"alert alert-warning\">\n",
    "<strong>Note:</strong> In a Boolean expression, put parentheses around each separate condition.\n",
    "</div>"
   ]
  },
  {
   "cell_type": "markdown",
   "metadata": {},
   "source": [
    "This may lead to a Boolean expression with redundant brackets, but\n",
    "clarity is worth a few extra characters."
   ]
  },
  {
   "cell_type": "markdown",
   "metadata": {},
   "source": [
    "#### Exercise 3.3.1"
   ]
  },
  {
   "cell_type": "markdown",
   "metadata": {},
   "source": [
    "Write an expression, in mathematical notation, not Python,\n",
    "that captures the meaning of 'either _left_ or _right_',\n",
    "where _left_ and _right_ are Boolean values. The expression is true\n",
    "if and only if exactly one of _left_ and _right_ is true."
   ]
  },
  {
   "cell_type": "markdown",
   "metadata": {
    "tags": [
     "ANSWER"
    ]
   },
   "source": [
    "_Write your answer here._"
   ]
  },
  {
   "cell_type": "markdown",
   "metadata": {},
   "source": [
    "[Answer](../32_Answers/Answers_03_3_01.ipynb)"
   ]
  },
  {
   "cell_type": "markdown",
   "metadata": {},
   "source": [
    "#### Exercise 3.3.2"
   ]
  },
  {
   "cell_type": "markdown",
   "metadata": {},
   "source": [
    "1. List what's wrong in the expression `-5 > = value > -20 but value not 0`.\n",
    "1. Resolve the errors to get a syntactically correct expression.\n",
    "1. Simplify the expression."
   ]
  },
  {
   "cell_type": "markdown",
   "metadata": {
    "tags": [
     "ANSWER"
    ]
   },
   "source": [
    "_Write your answer here._"
   ]
  },
  {
   "cell_type": "markdown",
   "metadata": {},
   "source": [
    "[Hint](../31_Hints/Hints_03_3_02.ipynb)\n",
    "[Answer](../32_Answers/Answers_03_3_02.ipynb)"
   ]
  },
  {
   "cell_type": "markdown",
   "metadata": {},
   "source": [
    "⟵ [Previous section](03_2_decision.ipynb) | [Up](03-introduction.ipynb) | [Next section](03_4_classification.ipynb) ⟶"
   ]
  }
 ],
 "metadata": {
  "kernelspec": {
   "display_name": "Python 3",
   "language": "python",
   "name": "python3"
  },
  "language_info": {
   "codemirror_mode": {
    "name": "ipython",
    "version": 3
   },
   "file_extension": ".py",
   "mimetype": "text/x-python",
   "name": "python",
   "nbconvert_exporter": "python",
   "pygments_lexer": "ipython3",
   "version": "3.8.5"
  }
 },
 "nbformat": 4,
 "nbformat_minor": 4
}
