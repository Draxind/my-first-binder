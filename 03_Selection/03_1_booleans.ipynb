{
 "cells": [
  {
   "cell_type": "markdown",
   "metadata": {},
   "source": [
    "## 3.1 Booleans"
   ]
  },
  {
   "cell_type": "markdown",
   "metadata": {},
   "source": [
    "Besides numbers, most algorithms need logical values in order to represent\n",
    "binary properties (in this section) and conditions (covered in a later section)."
   ]
  },
  {
   "cell_type": "markdown",
   "metadata": {},
   "source": [
    "### 3.1.1 The Boolean ADT"
   ]
  },
  {
   "cell_type": "markdown",
   "metadata": {},
   "source": [
    "The Boolean ADT consists of two logical values, true and false,\n",
    "and three logical operations, all of them functions in the mathematical sense\n",
    "(they produce one output, without changing the inputs):\n",
    "\n",
    "- The output of the **conjunction** operation, written _left_ and _right_,\n",
    "where _left_ and _right_ are Boolean values,\n",
    "is true if both operands are true, otherwise it's false.\n",
    "\n",
    "- The output of the **disjunction** operation, written _left_ or _right_,\n",
    "is false if both operands are false, otherwise it's true.\n",
    "\n",
    "- The output of the **negation** operation, written not _right_,\n",
    "is true if the operand is false, and false if the operand is true.\n",
    "\n",
    "We use the terms 'arithmetic negation' and 'logical negation' when\n",
    "it's not clear from the context what 'negation' refers to."
   ]
  },
  {
   "cell_type": "markdown",
   "metadata": {
    "tags": [
     "INFO"
    ]
   },
   "source": [
    "<div class=\"alert alert-info\">\n",
    "<strong>Info:</strong> The conjunction, disjunction and negation operators are also written as\n",
    "$\\wedge$, $\\vee$ and $\\neg$, respectively.\n",
    "</div>"
   ]
  },
  {
   "cell_type": "markdown",
   "metadata": {},
   "source": [
    "These definitions can be written using the M269 function template.\n",
    "Here's an example:\n",
    "\n",
    "**Function**: conjunction\\\n",
    "**Inputs**: _left_, a Boolean; _right_, a Boolean\\\n",
    "**Preconditions**: true\\\n",
    "**Output**: _result_, a Boolean\\\n",
    "**Postconditions**:\n",
    "if _left_ = _right_ = true, then _result_ = true, otherwise _result_ = false\n",
    "\n",
    "Only the input values that make the preconditions true are allowed.\n",
    "So, if the precondition is always true, any input value satisfies it.\n",
    "We henceforth write 'true' as the precondition when all input values are valid.\n",
    "\n",
    "There are only two Boolean values, so if the output isn't true,\n",
    "it must be false, and vice versa. This leads to a more succinct way of\n",
    "writing postconditions for operations with a Boolean output.\n",
    "\n",
    "**Postconditions**: _result_ = true if and only if _left_ = _right_ = true\n",
    "\n",
    "This states that the output is true if both inputs are true,\n",
    "and only in that case is the output true, i.e.\n",
    "for other input values the output is false."
   ]
  },
  {
   "cell_type": "markdown",
   "metadata": {
    "tags": [
     "INFO"
    ]
   },
   "source": [
    "<div class=\"alert alert-info\">\n",
    "<strong>Info:</strong> Some authors shorten 'if and only if' to 'iff'.\n",
    "</div>"
   ]
  },
  {
   "cell_type": "markdown",
   "metadata": {},
   "source": [
    "An alternative way of defining the Boolean operations is to\n",
    "write a **truth table** that shows the outputs for all possible inputs.\n",
    "\n",
    "_left_ | _right_ | _left_ and _right_ | _left_ or _right_\n",
    "-|-|-|-\n",
    "false | false | false | false | true\n",
    "false | true | false | true | false\n",
    "true | false | false | true | true\n",
    "true | true  | true  | true | false\n",
    "\n",
    "_value_ | not _value_\n",
    "-|-\n",
    "false | true\n",
    "true  |  false"
   ]
  },
  {
   "cell_type": "markdown",
   "metadata": {
    "tags": [
     "INFO"
    ]
   },
   "source": [
    "<div class=\"alert alert-info\">\n",
    "<strong>Info:</strong> TM112 Block&nbsp;1 Section&nbsp;1.3 introduces the logical operations and truth tables.\n",
    "Truth tables sometimes use 0 and 1, or F and T, for false and true.\n",
    "</div>"
   ]
  },
  {
   "cell_type": "markdown",
   "metadata": {},
   "source": [
    "Negation is right-associative and has higher precedence than conjunction,\n",
    "which in turn has higher precedence than disjunction.\n",
    "Conjunction and disjunction are left-associative. For example,\n",
    "the expression 'true and not true or true' is evaluated as follows:\\\n",
    "(true and (not true)) or true = (true and false) or true = false or true = true."
   ]
  },
  {
   "cell_type": "markdown",
   "metadata": {},
   "source": [
    "#### Exercise 3.1.1"
   ]
  },
  {
   "cell_type": "markdown",
   "metadata": {},
   "source": [
    "Fill the function definition template for the disjunction operation.\n",
    "Don't forget to keep the backslash at the end of each line.\n",
    "\n",
    "**Function**: disjunction\\\n",
    "**Inputs**: the name and data type of each input\\\n",
    "**Preconditions**: any conditions on the inputs\\\n",
    "**Output**: the name and data type of the result\\\n",
    "**Postconditions**: how the output relates to the inputs\n",
    "\n",
    "[Hint](../31_Hints/Hints_03_1_01.ipynb)\n",
    "[Answer](../32_Answers/Answers_03_1_01.ipynb)"
   ]
  },
  {
   "cell_type": "markdown",
   "metadata": {},
   "source": [
    "#### Exercise 3.1.2"
   ]
  },
  {
   "cell_type": "markdown",
   "metadata": {},
   "source": [
    "Define the negation operation. Make the postcondition as brief as possible.\n",
    "\n",
    "**Function**: \\\n",
    "**Inputs**: \\\n",
    "**Preconditions**: \\\n",
    "**Output**: \\\n",
    "**Postconditions**:\n",
    "\n",
    "[Hint](../31_Hints/Hints_03_1_02.ipynb)\n",
    "[Answer](../32_Answers/Answers_03_1_02.ipynb)"
   ]
  },
  {
   "cell_type": "markdown",
   "metadata": {},
   "source": [
    "### 3.1.2 Using Booleans"
   ]
  },
  {
   "cell_type": "markdown",
   "metadata": {},
   "source": [
    "Booleans are used to represent properties that have only two possible states:\n",
    "on/off, open/closed, up/down, pass/fail, inside/outside, etc.\n",
    "We have to decide which state is represented by which Boolean value.\n",
    "\n",
    "For example, a Boolean variable can represent whether a mobile phone\n",
    "is on or off. Let's assume that value true indicates that the phone is on.\n",
    "The variable name must reflect that choice, so I'll call it _phone on_.\n",
    "When bought, the phone is off, so the variable is initialised to false.\n",
    "\n",
    "> let _phone on_ be false\n",
    "\n",
    "If I prefer to represent the off state as the true value,\n",
    "then I must change the variable's name and initial value.\n",
    "\n",
    "> let _phone off_ be true\n",
    "\n",
    "A rule of thumb for choosing Boolean variable names is that they should\n",
    "become unambiguous yes/no questions when you add a question mark at the end.\n",
    "The name _phone is on_ is a good one too, albeit more verbose,\n",
    "because 'phone is on?' is a precise yes/no question.\n",
    "The name _phone_ is a very poor one, because 'phone?' is an ambiguous question.\n",
    "It can mean 'do you need a phone?' or 'do you have a phone?' or something else.\n",
    "\n",
    "Negation switches from one state to the other,\n",
    "like when flipping a switch or tapping a button. For example,\n",
    "\n",
    "> let _phone on_ be not _phone on_\n",
    "\n",
    "turns the phone off if it was on and vice versa."
   ]
  },
  {
   "cell_type": "markdown",
   "metadata": {},
   "source": [
    "#### Exercise 3.1.3"
   ]
  },
  {
   "cell_type": "markdown",
   "metadata": {},
   "source": [
    "Is _phone state_ a good name for a Boolean variable?"
   ]
  },
  {
   "cell_type": "markdown",
   "metadata": {
    "tags": [
     "ANSWER"
    ]
   },
   "source": [
    "_Write your answer here._"
   ]
  },
  {
   "cell_type": "markdown",
   "metadata": {},
   "source": [
    "[Answer](../32_Answers/Answers_03_1_03.ipynb)"
   ]
  },
  {
   "cell_type": "markdown",
   "metadata": {},
   "source": [
    "#### Exercise 3.1.4"
   ]
  },
  {
   "cell_type": "markdown",
   "metadata": {},
   "source": [
    "Look at the settings of your mobile phone.\n",
    "List some that can be represented as Booleans."
   ]
  },
  {
   "cell_type": "markdown",
   "metadata": {
    "tags": [
     "ANSWER"
    ]
   },
   "source": [
    "_Write your answer here._"
   ]
  },
  {
   "cell_type": "markdown",
   "metadata": {},
   "source": [
    "[Answer](../32_Answers/Answers_03_1_04.ipynb)"
   ]
  },
  {
   "cell_type": "markdown",
   "metadata": {},
   "source": [
    "### 3.1.3 The `bool` type"
   ]
  },
  {
   "cell_type": "markdown",
   "metadata": {},
   "source": [
    "Python's `bool` type implements the Boolean ADT.\n",
    "The logical values true and false are represented by\n",
    "the literals `True` and `False`, which are keywords.\n",
    "Notice the initial uppercase letter!\n",
    "\n",
    "The conjunction, disjunction and negation operations are written with\n",
    "the operators `and`, `or` and `not` respectively, which are keywords too.\n",
    "Here are some earlier examples, now in Python:"
   ]
  },
  {
   "cell_type": "code",
   "execution_count": 1,
   "metadata": {
    "execution": {
     "iopub.execute_input": "2021-09-10T15:36:07.522480Z",
     "iopub.status.busy": "2021-09-10T15:36:07.521712Z",
     "iopub.status.idle": "2021-09-10T15:36:07.524746Z",
     "shell.execute_reply": "2021-09-10T15:36:07.525275Z"
    }
   },
   "outputs": [
    {
     "data": {
      "text/plain": [
       "True"
      ]
     },
     "execution_count": 1,
     "metadata": {},
     "output_type": "execute_result"
    }
   ],
   "source": [
    "True and not True or True"
   ]
  },
  {
   "cell_type": "code",
   "execution_count": 2,
   "metadata": {
    "execution": {
     "iopub.execute_input": "2021-09-10T15:36:07.529666Z",
     "iopub.status.busy": "2021-09-10T15:36:07.528979Z",
     "iopub.status.idle": "2021-09-10T15:36:07.531372Z",
     "shell.execute_reply": "2021-09-10T15:36:07.532063Z"
    }
   },
   "outputs": [
    {
     "data": {
      "text/plain": [
       "True"
      ]
     },
     "execution_count": 1,
     "metadata": {},
     "output_type": "execute_result"
    }
   ],
   "source": [
    "phone_on = False\n",
    "phone_on = not phone_on\n",
    "phone_on"
   ]
  },
  {
   "cell_type": "markdown",
   "metadata": {},
   "source": [
    "The Python interpreter stops evaluating conjunctions and disjunctions\n",
    "as soon as it can determine the value of the expression.\n",
    "If the left operand of a conjunction is false then the whole conjunction is false,\n",
    "so the right operand isn't evaluated.\n",
    "Likewise, if the left operand of a disjunction is true then\n",
    "the whole disjunction is true, so the right operand isn't evaluated.\n",
    "This is called the **short-circuit** evaluation of Boolean expressions.\n",
    "We'll see later why this is useful."
   ]
  },
  {
   "cell_type": "markdown",
   "metadata": {},
   "source": [
    "#### Exercise 3.1.5"
   ]
  },
  {
   "cell_type": "markdown",
   "metadata": {},
   "source": [
    "Put parentheses in this expression so that it evaluates to false."
   ]
  },
  {
   "cell_type": "code",
   "execution_count": 3,
   "metadata": {
    "execution": {
     "iopub.execute_input": "2021-09-10T15:36:07.535633Z",
     "iopub.status.busy": "2021-09-10T15:36:07.534959Z",
     "iopub.status.idle": "2021-09-10T15:36:07.537346Z",
     "shell.execute_reply": "2021-09-10T15:36:07.537867Z"
    }
   },
   "outputs": [],
   "source": [
    "True and not True or True"
   ]
  },
  {
   "cell_type": "markdown",
   "metadata": {},
   "source": [
    "I've removed the output in this and future exercises with Python code.\n",
    "Until you complete the exercises, their code output is necessarily wrong,\n",
    "so there's no point in showing it.\n",
    "\n",
    "[Hint](../31_Hints/Hints_03_1_05.ipynb)\n",
    "[Answer](../32_Answers/Answers_03_1_05.ipynb)"
   ]
  },
  {
   "cell_type": "markdown",
   "metadata": {},
   "source": [
    "#### Exercise 3.1.6"
   ]
  },
  {
   "cell_type": "markdown",
   "metadata": {},
   "source": [
    "What may happen if you write Booleans in lowercase, i.e. `true` and `false`?"
   ]
  },
  {
   "cell_type": "markdown",
   "metadata": {
    "tags": [
     "ANSWER"
    ]
   },
   "source": [
    "_Write your answer here._"
   ]
  },
  {
   "cell_type": "markdown",
   "metadata": {},
   "source": [
    "[Hint](../31_Hints/Hints_03_1_06.ipynb)\n",
    "[Answer](../32_Answers/Answers_03_1_06.ipynb)"
   ]
  },
  {
   "cell_type": "markdown",
   "metadata": {},
   "source": [
    "### 3.1.4 Mistakes"
   ]
  },
  {
   "cell_type": "markdown",
   "metadata": {},
   "source": [
    "In everyday English, 'this or that' often means 'either this or that',\n",
    "i.e. only one of them can be true,\n",
    "as in the statement 'We will go to the movies or to the park'.\n",
    "In Boolean logic, disjunction never has that meaning.\n",
    "If it had, 'true or true' would be false.\n",
    "\n",
    "It's easy to forget that conjunction is evaluated before disjunction,\n",
    "because it tends to be the other way round in English. The sentence\n",
    "'Alice is tall and has blue or brown eyes' means that\n",
    "Alice is tall and that Alice has blue or brown eyes.\n",
    "But read as a Boolean expression, the sentence means that\n",
    "Alice is tall and has blue eyes, or that Alice has brown eyes.\n",
    "If Alice is short and has brown eyes,\n",
    "the sentence is false according to the usual meaning in English,\n",
    "but true according to the logical meaning."
   ]
  },
  {
   "cell_type": "code",
   "execution_count": 4,
   "metadata": {
    "execution": {
     "iopub.execute_input": "2021-09-10T15:36:07.543918Z",
     "iopub.status.busy": "2021-09-10T15:36:07.543128Z",
     "iopub.status.idle": "2021-09-10T15:36:07.546041Z",
     "shell.execute_reply": "2021-09-10T15:36:07.546896Z"
    }
   },
   "outputs": [
    {
     "data": {
      "text/plain": [
       "True"
      ]
     },
     "execution_count": 1,
     "metadata": {},
     "output_type": "execute_result"
    }
   ],
   "source": [
    "is_tall = False\n",
    "blue_eyes = False\n",
    "brown_eyes = True\n",
    "is_tall and blue_eyes or brown_eyes"
   ]
  },
  {
   "cell_type": "markdown",
   "metadata": {},
   "source": [
    "The informal English meaning of the statement is obtained with parentheses:"
   ]
  },
  {
   "cell_type": "code",
   "execution_count": 5,
   "metadata": {
    "execution": {
     "iopub.execute_input": "2021-09-10T15:36:07.551869Z",
     "iopub.status.busy": "2021-09-10T15:36:07.551139Z",
     "iopub.status.idle": "2021-09-10T15:36:07.553717Z",
     "shell.execute_reply": "2021-09-10T15:36:07.554491Z"
    }
   },
   "outputs": [
    {
     "data": {
      "text/plain": [
       "False"
      ]
     },
     "execution_count": 1,
     "metadata": {},
     "output_type": "execute_result"
    }
   ],
   "source": [
    "is_tall and (blue_eyes or brown_eyes)"
   ]
  },
  {
   "cell_type": "markdown",
   "metadata": {
    "tags": [
     "NOTE"
    ]
   },
   "source": [
    "<div class=\"alert alert-warning\">\n",
    "<strong>Note:</strong> The meaning of conjunction and disjunction in Boolean logic is not the same\n",
    "as the meaning of 'and' and 'or' in everyday English.\n",
    "</div>"
   ]
  },
  {
   "cell_type": "markdown",
   "metadata": {},
   "source": [
    "The short-circuit evaluation of conjunction and disjunction can lead to\n",
    "errors that are hard to detect. For example, the expression"
   ]
  },
  {
   "cell_type": "code",
   "execution_count": 6,
   "metadata": {
    "execution": {
     "iopub.execute_input": "2021-09-10T15:36:07.559725Z",
     "iopub.status.busy": "2021-09-10T15:36:07.558917Z",
     "iopub.status.idle": "2021-09-10T15:36:07.562074Z",
     "shell.execute_reply": "2021-09-10T15:36:07.562828Z"
    }
   },
   "outputs": [
    {
     "data": {
      "text/plain": [
       "True"
      ]
     },
     "execution_count": 1,
     "metadata": {},
     "output_type": "execute_result"
    }
   ],
   "source": [
    "is_tall and blue_eys or brown_eyes"
   ]
  },
  {
   "cell_type": "markdown",
   "metadata": {},
   "source": [
    "is evaluated as before, even though the second variable is misspelled.\n",
    "(Did you spot it?)\n",
    "There's no name error because the right operand isn't evaluated."
   ]
  },
  {
   "cell_type": "markdown",
   "metadata": {},
   "source": [
    "#### Exercise 3.1.7"
   ]
  },
  {
   "cell_type": "markdown",
   "metadata": {},
   "source": [
    "Show the step-by-step evaluation of the following expression,\n",
    "using the precedence and associativity rules:\n",
    "true or not true and false or not false."
   ]
  },
  {
   "cell_type": "markdown",
   "metadata": {
    "tags": [
     "ANSWER"
    ]
   },
   "source": [
    "_Write your answer here._"
   ]
  },
  {
   "cell_type": "markdown",
   "metadata": {},
   "source": [
    "[Hint](../31_Hints/Hints_03_1_07.ipynb)\n",
    "[Answer](../32_Answers/Answers_03_1_07.ipynb)"
   ]
  },
  {
   "cell_type": "markdown",
   "metadata": {},
   "source": [
    "⟵ [Previous section](03-introduction.ipynb) | [Up](03-introduction.ipynb) | [Next section](03_2_decision.ipynb) ⟶"
   ]
  }
 ],
 "metadata": {
  "kernelspec": {
   "display_name": "Python 3",
   "language": "python",
   "name": "python3"
  },
  "language_info": {
   "codemirror_mode": {
    "name": "ipython",
    "version": 3
   },
   "file_extension": ".py",
   "mimetype": "text/x-python",
   "name": "python",
   "nbconvert_exporter": "python",
   "pygments_lexer": "ipython3",
   "version": "3.8.5"
  }
 },
 "nbformat": 4,
 "nbformat_minor": 4
}
