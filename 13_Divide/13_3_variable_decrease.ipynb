{
 "cells": [
  {
   "cell_type": "markdown",
   "metadata": {},
   "source": [
    "## 13.3 Variable decrease"
   ]
  },
  {
   "cell_type": "markdown",
   "metadata": {},
   "source": [
    "The third kind of decrease-and-conquer algorithm reduces the size or value of\n",
    "the input by a **variable amount**,\n",
    "i.e. a possibly different amount in every recursive call or iteration.\n",
    "An example is Euclid's algorithm for the greatest common divisor (GCD),\n",
    "which you saw in the BBC programme in the\n",
    "[first week](../01_Introduction/01_1_expectations.ipynb#1.1.1.1-Activities)."
   ]
  },
  {
   "cell_type": "markdown",
   "metadata": {},
   "source": [
    "### 13.3.1 Problem"
   ]
  },
  {
   "cell_type": "markdown",
   "metadata": {},
   "source": [
    "The GCD of two positive integers is the greatest positive integer\n",
    "that divides both without a remainder, e.g. gcd(5, 15) = 5 and gcd(3, 7) = 1.\n",
    "It can be formulated as a search problem:\n",
    "given positive integers _a_ and _b_, find the largest integer _n_ that\n",
    "is a factor of _a_ and of _b_."
   ]
  },
  {
   "cell_type": "markdown",
   "metadata": {},
   "source": [
    "#### Exercise 13.3.1"
   ]
  },
  {
   "cell_type": "markdown",
   "metadata": {},
   "source": [
    "Before looking at Euclid's algorithm, sketch a brute-force search algorithm."
   ]
  },
  {
   "cell_type": "markdown",
   "metadata": {
    "tags": [
     "ANSWER"
    ]
   },
   "source": [
    "_Write your answer here._"
   ]
  },
  {
   "cell_type": "markdown",
   "metadata": {},
   "source": [
    "[Hint](../31_Hints/Hints_13_3_01.ipynb)\n",
    "[Answer](../32_Answers/Answers_13_3_01.ipynb)"
   ]
  },
  {
   "cell_type": "markdown",
   "metadata": {},
   "source": [
    "### 13.3.2 Algorithm"
   ]
  },
  {
   "cell_type": "markdown",
   "metadata": {},
   "source": [
    "The BBC programme gave a geometric explanation of Euclid's algorithm:\n",
    "the GCD is the side of the largest square tile that\n",
    "covers a rectangle of a given width and length.\n",
    "If you want to watch it again, it's in [part&nbsp;1](https://learn2.open.ac.uk/mod/oucontent/view.php?id=1550051)\n",
    "from about 5:30 to 8:30.\n",
    "\n",
    "We start with a rectangle of area _width_ × _length_,\n",
    "with _width_ < _length_.\n",
    "We then fill the rectangle as much as possible with square tiles\n",
    "of area _width_ × _width_.\n",
    "The rectangle that remains to be filled has now area\n",
    "_width_ × (_length_ mod _width_).\n",
    "By definition of the modulo operation, _length_ mod _width_ < _width_,\n",
    "so if we take the length to always be the longest side, the width of\n",
    "the original rectangle is now the length of the remaining rectangle.\n",
    "\n",
    "We repeat the process until no rectangle to be filled remains,\n",
    "i.e. when one of its sides is zero.\n",
    "At that point, the side of the last tile used is the GCD.\n",
    "\n",
    "If we define the operation so that the first argument is the width\n",
    "and the second the length, and we allow the width to become zero,\n",
    "the definition is:\n",
    "\n",
    "- if _width_ = 0: gcd(_width_, _length_) = _length_\n",
    "- if _width_ > 0: gcd(_width_, _length_) = gcd(_length_ mod _width_, _width_).\n",
    "\n",
    "The programme's example is:\n",
    "gcd(150, 345) = gcd(45, 150) = gcd(15, 45) = gcd(0, 15) = 15.\n",
    "\n",
    "The recursive algorithm is trivial: it just follows the recursive definition.\n",
    "\n",
    "1. if _width_ = 0:\n",
    "   1. let _factor_ be _length_\n",
    "2. otherwise:\n",
    "   1. let _factor_ be gcd(_length_ mod _width_, _width_)\n",
    "\n",
    "Being a tail-recursive algorithm, the output for the last call is\n",
    "the output for the initial call because there's no combination step.\n",
    "The algorithm just decreases the input\n",
    "until it computes the solution for the base case.\n",
    "This can be done iteratively too.\n",
    "\n",
    "1. while _width_ > 0:\n",
    "   1. let _new width_ be _length_ mod _width_\n",
    "   2. let _length_ be _width_\n",
    "   3. let _width_ be _new width_\n",
    "4. let _factor_ be _length_\n",
    "\n",
    "As Euclid's algorithm shows, decrease and conquer is an old technique that\n",
    "predates computers. All proper books on algorithms include an ancient algorithm."
   ]
  },
  {
   "cell_type": "markdown",
   "metadata": {},
   "source": [
    "### 13.3.3 Complexity"
   ]
  },
  {
   "cell_type": "markdown",
   "metadata": {},
   "source": [
    "In the best case, the length is a multiple of the width, i.e. the modulo is\n",
    "zero, and the algorithm computes the result in two calls or one iteration,\n",
    "e.g. gcd(4, 400) = gcd(0, 4) = 4. The best-case complexity is Θ(1).\n",
    "\n",
    "In the worst case, it can be proven that the second argument, the length,\n",
    "decreases by at least half in each recursive call or iteration,\n",
    "as the BBC's example illustrates, so this algorithm is logarithmic too.\n",
    "\n",
    "However, the modulo can decrease the length to substantially less than one half.\n",
    "In the example, the length decreases at one point from 150 to 45,\n",
    "to less than a third, and then again from 45 to 15, exactly one third.\n",
    "The number of calls or iterations is at most the logarithm of\n",
    "the initial length, but for many input values it's much less.\n",
    "\n",
    "When we don't know the exact growth rate for each input, e.g. because\n",
    "each iteration or recursive call decreases a value by a variable amount,\n",
    "but we know its upper bound, we use the **Big-Oh** notation.\n",
    "For this algorithm, we write O(log _length_) instead of Θ(log _length_).\n",
    "\n",
    "The difference between using Big-Oh and Big-Theta is like saying\n",
    "'Bob is at most 6 feet tall' and 'Bob is exactly 6 feet tall':\n",
    "the former gives an upper bound whereas the latter is precise."
   ]
  },
  {
   "cell_type": "markdown",
   "metadata": {
    "tags": [
     "NOTE"
    ]
   },
   "source": [
    "<div class=\"alert alert-warning\">\n",
    "<strong>Note:</strong> For decrease-and-conquer algorithms with a variable decrease,\n",
    "use Big-Oh notation instead of Big-Theta.\n",
    "</div>"
   ]
  },
  {
   "cell_type": "markdown",
   "metadata": {},
   "source": [
    "The Big-Oh notation can be used for the best- and worst-case complexity.\n",
    "For example, if the best-case complexity is O(_n_), this means that\n",
    "in the best case the algorithm takes at most linear time in _n_\n",
    "(whatever _n_ means for the problem at hand), but it may take less time,\n",
    "e.g. logarithmic time, we just don't know for which inputs.\n",
    "Normally, the best-case scenario is quite clear and the complexity\n",
    "can be stated precisely, with the Big-Theta notation.\n",
    "\n",
    "The worst-case complexity is always an upper bound of the best-case complexity,\n",
    "so in many websites and texts you'll read statements of the form\n",
    "'this algorithm has complexity O(...)'. What those authors often mean is\n",
    "that the algorithm has worst-case complexity Θ(...)\n",
    "and some lower complexity for the best case, which they're not interested in.\n",
    "\n",
    "Every growth rate is an upper bound for a slower growth rate, e.g.\n",
    "2ⁿ grows faster than *n*² which in turn grows faster than _n_.\n",
    "So an algorithm with complexity Θ(_n_) also has complexity O(*n*²) and O(2ⁿ).\n",
    "Although that's technically correct, it's useless information.\n",
    "It's akin to saying that Bob is at most 3 metres tall:\n",
    "it really doesn't give a clue about Bob's real height.\n",
    "If you have to use Big-Oh notation because you can't state the\n",
    "best- or worst-case complexity precisely for all inputs, then\n",
    "give an upper bound as low as you can."
   ]
  },
  {
   "cell_type": "markdown",
   "metadata": {},
   "source": [
    "⟵ [Previous section](13_2_decrease_half.ipynb) | [Up](13-introduction.ipynb) | [Next section](13_4_binary_search.ipynb) ⟶"
   ]
  }
 ],
 "metadata": {
  "kernelspec": {
   "display_name": "Python 3",
   "language": "python",
   "name": "python3"
  },
  "language_info": {
   "codemirror_mode": {
    "name": "ipython",
    "version": 3
   },
   "file_extension": ".py",
   "mimetype": "text/x-python",
   "name": "python",
   "nbconvert_exporter": "python",
   "pygments_lexer": "ipython3",
   "version": "3.8.5"
  }
 },
 "nbformat": 4,
 "nbformat_minor": 4
}
