{
 "cells": [
  {
   "cell_type": "markdown",
   "metadata": {},
   "source": [
    "## 13.1 Decrease by one"
   ]
  },
  {
   "cell_type": "markdown",
   "metadata": {},
   "source": [
    "This and the next two sections introduce the three kinds of\n",
    "decrease-and-conquer algorithms, according to how they decrease the input.\n",
    "\n",
    "Some algorithms decrease the input's size or value by a **constant amount**,\n",
    "usually by one to make sure that the base case isn't skipped over,\n",
    "as I explained [previously](../12_Recursion/12_2_integers.ipynb#12.2.1-Algorithm).\n",
    "All single recursion examples in the previous chapter are examples of\n",
    "decrease-by-one algorithms.\n",
    "\n",
    "This section explains how to analyse the complexity of such algorithms."
   ]
  },
  {
   "cell_type": "markdown",
   "metadata": {},
   "source": [
    "### 13.1.1 Factorial"
   ]
  },
  {
   "cell_type": "markdown",
   "metadata": {},
   "source": [
    "Here again is the recursive algorithm for\n",
    "the [factorial](../12_Recursion/12_1_factorial.ipynb#12.1-The-factorial-function):\n",
    "\n",
    "1. if _n_ = 0:\n",
    "   1. let _product_ be 1\n",
    "1. otherwise:\n",
    "   1. let _product_ be factorial(_n_−1) × _n_\n",
    "\n",
    "The complexity of an iterative algorithm is\n",
    "the number of iterations multiplied by the complexity of each one.\n",
    "Similarly, the complexity of a recursive algorithm is\n",
    "the number of calls multiplied by the complexity of each one.\n",
    "\n",
    "Computing _n_! involves _n_+1 calls, from factorial(_n_) until factorial(0).\n",
    "Each call only does constant-time operations: one comparison, one assignment\n",
    "and one multiplication (unless _n_ is zero).\n",
    "The complexity is therefore (_n_ + 1) × Θ(1) = Θ(_n_).\n",
    "\n",
    "Another way to obtain the complexity is to define it recursively for each case.\n",
    "Let T(_n_) be the algorithm's complexity for input _n_.\n",
    "The function name T is an abbreviation for 'time' but any other name would do.\n",
    "\n",
    "If the input is zero, the algorithm takes constant time (steps 1 and 1.1),\n",
    "so T(0) = Θ(1). If the input is positive (step&nbsp;2.1),\n",
    "the algorithm takes whatever time it needs to compute (_n_−1)!\n",
    "plus some constant time to multiply the result by _n_,\n",
    "i.e. T(_n_) = T(_n_−1) + Θ(1).\n",
    "The definition of T can be written like for any other recursive function:\n",
    "\n",
    "- if _n_ = 0: T(_n_) = Θ(1)\n",
    "- if _n_ > 0: T(_n_) = T(_n_−1) + Θ(1).\n",
    "\n",
    "If we repeatedly expand the right-hand side for _n_ > 0 until _n_ = 0\n",
    "we unsurprisingly get the same result.\n",
    "\n",
    "T(_n_) = T(_n_−1) + Θ(1) = T(_n_−2) + Θ(1) + Θ(1) = ...\n",
    "= T(_n_ – _n_) + _n_×Θ(1) = Θ(1) + Θ(_n_) = Θ(_n_)"
   ]
  },
  {
   "cell_type": "markdown",
   "metadata": {},
   "source": [
    "### 13.1.2 Sequence length"
   ]
  },
  {
   "cell_type": "markdown",
   "metadata": {},
   "source": [
    "As a further example, let's consider the length of a sequence.\n",
    "The following algorithm is based on the earlier\n",
    "[recursive definition](../12_Recursion/12_3_length.ipynb#12.3.1-Recursive-definition).\n",
    "\n",
    "1. if _sequence_ is empty:\n",
    "   1. let _size_ be 0\n",
    "1. otherwise:\n",
    "   1. let _size_ be length(tail(_sequence_)) + 1\n",
    "\n",
    "To make the complexity easier to write, I abbreviate │*sequence*│ as _n_.\n",
    "T(_n_) will be the complexity for an input of size _n_.\n",
    "The recursive definition is:\n",
    "\n",
    "- if _n_ = 0: T(_n_) = Θ(1)\n",
    "- if _n_ > 0: T(_n_) = Θ(_t_) + T(_n_ – 1) + Θ(1).\n",
    "\n",
    "In the recurrence relation, Θ(_t_) is the complexity of obtaining the tail,\n",
    "T(_n_ – 1) is for computing the length of the tail and\n",
    "Θ(1) is for adding one to result of the recursive call.\n",
    "\n",
    "For [linked lists](../06_Implementing/06_7_linked_list.ipynb#6.7-Linked-lists), the tail is obtained in constant time by\n",
    "following two pointers: first to the head, then to the next node.\n",
    "The recurrence relation becomes\n",
    "\n",
    "T(_n_) = Θ(1) + T(_n_ – 1) + Θ(1) = T(_n_ – 1) + Θ(1).\n",
    "\n",
    "As we've seen for the factorial example, a recursive definition of this form\n",
    "entails T(_n_) = Θ(_n_).\n",
    "Calculating the length of a linked list takes linear time.\n",
    "\n",
    "However, on arrays the tail operation takes linear time due to slicing.\n",
    "The recurrence relation becomes\n",
    "\n",
    "T(_n_) = Θ(_n_) + T(_n_ – 1) + Θ(1) = T(_n_ – 1) + Θ(_n_).\n",
    "\n",
    "Successively expanding T we get\n",
    "\n",
    "T(_n_) = T(_n_-1) + Θ(n)\n",
    "       = T(_n_-2) + Θ(_n_-1) + Θ(_n_)\n",
    "       = ...\n",
    "       = T(0) + Θ(1) + Θ(2) + $\\cdots$ + Θ(_n_).\n",
    "\n",
    "Since T(0) = Θ(1), we get\n",
    "\n",
    "T(_n_) = Θ(1) + Θ(1) + Θ(2) + $\\cdots$ + Θ(_n_)\n",
    "       = Θ(1) + Θ(2) + $\\cdots$ + Θ(_n_).\n",
    "\n",
    "The sum of the first _n_ positive integers is (*n*² + _n_) / 2.\n",
    "We therefore have\n",
    "\n",
    "T(_n_) =  Θ(1) + $\\cdots$ + Θ(_n_) = 0.5 × Θ(*n*² + _n_) = Θ(*n*²)\n",
    "\n",
    "because the growth rate is given by the fastest-growing term,\n",
    "ignoring constant factors like one half.\n",
    "Computing the length of an array with the tail operation takes quadratic time."
   ]
  },
  {
   "cell_type": "markdown",
   "metadata": {
    "tags": [
     "INFO"
    ]
   },
   "source": [
    "<div class=\"alert alert-info\">\n",
    "<strong>Info:</strong> MU123 Unit&nbsp;9 Section&nbsp;1.1 and MST124 Unit&nbsp;10 Section&nbsp;4.1 explain\n",
    "how the formula for 1 + ... + <em>n</em> is derived.\n",
    "</div>"
   ]
  },
  {
   "cell_type": "markdown",
   "metadata": {},
   "source": [
    "Both the factorial and the length have base case _n_ = 0,\n",
    "but the recursive definition of the complexity is the same for whatever\n",
    "smallest input, as long as it takes constant time to compute its solution."
   ]
  },
  {
   "cell_type": "markdown",
   "metadata": {
    "tags": [
     "NOTE"
    ]
   },
   "source": [
    "<div class=\"alert alert-warning\">\n",
    "<strong>Note:</strong> If the complexity is defined by T(<em>s</em>) = Θ(1),\n",
    "where <em>s</em> is the smallest size or value, and\n",
    "T(<em>n</em>) = T(<em>n</em> − 1) + Θ(1) for <em>n</em> > <em>s</em>, then T(<em>n</em>) = Θ(<em>n</em>).\n",
    "If instead T(<em>n</em>) = T(<em>n</em> − 1) + Θ(<em>n</em>), then T(<em>n</em>) = Θ(<em>n</em>²).\n",
    "</div>"
   ]
  },
  {
   "cell_type": "markdown",
   "metadata": {},
   "source": [
    "Linked lists are better suited than arrays for\n",
    "recursive algorithms on sequences, because they support the tail and prepend\n",
    "operations in constant time without having to copy or shift items, as you've\n",
    "seen when [implementing stacks](../07_Ordered/07_1_stack.ipynb#7.1.3-Implementing-with-a-linked-list)."
   ]
  },
  {
   "cell_type": "markdown",
   "metadata": {},
   "source": [
    "⟵ [Previous section](13-introduction.ipynb) | [Up](13-introduction.ipynb) | [Next section](13_2_decrease_half.ipynb) ⟶"
   ]
  }
 ],
 "metadata": {
  "kernelspec": {
   "display_name": "Python 3",
   "language": "python",
   "name": "python3"
  },
  "language_info": {
   "codemirror_mode": {
    "name": "ipython",
    "version": 3
   },
   "file_extension": ".py",
   "mimetype": "text/x-python",
   "name": "python",
   "nbconvert_exporter": "python",
   "pygments_lexer": "ipython3",
   "version": "3.8.5"
  }
 },
 "nbformat": 4,
 "nbformat_minor": 4
}
