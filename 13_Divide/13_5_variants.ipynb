{
 "cells": [
  {
   "cell_type": "markdown",
   "metadata": {},
   "source": [
    "## 13.5 Binary search variants"
   ]
  },
  {
   "cell_type": "markdown",
   "metadata": {},
   "source": [
    "Binary search can be adapted to other problems, for example\n",
    "if we don't know the value being searched for, only some property of it.\n",
    "\n",
    "To design a binary search we must answer these questions:\n",
    "\n",
    "1. When can we know the search is unsuccessful and stop?\n",
    "2. When can we know the search is successful and stop?\n",
    "3. How do we decide whether to search the left or the right half of the sequence?\n",
    "\n",
    "For the basic binary search in the previous section, the answers are:\n",
    "\n",
    "1. When the sequence is empty.\n",
    "2. When the middle item is the sought item.\n",
    "3. If the sought item is smaller than the middle item, search the left half;\n",
    "   otherwise search the right half."
   ]
  },
  {
   "cell_type": "markdown",
   "metadata": {},
   "source": [
    "### 13.5.1 Transition"
   ]
  },
  {
   "cell_type": "markdown",
   "metadata": {},
   "source": [
    "Consider the problem of finding the transition between negative and positive\n",
    "numbers in an ascending sequence. More precisely, we want the index of the first\n",
    "positive number. Let's assume there's always at least one.\n",
    "We don't know its value: it might be 1, 5486, or anything else.\n",
    "Still, we can use binary search to find it."
   ]
  },
  {
   "cell_type": "markdown",
   "metadata": {
    "tags": [
     "INFO"
    ]
   },
   "source": [
    "<div class=\"alert alert-info\">\n",
    "<strong>Info:</strong> This problem is inspired by LeetCode\n",
    "<a href=\"https://leetcode.com/problems/first-bad-version/\">problem 278</a>.\n",
    "</div>"
   ]
  },
  {
   "cell_type": "markdown",
   "metadata": {},
   "source": [
    "We're assuming there's a positive number in the sequence, so again\n",
    "the search is always successful and question 1 doesn't apply.\n",
    "\n",
    "What's the answer to question 2, i.e. when can we stop, having found\n",
    "a positive number? Can we stop when the middle number is positive?\n",
    "\n",
    "___\n",
    "\n",
    "No we can't, because there might be other positive numbers to its left.\n",
    "We only stop when the current slice has a single number: it must be positive.\n",
    "\n",
    "What's the answer to question 3? How do we determine which half to search?\n",
    "\n",
    "___\n",
    "\n",
    "If the middle number is not positive, any positive numbers must come after it\n",
    "because the sequence is ascending, so we search the right half.\n",
    "Otherwise we search the left half. We can't exclude the middle item when\n",
    "searching the left half, because it might be the first positive number.\n",
    "\n",
    "Here's an algorithm for function first_positive(_numbers_, _start_, _end_),\n",
    "with 0 ≤ _start_ < _end_ ≤ │*numbers*│.\n",
    "Contrary to previous binary searches, the input sequence isn't empty,\n",
    "so the start index is strictly smaller than the end index.\n",
    "\n",
    "1. if _end_ − _start_ = 1:\n",
    "   1. let _first_ be _numbers_[*start*]\n",
    "2. otherwise:\n",
    "   1. let _middle_ be _start_ + floor((_end_ – _start_) / 2)\n",
    "   1. let _middle item_ be _items_[*middle*]\n",
    "   1. if _middle item_ > 0:\n",
    "      1. let _first_ be first_positive(_items_, _start_, _middle_ + 1)\n",
    "   2. otherwise:\n",
    "      1. let _first_ be first_positive(_items_, _middle_ + 1, _end_)\n",
    "\n",
    "Since we're working on slices, we're following the convention of not including\n",
    "the end index. Step&nbsp;2.3.1 must therefore set it to _middle_ + 1 in order to\n",
    "include the middle item.\n",
    "\n",
    "This raises the question of whether the slice is always reducing its length.\n",
    "Length one is already handled as a base case by step&nbsp;1.\n",
    "Let's assume the length is two, i.e. _end_ – _start_ = 2. In that case\n",
    "\n",
    "_middle_ = _start_ + floor((_end_ – _start_) / 2) = _start_ + floor(2 / 2) = _start_ + 1\n",
    "\n",
    "which means that the middle number is the second and last number of the slice.\n",
    "It can't be negative because any positive number would have to come after it, but there are no more numbers in a slice of length&nbsp;2.\n",
    "So, the middle (actually last) number of the two must be positive.\n",
    "The algorithm will execute step&nbsp;2.3.1 but _middle_ + 1 = _start_ + 2 = _end_, which means that the recursive call will be made on the same slice.\n",
    "To sum up, when the slice has only two numbers, the second, which must be positive, is chosen as the middle number and the recursive call doesn't decrease the slice.\n",
    "\n",
    "We must handle this input size as a separate base case and choose\n",
    "either the first number, if both are positive, or else the second number.\n",
    "\n",
    "2. otherwise if _start_ – _end_ = 2:\n",
    "   1. if _numbers_[*start*] > 0:\n",
    "      1. let _first_ be _numbers_[*start*]\n",
    "   1. otherwise:\n",
    "      1. let _first_ be _numbers_[_start_ + 1]\n",
    "3. otherwise:\n",
    "   1. ...\n",
    "\n",
    "Next we must analyse the case _end_ – _start_ = 3. Again,\n",
    "\n",
    "_middle_ = _start_ + floor((_end_ – _start_) / 2) = _start_ + floor(3 / 2) = _start_ + 1\n",
    "\n",
    "but now this means that _start_ < _middle_ + 1 < _end_. So, whether\n",
    "the algorithm takes the left half (_start_ to _middle_ + 1) or\n",
    "the right half (_middle_ + 1 to _end_), the new slice is smaller than the\n",
    "input slice from _start_ to _end_ and there's no risk of infinite recursion."
   ]
  },
  {
   "cell_type": "markdown",
   "metadata": {
    "tags": [
     "NOTE"
    ]
   },
   "source": [
    "<div class=\"alert alert-warning\">\n",
    "<strong>Note:</strong> Check that the recursive calls reduce the input's size or value.\n",
    "Any case for which they don't must be handled as a base case.\n",
    "</div>"
   ]
  },
  {
   "cell_type": "markdown",
   "metadata": {},
   "source": [
    "#### Exercise 13.5.1"
   ]
  },
  {
   "cell_type": "markdown",
   "metadata": {},
   "source": [
    "Implement the inner auxiliary function below recursively\n",
    "and run the tests."
   ]
  },
  {
   "cell_type": "code",
   "execution_count": 1,
   "metadata": {
    "execution": {
     "iopub.execute_input": "2021-09-10T15:41:18.022872Z",
     "iopub.status.busy": "2021-09-10T15:41:18.022104Z",
     "iopub.status.idle": "2021-09-10T15:41:18.026035Z",
     "shell.execute_reply": "2021-09-10T15:41:18.025424Z"
    }
   },
   "outputs": [],
   "source": [
    "%run -i ../m269_util\n",
    "\n",
    "def first_positive(numbers: list) -> int:\n",
    "    \"\"\"Return the first (lowest index) positive integer in numbers.\n",
    "\n",
    "    Preconditions:\n",
    "    - numbers is a list of integers in ascending order\n",
    "    - numbers has a positive integer\n",
    "    \"\"\"\n",
    "    def in_slice(start: int, end: int) -> int:\n",
    "        \"\"\"Return the first positive number within numbers[start:end].\n",
    "\n",
    "        Preconditions: 0 <= start < end <= len(items)\n",
    "        \"\"\"\n",
    "        pass\n",
    "\n",
    "    return in_slice(0, len(numbers))\n",
    "\n",
    "first_positive_tests = [\n",
    "    # case,             numbers,            first\n",
    "    ('one number',      [1],                    1),\n",
    "    ('is last',         [-2, -2, 0, 3],         3),\n",
    "    ('all positive',    [2, 3, 4],              2),\n",
    "    ('all but first',   [0, 1, 2, 2, 2, 2, 2],  1),\n",
    "]\n",
    "\n",
    "test(first_positive, first_positive_tests)"
   ]
  },
  {
   "cell_type": "markdown",
   "metadata": {},
   "source": [
    "[Answer](../32_Answers/Answers_13_5_01.ipynb)"
   ]
  },
  {
   "cell_type": "markdown",
   "metadata": {},
   "source": [
    "#### Exercise 13.5.2"
   ]
  },
  {
   "cell_type": "markdown",
   "metadata": {},
   "source": [
    "Implement the function iteratively. The docstring isn't repeated."
   ]
  },
  {
   "cell_type": "code",
   "execution_count": 2,
   "metadata": {
    "execution": {
     "iopub.execute_input": "2021-09-10T15:41:18.029526Z",
     "iopub.status.busy": "2021-09-10T15:41:18.028836Z",
     "iopub.status.idle": "2021-09-10T15:41:18.031337Z",
     "shell.execute_reply": "2021-09-10T15:41:18.031970Z"
    }
   },
   "outputs": [],
   "source": [
    "def first_positive(numbers: list) -> int:\n",
    "    pass\n",
    "\n",
    "test(first_positive, first_positive_tests)"
   ]
  },
  {
   "cell_type": "markdown",
   "metadata": {},
   "source": [
    "[Hint](../31_Hints/Hints_13_5_02.ipynb)\n",
    "[Answer](../32_Answers/Answers_13_5_02.ipynb)\n",
    "\n",
    "There's a more efficient version with a more general base case:\n",
    "if the start number is positive, no matter how long the slice is,\n",
    "then we've found the first positive integer and we can stop.\n",
    "Once a slice of only positive numbers is obtained, this version stops\n",
    "whereas the version above continues decreasing the slice until\n",
    "it has only one or two numbers. This new version has worst-case complexity\n",
    "O(log │*numbers*│), since it's more efficient for some inputs.\n",
    "The recursive algorithm starts as follows:\n",
    "\n",
    "1. if _numbers_[*start*] > 0:\n",
    "   1. let _first_ be _numbers_[*start*]\n",
    "2. otherwise if _end_ – _start_ = 2:\n",
    "   1. let _first_ be _numbers_[_start_ + 1]\n",
    "2. otherwise:\n",
    "   1. ...\n",
    "\n",
    "If the slice has two numbers (step&nbsp;2 is true) and the first one isn't positive\n",
    "(step&nbsp;1 is false), then the second one must be positive (step&nbsp;2.1)."
   ]
  },
  {
   "cell_type": "markdown",
   "metadata": {},
   "source": [
    "### 13.5.2 Right number in the right place"
   ]
  },
  {
   "cell_type": "markdown",
   "metadata": {},
   "source": [
    "Given _numbers_, an ascending sequence of integers without duplicates,\n",
    "we want to know if there's an index _i_ such that _numbers_[*i*] = _i_.\n",
    "For example, (1, 2, 3) doesn't have any number that matches its index,\n",
    "but for (-1, 0, 2), number 2 is at index&nbsp;2.\n",
    "\n",
    "Like the previous problem, this one can be easily solved with a linear search,\n",
    "but you can do much better than that."
   ]
  },
  {
   "cell_type": "markdown",
   "metadata": {},
   "source": [
    "#### Exercise 13.5.3"
   ]
  },
  {
   "cell_type": "markdown",
   "metadata": {},
   "source": [
    "Solve this decision problem using iterative or recursive binary search.\n",
    "You can sketch an algorithm or write it in full, whatever you prefer.\n",
    "Think about the questions above."
   ]
  },
  {
   "cell_type": "markdown",
   "metadata": {
    "tags": [
     "ANSWER"
    ]
   },
   "source": [
    "_Write your answer here._"
   ]
  },
  {
   "cell_type": "markdown",
   "metadata": {},
   "source": [
    "[Hint](../31_Hints/Hints_13_5_03.ipynb)\n",
    "[Answer](../32_Answers/Answers_13_5_03.ipynb)"
   ]
  },
  {
   "cell_type": "markdown",
   "metadata": {},
   "source": [
    "⟵ [Previous section](13_4_binary_search.ipynb) | [Up](13-introduction.ipynb) | [Next section](13_6_divide.ipynb) ⟶"
   ]
  }
 ],
 "metadata": {
  "kernelspec": {
   "display_name": "Python 3",
   "language": "python",
   "name": "python3"
  },
  "language_info": {
   "codemirror_mode": {
    "name": "ipython",
    "version": 3
   },
   "file_extension": ".py",
   "mimetype": "text/x-python",
   "name": "python",
   "nbconvert_exporter": "python",
   "pygments_lexer": "ipython3",
   "version": "3.8.5"
  }
 },
 "nbformat": 4,
 "nbformat_minor": 4
}
