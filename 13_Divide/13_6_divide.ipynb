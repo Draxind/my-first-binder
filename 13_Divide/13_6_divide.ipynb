{
 "cells": [
  {
   "cell_type": "markdown",
   "metadata": {},
   "source": [
    "## 13.6 Divide and conquer"
   ]
  },
  {
   "cell_type": "markdown",
   "metadata": {},
   "source": [
    "A decrease-and-conquer algorithm may divide the input into multiple parts,\n",
    "but only conquers (i.e. solves the problem for) one of them.\n",
    "Binary search is an example: the input sequence is\n",
    "divided into two halves, but only one of them is searched.\n",
    "\n",
    "A divide-and-conquer algorithm conquers more than one part, usually all of them,\n",
    "and then combines their solutions.\n",
    "The [multiple recursion](../12_Recursion/12_8_multiple.ipynb#12.8-Multiple-recursion) examples\n",
    "in the previous chapter are divide-and-conquer algorithms."
   ]
  },
  {
   "cell_type": "markdown",
   "metadata": {},
   "source": [
    "### 13.6.1 Complexity"
   ]
  },
  {
   "cell_type": "markdown",
   "metadata": {},
   "source": [
    "Let _n_ be the size of the input and\n",
    "_s_ be the size of the smallest input, which is necessarily a base case.\n",
    "Let's assume the algorithm divides the input into _p_ parts of\n",
    "equal or nearly equal size. Then its complexity is defined by\n",
    "\n",
    "- if _n_ = _s_: T(_n_) = Θ(_b_)\n",
    "- if _n_ > _s_: T(_n_) = Θ(_d_) + _p_ × T(_n_ / _p_) + Θ(_c_)\n",
    "\n",
    "where Θ(_b_) is the complexity of handling the base case,\n",
    "Θ(_d_) is the complexity of dividing the input and\n",
    "Θ(_c_) is the complexity of combining the subsolutions for the parts.\n",
    "\n",
    "The expression _p_ × T(_n_ / _p_) is the time it takes to solve\n",
    "the _p_ subproblems, each of size _n_ / _p_.\n",
    "\n",
    "Let's analyse the complexity of the divide-and-conquer algorithm for\n",
    "maximum(_numbers_, _start_, _end_), presented in the previous chapter.\n",
    "Remember that the input sequence isn't empty."
   ]
  },
  {
   "cell_type": "markdown",
   "metadata": {},
   "source": [
    "#### Maximum with slicing"
   ]
  },
  {
   "cell_type": "markdown",
   "metadata": {},
   "source": [
    "The first algorithm presented was:\n",
    "\n",
    "1. let _n_ be │*numbers*│\n",
    "1. if _n_ = 1:\n",
    "   1. let _solution_ be head(_numbers_)\n",
    "1. otherwise:\n",
    "   1. let _middle_ be floor(_n_ / 2)\n",
    "   1. let _largest left_ be maximum(_numbers_[0:*middle*])\n",
    "   1. let _largest right_ be maximum(_numbers_[_middle_:*n*])\n",
    "   1. let _solution_ be max(_largest left_, _largest right_)\n",
    "\n",
    "The base case has size _s_ = 1 and takes constant time to process (step&nbsp;2.1).\n",
    "Steps 3.1 to 3.3 take linear time to divide the input into _p_ = 2 parts.\n",
    "Step&nbsp;3.4 takes constant time to combine the subsolutions.\n",
    "We have:\n",
    "\n",
    "- if _n_ = 1: T(_n_) = Θ(1)\n",
    "- if _n_ > 1: T(_n_) = Θ(_n_) + 2 × T(_n_ / 2) + Θ(1) = 2×T(_n_ / 2) + Θ(_n_).\n",
    "\n",
    "It has been proven that this corresponds to T(_n_) = Θ(_n_ × log _n_).\n",
    "This is called **log-linear** complexity.\n",
    "It's slightly worse than linear but much better than quadratic complexity,\n",
    "because logarithmic run-times grow very slowly as the input size grows.\n",
    "In maths, the multiplication operator is omitted when that causes no confusion,\n",
    "so we usually write Θ(_n_ log _n_)."
   ]
  },
  {
   "cell_type": "markdown",
   "metadata": {
    "tags": [
     "INFO"
    ]
   },
   "source": [
    "<div class=\"alert alert-info\">\n",
    "<strong>Info:</strong> Log-linear complexity is also called linearithmic complexity.\n",
    "</div>"
   ]
  },
  {
   "cell_type": "markdown",
   "metadata": {},
   "source": [
    "#### Maximum without slicing"
   ]
  },
  {
   "cell_type": "markdown",
   "metadata": {},
   "source": [
    "The second version presented was:\n",
    "\n",
    "1. if _start_ + 1 = _end_:\n",
    "   1. let _solution_ be _numbers_[*start*]\n",
    "2. otherwise:\n",
    "   1. let _middle_ be _start_ + floor((_end_ – _start_) / 2)\n",
    "   1. let _largest left_ be maximum(_numbers_, _start_, _middle_)\n",
    "   1. let _largest right_ be maximum(_numbers_, _middle_, _end_)\n",
    "   1. let _solution_ be max(_largest left_, _largest right_)\n",
    "\n",
    "The base case has size _s_ = 1 and takes constant time to process (step&nbsp;1.1).\n",
    "Steps 2.1 to 2.3 take constant time to divide the input into _p_ = 2 parts.\n",
    "Step&nbsp;2.4 takes constant time to combine the subsolutions.\n",
    "We have:\n",
    "\n",
    "- if _n_ = 1: T(_n_) = Θ(1)\n",
    "- if _n_ > 1: T(_n_) = Θ(1) + 2 × T(_n_ / 2) + Θ(1) = 2×T(_n_ / 2) + Θ(1).\n",
    "\n",
    "It has been proven that this corresponds to T(_n_) = Θ(_n_)."
   ]
  },
  {
   "cell_type": "markdown",
   "metadata": {},
   "source": [
    "#### General comments"
   ]
  },
  {
   "cell_type": "markdown",
   "metadata": {},
   "source": [
    "The direct expressions for T(_n_) remain the same for any other _p_ > 2,\n",
    "as long as dividing and combining takes constant time. In other words,\n",
    "dividing into more than two parts and combining their results doesn't reduce the\n",
    "complexity but complicates the algorithm and increases the run-time.\n",
    "Therefore, most divide-and-conquer algorithms just divide the input into halves."
   ]
  },
  {
   "cell_type": "markdown",
   "metadata": {
    "tags": [
     "NOTE"
    ]
   },
   "source": [
    "<div class=\"alert alert-warning\">\n",
    "<strong>Note:</strong> If T(<em>s</em>) = Θ(1), where <em>s</em> is the smallest input size, and\n",
    "T(<em>n</em>) = <em>p</em> × T(<em>n</em> / <em>p</em>) + Θ(1) for <em>n</em> > <em>s</em> and <em>p</em> > 1,\n",
    "then T(<em>n</em>) = Θ(<em>n</em>).\n",
    "If instead T(<em>n</em>) = <em>p</em> × T(<em>n</em> / <em>p</em>) + Θ(<em>n</em>), then T(<em>n</em>) = Θ(<em>n</em> log <em>n</em>).\n",
    "</div>"
   ]
  },
  {
   "cell_type": "markdown",
   "metadata": {},
   "source": [
    "If a divide-and-conquer algorithm, like the one above, does the same steps\n",
    "for all inputs, i.e. there's no input for which it stops early, then\n",
    "the complexity obtained is both the best- and worst-case complexity.\n",
    "Otherwise, the recursive definition captures the worst-case complexity.\n",
    "\n",
    "The analysis shows that it's not worth computing the maximum with\n",
    "a divide-and-conquer algorithm: it isn't more efficient than a much\n",
    "simpler iterative linear search. The next chapter presents two examples\n",
    "in which divide and conquer pays off.\n",
    "\n",
    "Divide and conquer is a good approach if implemented in a parallel fashion\n",
    "to take advantage of multi-processor hardware.\n",
    "Each recursive call can be executed as a separate thread that\n",
    "works independently on its part of the input. The operating system allocates\n",
    "each thread to an available processor, reducing the time the user waits\n",
    "for the result, compared to executing the algorithm in one thread.\n",
    "Writing a multi-threaded algorithm requires special libraries or\n",
    "programming language constructs that are outside the scope of M269."
   ]
  },
  {
   "cell_type": "markdown",
   "metadata": {
    "tags": [
     "NOTE"
    ]
   },
   "source": [
    "<div class=\"alert alert-warning\">\n",
    "<strong>Note:</strong> The Operating Systems block of TM129 introduces threads.\n",
    "</div>"
   ]
  },
  {
   "cell_type": "markdown",
   "metadata": {},
   "source": [
    "⟵ [Previous section](13_5_variants.ipynb) | [Up](13-introduction.ipynb) | [Next section](13_7_summary.ipynb) ⟶"
   ]
  }
 ],
 "metadata": {
  "kernelspec": {
   "display_name": "Python 3",
   "language": "python",
   "name": "python3"
  },
  "language_info": {
   "codemirror_mode": {
    "name": "ipython",
    "version": 3
   },
   "file_extension": ".py",
   "mimetype": "text/x-python",
   "name": "python",
   "nbconvert_exporter": "python",
   "pygments_lexer": "ipython3",
   "version": "3.8.5"
  }
 },
 "nbformat": 4,
 "nbformat_minor": 4
}
