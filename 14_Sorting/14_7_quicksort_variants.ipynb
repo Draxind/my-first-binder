{
 "cells": [
  {
   "cell_type": "markdown",
   "metadata": {},
   "source": [
    "## 14.7 Quicksort variants"
   ]
  },
  {
   "cell_type": "markdown",
   "metadata": {},
   "source": [
    "This section presents two variations on quicksort to further reinforce\n",
    "the divide-and-conquer approach and its relation to decrease and conquer."
   ]
  },
  {
   "cell_type": "markdown",
   "metadata": {},
   "source": [
    "### 14.7.1 Three-way quicksort"
   ]
  },
  {
   "cell_type": "markdown",
   "metadata": {},
   "source": [
    "Divide and conquer doesn't have to be in halves.\n",
    "We can partition the _unsorted_ sequence in three,\n",
    "with the items smaller than, equal to and larger than the pivot.\n",
    "Items with the same key as the pivot don't have to be further sorted.\n",
    "\n",
    "The main quicksort algorithm stays the same, because it already\n",
    "divides the input in three sequences and recurs into two of them.\n",
    "\n",
    "1. if _n_ < 2:\n",
    "   1. let _sorted_ be _unsorted_\n",
    "1. otherwise:\n",
    "    1. let (_smaller_, _pivot_, _larger_) be partition(_unsorted_)\n",
    "    1. let _sorted_ be quicksort(_smaller_, _key_) concatenated with _pivot_ and quicksort(_larger_, _key_)\n",
    "\n",
    "The partition function does change slightly:\n",
    "the middle sequence is no longer one item (the pivot),\n",
    "but is all items with the same key as the pivot.\n",
    "\n",
    "I take the opportunity to choose a random pivot to reduce the chance of\n",
    "quadratic complexity for already sorted inputs.\n",
    "\n",
    "1. let _smaller_ be the empty sequence\n",
    "1. let _equal_ be the empty sequence\n",
    "1. let _larger_ be the empty sequence\n",
    "1. let _pivot_ be a random element of _unsorted_\n",
    "1. for each _item_ in _unsorted_:\n",
    "   1. if _key_(_item_) < _key_(_pivot_):\n",
    "      1. append _item_ to _smaller_\n",
    "   1. otherwise if _key_(_item_) = _key_(_pivot_):\n",
    "      1. append _item_ to _equal_\n",
    "   1. otherwise\n",
    "      1. append _item_ to _larger_\n",
    "1. let _output_ be (_smaller_, _equal_, _larger_)\n",
    "\n",
    "Is this version stable?\n",
    "\n",
    "___\n",
    "\n",
    "The items with the same key as the pivot are copied in their original order\n",
    "to partition _equal_, hence it's stable."
   ]
  },
  {
   "cell_type": "markdown",
   "metadata": {},
   "source": [
    "#### Exercise 14.7.1"
   ]
  },
  {
   "cell_type": "markdown",
   "metadata": {},
   "source": [
    "If all items in the input sequence have the same key, what's the complexity of\n",
    "\n",
    "- 'normal' quicksort, i.e. without steps 5.2 and 5.2.1?\n",
    "- three-way quicksort?"
   ]
  },
  {
   "cell_type": "markdown",
   "metadata": {
    "tags": [
     "ANSWER"
    ]
   },
   "source": [
    "_Write your answer here._"
   ]
  },
  {
   "cell_type": "markdown",
   "metadata": {},
   "source": [
    "[Hint](../31_Hints/Hints_14_7_01.ipynb)\n",
    "[Answer](../32_Answers/Answers_14_7_01.ipynb)\n",
    "\n",
    "Three-way quicksort still has quadratic worst-case complexity\n",
    "if each chosen pivot has the lowest or highest key. However, it's unlikely that\n",
    "every recursive call will randomly choose the worst possible pivot.\n",
    "\n",
    "A sorted and a reverse-sorted input are no longer worst-case scenarios:\n",
    "both are sorted in log-linear time due to the random pivot choice.\n",
    "\n",
    "Three-way quicksort isn't adaptive either.\n",
    "The partition sizes and therefore the number of recursive calls\n",
    "depend on where the pivot is in the sorted output and\n",
    "how many items have the same key as the pivot,\n",
    "not on whether the input is partially sorted."
   ]
  },
  {
   "cell_type": "markdown",
   "metadata": {},
   "source": [
    "### 14.7.2 Quickselect"
   ]
  },
  {
   "cell_type": "markdown",
   "metadata": {},
   "source": [
    "Next I'm going to show a decrease-and-conquer adaption of quicksort to\n",
    "solve a different problem.\n",
    "\n",
    "Consider the **selection problem**: find the _k_-th smallest item in a non-empty\n",
    "unsorted sequence, with 0 < _k_ ≤ _n_. For example,\n",
    "if _k_ = 1 then we're looking for the minimum and\n",
    "if _k_ = _n_ then we're looking for the maximum.\n",
    "\n",
    "If we know that there will be many queries on the same sequence,\n",
    "then it's best to sort it once and return the _k_-th item for each query.\n",
    "Let's assume we don't know that and thus must solve the selection problem\n",
    "without sorting.\n",
    "\n",
    "The **quickselect** algorithm adapts two-way quicksort. It only recursively\n",
    "searches the partition that includes the sought item,\n",
    "discarding the other partition. How does it know where the item is?\n",
    "\n",
    "Well, if partition _smaller_ has _k_ − 1 items, then the pivot, which is\n",
    "the next larger item, is the _k_-th smallest item. This is a base case:\n",
    "the algorithm returns the pivot without recurring into either partition.\n",
    "\n",
    "If partition _smaller_ has _k_ or more items, then the _k_-th smallest\n",
    "must be there, so the algorithm recurs into it and ignores partition _larger_.\n",
    "\n",
    "Finally, if partition _smaller_ has fewer than _k_ − 1 items, the sought item is\n",
    "in the other partition. But it's not the _k_-th smallest item of that partition.\n",
    "Let's suppose we're looking for the 17th smallest item among 20 items and that\n",
    "partition _smaller_ has 14 items. Together with the pivot, we can discard\n",
    "15 items. The sought item is thus the second smallest in partition _larger_.\n",
    "More generally, if _smaller_ has _s_ items,\n",
    "we search for the _k_−_s_−1-th smallest item in _larger_.\n",
    "\n",
    "It has been proven that on average quickselect has linear complexity."
   ]
  },
  {
   "cell_type": "markdown",
   "metadata": {},
   "source": [
    "#### Exercise 14.7.2"
   ]
  },
  {
   "cell_type": "markdown",
   "metadata": {},
   "source": [
    "What kind of decrease and conquer is quickselect?"
   ]
  },
  {
   "cell_type": "markdown",
   "metadata": {
    "tags": [
     "ANSWER"
    ]
   },
   "source": [
    "_Write your answer here._"
   ]
  },
  {
   "cell_type": "markdown",
   "metadata": {},
   "source": [
    "[Hint](../31_Hints/Hints_14_7_02.ipynb)\n",
    "[Answer](../32_Answers/Answers_14_7_02.ipynb)"
   ]
  },
  {
   "cell_type": "markdown",
   "metadata": {},
   "source": [
    "#### Exercise 14.7.3"
   ]
  },
  {
   "cell_type": "markdown",
   "metadata": {},
   "source": [
    "Here again is the quicksort algorithm.\n",
    "The _pivot_ returned by the auxiliary function is a single-item sequence."
   ]
  },
  {
   "cell_type": "markdown",
   "metadata": {},
   "source": [
    "1. if _n_ < 2:\n",
    "   1. let _sorted_ be _unsorted_\n",
    "1. otherwise:\n",
    "    1. let (_smaller_, _pivot_, _larger_) be partition(_unsorted_)\n",
    "    1. let _sorted_ be quicksort(_smaller_, _key_) concatenated with _pivot_ and quicksort(_larger_, _key_)"
   ]
  },
  {
   "cell_type": "markdown",
   "metadata": {},
   "source": [
    "Modify the above to become the quickselect algorithm.\n",
    "You can assume the function call is quickselect(_unsorted_, _key_, _k_)\n",
    "with a non-empty _unsorted_ sequence and 0 < _k_ ≤ _n_.\n",
    "\n",
    "[Hint](../31_Hints/Hints_14_7_03.ipynb)\n",
    "[Answer](../32_Answers/Answers_14_7_03.ipynb)"
   ]
  },
  {
   "cell_type": "markdown",
   "metadata": {},
   "source": [
    "⟵ [Previous section](14_6_quicksort.ipynb) | [Up](14-introduction.ipynb) | [Next section](14_8_pigeonhole.ipynb) ⟶"
   ]
  }
 ],
 "metadata": {
  "kernelspec": {
   "display_name": "Python 3",
   "language": "python",
   "name": "python3"
  },
  "language_info": {
   "codemirror_mode": {
    "name": "ipython",
    "version": 3
   },
   "file_extension": ".py",
   "mimetype": "text/x-python",
   "name": "python",
   "nbconvert_exporter": "python",
   "pygments_lexer": "ipython3",
   "version": "3.8.5"
  }
 },
 "nbformat": 4,
 "nbformat_minor": 4
}
