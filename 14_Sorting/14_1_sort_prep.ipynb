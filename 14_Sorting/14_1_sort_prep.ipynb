{
 "cells": [
  {
   "cell_type": "markdown",
   "metadata": {},
   "source": [
    "## 14.1 Preliminaries"
   ]
  },
  {
   "cell_type": "markdown",
   "metadata": {},
   "source": [
    "This section introduces the problem and the terminology used\n",
    "in the rest of the chapter."
   ]
  },
  {
   "cell_type": "markdown",
   "metadata": {},
   "source": [
    "### 14.1.1 Problem"
   ]
  },
  {
   "cell_type": "markdown",
   "metadata": {},
   "source": [
    "The problem to be solved is to put the items of an input sequence in ascending\n",
    "order; more precisely, in non-decreasing order, because items may be duplicated.\n",
    "For example, if the input is (1, 3, 2, 4, 2), the output is (1, 2, 2, 3, 4).\n",
    "Sorting in descending order can be done with the same algorithm,\n",
    "but using the opposite comparison, so we won't consider it further.\n",
    "I'll use 'ascending' to mean 'non-decreasing'\n",
    "because the latter is a bit of a mouthful.\n",
    "\n",
    "Imagine the items represent playing cards, with\n",
    "a value (ace, two, ..., ten, jack, queen, king) and\n",
    "a suit (clubs, diamonds, hearts, spades).\n",
    "Depending on the game played, we may wish to sort just by suit, just by value,\n",
    "by both, by colour (spades and clubs are black, hearts and diamonds are red)\n",
    "or even by a bespoke order. For example, depending on the game, the highest\n",
    "card in a suit may be the ace, the king, the seven or something else.\n",
    "\n",
    "To allow the same items to be sorted in many different ways, we'll assume\n",
    "the user provides a function that computes a key for any given item.\n",
    "The problem then consists of putting items in ascending order of their keys.\n",
    "The keys must be of a comparable type, like integers or strings:\n",
    "otherwise it's impossible to sort them.\n",
    "\n",
    "For example, to sort cards by value, from ace up to king,\n",
    "one possible function is:\n",
    "\n",
    "$$\\text{key}(value, suit) = \\begin{cases}\n",
    "1       & \\text{if } value = \\text{ace} \\\\\n",
    "11      & \\text{if } value = \\text{jack} \\\\\n",
    "12      & \\text{if } value = \\text{queen} \\\\\n",
    "13      & \\text{if } value = \\text{king} \\\\\n",
    "value   & \\text{otherwise}\n",
    "\\end{cases}$$\n",
    "\n",
    "This key function ignores the suit.\n",
    "If the ace is the highest instead of the lowest card, then\n",
    "the function must return a value higher than 13 for an ace.\n",
    "There are infinitely many possible functions, as long as\n",
    "key(2, _suit_) < key(3, _suit_) < ... < key(king, _suit_) < key(ace, _suit_).\n",
    "\n",
    "There are two versions of the sorting problem.\n",
    "One creates a new sorted sequence.\n",
    "In the following definition and the rest of this chapter,\n",
    "_n_ is the length of the input sequence.\n",
    "\n",
    "**Function**: create ascending sequence \\\n",
    "**Inputs**: _unsorted_, a sequence; _key_, a function of _object_ to _object_ \\\n",
    "**Preconditions**: _key_(_a_) and _key_(_b_) are comparable for\n",
    "any _a_ and _b_ in _unsorted_\\\n",
    "**Output**: _sorted_, a sequence \\\n",
    "**Postconditions**:\n",
    "\n",
    "- _sorted_ is a permutation of _unsorted_\n",
    "- _key_(_sorted_[*i*]) ≤ _key_(_sorted_[*j*]) for every 0 ≤ _i_ < _j_ < _n_\n",
    "\n",
    "The first postcondition states that the output has the same items as the input.\n",
    "The second postcondition could be stated as\n",
    "_key_(_sorted_[0]) ≤ _key_(_sorted_[1]) ≤ ... ≤ _key_(_sorted_[_n_−1]).\n",
    "\n",
    "The second version modifies the input sequence.\n",
    "\n",
    "**Function**: put in ascending order \\\n",
    "**Input/Output**: _items_, a sequence\\\n",
    "**Inputs**: _key_, a function of _object_ to _object_ \\\n",
    "**Preconditions**: _key_(_a_) and _key_(_b_) are comparable for\n",
    "any _a_ and _b_ in _items_\\\n",
    "**Postconditions**:\n",
    "\n",
    "- post-_items_ is a permutation of pre-_items_\n",
    "- _key_(post-_items_[*i*]) ≤ _key_(post-_items_[*j*]) for every 0 ≤ _i_ < _j_ < _n_\n",
    "\n",
    "The rest of this chapter assumes that sequences are represented as arrays,\n",
    "so that algorithms can efficiently access any item in the sequence."
   ]
  },
  {
   "cell_type": "markdown",
   "metadata": {},
   "source": [
    "### 14.1.2 Problem instances"
   ]
  },
  {
   "cell_type": "markdown",
   "metadata": {},
   "source": [
    "To test the sorting algorithms to be presented, I'll use playing cards,\n",
    "each represented by a string of length&nbsp;2, e.g. 'AS' (ace of spades),\n",
    "'7H' (seven of hearts) and 'TD' (ten of diamonds).\n",
    "\n",
    "Many other representations of cards are possible.\n",
    "Some are easier for a user to understand;\n",
    "others make key functions easier to implement.\n",
    "I chose this one because it makes tests quick to type and easy to understand.\n",
    "It's up to the key function to transform a user-friendly representation into\n",
    "a sortable key.\n",
    "\n",
    "I define three key functions that obtain the value or suit of a card or both.\n",
    "In this way we can sort alphabetically by suit, by ascending value,\n",
    "or first by suit and then by value.\n",
    "For the latter, the key function returns a suit-value pair, so that the\n",
    "lexicographic ordering of tuples leads to the desired card order."
   ]
  },
  {
   "cell_type": "code",
   "execution_count": 1,
   "metadata": {
    "execution": {
     "iopub.execute_input": "2021-09-10T15:41:31.551668Z",
     "iopub.status.busy": "2021-09-10T15:41:31.550965Z",
     "iopub.status.idle": "2021-09-10T15:41:31.552800Z",
     "shell.execute_reply": "2021-09-10T15:41:31.553323Z"
    }
   },
   "outputs": [],
   "source": [
    "# this code is also in m269_sorting.py\n",
    "\n",
    "def suit(card: str) -> str:\n",
    "    \"\"\"Return the second character of the card.\n",
    "\n",
    "    Preconditions: card has two characters;\n",
    "    the first is one of 'A', '2' to '9', 'T', 'J', 'Q', 'K'\n",
    "    the second is one of 'C', 'D', 'H' 'S'\n",
    "    \"\"\"\n",
    "    return card[1]\n",
    "\n",
    "VALUES = 'A23456789TJQK'\n",
    "\n",
    "def value(card: str) -> int:\n",
    "    \"\"\"Return the value of the card.\n",
    "\n",
    "    Preconditions: as for function 'suit'\n",
    "    Postconditions: the output is 1 to 13 respectively for\n",
    "    'A', '2' to '9', 'T', 'J', 'Q', 'K'\n",
    "    \"\"\"\n",
    "    for index in range(len(VALUES)):\n",
    "        if VALUES[index] == card[0]:\n",
    "            return index + 1        # return 1—13, not 0—12\n",
    "\n",
    "def suit_value(card: str) -> tuple:\n",
    "    \"\"\"Return a tuple with the suit and value of the card.\n",
    "\n",
    "    Preconditions: as for function 'suit'\n",
    "    \"\"\"\n",
    "    return (suit(card), value(card))"
   ]
  },
  {
   "cell_type": "code",
   "execution_count": 2,
   "metadata": {
    "execution": {
     "iopub.execute_input": "2021-09-10T15:41:31.561109Z",
     "iopub.status.busy": "2021-09-10T15:41:31.560589Z",
     "iopub.status.idle": "2021-09-10T15:41:31.563112Z",
     "shell.execute_reply": "2021-09-10T15:41:31.563749Z"
    }
   },
   "outputs": [
    {
     "data": {
      "text/plain": [
       "('D', 10)"
      ]
     },
     "execution_count": 1,
     "metadata": {},
     "output_type": "execute_result"
    }
   ],
   "source": [
    "suit_value('TD')"
   ]
  },
  {
   "cell_type": "markdown",
   "metadata": {},
   "source": [
    "I can now write a few tests, using Python lists for the sequences.\n",
    "These tests will only work for the first version of the problem,\n",
    "where the sorting function returns a sorted sequence."
   ]
  },
  {
   "cell_type": "code",
   "execution_count": 3,
   "metadata": {
    "execution": {
     "iopub.execute_input": "2021-09-10T15:41:31.568086Z",
     "iopub.status.busy": "2021-09-10T15:41:31.567373Z",
     "iopub.status.idle": "2021-09-10T15:41:31.569185Z",
     "shell.execute_reply": "2021-09-10T15:41:31.569656Z"
    }
   },
   "outputs": [],
   "source": [
    "# this code is also in m269_sorting.py\n",
    "\n",
    "UP_DOWN = ['AS','3H','QD','KC'] # ascending values, descending suits\n",
    "SAME_VALUE = ['TD', 'TS', 'TH', 'TC']\n",
    "\n",
    "sorting_tests = [\n",
    "    # case,        unsorted,           key, sorted\n",
    "    ('empty list', [],          suit_value, []),\n",
    "    ('1 card',     ['AS'],      suit_value, ['AS']),\n",
    "    ('same cards', ['6D','6D'], suit_value, ['6D','6D']),\n",
    "    ('3 cards',    ['JC','8D','TS'], value, ['8D','TS','JC']),\n",
    "    ('values up',  UP_DOWN,          value, UP_DOWN),\n",
    "    ('suits down', UP_DOWN,           suit, ['KC','QD','3H','AS']),\n",
    "    ('same value', SAME_VALUE,  suit_value, ['TC','TD','TH','TS']),\n",
    "]"
   ]
  },
  {
   "cell_type": "markdown",
   "metadata": {},
   "source": [
    "To measure the performance of sorting algorithms we need long sequences,\n",
    "but there are only 52 cards. I'll use long sequences of integers.\n",
    "Integers can be compared, so a key function\n",
    "that returns the item itself suffices.\n",
    "A function that returns its input is called the identity function."
   ]
  },
  {
   "cell_type": "code",
   "execution_count": 4,
   "metadata": {
    "execution": {
     "iopub.execute_input": "2021-09-10T15:41:31.572991Z",
     "iopub.status.busy": "2021-09-10T15:41:31.572368Z",
     "iopub.status.idle": "2021-09-10T15:41:31.573734Z",
     "shell.execute_reply": "2021-09-10T15:41:31.574197Z"
    }
   },
   "outputs": [],
   "source": [
    "# this code is also in m269_sorting.py\n",
    "\n",
    "def identity(item: object) -> object:\n",
    "    \"\"\"Return the item, i.e. the key is the whole item.\"\"\"\n",
    "    return item"
   ]
  },
  {
   "cell_type": "markdown",
   "metadata": {},
   "source": [
    "### 14.1.3 Algorithms"
   ]
  },
  {
   "cell_type": "markdown",
   "metadata": {},
   "source": [
    "An algorithm is **in-place** if it doesn't use any additional memory,\n",
    "other than the call stack and a fixed number of local variables\n",
    "for individual items in the sequence, for indices, Booleans, etc.\n",
    "For example, finding a pair of items that add up to a given amount can be done\n",
    "in-place with an exhaustive search (nested loop) for all pairs, or\n",
    "not in-place, with an additional map as in an [earlier exercise](../09_Practice-1/09_3_voucher.ipynb#9.3-Voucher).\n",
    "\n",
    "Sorting algorithms that return a new sorted sequence aren't in-place.\n",
    "Those that modify the input sequence are usually in-place, but if an algorithm\n",
    "would create a temporary new sorted sequence and then copy the items\n",
    "to the input sequence, it wouldn't be in-place.\n",
    "\n",
    "A sorting algorithm is **stable** if it leaves items with the same key in the\n",
    "original relative order. If the input sequence is ('7S', 'AD', '7H'),\n",
    "a stable sort by value produces ('AD', '7S', '7H'), i.e. keeps the 7 of spades\n",
    "before the 7 of hearts as in the input, whereas a non-stable sort may produce\n",
    "('AD', '7H', '7S').\n",
    "\n",
    "Stability is important if we want to sort successively by multiple criteria.\n",
    "The next table shows the same input sequence first sorted by value then by suit,\n",
    "and first by suit then by value, assuming a stable sorting algorithm.\n",
    "\n",
    "Stage | Sort by value, then suit | Sort by suit, then value\n",
    "-|-|-\n",
    "input  | ('2S', 'AS', '2D', 'AD')  |  ('2S', 'AS', '2D', 'AD')\n",
    "first sort  | ('AS', 'AD', '2S', '2D')  |  ('2D', 'AD', '2S', 'AS')\n",
    "second sort  |  ('AD', '2D', 'AS', '2S') | ('AD', 'AS', '2D', '2S')\n",
    "\n",
    "The resulting sequence in the left-hand column is the same as if we had sorted\n",
    "the input once with the `suit_value` key function: the output is sorted\n",
    "by suit and within each suit by value. In the right-hand column, the output is\n",
    "sorted by value, and within each value by suit.\n",
    "\n",
    "More generally, stable sorting guarantees that\n",
    "if we first sort by key A and then by key B, the result will be sorted by B,\n",
    "and items with the same key B are sorted by A. You probably already experienced\n",
    "this when working with spreadsheets. They use stable sorting algorithms so that\n",
    "you can sort the rows by multiple criteria, sorting by one column at a time.\n",
    "\n",
    "In real life, data is often partially sorted because of the way it has been\n",
    "generated or processed before.  **Adaptive** sorting algorithms take advantage\n",
    "of partially sorted data to do less work, i.e. they become faster the more\n",
    "sorted the input is, taking linear time for an already sorted input\n",
    "because in that case all they have to do is check the data is sorted and stop."
   ]
  },
  {
   "cell_type": "markdown",
   "metadata": {},
   "source": [
    "### 14.1.4 Sorting in Python"
   ]
  },
  {
   "cell_type": "markdown",
   "metadata": {},
   "source": [
    "You've seen in [Chapter&nbsp;4](../04_Iteration/04_6_lists.ipynb#4.6-Lists) that Python has a `sorted` function which\n",
    "returns a sorted list from a given sequence and\n",
    "a list method `sort` which modifies the list.\n",
    "The method sorts the input sequence in-place; the function doesn't.\n",
    "Both can take an argument indicating which key function to use."
   ]
  },
  {
   "cell_type": "code",
   "execution_count": 5,
   "metadata": {
    "execution": {
     "iopub.execute_input": "2021-09-10T15:41:31.579283Z",
     "iopub.status.busy": "2021-09-10T15:41:31.578547Z",
     "iopub.status.idle": "2021-09-10T15:41:31.581867Z",
     "shell.execute_reply": "2021-09-10T15:41:31.581152Z"
    }
   },
   "outputs": [
    {
     "data": {
      "text/plain": [
       "['AD', '2D', 'AS', '2S']"
      ]
     },
     "execution_count": 1,
     "metadata": {},
     "output_type": "execute_result"
    }
   ],
   "source": [
    "items = ['2S', 'AS', '2D', 'AD']\n",
    "items.sort(key=suit_value)\n",
    "items"
   ]
  },
  {
   "cell_type": "markdown",
   "metadata": {},
   "source": [
    "Like for the `reverse` parameter, omitting the parameter name leads to an error."
   ]
  },
  {
   "cell_type": "code",
   "execution_count": 6,
   "metadata": {
    "execution": {
     "iopub.execute_input": "2021-09-10T15:41:31.585192Z",
     "iopub.status.busy": "2021-09-10T15:41:31.584766Z",
     "iopub.status.idle": "2021-09-10T15:41:31.689243Z",
     "shell.execute_reply": "2021-09-10T15:41:31.688788Z"
    }
   },
   "outputs": [
    {
     "ename": "TypeError",
     "evalue": "sort() takes no positional arguments",
     "output_type": "error",
     "traceback": [
      "\u001b[0;31m---------------------------------------------------------------------------\u001b[0m",
      "\u001b[0;31mTypeError\u001b[0m                                 Traceback (most recent call last)",
      "\u001b[0;32m<ipython-input-1-4a013a056ad7>\u001b[0m in \u001b[0;36m<module>\u001b[0;34m\u001b[0m\n\u001b[0;32m----> 1\u001b[0;31m \u001b[0mitems\u001b[0m\u001b[0;34m.\u001b[0m\u001b[0msort\u001b[0m\u001b[0;34m(\u001b[0m\u001b[0msuit_value\u001b[0m\u001b[0;34m)\u001b[0m\u001b[0;34m\u001b[0m\u001b[0;34m\u001b[0m\u001b[0m\n\u001b[0m",
      "\u001b[0;31mTypeError\u001b[0m: sort() takes no positional arguments"
     ]
    }
   ],
   "source": [
    "items.sort(suit_value)"
   ]
  },
  {
   "cell_type": "markdown",
   "metadata": {},
   "source": [
    "Python's algorithm is stable.\n",
    "We get the same output if we first sort by value and then by suit."
   ]
  },
  {
   "cell_type": "code",
   "execution_count": 7,
   "metadata": {
    "execution": {
     "iopub.execute_input": "2021-09-10T15:41:31.693063Z",
     "iopub.status.busy": "2021-09-10T15:41:31.692545Z",
     "iopub.status.idle": "2021-09-10T15:41:31.694875Z",
     "shell.execute_reply": "2021-09-10T15:41:31.695506Z"
    }
   },
   "outputs": [
    {
     "data": {
      "text/plain": [
       "['AD', '2D', 'AS', '2S']"
      ]
     },
     "execution_count": 1,
     "metadata": {},
     "output_type": "execute_result"
    }
   ],
   "source": [
    "sorted(sorted(['2S', 'AS', '2D', 'AD'], key=value), key=suit)"
   ]
  },
  {
   "cell_type": "markdown",
   "metadata": {},
   "source": [
    "Python and other languages use the Timsort algorithm,\n",
    "derived from insertion sort and merge sort,\n",
    "which are explained in later sections.\n",
    "Timsort is an in-place, adaptive, stable algorithm with linear complexity\n",
    "in the best case and log-linear complexity in the worst case.\n",
    "You're unlikely to need another algorithm for sorting arrays in memory.\n",
    "I'm not going to explain Timsort or how to sort data that doesn't fit in memory.\n",
    "This chapter isn't about the best way of sorting; instead it presents\n",
    "algorithms that illustrate previous concepts and techniques."
   ]
  },
  {
   "cell_type": "markdown",
   "metadata": {},
   "source": [
    "⟵ [Previous section](14-introduction.ipynb) | [Up](14-introduction.ipynb) | [Next section](14_2_bogosort.ipynb) ⟶"
   ]
  }
 ],
 "metadata": {
  "kernelspec": {
   "display_name": "Python 3",
   "language": "python",
   "name": "python3"
  },
  "language_info": {
   "codemirror_mode": {
    "name": "ipython",
    "version": 3
   },
   "file_extension": ".py",
   "mimetype": "text/x-python",
   "name": "python",
   "nbconvert_exporter": "python",
   "pygments_lexer": "ipython3",
   "version": "3.8.5"
  }
 },
 "nbformat": 4,
 "nbformat_minor": 4
}
