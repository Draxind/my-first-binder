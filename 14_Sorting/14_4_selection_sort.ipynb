{
 "cells": [
  {
   "cell_type": "markdown",
   "metadata": {},
   "source": [
    "## 14.4 Selection sort"
   ]
  },
  {
   "cell_type": "markdown",
   "metadata": {},
   "source": [
    "Decrease-by-one algorithms split the input collection into one item and\n",
    "the rest, recursively process the rest and then, if necessary, combine\n",
    "the subsolution with the removed item.\n",
    "\n",
    "Non-empty sequences are easily split into their head and tail,\n",
    "but considering a different split leads to a new sorting algorithm."
   ]
  },
  {
   "cell_type": "markdown",
   "metadata": {},
   "source": [
    "### 14.4.1 Recursive version"
   ]
  },
  {
   "cell_type": "markdown",
   "metadata": {},
   "source": [
    "To split a sequence differently, we ask ourselves what item should be\n",
    "removed so that the combination step becomes easier.\n",
    "\n",
    "For a sorting algorithm, a possible answer is: the item with the smallest key.\n",
    "Once we sorted the remaining items, the combination step just prepends\n",
    "the smallest item to put it at the start of the sorted sequence.\n",
    "This is called **selection sort** because at each step we select\n",
    "the smallest of the still unsorted items.\n",
    "\n",
    "Instead of extracting the head and tail of a sequence, we need to extract\n",
    "the minimum and the rest, without the minimum.\n",
    "Both auxiliary functions must use the key function to do their job.\n",
    "Let's call them 'min' and 'without_min'.\n",
    "The algorithm for selection_sorted(_unsorted_, _key_) is:\n",
    "\n",
    "1. if _unsorted_  is empty:\n",
    "   1. let _sorted_ be ()\n",
    "2. otherwise:\n",
    "   1. let _decreased_ be without_min(_unsorted_, _key_)\n",
    "   1. let _subsolution_ be selection_sorted(_decreased_, _key_)\n",
    "   2. let _sorted_ be prepend(min(_unsorted_, _key_), _subsolution_)\n",
    "\n",
    "This isn't a tail-recursive algorithm, so I'll skip the algorithms\n",
    "for the auxiliary functions and proceed to an iterative version."
   ]
  },
  {
   "cell_type": "markdown",
   "metadata": {},
   "source": [
    "### 14.4.2 Iterative version"
   ]
  },
  {
   "cell_type": "markdown",
   "metadata": {},
   "source": [
    "Selection sort is another common way to sort cards.\n",
    "We pick up all dealt cards in one go and fan them in one hand.\n",
    "With the other hand, we pick the lowest card and put it in the left-most\n",
    "position of the fan. Then we choose the next lowest card and insert it\n",
    "in the second position. We repeat this until all cards are sorted.\n",
    "\n",
    "Like for insertion sort, the fan is divided into a left sorted part that grows\n",
    "and a right unsorted part that shrinks. In selection sort,\n",
    "we move the smallest card in the unsorted part to the end of the sorted part.\n",
    "\n",
    "Both algorithms do two things:\n",
    "\n",
    "1. choose the next item to process from the unsorted part\n",
    "2. put it in its correct place in the sorted part.\n",
    "\n",
    "Insertion sort does less work in step&nbsp;1 (take the next unsorted item)\n",
    "and more work in step&nbsp;2 (search for the place where to insert the item).\n",
    "Selection sort does more work in step&nbsp;1 (search for the smallest item) and\n",
    "less in step&nbsp;2 (append the item to the sorted part).\n",
    "\n",
    "In a way, insertion and selection sort are the inverse of each other.\n",
    "Insertion sort knows where the next item to sort is but\n",
    "doesn't know where it will end up, whereas\n",
    "selection sort doesn't know where the next item to sort is but\n",
    "knows where it needs to end up.\n",
    "\n",
    "The in-place version of selection sort swaps the smallest unsorted item with\n",
    "the left-most unsorted item. This puts the smallest item in its place,\n",
    "without shifting any items.\n",
    "\n",
    "The next table again shows the sorted part in monospaced font.\n",
    "The first letter S is swapped with G,\n",
    "the alphabetically first letter in the unsorted part.\n",
    "Then the second letter O is swapped with I,\n",
    "the alphabetically first letter in the remaining unsorted part, and so on.\n",
    "\n",
    "0|1|2|3|4|5|6\n",
    "-|-|-|-|-|-|-\n",
    "S|O|R|T|I|N|G\n",
    "`G`|O|R|T|I|N|S\n",
    "`G`|`I`|R|T|O|N|S\n",
    "`G`|`I`|`N`|T|O|R|S\n",
    "`G`|`I`|`N`|`O`|T|R|S\n",
    "`G`|`I`|`N`|`O`|`R`|T|S\n",
    "`G`|`I`|`N`|`O`|`R`|`S`|T\n",
    "\n",
    "Insertion sort starts with a sorted part with one item and stops when the\n",
    "unsorted part is empty. Selection sort starts with an empty sorted part,\n",
    "and stops when the unsorted part has one item. Because selection sort\n",
    "moves in each step the smallest item to the sorted part,\n",
    "all unsorted items are larger than all sorted items. After sorting _n_−1 items,\n",
    "the remaining item is the largest one and is already in the last position.\n",
    "\n",
    "Selection sort minimises the number of swaps: it does at most _n_ − 1&nbsp;swaps\n",
    "because each item gets into its place with a single swap.\n",
    "A sketch of the in-place algorithm is:\n",
    "\n",
    "1. for each _first\\_unsorted_ from 0 to _n_ − 2:\n",
    "   1. let _smallest_ be the index of the item with smallest key in _items_[_first\\_unsorted_:*n*]\n",
    "   2. swap _items_[*first\\_unsorted*] and _items_[*smallest*]"
   ]
  },
  {
   "cell_type": "markdown",
   "metadata": {},
   "source": [
    "#### Exercise 14.4.1"
   ]
  },
  {
   "cell_type": "markdown",
   "metadata": {},
   "source": [
    "Is selection sort adaptive?"
   ]
  },
  {
   "cell_type": "markdown",
   "metadata": {
    "tags": [
     "ANSWER"
    ]
   },
   "source": [
    "_Write your answer here._"
   ]
  },
  {
   "cell_type": "markdown",
   "metadata": {},
   "source": [
    "[Hint](../31_Hints/Hints_14_4_01.ipynb)\n",
    "[Answer](../32_Answers/Answers_14_4_01.ipynb)"
   ]
  },
  {
   "cell_type": "markdown",
   "metadata": {},
   "source": [
    "#### Exercise 14.4.2"
   ]
  },
  {
   "cell_type": "markdown",
   "metadata": {},
   "source": [
    "What's the complexity of in-place selection sort?"
   ]
  },
  {
   "cell_type": "markdown",
   "metadata": {
    "tags": [
     "ANSWER"
    ]
   },
   "source": [
    "_Write your answer here._"
   ]
  },
  {
   "cell_type": "markdown",
   "metadata": {},
   "source": [
    "[Answer](../32_Answers/Answers_14_4_02.ipynb)"
   ]
  },
  {
   "cell_type": "markdown",
   "metadata": {},
   "source": [
    "#### Exercise 14.4.3"
   ]
  },
  {
   "cell_type": "markdown",
   "metadata": {},
   "source": [
    "Assuming that step&nbsp;1.1 returns the lowest, i.e. left-most, index\n",
    "for items with the same key, is in-place selection sort stable?"
   ]
  },
  {
   "cell_type": "markdown",
   "metadata": {
    "tags": [
     "ANSWER"
    ]
   },
   "source": [
    "_Write your answer here._"
   ]
  },
  {
   "cell_type": "markdown",
   "metadata": {},
   "source": [
    "[Hint](../31_Hints/Hints_14_4_03.ipynb)\n",
    "[Answer](../32_Answers/Answers_14_4_03.ipynb)"
   ]
  },
  {
   "cell_type": "markdown",
   "metadata": {},
   "source": [
    "### 14.4.3 Code"
   ]
  },
  {
   "cell_type": "markdown",
   "metadata": {},
   "source": [
    "The implementation of the algorithm consists of a linear search for the item\n",
    "with the smallest key, from the first unsorted item onwards,\n",
    "followed by a swap with the first unsorted item."
   ]
  },
  {
   "cell_type": "code",
   "execution_count": 1,
   "metadata": {
    "execution": {
     "iopub.execute_input": "2021-09-10T15:42:17.015813Z",
     "iopub.status.busy": "2021-09-10T15:42:17.015265Z",
     "iopub.status.idle": "2021-09-10T15:42:17.017080Z",
     "shell.execute_reply": "2021-09-10T15:42:17.017731Z"
    }
   },
   "outputs": [],
   "source": [
    "from typing import Callable\n",
    "\n",
    "def selection_sort(items: list, key: Callable) -> None:\n",
    "    \"\"\"Sort the items in-place, with keys in non-decreasing order.\n",
    "\n",
    "    Preconditions: for any indices i and j,\n",
    "    key(items[i]) and key(items[j]) are comparable\n",
    "    \"\"\"\n",
    "    for first_unsorted in range(0, len(items)-1):\n",
    "        smallest = first_unsorted\n",
    "        for index in range(smallest+1, len(items)):\n",
    "            if key(items[index]) < key(items[smallest]):\n",
    "                smallest = index\n",
    "        unsorted_item = items[first_unsorted]\n",
    "        items[first_unsorted] = items[smallest]\n",
    "        items[smallest] = unsorted_item"
   ]
  },
  {
   "cell_type": "markdown",
   "metadata": {},
   "source": [
    "Like for insertion sort, we need a version that isn't in-place for testing."
   ]
  },
  {
   "cell_type": "code",
   "execution_count": 2,
   "metadata": {
    "execution": {
     "iopub.execute_input": "2021-09-10T15:42:17.022651Z",
     "iopub.status.busy": "2021-09-10T15:42:17.022020Z",
     "iopub.status.idle": "2021-09-10T15:42:17.025434Z",
     "shell.execute_reply": "2021-09-10T15:42:17.026066Z"
    }
   },
   "outputs": [
    {
     "name": "stdout",
     "output_type": "stream",
     "text": [
      "Tests finished.\n"
     ]
    }
   ],
   "source": [
    "%run -i ../m269_util\n",
    "%run -i ../m269_sorting\n",
    "\n",
    "def selection_sorted(unsorted: list, key: Callable) -> list:\n",
    "    \"\"\"Return a permutation with keys in non-decreasing order.\n",
    "\n",
    "    Preconditions: for any indices i and j,\n",
    "    key(unsorted[i]) and key(unsorted[j]) are comparable\n",
    "    \"\"\"\n",
    "    sorted = list(unsorted)     # make a copy\n",
    "    selection_sort(sorted, key)\n",
    "    return sorted\n",
    "\n",
    "test(selection_sorted, sorting_tests)"
   ]
  },
  {
   "cell_type": "markdown",
   "metadata": {},
   "source": [
    "Let's check the complexity is always quadratic,\n",
    "even when the sequence is sorted."
   ]
  },
  {
   "cell_type": "code",
   "execution_count": 3,
   "metadata": {
    "execution": {
     "iopub.execute_input": "2021-09-10T15:42:17.106228Z",
     "iopub.status.busy": "2021-09-10T15:42:17.067495Z",
     "iopub.status.idle": "2021-09-10T15:42:32.078788Z",
     "shell.execute_reply": "2021-09-10T15:42:32.079439Z"
    }
   },
   "outputs": [
    {
     "name": "stdout",
     "output_type": "stream",
     "text": [
      "1 ms ± 61.7 µs per loop (mean ± std. dev. of 5 runs, 1000 loops each)\n",
      "4.25 ms ± 348 µs per loop (mean ± std. dev. of 5 runs, 100 loops each)\n",
      "17.2 ms ± 2.83 ms per loop (mean ± std. dev. of 5 runs, 10 loops each)\n",
      "61.9 ms ± 8.46 ms per loop (mean ± std. dev. of 5 runs, 10 loops each)\n",
      "251 ms ± 25.8 ms per loop (mean ± std. dev. of 5 runs, 1 loop each)\n"
     ]
    }
   ],
   "source": [
    "for doubling in range(5):\n",
    "    items = list(range(100 * 2**doubling))          # sorted order\n",
    "    %timeit -r 5 selection_sorted(items, identity)"
   ]
  },
  {
   "cell_type": "code",
   "execution_count": 4,
   "metadata": {
    "execution": {
     "iopub.execute_input": "2021-09-10T15:42:32.156034Z",
     "iopub.status.busy": "2021-09-10T15:42:32.120639Z",
     "iopub.status.idle": "2021-09-10T15:42:47.412200Z",
     "shell.execute_reply": "2021-09-10T15:42:47.412850Z"
    }
   },
   "outputs": [
    {
     "name": "stdout",
     "output_type": "stream",
     "text": [
      "1.07 ms ± 44 µs per loop (mean ± std. dev. of 5 runs, 1000 loops each)\n",
      "3.91 ms ± 441 µs per loop (mean ± std. dev. of 5 runs, 100 loops each)\n",
      "17.3 ms ± 2.37 ms per loop (mean ± std. dev. of 5 runs, 10 loops each)\n",
      "65.3 ms ± 4.88 ms per loop (mean ± std. dev. of 5 runs, 10 loops each)\n",
      "265 ms ± 45.9 ms per loop (mean ± std. dev. of 5 runs, 1 loop each)\n"
     ]
    }
   ],
   "source": [
    "for doubling in range(5):\n",
    "    items = list(range(100 * 2**doubling, -1, -1))  # reverse order\n",
    "    %timeit -r 5 selection_sorted(items, identity)"
   ]
  },
  {
   "cell_type": "markdown",
   "metadata": {},
   "source": [
    "The run-times are similar for ascending and descending sequences,\n",
    "and quadruple as the length doubles.\n",
    "This confirms the constantly quadratic complexity. (I like alliterations a lot.)"
   ]
  },
  {
   "cell_type": "markdown",
   "metadata": {},
   "source": [
    "### 14.4.4 Select largest"
   ]
  },
  {
   "cell_type": "markdown",
   "metadata": {},
   "source": [
    "The selection sort algorithm swaps the _smallest_ and _first_ unsorted items.\n",
    "It's also possible to swap the _largest_ and _last_ unsorted items,\n",
    "i.e. to move the largest item to the end of the unsorted part.\n",
    "In this 'mirror' version,\n",
    "the sorted part is on the right and the unsorted part is on the left.\n",
    "[This visualisation](https://learn2.open.ac.uk/mod/oucontent/view.php?id=1827810&extra=thumbnail_idm45069228666640) shows the approach."
   ]
  },
  {
   "cell_type": "markdown",
   "metadata": {},
   "source": [
    "#### Exercise 14.4.4"
   ]
  },
  {
   "cell_type": "markdown",
   "metadata": {},
   "source": [
    "Redo the example with the word SORTING for this 'select largest' version.\n",
    "Don't write a table as I did: just write the sequence of letters\n",
    "as it changes from SORTING to GINORST, one sequence per line,\n",
    "with an hyphen to separate the right sorted part from the left unsorted part."
   ]
  },
  {
   "cell_type": "markdown",
   "metadata": {},
   "source": [
    "SORTING−\\\n",
    "...\\\n",
    "G−INORST\n",
    "\n",
    "[Hint](../31_Hints/Hints_14_4_04.ipynb)\n",
    "[Answer](../32_Answers/Answers_14_4_04.ipynb)"
   ]
  },
  {
   "cell_type": "markdown",
   "metadata": {},
   "source": [
    "⟵ [Previous section](14_3_insertion_sort.ipynb) | [Up](14-introduction.ipynb) | [Next section](14_5_merge_sort.ipynb) ⟶"
   ]
  }
 ],
 "metadata": {
  "kernelspec": {
   "display_name": "Python 3",
   "language": "python",
   "name": "python3"
  },
  "language_info": {
   "codemirror_mode": {
    "name": "ipython",
    "version": 3
   },
   "file_extension": ".py",
   "mimetype": "text/x-python",
   "name": "python",
   "nbconvert_exporter": "python",
   "pygments_lexer": "ipython3",
   "version": "3.8.5"
  }
 },
 "nbformat": 4,
 "nbformat_minor": 4
}
