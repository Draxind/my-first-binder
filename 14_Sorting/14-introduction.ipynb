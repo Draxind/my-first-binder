{
 "cells": [
  {
   "cell_type": "markdown",
   "metadata": {},
   "source": [
    "# 14 Sorting"
   ]
  },
  {
   "cell_type": "markdown",
   "metadata": {},
   "source": [
    "Computers spend much time sorting spreadsheet rows,\n",
    "sorting products by price or popularity in online stores,\n",
    "sorting web pages by relevance for web searches, and so on.\n",
    "Additionally, sorting allows other problems to be solved more easily,\n",
    "e.g. detecting duplicates, or faster, e.g. by using binary search.\n",
    "\n",
    "Sorting is a fundamental computational problem for which dozens of algorithms\n",
    "have been invented, but only a few are used in practice. Programming languages\n",
    "usually have a sort function that serves most needs.\n",
    "It's unlikely you'll ever implement a sorting algorithm.\n",
    "\n",
    "Nevertheless, this chapter presents several algorithms because it's instructive\n",
    "to see how the same problem is approached and solved in different ways.\n",
    "The aim is to reinforce and practise concepts, algorithmic techniques and\n",
    "data structures seen so far, not to learn the most efficient version of each\n",
    "sorting algorithm.\n",
    "\n",
    "Sorting algorithms are mentioned in the [BBC programme](https://learn2.open.ac.uk/mod/oucontent/view.php?id=1550051)\n",
    "you watched in the first week. The first part of the programme, from 14:45 onwards,\n",
    "explains bubble sort and merge sort. The latter is covered in this chapter.\n",
    "The first 45&nbsp;seconds of the second part wrap up sorting and\n",
    "mention pigeonhole sorting, which we will also look at.\n",
    "\n",
    "This chapter supports these learning outcomes:\n",
    "\n",
    "- Apply general-purpose data structures and algorithmic techniques\n",
    "  to efficiently solve computational problems − this chapter\n",
    "  applies various techniques to solve the sorting problem.\n",
    "- Explain in a clear and succinct way how an algorithm or data structure\n",
    "  works, and its assumptions, in order to communicate with peers.\n",
    "- Analyse the complexity of algorithms to support design choices.\n",
    "\n",
    "\n",
    "Before starting to work on this chapter, check the\n",
    "[M269 website](https://learn2.open.ac.uk/course/view.php?id=208089) for relevant news and errata."
   ]
  },
  {
   "cell_type": "markdown",
   "metadata": {
    "nbsphinx-toctree": {
     "hidden": true,
     "maxdepth": 1,
     "numbered": false
    }
   },
   "source": [
    "1. [Preliminaries](14_1_sort_prep.ipynb)\n",
    "1. [Bogosort](14_2_bogosort.ipynb)\n",
    "1. [Insertion sort](14_3_insertion_sort.ipynb)\n",
    "1. [Selection sort](14_4_selection_sort.ipynb)\n",
    "1. [Merge sort](14_5_merge_sort.ipynb)\n",
    "1. [Quicksort](14_6_quicksort.ipynb)\n",
    "1. [Quicksort variants](14_7_quicksort_variants.ipynb)\n",
    "1. [Pigeonhole sort](14_8_pigeonhole.ipynb)\n",
    "1. [Summary](14_9_summary.ipynb)"
   ]
  },
  {
   "cell_type": "markdown",
   "metadata": {},
   "source": [
    "⟵ [Previous chapter](../13_Divide/13-introduction.ipynb) | [Up](../M269.ipynb) | [Next chapter](../15_TMA02-1/15-introduction.ipynb) ⟶"
   ]
  }
 ],
 "metadata": {
  "kernelspec": {
   "display_name": "Python 3",
   "language": "python",
   "name": "python3"
  },
  "language_info": {
   "codemirror_mode": {
    "name": "ipython",
    "version": 3
   },
   "file_extension": ".py",
   "mimetype": "text/x-python",
   "name": "python",
   "nbconvert_exporter": "python",
   "pygments_lexer": "ipython3",
   "version": "3.8.5"
  }
 },
 "nbformat": 4,
 "nbformat_minor": 4
}
