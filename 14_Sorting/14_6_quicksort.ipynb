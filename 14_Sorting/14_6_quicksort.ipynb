{
 "cells": [
  {
   "cell_type": "markdown",
   "metadata": {},
   "source": [
    "## 14.6 Quicksort"
   ]
  },
  {
   "cell_type": "markdown",
   "metadata": {},
   "source": [
    "Like merge sort, **quicksort** divides the input sequence in two partitions,\n",
    "recursively sorts each partition and then puts them together.\n",
    "Whereas merge sort divides the sequence by position, in two halves,\n",
    "quicksort divides the items by key: those with smaller keys go into\n",
    "one partition, those with larger keys go in the other.\n",
    "After the partitions are sorted,\n",
    "they just have to be concatenated, which is much simpler than merging.\n",
    "\n",
    "Insertion sort did less work than selection sort when splitting the input but\n",
    "more when combining the subsolution with the removed item.\n",
    "Likewise, merge sort does less work than quicksort when splitting but\n",
    "more work when combining the subsolutions."
   ]
  },
  {
   "cell_type": "markdown",
   "metadata": {
    "tags": [
     "NOTE"
    ]
   },
   "source": [
    "<div class=\"alert alert-warning\">\n",
    "<strong>Note:</strong> You can design different decrease-and-conquer or divide-and-conquer algorithms\n",
    "by making different phases of the approach simpler.\n",
    "</div>"
   ]
  },
  {
   "cell_type": "markdown",
   "metadata": {},
   "source": [
    "### 14.6.1 Algorithm"
   ]
  },
  {
   "cell_type": "markdown",
   "metadata": {},
   "source": [
    "Quicksort starts by choosing one item as the **pivot**,\n",
    "then splits the other items into those smaller and those larger than the pivot.\n",
    "After each partition is sorted, they're put together:\n",
    "first the smaller items, then the pivot and finally the larger items.\n",
    "\n",
    "Here's how quicksort processes our example, with the pivot\n",
    "being the first item:\n",
    "\n",
    "![This diagram shows seven rows of sequences of letters.\n",
    "When a sequence is split, it is connected with lines to\n",
    "the two resulting unsorted sequences and the pivot in the next row.\n",
    "When two sorted sequences and the pivot are concatenated,\n",
    "they are connected with straight lines to\n",
    "the resulting sequence in the next row.\n",
    "The first row shows sequence SORTING.\n",
    "The second row shows it has been split into ORING and T, with pivot S.\n",
    "The third row shows that ORING is split into ING and R, with pivot O.\n",
    "The fourth row shows that ING is split into G and N with pivot I.\n",
    "These are concatenated into GIN.\n",
    "The sixth row concatenates GIN and R around pivot O to obtain GINOR.\n",
    "The seventh row concatenates GINOR and T around pivot S to obtain GINORST.\n",
    "](14_6_quicksort.png)\n",
    "\n",
    "In the first step, the pivot is S, the letters that come before S are\n",
    "ORING and the only letter that comes after is T. After sorting ORING into GINOR,\n",
    "the S and T are concatenated back in that order, resulting in GINORST.\n",
    "\n",
    "Here's a recursive quicksort algorithm.\n",
    "It uses an auxiliary function that partitions the unsorted sequence into\n",
    "three sequences: the smaller items, a sequence of length&nbsp;1 with the pivot and\n",
    "the sequence of larger items.\n",
    "\n",
    "1. if _n_ < 2:\n",
    "   1. let _sorted_ be _unsorted_\n",
    "1. otherwise:\n",
    "    1. let (_smaller_, _pivot_, _larger_) be partition(_unsorted_)\n",
    "    1. let _sorted_ be quicksort(_smaller_, _key_) concatenated with _pivot_ and quicksort(_larger_, _key_)\n",
    "\n",
    "Step&nbsp;2.1 is an abuse of the assignment notation to\n",
    "make the algorithm more readable.\n",
    "\n",
    "The partition function simply chooses the first item as the pivot and adds the\n",
    "other items to either partition, depending on how they compare to the pivot.\n",
    "\n",
    "1. let _smaller_ be ()\n",
    "2. let _larger_ be ()\n",
    "3. let _pivot_ be _unsorted_[0]\n",
    "4. for each _index_ from 1 to _n_ − 1:\n",
    "   1. let _item_ be _unsorted_[*index*]\n",
    "   1. if _key_(_item_) < _key_(_pivot_):\n",
    "      1. append _item_ to _smaller_\n",
    "   2. otherwise:\n",
    "      1. append _item_ to _larger_\n",
    "5. let _output_ be (_smaller_, (_pivot_), _larger_)\n",
    "\n",
    "Note that the final step doesn't return the pivot but a sequence with it,\n",
    "so that the concatenation operation can be applied in step&nbsp;2.2 of quicksort."
   ]
  },
  {
   "cell_type": "markdown",
   "metadata": {},
   "source": [
    "#### Exercise 14.6.1"
   ]
  },
  {
   "cell_type": "markdown",
   "metadata": {},
   "source": [
    "Is the algorithm stable?"
   ]
  },
  {
   "cell_type": "markdown",
   "metadata": {
    "tags": [
     "ANSWER"
    ]
   },
   "source": [
    "_Write your answer here._"
   ]
  },
  {
   "cell_type": "markdown",
   "metadata": {},
   "source": [
    "[Hint](../31_Hints/Hints_14_6_01.ipynb)\n",
    "[Answer](../32_Answers/Answers_14_6_01.ipynb)"
   ]
  },
  {
   "cell_type": "markdown",
   "metadata": {},
   "source": [
    "### 14.6.2 Complexity"
   ]
  },
  {
   "cell_type": "markdown",
   "metadata": {},
   "source": [
    "Each recursive call goes through its input sequence twice:\n",
    "first to partition it and then to concatenate the partitions and the pivot.\n",
    "The recursive complexity definition is:\n",
    "\n",
    "- if _n_ < 2: T(_n_) = Θ(1)\n",
    "- if _n_ ≥ 2: T(_n_) = Θ(_n_) + T(│*smaller*│) + T(│*larger*│) + Θ(_n_)\n",
    "  = T(│*smaller*│) + T(│*larger*│) + Θ(_n_).\n",
    "\n",
    "If the input is sorted, then the pivot (the first item)\n",
    "is the smallest one. So all other items are put in partition _larger_  and\n",
    "partition _smaller_  is empty. The recurrence relation becomes:\n",
    "\n",
    "T(_n_) = T(0) + T(_n_ − 1) + Θ(_n_) = Θ(1) + T(_n_ − 1) + Θ(_n_) = T(_n_ − 1) + Θ(_n_).\n",
    "\n",
    "We've seen before that this resolves to T(_n_) = Θ(*n*²).\n",
    "\n",
    "In the best-case scenario, the pivot is the middle value and quicksort halves\n",
    "the sequence, like merge sort. The recurrence becomes:\n",
    "\n",
    "T(_n_) = T(_n_ / 2) + T(_n_ / 2) + Θ(_n_) = 2×T(_n_ / 2) + Θ(_n_).\n",
    "\n",
    "This resolves to T(_n_) = Θ(_n_ log _n_).\n",
    "\n",
    "It has been proven that the average complexity of quicksort,\n",
    "when items are in random order, is also log-linear."
   ]
  },
  {
   "cell_type": "markdown",
   "metadata": {},
   "source": [
    "#### Exercise 14.6.2"
   ]
  },
  {
   "cell_type": "markdown",
   "metadata": {},
   "source": [
    "What's the complexity of quicksort if the input is in reverse order?"
   ]
  },
  {
   "cell_type": "markdown",
   "metadata": {
    "tags": [
     "ANSWER"
    ]
   },
   "source": [
    "_Write your answer here._"
   ]
  },
  {
   "cell_type": "markdown",
   "metadata": {},
   "source": [
    "[Hint](../31_Hints/Hints_14_6_02.ipynb)\n",
    "[Answer](../32_Answers/Answers_14_6_02.ipynb)"
   ]
  },
  {
   "cell_type": "markdown",
   "metadata": {},
   "source": [
    "#### Exercise 14.6.3"
   ]
  },
  {
   "cell_type": "markdown",
   "metadata": {},
   "source": [
    "Is quicksort adaptive?"
   ]
  },
  {
   "cell_type": "markdown",
   "metadata": {
    "tags": [
     "ANSWER"
    ]
   },
   "source": [
    "_Write your answer here._"
   ]
  },
  {
   "cell_type": "markdown",
   "metadata": {},
   "source": [
    "[Answer](../32_Answers/Answers_14_6_03.ipynb)\n",
    "\n",
    "As the analysis shows, the choice of pivot is crucial to achieve\n",
    "log-linear complexity. One common approach is to choose a random item.\n",
    "Another way is to pick the median of the first, middle and last items.\n",
    "Unless we're unlucky and those three items have duplicate keys, this guarantees\n",
    "the pivot has neither the lowest nor the highest key in the sequence,\n",
    "which would lead to quadratic complexity."
   ]
  },
  {
   "cell_type": "markdown",
   "metadata": {},
   "source": [
    "### 14.6.3 Code and performance"
   ]
  },
  {
   "cell_type": "markdown",
   "metadata": {},
   "source": [
    "The code mainly follows the algorithm with two small changes.\n",
    "First, the pivot's key is computed only once.\n",
    "Second, the partitioning algorithm isn't in a separate function.\n",
    "This makes the code shorter and easier to follow, in my opinion."
   ]
  },
  {
   "cell_type": "code",
   "execution_count": 1,
   "metadata": {
    "execution": {
     "iopub.execute_input": "2021-09-10T15:43:10.150416Z",
     "iopub.status.busy": "2021-09-10T15:43:10.149658Z",
     "iopub.status.idle": "2021-09-10T15:43:10.153547Z",
     "shell.execute_reply": "2021-09-10T15:43:10.154191Z"
    }
   },
   "outputs": [
    {
     "name": "stdout",
     "output_type": "stream",
     "text": [
      "Tests finished.\n"
     ]
    }
   ],
   "source": [
    "%run -i ../m269_util\n",
    "%run -i ../m269_sorting\n",
    "\n",
    "def quick_sorted(unsorted: list, key: Callable) -> list:\n",
    "    \"\"\"Return a permutation with keys in non-decreasing order.\n",
    "\n",
    "    Preconditions: for any indices i and j,\n",
    "    key(unsorted[i]) and key(unsorted[j]) are comparable\n",
    "    \"\"\"\n",
    "    # base case: sequences with 0 or 1 items are sorted\n",
    "    if len(unsorted) < 2:\n",
    "        return unsorted\n",
    "    # divide the input: select the pivot and create the partitions\n",
    "    smaller = []\n",
    "    larger = []\n",
    "    pivot = unsorted[0]\n",
    "    pivot_key = key(pivot)\n",
    "    for index in range(1, len(unsorted)):\n",
    "        item = unsorted[index]\n",
    "        if key(item) < pivot_key:\n",
    "            smaller.append(item)\n",
    "        else:\n",
    "            larger.append(item)\n",
    "    # recur into the partitions and combine the results\n",
    "    return quick_sorted(smaller, key) + [pivot] + quick_sorted(larger, key)\n",
    "\n",
    "test(quick_sorted, sorting_tests)"
   ]
  },
  {
   "cell_type": "markdown",
   "metadata": {},
   "source": [
    "Let's confirm that sorting an ascending sequence takes quadratic time:"
   ]
  },
  {
   "cell_type": "code",
   "execution_count": 2,
   "metadata": {
    "execution": {
     "iopub.execute_input": "2021-09-10T15:43:10.232822Z",
     "iopub.status.busy": "2021-09-10T15:43:10.193940Z",
     "iopub.status.idle": "2021-09-10T15:43:33.046511Z",
     "shell.execute_reply": "2021-09-10T15:43:33.047120Z"
    }
   },
   "outputs": [
    {
     "name": "stdout",
     "output_type": "stream",
     "text": [
      "925 µs ± 31.6 µs per loop (mean ± std. dev. of 5 runs, 1000 loops each)\n",
      "3.92 ms ± 570 µs per loop (mean ± std. dev. of 5 runs, 100 loops each)\n",
      "15.4 ms ± 354 µs per loop (mean ± std. dev. of 5 runs, 100 loops each)\n",
      "63.1 ms ± 3.73 ms per loop (mean ± std. dev. of 5 runs, 10 loops each)\n",
      "236 ms ± 32.5 ms per loop (mean ± std. dev. of 5 runs, 1 loop each)\n"
     ]
    }
   ],
   "source": [
    "for doubling in range(5):\n",
    "    items = list(range(100 * 2**doubling))\n",
    "    %timeit -r 5 quick_sorted(items, identity)"
   ]
  },
  {
   "cell_type": "markdown",
   "metadata": {},
   "source": [
    "To observe the log-linear complexity, I use a Python function to\n",
    "shuffle the items to put them in random order:"
   ]
  },
  {
   "cell_type": "code",
   "execution_count": 3,
   "metadata": {
    "execution": {
     "iopub.execute_input": "2021-09-10T15:43:33.124387Z",
     "iopub.status.busy": "2021-09-10T15:43:33.086806Z",
     "iopub.status.idle": "2021-09-10T15:44:04.397301Z",
     "shell.execute_reply": "2021-09-10T15:44:04.397801Z"
    }
   },
   "outputs": [
    {
     "name": "stdout",
     "output_type": "stream",
     "text": [
      "161 µs ± 8.05 µs per loop (mean ± std. dev. of 5 runs, 10000 loops each)\n",
      "410 µs ± 15.7 µs per loop (mean ± std. dev. of 5 runs, 1000 loops each)\n",
      "894 µs ± 97.7 µs per loop (mean ± std. dev. of 5 runs, 1000 loops each)\n",
      "1.8 ms ± 79.5 µs per loop (mean ± std. dev. of 5 runs, 1000 loops each)\n",
      "4.4 ms ± 557 µs per loop (mean ± std. dev. of 5 runs, 100 loops each)\n"
     ]
    }
   ],
   "source": [
    "from random import shuffle\n",
    "\n",
    "for doubling in range(5):\n",
    "    items = list(range(100 * 2**doubling))\n",
    "    shuffle(items)\n",
    "    %timeit -r 5 quick_sorted(items, identity)"
   ]
  },
  {
   "cell_type": "markdown",
   "metadata": {},
   "source": [
    "### 14.6.4 In-place version"
   ]
  },
  {
   "cell_type": "markdown",
   "metadata": {},
   "source": [
    "Quicksort is usually implemented in-place, swapping smaller and larger items\n",
    "so that the smaller items end up in the left-hand part of the sequence and\n",
    "the larger items in the right-hand part, with the pivot between them.\n",
    "Once each part is sorted, no concatenation is necessary.\n",
    "A visualisation explaining the in-place algorithm is [here](https://learn2.open.ac.uk/mod/oucontent/view.php?id=1827810&extra=thumbnail_idm45069228656528).\n",
    "\n",
    "In-place quicksort isn't stable but uses less memory and is much faster\n",
    "than the version above because it doesn't create and concatenate sequences.\n",
    "It nevertheless has the same best-, average- and worst-case complexities.\n",
    "\n",
    "Python used in-place quicksort before the invention of Timsort."
   ]
  },
  {
   "cell_type": "markdown",
   "metadata": {},
   "source": [
    "⟵ [Previous section](14_5_merge_sort.ipynb) | [Up](14-introduction.ipynb) | [Next section](14_7_quicksort_variants.ipynb) ⟶"
   ]
  }
 ],
 "metadata": {
  "kernelspec": {
   "display_name": "Python 3",
   "language": "python",
   "name": "python3"
  },
  "language_info": {
   "codemirror_mode": {
    "name": "ipython",
    "version": 3
   },
   "file_extension": ".py",
   "mimetype": "text/x-python",
   "name": "python",
   "nbconvert_exporter": "python",
   "pygments_lexer": "ipython3",
   "version": "3.8.5"
  }
 },
 "nbformat": 4,
 "nbformat_minor": 4
}
