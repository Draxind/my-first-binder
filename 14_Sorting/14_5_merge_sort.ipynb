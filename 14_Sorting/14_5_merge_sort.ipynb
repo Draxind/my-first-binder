{
 "cells": [
  {
   "cell_type": "markdown",
   "metadata": {},
   "source": [
    "## 14.5 Merge sort"
   ]
  },
  {
   "cell_type": "markdown",
   "metadata": {},
   "source": [
    "Let's now look at a divide-and-conquer approach to sorting."
   ]
  },
  {
   "cell_type": "markdown",
   "metadata": {},
   "source": [
    "### 14.5.1 Algorithm"
   ]
  },
  {
   "cell_type": "markdown",
   "metadata": {},
   "source": [
    "**Merge sort** divides the sequence into two halves, sorts each one recursively,\n",
    "and merges them by taking the smallest item of each half until both are empty.\n",
    "The bases cases are sequences of length&nbsp;0 or 1,\n",
    "as they can't be split into smaller sequences.\n",
    "When the length is odd, it doesn't matter which half has one element more.\n",
    "The next figure shows the process applied to our familiar example.\n",
    "\n",
    "![This diagram shows seven rows of sequences of letters.\n",
    "When a sequence is split, it is connected with lines to\n",
    "the two resulting sequences in the next row.\n",
    "When two sequences are merged, they are connected with straight lines to\n",
    "the resulting sequence in the next row.\n",
    "The first row shows sequence SORTING.\n",
    "The second row shows it has been split into SORT and ING.\n",
    "The third row shows the first sequence is split into SO and RT,\n",
    "and the second into IN and G.\n",
    "In the fourth row, SO, RT and IN are further split into single letters.\n",
    "In the fifth row, S and O are merged into OS, R and T into RT,\n",
    "and I and N into IN.\n",
    "In the fifth row, OS and RT are merged into ORST,\n",
    "and IN is merged with G into GIN.\n",
    "In the final seventh row, ORST and GIN are merged into GINORST,\n",
    "the sorted sequence of letters.](14_5_mergesort.png)\n",
    "\n",
    "Here's the recursive algorithm for mergesort(_unsorted_, _key_):\n",
    "\n",
    "1. if _n_ < 2:\n",
    "   1. let _sorted_ be _unsorted_\n",
    "   2. stop\n",
    "1. let _middle_ be floor(_n_ / 2)\n",
    "1. let _left sorted_ be mergesort(_unsorted_[0:*middle*], _key_)\n",
    "1. let _right sorted_ be mergesort(_unsorted_[_middle_:*n*], _key_)\n",
    "1. let _sorted_ be merge(_left sorted_, _right sorted_, _key_)\n",
    "\n",
    "The previous M269 team produced a [visualisation](https://learn2.open.ac.uk/mod/oucontent/view.php?id=1827810&extra=thumbnail_idm45069228661520) of step&nbsp;5,\n",
    "so that you can see it in more detail.\n",
    "The code shown in the visualisation doesn't use a key function.\n",
    "Here's the algorithm for merge(_left_, _right_, _key_)\n",
    "with the precondition that both input sequences are sorted.\n",
    "\n",
    "1. let _left index_ be 0\n",
    "1. let _right index_ be 0\n",
    "1. let _sorted_ be the empty sequence\n",
    "1. while _left index_ < │*left sorted*│ and _right index_ < │*right sorted*│:\n",
    "   1. let _left item_ be _left sorted_[*left index*]\n",
    "   1. let _right item_ be _right sorted_[*right index*]\n",
    "   1. if _key_(_left item_) < _key_(_right item_):\n",
    "      1. append _left item_ to _sorted_\n",
    "      2. let _left index_ be _left index_ + 1\n",
    "   1. otherwise:\n",
    "      1. append _right item_ to _sorted_\n",
    "      2. let _right index_ be _right index_ + 1\n",
    "1. for _index_ from _left index_ to │*left sorted*│ – 1:\n",
    "   1. append _left sorted_[*index*] to _sorted_\n",
    "1. for _index_ from _right index_ to │*right sorted*│ – 1:\n",
    "   1. append _right sorted_[*index*] to _sorted_\n",
    "\n",
    "Step&nbsp;4 and its sub-steps merge both sequences until one is copied to the output.\n",
    "The unprocessed items in the other half are then copied by either\n",
    "step&nbsp;5 or step&nbsp;6. Only one of those for-loops will execute."
   ]
  },
  {
   "cell_type": "markdown",
   "metadata": {},
   "source": [
    "#### Exercise 14.5.1"
   ]
  },
  {
   "cell_type": "markdown",
   "metadata": {},
   "source": [
    "Is merge sort stable? If not, what has to be changed?"
   ]
  },
  {
   "cell_type": "markdown",
   "metadata": {
    "tags": [
     "ANSWER"
    ]
   },
   "source": [
    "_Write your answer here._"
   ]
  },
  {
   "cell_type": "markdown",
   "metadata": {},
   "source": [
    "[Hint](../31_Hints/Hints_14_5_01.ipynb)\n",
    "[Answer](../32_Answers/Answers_14_5_01.ipynb)"
   ]
  },
  {
   "cell_type": "markdown",
   "metadata": {},
   "source": [
    "### 14.5.2 Complexity"
   ]
  },
  {
   "cell_type": "markdown",
   "metadata": {},
   "source": [
    "Let's first think whether there are different best and worst cases.\n",
    "Is merge sort adaptive?\n",
    "\n",
    "___\n",
    "\n",
    "Even if the input is sorted, it's repeatedly halved, sorted, and merged in\n",
    "the same order. The algorithm isn't adaptive.\n",
    "\n",
    "Let's first obtain the complexity in a visual way.\n",
    "In the above figure, each level splits sequences\n",
    "in half and a later corresponding level merges the sorted halves.\n",
    "Each splitting and merging corresponds to one recursive call.\n",
    "Since the input is always split in half, there are log$_2$&nbsp;_n_ recursive calls\n",
    "until the sequences have length&nbsp;1 and start being merged.\n",
    "In the example, _n_ = 7, so there are 3 recursive call levels.\n",
    "\n",
    "Each level processes the whole input, of length _n_, albeit split in substrings.\n",
    "For example, the second level processes 4&nbsp;sequences of one or two characters\n",
    "each, while the third level processes seven sequences of one character each.\n",
    "Processing each character takes constant time, both\n",
    "when it's being copied from the input to an unsorted half and\n",
    "when it's copied from a sorted half to the output.\n",
    "The complexity is therefore log _n_ × _n_ × Θ(1) = Θ(_n_ log _n_).\n",
    "\n",
    "Informal reasoning can sometimes have subtle flaws, so it's safest to\n",
    "systematically define the complexity recursively, following the algorithm."
   ]
  },
  {
   "cell_type": "markdown",
   "metadata": {},
   "source": [
    "#### Exercise 14.5.2"
   ]
  },
  {
   "cell_type": "markdown",
   "metadata": {},
   "source": [
    "Write the recursive definition of T and\n",
    "confirm that merge sort has log-linear complexity.\n",
    "\n",
    "- if _n_ < 2: T(_n_) = ...\n",
    "- if _n_ ≥ 2: T(_n_) = ...\n",
    "\n",
    "[Hint](../31_Hints/Hints_14_5_02.ipynb)\n",
    "[Answer](../32_Answers/Answers_14_5_02.ipynb)\n",
    "\n",
    "Merge sort has two advantages over insertion and selection sort:\n",
    "it has better than quadratic complexity for unsorted input sequences and,\n",
    "being a divide-and-conquer algorithm, can be implemented in parallel."
   ]
  },
  {
   "cell_type": "markdown",
   "metadata": {},
   "source": [
    "### 14.5.3 Code and performance"
   ]
  },
  {
   "cell_type": "markdown",
   "metadata": {},
   "source": [
    "The following implements the stable version of the algorithm."
   ]
  },
  {
   "cell_type": "code",
   "execution_count": 1,
   "metadata": {
    "execution": {
     "iopub.execute_input": "2021-09-10T15:42:49.960613Z",
     "iopub.status.busy": "2021-09-10T15:42:49.959815Z",
     "iopub.status.idle": "2021-09-10T15:42:49.964408Z",
     "shell.execute_reply": "2021-09-10T15:42:49.963694Z"
    }
   },
   "outputs": [
    {
     "name": "stdout",
     "output_type": "stream",
     "text": [
      "Tests finished.\n"
     ]
    }
   ],
   "source": [
    "%run -i ../m269_util\n",
    "%run -i ../m269_sorting\n",
    "\n",
    "def merge(left: list, right: list, key: Callable) -> list:\n",
    "    \"\"\"Merge both lists into one with keys in non-decreasing order.\n",
    "\n",
    "    Preconditions: left and right have keys in non-decreasing order\n",
    "    \"\"\"\n",
    "    left_index = 0\n",
    "    right_index = 0\n",
    "    sorted = []\n",
    "    while left_index < len(left) and right_index < len(right):\n",
    "        left_item = left[left_index]\n",
    "        right_item = right[right_index]\n",
    "        if key(left_item) <= key(right_item):\n",
    "            sorted.append(left_item)\n",
    "            left_index = left_index + 1\n",
    "        else:\n",
    "            sorted.append(right_item)\n",
    "            right_index = right_index + 1\n",
    "    for index in range(left_index, len(left)):\n",
    "        sorted.append(left[index])\n",
    "    for index in range(right_index, len(right)):\n",
    "        sorted.append(right[index])\n",
    "    return sorted\n",
    "\n",
    "def merge_sorted(unsorted: list, key: Callable) -> list:\n",
    "    \"\"\"Return a permutation with keys in non-decreasing order.\n",
    "\n",
    "    Preconditions: for any indices i and j,\n",
    "    key(unsorted[i]) and key(unsorted[j]) are comparable\n",
    "    \"\"\"\n",
    "    n = len(unsorted)\n",
    "    if n < 2:\n",
    "        return unsorted\n",
    "\n",
    "    middle = n // 2\n",
    "    left_sorted = merge_sorted(unsorted[0:middle], key)\n",
    "    right_sorted = merge_sorted(unsorted[middle:n], key)\n",
    "    return merge(left_sorted, right_sorted, key)\n",
    "\n",
    "test(merge_sorted, sorting_tests)"
   ]
  },
  {
   "cell_type": "markdown",
   "metadata": {},
   "source": [
    "Since the complexity is always the same,\n",
    "I measure the run-time only for already sorted sequences."
   ]
  },
  {
   "cell_type": "code",
   "execution_count": 2,
   "metadata": {
    "execution": {
     "iopub.execute_input": "2021-09-10T15:42:50.043950Z",
     "iopub.status.busy": "2021-09-10T15:42:50.003909Z",
     "iopub.status.idle": "2021-09-10T15:43:07.780495Z",
     "shell.execute_reply": "2021-09-10T15:43:07.780961Z"
    }
   },
   "outputs": [
    {
     "name": "stdout",
     "output_type": "stream",
     "text": [
      "257 µs ± 18.4 µs per loop (mean ± std. dev. of 5 runs, 1000 loops each)\n",
      "577 µs ± 29.8 µs per loop (mean ± std. dev. of 5 runs, 1000 loops each)\n",
      "1.21 ms ± 71.3 µs per loop (mean ± std. dev. of 5 runs, 1000 loops each)\n",
      "2.86 ms ± 423 µs per loop (mean ± std. dev. of 5 runs, 100 loops each)\n",
      "5.81 ms ± 1 ms per loop (mean ± std. dev. of 5 runs, 100 loops each)\n"
     ]
    }
   ],
   "source": [
    "for doubling in range(5):\n",
    "    items = list(range(100 * 2**doubling))\n",
    "    %timeit -r 5 merge_sorted(items, identity)"
   ]
  },
  {
   "cell_type": "markdown",
   "metadata": {},
   "source": [
    "The run-times more than double but don't quadruple when the input size doubles.\n",
    "This confirms the complexity is between linear and quadratic."
   ]
  },
  {
   "cell_type": "markdown",
   "metadata": {},
   "source": [
    "⟵ [Previous section](14_4_selection_sort.ipynb) | [Up](14-introduction.ipynb) | [Next section](14_6_quicksort.ipynb) ⟶"
   ]
  }
 ],
 "metadata": {
  "kernelspec": {
   "display_name": "Python 3",
   "language": "python",
   "name": "python3"
  },
  "language_info": {
   "codemirror_mode": {
    "name": "ipython",
    "version": 3
   },
   "file_extension": ".py",
   "mimetype": "text/x-python",
   "name": "python",
   "nbconvert_exporter": "python",
   "pygments_lexer": "ipython3",
   "version": "3.8.5"
  }
 },
 "nbformat": 4,
 "nbformat_minor": 4
}
