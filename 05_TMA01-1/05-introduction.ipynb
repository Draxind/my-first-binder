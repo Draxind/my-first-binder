{
 "cells": [
  {
   "cell_type": "markdown",
   "metadata": {},
   "source": [
    "# 5 TMA 01 part 1"
   ]
  },
  {
   "cell_type": "markdown",
   "metadata": {},
   "source": [
    "This study-free week is for you to catch up if you need to,\n",
    "and to complete the first part of TMA&nbsp;01, which you can download from\n",
    "the 'Assessment' tab of the [M269 website](https://learn2.open.ac.uk/course/view.php?id=208089).\n",
    "\n",
    "There's no recipe to solve a computational problem, but if you ask yourself the\n",
    "right questions then you're more likely to find a solution without multiple trials\n",
    "and errors. The following sections provide a non-comprehensive checklist,\n",
    "often in question form, of things to think about in order to solve a problem,\n",
    "be it an exercise or TMA question."
   ]
  },
  {
   "cell_type": "markdown",
   "metadata": {
    "nbsphinx-toctree": {
     "hidden": true,
     "maxdepth": 1,
     "numbered": false
    }
   },
   "source": [
    "1. [Problem definition](05_1_solving_problems.ipynb)\n",
    "1. [Algorithms and complexity](05_2_algorithms.ipynb)\n",
    "1. [Coding style](05_3_coding_style.ipynb)"
   ]
  },
  {
   "cell_type": "markdown",
   "metadata": {},
   "source": [
    "⟵ [Previous chapter](../04_Iteration/04-introduction.ipynb) | [Up](../M269.ipynb) | [Next chapter](../06_Implementing/06-introduction.ipynb) ⟶"
   ]
  }
 ],
 "metadata": {
  "kernelspec": {
   "display_name": "Python 3",
   "language": "python",
   "name": "python3"
  },
  "language_info": {
   "codemirror_mode": {
    "name": "ipython",
    "version": 3
   },
   "file_extension": ".py",
   "mimetype": "text/x-python",
   "name": "python",
   "nbconvert_exporter": "python",
   "pygments_lexer": "ipython3",
   "version": "3.8.5"
  }
 },
 "nbformat": 4,
 "nbformat_minor": 4
}
