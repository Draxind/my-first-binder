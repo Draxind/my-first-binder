{
 "cells": [
  {
   "cell_type": "markdown",
   "metadata": {},
   "source": [
    "## 5.3 Coding style"
   ]
  },
  {
   "cell_type": "markdown",
   "metadata": {},
   "source": [
    "General:\n",
    "\n",
    "- Use descriptive names. Avoid abbreviations and single-letter names.\n",
    "- Use 4&nbsp;spaces for each indentation level.\n",
    "- Keep lines shorter than 80 characters, preferably around 70 characters.\n",
    "- Write docstrings and multi-line strings between three double quotes.\n",
    "- Try to follow the Zen of Python when designing, implementing,\n",
    "  documenting and testing your algorithms."
   ]
  },
  {
   "cell_type": "code",
   "execution_count": 1,
   "metadata": {
    "execution": {
     "iopub.execute_input": "2021-09-10T15:37:11.445181Z",
     "iopub.status.busy": "2021-09-10T15:37:11.444423Z",
     "iopub.status.idle": "2021-09-10T15:37:11.447981Z",
     "shell.execute_reply": "2021-09-10T15:37:11.448537Z"
    }
   },
   "outputs": [
    {
     "name": "stdout",
     "output_type": "stream",
     "text": [
      "The Zen of Python, by Tim Peters\n",
      "\n",
      "Beautiful is better than ugly.\n",
      "Explicit is better than implicit.\n",
      "Simple is better than complex.\n",
      "Complex is better than complicated.\n",
      "Flat is better than nested.\n",
      "Sparse is better than dense.\n",
      "Readability counts.\n",
      "Special cases aren't special enough to break the rules.\n",
      "Although practicality beats purity.\n",
      "Errors should never pass silently.\n",
      "Unless explicitly silenced.\n",
      "In the face of ambiguity, refuse the temptation to guess.\n",
      "There should be one-- and preferably only one --obvious way to do it.\n",
      "Although that way may not be obvious at first unless you're Dutch.\n",
      "Now is better than never.\n",
      "Although never is often better than *right* now.\n",
      "If the implementation is hard to explain, it's a bad idea.\n",
      "If the implementation is easy to explain, it may be a good idea.\n",
      "Namespaces are one honking great idea -- let's do more of those!\n"
     ]
    }
   ],
   "source": [
    "import this"
   ]
  },
  {
   "cell_type": "markdown",
   "metadata": {
    "tags": [
     "INFO"
    ]
   },
   "source": [
    "<div class=\"alert alert-info\">\n",
    "<strong>Info:</strong> Python's creator, Guido van Rossum, is Dutch.\n",
    "</div>"
   ]
  },
  {
   "cell_type": "markdown",
   "metadata": {},
   "source": [
    "Variables:\n",
    "\n",
    "- Write variable names in lowercase, with underscores separating words, e.g. `test_case`.\n",
    "- Write constant names in uppercase, with underscores separating words, e.g. `TEST_CASE`.\n",
    "\n",
    "Functions:\n",
    "\n",
    "- Write function names in lowercase, with underscores separating words.\n",
    "- A function name should describe _what_ the function returns or does, not\n",
    "  _how_ it works, unless you have several functions solving the same problem.\n",
    "- Indicate the type of each parameter and the output, with type annotations.\n",
    "- Write a docstring for each function.\n",
    "- If you're implementing a mathematical function,\n",
    "  make sure your Python function doesn't modify any input."
   ]
  },
  {
   "cell_type": "markdown",
   "metadata": {
    "tags": [
     "INFO"
    ]
   },
   "source": [
    "<div class=\"alert alert-info\">\n",
    "<strong>Info:</strong> This and later coding style guidance is partly based on\n",
    "<a href=\"https://www.python.org/dev/peps/pep-0008\">Style Guide for Python Code</a>\n",
    "(better known as PEP 8) and\n",
    "<a href=\"https://www.python.org/dev/peps/pep-0257\">Docstring Conventions</a>\n",
    "(PEP 257).\n",
    "</div>"
   ]
  },
  {
   "cell_type": "markdown",
   "metadata": {},
   "source": [
    "⟵ [Previous section](05_2_algorithms.ipynb) | [Up](05-introduction.ipynb) | [Next section](../06_Implementing/06-introduction.ipynb) ⟶"
   ]
  }
 ],
 "metadata": {
  "kernelspec": {
   "display_name": "Python 3",
   "language": "python",
   "name": "python3"
  },
  "language_info": {
   "codemirror_mode": {
    "name": "ipython",
    "version": 3
   },
   "file_extension": ".py",
   "mimetype": "text/x-python",
   "name": "python",
   "nbconvert_exporter": "python",
   "pygments_lexer": "ipython3",
   "version": "3.8.5"
  }
 },
 "nbformat": 4,
 "nbformat_minor": 4
}
