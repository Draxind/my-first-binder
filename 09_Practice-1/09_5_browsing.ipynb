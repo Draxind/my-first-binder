{
 "cells": [
  {
   "cell_type": "markdown",
   "metadata": {},
   "source": [
    "## 9.5 Browsing"
   ]
  },
  {
   "cell_type": "markdown",
   "metadata": {},
   "source": [
    "Web browsers have back and forward buttons to reopen previously\n",
    "visited web pages and then return to the current page, i.e. you can go back and\n",
    "forward in your browsing history. However, if you go back to an earlier page and\n",
    "then visit a new page, you can't go forwards anymore: the forward button becomes\n",
    "disabled.\n",
    "\n",
    "You're asked to implement a data type that represents the current session's\n",
    "browsing history and provides five operations:\n",
    "\n",
    "- new: Create an empty browsing history that\n",
    "  remembers up to a given number _p_ of pages.\n",
    "- visit: Given a URL (a string), make that the current page.\n",
    "- now: Return the current page's URL or\n",
    "  the empty string if no page has yet been visited.\n",
    "- previous: If there's a page visited before the current one,\n",
    "  make it the new current page, otherwise don't do anything.\n",
    "- next: If there's a page visited after the current page,\n",
    "  make it the new current page, otherwise don't do anything.\n",
    "\n",
    "If _p_ − 1 pages were visited before the current one,\n",
    "adding a new page removes the oldest one from the history. For example,\n",
    "consider _p_ = 4 and that the history is ABCD, i.e.\n",
    "we visited pages A, B, and C (in that order) before the current page D.\n",
    "Then, visiting E will lead to history BCDE with E the current page. However, if\n",
    "we went back to page B before visiting E, then the history becomes ABE."
   ]
  },
  {
   "cell_type": "code",
   "execution_count": 1,
   "metadata": {
    "execution": {
     "iopub.execute_input": "2021-09-10T15:38:49.878974Z",
     "iopub.status.busy": "2021-09-10T15:38:49.878420Z",
     "iopub.status.idle": "2021-09-10T15:38:49.880037Z",
     "shell.execute_reply": "2021-09-10T15:38:49.880517Z"
    }
   },
   "outputs": [],
   "source": [
    "class BrowsingHistory:\n",
    "    \"\"\"Represent the pages visited in the current session.\"\"\"\n",
    "\n",
    "    def __init__(self, pages: int) -> None:\n",
    "        \"\"\"Create an empty history with capacity for the given pages.\n",
    "\n",
    "        Preconditions: pages > 0\n",
    "        \"\"\"\n",
    "        pass\n",
    "\n",
    "    def visit(self, url: str) -> None:\n",
    "        \"\"\"Set url to be the current page.\n",
    "\n",
    "        Postconditions:\n",
    "        - if the history is full, the oldest page is forgotten\n",
    "        \"\"\"\n",
    "        pass\n",
    "\n",
    "    def now(self) -> str:\n",
    "        \"\"\"Return the current page's URL or '' if there's no current page.\"\"\"\n",
    "        pass\n",
    "\n",
    "    def next(self) -> None:\n",
    "        \"\"\"Make the next page the current one, otherwise do nothing.\"\"\"\n",
    "        pass\n",
    "\n",
    "    def previous(self) -> None:\n",
    "        \"\"\"Make the previous page the current one, otherwise do nothing.\"\"\"\n",
    "        pass"
   ]
  },
  {
   "cell_type": "markdown",
   "metadata": {},
   "source": [
    "### 9.5.1 Problem definition"
   ]
  },
  {
   "cell_type": "markdown",
   "metadata": {},
   "source": [
    "#### Exercise 9.5.1"
   ]
  },
  {
   "cell_type": "markdown",
   "metadata": {},
   "source": [
    "Here's an example of how the data type should behave.\n",
    "Instead of real URLs, I use website names to keep the example simple and short."
   ]
  },
  {
   "cell_type": "code",
   "execution_count": 2,
   "metadata": {
    "execution": {
     "iopub.execute_input": "2021-09-10T15:38:49.885851Z",
     "iopub.status.busy": "2021-09-10T15:38:49.885115Z",
     "iopub.status.idle": "2021-09-10T15:38:49.888388Z",
     "shell.execute_reply": "2021-09-10T15:38:49.888976Z"
    }
   },
   "outputs": [],
   "source": [
    "%run -i ../m269_check\n",
    "\n",
    "session = BrowsingHistory(2)    # remember last 2 pages\n",
    "session.visit('OU')\n",
    "session.visit('M269')           # history is OU, M269\n",
    "session.previous()              # go back to OU\n",
    "check('start of history', session.now(), 'OU', 'session')\n",
    "session.next()                  # go forward to M269\n",
    "check('end of history', session.now(), 'M269', 'session')\n",
    "print('Tests finished.')"
   ]
  },
  {
   "cell_type": "markdown",
   "metadata": {},
   "source": [
    "Add more method calls to the session to test the other behaviours\n",
    "described in the problem statement.\n",
    "\n",
    "[Hint](../31_Hints/Hints_09_5_01.ipynb)\n",
    "[Answer](../32_Answers/Answers_09_5_01.ipynb)"
   ]
  },
  {
   "cell_type": "markdown",
   "metadata": {},
   "source": [
    "### 9.5.2 First approach"
   ]
  },
  {
   "cell_type": "markdown",
   "metadata": {},
   "source": [
    "#### Exercise 9.5.2"
   ]
  },
  {
   "cell_type": "markdown",
   "metadata": {},
   "source": [
    "Which ADT(s) would you use, and how,\n",
    "to make all operations run in constant time?"
   ]
  },
  {
   "cell_type": "markdown",
   "metadata": {
    "tags": [
     "ANSWER"
    ]
   },
   "source": [
    "_Write your answer here._"
   ]
  },
  {
   "cell_type": "markdown",
   "metadata": {},
   "source": [
    "[Hint](../31_Hints/Hints_09_5_02.ipynb)\n",
    "[Answer](../32_Answers/Answers_09_5_02.ipynb)"
   ]
  },
  {
   "cell_type": "markdown",
   "metadata": {},
   "source": [
    "#### Exercise 9.5.3"
   ]
  },
  {
   "cell_type": "markdown",
   "metadata": {},
   "source": [
    "Implement and test your approach using Python's data types.\n",
    "\n",
    "[Hint](../31_Hints/Hints_09_5_03.ipynb)\n",
    "[Answer](../32_Answers/Answers_09_5_03.ipynb)"
   ]
  },
  {
   "cell_type": "markdown",
   "metadata": {},
   "source": [
    "### 9.5.3 Second approach"
   ]
  },
  {
   "cell_type": "markdown",
   "metadata": {},
   "source": [
    "#### Exercise 9.5.4"
   ]
  },
  {
   "cell_type": "markdown",
   "metadata": {},
   "source": [
    "Instead of using existing ADTs and data types, describe a more efficient bespoke\n",
    "data structure for solving this problem and very briefly outline\n",
    "how the browser's operations could be implemented in constant time.\n",
    "\n",
    "[Hint](../31_Hints/Hints_09_5_04.ipynb)\n",
    "[Answer](../32_Answers/Answers_09_5_04.ipynb)"
   ]
  },
  {
   "cell_type": "markdown",
   "metadata": {},
   "source": [
    "#### Exercise 9.5.5 (optional)"
   ]
  },
  {
   "cell_type": "markdown",
   "metadata": {},
   "source": [
    "Copy the first cell of this notebook to here and modify it\n",
    "to implement this approach.\n",
    "\n",
    "[Hint](../31_Hints/Hints_09_5_05.ipynb)"
   ]
  },
  {
   "cell_type": "markdown",
   "metadata": {},
   "source": [
    "⟵ [Previous section](09_4_trains.ipynb) | [Up](09-introduction.ipynb) | [Next section](09_6_sms.ipynb) ⟶"
   ]
  }
 ],
 "metadata": {
  "kernelspec": {
   "display_name": "Python 3",
   "language": "python",
   "name": "python3"
  },
  "language_info": {
   "codemirror_mode": {
    "name": "ipython",
    "version": 3
   },
   "file_extension": ".py",
   "mimetype": "text/x-python",
   "name": "python",
   "nbconvert_exporter": "python",
   "pygments_lexer": "ipython3",
   "version": "3.8.5"
  }
 },
 "nbformat": 4,
 "nbformat_minor": 4
}
