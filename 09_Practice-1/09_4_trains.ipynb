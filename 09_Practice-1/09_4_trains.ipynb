{
 "cells": [
  {
   "cell_type": "markdown",
   "metadata": {},
   "source": [
    "## 9.4 Trains"
   ]
  },
  {
   "cell_type": "markdown",
   "metadata": {},
   "source": [
    "Consider a track layout in the shape of the letter Y.\n",
    "\n",
    "![The figure shows a vertical rail track that bifurcates into a left and a right\n",
    "track, both horizontal and both with a left-pointing arrow beneath them.\n",
    "The right track has three wagons on it, labelled 1, 2 and 3 from left to right.\n",
    "The left track has three wagons labelled 1, 3, 2 from left to right.\n",
    "At the bottom of the vertical track is the word Station.](09_4_track.png)\n",
    "\n",
    "A train formed of wagons numbered 1, 2, 3, ..., _n_ comes from the east\n",
    "into the station and needs to leave it to the west with the wagons\n",
    "in a possibly different order.\n",
    "Each wagon can be detached from the others and\n",
    "the station has capacity for all _n_ wagons.\n",
    "Once a wagon is in the station, it can't be moved back to the east.\n",
    "\n",
    "The example in the figure is a train with 3 wagons that must leave in the order\n",
    "1, 3, 2. The following operations achieve that order:\n",
    "\n",
    "- move wagon 1 from the east into the station and out to the west\n",
    "- move wagon 2 into the station\n",
    "- move wagon 3 into the station and out\n",
    "- move wagon 2 out of the station.\n",
    "\n",
    "The station master wants to know, given the number of wagons and their\n",
    "outgoing order, if it's possible to achieve that order."
   ]
  },
  {
   "cell_type": "code",
   "execution_count": 1,
   "metadata": {
    "execution": {
     "iopub.execute_input": "2021-09-10T15:38:47.266469Z",
     "iopub.status.busy": "2021-09-10T15:38:47.265810Z",
     "iopub.status.idle": "2021-09-10T15:38:47.269778Z",
     "shell.execute_reply": "2021-09-10T15:38:47.270413Z"
    }
   },
   "outputs": [],
   "source": [
    "%run -i ../m269_util\n",
    "\n",
    "def rearrange(wagons: int, outgoing: list) -> bool:\n",
    "    \"\"\"Can the incoming train be rearranged into outgoing?\n",
    "\n",
    "    Preconditions: wagons > 0\n",
    "    Postconditions:\n",
    "    outgoing is a permutation of the numbers from 1 to wagons\n",
    "    \"\"\"\n",
    "    pass\n",
    "\n",
    "rearrange_tests = [\n",
    "    # case,             wagons, outgoing,       rearrange?\n",
    "    ['keep order',      3,      [1, 2, 3],          True],\n",
    "    ['invert',          3,      [3, 2, 1],          True],\n",
    "    ['swap',            3,      [1, 3, 2],          True],\n",
    "    ['move to front',   5,      [5, 1, 2, 3, 4],    False],\n",
    "    # new tests:\n",
    "]\n",
    "\n",
    "test(rearrange, rearrange_tests)"
   ]
  },
  {
   "cell_type": "markdown",
   "metadata": {},
   "source": [
    "### 9.4.1 Problem definition"
   ]
  },
  {
   "cell_type": "markdown",
   "metadata": {},
   "source": [
    "#### Exercise 9.4.1"
   ]
  },
  {
   "cell_type": "markdown",
   "metadata": {},
   "source": [
    "What kind of problem is this?"
   ]
  },
  {
   "cell_type": "markdown",
   "metadata": {
    "tags": [
     "ANSWER"
    ]
   },
   "source": [
    "_Write your answer here._"
   ]
  },
  {
   "cell_type": "markdown",
   "metadata": {},
   "source": [
    "[Answer](../32_Answers/Answers_09_4_01.ipynb)"
   ]
  },
  {
   "cell_type": "markdown",
   "metadata": {},
   "source": [
    "#### Exercise 9.4.2"
   ]
  },
  {
   "cell_type": "markdown",
   "metadata": {},
   "source": [
    "Which further problem instances should be tested?\n",
    "\n",
    "Case | _wagons_ | _outgoing_ | rearrange?\n",
    ":-|:-|:-|:-\n",
    "  |   |\n",
    "\n",
    "[Answer](../32_Answers/Answers_09_4_02.ipynb)"
   ]
  },
  {
   "cell_type": "markdown",
   "metadata": {},
   "source": [
    "### 9.4.2 Algorithm and complexity"
   ]
  },
  {
   "cell_type": "markdown",
   "metadata": {},
   "source": [
    "#### Exercise 9.4.3"
   ]
  },
  {
   "cell_type": "markdown",
   "metadata": {},
   "source": [
    "Describe an algorithm and its ADT(s) to solve this problem."
   ]
  },
  {
   "cell_type": "markdown",
   "metadata": {
    "tags": [
     "ANSWER"
    ]
   },
   "source": [
    "_Write your answer here._"
   ]
  },
  {
   "cell_type": "markdown",
   "metadata": {},
   "source": [
    "[Hint](../31_Hints/Hints_09_4_03.ipynb)\n",
    "[Answer](../32_Answers/Answers_09_4_03.ipynb)"
   ]
  },
  {
   "cell_type": "markdown",
   "metadata": {},
   "source": [
    "#### Exercise 9.4.4"
   ]
  },
  {
   "cell_type": "markdown",
   "metadata": {},
   "source": [
    "What is the worst-case complexity of your algorithm?"
   ]
  },
  {
   "cell_type": "markdown",
   "metadata": {
    "tags": [
     "ANSWER"
    ]
   },
   "source": [
    "_Write your answer here._"
   ]
  },
  {
   "cell_type": "markdown",
   "metadata": {},
   "source": [
    "[Hint](../31_Hints/Hints_09_4_04.ipynb)\n",
    "[Answer](../32_Answers/Answers_09_4_04.ipynb)"
   ]
  },
  {
   "cell_type": "markdown",
   "metadata": {},
   "source": [
    "### 9.4.3 Code and tests"
   ]
  },
  {
   "cell_type": "markdown",
   "metadata": {},
   "source": [
    "#### Exercise 9.4.5"
   ]
  },
  {
   "cell_type": "markdown",
   "metadata": {},
   "source": [
    "Implement and test your approach.\n",
    "Add tests according to your answer to the second exercise.\n",
    "\n",
    "[Hint](../31_Hints/Hints_09_4_05.ipynb)\n",
    "[Answer](../32_Answers/Answers_09_4_05.ipynb)"
   ]
  },
  {
   "cell_type": "markdown",
   "metadata": {},
   "source": [
    "⟵ [Previous section](09_3_voucher.ipynb) | [Up](09-introduction.ipynb) | [Next section](09_5_browsing.ipynb) ⟶"
   ]
  }
 ],
 "metadata": {
  "kernelspec": {
   "display_name": "Python 3",
   "language": "python",
   "name": "python3"
  },
  "language_info": {
   "codemirror_mode": {
    "name": "ipython",
    "version": 3
   },
   "file_extension": ".py",
   "mimetype": "text/x-python",
   "name": "python",
   "nbconvert_exporter": "python",
   "pygments_lexer": "ipython3",
   "version": "3.8.5"
  }
 },
 "nbformat": 4,
 "nbformat_minor": 4
}
