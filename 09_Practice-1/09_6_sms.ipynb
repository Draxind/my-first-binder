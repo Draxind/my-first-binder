{
 "cells": [
  {
   "cell_type": "markdown",
   "metadata": {},
   "source": [
    "## 9.6 SMS"
   ]
  },
  {
   "cell_type": "markdown",
   "metadata": {},
   "source": [
    "Text messaging apps suggest completions for the word you're typing.\n",
    "Mobile phones usually don't have space for more than three suggestions.\n",
    "As there can be many words starting with the characters you typed so far,\n",
    "one way to reduce the suggestions is to associate a numeric score to each word\n",
    "and suggest only those with the highest scores. For example,\n",
    "a word's score can be based on how frequently it occurs in English texts.\n",
    "\n",
    "In this problem you are going to implement two operations:\n",
    "\n",
    "- completions: given a prefix string, return a sequence of the three\n",
    "  highest-scoring words that start with that prefix, ordered by descending score\n",
    "- initialisation: given each word and its score, in no particular order,\n",
    "  create a collection for the first operation to use.\n",
    "\n",
    "\n",
    "The completions operation returns the first three\n",
    "(or fewer if there aren't three) words that start with the given prefix,\n",
    "when ordered by descending score. When several words have the same score,\n",
    "it doesn't matter which get into the top three.\n",
    "\n",
    "Here are some examples if the words and their scores are 'hello'/10, 'hi'/9,\n",
    "'here'/ 5, 'there'/5 and 'hickup'/1:\n",
    "\n",
    "Prefix | Completions\n",
    ":-|:-\n",
    "''  |  ('hello', 'hi', 'here') or ('hello', 'hi', 'there')\n",
    "'ha'  |  ()\n",
    "'he'  | ('hello', 'here')\n",
    "\n",
    "Some mobile phones have less memory, some have a slower CPU.\n",
    "You are asked for two different approaches, to support a space–time tradeoff."
   ]
  },
  {
   "cell_type": "markdown",
   "metadata": {},
   "source": [
    "### 9.6.1 First approach"
   ]
  },
  {
   "cell_type": "markdown",
   "metadata": {},
   "source": [
    "#### Exercise 9.6.1"
   ]
  },
  {
   "cell_type": "markdown",
   "metadata": {},
   "source": [
    "Think of an approach that uses little memory\n",
    "besides the memory needed for storing all words.\n",
    "Describe the algorithm and ADT(s) for each operation, and\n",
    "their complexities in terms of the total number of words.\n",
    "Distinguish between best- and worst-case complexities if necessary.\n",
    "\n",
    "The initialisation is done once, during the phone's software installation, so\n",
    "it doesn't have to be efficient.\n",
    "The completions operation should preferably take less than quadratic time.\n",
    "\n",
    "[Hint](../31_Hints/Hints_09_6_01.ipynb)\n",
    "[Answer](../32_Answers/Answers_09_6_01.ipynb)"
   ]
  },
  {
   "cell_type": "markdown",
   "metadata": {},
   "source": [
    "#### Exercise 9.6.2"
   ]
  },
  {
   "cell_type": "markdown",
   "metadata": {},
   "source": [
    "Implement your approach by completing and running the following code cell.\n",
    "The `__init__` method includes code to read the words and scores from a file.\n",
    "You don't have to understand or change that code.\n",
    "\n",
    "The file used in the tests is in the same folder as this notebook and\n",
    "contains 100 common English words. You don't have to add tests."
   ]
  },
  {
   "cell_type": "code",
   "execution_count": 1,
   "metadata": {
    "execution": {
     "iopub.execute_input": "2021-09-10T15:38:52.520683Z",
     "iopub.status.busy": "2021-09-10T15:38:52.519830Z",
     "iopub.status.idle": "2021-09-10T15:38:52.526597Z",
     "shell.execute_reply": "2021-09-10T15:38:52.527294Z"
    }
   },
   "outputs": [],
   "source": [
    "%run -i ../m269_util\n",
    "\n",
    "class SMS:\n",
    "    \"\"\"A collection of words for completing prefixes.\"\"\"\n",
    "\n",
    "    def __init__(self, filename: str) -> None:\n",
    "        \"\"\"Load the words and their scores from the given file.\n",
    "\n",
    "        Preconditions: filename is the name of a text file where\n",
    "        - each line is of the form 'word score'\n",
    "        - scores are positive integers\n",
    "        - words aren't empty nor repeated\n",
    "        \"\"\"\n",
    "        pass            # create the data structure\n",
    "        with open(filename, 'r') as infile:\n",
    "            for line in infile:\n",
    "                pair = line.split()\n",
    "                word = pair[0]\n",
    "                score = int(pair[1])\n",
    "                pass    # process the word and score\n",
    "        pass            # do any further processing\n",
    "\n",
    "    def completions(self, prefix: str) -> list:\n",
    "        \"\"\"Return the highest-scoring words starting with prefix.\n",
    "\n",
    "        Postconditions: the output is a list of at most 3 words\n",
    "        from the file, ordered by descending scores\n",
    "        \"\"\"\n",
    "        pass\n",
    "\n",
    "words_tests_100 = [\n",
    "    # case,             prefix, completions\n",
    "    ('no prefix',       '',     ['the', 'of', 'and']),\n",
    "    ('matches > 3',     'a',    ['and', 'as', 'at']),\n",
    "    ('matches = 3',     'an',   ['and', 'an', 'any']),\n",
    "    ('matches < 3',     'wi',   ['with', 'will']),\n",
    "    ('matches = 0',     'z',    []),\n",
    "    ('prefix = word',   'said', ['said']),\n",
    "    ('last words',      'y',    ['you', 'your']),\n",
    "]\n",
    "\n",
    "sms100 = SMS('100words.txt')\n",
    "test(sms100.completions, words_tests_100)"
   ]
  },
  {
   "cell_type": "markdown",
   "metadata": {},
   "source": [
    "Once your code passes the tests above,\n",
    "run the next cell, with a larger file of 10,000 English words."
   ]
  },
  {
   "cell_type": "code",
   "execution_count": 2,
   "metadata": {
    "execution": {
     "iopub.execute_input": "2021-09-10T15:38:52.532305Z",
     "iopub.status.busy": "2021-09-10T15:38:52.531582Z",
     "iopub.status.idle": "2021-09-10T15:38:52.544292Z",
     "shell.execute_reply": "2021-09-10T15:38:52.545062Z"
    }
   },
   "outputs": [],
   "source": [
    "words_tests_10000 = [\n",
    "    # case,           prefix, completions\n",
    "    ('no prefix',     '',     ['the', 'of', 'and']),\n",
    "    ('matches > 3',   'a',    ['and', 'as', 'at']),\n",
    "    ('matches = 3',   'anx',  ['anxious', 'anxiety', 'anxiously']),\n",
    "    ('matches < 3',   'tric', ['trick', 'tricks']),\n",
    "    ('matches = 0',   'glu',  []),\n",
    "    ('prefix = word', 'said', ['said']),\n",
    "    ('last words',    'zo',   ['zone']),\n",
    "]\n",
    "\n",
    "sms10000 = SMS('10000words.txt')\n",
    "test(sms10000.completions, words_tests_10000)"
   ]
  },
  {
   "cell_type": "markdown",
   "metadata": {},
   "source": [
    "[Hint](../31_Hints/Hints_09_6_02.ipynb)\n",
    "[Answer](../32_Answers/Answers_09_6_02.ipynb)"
   ]
  },
  {
   "cell_type": "markdown",
   "metadata": {},
   "source": [
    "#### Exercise 9.6.3"
   ]
  },
  {
   "cell_type": "markdown",
   "metadata": {},
   "source": [
    "Usually the suggestions are updated after each keystroke.\n",
    "Your code should be able to produce three suggestions within 0.05&nbsp;seconds\n",
    "for a typical vocabulary of 100,000 words."
   ]
  },
  {
   "cell_type": "markdown",
   "metadata": {
    "tags": [
     "INFO"
    ]
   },
   "source": [
    "<div class=\"alert alert-info\">\n",
    "<strong>Info:</strong> Jakob Nielsen states in\n",
    "[Powers of 10: Time Scales in User Experience](https://www.nngroup.com/articles/powers-of-10-time-scales-in-ux/)\n",
    "that 0.1&nbsp;seconds is the time limit for 'users to feel\n",
    "like their actions are directly causing something to happen on the screen'.\n",
    "To simplify, I allocate the same time for computing the suggestions\n",
    "and for displaying them on screen. Hence the 0.05&nbsp;seconds limit.\n",
    "</div>"
   ]
  },
  {
   "cell_type": "markdown",
   "metadata": {},
   "source": [
    "Run the next cell. What's the worst time you expect for 100 thousand words?\n",
    "Is it under the 0.05&nbsp;s limit?"
   ]
  },
  {
   "cell_type": "markdown",
   "metadata": {
    "tags": [
     "ANSWER"
    ]
   },
   "source": [
    "_Write your answer here._"
   ]
  },
  {
   "cell_type": "code",
   "execution_count": 3,
   "metadata": {
    "execution": {
     "iopub.execute_input": "2021-09-10T15:38:52.579523Z",
     "iopub.status.busy": "2021-09-10T15:38:52.563285Z",
     "iopub.status.idle": "2021-09-10T15:38:52.614885Z",
     "shell.execute_reply": "2021-09-10T15:38:52.615640Z"
    }
   },
   "outputs": [],
   "source": [
    "print('100 words:')\n",
    "for test in words_tests_100:\n",
    "    prefix = test[1]\n",
    "    print(\"'\" + prefix + \"'\")\n",
    "    %timeit -r 5 -n 10000 sms100.completions(prefix)\n",
    "print('\\n10,000 words:')\n",
    "for test in words_tests_10000:\n",
    "    prefix = test[1]\n",
    "    print(\"'\" + prefix + \"'\")\n",
    "    %timeit  -r 5 -n 1000 sms10000.completions(prefix)"
   ]
  },
  {
   "cell_type": "markdown",
   "metadata": {},
   "source": [
    "[Hint](../31_Hints/Hints_09_6_03.ipynb)\n",
    "[Answer](../32_Answers/Answers_09_6_03.ipynb)"
   ]
  },
  {
   "cell_type": "markdown",
   "metadata": {},
   "source": [
    "### 9.6.2 Second approach"
   ]
  },
  {
   "cell_type": "markdown",
   "metadata": {},
   "source": [
    "#### Exercise 9.6.4"
   ]
  },
  {
   "cell_type": "markdown",
   "metadata": {},
   "source": [
    "Think of a different approach to solve the same problem.\n",
    "Aim to make the completions operation as fast as possible.\n",
    "You can use as much extra memory as needed.\n",
    "You can assume that any operation that is linear in the length of a word takes\n",
    "in effect constant time, because the length of commonly used words is bounded.\n",
    "\n",
    "Again, describe the ADT(s), algorithms and their complexities\n",
    "for both operations.\n",
    "\n",
    "[Hint](../31_Hints/Hints_09_6_04.ipynb)\n",
    "[Answer](../32_Answers/Answers_09_6_04.ipynb)"
   ]
  },
  {
   "cell_type": "markdown",
   "metadata": {},
   "source": [
    "#### Exercise 9.6.5 (optional)"
   ]
  },
  {
   "cell_type": "markdown",
   "metadata": {},
   "source": [
    "Copy the code cell with the class to below this paragraph and\n",
    "implement the second approach.\n",
    "Run the cell again, but this time with the timing code."
   ]
  },
  {
   "cell_type": "markdown",
   "metadata": {},
   "source": [
    "⟵ [Previous section](09_5_browsing.ipynb) | [Up](09-introduction.ipynb) | [Next section](../10_TMA01-2/10-introduction.ipynb) ⟶"
   ]
  }
 ],
 "metadata": {
  "kernelspec": {
   "display_name": "Python 3",
   "language": "python",
   "name": "python3"
  },
  "language_info": {
   "codemirror_mode": {
    "name": "ipython",
    "version": 3
   },
   "file_extension": ".py",
   "mimetype": "text/x-python",
   "name": "python",
   "nbconvert_exporter": "python",
   "pygments_lexer": "ipython3",
   "version": "3.8.5"
  }
 },
 "nbformat": 4,
 "nbformat_minor": 4
}
