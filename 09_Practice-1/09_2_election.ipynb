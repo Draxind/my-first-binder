{
 "cells": [
  {
   "cell_type": "markdown",
   "metadata": {},
   "source": [
    "## 9.2 Election"
   ]
  },
  {
   "cell_type": "markdown",
   "metadata": {},
   "source": [
    "Given a list of votes, each vote being the name of a candidate,\n",
    "which candidate won the election?\n",
    "The votes are in the order they were cast.\n",
    "If two or more candidates are tied, a second round is needed."
   ]
  },
  {
   "cell_type": "code",
   "execution_count": 1,
   "metadata": {
    "execution": {
     "iopub.execute_input": "2021-09-10T15:38:42.000594Z",
     "iopub.status.busy": "2021-09-10T15:38:41.999857Z",
     "iopub.status.idle": "2021-09-10T15:38:42.003955Z",
     "shell.execute_reply": "2021-09-10T15:38:42.004654Z"
    }
   },
   "outputs": [],
   "source": [
    "%run -i ../m269_util\n",
    "\n",
    "def winner(votes: list) -> str:\n",
    "    \"\"\"Return the most frequent string in votes, a list of strings.\n",
    "\n",
    "    Preconditions:\n",
    "    - votes isn't empty and doesn't have the string 'round 2'\n",
    "    Postconditions:\n",
    "    - return 'round 2' if two or more strings are equally frequent\n",
    "    \"\"\"\n",
    "    pass\n",
    "\n",
    "winner_tests = [\n",
    "    # case,         votes,                              name\n",
    "    ['2 of 2 tied', ['Alice', 'Bob', 'Bob', 'Alice'],   'round 2'],\n",
    "    ['1 of 2 wins', ['Alice', 'Bob', 'Alice', 'Alice'], 'Alice'  ],\n",
    "    ['1 of 3 wins', ['Bob', 'Chan', 'Chan', 'Alice'],   'Chan'   ],\n",
    "    # new tests:\n",
    "]\n",
    "\n",
    "test(winner, winner_tests)"
   ]
  },
  {
   "cell_type": "markdown",
   "metadata": {},
   "source": [
    "### 9.2.1 Problem definition"
   ]
  },
  {
   "cell_type": "markdown",
   "metadata": {},
   "source": [
    "#### Exercise 9.2.1"
   ]
  },
  {
   "cell_type": "markdown",
   "metadata": {},
   "source": [
    "Which further problem instances should be tested?\n",
    "\n",
    "Case | _votes_ | _name_\n",
    ":-|:-|:-\n",
    "  |   |\n",
    "\n",
    "\n",
    "[Hint](../31_Hints/Hints_09_2_01.ipynb)\n",
    "[Answer](../32_Answers/Answers_09_2_01.ipynb)"
   ]
  },
  {
   "cell_type": "markdown",
   "metadata": {},
   "source": [
    "### 9.2.2 Algorithm and complexity"
   ]
  },
  {
   "cell_type": "markdown",
   "metadata": {},
   "source": [
    "#### Exercise 9.2.2"
   ]
  },
  {
   "cell_type": "markdown",
   "metadata": {},
   "source": [
    "Describe an algorithm and its ADT(s) to solve this problem."
   ]
  },
  {
   "cell_type": "markdown",
   "metadata": {
    "tags": [
     "ANSWER"
    ]
   },
   "source": [
    "_Write your answer here._"
   ]
  },
  {
   "cell_type": "markdown",
   "metadata": {},
   "source": [
    "[Hint](../31_Hints/Hints_09_2_02.ipynb)\n",
    "[Answer](../32_Answers/Answers_09_2_02.ipynb)"
   ]
  },
  {
   "cell_type": "markdown",
   "metadata": {},
   "source": [
    "#### Exercise 9.2.3"
   ]
  },
  {
   "cell_type": "markdown",
   "metadata": {},
   "source": [
    "What is the worst-case complexity of your algorithm?"
   ]
  },
  {
   "cell_type": "markdown",
   "metadata": {
    "tags": [
     "ANSWER"
    ]
   },
   "source": [
    "_Write your answer here._"
   ]
  },
  {
   "cell_type": "markdown",
   "metadata": {},
   "source": [
    "[Hint](../31_Hints/Hints_09_2_03.ipynb)\n",
    "[Answer](../32_Answers/Answers_09_2_03.ipynb)"
   ]
  },
  {
   "cell_type": "markdown",
   "metadata": {},
   "source": [
    "#### Exercise 9.2.4"
   ]
  },
  {
   "cell_type": "markdown",
   "metadata": {},
   "source": [
    "Consider the following description of an algorithm:\n",
    "\n",
    "> Count all votes.\n",
    "> Sort the candidate–vote pairs in decreasing order of their votes.\n",
    "> If there's only one candidate, that's the winner.\n",
    "> Otherwise, check if the first two candidates are tied.\n",
    "\n",
    "Is it more efficient than yours?"
   ]
  },
  {
   "cell_type": "markdown",
   "metadata": {
    "tags": [
     "ANSWER"
    ]
   },
   "source": [
    "_Write your answer here._"
   ]
  },
  {
   "cell_type": "markdown",
   "metadata": {},
   "source": [
    "[Hint](../31_Hints/Hints_09_2_04.ipynb)\n",
    "[Answer](../32_Answers/Answers_09_2_04.ipynb)"
   ]
  },
  {
   "cell_type": "markdown",
   "metadata": {},
   "source": [
    "### 9.2.3 Code and tests"
   ]
  },
  {
   "cell_type": "markdown",
   "metadata": {},
   "source": [
    "#### Exercise 9.2.5"
   ]
  },
  {
   "cell_type": "markdown",
   "metadata": {},
   "source": [
    "Implement and test your approach.\n",
    "Add tests according to your answer to the first exercise.\n",
    "\n",
    "[Hint](../31_Hints/Hints_09_2_05.ipynb)\n",
    "[Answer](../32_Answers/Answers_09_2_05.ipynb)"
   ]
  },
  {
   "cell_type": "markdown",
   "metadata": {},
   "source": [
    "⟵ [Previous section](09_1_pangram.ipynb) | [Up](09-introduction.ipynb) | [Next section](09_3_voucher.ipynb) ⟶"
   ]
  }
 ],
 "metadata": {
  "kernelspec": {
   "display_name": "Python 3",
   "language": "python",
   "name": "python3"
  },
  "language_info": {
   "codemirror_mode": {
    "name": "ipython",
    "version": 3
   },
   "file_extension": ".py",
   "mimetype": "text/x-python",
   "name": "python",
   "nbconvert_exporter": "python",
   "pygments_lexer": "ipython3",
   "version": "3.8.5"
  }
 },
 "nbformat": 4,
 "nbformat_minor": 4
}
