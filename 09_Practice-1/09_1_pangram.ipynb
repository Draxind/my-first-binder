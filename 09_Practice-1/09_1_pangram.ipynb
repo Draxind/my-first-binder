{
 "cells": [
  {
   "cell_type": "markdown",
   "metadata": {},
   "source": [
    "## 9.1 Pangram"
   ]
  },
  {
   "cell_type": "markdown",
   "metadata": {},
   "source": [
    "A pangram is some text containing all letters of the alphabet.\n",
    "Pangrams are used to illustrate fonts, to check that keyboards work,\n",
    "to test cryptographic protocols, etc. The most famous pangram in English is\n",
    "'The quick brown fox jumps over the lazy dog'.\n",
    "Given a string, find which letters must be added for it to become a pangram.\n",
    "\n",
    "Here's the code for you to complete.\n",
    "Read it and then go through the questions below."
   ]
  },
  {
   "cell_type": "code",
   "execution_count": 1,
   "metadata": {
    "execution": {
     "iopub.execute_input": "2021-09-10T15:38:39.246970Z",
     "iopub.status.busy": "2021-09-10T15:38:39.246114Z",
     "iopub.status.idle": "2021-09-10T15:38:39.249966Z",
     "shell.execute_reply": "2021-09-10T15:38:39.250673Z"
    }
   },
   "outputs": [],
   "source": [
    "%run -i ../m269_util\n",
    "\n",
    "def missing_letters(text: str) -> str:\n",
    "    \"\"\"Return all English alphabet letters that aren't in text.\n",
    "\n",
    "    Preconditions: all letters in text are lowercase\n",
    "    Postconditions: the output are the letters from a to z that\n",
    "    don't occur in text, in alphabetical order\n",
    "    \"\"\"\n",
    "    pass\n",
    "\n",
    "PANGRAM = 'The quick brown fox jumps over the lazy dog.'\n",
    "\n",
    "missing_letters_tests = [\n",
    "    # case,         text,                           missing\n",
    "    ['pangram',     PANGRAM,                        ''],\n",
    "    ['no vowels',   'bcd fgh jklmn pqrst vwxyz',    'aeiou'],\n",
    "    # new tests:\n",
    "]\n",
    "\n",
    "test(missing_letters, missing_letters_tests)"
   ]
  },
  {
   "cell_type": "markdown",
   "metadata": {},
   "source": [
    "In the following exercises, assume the input and output variables\n",
    "are called _text_ and _missing_, as in the test table comment above."
   ]
  },
  {
   "cell_type": "markdown",
   "metadata": {},
   "source": [
    "### 9.1.1 Problem definition"
   ]
  },
  {
   "cell_type": "markdown",
   "metadata": {},
   "source": [
    "#### Exercise 9.1.1"
   ]
  },
  {
   "cell_type": "markdown",
   "metadata": {},
   "source": [
    "Which further problem instances should be tested?\n",
    "\n",
    "Case | _text_ | _missing_\n",
    ":-|:-|:-\n",
    "  |   |\n",
    "\n",
    "\n",
    "[Hint](../31_Hints/Hints_09_1_01.ipynb)\n",
    "[Answer](../32_Answers/Answers_09_1_01.ipynb)"
   ]
  },
  {
   "cell_type": "markdown",
   "metadata": {},
   "source": [
    "### 9.1.2 Algorithm and complexity"
   ]
  },
  {
   "cell_type": "markdown",
   "metadata": {},
   "source": [
    "#### Exercise 9.1.2"
   ]
  },
  {
   "cell_type": "markdown",
   "metadata": {},
   "source": [
    "Describe (or write, step by step) two different algorithms to solve the problem\n",
    "and the ADT(s) they use."
   ]
  },
  {
   "cell_type": "markdown",
   "metadata": {
    "tags": [
     "ANSWER"
    ]
   },
   "source": [
    "_Write your answer here._"
   ]
  },
  {
   "cell_type": "markdown",
   "metadata": {},
   "source": [
    "[Hint](../31_Hints/Hints_09_1_02.ipynb)\n",
    "[Answer](../32_Answers/Answers_09_1_02.ipynb)"
   ]
  },
  {
   "cell_type": "markdown",
   "metadata": {},
   "source": [
    "#### Exercise 9.1.3"
   ]
  },
  {
   "cell_type": "markdown",
   "metadata": {},
   "source": [
    "What are the best- and worst-case complexities of each algorithm?"
   ]
  },
  {
   "cell_type": "markdown",
   "metadata": {
    "tags": [
     "ANSWER"
    ]
   },
   "source": [
    "_Write your answer here._"
   ]
  },
  {
   "cell_type": "markdown",
   "metadata": {},
   "source": [
    "[Hint](../31_Hints/Hints_09_1_03.ipynb)\n",
    "[Answer](../32_Answers/Answers_09_1_03.ipynb)"
   ]
  },
  {
   "cell_type": "markdown",
   "metadata": {},
   "source": [
    "#### Exercise 9.1.4"
   ]
  },
  {
   "cell_type": "markdown",
   "metadata": {},
   "source": [
    "Which algorithm do you think is the more efficient one?\n",
    "Take into account the complexity, the actual operations carried out and\n",
    "the memory used by each algorithm."
   ]
  },
  {
   "cell_type": "markdown",
   "metadata": {
    "tags": [
     "ANSWER"
    ]
   },
   "source": [
    "_Write your answer here._"
   ]
  },
  {
   "cell_type": "markdown",
   "metadata": {},
   "source": [
    "[Hint](../31_Hints/Hints_09_1_04.ipynb)\n",
    "[Answer](../32_Answers/Answers_09_1_04.ipynb)"
   ]
  },
  {
   "cell_type": "markdown",
   "metadata": {},
   "source": [
    "### 9.1.3 Code and tests"
   ]
  },
  {
   "cell_type": "markdown",
   "metadata": {},
   "source": [
    "#### Exercise 9.1.5"
   ]
  },
  {
   "cell_type": "markdown",
   "metadata": {},
   "source": [
    "Implement and test your chosen approach in the code cell above.\n",
    "Add tests according to your answer to the first exercise.\n",
    "\n",
    "[Answer](../32_Answers/Answers_09_1_05.ipynb)"
   ]
  },
  {
   "cell_type": "markdown",
   "metadata": {},
   "source": [
    "#### Exercise 9.1.6 (optional)"
   ]
  },
  {
   "cell_type": "markdown",
   "metadata": {},
   "source": [
    "Implement the other algorithm and compare the run-times.\n",
    "\n",
    "[Hint](../31_Hints/Hints_09_1_06.ipynb)"
   ]
  },
  {
   "cell_type": "markdown",
   "metadata": {},
   "source": [
    "⟵ [Previous section](09-introduction.ipynb) | [Up](09-introduction.ipynb) | [Next section](09_2_election.ipynb) ⟶"
   ]
  }
 ],
 "metadata": {
  "kernelspec": {
   "display_name": "Python 3",
   "language": "python",
   "name": "python3"
  },
  "language_info": {
   "codemirror_mode": {
    "name": "ipython",
    "version": 3
   },
   "file_extension": ".py",
   "mimetype": "text/x-python",
   "name": "python",
   "nbconvert_exporter": "python",
   "pygments_lexer": "ipython3",
   "version": "3.8.5"
  }
 },
 "nbformat": 4,
 "nbformat_minor": 4
}
