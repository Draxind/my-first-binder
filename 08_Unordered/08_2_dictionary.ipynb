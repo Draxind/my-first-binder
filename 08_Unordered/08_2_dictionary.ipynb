{
 "cells": [
  {
   "cell_type": "markdown",
   "metadata": {},
   "source": [
    "## 8.2 Dictionaries"
   ]
  },
  {
   "cell_type": "markdown",
   "metadata": {},
   "source": [
    "Python's `dict` class implements a restricted form of maps.\n",
    "In M269, 'dictionary' (without any further qualification)\n",
    "refers to an object of type `dict`."
   ]
  },
  {
   "cell_type": "markdown",
   "metadata": {
    "tags": [
     "INFO"
    ]
   },
   "source": [
    "<div class=\"alert alert-info\">\n",
    "<strong>Info:</strong> TM112 introduces Python dictionaries in Block&nbsp;3 Section&nbsp;2.1.\n",
    "Some texts use 'dictionary' as a synonym for 'map'.\n",
    "</div>"
   ]
  },
  {
   "cell_type": "markdown",
   "metadata": {},
   "source": [
    "The operations are written in Python as follows, using the familiar list\n",
    "notation, but using keys instead of 0, 1, 2, etc. as 'indices':\n",
    "\n",
    "Operation | Python\n",
    ":-|:-\n",
    "new  |  `d = dict()`\n",
    "size  |  `len(d)`\n",
    "membership  |  `key in d`\n",
    "associate  |  `d[key] = value`\n",
    "lookup |  `d[key]`\n",
    "delete  | `d.pop(key)`\n",
    "\n",
    "Like for lists, the `pop` method returns the associated value,\n",
    "and the negation of membership can be written `key not in d`.\n",
    "\n",
    "We can represent the bilingual dictionary with a Python dictionary\n",
    "in which the keys are strings and the values are lists of strings."
   ]
  },
  {
   "cell_type": "code",
   "execution_count": 1,
   "metadata": {
    "execution": {
     "iopub.execute_input": "2021-09-10T15:38:15.916287Z",
     "iopub.status.busy": "2021-09-10T15:38:15.915544Z",
     "iopub.status.idle": "2021-09-10T15:38:15.918152Z",
     "shell.execute_reply": "2021-09-10T15:38:15.918800Z"
    }
   },
   "outputs": [
    {
     "data": {
      "text/plain": [
       "True"
      ]
     },
     "execution_count": 1,
     "metadata": {},
     "output_type": "execute_result"
    }
   ],
   "source": [
    "pt_to_en = dict()   # Portuguese to English dictionary\n",
    "pt_to_en['alface'] = ['lattice']\n",
    "pt_to_en['alface'] = ['lettuce']    # replace wrong entry\n",
    "pt_to_en['carro'] = ['car']\n",
    "pt_to_en['andar'] = ['floor', 'walk']\n",
    "'carro' in pt_to_en"
   ]
  },
  {
   "cell_type": "markdown",
   "metadata": {},
   "source": [
    "Dictionaries are iterable."
   ]
  },
  {
   "cell_type": "code",
   "execution_count": 2,
   "metadata": {
    "execution": {
     "iopub.execute_input": "2021-09-10T15:38:15.922165Z",
     "iopub.status.busy": "2021-09-10T15:38:15.921650Z",
     "iopub.status.idle": "2021-09-10T15:38:15.924239Z",
     "shell.execute_reply": "2021-09-10T15:38:15.924835Z"
    }
   },
   "outputs": [
    {
     "name": "stdout",
     "output_type": "stream",
     "text": [
      "alface means lettuce\n",
      "carro means car\n",
      "andar means floor\n",
      "andar means walk\n"
     ]
    }
   ],
   "source": [
    "for word in pt_to_en:   # iterate over the keys\n",
    "    for translation in pt_to_en[word]:\n",
    "        print(word, 'means', translation)"
   ]
  },
  {
   "cell_type": "markdown",
   "metadata": {},
   "source": [
    "Python's implementation of maps guarantees that keys are iterated\n",
    "in the same order they were added or last updated,\n",
    "but you shouldn't rely on that in your M269 algorithms\n",
    "to keep them working with any implementation of the map ADT.\n",
    "\n",
    "The `items` method returns a list-like object of tuples,\n",
    "one for each key–value pair. It's mostly used in for-loops."
   ]
  },
  {
   "cell_type": "code",
   "execution_count": 3,
   "metadata": {
    "execution": {
     "iopub.execute_input": "2021-09-10T15:38:15.929183Z",
     "iopub.status.busy": "2021-09-10T15:38:15.928315Z",
     "iopub.status.idle": "2021-09-10T15:38:15.930794Z",
     "shell.execute_reply": "2021-09-10T15:38:15.931391Z"
    }
   },
   "outputs": [
    {
     "name": "stdout",
     "output_type": "stream",
     "text": [
      "alface means lettuce\n",
      "carro means car\n",
      "andar means floor\n",
      "andar means walk\n"
     ]
    }
   ],
   "source": [
    "for pair in pt_to_en.items():\n",
    "    word = pair[0]\n",
    "    for translation in pair[1]:\n",
    "        print(word, 'means', translation)"
   ]
  },
  {
   "cell_type": "markdown",
   "metadata": {},
   "source": [
    "Python allows the following shorthand notation."
   ]
  },
  {
   "cell_type": "code",
   "execution_count": 4,
   "metadata": {
    "execution": {
     "iopub.execute_input": "2021-09-10T15:38:15.936155Z",
     "iopub.status.busy": "2021-09-10T15:38:15.935406Z",
     "iopub.status.idle": "2021-09-10T15:38:15.938863Z",
     "shell.execute_reply": "2021-09-10T15:38:15.938260Z"
    }
   },
   "outputs": [
    {
     "name": "stdout",
     "output_type": "stream",
     "text": [
      "alface means lettuce\n",
      "carro means car\n",
      "andar means floor\n",
      "andar means walk\n"
     ]
    }
   ],
   "source": [
    "for (word, translations) in pt_to_en.items():\n",
    "    for translation in translations:\n",
    "        print(word, 'means', translation)"
   ]
  },
  {
   "cell_type": "markdown",
   "metadata": {},
   "source": [
    "Dictionary literals are written as comma-separated pairs within curly braces.\n",
    "A colon separates each key from the corresponding value.\n",
    "Here's a shorter way of defining the bilingual dictionary."
   ]
  },
  {
   "cell_type": "code",
   "execution_count": 5,
   "metadata": {
    "execution": {
     "iopub.execute_input": "2021-09-10T15:38:15.945124Z",
     "iopub.status.busy": "2021-09-10T15:38:15.944286Z",
     "iopub.status.idle": "2021-09-10T15:38:15.946564Z",
     "shell.execute_reply": "2021-09-10T15:38:15.947261Z"
    }
   },
   "outputs": [],
   "source": [
    "pt_to_en = {\n",
    "    'alface': ['lettuce'],\n",
    "    'carro': ['car'],\n",
    "    'andar': ['floor', 'walk']\n",
    "}"
   ]
  },
  {
   "cell_type": "markdown",
   "metadata": {
    "tags": [
     "NOTE"
    ]
   },
   "source": [
    "<div class=\"alert alert-warning\">\n",
    "<strong>Note:</strong> The empty dictionary can be written as <code>{}</code>, but in M269 we use <code>dict()</code>\n",
    "instead, to avoid confusion with another data type, to be introduced later.\n",
    "</div>"
   ]
  },
  {
   "cell_type": "markdown",
   "metadata": {},
   "source": [
    "Dictionary keys may be integers that, unlike list indices,\n",
    "don't have to be consecutive.\n",
    "Here's a dictionary of addresses.\n",
    "The keys are the house numbers; the values are the residents' names."
   ]
  },
  {
   "cell_type": "code",
   "execution_count": 6,
   "metadata": {
    "execution": {
     "iopub.execute_input": "2021-09-10T15:38:15.952007Z",
     "iopub.status.busy": "2021-09-10T15:38:15.951314Z",
     "iopub.status.idle": "2021-09-10T15:38:15.953173Z",
     "shell.execute_reply": "2021-09-10T15:38:15.954054Z"
    }
   },
   "outputs": [],
   "source": [
    "our_houses = {23: 'Alice', 45: 'Bob'}"
   ]
  },
  {
   "cell_type": "markdown",
   "metadata": {},
   "source": [
    "We can check if two dictionaries have the same key–value pairs or not\n",
    "with the (in)equality operators.\n",
    "In a dictionary, the key–value pairs are in no particular order."
   ]
  },
  {
   "cell_type": "code",
   "execution_count": 7,
   "metadata": {
    "execution": {
     "iopub.execute_input": "2021-09-10T15:38:15.958363Z",
     "iopub.status.busy": "2021-09-10T15:38:15.957612Z",
     "iopub.status.idle": "2021-09-10T15:38:15.960709Z",
     "shell.execute_reply": "2021-09-10T15:38:15.961475Z"
    }
   },
   "outputs": [
    {
     "data": {
      "text/plain": [
       "True"
      ]
     },
     "execution_count": 1,
     "metadata": {},
     "output_type": "execute_result"
    }
   ],
   "source": [
    "our_street = {45: 'Bob', 23: 'Alice'}\n",
    "our_street == our_houses"
   ]
  },
  {
   "cell_type": "code",
   "execution_count": 8,
   "metadata": {
    "execution": {
     "iopub.execute_input": "2021-09-10T15:38:15.966418Z",
     "iopub.status.busy": "2021-09-10T15:38:15.965665Z",
     "iopub.status.idle": "2021-09-10T15:38:15.968426Z",
     "shell.execute_reply": "2021-09-10T15:38:15.969090Z"
    }
   },
   "outputs": [
    {
     "data": {
      "text/plain": [
       "True"
      ]
     },
     "execution_count": 1,
     "metadata": {},
     "output_type": "execute_result"
    }
   ],
   "source": [
    "our_street != {45: 'Bob', 23: 'Alissa'}"
   ]
  },
  {
   "cell_type": "markdown",
   "metadata": {},
   "source": [
    "Like sequences, maps may be nested, i.e.\n",
    "the value associated to a key may be a map.\n",
    "For the bilingual dictionary, this could be used to distinguish the\n",
    "meanings of a word.\n",
    "For example, if 'andar' is used as a noun, then its translation is 'floor', whereas if 'andar' is used as a verb, then its translation is 'walk'."
   ]
  },
  {
   "cell_type": "code",
   "execution_count": 9,
   "metadata": {
    "execution": {
     "iopub.execute_input": "2021-09-10T15:38:15.973482Z",
     "iopub.status.busy": "2021-09-10T15:38:15.972758Z",
     "iopub.status.idle": "2021-09-10T15:38:15.974976Z",
     "shell.execute_reply": "2021-09-10T15:38:15.975695Z"
    }
   },
   "outputs": [],
   "source": [
    "pt2en = {\n",
    "    'alface': {'noun': 'lettuce'},\n",
    "    'carro': {'noun': 'car'},\n",
    "    'andar': {'noun': 'floor', 'verb': 'walk'}\n",
    "}"
   ]
  },
  {
   "cell_type": "markdown",
   "metadata": {},
   "source": [
    "We access inner dictionary values in the same way as nested list items."
   ]
  },
  {
   "cell_type": "code",
   "execution_count": 10,
   "metadata": {
    "execution": {
     "iopub.execute_input": "2021-09-10T15:38:15.979745Z",
     "iopub.status.busy": "2021-09-10T15:38:15.979117Z",
     "iopub.status.idle": "2021-09-10T15:38:15.981711Z",
     "shell.execute_reply": "2021-09-10T15:38:15.982435Z"
    }
   },
   "outputs": [
    {
     "name": "stdout",
     "output_type": "stream",
     "text": [
      "walk\n",
      "walk\n"
     ]
    }
   ],
   "source": [
    "inner_dictionary = pt2en['andar']\n",
    "print(inner_dictionary['verb'])\n",
    "print(pt2en['andar']['verb'])   # shorter alternative"
   ]
  },
  {
   "cell_type": "markdown",
   "metadata": {},
   "source": [
    "### 8.2.1 Mistakes"
   ]
  },
  {
   "cell_type": "markdown",
   "metadata": {},
   "source": [
    "Accessing or deleting a non-existent key raises a **key error**."
   ]
  },
  {
   "cell_type": "code",
   "execution_count": 11,
   "metadata": {
    "execution": {
     "iopub.execute_input": "2021-09-10T15:38:15.986096Z",
     "iopub.status.busy": "2021-09-10T15:38:15.985434Z",
     "iopub.status.idle": "2021-09-10T15:38:16.069878Z",
     "shell.execute_reply": "2021-09-10T15:38:16.070391Z"
    }
   },
   "outputs": [
    {
     "ename": "KeyError",
     "evalue": "'car'",
     "output_type": "error",
     "traceback": [
      "\u001b[0;31m---------------------------------------------------------------------------\u001b[0m",
      "\u001b[0;31mKeyError\u001b[0m                                  Traceback (most recent call last)",
      "\u001b[0;32m<ipython-input-1-5c54dd2ed1fa>\u001b[0m in \u001b[0;36m<module>\u001b[0;34m\u001b[0m\n\u001b[0;32m----> 1\u001b[0;31m \u001b[0mpt_to_en\u001b[0m\u001b[0;34m[\u001b[0m\u001b[0;34m'car'\u001b[0m\u001b[0;34m]\u001b[0m     \u001b[0;31m# 'car' is among the values, not the keys\u001b[0m\u001b[0;34m\u001b[0m\u001b[0;34m\u001b[0m\u001b[0m\n\u001b[0m",
      "\u001b[0;31mKeyError\u001b[0m: 'car'"
     ]
    }
   ],
   "source": [
    "pt_to_en['car']     # 'car' is among the values, not the keys"
   ]
  },
  {
   "cell_type": "markdown",
   "metadata": {},
   "source": [
    "Dictionaries only retrieve data and check membership by key, not by value."
   ]
  },
  {
   "cell_type": "code",
   "execution_count": 12,
   "metadata": {
    "execution": {
     "iopub.execute_input": "2021-09-10T15:38:16.073438Z",
     "iopub.status.busy": "2021-09-10T15:38:16.072928Z",
     "iopub.status.idle": "2021-09-10T15:38:16.075214Z",
     "shell.execute_reply": "2021-09-10T15:38:16.075665Z"
    }
   },
   "outputs": [
    {
     "data": {
      "text/plain": [
       "True"
      ]
     },
     "execution_count": 1,
     "metadata": {},
     "output_type": "execute_result"
    }
   ],
   "source": [
    "'carro' in pt_to_en"
   ]
  },
  {
   "cell_type": "code",
   "execution_count": 13,
   "metadata": {
    "execution": {
     "iopub.execute_input": "2021-09-10T15:38:16.078586Z",
     "iopub.status.busy": "2021-09-10T15:38:16.077945Z",
     "iopub.status.idle": "2021-09-10T15:38:16.080042Z",
     "shell.execute_reply": "2021-09-10T15:38:16.080497Z"
    }
   },
   "outputs": [
    {
     "data": {
      "text/plain": [
       "False"
      ]
     },
     "execution_count": 1,
     "metadata": {},
     "output_type": "execute_result"
    }
   ],
   "source": [
    "'car' in pt_to_en"
   ]
  },
  {
   "cell_type": "markdown",
   "metadata": {},
   "source": [
    "Keys can't be added or removed while iterating over a dictionary."
   ]
  },
  {
   "cell_type": "code",
   "execution_count": 14,
   "metadata": {
    "execution": {
     "iopub.execute_input": "2021-09-10T15:38:16.084619Z",
     "iopub.status.busy": "2021-09-10T15:38:16.083991Z",
     "iopub.status.idle": "2021-09-10T15:38:16.088954Z",
     "shell.execute_reply": "2021-09-10T15:38:16.089665Z"
    }
   },
   "outputs": [
    {
     "ename": "RuntimeError",
     "evalue": "dictionary changed size during iteration",
     "output_type": "error",
     "traceback": [
      "\u001b[0;31m---------------------------------------------------------------------------\u001b[0m",
      "\u001b[0;31mRuntimeError\u001b[0m                              Traceback (most recent call last)",
      "\u001b[0;32m<ipython-input-1-23e9673c05cd>\u001b[0m in \u001b[0;36m<module>\u001b[0;34m\u001b[0m\n\u001b[1;32m      1\u001b[0m \u001b[0mroman_to_arabic\u001b[0m \u001b[0;34m=\u001b[0m \u001b[0;34m{\u001b[0m\u001b[0;34m'I'\u001b[0m\u001b[0;34m:\u001b[0m \u001b[0;36m1\u001b[0m\u001b[0;34m,\u001b[0m \u001b[0;34m'V'\u001b[0m\u001b[0;34m:\u001b[0m \u001b[0;36m5\u001b[0m\u001b[0;34m,\u001b[0m \u001b[0;34m'X'\u001b[0m\u001b[0;34m:\u001b[0m \u001b[0;36m10\u001b[0m\u001b[0;34m,\u001b[0m \u001b[0;34m'L'\u001b[0m\u001b[0;34m:\u001b[0m \u001b[0;36m50\u001b[0m\u001b[0;34m}\u001b[0m\u001b[0;34m\u001b[0m\u001b[0;34m\u001b[0m\u001b[0m\n\u001b[0;32m----> 2\u001b[0;31m \u001b[0;32mfor\u001b[0m \u001b[0;34m(\u001b[0m\u001b[0mkey\u001b[0m\u001b[0;34m,\u001b[0m \u001b[0mvalue\u001b[0m\u001b[0;34m)\u001b[0m \u001b[0;32min\u001b[0m \u001b[0mroman_to_arabic\u001b[0m\u001b[0;34m.\u001b[0m\u001b[0mitems\u001b[0m\u001b[0;34m(\u001b[0m\u001b[0;34m)\u001b[0m\u001b[0;34m:\u001b[0m\u001b[0;34m\u001b[0m\u001b[0;34m\u001b[0m\u001b[0m\n\u001b[0m\u001b[1;32m      3\u001b[0m     \u001b[0mroman_to_arabic\u001b[0m\u001b[0;34m[\u001b[0m\u001b[0mkey\u001b[0m\u001b[0;34m+\u001b[0m\u001b[0;34m'I'\u001b[0m\u001b[0;34m]\u001b[0m \u001b[0;34m=\u001b[0m \u001b[0mvalue\u001b[0m\u001b[0;34m+\u001b[0m\u001b[0;36m1\u001b[0m\u001b[0;34m\u001b[0m\u001b[0;34m\u001b[0m\u001b[0m\n",
      "\u001b[0;31mRuntimeError\u001b[0m: dictionary changed size during iteration"
     ]
    }
   ],
   "source": [
    "roman_to_arabic = {'I': 1, 'V': 5, 'X': 10, 'L': 50}\n",
    "for (key, value) in roman_to_arabic.items():\n",
    "    roman_to_arabic[key+'I'] = value+1"
   ]
  },
  {
   "cell_type": "markdown",
   "metadata": {},
   "source": [
    "You may however change the values."
   ]
  },
  {
   "cell_type": "code",
   "execution_count": 15,
   "metadata": {
    "execution": {
     "iopub.execute_input": "2021-09-10T15:38:16.093154Z",
     "iopub.status.busy": "2021-09-10T15:38:16.092659Z",
     "iopub.status.idle": "2021-09-10T15:38:16.094836Z",
     "shell.execute_reply": "2021-09-10T15:38:16.095338Z"
    }
   },
   "outputs": [
    {
     "data": {
      "text/plain": [
       "{'trousers': 0, 't-shirt': 0, 'dress': 0}"
      ]
     },
     "execution_count": 1,
     "metadata": {},
     "output_type": "execute_result"
    }
   ],
   "source": [
    "stock = {'trousers': 5, 't-shirt': 20, 'dress': 12}\n",
    "for (key, value) in stock.items():\n",
    "    stock[key] = 0      # all sold out\n",
    "stock"
   ]
  },
  {
   "cell_type": "markdown",
   "metadata": {},
   "source": [
    "Dictionaries implement a restricted map ADT:\n",
    "keys can only be of types for which there's a hash function\n",
    "and that doesn't include lists and dictionaries. For example, consider a map of\n",
    "office building pairs to the names of their occupants. The keys can't be lists:"
   ]
  },
  {
   "cell_type": "code",
   "execution_count": 16,
   "metadata": {
    "execution": {
     "iopub.execute_input": "2021-09-10T15:38:16.098841Z",
     "iopub.status.busy": "2021-09-10T15:38:16.098194Z",
     "iopub.status.idle": "2021-09-10T15:38:16.103476Z",
     "shell.execute_reply": "2021-09-10T15:38:16.103943Z"
    }
   },
   "outputs": [
    {
     "ename": "TypeError",
     "evalue": "unhashable type: 'list'",
     "output_type": "error",
     "traceback": [
      "\u001b[0;31m---------------------------------------------------------------------------\u001b[0m",
      "\u001b[0;31mTypeError\u001b[0m                                 Traceback (most recent call last)",
      "\u001b[0;32m<ipython-input-1-ae8d1f76d85e>\u001b[0m in \u001b[0;36m<module>\u001b[0;34m\u001b[0m\n\u001b[0;32m----> 1\u001b[0;31m employee_by_location = {    # occupants of each building's offices\n\u001b[0m\u001b[1;32m      2\u001b[0m     \u001b[0;34m[\u001b[0m\u001b[0;34m'Main building'\u001b[0m\u001b[0;34m,\u001b[0m \u001b[0;36m4\u001b[0m\u001b[0;34m]\u001b[0m\u001b[0;34m:\u001b[0m \u001b[0;34m[\u001b[0m\u001b[0;34m'Alice'\u001b[0m\u001b[0;34m,\u001b[0m \u001b[0;34m'Chan'\u001b[0m\u001b[0;34m]\u001b[0m\u001b[0;34m,\u001b[0m\u001b[0;34m\u001b[0m\u001b[0;34m\u001b[0m\u001b[0m\n\u001b[1;32m      3\u001b[0m     \u001b[0;34m[\u001b[0m\u001b[0;34m'Annex'\u001b[0m\u001b[0;34m,\u001b[0m \u001b[0;36m3\u001b[0m\u001b[0;34m]\u001b[0m\u001b[0;34m:\u001b[0m \u001b[0;34m[\u001b[0m\u001b[0;34m'Bob'\u001b[0m\u001b[0;34m]\u001b[0m\u001b[0;34m\u001b[0m\u001b[0;34m\u001b[0m\u001b[0m\n\u001b[1;32m      4\u001b[0m }\n",
      "\u001b[0;31mTypeError\u001b[0m: unhashable type: 'list'"
     ]
    }
   ],
   "source": [
    "employee_by_location = {    # occupants of each building's offices\n",
    "    ['Main building', 4]: ['Alice', 'Chan'],\n",
    "    ['Annex', 3]: ['Bob']\n",
    "}"
   ]
  },
  {
   "cell_type": "markdown",
   "metadata": {},
   "source": [
    "We get a type error: lists are unhashable and thus the wrong type of key.\n",
    "The keys must be tuples:"
   ]
  },
  {
   "cell_type": "code",
   "execution_count": 17,
   "metadata": {
    "execution": {
     "iopub.execute_input": "2021-09-10T15:38:16.106739Z",
     "iopub.status.busy": "2021-09-10T15:38:16.106258Z",
     "iopub.status.idle": "2021-09-10T15:38:16.107933Z",
     "shell.execute_reply": "2021-09-10T15:38:16.108382Z"
    }
   },
   "outputs": [],
   "source": [
    "employee_by_location = {\n",
    "    ('Main building', 4): ['Alice', 'Chan'],\n",
    "    ('Annex', 3): ['Bob']\n",
    "}"
   ]
  },
  {
   "cell_type": "markdown",
   "metadata": {},
   "source": [
    "Using a list or a dictionary as part of a key also leads to a key error.\n",
    "For example, `('Bob', [1, 'Jan', 1970])` and\n",
    "`('Bob', {'day': 1, 'month: '1', 'year': 1970})` aren't valid Python keys, but\n",
    "`('Bob', '1 Jan 1970')` and `('Bob', (1, 1, 1970))` are.\n",
    "Fortunately, most applications of dictionaries don't need complicated keys:\n",
    "integers, strings or tuples of both will suffice.\n",
    "\n",
    "I explain in the next section why tuples are hashable but why lists aren't."
   ]
  },
  {
   "cell_type": "markdown",
   "metadata": {},
   "source": [
    "#### Exercise 8.2.1"
   ]
  },
  {
   "cell_type": "markdown",
   "metadata": {},
   "source": [
    "Why can't we create a bilingual dictionary like this?"
   ]
  },
  {
   "cell_type": "code",
   "execution_count": 18,
   "metadata": {
    "execution": {
     "iopub.execute_input": "2021-09-10T15:38:16.111896Z",
     "iopub.status.busy": "2021-09-10T15:38:16.111427Z",
     "iopub.status.idle": "2021-09-10T15:38:16.112854Z",
     "shell.execute_reply": "2021-09-10T15:38:16.113298Z"
    }
   },
   "outputs": [],
   "source": [
    "bilingual = dict()\n",
    "bilingual['alface'] = 'lettuce'\n",
    "bilingual['carro'] = 'car'\n",
    "bilingual['andar'] = 'floor'\n",
    "bilingual['andar'] = 'walk'"
   ]
  },
  {
   "cell_type": "markdown",
   "metadata": {
    "tags": [
     "ANSWER"
    ]
   },
   "source": [
    "_Write your answer here._"
   ]
  },
  {
   "cell_type": "markdown",
   "metadata": {},
   "source": [
    "[Answer](../32_Answers/Answers_08_2_01.ipynb)"
   ]
  },
  {
   "cell_type": "markdown",
   "metadata": {},
   "source": [
    "### 8.2.2 Using dictionaries"
   ]
  },
  {
   "cell_type": "markdown",
   "metadata": {},
   "source": [
    "To further illustrate the dictionary operations, let's consider the problem of\n",
    "inverting a map, i.e. swapping keys and values, for bilingual dictionaries.\n",
    "\n",
    "**Function**: invert\\\n",
    "**Inputs**: _original_, a map with strings as keys and sequences of strings as values\\\n",
    "**Preconditions**: true\\\n",
    "**Output**: _inverted_, a map with strings as keys and sequences of strings as values\\\n",
    "**Postconditions:** _inverted_(_word_) has _translation_ if and only if\n",
    "_original_(_translation_) has _word_\n",
    "\n",
    "The postconditions state that string _a_ translates to string _b_ in\n",
    "the inverted map if and only if _b_ translates to _a_ in the original map.\n",
    "\n",
    "For testing I will use an empty map (edge case) and\n",
    "the Portuguese–English dictionary.\n",
    "The inversion of the former is the empty map; the inversion of the latter is:\n",
    "\n",
    "Key (English) | Value (Portuguese)\n",
    ":-|:-\n",
    "'lettuce'  |  ('alface')\n",
    "'car'  |  ('carro')\n",
    "'walk'  |  ('andar')\n",
    "'floor'  |  ('andar')\n",
    "\n",
    "Unfortunately, this isn't a very good test because the inverted dictionary\n",
    "doesn't have multiple Portuguese translations for the same English word.\n",
    "Let's add another translation of 'floor': 'chão'.\n",
    "Since I have to change the Portuguese–English dictionary anyhow,\n",
    "I add an edge case for the value: an empty sequence,\n",
    "i.e. I add a Portuguese word but no English translation.\n",
    "Here are the two new dictionaries: the input and the expected output.\n",
    "\n",
    "Key (Portuguese) | Value (English) | Key (English) | Value (Portuguese)\n",
    ":-|:-|-:|:-\n",
    "'alface' | ('lettuce') | 'lettuce'  |  ('alface')\n",
    "'carro' | ('car') | 'car'  |  ('carro')\n",
    "'andar' | ('floor', 'walk') | 'walk'  |  ('andar')\n",
    "'chão'  | ('floor')  | 'floor'  |  ('andar', 'chão')\n",
    "'saudade'  | ()  |   |"
   ]
  },
  {
   "cell_type": "markdown",
   "metadata": {},
   "source": [
    "#### Exercise 8.2.2"
   ]
  },
  {
   "cell_type": "markdown",
   "metadata": {},
   "source": [
    "Describe an algorithm that creates the right-hand side dictionary from\n",
    "the one on the left-hand side."
   ]
  },
  {
   "cell_type": "markdown",
   "metadata": {
    "tags": [
     "ANSWER"
    ]
   },
   "source": [
    "_Write your answer here._"
   ]
  },
  {
   "cell_type": "markdown",
   "metadata": {},
   "source": [
    "[Hint](../31_Hints/Hints_08_2_02.ipynb)\n",
    "[Answer](../32_Answers/Answers_08_2_02.ipynb)"
   ]
  },
  {
   "cell_type": "markdown",
   "metadata": {},
   "source": [
    "#### Exercise 8.2.3"
   ]
  },
  {
   "cell_type": "markdown",
   "metadata": {},
   "source": [
    "Implement the algorithm to replace `pass` in the function below.\n",
    "You don't need to add further tests."
   ]
  },
  {
   "cell_type": "code",
   "execution_count": 19,
   "metadata": {
    "execution": {
     "iopub.execute_input": "2021-09-10T15:38:16.120938Z",
     "iopub.status.busy": "2021-09-10T15:38:16.120310Z",
     "iopub.status.idle": "2021-09-10T15:38:16.123517Z",
     "shell.execute_reply": "2021-09-10T15:38:16.124168Z"
    }
   },
   "outputs": [],
   "source": [
    "%run -i ../m269_util\n",
    "\n",
    "def invert(original: dict) -> dict:\n",
    "    \"\"\"Return the inverted dictionary.\n",
    "\n",
    "    In both dictionaries, the keys are strings and\n",
    "    the values are lists of strings.\n",
    "\n",
    "    Postconditions:\n",
    "    word1 in output[word2] if and only if word2 in original[word1]\n",
    "    \"\"\"\n",
    "    inverted = dict()\n",
    "    pass\n",
    "    return inverted\n",
    "\n",
    "pt_to_en = {\n",
    "    'carro': ['car'],\n",
    "    'andar': ['floor', 'walk'],     # as in 'second floor'\n",
    "    'chão': ['floor'],              # as in 'wooden floor'\n",
    "    'saudade': []                   # translation omitted\n",
    "}\n",
    "\n",
    "en_to_pt = {\n",
    "    'car' : ['carro'],\n",
    "    'walk': ['andar'],\n",
    "    'floor': ['andar', 'chão']\n",
    "}\n",
    "\n",
    "invert_tests = [\n",
    "    #case,              a_to_b,             inverted\n",
    "    ('no words',        dict(),             dict()),\n",
    "    ('pt_to_en',        pt_to_en,           en_to_pt)\n",
    "]\n",
    "\n",
    "test(invert, invert_tests)"
   ]
  },
  {
   "cell_type": "markdown",
   "metadata": {},
   "source": [
    "[Answer](../32_Answers/Answers_08_2_03.ipynb)"
   ]
  },
  {
   "cell_type": "markdown",
   "metadata": {},
   "source": [
    "#### Optional exercises"
   ]
  },
  {
   "cell_type": "markdown",
   "metadata": {},
   "source": [
    "The Kattis Guide lists further [problems on dictionaries](https://mwermelinger.github.io/kattis-guide/unordered.html#dictionaries)."
   ]
  },
  {
   "cell_type": "markdown",
   "metadata": {},
   "source": [
    "⟵ [Previous section](08_1_map.ipynb) | [Up](08-introduction.ipynb) | [Next section](08_3_hash_table.ipynb) ⟶"
   ]
  }
 ],
 "metadata": {
  "kernelspec": {
   "display_name": "Python 3",
   "language": "python",
   "name": "python3"
  },
  "language_info": {
   "codemirror_mode": {
    "name": "ipython",
    "version": 3
   },
   "file_extension": ".py",
   "mimetype": "text/x-python",
   "name": "python",
   "nbconvert_exporter": "python",
   "pygments_lexer": "ipython3",
   "version": "3.8.5"
  }
 },
 "nbformat": 4,
 "nbformat_minor": 4
}
