{
 "cells": [
  {
   "cell_type": "markdown",
   "metadata": {},
   "source": [
    "## 8.4 Sets"
   ]
  },
  {
   "cell_type": "markdown",
   "metadata": {},
   "source": [
    "A **set** is an unordered collection of unique items, i.e. without duplicates.\n",
    "The items in a set are traditionally called its elements or members.\n",
    "In mathematics a set is written with curly braces.\n",
    "For example, {1, 2, 'hi'} and {'hi', 2, 1} are the same heterogeneous set,\n",
    "as the order in which we list set members doesn't matter."
   ]
  },
  {
   "cell_type": "markdown",
   "metadata": {},
   "source": [
    "### 8.4.1 The set ADT"
   ]
  },
  {
   "cell_type": "markdown",
   "metadata": {},
   "source": [
    "The set ADT supports the following operations:\n",
    "\n",
    "Operation | Effect | Maths | English\n",
    ":-|:-|:-|:-\n",
    "new  | create new set  | let _s_ be {}  |  let _s_ be the empty set\n",
    "size  | the number of elements  | │*s*│ | │*s*│\n",
    "membership  | check if item _i_ is in _s_  | $i \\in s$  | _i_ in _s_\n",
    "add  | add an item _i_ to _s_  |   |   add _i_ to _s_\n",
    "remove  | take an item _i_ from _s_  |   | remove _i_ from _s_\n",
    "intersection  | the items in _s1_ and in _s2_ | $s1 \\cap s2$  |  intersection of _s1_ and _s2_\n",
    "union  | the items in _s1_ or in _s2_   | $s1 \\cup s2$  | union of _s1_ and _s2_\n",
    "difference  | the items in _s1_ but not in _s2_  | _s1_ − _s2_  | _s1_ − _s2_\n",
    "\n",
    "Some examples of the above operations:\n",
    "\n",
    "- {1, 2, 3} $\\cup$  {4, 5, 2} = {1, 2, 3, 4, 5}\n",
    "- {1, 2, 3} − {4, 5, 2} = {1, 3}\n",
    "- {1, 2, 3} $\\cap$ {4, 5, 2} = {2}\n",
    "- {1, 2, 3} $\\cap$ {4, 5, 6} = {}\n",
    "\n",
    "Two sets are said to be **disjoint** if they have no common elements:\n",
    "their intersection is the empty set.\n",
    "\n",
    "Adding an item corresponds to doing 'let _s_ be _s_ $\\cup$ {_i_}'.\n",
    "Removing an item corresponds to doing 'let _s_ be _s_ − {_i_}'.\n",
    "Adding an already existing item or removing an inexistent item\n",
    "has therefore no effect on the set.\n",
    "\n",
    "The set ADT also includes comparison operations.\n",
    "Two sets can be compared for (in)equality, e.g. {1, 2, 3} = {3, 1, 2}\n",
    "but {1, 2, 3} ≠ {3, 1, 4}.\n",
    "\n",
    "A set _A_ is a **subset** of _B_, and _B_ and **superset** of _A_,\n",
    "written _A_ $\\subseteq$ _B_ or _B_ $\\supseteq$ _A_,\n",
    "if every item of _A_ is also in _B_.\n",
    "Set _A_ is a **proper** subset of _B_, written _A_ $\\subset$ _B_\n",
    "(or _B_ is a proper superset of _A_, written _B_ $\\supset$ _A_),\n",
    "if _A_ $\\subseteq$ _B_ and _A_ ≠  _B_.\n",
    "For example, {1, 2} $\\subset$ {1, 2, 3}."
   ]
  },
  {
   "cell_type": "markdown",
   "metadata": {
    "tags": [
     "INFO"
    ]
   },
   "source": [
    "<div class=\"alert alert-info\">\n",
    "<strong>Info:</strong> The size of a set is also known as its cardinality.\n",
    "The difference operation is also written $s1 \\setminus s2$.\n",
    "The empty set is also written as $\\emptyset$.\n",
    "MST124 Unit&nbsp;3 Section&nbsp;1.1 introduces sets of real numbers and set notation.\n",
    "</div>"
   ]
  },
  {
   "cell_type": "markdown",
   "metadata": {},
   "source": [
    "### 8.4.2 Sets in Python"
   ]
  },
  {
   "cell_type": "markdown",
   "metadata": {},
   "source": [
    "Python has a built-in class `set` to represent sets.\n",
    "Set literals are written as comma-separated items within curly braces,\n",
    "e.g. `{1, 2, 3}`. Python sets are iterable.\n",
    "The operations are written as follows.\n",
    "\n",
    "Operation | Python\n",
    ":-|:-\n",
    "new  | `s = set()`\n",
    "size  | `len(s)`\n",
    "membership  |  `item in s` or `item not in s`\n",
    "add  |  `s.add(item)`\n",
    "remove  |  `s.discard(item)`\n",
    "union  | `s1.union(s2)`\n",
    "intersection  | `s1 & s2` or `s1.intersection(s2)`\n",
    "difference  | `s1 - s2` or `s1.difference(s2)`\n",
    "\n",
    "The union operation can also be written as `s1 | s2`."
   ]
  },
  {
   "cell_type": "markdown",
   "metadata": {
    "tags": [
     "NOTE"
    ]
   },
   "source": [
    "<div class=\"alert alert-warning\">\n",
    "<strong>Note:</strong> In Python, <code>{}</code> represents the empty dictionary, not the empty set,\n",
    "so always use <code>set()</code> instead.\n",
    "</div>"
   ]
  },
  {
   "cell_type": "markdown",
   "metadata": {},
   "source": [
    "The last three operations create a new set: they don't modify either input set.\n",
    "Here's a simple example with positive integers."
   ]
  },
  {
   "cell_type": "code",
   "execution_count": 1,
   "metadata": {
    "execution": {
     "iopub.execute_input": "2021-09-10T15:38:21.708395Z",
     "iopub.status.busy": "2021-09-10T15:38:21.707819Z",
     "iopub.status.idle": "2021-09-10T15:38:21.710033Z",
     "shell.execute_reply": "2021-09-10T15:38:21.710619Z"
    }
   },
   "outputs": [
    {
     "name": "stdout",
     "output_type": "stream",
     "text": [
      "all: {1, 2, 3, 4, 5, 6}\n",
      "even primes: {2}\n",
      "odd primes (primes that aren't even): {3, 5}\n",
      "even numbers that aren't prime: {4, 6}\n"
     ]
    }
   ],
   "source": [
    "odd = {1, 3, 5}\n",
    "even = {2, 4, 6}\n",
    "prime = {2, 3, 5}\n",
    "print('all:', odd | even)\n",
    "print('even primes:', even & prime)\n",
    "print(\"odd primes (primes that aren't even):\", prime - even)\n",
    "print(\"even numbers that aren't prime:\", even - prime)"
   ]
  },
  {
   "cell_type": "markdown",
   "metadata": {},
   "source": [
    "Note that the IPython interpreter displays set members in sorted order.\n",
    "Internally, the items may be stored in any order, e.g.\n",
    "`odd | even` may be stored as {1, 3, 5, 2, 4, 6}."
   ]
  },
  {
   "cell_type": "markdown",
   "metadata": {
    "tags": [
     "NOTE"
    ]
   },
   "source": [
    "<div class=\"alert alert-warning\">\n",
    "<strong>Note:</strong> Your algorithms on sets must not rely on any particular order of the items.\n",
    "</div>"
   ]
  },
  {
   "cell_type": "markdown",
   "metadata": {},
   "source": [
    "#### Exercise 8.4.1"
   ]
  },
  {
   "cell_type": "markdown",
   "metadata": {},
   "source": [
    "Write alternative expressions for the even primes and the odd primes,\n",
    "without using the set `even`."
   ]
  },
  {
   "cell_type": "markdown",
   "metadata": {
    "tags": [
     "ANSWER"
    ]
   },
   "source": [
    "_Write your answer here._"
   ]
  },
  {
   "cell_type": "markdown",
   "metadata": {},
   "source": [
    "[Hint](../31_Hints/Hints_08_4_01.ipynb)\n",
    "[Answer](../32_Answers/Answers_08_4_01.ipynb)\n",
    "\n",
    "It's possible to build expressions from these operations.\n",
    "Their associativity and precedence in relation to other operations is\n",
    "as follows, with highest precedence at the top of the table.\n",
    "\n",
    "Operators | Associativity\n",
    ":-|:-\n",
    "arithmetic  |  left (except for exponentiation and negation)\n",
    "intersection  |  left\n",
    "union  |  left\n",
    "comparison and membership  |  left\n",
    "logical  |  left (except negation)\n",
    "\n",
    "The set difference operator has the same precedence and associativity as\n",
    "arithmetic difference (subtraction).\n",
    "The set membership operator has the same precedence and associativity\n",
    "as membership for other collections. In the next example,\n",
    "'number' refers to a positive integer."
   ]
  },
  {
   "cell_type": "code",
   "execution_count": 2,
   "metadata": {
    "execution": {
     "iopub.execute_input": "2021-09-10T15:38:21.715398Z",
     "iopub.status.busy": "2021-09-10T15:38:21.714720Z",
     "iopub.status.idle": "2021-09-10T15:38:21.716844Z",
     "shell.execute_reply": "2021-09-10T15:38:21.717392Z"
    }
   },
   "outputs": [
    {
     "name": "stdout",
     "output_type": "stream",
     "text": [
      "all: {1, 2, 3, 4, 5, 6}\n",
      "odd numbers that aren't even primes {1, 3, 5}\n",
      "non-prime odd numbers that are even: set()\n",
      "prime numbers that are odd or even {2, 3, 5}\n",
      "numbers that are even primes or odd {1, 2, 3, 5}\n"
     ]
    }
   ],
   "source": [
    "print('all:', odd | even | prime)\n",
    "print(\"odd numbers that aren't even primes\", odd - (prime & even))\n",
    "print(\"non-prime odd numbers that are even:\", odd - prime & even)\n",
    "print(\"prime numbers that are odd or even\", (odd | even) & prime)\n",
    "print(\"numbers that are even primes or odd\", odd | even & prime)"
   ]
  },
  {
   "cell_type": "markdown",
   "metadata": {},
   "source": [
    "Like for Boolean expressions, it's best to always put parentheses to show our\n",
    "intentions, e.g. `(odd - prime) & even` for the second expression."
   ]
  },
  {
   "cell_type": "markdown",
   "metadata": {
    "tags": [
     "NOTE"
    ]
   },
   "source": [
    "<div class=\"alert alert-warning\">\n",
    "<strong>Note:</strong> Write all parentheses in set expressions, even if they're redundant.\n",
    "</div>"
   ]
  },
  {
   "cell_type": "markdown",
   "metadata": {},
   "source": [
    "The set comparison operators are written like the arithmetic comparisons."
   ]
  },
  {
   "cell_type": "code",
   "execution_count": 3,
   "metadata": {
    "execution": {
     "iopub.execute_input": "2021-09-10T15:38:21.721054Z",
     "iopub.status.busy": "2021-09-10T15:38:21.720278Z",
     "iopub.status.idle": "2021-09-10T15:38:21.722715Z",
     "shell.execute_reply": "2021-09-10T15:38:21.723375Z"
    }
   },
   "outputs": [
    {
     "name": "stdout",
     "output_type": "stream",
     "text": [
      "are all primes odd? False\n",
      "are all odd numbers prime? False\n",
      "are some numbers not prime? True\n"
     ]
    }
   ],
   "source": [
    "print('are all primes odd?', prime <= odd)\n",
    "print('are all odd numbers prime?', odd <= prime)\n",
    "print('are some numbers not prime?', prime < odd | even)"
   ]
  },
  {
   "cell_type": "markdown",
   "metadata": {},
   "source": [
    "The last expression asks the equivalent question:\n",
    "are the prime numbers a proper subset of all numbers?\n",
    "\n",
    "Any sequence can be converted to a set of its unique items,\n",
    "using the type constructor."
   ]
  },
  {
   "cell_type": "code",
   "execution_count": 4,
   "metadata": {
    "execution": {
     "iopub.execute_input": "2021-09-10T15:38:21.730735Z",
     "iopub.status.busy": "2021-09-10T15:38:21.730071Z",
     "iopub.status.idle": "2021-09-10T15:38:21.732526Z",
     "shell.execute_reply": "2021-09-10T15:38:21.732998Z"
    }
   },
   "outputs": [
    {
     "data": {
      "text/plain": [
       "{1, 2, 3, 4, 6}"
      ]
     },
     "execution_count": 1,
     "metadata": {},
     "output_type": "execute_result"
    }
   ],
   "source": [
    "set([3, 4, 3, 6, 2, 1, 6])"
   ]
  },
  {
   "cell_type": "markdown",
   "metadata": {},
   "source": [
    "This is a shorter way of writing:"
   ]
  },
  {
   "cell_type": "code",
   "execution_count": 5,
   "metadata": {
    "execution": {
     "iopub.execute_input": "2021-09-10T15:38:21.738114Z",
     "iopub.status.busy": "2021-09-10T15:38:21.737354Z",
     "iopub.status.idle": "2021-09-10T15:38:21.739821Z",
     "shell.execute_reply": "2021-09-10T15:38:21.740543Z"
    }
   },
   "outputs": [
    {
     "data": {
      "text/plain": [
       "{1, 2, 3, 4, 6}"
      ]
     },
     "execution_count": 1,
     "metadata": {},
     "output_type": "execute_result"
    }
   ],
   "source": [
    "unique = set()\n",
    "for item in [3, 4, 3, 6, 2, 1, 6]:\n",
    "    unique.add(item)\n",
    "unique"
   ]
  },
  {
   "cell_type": "markdown",
   "metadata": {},
   "source": [
    "### 8.4.3 Implementing sets"
   ]
  },
  {
   "cell_type": "markdown",
   "metadata": {},
   "source": [
    "The set ADT can be implemented with a sequence data type, but that\n",
    "makes adding an item take linear time, to check if it's already there.\n",
    "\n",
    "A set can be seen as a map from items to Booleans, stating\n",
    "for each item if it's a member of the set.\n",
    "Therefore, any map implementation can be used to implement sets.\n",
    "For example, if the potential set members are limited and known in advance,\n",
    "we can use a lookup table of Booleans.\n",
    "Set operations like intersection are easy to implement by\n",
    "going through two lookup tables and applying Boolean operations.\n",
    "\n",
    "Python's sets are implemented with hash tables and thus items must be hashable.\n",
    "Like dictionaries, sets aren't hashable themselves and so can't be used as keys."
   ]
  },
  {
   "cell_type": "markdown",
   "metadata": {
    "tags": [
     "INFO"
    ]
   },
   "source": [
    "<div class=\"alert alert-info\">\n",
    "<strong>Info:</strong> In Java, the interface <code>Set</code> defines the set data type.\n",
    "Class <code>HashSet</code> implements the interface with a hash table.\n",
    "Both the interface and class are in package <code>java.util</code>.\n",
    "</div>"
   ]
  },
  {
   "cell_type": "markdown",
   "metadata": {},
   "source": [
    "The add, remove and membership operations take amortised constant time\n",
    "for Python sets. As for the operations on two sets _a_ and _b_,\n",
    "union has complexity Θ(│*a*│ + │*b*│),\n",
    "intersection has complexity Θ(min(│*a*│, │*b*│),\n",
    "i.e. is linear in the smallest of both sets,\n",
    "and the difference _a_ − _b_ is linear in the size of the first set: Θ(│*a*│)."
   ]
  },
  {
   "cell_type": "markdown",
   "metadata": {},
   "source": [
    "#### Exercise 8.4.2"
   ]
  },
  {
   "cell_type": "markdown",
   "metadata": {},
   "source": [
    "Explain the complexities of the union, intersection and difference operations."
   ]
  },
  {
   "cell_type": "markdown",
   "metadata": {
    "tags": [
     "ANSWER"
    ]
   },
   "source": [
    "_Write your answer here._"
   ]
  },
  {
   "cell_type": "markdown",
   "metadata": {},
   "source": [
    "[Hint](../31_Hints/Hints_08_4_02.ipynb)\n",
    "[Answer](../32_Answers/Answers_08_4_02.ipynb)"
   ]
  },
  {
   "cell_type": "markdown",
   "metadata": {},
   "source": [
    "#### Exercise 8.4.3"
   ]
  },
  {
   "cell_type": "markdown",
   "metadata": {},
   "source": [
    "Checking if two sets are disjoint can be done with the Boolean expression\n",
    "`len(s1 & s2) == 0`.\n",
    "\n",
    "1. Why isn't this an efficient way of checking disjointness?"
   ]
  },
  {
   "cell_type": "markdown",
   "metadata": {
    "tags": [
     "ANSWER"
    ]
   },
   "source": [
    "_Write your answer here._"
   ]
  },
  {
   "cell_type": "markdown",
   "metadata": {},
   "source": [
    "2. Describe a better algorithm."
   ]
  },
  {
   "cell_type": "markdown",
   "metadata": {
    "tags": [
     "ANSWER"
    ]
   },
   "source": [
    "_Write your answer here._"
   ]
  },
  {
   "cell_type": "markdown",
   "metadata": {},
   "source": [
    "3. Explain why it's better, by comparing the memory use and\n",
    "   the best- and worst-case complexities against those of the expression."
   ]
  },
  {
   "cell_type": "markdown",
   "metadata": {
    "tags": [
     "ANSWER"
    ]
   },
   "source": [
    "_Write your answer here._"
   ]
  },
  {
   "cell_type": "markdown",
   "metadata": {
    "tags": [
     "NOTE"
    ]
   },
   "source": [
    "<div class=\"alert alert-warning\">\n",
    "<strong>Note:</strong> The shortest algorithm is not necessarily the most efficient.\n",
    "</div>"
   ]
  },
  {
   "cell_type": "markdown",
   "metadata": {},
   "source": [
    "[Hint](../31_Hints/Hints_08_4_03.ipynb)\n",
    "[Answer](../32_Answers/Answers_08_4_03.ipynb)"
   ]
  },
  {
   "cell_type": "markdown",
   "metadata": {},
   "source": [
    "### 8.4.4 Using sets"
   ]
  },
  {
   "cell_type": "markdown",
   "metadata": {},
   "source": [
    "An efficient implementation of a set is very useful:\n",
    "contrary to lists, stacks and queues, it supports the\n",
    "add, remove and membership operations in constant time, for _every_ item.\n",
    "Here's a problem that uses a set just as a basic collection of items."
   ]
  },
  {
   "cell_type": "markdown",
   "metadata": {},
   "source": [
    "#### Exercise 8.4.4"
   ]
  },
  {
   "cell_type": "markdown",
   "metadata": {},
   "source": [
    "A computing society is organising a programming contest for schools.\n",
    "Each school can send up to 4 teams of students.\n",
    "Each team is identified by a string like 'DS2',\n",
    "with the team's number after the school's initials.\n",
    "The best team of each school gets a certificate.\n",
    "Given the final team ranking, compute the teams that get a certificate.\n",
    "Add tests."
   ]
  },
  {
   "cell_type": "code",
   "execution_count": 6,
   "metadata": {
    "execution": {
     "iopub.execute_input": "2021-09-10T15:38:21.748893Z",
     "iopub.status.busy": "2021-09-10T15:38:21.748211Z",
     "iopub.status.idle": "2021-09-10T15:38:21.751280Z",
     "shell.execute_reply": "2021-09-10T15:38:21.751816Z"
    }
   },
   "outputs": [],
   "source": [
    "%run -i ../m269_util\n",
    "\n",
    "def certificates(ranking: list) -> list:\n",
    "    \"\"\"Return the best team of each school.\n",
    "\n",
    "    The input and output are lists of strings (team names).\n",
    "    Each string is the name of a school and a digit from 1 to 4.\n",
    "\n",
    "    Preconditions:\n",
    "    - ranking is a non-empty list ordered from first to last team\n",
    "    - there are no duplicate teams\n",
    "    Postconditions:\n",
    "    - the output has the first team in 'ranking' of each school\n",
    "    - the output strings are in the same order as in 'ranking'\n",
    "    \"\"\"\n",
    "    best_teams = []\n",
    "    pass\n",
    "    return best_teams\n",
    "\n",
    "certificates_tests = [\n",
    "    # case,         ranking,                    certificates\n",
    "    ('3 schools',   ['C1','B2','B1','A1','C2'], ['C1','B2','A1']),\n",
    "    # new tests:\n",
    "]\n",
    "\n",
    "test(certificates, certificates_tests)"
   ]
  },
  {
   "cell_type": "markdown",
   "metadata": {},
   "source": [
    "[Hint](../31_Hints/Hints_08_4_04.ipynb)\n",
    "[Answer](../32_Answers/Answers_08_4_04.ipynb)"
   ]
  },
  {
   "cell_type": "markdown",
   "metadata": {},
   "source": [
    "#### Optional exercises"
   ]
  },
  {
   "cell_type": "markdown",
   "metadata": {},
   "source": [
    "The Kattis Guide lists further\n",
    "[problems on sets](https://mwermelinger.github.io/kattis-guide/unordered.html#sets)."
   ]
  },
  {
   "cell_type": "markdown",
   "metadata": {},
   "source": [
    "⟵ [Previous section](08_3_hash_table.ipynb) | [Up](08-introduction.ipynb) | [Next section](08_5_bag.ipynb) ⟶"
   ]
  }
 ],
 "metadata": {
  "kernelspec": {
   "display_name": "Python 3",
   "language": "python",
   "name": "python3"
  },
  "language_info": {
   "codemirror_mode": {
    "name": "ipython",
    "version": 3
   },
   "file_extension": ".py",
   "mimetype": "text/x-python",
   "name": "python",
   "nbconvert_exporter": "python",
   "pygments_lexer": "ipython3",
   "version": "3.8.5"
  }
 },
 "nbformat": 4,
 "nbformat_minor": 4
}
