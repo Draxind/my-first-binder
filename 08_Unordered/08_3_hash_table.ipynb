{
 "cells": [
  {
   "cell_type": "markdown",
   "metadata": {},
   "source": [
    "## 8.3 Hash tables"
   ]
  },
  {
   "cell_type": "markdown",
   "metadata": {},
   "source": [
    "Maps can be implemented with [lookup tables](../08_Unordered/08_1_map.ipynb#8.1.3-Lookup-tables)\n",
    "if the keys are known in advance, so that we can write a bespoke hash function\n",
    "that computes the index for each key.\n",
    "Different keys must be translated to different indices because\n",
    "each position of the lookup table only has one value of the map.\n",
    "\n",
    "In a bilingual dictionary, any string can be a key (word of the language).\n",
    "When there's a potential infinite number of keys, it's impossible\n",
    "to guarantee that each associated value ends up in a different position\n",
    "of a finite table. A simple modification of the lookup table can handle this:\n",
    "we allow multiple key–value pairs per index."
   ]
  },
  {
   "cell_type": "markdown",
   "metadata": {},
   "source": [
    "### 8.3.1 With separate chaining"
   ]
  },
  {
   "cell_type": "markdown",
   "metadata": {},
   "source": [
    "Consider a map of strings (names of employees)\n",
    "to integers (their phone extensions). If we know the employees' names, we can\n",
    "create a lookup table with as many entries as employees and\n",
    "a hash function that returns a distinct index for each employee.\n",
    "Adding, removing and replacing extensions involves obtaining the index\n",
    "and then putting, removing or replacing the integer at that position.\n",
    "Here's a small diagram for three employees Alice, Bob and Carol,\n",
    "for which the hash function returns 0, 1 and 2, respectively.\n",
    "\n",
    "![The figure shows three boxes, with indices 0, 1 and 2 next to them,\n",
    "and with numbers 312, 407 and 566 inside, respectively.\n",
    "There are three arrows leading respectively from name Alice to index&nbsp;0,\n",
    "from name Bob to index&nbsp;1 and from name Carol to index&nbsp;3.\n",
    "Above the three arrows there's the word 'hash'.](08_3_htwsc1.png)\n",
    "\n",
    "If instead the hash function has to return an index for _any_ string,\n",
    "it may happen that for these particular strings the function returns\n",
    "1 for 'Alice' and 'Bob' and 0 for 'Carol'.\n",
    "The lookup table then contains a sequence of employee-extension pairs\n",
    "at each position, with the empty sequence at index&nbsp;2.\n",
    "\n",
    "![The figure shows three boxes, with indices 0, 1 and 2 next to them,\n",
    "three names (Alice, Bob and Carol) with arrows to the indices, and\n",
    "the word 'hash' above the arrows.\n",
    "Each of the boxes has a further arrow, each leading to a separate box.\n",
    "Carol has an arrow to the box with index&nbsp;0, which in turn\n",
    "has an arrow to a box with the tuple (Carol, 566) in it.\n",
    "Alice and Bob both have arrows leading to the box with index&nbsp;1, which in turn\n",
    "has an arrow to a box divided in two: the left half has the tuple (Bob, 407)\n",
    "and the right half has the tuple (Alice, 312).\n",
    "The box with index&nbsp;2&nbsp;has no arrow leading from a name to it, but it has\n",
    "an arrow to an empty box.](08_3_htwsc2.png)\n",
    "\n",
    "A **hash table** with **separate chaining** is a lookup table\n",
    "with a sequence of key–value pairs at each position of the table.\n",
    "Each sequence is called a **slot** or **bucket** of the hash table.\n",
    "\n",
    "Here's the same hash table using Python lists."
   ]
  },
  {
   "cell_type": "code",
   "execution_count": 1,
   "metadata": {
    "execution": {
     "iopub.execute_input": "2021-09-10T15:38:18.838693Z",
     "iopub.status.busy": "2021-09-10T15:38:18.837762Z",
     "iopub.status.idle": "2021-09-10T15:38:18.841083Z",
     "shell.execute_reply": "2021-09-10T15:38:18.841727Z"
    }
   },
   "outputs": [
    {
     "data": {
      "text/plain": [
       "[[('Carol', 599)], [('Bob', 407), ('Alice', 312)], []]"
      ]
     },
     "execution_count": 1,
     "metadata": {},
     "output_type": "execute_result"
    }
   ],
   "source": [
    "[   # lookup table\n",
    "    [('Carol', 599)],               # first bucket\n",
    "    [('Bob', 407), ('Alice', 312)], # second bucket\n",
    "    []                              # third bucket\n",
    "]"
   ]
  },
  {
   "cell_type": "markdown",
   "metadata": {},
   "source": [
    "Each map operation involves obtaining the index for the given key and then\n",
    "doing a linear search for that key in the bucket at that index.\n",
    "If the key is in the map, it must be in _that_ bucket:\n",
    "no other slot has to be searched."
   ]
  },
  {
   "cell_type": "markdown",
   "metadata": {},
   "source": [
    "#### Exercise 8.3.1"
   ]
  },
  {
   "cell_type": "markdown",
   "metadata": {},
   "source": [
    "The keys are used by the hash function to know which slot a value is in.\n",
    "Why do hash tables store the keys and not just the values?"
   ]
  },
  {
   "cell_type": "markdown",
   "metadata": {
    "tags": [
     "ANSWER"
    ]
   },
   "source": [
    "_Write your answer here._"
   ]
  },
  {
   "cell_type": "markdown",
   "metadata": {},
   "source": [
    "[Hint](../31_Hints/Hints_08_3_01.ipynb)\n",
    "[Answer](../32_Answers/Answers_08_3_01.ipynb)\n",
    "\n",
    "Ideally, we want each bucket to be very short\n",
    "so that the linear search of a bucket effectively takes constant time.\n",
    "If the table has length&nbsp;1, there's a single slot with all key–value pairs.\n",
    "If the table has length&nbsp;2, then each slot has half the pairs,\n",
    "assuming the hash function distributes them equally among the buckets.\n",
    "If the table has length&nbsp;3, each slot has (hopefully) one-third of the pairs,\n",
    "and so on. The longer the table, the shorter each bucket is likely to be.\n",
    "The ratio between the number of pairs (size of the map) and\n",
    "the number of slots (size of the table) is\n",
    "the **load factor** of the hash table.\n",
    "The load factor is the average (mean) length of the slots.\n",
    "The example above has load factor 3 / 3 = 1: three items for three slots.\n",
    "The mean length of each bucket is 1.\n",
    "If there are 2 pairs and 4&nbsp;slots, then the load factor and mean slot length are 0.5.\n",
    "\n",
    "The lower the load factor, the higher the likelihood that each slot has at most\n",
    "one pair, which is ideal for performance. Unfortunately, the lower\n",
    "the load factor, the more empty slots the table has, which wastes memory.\n",
    "For example, a load factor of 0.1 means that 9 of 10&nbsp;slots are empty,\n",
    "if the pairs are uniformly distributed.\n",
    "Space–time tradeoffs pop up everywhere in algorithms and data structures.\n",
    "\n",
    "One way to get acceptable performance _and_ memory usage is\n",
    "to use a dynamic array for the table and implement a growth-and-shrink policy\n",
    "that keeps the load factor within a desired range.\n",
    "For example, to keep the load factor between 0.5 and 1,\n",
    "we double the table length when adding a pair would make the load go over 1,\n",
    "and reduce the length when removing a pair would make the load drop below 0.5.\n",
    "Whenever the number of slots changes, the indices are recomputed for all keys\n",
    "to redistribute the pairs among the new (more or fewer) slots."
   ]
  },
  {
   "cell_type": "markdown",
   "metadata": {
    "tags": [
     "INFO"
    ]
   },
   "source": [
    "<div class=\"alert alert-info\">\n",
    "<strong>Info:</strong> Hash tables with open addressing use less memory than separate chaining\n",
    "because they have at most one key–value pair per position of the lookup table.\n",
    "However, the algorithms to implement the map operations are more complicated.\n",
    "M269 doesn't cover this variant of hash tables.\n",
    "</div>"
   ]
  },
  {
   "cell_type": "markdown",
   "metadata": {
    "tags": [
     "INFO"
    ]
   },
   "source": [
    "<div class=\"alert alert-info\">\n",
    "<strong>Info:</strong> Some texts use 'dictionary' as a synonym for 'hash table'.\n",
    "In M269, a hash table is a data structure and dictionary is a Python data type.\n",
    "</div>"
   ]
  },
  {
   "cell_type": "markdown",
   "metadata": {},
   "source": [
    "### 8.3.2 Hash functions"
   ]
  },
  {
   "cell_type": "markdown",
   "metadata": {},
   "source": [
    "If a hash function is to return an index for each key, it must know the length\n",
    "of the table. What happens in practice is that hash functions are generic,\n",
    "independent of the table size, and return a potentially very large integer _h_\n",
    "for the key. The map operations then transform _h_ into a valid index. The\n",
    "easiest way is to use the modulo operation to obtain the remainder of _h_\n",
    "divided by the table length _L_. This results in an integer from 0 to _L_ − 1.\n",
    "\n",
    "Consider the earlier example and assume that\n",
    "_h_ is 4 for 'Alice', 7 for 'Bob' and 3 and for 'Carol'.\n",
    "With _L_ = 3 we obtain the key-to-index assignment as shown earlier: 'Alice'\n",
    "and 'Bob' are put in slot 4 mod 3 = 7 mod 3 = 1 and 'Carol' in slot 3 mod 3 = 0.\n",
    "If the table is resized to _L_ = 6, then 'Alice' and 'Carol' are expected\n",
    "to be in slots 4 and 3 respectively (their hash value _h_ doesn't change)\n",
    "and thus have to be put there.\n",
    "\n",
    "![The figure shows six boxes, with indices 0 to 5 next to them,\n",
    "three names (Alice, Bob and Carol) with arrows to some indices, and\n",
    "the word 'hash' above the arrows.\n",
    "Each of the boxes has a further arrow, each leading to a separate box.\n",
    "Alice has an arrow to the box with index&nbsp;4, which in turn\n",
    "has an arrow to a box with the tuple (Alice, 312) in it.\n",
    "Bob has an arrow to the box with index&nbsp;1, which in turn\n",
    "has an arrow to a box with the tuple (Bob, 407) in it.\n",
    "Carol has an arrow to the box with index&nbsp;3, which in turn\n",
    "has an arrow to a box with the tuple (Carol, 566) in it.\n",
    "The boxes with indices 0, 2 and 5&nbsp;have no arrows leading from a name to them,\n",
    "but each one has an arrow to a different empty box.](08_3_hf.png)\n",
    "\n",
    "When resizing a hash table we can't copy the slots wholesale to the same indices\n",
    "in the new static array, as we do for normal dynamic arrays: subsequent\n",
    "searches for keys would search the wrong slots and not find the keys!\n",
    "Therefore, when resizing a hash table, all indices have to be recomputed.\n",
    "This is not only useful to better redistribute the pairs when the table grows:\n",
    "it's essential for the map operations to work correctly.\n",
    "\n",
    "Writing a hash function for a particular key type is dead easy.\n",
    "Here's one for strings:\n",
    "```py\n",
    "def hash_string(string: str) -> int:\n",
    "    return 0\n",
    "```\n",
    "It's a rubbish function of course.\n",
    "It will put all keys in the first position of the table and\n",
    "all map operations will take linear time in the size of the map.\n",
    "\n",
    "Here's a slightly less worse hash function.\n",
    "```py\n",
    "def hash_string(string: str) -> int:\n",
    "    return len(string)\n",
    "```\n",
    "This one puts all strings of the same length in the same bucket.\n",
    "In most applications, the length of strings doesn't vary much.\n",
    "For example, if strings are English (or even German) words in common usage,\n",
    "then a hash table using this function would only have its first ~20&nbsp;slots occupied.\n",
    "\n",
    "This hash function is much better:"
   ]
  },
  {
   "cell_type": "code",
   "execution_count": 2,
   "metadata": {
    "execution": {
     "iopub.execute_input": "2021-09-10T15:38:18.846591Z",
     "iopub.status.busy": "2021-09-10T15:38:18.846005Z",
     "iopub.status.idle": "2021-09-10T15:38:18.848137Z",
     "shell.execute_reply": "2021-09-10T15:38:18.848754Z"
    }
   },
   "outputs": [],
   "source": [
    "def hash_string(string: str) -> int:\n",
    "    product = 1\n",
    "    for character in string:\n",
    "        product = product * ord(character)\n",
    "    return product"
   ]
  },
  {
   "cell_type": "markdown",
   "metadata": {},
   "source": [
    "The function takes each character into account.\n",
    "Strings that differ by a single character have different hash values."
   ]
  },
  {
   "cell_type": "code",
   "execution_count": 3,
   "metadata": {
    "execution": {
     "iopub.execute_input": "2021-09-10T15:38:18.852331Z",
     "iopub.status.busy": "2021-09-10T15:38:18.851656Z",
     "iopub.status.idle": "2021-09-10T15:38:18.854613Z",
     "shell.execute_reply": "2021-09-10T15:38:18.855235Z"
    }
   },
   "outputs": [
    {
     "data": {
      "text/plain": [
       "1885244446448213760"
      ]
     },
     "execution_count": 1,
     "metadata": {},
     "output_type": "execute_result"
    }
   ],
   "source": [
    "hash_string('algorithm')"
   ]
  },
  {
   "cell_type": "code",
   "execution_count": 4,
   "metadata": {
    "execution": {
     "iopub.execute_input": "2021-09-10T15:38:18.858790Z",
     "iopub.status.busy": "2021-09-10T15:38:18.857988Z",
     "iopub.status.idle": "2021-09-10T15:38:18.861258Z",
     "shell.execute_reply": "2021-09-10T15:38:18.862112Z"
    }
   },
   "outputs": [
    {
     "data": {
      "text/plain": [
       "2172519790668893952"
      ]
     },
     "execution_count": 1,
     "metadata": {},
     "output_type": "execute_result"
    }
   ],
   "source": [
    "hash_string('algorythm')"
   ]
  },
  {
   "cell_type": "markdown",
   "metadata": {},
   "source": [
    "But strings that are permutations of each other have the same hash value."
   ]
  },
  {
   "cell_type": "code",
   "execution_count": 5,
   "metadata": {
    "execution": {
     "iopub.execute_input": "2021-09-10T15:38:18.867129Z",
     "iopub.status.busy": "2021-09-10T15:38:18.866302Z",
     "iopub.status.idle": "2021-09-10T15:38:18.869081Z",
     "shell.execute_reply": "2021-09-10T15:38:18.869772Z"
    }
   },
   "outputs": [
    {
     "data": {
      "text/plain": [
       "1885244446448213760"
      ]
     },
     "execution_count": 1,
     "metadata": {},
     "output_type": "execute_result"
    }
   ],
   "source": [
    "hash_string('logarithm')    # same as for 'algorithm'"
   ]
  },
  {
   "cell_type": "markdown",
   "metadata": {},
   "source": [
    "This will lead to a **collision**:\n",
    "the different keys will be put in the same slot.\n",
    "\n",
    "The last function takes linear time in the length of the string.\n",
    "For short strings, this is equivalent to constant time,\n",
    "but if strings can have thousands of characters, e.g. they are whole documents,\n",
    "then a more efficient function may be needed.\n",
    "\n",
    "Writing hash functions is easy;\n",
    "writing efficient hash functions that reduce collisions is hard.\n",
    "Hashing algorithms are quite mathematical and not covered in M269,\n",
    "but as always there's plenty of information online if you're curious.\n",
    "\n",
    "Python has implemented hash functions for numbers, Booleans, strings and\n",
    "tuples. They can all be called via the generic `hash` function."
   ]
  },
  {
   "cell_type": "code",
   "execution_count": 6,
   "metadata": {
    "execution": {
     "iopub.execute_input": "2021-09-10T15:38:18.874161Z",
     "iopub.status.busy": "2021-09-10T15:38:18.873609Z",
     "iopub.status.idle": "2021-09-10T15:38:18.876054Z",
     "shell.execute_reply": "2021-09-10T15:38:18.876694Z"
    }
   },
   "outputs": [
    {
     "data": {
      "text/plain": [
       "7345698361631725759"
      ]
     },
     "execution_count": 1,
     "metadata": {},
     "output_type": "execute_result"
    }
   ],
   "source": [
    "hash('algorithm')"
   ]
  },
  {
   "cell_type": "code",
   "execution_count": 7,
   "metadata": {
    "execution": {
     "iopub.execute_input": "2021-09-10T15:38:18.880676Z",
     "iopub.status.busy": "2021-09-10T15:38:18.879983Z",
     "iopub.status.idle": "2021-09-10T15:38:18.882727Z",
     "shell.execute_reply": "2021-09-10T15:38:18.883404Z"
    }
   },
   "outputs": [
    {
     "data": {
      "text/plain": [
       "5477640356493261319"
      ]
     },
     "execution_count": 1,
     "metadata": {},
     "output_type": "execute_result"
    }
   ],
   "source": [
    "hash('logarithm')"
   ]
  },
  {
   "cell_type": "markdown",
   "metadata": {},
   "source": [
    "For security reasons, the hash values for strings are different between\n",
    "interpreter sessions.\n",
    "If you run the two cells above, you will get values different from mine;\n",
    "if you restart your notebook kernel and run the cells,\n",
    "you will get further different values."
   ]
  },
  {
   "cell_type": "markdown",
   "metadata": {},
   "source": [
    "### 8.3.3 Unhashable values"
   ]
  },
  {
   "cell_type": "markdown",
   "metadata": {},
   "source": [
    "You may be wondering why Python doesn't use the hash function for tuples also\n",
    "for lists and any iterable collection."
   ]
  },
  {
   "cell_type": "code",
   "execution_count": 8,
   "metadata": {
    "execution": {
     "iopub.execute_input": "2021-09-10T15:38:18.886849Z",
     "iopub.status.busy": "2021-09-10T15:38:18.886186Z",
     "iopub.status.idle": "2021-09-10T15:38:18.888947Z",
     "shell.execute_reply": "2021-09-10T15:38:18.889676Z"
    }
   },
   "outputs": [
    {
     "data": {
      "text/plain": [
       "529344067295497451"
      ]
     },
     "execution_count": 1,
     "metadata": {},
     "output_type": "execute_result"
    }
   ],
   "source": [
    "hash((1, 2, 3))"
   ]
  },
  {
   "cell_type": "code",
   "execution_count": 9,
   "metadata": {
    "execution": {
     "iopub.execute_input": "2021-09-10T15:38:18.893065Z",
     "iopub.status.busy": "2021-09-10T15:38:18.892491Z",
     "iopub.status.idle": "2021-09-10T15:38:18.974274Z",
     "shell.execute_reply": "2021-09-10T15:38:18.973564Z"
    }
   },
   "outputs": [
    {
     "ename": "TypeError",
     "evalue": "unhashable type: 'list'",
     "output_type": "error",
     "traceback": [
      "\u001b[0;31m---------------------------------------------------------------------------\u001b[0m",
      "\u001b[0;31mTypeError\u001b[0m                                 Traceback (most recent call last)",
      "\u001b[0;32m<ipython-input-1-84d65be9aa35>\u001b[0m in \u001b[0;36m<module>\u001b[0;34m\u001b[0m\n\u001b[0;32m----> 1\u001b[0;31m \u001b[0mhash\u001b[0m\u001b[0;34m(\u001b[0m\u001b[0;34m[\u001b[0m\u001b[0;36m1\u001b[0m\u001b[0;34m,\u001b[0m \u001b[0;36m2\u001b[0m\u001b[0;34m,\u001b[0m \u001b[0;36m3\u001b[0m\u001b[0;34m]\u001b[0m\u001b[0;34m)\u001b[0m\u001b[0;34m\u001b[0m\u001b[0;34m\u001b[0m\u001b[0m\n\u001b[0m",
      "\u001b[0;31mTypeError\u001b[0m: unhashable type: 'list'"
     ]
    }
   ],
   "source": [
    "hash([1, 2, 3])"
   ]
  },
  {
   "cell_type": "markdown",
   "metadata": {},
   "source": [
    "Imagine I could use lists as keys, like this:\n",
    "```py\n",
    "occupant = dict()\n",
    "office = ['Main building', 4]   # building and office number\n",
    "occupant[office] = 'Alice'\n",
    "```\n",
    "Lists are mutable, so I can change the name of the building:\n",
    "`office[0] = 'Headquarters'`.\n",
    "If I now try to obtain the occupant with the lookup operation (`occupant[office]`), what will happen?\n",
    "\n",
    "____\n",
    "\n",
    "The interpreter will compute the hash value of the office but since the office\n",
    "name changed, the hash value will almost certainly be different.\n",
    "The lookup operation will search for the office in the wrong slot,\n",
    "not find the key and raise a key error.\n",
    "\n",
    "If I try to look up the old key, the correct slot will be searched but\n",
    "since the  key has changed, the linear search won't find a match and\n",
    "raise a key error again.\n",
    "\n",
    "In summary, if a key is modified after it was inserted in the hash table, then\n",
    "neither the old nor the new key can be found again,\n",
    "because the new key is in the bucket computed for the old key.\n",
    "To avoid this problem, Python doesn't provide hash functions for\n",
    "lists and dictionaries, because they can be changed.\n",
    "\n",
    "Some other languages do allow mutable values to be used as map keys.\n",
    "One way to achieve that is to put in the map a copy of the key,\n",
    "not a reference to the key object as Python does, so that any change to the key\n",
    "after the insertion does not affect the copy that is already in the map."
   ]
  },
  {
   "cell_type": "markdown",
   "metadata": {
    "tags": [
     "INFO"
    ]
   },
   "source": [
    "<div class=\"alert alert-info\">\n",
    "<strong>Info:</strong> Hash functions are also used in cryptography and to check if a file has been\n",
    "tampered with. You may remember that the Anaconda installation instructions\n",
    "listed the MD5&nbsp;hash value that the downloaded zip archive should have.\n",
    "Hash functions for encrypting or 'fingerprinting' files have\n",
    "different requirements than those for hash tables.\n",
    "</div>"
   ]
  },
  {
   "cell_type": "markdown",
   "metadata": {},
   "source": [
    "### 8.3.4 Complexity"
   ]
  },
  {
   "cell_type": "markdown",
   "metadata": {},
   "source": [
    "Looking up, adding, removing or replacing a value in a map can take a while\n",
    "if any (or all!) of this happens:\n",
    "\n",
    "- the hash function takes linear time in the size of a key and keys are large\n",
    "- the hash function leads to many collisions\n",
    "- the actual keys used in the application are somehow 'skewed' and lead to many collisions\n",
    "- the resize policy is poor and leads to frequent reconstruction of the table.\n",
    "\n",
    "Even if a hashing algorithm is linear in the size of the key,\n",
    "for the purposes of M269 we assume that keys have a small bounded length and\n",
    "thus we consider hashing to take constant time.\n",
    "\n",
    "In the worst case, all keys end up in the same slot and every map operation\n",
    "takes linear time in the size of the map.\n",
    "In the best case, each slot has a small bounded number of key–value pairs and\n",
    "each map operation takes constant time.\n",
    "\n",
    "We assume that the resize policy leads to amortised constant time\n",
    "for each map operation.\n",
    "\n",
    "To sum up, for most applications of maps, keys are short and\n",
    "general resize policies and hashing algorithms are good enough to obtain\n",
    "map operations with amortised constant time.\n",
    "That's why hash tables are a widely used 'workhorse' data structure,\n",
    "including for implementing Python's dictionaries."
   ]
  },
  {
   "cell_type": "markdown",
   "metadata": {
    "tags": [
     "INFO"
    ]
   },
   "source": [
    "<div class=\"alert alert-info\">\n",
    "<strong>Info:</strong> Java's class <code>java.util.HashMap</code> also implements maps using hash tables.\n",
    "</div>"
   ]
  },
  {
   "cell_type": "markdown",
   "metadata": {},
   "source": [
    "Like for sequences, the complexity of the equality operation is constant\n",
    "in the best case (when the maps have different sizes) and\n",
    "linear in the size of either map in the worst case,\n",
    "because the maps have to be compared one pair at a time."
   ]
  },
  {
   "cell_type": "markdown",
   "metadata": {},
   "source": [
    "### 8.3.5 Implementation"
   ]
  },
  {
   "cell_type": "markdown",
   "metadata": {},
   "source": [
    "Here's a partial implementation of a map, using\n",
    "a hash table with separate chaining."
   ]
  },
  {
   "cell_type": "code",
   "execution_count": 10,
   "metadata": {
    "execution": {
     "iopub.execute_input": "2021-09-10T15:38:18.983974Z",
     "iopub.status.busy": "2021-09-10T15:38:18.983503Z",
     "iopub.status.idle": "2021-09-10T15:38:18.985246Z",
     "shell.execute_reply": "2021-09-10T15:38:18.985694Z"
    }
   },
   "outputs": [],
   "source": [
    "class HashMap:\n",
    "    \"\"\"An unordered collection of key-value pairs.\n",
    "\n",
    "    Keys must be unique and hashable.\n",
    "    \"\"\"\n",
    "\n",
    "    # The hash table is a dynamic array of slots.\n",
    "    # Each slot is a dynamic array of key-value pairs.\n",
    "\n",
    "    def __init__(self):\n",
    "        self.slots = [ [] ]     # start with 1 slot\n",
    "        self.size = 0\n",
    "\n",
    "    def has(self, key: object) -> bool:\n",
    "        \"\"\"Return True if and only if key is in the map.\n",
    "\n",
    "        Preconditions: key is hashable\n",
    "        \"\"\"\n",
    "        index = hash(key) % len(self.slots)\n",
    "        slot = self.slots[index]\n",
    "        # linear search of the key in the only slot it can be\n",
    "        for pair in slot:\n",
    "            if pair[0] == key:\n",
    "                return True\n",
    "        return False\n",
    "\n",
    "    def _grow(self) -> None:\n",
    "        \"\"\"Internal method to grow the dictionary if necessary.\n",
    "\n",
    "        Postconditions:\n",
    "        if pre-self has load factor 1, post-self has load factor 0.5\n",
    "        \"\"\"\n",
    "        capacity = len(self.slots)\n",
    "        if self.size == capacity:\n",
    "            # new hash table with double the slots, all empty\n",
    "            new_capacity = capacity * 2\n",
    "            new_slots = []\n",
    "            for each_slot in range(new_capacity):\n",
    "                new_slots.append([])\n",
    "            # put each pair in the correct slot in the new table\n",
    "            for slot in self.slots:\n",
    "                for pair in slot:\n",
    "                    index = hash(pair[0]) % new_capacity\n",
    "                    new_slots[index].append(pair)\n",
    "            # use the new hash table\n",
    "            self.slots = new_slots\n",
    "\n",
    "    def associate(self, key: object, value: object) -> None:\n",
    "        \"\"\"Associate value to key in the map.\n",
    "\n",
    "        Preconditions: key is hashable\n",
    "        Postconditions: looking up key in self returns value\n",
    "        \"\"\"\n",
    "        self._grow()\n",
    "        index = hash(key) % len(self.slots)\n",
    "        slot = self.slots[index]\n",
    "        for pair in slot:\n",
    "            if pair[0] == key:\n",
    "                pair[1] = value\n",
    "                return\n",
    "        slot.append( [key, value] )\n",
    "        self.size = self.size + 1"
   ]
  },
  {
   "cell_type": "markdown",
   "metadata": {},
   "source": [
    "Let's have a peek at how the hash table changes as new pairs are added.\n",
    "The following constructs a hash table of Unicode codes to characters."
   ]
  },
  {
   "cell_type": "code",
   "execution_count": 11,
   "metadata": {
    "execution": {
     "iopub.execute_input": "2021-09-10T15:38:18.989103Z",
     "iopub.status.busy": "2021-09-10T15:38:18.988561Z",
     "iopub.status.idle": "2021-09-10T15:38:18.991037Z",
     "shell.execute_reply": "2021-09-10T15:38:18.991673Z"
    }
   },
   "outputs": [
    {
     "name": "stdout",
     "output_type": "stream",
     "text": [
      "[[[97, 'a']]]\n",
      "[[[108, 'l']], [[97, 'a']]]\n",
      "[[[108, 'l']], [[97, 'a']], [], [[103, 'g']]]\n",
      "[[[108, 'l']], [[97, 'a']], [], [[103, 'g'], [111, 'o']]]\n",
      "[[], [[97, 'a']], [[114, 'r']], [], [[108, 'l']], [], [], [[103, 'g'], [111, 'o']]]\n",
      "[[], [[97, 'a'], [105, 'i']], [[114, 'r']], [], [[108, 'l']], [], [], [[103, 'g'], [111, 'o']]]\n",
      "[[], [[97, 'a'], [105, 'i']], [[114, 'r']], [], [[108, 'l'], [116, 't']], [], [], [[103, 'g'], [111, 'o']]]\n",
      "[[[104, 'h']], [[97, 'a'], [105, 'i']], [[114, 'r']], [], [[108, 'l'], [116, 't']], [], [], [[103, 'g'], [111, 'o']]]\n",
      "[[], [[97, 'a']], [[114, 'r']], [], [[116, 't']], [], [], [[103, 'g']], [[104, 'h']], [[105, 'i']], [], [], [[108, 'l']], [[109, 'm']], [], [[111, 'o']]]\n"
     ]
    }
   ],
   "source": [
    "characters = HashMap()\n",
    "for letter in 'algorithm':\n",
    "    characters.associate(ord(letter), letter)\n",
    "    print(characters.slots)\n",
    "for letter in 'moralgith':      # test membership operation\n",
    "    if not characters.has(ord(letter)):\n",
    "        print('error: missing', letter)"
   ]
  },
  {
   "cell_type": "markdown",
   "metadata": {},
   "source": [
    "Note how pairs move around as the table grows. For example,\n",
    "'l' and its code move across slots 0, 4 and 12.\n",
    "Pairs that are in the same bucket for a while, like 'g' and 'o',\n",
    "end up in separate buckets when the table gets larger."
   ]
  },
  {
   "cell_type": "markdown",
   "metadata": {},
   "source": [
    "#### Exercise 8.3.2"
   ]
  },
  {
   "cell_type": "markdown",
   "metadata": {},
   "source": [
    "Some Python interpreters also store the hash value of each key in the table,\n",
    "i.e. each slot has hash–key–value triples rather than key–value pairs.\n",
    "Can you think why?"
   ]
  },
  {
   "cell_type": "markdown",
   "metadata": {
    "tags": [
     "ANSWER"
    ]
   },
   "source": [
    "_Write your answer here._"
   ]
  },
  {
   "cell_type": "markdown",
   "metadata": {},
   "source": [
    "[Hint](../31_Hints/Hints_08_3_02.ipynb)\n",
    "[Answer](../32_Answers/Answers_08_3_02.ipynb)"
   ]
  },
  {
   "cell_type": "markdown",
   "metadata": {},
   "source": [
    "#### Exercise 8.3.3"
   ]
  },
  {
   "cell_type": "markdown",
   "metadata": {},
   "source": [
    "Suppose I didn't implement the method to grow the hash table\n",
    "and instead initialised the table with one thousand slots.\n",
    "Would this map implementation still work if the load factor goes above 1?"
   ]
  },
  {
   "cell_type": "markdown",
   "metadata": {
    "tags": [
     "ANSWER"
    ]
   },
   "source": [
    "_Write your answer here._"
   ]
  },
  {
   "cell_type": "markdown",
   "metadata": {},
   "source": [
    "[Hint](../31_Hints/Hints_08_3_03.ipynb)\n",
    "[Answer](../32_Answers/Answers_08_3_03.ipynb)"
   ]
  },
  {
   "cell_type": "markdown",
   "metadata": {},
   "source": [
    "⟵ [Previous section](08_2_dictionary.ipynb) | [Up](08-introduction.ipynb) | [Next section](08_4_set.ipynb) ⟶"
   ]
  }
 ],
 "metadata": {
  "kernelspec": {
   "display_name": "Python 3",
   "language": "python",
   "name": "python3"
  },
  "language_info": {
   "codemirror_mode": {
    "name": "ipython",
    "version": 3
   },
   "file_extension": ".py",
   "mimetype": "text/x-python",
   "name": "python",
   "nbconvert_exporter": "python",
   "pygments_lexer": "ipython3",
   "version": "3.8.5"
  }
 },
 "nbformat": 4,
 "nbformat_minor": 4
}
