{
 "cells": [
  {
   "cell_type": "markdown",
   "metadata": {},
   "source": [
    "## 8.6 Bags in Python"
   ]
  },
  {
   "cell_type": "markdown",
   "metadata": {},
   "source": [
    "Class `Counter` in module `collections` is a subclass of `dict`.\n",
    "It implements a bag of hashable items as a dictionary of object–integer pairs:\n",
    "each key is an item and the corresponding value is the multiplicity of the item.\n",
    "The bag operations are written as follows. I'll comment on them further below.\n",
    "\n",
    "Bag operation | Python\n",
    ":-|:-\n",
    "new  |  `bag = Counter()`\n",
    "size  | not available\n",
    "membership  |  `item in bag` or `item not in bag`\n",
    "add  |  `bag[item] = bag[item] + 1`\n",
    "remove  |  `bag[item] = bag[item] - 1`\n",
    "intersection  | `bag1 & bag2`\n",
    "difference  | `bag1 - bag2`\n",
    "multiplicity | `bag[item]`\n",
    "inclusion  | not available\n",
    "\n",
    "Bags also have a union operation, written as `bag1 | bag2`.\n",
    "\n",
    "A bag can be created from any iterable collection."
   ]
  },
  {
   "cell_type": "code",
   "execution_count": 1,
   "metadata": {
    "execution": {
     "iopub.execute_input": "2021-09-10T15:38:27.393455Z",
     "iopub.status.busy": "2021-09-10T15:38:27.392728Z",
     "iopub.status.idle": "2021-09-10T15:38:27.395992Z",
     "shell.execute_reply": "2021-09-10T15:38:27.396572Z"
    }
   },
   "outputs": [
    {
     "data": {
      "text/plain": [
       "Counter({'d': 3, 'o': 6, ' ': 4, 'b': 2, 'e': 4})"
      ]
     },
     "execution_count": 1,
     "metadata": {},
     "output_type": "execute_result"
    }
   ],
   "source": [
    "from collections import Counter\n",
    "\n",
    "SINATRA = 'doo bee doo bee doo'\n",
    "STING = 'de do do do de da da da'\n",
    "Counter(SINATRA)"
   ]
  },
  {
   "cell_type": "markdown",
   "metadata": {},
   "source": [
    "The dictionary representation of the bag clearly shows\n",
    "the frequency of each character in the string.\n",
    "\n",
    "The union, intersection and difference operations work as expected,\n",
    "in case you're interested in comparing profound lyrics."
   ]
  },
  {
   "cell_type": "code",
   "execution_count": 2,
   "metadata": {
    "execution": {
     "iopub.execute_input": "2021-09-10T15:38:27.401214Z",
     "iopub.status.busy": "2021-09-10T15:38:27.400476Z",
     "iopub.status.idle": "2021-09-10T15:38:27.404178Z",
     "shell.execute_reply": "2021-09-10T15:38:27.403485Z"
    }
   },
   "outputs": [
    {
     "data": {
      "text/plain": [
       "Counter({'d': 3, 'o': 3, ' ': 4, 'e': 2})"
      ]
     },
     "execution_count": 1,
     "metadata": {},
     "output_type": "execute_result"
    }
   ],
   "source": [
    "Counter(SINATRA) & Counter(STING)   # common characters"
   ]
  },
  {
   "cell_type": "markdown",
   "metadata": {},
   "source": [
    "Unlike sets, the class doesn't provide an `add` or `discard` method.\n",
    "Instead, we increment or decrement the counter associated with the item.\n",
    "The counter starts automatically at zero."
   ]
  },
  {
   "cell_type": "code",
   "execution_count": 3,
   "metadata": {
    "execution": {
     "iopub.execute_input": "2021-09-10T15:38:27.408948Z",
     "iopub.status.busy": "2021-09-10T15:38:27.408311Z",
     "iopub.status.idle": "2021-09-10T15:38:27.411021Z",
     "shell.execute_reply": "2021-09-10T15:38:27.411674Z"
    }
   },
   "outputs": [
    {
     "data": {
      "text/plain": [
       "Counter({'d': 3, 'o': 6, 'b': 2, 'e': 4})"
      ]
     },
     "execution_count": 1,
     "metadata": {},
     "output_type": "execute_result"
    }
   ],
   "source": [
    "letters = Counter()\n",
    "for character in SINATRA:\n",
    "    if character != ' ':\n",
    "        letters[character] = letters[character] + 1\n",
    "letters"
   ]
  },
  {
   "cell_type": "markdown",
   "metadata": {},
   "source": [
    "If you replace `Counter` with `dict` in the first line and run the code,\n",
    "you get a key error when trying to add the first letter ('d') because\n",
    "a value can't be accessed before the key–value pair has been inserted.\n",
    "Here's another example that raises a key error with a dictionary but\n",
    "not with a `Counter` instance."
   ]
  },
  {
   "cell_type": "code",
   "execution_count": 4,
   "metadata": {
    "execution": {
     "iopub.execute_input": "2021-09-10T15:38:27.416976Z",
     "iopub.status.busy": "2021-09-10T15:38:27.416147Z",
     "iopub.status.idle": "2021-09-10T15:38:27.418844Z",
     "shell.execute_reply": "2021-09-10T15:38:27.419715Z"
    }
   },
   "outputs": [
    {
     "data": {
      "text/plain": [
       "0"
      ]
     },
     "execution_count": 1,
     "metadata": {},
     "output_type": "execute_result"
    }
   ],
   "source": [
    "letters['x']    # multiplicity of letter 'x' in LYRICS"
   ]
  },
  {
   "cell_type": "markdown",
   "metadata": {},
   "source": [
    "You can directly set the multiplicity of an item or change it by more than one."
   ]
  },
  {
   "cell_type": "code",
   "execution_count": 5,
   "metadata": {
    "execution": {
     "iopub.execute_input": "2021-09-10T15:38:27.424239Z",
     "iopub.status.busy": "2021-09-10T15:38:27.423627Z",
     "iopub.status.idle": "2021-09-10T15:38:27.425477Z",
     "shell.execute_reply": "2021-09-10T15:38:27.426138Z"
    }
   },
   "outputs": [],
   "source": [
    "word = Counter('Fahrtreppenbenutzungshinweise')\n",
    "word['u'] = word['u'] - 2   # remove both u from the bag\n",
    "word['ä'] = 5               # add some umlaute for no good reason"
   ]
  },
  {
   "cell_type": "markdown",
   "metadata": {},
   "source": [
    "Being a dictionary, you can iterate over the keys (unique bag items) or\n",
    "over the key–value pairs (unique items and their multiplicity)."
   ]
  },
  {
   "cell_type": "code",
   "execution_count": 6,
   "metadata": {
    "execution": {
     "iopub.execute_input": "2021-09-10T15:38:27.430761Z",
     "iopub.status.busy": "2021-09-10T15:38:27.429925Z",
     "iopub.status.idle": "2021-09-10T15:38:27.433035Z",
     "shell.execute_reply": "2021-09-10T15:38:27.433614Z"
    }
   },
   "outputs": [
    {
     "name": "stdout",
     "output_type": "stream",
     "text": [
      "vowel a occurs 1 times\n",
      "vowel e occurs 5 times\n",
      "vowel u occurs 0 times\n",
      "vowel i occurs 2 times\n",
      "vowel ä occurs 5 times\n"
     ]
    }
   ],
   "source": [
    "for (letter, multiplicity) in word.items():\n",
    "    if letter in 'aeiouäöü':\n",
    "        print('vowel', letter, 'occurs', multiplicity, 'times')"
   ]
  },
  {
   "cell_type": "markdown",
   "metadata": {},
   "source": [
    "Note that setting the multiplicity to zero (as was done for 'u')\n",
    "doesn't remove the item from the bag.\n",
    "You must use the dictionary's `pop` method to do that."
   ]
  },
  {
   "cell_type": "code",
   "execution_count": 7,
   "metadata": {
    "execution": {
     "iopub.execute_input": "2021-09-10T15:38:27.438627Z",
     "iopub.status.busy": "2021-09-10T15:38:27.437892Z",
     "iopub.status.idle": "2021-09-10T15:38:27.440209Z",
     "shell.execute_reply": "2021-09-10T15:38:27.440969Z"
    }
   },
   "outputs": [
    {
     "name": "stdout",
     "output_type": "stream",
     "text": [
      "vowel a occurs 1 times\n",
      "vowel u occurs 0 times\n",
      "vowel i occurs 2 times\n",
      "vowel ä occurs 5 times\n"
     ]
    }
   ],
   "source": [
    "word.pop('e')               # remove all e from the bag\n",
    "for letter in word:         # iterate over the keys this time\n",
    "    if letter in 'aeiouäöü':\n",
    "        print('vowel', letter, 'occurs', word[letter], 'times')"
   ]
  },
  {
   "cell_type": "markdown",
   "metadata": {},
   "source": [
    "### 8.6.1 Mistakes"
   ]
  },
  {
   "cell_type": "markdown",
   "metadata": {},
   "source": [
    "It's important to keep in mind that `Counter` is a subclass of `dict`,\n",
    "not a superclass of `set`, and maybe that's why it's not called `Bag`.\n",
    "Python's bags don't follow set notation,\n",
    "don't provide union, intersection and difference methods (only operators),\n",
    "don't remove items when their multiplicity reaches zero and\n",
    "don't provide the inclusion operation.\n",
    "So using a `Counter` instance as if it were a more general set is a mistake."
   ]
  },
  {
   "cell_type": "code",
   "execution_count": 8,
   "metadata": {
    "execution": {
     "iopub.execute_input": "2021-09-10T15:38:27.444987Z",
     "iopub.status.busy": "2021-09-10T15:38:27.444323Z",
     "iopub.status.idle": "2021-09-10T15:38:27.559507Z",
     "shell.execute_reply": "2021-09-10T15:38:27.560205Z"
    }
   },
   "outputs": [
    {
     "ename": "TypeError",
     "evalue": "'<=' not supported between instances of 'Counter' and 'Counter'",
     "output_type": "error",
     "traceback": [
      "\u001b[0;31m---------------------------------------------------------------------------\u001b[0m",
      "\u001b[0;31mTypeError\u001b[0m                                 Traceback (most recent call last)",
      "\u001b[0;32m<ipython-input-1-78098b46b8f9>\u001b[0m in \u001b[0;36m<module>\u001b[0;34m\u001b[0m\n\u001b[0;32m----> 1\u001b[0;31m \u001b[0mCounter\u001b[0m\u001b[0;34m(\u001b[0m\u001b[0;34m'aeiou'\u001b[0m\u001b[0;34m)\u001b[0m \u001b[0;34m<=\u001b[0m \u001b[0mCounter\u001b[0m\u001b[0;34m(\u001b[0m\u001b[0mSINATRA\u001b[0m\u001b[0;34m)\u001b[0m \u001b[0;31m# is each vowel in the lyrics?\u001b[0m\u001b[0;34m\u001b[0m\u001b[0;34m\u001b[0m\u001b[0m\n\u001b[0m",
      "\u001b[0;31mTypeError\u001b[0m: '<=' not supported between instances of 'Counter' and 'Counter'"
     ]
    }
   ],
   "source": [
    "Counter('aeiou') <= Counter(SINATRA) # is each vowel in the lyrics?"
   ]
  },
  {
   "cell_type": "markdown",
   "metadata": {},
   "source": [
    "It's also a mistake to use the `len` function to get the size of a bag: it\n",
    "returns the size of the dictionary, which is the number of keys (unique items).\n",
    "In our example, the size of the bag is the number of characters, i.e.\n",
    "the length of the string the bag was created from."
   ]
  },
  {
   "cell_type": "code",
   "execution_count": 9,
   "metadata": {
    "execution": {
     "iopub.execute_input": "2021-09-10T15:38:27.564117Z",
     "iopub.status.busy": "2021-09-10T15:38:27.563388Z",
     "iopub.status.idle": "2021-09-10T15:38:27.565895Z",
     "shell.execute_reply": "2021-09-10T15:38:27.566632Z"
    }
   },
   "outputs": [
    {
     "name": "stdout",
     "output_type": "stream",
     "text": [
      "size of the bag: 19\n",
      "unique characters: 5\n"
     ]
    }
   ],
   "source": [
    "print('size of the bag:', len(SINATRA))\n",
    "print('unique characters:', len(Counter(SINATRA)))"
   ]
  },
  {
   "cell_type": "markdown",
   "metadata": {},
   "source": [
    "Even worse, being a dictionary means you can associate any value to each item,\n",
    "not just a natural number."
   ]
  },
  {
   "cell_type": "code",
   "execution_count": 10,
   "metadata": {
    "execution": {
     "iopub.execute_input": "2021-09-10T15:38:27.571115Z",
     "iopub.status.busy": "2021-09-10T15:38:27.570469Z",
     "iopub.status.idle": "2021-09-10T15:38:27.573429Z",
     "shell.execute_reply": "2021-09-10T15:38:27.574259Z"
    }
   },
   "outputs": [
    {
     "data": {
      "text/plain": [
       "Counter({'hello': -5, 'jggdggu': None, 'algorithm': 'data structures'})"
      ]
     },
     "execution_count": 1,
     "metadata": {},
     "output_type": "execute_result"
    }
   ],
   "source": [
    "bonkers = Counter()\n",
    "bonkers['hello'] = -5\n",
    "bonkers['jggdggu'] = None\n",
    "bonkers['algorithm'] = 'data structures'\n",
    "bonkers"
   ]
  },
  {
   "cell_type": "markdown",
   "metadata": {},
   "source": [
    "Now let's take the union with the empty bag,\n",
    "which should return the same bag as `bonkers`. What can possibly go wrong?"
   ]
  },
  {
   "cell_type": "code",
   "execution_count": 11,
   "metadata": {
    "execution": {
     "iopub.execute_input": "2021-09-10T15:38:27.578146Z",
     "iopub.status.busy": "2021-09-10T15:38:27.577621Z",
     "iopub.status.idle": "2021-09-10T15:38:27.583976Z",
     "shell.execute_reply": "2021-09-10T15:38:27.584685Z"
    }
   },
   "outputs": [
    {
     "ename": "TypeError",
     "evalue": "'<' not supported between instances of 'NoneType' and 'int'",
     "output_type": "error",
     "traceback": [
      "\u001b[0;31m---------------------------------------------------------------------------\u001b[0m",
      "\u001b[0;31mTypeError\u001b[0m                                 Traceback (most recent call last)",
      "\u001b[0;32m<ipython-input-1-2f0dc141a2f7>\u001b[0m in \u001b[0;36m<module>\u001b[0;34m\u001b[0m\n\u001b[0;32m----> 1\u001b[0;31m \u001b[0mbonkers\u001b[0m \u001b[0;34m|\u001b[0m \u001b[0mCounter\u001b[0m\u001b[0;34m(\u001b[0m\u001b[0;34m)\u001b[0m\u001b[0;34m\u001b[0m\u001b[0;34m\u001b[0m\u001b[0m\n\u001b[0m",
      "\u001b[0;32m~/opt/anaconda3/lib/python3.8/collections/__init__.py\u001b[0m in \u001b[0;36m__or__\u001b[0;34m(self, other)\u001b[0m\n\u001b[1;32m    754\u001b[0m         \u001b[0;32mfor\u001b[0m \u001b[0melem\u001b[0m\u001b[0;34m,\u001b[0m \u001b[0mcount\u001b[0m \u001b[0;32min\u001b[0m \u001b[0mself\u001b[0m\u001b[0;34m.\u001b[0m\u001b[0mitems\u001b[0m\u001b[0;34m(\u001b[0m\u001b[0;34m)\u001b[0m\u001b[0;34m:\u001b[0m\u001b[0;34m\u001b[0m\u001b[0;34m\u001b[0m\u001b[0m\n\u001b[1;32m    755\u001b[0m             \u001b[0mother_count\u001b[0m \u001b[0;34m=\u001b[0m \u001b[0mother\u001b[0m\u001b[0;34m[\u001b[0m\u001b[0melem\u001b[0m\u001b[0;34m]\u001b[0m\u001b[0;34m\u001b[0m\u001b[0;34m\u001b[0m\u001b[0m\n\u001b[0;32m--> 756\u001b[0;31m             \u001b[0mnewcount\u001b[0m \u001b[0;34m=\u001b[0m \u001b[0mother_count\u001b[0m \u001b[0;32mif\u001b[0m \u001b[0mcount\u001b[0m \u001b[0;34m<\u001b[0m \u001b[0mother_count\u001b[0m \u001b[0;32melse\u001b[0m \u001b[0mcount\u001b[0m\u001b[0;34m\u001b[0m\u001b[0;34m\u001b[0m\u001b[0m\n\u001b[0m\u001b[1;32m    757\u001b[0m             \u001b[0;32mif\u001b[0m \u001b[0mnewcount\u001b[0m \u001b[0;34m>\u001b[0m \u001b[0;36m0\u001b[0m\u001b[0;34m:\u001b[0m\u001b[0;34m\u001b[0m\u001b[0;34m\u001b[0m\u001b[0m\n\u001b[1;32m    758\u001b[0m                 \u001b[0mresult\u001b[0m\u001b[0;34m[\u001b[0m\u001b[0melem\u001b[0m\u001b[0;34m]\u001b[0m \u001b[0;34m=\u001b[0m \u001b[0mnewcount\u001b[0m\u001b[0;34m\u001b[0m\u001b[0;34m\u001b[0m\u001b[0m\n",
      "\u001b[0;31mTypeError\u001b[0m: '<' not supported between instances of 'NoneType' and 'int'"
     ]
    }
   ],
   "source": [
    "bonkers | Counter()"
   ]
  },
  {
   "cell_type": "markdown",
   "metadata": {},
   "source": [
    "The union, intersection and difference operations require\n",
    "the multiplicities of items to be compared,\n",
    "which raises an error when they're not integers.\n",
    "\n",
    "Making `Counter` a subclass of `dict` views a bag as a map between\n",
    "items and their multiplicity. Nothing wrong with that.\n",
    "Actually, it provides a convenient notation to add and remove items. But\n",
    "inheriting dictionary operations without adapting them to bags isn't so great.\n",
    "\n",
    "It's always useful to know how to implement our own data types:\n",
    "the built-in ones may not fully address our needs."
   ]
  },
  {
   "cell_type": "markdown",
   "metadata": {},
   "source": [
    "### 8.6.2 Using bags"
   ]
  },
  {
   "cell_type": "markdown",
   "metadata": {},
   "source": [
    "Sets and bags are useful to solve problems where the order doesn't matter.\n",
    "If items can't occur more than once, then we should use a set, otherwise a bag.\n",
    "Many problems don't mention sets or bags explicitly.\n",
    "It's up to us to see that sets or bags and their operations can be of use.\n",
    "Here's an example of such a problem.\n",
    "\n",
    "Given two sequences of items, what is\n",
    "the smallest number of items to be removed from both sequences\n",
    "so that one becomes a permutation, i.e. rearrangement, of the other?\n",
    "For example, if the sequences are _left_ = (1, 2, 3, 2) and\n",
    "_right_ = (3, 2, 2, 5) then only two items must be removed:\n",
    "number 1 from _left_ and number 5 from _right_.\n",
    "If _left_ = ('a', 'man', 'a', 'plan') and _right_ = ('a', 'canal') then\n",
    "four strings must be removed (three from _left_, one from _right_)\n",
    "for both sequences to become ('a')."
   ]
  },
  {
   "cell_type": "markdown",
   "metadata": {},
   "source": [
    "#### Exercise 8.6.1"
   ]
  },
  {
   "cell_type": "markdown",
   "metadata": {},
   "source": [
    "Write further problems instances to test your algorithm later.\n",
    "\n",
    "Case | _left_ | _right_ | Deletions\n",
    ":-|:-|:-|:-\n",
    "some overlap  | (1, 2, 3, 2)  | (3, 2, 2, 5)  |  2\n",
    "one common  | ('a', 'man', 'a', 'plan')  | ('a', 'canal')  |  4\n",
    "\n",
    "[Hint](../31_Hints/Hints_08_6_01.ipynb)\n",
    "[Answer](../32_Answers/Answers_08_6_01.ipynb)"
   ]
  },
  {
   "cell_type": "markdown",
   "metadata": {},
   "source": [
    "#### Exercise 8.6.2"
   ]
  },
  {
   "cell_type": "markdown",
   "metadata": {},
   "source": [
    "Describe an algorithm to compute the number of deletions."
   ]
  },
  {
   "cell_type": "markdown",
   "metadata": {
    "tags": [
     "ANSWER"
    ]
   },
   "source": [
    "_Write your answer here._"
   ]
  },
  {
   "cell_type": "markdown",
   "metadata": {},
   "source": [
    "[Hint](../31_Hints/Hints_08_6_02.ipynb)\n",
    "[Answer](../32_Answers/Answers_08_6_02.ipynb)"
   ]
  },
  {
   "cell_type": "markdown",
   "metadata": {},
   "source": [
    "#### Exercise 8.6.3"
   ]
  },
  {
   "cell_type": "markdown",
   "metadata": {},
   "source": [
    "What's the complexity of the algorithm?"
   ]
  },
  {
   "cell_type": "markdown",
   "metadata": {
    "tags": [
     "ANSWER"
    ]
   },
   "source": [
    "_Write your answer here._"
   ]
  },
  {
   "cell_type": "markdown",
   "metadata": {},
   "source": [
    "[Hint](../31_Hints/Hints_08_6_03.ipynb)\n",
    "[Answer](../32_Answers/Answers_08_6_03.ipynb)"
   ]
  },
  {
   "cell_type": "markdown",
   "metadata": {},
   "source": [
    "#### Exercise 8.6.4"
   ]
  },
  {
   "cell_type": "markdown",
   "metadata": {},
   "source": [
    "Complete the function and tests below and run the cell.\n",
    "They use lists as the input sequences.\n",
    "Feel free to use your own bag implementation instead of `Counter`."
   ]
  },
  {
   "cell_type": "code",
   "execution_count": 12,
   "metadata": {
    "execution": {
     "iopub.execute_input": "2021-09-10T15:38:27.593348Z",
     "iopub.status.busy": "2021-09-10T15:38:27.592591Z",
     "iopub.status.idle": "2021-09-10T15:38:27.595946Z",
     "shell.execute_reply": "2021-09-10T15:38:27.596558Z"
    }
   },
   "outputs": [],
   "source": [
    "from collections import Counter\n",
    "%run -i ../m269_util\n",
    "\n",
    "def deletions(left: list, right: list) -> int:\n",
    "    \"\"\"Return how many deletions make the lists have the same items.\n",
    "\n",
    "    Postconditions:\n",
    "    - the output is the smallest number of deletions necessary\n",
    "    \"\"\"\n",
    "    pass\n",
    "\n",
    "deletions_tests = [\n",
    "    # case,             left,                   right,  deletions\n",
    "    ('some overlap',    [1, 2, 3, 2],           [3, 2, 2, 5],   2),\n",
    "    ('one common',      ['a','man','a','plan'], ['a','canal'],  4),\n",
    "    # new tests\n",
    "]\n",
    "test(deletions, deletions_tests)"
   ]
  },
  {
   "cell_type": "markdown",
   "metadata": {},
   "source": [
    "[Hint](../31_Hints/Hints_08_6_04.ipynb)\n",
    "[Answer](../32_Answers/Answers_08_6_04.ipynb)"
   ]
  },
  {
   "cell_type": "markdown",
   "metadata": {},
   "source": [
    "#### Optional exercises"
   ]
  },
  {
   "cell_type": "markdown",
   "metadata": {},
   "source": [
    "The Kattis Guide lists further [problems on bags](https://mwermelinger.github.io/kattis-guide/unordered.html#bags)."
   ]
  },
  {
   "cell_type": "markdown",
   "metadata": {},
   "source": [
    "⟵ [Previous section](08_5_bag.ipynb) | [Up](08-introduction.ipynb) | [Next section](08_7_summary.ipynb) ⟶"
   ]
  }
 ],
 "metadata": {
  "kernelspec": {
   "display_name": "Python 3",
   "language": "python",
   "name": "python3"
  },
  "language_info": {
   "codemirror_mode": {
    "name": "ipython",
    "version": 3
   },
   "file_extension": ".py",
   "mimetype": "text/x-python",
   "name": "python",
   "nbconvert_exporter": "python",
   "pygments_lexer": "ipython3",
   "version": "3.8.5"
  }
 },
 "nbformat": 4,
 "nbformat_minor": 4
}
