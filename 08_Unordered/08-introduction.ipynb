{
 "cells": [
  {
   "cell_type": "markdown",
   "metadata": {},
   "source": [
    "# 8 Unordered collections"
   ]
  },
  {
   "cell_type": "markdown",
   "metadata": {},
   "source": [
    "Sequences impose an order on the items: there’s a first, a second, …,\n",
    "a last item, even if we don’t care about that order.\n",
    "This chapter introduces ADTs for collections of items that\n",
    "we don’t need to keep ordered and shows how to implement them.\n",
    "[Chapter&nbsp;10](../10_TMA01-2/10_1_collections.ipynb#10.1-Using-collections) will provide guidance on\n",
    "which ordered and unordered ADTs to use for which purpose.\n",
    "\n",
    "This chapter supports the following learning outcomes:\n",
    "\n",
    "- Apply general-purpose data structures and algorithmic techniques to\n",
    "  efficiently solve computational problems –\n",
    "  this chapter introduces three ADTs (maps, sets and bags)\n",
    "  and two array-based data structures (lookup and hash tables).\n",
    "\n",
    "This chapter includes further examples to support these learning outcomes:\n",
    "\n",
    "- explain in a clear and succinct way how an algorithm or data structure works,\n",
    "  and its assumptions, in order to communicate with peers\n",
    "- analyse the complexity of algorithms to support design choices\n",
    "- write readable, tested and documented Python functions and classes to\n",
    "  implement algorithms and abstract data types.\n",
    "\n",
    "\n",
    "Before starting to work on this chapter, check the\n",
    "[M269 website](https://learn2.open.ac.uk/course/view.php?id=208089) for relevant news and errata."
   ]
  },
  {
   "cell_type": "markdown",
   "metadata": {
    "nbsphinx-toctree": {
     "hidden": true,
     "maxdepth": 1,
     "numbered": false
    }
   },
   "source": [
    "1. [Maps](08_1_map.ipynb)\n",
    "1. [Dictionaries](08_2_dictionary.ipynb)\n",
    "1. [Hash tables](08_3_hash_table.ipynb)\n",
    "1. [Sets](08_4_set.ipynb)\n",
    "1. [Bags](08_5_bag.ipynb)\n",
    "1. [Bags in Python](08_6_counter.ipynb)\n",
    "1. [Summary](08_7_summary.ipynb)"
   ]
  },
  {
   "cell_type": "markdown",
   "metadata": {},
   "source": [
    "⟵ [Previous chapter](../07_Ordered/07-introduction.ipynb) | [Up](../M269.ipynb) | [Next chapter](../09_Practice-1/09-introduction.ipynb) ⟶"
   ]
  }
 ],
 "metadata": {
  "kernelspec": {
   "display_name": "Python 3",
   "language": "python",
   "name": "python3"
  },
  "language_info": {
   "codemirror_mode": {
    "name": "ipython",
    "version": 3
   },
   "file_extension": ".py",
   "mimetype": "text/x-python",
   "name": "python",
   "nbconvert_exporter": "python",
   "pygments_lexer": "ipython3",
   "version": "3.8.5"
  }
 },
 "nbformat": 4,
 "nbformat_minor": 4
}
