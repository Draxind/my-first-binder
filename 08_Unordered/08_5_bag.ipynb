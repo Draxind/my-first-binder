{
 "cells": [
  {
   "cell_type": "markdown",
   "metadata": {},
   "source": [
    "## 8.5 Bags"
   ]
  },
  {
   "cell_type": "markdown",
   "metadata": {},
   "source": [
    "A **bag** is an unordered collection of items, possibly with duplicates.\n",
    "The notation is as for sets, e.g. {2, 3, 2, 5} is a bag of size 4\n",
    "with two copies of 2."
   ]
  },
  {
   "cell_type": "markdown",
   "metadata": {
    "tags": [
     "INFO"
    ]
   },
   "source": [
    "<div class=\"alert alert-info\">\n",
    "<strong>Info:</strong> Bags are also called multisets.\n",
    "</div>"
   ]
  },
  {
   "cell_type": "markdown",
   "metadata": {},
   "source": [
    "### 8.5.1 The bag ADT"
   ]
  },
  {
   "cell_type": "markdown",
   "metadata": {},
   "source": [
    "The bag ADT has the same operations as sets, but most work slightly differently:\n",
    "\n",
    "- the add operation always adds one more copy, even if the item is already in the bag\n",
    "- the remove operation removes a single copy of the item\n",
    "- the intersection of two bags has the smaller number of copies of each item\n",
    "- the union of two bags has the larger number of copies of each item\n",
    "- the difference of two bags has the difference of the number of copies\n",
    "  of each item, or zero copies if the difference is negative.\n",
    "\n",
    "Bags have one extra operation over sets:\n",
    "the **multiplicity** of an item is the number of times it occurs in a bag.\n",
    "For example, in {'y', 'e', 's', 's', 's', '!'}, 'y' has multiplicity 1,\n",
    "'s' has multiplicity 3 and 'Y' has multiplicity 0.\n",
    "An item is a member of a bag if and only if its multiplicity isn't zero.\n",
    "\n",
    "In bag operations, each copy is matched separately. For example,\n",
    "two bags are equal if each copy in one of them matches a copy in the other,\n",
    "i.e. if each item occurs with the same multiplicity in both bags.\n",
    "A bag _A_ is included in bag _B_, written _A_ $\\subseteq$ _B_,\n",
    "if each copy in _A_ matches a copy in _B_ but\n",
    "not necessarily the other way around, i.e.\n",
    "the multiplicity of each item is the same or higher in _B_.\n",
    "Like for sets, _A_ $\\subset$ _B_ if _A_ $\\subseteq$ _B_ and _A_ ≠ _B_."
   ]
  },
  {
   "cell_type": "markdown",
   "metadata": {
    "tags": [
     "INFO"
    ]
   },
   "source": [
    "<div class=\"alert alert-info\">\n",
    "<strong>Info:</strong> The terms 'subbag' and 'submultiset' are not often used,\n",
    "and even less so with the qualifier 'proper'.\n",
    "</div>"
   ]
  },
  {
   "cell_type": "markdown",
   "metadata": {},
   "source": [
    "Consider the bags _A_ = {1, 2, 3, 3} and _B_ = {1, 2, 2, 2, 3}.\n",
    "We have _A_ ≠ _B_, with neither _A_ $\\subset$ _B_ nor _A_ $\\subset$ _B_,\n",
    "because _A_ has more 3s but _B_ has more 2s.\n",
    "\n",
    "We have _A_ $\\cap$ _B_ = {1, 2, 3}\n",
    "because although 2 and 3 occur multiple times in one of the bags, only one copy\n",
    "matches the other bag and is in the intersection.\n",
    "\n",
    "We have _A_ $\\cup$ _B_ =  {1, 2, 2, 2, 3, 3} because copies that match\n",
    "are added only once to the union. The union doesn't have four 2s, just three:\n",
    "one copy that is in both bags and two additional copies from the second bag.\n",
    "\n",
    "Likewise, {1, 2, 3, 3} − {1, 2, 2, 2, 3} = {3} because each copy in the first bag matches a copy in the second bag, except the second 3."
   ]
  },
  {
   "cell_type": "markdown",
   "metadata": {},
   "source": [
    "#### Exercise 8.5.1"
   ]
  },
  {
   "cell_type": "markdown",
   "metadata": {},
   "source": [
    "What is {1, 2, 2, 2, 3} − {1, 2, 3, 3}?"
   ]
  },
  {
   "cell_type": "markdown",
   "metadata": {
    "tags": [
     "ANSWER"
    ]
   },
   "source": [
    "_Write your answer here._"
   ]
  },
  {
   "cell_type": "markdown",
   "metadata": {},
   "source": [
    "[Answer](../32_Answers/Answers_08_5_01.ipynb)"
   ]
  },
  {
   "cell_type": "markdown",
   "metadata": {},
   "source": [
    "#### Exercise 8.5.2"
   ]
  },
  {
   "cell_type": "markdown",
   "metadata": {},
   "source": [
    "How would you explain what a set is to someone who only knows what a bag is?"
   ]
  },
  {
   "cell_type": "markdown",
   "metadata": {
    "tags": [
     "ANSWER"
    ]
   },
   "source": [
    "_Write your answer here._"
   ]
  },
  {
   "cell_type": "markdown",
   "metadata": {},
   "source": [
    "[Answer](../32_Answers/Answers_08_5_02.ipynb)"
   ]
  },
  {
   "cell_type": "markdown",
   "metadata": {},
   "source": [
    "### 8.5.2 Implementing bags"
   ]
  },
  {
   "cell_type": "markdown",
   "metadata": {},
   "source": [
    "The simplest – but not most efficient – way of implementing bags is to put all\n",
    "members, i.e. including duplicates, in a sequence.\n",
    "Adding  an item takes constant time by appending it to the sequence, but\n",
    "removing an item or computing its multiplicity\n",
    "takes linear time in the size of the bag.\n",
    "Computing the intersection, union or difference is even more complicated.\n",
    "\n",
    "A better approach is to see a bag as a map of unique items (the map's keys)\n",
    "to their multiplicities (the map's values),\n",
    "so any map data type can form the basis for a bag data type.\n",
    "For example, a bag where items are integers from a fixed range\n",
    "can be implemented with a lookup table.\n",
    "A more flexible bag can be implemented with a hash table."
   ]
  },
  {
   "cell_type": "markdown",
   "metadata": {},
   "source": [
    "#### Exercise 8.5.3"
   ]
  },
  {
   "cell_type": "markdown",
   "metadata": {},
   "source": [
    "The following exercises ask you to explain how to implement some bag operations\n",
    "using maps. List at least five bags you would use to test bag operations.\n",
    "Include edge and non-edge cases."
   ]
  },
  {
   "cell_type": "markdown",
   "metadata": {
    "tags": [
     "ANSWER"
    ]
   },
   "source": [
    "_Write your answer here._"
   ]
  },
  {
   "cell_type": "markdown",
   "metadata": {},
   "source": [
    "[Hint](../31_Hints/Hints_08_5_03.ipynb)\n",
    "[Answer](../32_Answers/Answers_08_5_03.ipynb)"
   ]
  },
  {
   "cell_type": "markdown",
   "metadata": {},
   "source": [
    "#### Exercise 8.5.4"
   ]
  },
  {
   "cell_type": "markdown",
   "metadata": {},
   "source": [
    "Describe an algorithm that, given a bag as\n",
    "a map of items to their multiplicities, computes the size of the bag."
   ]
  },
  {
   "cell_type": "markdown",
   "metadata": {
    "tags": [
     "ANSWER"
    ]
   },
   "source": [
    "_Write your answer here._"
   ]
  },
  {
   "cell_type": "markdown",
   "metadata": {},
   "source": [
    "[Answer](../32_Answers/Answers_08_5_04.ipynb)"
   ]
  },
  {
   "cell_type": "markdown",
   "metadata": {},
   "source": [
    "#### Exercise 8.5.5"
   ]
  },
  {
   "cell_type": "markdown",
   "metadata": {},
   "source": [
    "Describe an algorithm that determines if _left_ $\\subseteq$ _right_, where\n",
    "_left_ and _right_ are maps of items to multiplicities."
   ]
  },
  {
   "cell_type": "markdown",
   "metadata": {
    "tags": [
     "ANSWER"
    ]
   },
   "source": [
    "_Write your answer here._"
   ]
  },
  {
   "cell_type": "markdown",
   "metadata": {},
   "source": [
    "[Hint](../31_Hints/Hints_08_5_05.ipynb)\n",
    "[Answer](../32_Answers/Answers_08_5_05.ipynb)"
   ]
  },
  {
   "cell_type": "markdown",
   "metadata": {},
   "source": [
    "#### Exercise 8.5.6"
   ]
  },
  {
   "cell_type": "markdown",
   "metadata": {},
   "source": [
    "Describe an algorithm that computes _left_ $\\cap$ _right_, where\n",
    "_left_ and _right_ are maps of items to multiplicities."
   ]
  },
  {
   "cell_type": "markdown",
   "metadata": {
    "tags": [
     "ANSWER"
    ]
   },
   "source": [
    "_Write your answer here._"
   ]
  },
  {
   "cell_type": "markdown",
   "metadata": {},
   "source": [
    "[Hint](../31_Hints/Hints_08_5_06.ipynb)\n",
    "[Answer](../32_Answers/Answers_08_5_06.ipynb)"
   ]
  },
  {
   "cell_type": "markdown",
   "metadata": {},
   "source": [
    "#### Exercise 8.5.7 (optional)"
   ]
  },
  {
   "cell_type": "markdown",
   "metadata": {},
   "source": [
    "Write and test a class that implements the bag ADT using a Python dictionary.\n",
    "Although this exercise is optional, it's good practice for you to write\n",
    "classes from scratch. I recommend you start by implementing the\n",
    "add, remove, size, inclusion and intersection operations.\n",
    "Only implement further operations if you have the time.\n",
    "\n",
    "If you have a study buddy, you may divide up the work:\n",
    "you implement operation X and write the tests for operation Y,\n",
    "while your buddy writes the tests for operation X and implements operation Y.\n",
    "You may wish to use a platform like [repl.it](https://repl.it)\n",
    "to work together on the same code file.\n",
    "I encourage you to share your class and tests in the forum and\n",
    "constructively critique your peers' solutions.\n",
    "\n",
    "I suggest you write the `__init__` method as follows to ease the\n",
    "creation of bags for tests.\n",
    "```py\n",
    "def __init__(self, items: object):\n",
    "    \"\"\"Create a new bag with the given items.\n",
    "\n",
    "    Preconditions: items is an iterable collection of hashable objects\n",
    "    \"\"\"\n",
    "    self.members = dict()\n",
    "    for item in items:\n",
    "        self.add(item)\n",
    "```\n",
    "You will have to implement the `add` method.\n",
    "Assuming your class is called `Bag`, here are some ways of creating a bag:\n",
    "`Bag([])` (empty bag), `Bag([1,2,3,1])` (bag of integers),\n",
    "`Bag('1231')` (bag of characters), `Bag({1,2,3})` (bag that is a set)."
   ]
  },
  {
   "cell_type": "markdown",
   "metadata": {},
   "source": [
    "⟵ [Previous section](08_4_set.ipynb) | [Up](08-introduction.ipynb) | [Next section](08_6_counter.ipynb) ⟶"
   ]
  }
 ],
 "metadata": {
  "kernelspec": {
   "display_name": "Python 3",
   "language": "python",
   "name": "python3"
  },
  "language_info": {
   "codemirror_mode": {
    "name": "ipython",
    "version": 3
   },
   "file_extension": ".py",
   "mimetype": "text/x-python",
   "name": "python",
   "nbconvert_exporter": "python",
   "pygments_lexer": "ipython3",
   "version": "3.8.5"
  }
 },
 "nbformat": 4,
 "nbformat_minor": 4
}
