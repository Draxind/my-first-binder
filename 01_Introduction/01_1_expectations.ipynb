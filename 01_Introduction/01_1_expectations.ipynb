{
 "cells": [
  {
   "cell_type": "markdown",
   "metadata": {},
   "source": [
    "## 1.1 What to expect"
   ]
  },
  {
   "cell_type": "markdown",
   "metadata": {},
   "source": [
    "This section briefly describes what you can expect from M269 and\n",
    "what is expected of you.\n",
    "\n",
    "Algorithms, data structures and computability have been core topics of\n",
    "Computing courses around the world for decades, and for a good reason.\n",
    "The first two topics are eminently practical: knowledge of how to\n",
    "structure data, construct algorithms and analyse their efficiency\n",
    "is useful for the design and implementation of any software system.\n",
    "It's knowledge you can immediately put to use in other modules\n",
    "and in your professional life.\n",
    "The third topic is somewhat theoretical, but it is _the_ Computer Science topic.\n",
    "Computability addresses the fundamental questions of what computation is\n",
    "and what can and can't be computed.\n",
    "I'm sure you will find M269 useful and intellectually stimulating.\n",
    "\n",
    "M269 is organised in three 'blocks', each roughly covering one topic:\n",
    "first data structures, then algorithms and finally computability.\n",
    "Each block shows you how to solve computational problems by applying the\n",
    "concepts and techniques learned. As in most modules, you can expect\n",
    "the material to get more difficult as you progress.\n",
    "\n",
    "A recurring theme of M269 is abstraction. As you shall see later,\n",
    "an algorithm is an abstraction of the steps executed by a computer,\n",
    "data structures abstract the relationships between the data being processed,\n",
    "and the complexity of an algorithm is an abstraction of its run-time.\n",
    "Abstracting from problem-specific details leads to general models, rules\n",
    "and concepts that help us tackle new problems: that's the power of abstraction.\n",
    "The cover of this book illustrates the abstraction process:\n",
    "from a detailed representation to a general geometric shape, the rectangle."
   ]
  },
  {
   "cell_type": "markdown",
   "metadata": {
    "tags": [
     "INFO"
    ]
   },
   "source": [
    "<div class=\"alert alert-info\">\n",
    "<strong>Info:</strong> The cover shows Theo van Doesburg's\n",
    "<a href=\"https://www.moma.org/interactives/exhibitions/2012/inventingabstraction/?work=77\"><em>Composition VIII (The Cow)</em></a>\n",
    "and three studies leading to it, all from 1917–18. MoMA's website has more\n",
    "<a href=\"https://www.moma.org/interactives/exhibitions/2012/inventingabstraction/?work=208\">drawings</a>\n",
    "and more information on the\n",
    "<a href=\"https://www.moma.org/interactives/exhibitions/2012/inventingabstraction/?work=207\">final study</a>.\n",
    "</div>"
   ]
  },
  {
   "cell_type": "markdown",
   "metadata": {},
   "source": [
    "The emphasis of M269 is computational problem solving. The module\n",
    "gives you techniques and a process for solving several types of problems,\n",
    "comparing alternative solutions,\n",
    "and communicating problems and solutions clearly.\n",
    "Many examples illustrate all of this.\n",
    "Much of the teaching is done through examples and exercise solutions.\n",
    "Study them carefully. Don't just glance through them: make sure you\n",
    "understand each example and solution before moving on.\n",
    "\n",
    "However, learning is not passive: it's an activity. We don't learn\n",
    "how to walk, drive a car or play a musical instrument just by watching others doing it.\n",
    "The only way to learn how to solve problems is to solve problems,\n",
    "and M269 is full of exercises for you to practise.\n",
    "Expect to spend most of your time figuring out how to solve a problem,\n",
    "trying out different approaches, analysing which one is best,\n",
    "writing, testing and debugging code, and documenting your solution.\n",
    "\n",
    "M269 is a 30-credit module over 30 weeks, so expect to study it for\n",
    "an average of 10&nbsp;hours per week. If you're studying part-time, I strongly\n",
    "advise you to do at most one other 30-credit module in parallel to M269.\n",
    "\n",
    "Algorithms can be described in plain English but must be implemented in some\n",
    "programming language for computers to execute them. M269 uses Python\n",
    "because it's an expressive, readable and uncluttered programming language.\n",
    "\n",
    "The intended learning outcomes of M269 are:\n",
    "\n",
    "1. Apply general-purpose data structures and algorithmic techniques\n",
    "   to efficiently solve computational problems.\n",
    "2. Explain in a clear and succinct way how an algorithm or data structure\n",
    "   works, and its assumptions, in order to communicate with peers.\n",
    "3. Analyse the complexity of algorithms to support design choices.\n",
    "4. Write readable, tested and documented Python functions and classes\n",
    "   to implement algorithms and abstract data types.\n",
    "5. Explain the limits of computation and its practical implications.\n",
    "\n",
    "Each following chapter begins by stating the learning outcomes it supports.\n",
    "\n",
    "Let's not beat about the bush: M269 is hard work and challenging.\n",
    "But if you put in the effort, you'll gain conceptual and\n",
    "practical problem-solving skills sought by employers."
   ]
  },
  {
   "cell_type": "markdown",
   "metadata": {},
   "source": [
    "### 1.1.1 Previous knowledge"
   ]
  },
  {
   "cell_type": "markdown",
   "metadata": {},
   "source": [
    "I assume you have had an introduction to Python, like in TM112,\n",
    "and that you can write simple short programs using the following constructs:\n",
    "\n",
    "- variables, expressions and assignments\n",
    "- integers, Booleans, strings, lists and some operations on them\n",
    "- selection statements (if-elif-else and nested ifs)\n",
    "- iteration statements (while-loop, for-in-range, for-in-collection)\n",
    "- function definitions and calls.\n",
    "\n",
    "Chapters 2 to 4 recap these constructs, but you may find the pace too fast\n",
    "and the explanations too brief if you don't have Python experience.\n",
    "The initial chapters include new material too, so don't skip them even if you are familiar with Python.\n",
    "\n",
    "I also assume you have basic mathematical proficiency:\n",
    "\n",
    "- you understand and know how to use percentages, powers (like *n*⁴ and 2ⁿ), logarithms and scientific notation (like 4.3×$10^{-8}$)\n",
    "- you can write and evaluate expressions for 'word problems' like calculating\n",
    "the service charge as a percentage of a restaurant bill\n",
    "- you can manipulate algebraic expressions, e.g. transform $x + 4y = 20$ into $y=5 - x/4$.\n",
    "\n",
    "You can check your Python and maths knowledge with the 'Are you ready for M269' <!-- To do: Add link here? OR perhaps start next sentence e.g. 'The quiz and other revision resources are available from the M269 page ...' -->\n",
    "quiz, if you haven't done it before registering for M269.\n",
    "Revision resources are available from the\n",
    "[M269 page](https://learn2.open.ac.uk/mod/oustudyplansubpage/view.php?id=1715788)\n",
    "of the Computing & IT study site."
   ]
  },
  {
   "cell_type": "markdown",
   "metadata": {},
   "source": [
    "#### Activities"
   ]
  },
  {
   "cell_type": "markdown",
   "metadata": {},
   "source": [
    "Before continuing with the next section, go to the [M269 website](https://learn2.open.ac.uk/course/view.php?id=208089)\n",
    "and do the activities for this section,\n",
    "in Week&nbsp;1 of the study planner, under heading 'Section&nbsp;1.1',\n",
    "to help you get a better idea of what to expect in M269.\n",
    "This includes watching a BBC programme on algorithms;\n",
    "some of them will be presented in more detail in M269."
   ]
  },
  {
   "cell_type": "markdown",
   "metadata": {},
   "source": [
    "⟵ [Previous section](01-introduction.ipynb) | [Up](01-introduction.ipynb) | [Next section](01_2_preparation.ipynb) ⟶"
   ]
  }
 ],
 "metadata": {
  "kernelspec": {
   "display_name": "Python 3",
   "language": "python",
   "name": "python3"
  },
  "language_info": {
   "codemirror_mode": {
    "name": "ipython",
    "version": 3
   },
   "file_extension": ".py",
   "mimetype": "text/x-python",
   "name": "python",
   "nbconvert_exporter": "python",
   "pygments_lexer": "ipython3",
   "version": "3.8.5"
  }
 },
 "nbformat": 4,
 "nbformat_minor": 4
}
