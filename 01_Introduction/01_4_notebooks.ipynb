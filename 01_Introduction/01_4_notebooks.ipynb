{
 "cells": [
  {
   "cell_type": "markdown",
   "metadata": {},
   "source": [
    "## 1.4 Notebooks"
   ]
  },
  {
   "cell_type": "markdown",
   "metadata": {},
   "source": [
    "As I wrote at the end of the previous section, I'm assuming that you're reading\n",
    "this section not in the PDF or HTML format, but as a notebook.\n",
    "\n",
    "This section explains how to use notebooks.\n",
    "To avoid problems, don't click on anything until I tell you to."
   ]
  },
  {
   "cell_type": "markdown",
   "metadata": {},
   "source": [
    "### 1.4.1 Interface"
   ]
  },
  {
   "cell_type": "markdown",
   "metadata": {},
   "source": [
    "Your screen should look similar to this:\n",
    "\n",
    "![This screenshot shows the start of this notebook.](01_4_notebooks.png)\n",
    "\n",
    "At the very top, next to Jupyter's logo, is the name of the notebook.\n",
    "Jupyter regularly saves the notebook automatically. If there are no changes,\n",
    "or all have been saved, you'll see next to the notebook name the indication\n",
    "'(autosaved)', otherwise you'll see '(unsaved changes)'.\n",
    "Autosaving is a blessing and a curse. On the one hand, you won't lose\n",
    "any modifications to a notebook (if for example the power fails),\n",
    "except for those made in the last few minutes. On the other hand,\n",
    "if you get into a knot with all the modifications made,\n",
    "you only have the latest autosaved version,\n",
    "not the original notebook, to start anew.\n",
    "\n",
    "Fortunately, Jupyter provides the best of both worlds.\n",
    "You can explicitly save a notebook, which will also create a _checkpoint_.\n",
    "Jupyter only keeps the latest checkpoint of each notebook.\n",
    "You can discard the current state of the notebook\n",
    "and reinstate the saved checkpoint anytime. (I'll show you how later.)\n",
    "You should save a notebook whenever you have a stable version of it that you may\n",
    "wish to revert to. I recommend saving a notebook the first time you open it,\n",
    "to have a checkpoint with the original notebook.\n",
    "I also recommend saving after completing each exercise.\n",
    "\n",
    "1. To create a checkpoint of this notebook, press Ctrl-S (short for Control-S)\n",
    "   on Windows and Linux, or Cmd-S (short for Command-S) on macOS.\n",
    "\n",
    "The existence of a checkpoint is shown next to the notebook's name:\n",
    "\n",
    "![This screenshot shows, from left to right, the Jupyter logo,\n",
    "the name of the notebook file, which is 01_4_notebooks, and\n",
    "the checkpoint creation message, which is\n",
    "'Last checkpoint: a few seconds ago'](01_4_checkpoint.png)\n",
    "\n",
    "Let's continue with the rest of the notebook's interface.\n",
    "Below the top row is the _menu bar_, which gives access to various commands.\n",
    "At the right-hand end of the menu bar are some status indicators, explained later.\n",
    "Below the menu bar is the _tool bar_,\n",
    "with buttons to quickly access some commands.\n",
    "Below the tool bar is the notebook itself.\n",
    "\n",
    "A notebook is a sequence of _cells_, each being either text or code.\n",
    "(Notebooks can have other kinds of cells, but we won't use them.)\n",
    "Code cells are written in Python;\n",
    "text cells are written in _Markdown_ (explained later).\n",
    "At any point, a notebook is either in _command mode_ or _edit mode_.\n",
    "When you open a notebook, it starts in command mode.\n",
    "The currently _selected cell_ has a bar to its left:\n",
    "it's blue when in command mode and green when in edit mode.\n",
    "\n",
    "When you open a notebook, Jupyter associates a _kernel_ to it to\n",
    "execute the code cells in the notebook.  If the programming language is Python, then\n",
    "Jupyter uses the _IPython interpreter_ as the kernel.\n",
    "It extends the Python interpreter with functionality that notebooks rely on.\n",
    "\n",
    "To finish this overview of the interface, follow the notebook's built-in tour.\n",
    "It explains the status indicators and how to switch between modes,\n",
    "among other things.\n",
    "After the tour, scroll down back to this place, without clicking on anything.\n",
    "\n",
    "2. To start the tour, select Help > User Interface Tour,\n",
    "  i.e. click on the 'Help' menu and then select 'User Interface Tour'."
   ]
  },
  {
   "cell_type": "markdown",
   "metadata": {},
   "source": [
    "### 1.4.2 Reverting to a checkpoint"
   ]
  },
  {
   "cell_type": "markdown",
   "metadata": {},
   "source": [
    "After the tour, the start of this notebook looks like this:\n",
    "\n",
    "![This screenshot shows the start of this notebook, after the tour.\n",
    "The first cell has a blue bar on the left and shows the Markdown source text,\n",
    "which is '## 1.4 Notebooks'.](01_4_after_tour.png)\n",
    "\n",
    "The tour entered edit mode for the first cell,\n",
    "thereby showing the Markdown source of the text.\n",
    "Then the tour returned to command mode, making the bar blue again.\n",
    "To revert to the original notebook, with the formatted text, do this:\n",
    "\n",
    "1. First select File > Revert to Checkpoint and then select the created checkpoint.\n",
    "\n",
    "![This screenshot show Jupyter's File menu. The last option is\n",
    "'Revert to Checkpoint' and is selected. It has a submenu with a single option:\n",
    "Tuesday, September 22, 2020 11:34 AM.](01_4_revert.png)\n",
    "\n",
    "You'll see a dialogue asking if you really really want to discard all changes\n",
    "and revert to a previous state.\n",
    "\n",
    "2. Click the 'Revert' button in that dialogue.\n",
    "\n",
    "You should now have the original notebook, as in the first screenshot."
   ]
  },
  {
   "cell_type": "markdown",
   "metadata": {},
   "source": [
    "### 1.4.3 Running cells"
   ]
  },
  {
   "cell_type": "markdown",
   "metadata": {},
   "source": [
    "There's an easier way to reformat a text cell,\n",
    "without having to discard any changes we made.\n",
    "To see how, you must first redo what the user interface tour did.\n",
    "\n",
    "1. At this stage, the first cell should be selected, with a blue bar.\n",
    "   If that's not the case, click once anywhere on the heading to select it.\n",
    "1. Press Enter to switch to edit mode.\n",
    "   The left bar turns green and the Markdown source appears.\n",
    "1. Press Esc to switch to command mode. The bar turns blue.\n",
    "\n",
    "You're now in the same state as at the end of the interface tour.\n",
    "To get back the formatted text, you have to _run_ the cell.\n",
    "Running a text cell formats it; running a code cell executes its code.\n",
    "(We'll get to code cells later.)\n",
    "\n",
    "Running a cell can be done in three different ways:\n",
    "by using the mouse to select the command from the menu bar or the tool bar,\n",
    "or by pressing a keyboard shortcut."
   ]
  },
  {
   "cell_type": "markdown",
   "metadata": {
    "tags": [
     "NOTE"
    ]
   },
   "source": [
    "<div class=\"alert alert-warning\">\n",
    "<strong>Note:</strong> To use notebooks productively, I recommend you avoid the mouse and\n",
    "use keyboard shortcuts instead.\n",
    "</div>"
   ]
  },
  {
   "cell_type": "markdown",
   "metadata": {},
   "source": [
    "They are listed in Help > Keyboard Shortcuts, as the tour mentioned,\n",
    "but you only need to learn a few by heart for M269.\n",
    "\n",
    "4. To run the selected cell, press Shift-Enter.\n",
    "   (Alternatively, select Cell > Run Cells in the menu bar,\n",
    "   or click the 'Run' button in the tool bar.)\n",
    "\n",
    "The first cell is now formatted again, and the second cell is the current one."
   ]
  },
  {
   "cell_type": "markdown",
   "metadata": {},
   "source": [
    "### 1.4.4 Closing notebooks"
   ]
  },
  {
   "cell_type": "markdown",
   "metadata": {},
   "source": [
    "Now that the notebook is back in its original state, you can close it.\n",
    "You can't however just close its web browser tab:\n",
    "you must halt (shut down) its kernel too. (I'll tell you how in a minute.)\n",
    "If you store your notebooks in the cloud,\n",
    "you should close and halt all notebooks when you finish each study session,\n",
    "so that you can continue your study from another computer.\n",
    "\n",
    "Notebooks are interactive web pages and therefore require a web server to manage\n",
    "the interaction with the user, pass code to the kernel for execution,\n",
    "and pass results back to the notebook for display. That web server is Jupyter.\n",
    "\n",
    "If you try to close a notebook with unsaved changes, the server will ask\n",
    "whether you want to stay on the notebook or leave it.\n",
    "If you don't want to save your latest changes, leave the notebook, otherwise\n",
    "stay on it, wait a moment until it's autosaved, and then close and halt it.\n",
    "If you want to make a checkpoint of your notebook before closing it you must\n",
    "save it explicitly.\n",
    "\n",
    "You can keep the server running across study sessions if you wish.\n",
    "To shut down the server, first close and halt all notebooks,\n",
    "then close the terminal or the app from which you started Jupyter.\n",
    "\n",
    "If by mistake you closed your notebooks by closing their browser tabs,\n",
    "without halting the corresponding kernels, then shutting down the server will\n",
    "halt all kernels still running.\n",
    "\n",
    "Well, it's time to properly close this notebook and move on to the next section.\n",
    "There's no keyboard shortcut for closing and halting a notebook, to avoid doing\n",
    "it by mistake. Since you'll be opening and closing lots of notebooks,\n",
    "you may wish to add your own shortcut. If not, skip the following instructions.\n",
    "\n",
    "1. Select Help > Edit Keyboard Shortcuts.\n",
    "1. Scroll down until you see 'close and halt'.\n",
    "1. Click on 'add shortcut' and type a key combination that doesn't conflict\n",
    "   with existing ones. I chose Alt-Q because it's easy to remember (quit)\n",
    "   and isn't used by Jupyter or my web browser.\n",
    "\n",
    "![This screenshot shows a dialogue titled 'Edit Command mode Shortcuts'.\n",
    "It has an x-shaped button in the top right to close the dialogue and\n",
    "an OK button in the bottom right. The dialogue has many rows, one per command.\n",
    "The row for the command 'close and halt' is being edited.\n",
    "A box with blue border has the text 'Alt-Q'.](01_4_edit_shortcut.png)\n",
    "\n",
    "To see how to define other key combinations, scroll all the way down.\n",
    "There's a help section at the end of the list of all notebook commands.\n",
    "\n",
    "4. Press Enter, then click on the OK button.\n",
    "\n",
    "The shortcut is only available in command mode, not while editing cells.\n",
    "It will come into effect for the following notebooks you open, not this one.\n",
    "So, you must close and halt this notebook using the menu bar.\n",
    "Beforehand, you must open the next notebook.\n",
    "Read _all_ the following instructions before carrying them out.\n",
    "\n",
    "5. Click on the 'Next section' link below.\n",
    "   This opens the next notebook in a new tab, titled '01_5_text'.\n",
    "1. Return to this notebook by clicking on its tab, titled '01_4_notebooks'.\n",
    "1. Select File > Close and Halt.\n",
    "1. Click on the browser tab with the next section's notebook."
   ]
  },
  {
   "cell_type": "markdown",
   "metadata": {},
   "source": [
    "⟵ [Previous section](01_3_software.ipynb) | [Up](01-introduction.ipynb) | [Next section](01_5_text.ipynb) ⟶"
   ]
  }
 ],
 "metadata": {
  "kernelspec": {
   "display_name": "Python 3",
   "language": "python",
   "name": "python3"
  },
  "language_info": {
   "codemirror_mode": {
    "name": "ipython",
    "version": 3
   },
   "file_extension": ".py",
   "mimetype": "text/x-python",
   "name": "python",
   "nbconvert_exporter": "python",
   "pygments_lexer": "ipython3",
   "version": "3.8.5"
  }
 },
 "nbformat": 4,
 "nbformat_minor": 4
}
