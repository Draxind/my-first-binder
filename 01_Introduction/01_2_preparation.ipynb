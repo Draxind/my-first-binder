{
 "cells": [
  {
   "cell_type": "markdown",
   "metadata": {},
   "source": [
    "## 1.2 How to study"
   ]
  },
  {
   "cell_type": "markdown",
   "metadata": {},
   "source": [
    "To successfully complete M269, see it as a project:\n",
    "it has a start and an end, goals (the learning outcomes),\n",
    "a schedule (the study planner) and deliverables (the TMAs).\n",
    "Like any project, M269 requires planning and preparation.\n",
    "The first step is to get to know the M269 materials.\n",
    "\n",
    "The M269 materials consist of two books,\n",
    "three TMAs, and other resources on the [M269 website](https://learn2.open.ac.uk/course/view.php?id=208089).\n",
    "The main materials are the two books."
   ]
  },
  {
   "cell_type": "markdown",
   "metadata": {},
   "source": [
    "### 1.2.1 Books"
   ]
  },
  {
   "cell_type": "markdown",
   "metadata": {},
   "source": [
    "The M269 books are this one and one titled _Logic and the limits of Computing_.\n",
    "The latter covers the last third of the module.\n",
    "You will receive a printed copy of it, but it's also available\n",
    "on the M269 website and you can download it in Word, Kindle and ePUB formats.\n",
    "As for this book, it's provided in three formats:\n",
    "Jupyter notebooks, PDF and HTML. Each has its advantages.\n",
    "\n",
    "The PDF format is read-only. Using a free PDF\n",
    "reader, you can read the PDF book on a tablet, use the PDF's table\n",
    "of contents to jump to any subsection, and quickly search\n",
    "for a particular word over the whole book. Depending on the PDF reader and the\n",
    "accessibility settings of your computer, you can even have the book's content\n",
    "read to you, e.g. during commuting,\n",
    "but code and technical notation may be read out incorrectly.\n",
    "A PDF reader also allows you to bookmark pages, highlight passages, add notes\n",
    "and print pages, e.g. the summary section at the end of most chapters.\n",
    "\n",
    "The HTML book is read-only too. You can read it with any web browser.\n",
    "As with the PDF book, you can search for any word, go directly to any section,\n",
    "and possibly have the content read to you.\n",
    "You can also bookmark and print HTML pages.\n",
    "Each one is a complete section, corresponding to several PDF pages.\n",
    "You can change the font size of the HTML book with your browser's\n",
    "zoom in and zoom out commands.\n",
    "\n",
    "Jupyter notebooks are interactive documents that contain both text and code.\n",
    "I mean real, executable, editable code, not static text in a monospaced font.\n",
    "With notebooks, you don't need to constantly switch between a text-only book\n",
    "and a programming environment. So you'll have more time for practice.\n",
    "The M269 TMAs are notebooks too, to save you and your tutor time from\n",
    "handling separate files with the TMA questions, your answers and your code.\n",
    "\n",
    "Notebooks are editable. You will edit the notebooks we provide to fix\n",
    "errata and to write answers to exercises and TMA questions. You may add\n",
    "study notes, alternative solutions, wrong solutions and comments why\n",
    "they're wrong. Upon completing M269, you will have unique notebooks,\n",
    "with _your_ answers and notes.\n",
    "\n",
    "Working with Jupyter notebooks requires a laptop or desktop computer,\n",
    "with a proper keyboard and a decent-sized screen.\n",
    "There's one Jupyter notebook per book section, to keep them relatively small.\n",
    "Unlike with the PDF and HTML formats,\n",
    "you can't easily search for a term across all notebooks,\n",
    "only within a single notebook. It's also not as easy to highlight passages and\n",
    "make notes in Jupyter notebooks.\n",
    "\n",
    "Notebook files have the extension '.ipynb', which comes from their original\n",
    "name: IPython notebooks. (IPython stands for interactive Python.)\n",
    "Do _not_ double-click on a notebook to open it: this\n",
    "will probably open a text editor showing the internal format of a notebook.\n",
    "If you have double-clicked on a notebook, then immediately close the editor without changing the file. The next section\n",
    "explains how to install the necessary software to use notebooks.\n",
    "Once the software is installed,\n",
    "you'll be able to work on notebooks with a web browser.\n",
    "\n",
    "If for accessibility or other reasons you can't use Jupyter notebooks, you can instead use the\n",
    "provided Python files, one per notebook, with all the code in that notebook.\n",
    "Some code is specific to Jupyter, but most of it can be executed in any Python\n",
    "environment.\n",
    "\n",
    "Most book sections have exercises.\n",
    "At the end of each one there's a link to its answer.\n",
    "Most exercises also have a link to a hint. Each hint and answer is\n",
    "in a separate notebook (and separate page in the HTML version),\n",
    "so that you don't accidentally see the hint or answer for the next exercise.\n",
    "However, the PDF version has several hints and answers on the same page.\n",
    "Once you have read the hint or answer in HTML or PDF, you can return to the\n",
    "exercise by using the 'back' command of your browser or PDF app.\n",
    "\n",
    "This book uses a few conventions, explained next.\n",
    "All formats look slightly different, due to the way the PDF and HTML books are\n",
    "generated from the notebooks.\n",
    "\n",
    "Exercises are numbered consecutively from 1 in each section,\n",
    "so that you can easily refer to them in the forums and tutorials.\n",
    "For example, Exercise&nbsp;1.3.2 is the second exercise of Section&nbsp;3 of Chapter&nbsp;1.\n",
    "\n",
    "Besides exercises, the book has short questions\n",
    "to check your understanding of the concepts.\n",
    "Each question and its answer are separated by a horizontal line like this:\n",
    "\n",
    "___\n",
    "\n",
    "Consider the lines as 'stop and think' signs. At these points\n",
    "you should stop reading, answer the question in your head,\n",
    "and then continue.\n",
    "\n",
    "Terms in bold, e.g. **algorithm**, may occur in the assessment.\n",
    "You must be able to understand these terms and use them in your answers.\n",
    "You don't have to memorise definitions."
   ]
  },
  {
   "cell_type": "markdown",
   "metadata": {
    "tags": [
     "INFO"
    ]
   },
   "source": [
    "<div class=\"alert alert-info\">\n",
    "<strong>Info:</strong> I use information boxes like this one to indicate alternative terms you may find\n",
    "in other books or on the web, to refer back to TM112,\n",
    "to provide the sources of exercises and data, etc.\n",
    "You can skip information boxes: they won't be assessed.\n",
    "Information boxes are blue in the Jupyter and HTML formats, and\n",
    "they are simply text framed by two horizontal lines in the PDF book.\n",
    "</div>"
   ]
  },
  {
   "cell_type": "markdown",
   "metadata": {
    "tags": [
     "NOTE"
    ]
   },
   "source": [
    "<div class=\"alert alert-warning\">\n",
    "<strong>Note:</strong> I use advice boxes like this one for important teaching points,\n",
    "e.g. to help you solve problems and implement algorithms more effectively.\n",
    "Most advice boxes are in the main sections,\n",
    "but some appear in the solutions to exercises.\n",
    "Advice boxes are orange in the notebooks, beige in the HTML book, and\n",
    "they are simply text framed by a rectangle in the PDF book.\n",
    "</div>"
   ]
  },
  {
   "cell_type": "markdown",
   "metadata": {},
   "source": [
    "Code examples look like this:"
   ]
  },
  {
   "cell_type": "code",
   "execution_count": 1,
   "metadata": {
    "execution": {
     "iopub.execute_input": "2021-09-10T15:34:52.923361Z",
     "iopub.status.busy": "2021-09-10T15:34:52.922508Z",
     "iopub.status.idle": "2021-09-10T15:34:52.924712Z",
     "shell.execute_reply": "2021-09-10T15:34:52.925551Z"
    }
   },
   "outputs": [],
   "source": [
    "def list_length(a_list):\n",
    "    \"\"\"Return the length of a list.\"\"\"\n",
    "    length = 0\n",
    "    for item in a_list:\n",
    "        length = length + 1\n",
    "    return length"
   ]
  },
  {
   "cell_type": "markdown",
   "metadata": {
    "tags": [
     "INFO"
    ]
   },
   "source": [
    "<div class=\"alert alert-info\">\n",
    "<strong>Info:</strong> This function appears in TM112 Block&nbsp;2 Section&nbsp;4.1.4.\n",
    "</div>"
   ]
  },
  {
   "cell_type": "markdown",
   "metadata": {},
   "source": [
    "If the code produces some result, it's shown immediately below:"
   ]
  },
  {
   "cell_type": "code",
   "execution_count": 2,
   "metadata": {
    "execution": {
     "iopub.execute_input": "2021-09-10T15:34:52.936516Z",
     "iopub.status.busy": "2021-09-10T15:34:52.935841Z",
     "iopub.status.idle": "2021-09-10T15:34:52.938806Z",
     "shell.execute_reply": "2021-09-10T15:34:52.939568Z"
    }
   },
   "outputs": [
    {
     "data": {
      "text/plain": [
       "3"
      ]
     },
     "execution_count": 1,
     "metadata": {},
     "output_type": "execute_result"
    }
   ],
   "source": [
    "list_length(['on your marks', 'get set', 'go!'])"
   ]
  },
  {
   "cell_type": "markdown",
   "metadata": {},
   "source": [
    "Note the use of **syntax colouring** to highlight the different parts of the\n",
    "code: strings, special words, function names, etc.\n",
    "Each book format may use a different colour scheme.\n",
    "\n",
    "Code fragments and templates, i.e. text that looks like code but can't be\n",
    "executed, is typeset as follows.\n",
    "```py\n",
    "for item in collection:\n",
    "    process the item\n",
    "```\n",
    "Code within a paragraph of text is typeset like this: `length = length + 1`.\n",
    "\n",
    "Occasionally, code lines are longer than the page width, like this one:"
   ]
  },
  {
   "cell_type": "code",
   "execution_count": 3,
   "metadata": {
    "execution": {
     "iopub.execute_input": "2021-09-10T15:34:52.943465Z",
     "iopub.status.busy": "2021-09-10T15:34:52.942734Z",
     "iopub.status.idle": "2021-09-10T15:34:52.944653Z",
     "shell.execute_reply": "2021-09-10T15:34:52.945367Z"
    }
   },
   "outputs": [],
   "source": [
    "a_long_variable_name_for_a_long_and_silly_string = 'supercalifragilisticexpialidocious is quite atrocious rather than delicious'"
   ]
  },
  {
   "cell_type": "markdown",
   "metadata": {},
   "source": [
    "In the PDF book, long lines are split in two or more.\n",
    "Each line besides the first one starts with the symbol ⮑\n",
    "to show it's the continuation of the previous line.\n",
    "Spaces at the end of a line are explicitly shown with the symbol ⎵.\n",
    "In the Jupyter and HTML books, use the mouse to\n",
    "scroll the long line to the right and read the rest of it."
   ]
  },
  {
   "cell_type": "markdown",
   "metadata": {},
   "source": [
    "### 1.2.2 Mindset"
   ]
  },
  {
   "cell_type": "markdown",
   "metadata": {},
   "source": [
    "An important part of your study preparation is to get into the right mindset.\n",
    "\n",
    "As I mentioned, problem solving requires practice: lots of it, and regularly.\n",
    "There's no recipe for solving\n",
    "computational problems, especially when we're looking for the most efficient\n",
    "algorithm. There are general techniques, but it requires creativity to select\n",
    "the right one and adapt it to the problem at hand. You must view the problem\n",
    "from different perspectives, explore alternatives, weigh their pros and cons.\n",
    "Creativity is in part a systematic exploration of different approaches.\n",
    "There will be dead ends and you need to give your brain a break to start\n",
    "afresh. It's hard to have marathons of creativity.\n",
    "Think little and often about the M269 exercises.\n",
    "Use idle periods (like queuing) to mull over them, preferably every day.\n",
    "\n",
    "As toddlers we stood up on our own, tried to walk, fell and got hurt.\n",
    "That didn't stop us continuing trying and eventually succeeding.\n",
    "Likewise, when solving problems our initial attempts probably won't work:\n",
    "our algorithms will not compute the correct output for some inputs,\n",
    "they won't be efficient for large inputs, the code will crash. At such times,\n",
    "it's easy to get frustrated and fed up, give up, and move to the next exercise.\n",
    "It's easy and wrong. We learn more from our mistakes than from our successes.\n",
    "Throughout the book I'll give you tips on how to handle errors,\n",
    "but it helps from the outset if you take mistakes in your stride,\n",
    "as an unavoidable part of problem solving,\n",
    "instead of as something to despair about.\n",
    "\n",
    "You should also remember that you're not alone and\n",
    "that problem solving is a social activity.\n",
    "In professional practice, problems are solved in teams that bounce ideas around,\n",
    "discuss alternative designs, and look at each other's code.\n",
    "You can discuss the exercises with your tutor and in the forums, ask for help,\n",
    "and even work on the exercises together with other students.\n",
    "Studying part-time at a distance can feel lonely at times, so you may wish\n",
    "to have some 'study buddies' whom you meet regularly online or face to face.\n",
    "\n",
    "Note however that you'll have to work on the assignments by yourself.\n",
    "Employers need assurances that you have the knowledge and the skills\n",
    "to become an active player in their problem-solving teams.\n",
    "You can however ask for clarifications:\n",
    "if a question isn't clear, contact your tutor."
   ]
  },
  {
   "cell_type": "markdown",
   "metadata": {
    "tags": [
     "NOTE"
    ]
   },
   "source": [
    "<div class=\"alert alert-warning\">\n",
    "<strong>Note:</strong> Problem solving requires regular\n",
    "hard work, grit, resilience, and a willingness to fail and to ask for help.\n",
    "</div>"
   ]
  },
  {
   "cell_type": "markdown",
   "metadata": {},
   "source": [
    "### 1.2.3 Time allocation"
   ]
  },
  {
   "cell_type": "markdown",
   "metadata": {},
   "source": [
    "As I mentioned before, plan to study for an _average_ of 10&nbsp;hours per week.\n",
    "Each week corresponds to one book chapter.\n",
    "The material gets progressively harder, so early weeks like this one\n",
    "don't require 10&nbsp;hours to read and work through, while others may require more."
   ]
  },
  {
   "cell_type": "markdown",
   "metadata": {
    "tags": [
     "NOTE"
    ]
   },
   "source": [
    "<div class=\"alert alert-warning\">\n",
    "<strong>Note:</strong> Get ahead of the study planner whenever you can.\n",
    "</div>"
   ]
  },
  {
   "cell_type": "markdown",
   "metadata": {},
   "source": [
    "Don't forget to plan for activities done outside the book,\n",
    "like installing software, attending tutorials,\n",
    "participating in the forums and working on the TMAs.\n",
    "\n",
    "The study planner allocates two study-free weeks to each TMA.\n",
    "The corresponding book chapters don't introduce new material:\n",
    "they just provide some guidance for the TMA.\n",
    "If you're studying more than one module, check all the submission dates and\n",
    "plan your work on TMAs accordingly.\n",
    "\n",
    "As part of your planning, set up a study routine that\n",
    "fits your personal and work life pattern.\n",
    "Don't fret if your routine gets occasionally thrown off by life events: the TMA\n",
    "weeks give you some slack to catch up. As you study M269 and gain experience\n",
    "in what works best for you, be prepared to change your initial plan."
   ]
  },
  {
   "cell_type": "markdown",
   "metadata": {},
   "source": [
    "#### Activity"
   ]
  },
  {
   "cell_type": "markdown",
   "metadata": {},
   "source": [
    "Go to Week&nbsp;1 of the study planner and\n",
    "do the preparation activities listed under the heading 'Section&nbsp;1.2':\n",
    "contact your tutor, book tutorials, subscribe to the forums, etc."
   ]
  },
  {
   "cell_type": "markdown",
   "metadata": {},
   "source": [
    "⟵ [Previous section](01_1_expectations.ipynb) | [Up](01-introduction.ipynb) | [Next section](01_3_software.ipynb) ⟶"
   ]
  }
 ],
 "metadata": {
  "kernelspec": {
   "display_name": "Python 3",
   "language": "python",
   "name": "python3"
  },
  "language_info": {
   "codemirror_mode": {
    "name": "ipython",
    "version": 3
   },
   "file_extension": ".py",
   "mimetype": "text/x-python",
   "name": "python",
   "nbconvert_exporter": "python",
   "pygments_lexer": "ipython3",
   "version": "3.8.5"
  }
 },
 "nbformat": 4,
 "nbformat_minor": 4
}
