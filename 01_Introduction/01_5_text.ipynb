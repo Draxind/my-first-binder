{
 "cells": [
  {
   "cell_type": "markdown",
   "metadata": {},
   "source": [
    "## 1.5 Text cells"
   ]
  },
  {
   "cell_type": "markdown",
   "metadata": {},
   "source": [
    "Text cells are written in Markdown, a widely used formatting notation.\n",
    "This section only introduces the most useful bits of Markdown."
   ]
  },
  {
   "cell_type": "markdown",
   "metadata": {
    "tags": [
     "INFO"
    ]
   },
   "source": [
    "<div class=\"alert alert-info\">\n",
    "<strong>Info:</strong> There are many Markdown variants. Jupyter notebooks use\n",
    "<a href=\"https://guides.github.com/features/mastering-markdown/\">GitHub flavoured Markdown</a>.\n",
    "</div>"
   ]
  },
  {
   "cell_type": "markdown",
   "metadata": {},
   "source": [
    "When editing a text or code cell, you can press the\n",
    "[usual keyboard shortcuts](https://www.howtogeek.com/115664/42-text-editing-keyboard-shortcuts-that-work-almost-everywhere/)\n",
    "to copy, cut and paste text, to undo and redo edits,\n",
    "to move the cursor to the start or end of the line,\n",
    "delete one whole word at a time, etc.\n",
    "If you're not in the habit of using them in email clients and word processors,\n",
    "it's time to learn them, as you'll type a lot of text and code in M269.\n",
    "\n",
    "You will change this notebook as you do the exercises below. I suggest\n",
    "you save this notebook now and after each exercise,\n",
    "to have a checkpoint you can revert to if needed."
   ]
  },
  {
   "cell_type": "markdown",
   "metadata": {},
   "source": [
    "### 1.5.1 Basic formatting"
   ]
  },
  {
   "cell_type": "markdown",
   "metadata": {},
   "source": [
    "Paragraphs are separated by blank lines.\n",
    "\n",
    "To break a line within a paragraph, end it with a backslash.\\\n",
    "The backslash (`\\`) isn't visible in the formatted text,\n",
    "but the next line won't be joined to the previous one.\n",
    "\n",
    "To obtain text in italics, surround it with an asterisk,\n",
    "e.g. `*text in italics*` produces *text in italics*.\n",
    "\n",
    "To obtain text in bold, surround it with two asterisks,\n",
    "e.g. `**bold text**` produces **bold text**.\n",
    "\n",
    "To obtain monospaced text, surround it with a backtick,\n",
    "e.g. `` `monospaced text` `` produces `monospaced text`.\n",
    "The backtick `` ` ``, also known as the grave accent,\n",
    "is not the same as the quote character `'`.\n",
    "If you can't see a backtick on your keyboard, search online\n",
    "for how to type it for your specific operating system and keyboard layout."
   ]
  },
  {
   "cell_type": "markdown",
   "metadata": {},
   "source": [
    "#### Exercise 1.5.1"
   ]
  },
  {
   "cell_type": "markdown",
   "metadata": {},
   "source": [
    "Add some formatting to the next paragraph, as per the instructions below."
   ]
  },
  {
   "cell_type": "markdown",
   "metadata": {},
   "source": [
    "Italics is used to emphasise text.\n",
    "Bold is used for stronger emphasis.\n",
    "Monospaced font is often used for text the user has to type."
   ]
  },
  {
   "cell_type": "markdown",
   "metadata": {},
   "source": [
    "1. Click on the above paragraph to select its text cell.\n",
    "   The left border should be blue, indicating command mode.\n",
    "2. Press Enter to get into edit mode.\n",
    "   The left border becomes green and the cell's text is shown in Markdown.\n",
    "3. Put the word 'emphasise' in italics, the word 'stronger' in bold, and\n",
    "   the words 'the user has to type' in monospaced font.\n",
    "4. Break the paragraph into three lines, one per sentence.\n",
    "5. Press Shift-Enter to format the text and check it's as intended.\n",
    "   If you still need to make changes, start again from step&nbsp;1.\n",
    "\n",
    "Once you finish the exercise, save the notebook.\n",
    "\n",
    "\n",
    "[Hint](../31_Hints/Hints_01_5_01.ipynb)\n",
    "[Answer](../32_Answers/Answers_01_5_01.ipynb)"
   ]
  },
  {
   "cell_type": "markdown",
   "metadata": {},
   "source": [
    "### 1.5.2 Lists"
   ]
  },
  {
   "cell_type": "markdown",
   "metadata": {},
   "source": [
    "Markdown supports numbered and unnumbered lists and sublists.\n",
    "The formatting rules are:"
   ]
  },
  {
   "cell_type": "markdown",
   "metadata": {},
   "source": [
    "1. Lists start after a blank line.\n",
    "1. Each item must be on its own line.\n",
    "    - Sublists are indented, e.g. by 4&nbsp;spaces per indentation level.\n",
    "        - Unnumbered list items start with a hyphen and space. The Markdown processor replaces the hyphen by a symbol that indicates the sublist level, e.g. a solid or hollow bullet point.\n",
    "    - Numbered list items start with `1.` followed by a space.\n",
    "1. Leave a blank line after the end of the list."
   ]
  },
  {
   "cell_type": "markdown",
   "metadata": {},
   "source": [
    "You can number the list items manually, but Markdown only looks at the number of\n",
    "the first item and then numbers all subsequent items incrementally.\n",
    "This has two implications. First, if you number all items as 1,\n",
    "you can reorder them without changing the numbers.\n",
    "Second, you can start a list with any number\n",
    "to continue the numbering from a previous list."
   ]
  },
  {
   "cell_type": "markdown",
   "metadata": {},
   "source": [
    "4. This first item is numbered 4 to continue the previous list.\n",
    "1. This item is numbered 1. Markdown renumbers it to 5.\n",
    "   1. This item is also numbered 1.\n",
    "   1. And so is this one. The numbering restarts for each sublist.\n",
    "1. This one is numbered 1 too."
   ]
  },
  {
   "cell_type": "markdown",
   "metadata": {},
   "source": [
    "If the sublist is numbered with letters a and b,\n",
    "or with Roman numerals i and ii, close and halt all notebooks,\n",
    "shut down the server, clear your browser's cache and close your browser.\n",
    "Then double-check the instructions in [Section&nbsp;1.3](../01_Introduction/01_3_software.ipynb#1.3-Software)\n",
    "to make sure your `custom.css` file is in the right place.\n",
    "Finally start a new server, and come back to this notebook.\n",
    "If the problem persists, ask for help in the forum.\n",
    "\n",
    "Now double-click anywhere on the above lists to see their Markdown formatting.\n",
    "Then run the cell to restore the formatted list."
   ]
  },
  {
   "cell_type": "markdown",
   "metadata": {},
   "source": [
    "#### Exercise 1.5.2"
   ]
  },
  {
   "cell_type": "markdown",
   "metadata": {},
   "source": [
    "Making tea consists of the following steps: boil water, put a teabag in a cup,\n",
    "pour the water, optionally add milk and sugar, drink.\n",
    "Write this procedure as a numbered list of steps.\n",
    "Write the optional ingredients as an unnumbered sublist,\n",
    "as they can be added in any order."
   ]
  },
  {
   "cell_type": "markdown",
   "metadata": {
    "tags": [
     "ANSWER"
    ]
   },
   "source": [
    "_Write your answer here._"
   ]
  },
  {
   "cell_type": "markdown",
   "metadata": {},
   "source": [
    "Once you finish the exercise, save the notebook.\n",
    "\n",
    "[Hint](../31_Hints/Hints_01_5_02.ipynb)\n",
    "[Answer](../32_Answers/Answers_01_5_02.ipynb)"
   ]
  },
  {
   "cell_type": "markdown",
   "metadata": {},
   "source": [
    "### 1.5.3 Tables"
   ]
  },
  {
   "cell_type": "markdown",
   "metadata": {},
   "source": [
    "Tables consist of one header row and one or more data rows.\n",
    "Tables are formatted with vertical bars (`|`) to separate columns.\n",
    "(On some keyboards the vertical bar has a slight gap in the middle.)\n",
    "After the header row, write a line of the form `-|-|-`,\n",
    "with as many hyphens as columns.\n",
    "Then write the data rows, one per line, with vertical bars as column separators.\n",
    "Here's an example. As usual, double-click on it to reveal the Markdown source."
   ]
  },
  {
   "cell_type": "markdown",
   "metadata": {},
   "source": [
    "Markdown | Result\n",
    "-|-\n",
    "`*text*` | *text*\n",
    "`**text**` | **text**"
   ]
  },
  {
   "cell_type": "markdown",
   "metadata": {},
   "source": [
    "#### Exercise 1.5.3"
   ]
  },
  {
   "cell_type": "markdown",
   "metadata": {},
   "source": [
    "Change the table below as follows:\n",
    "\n",
    "1. Add a third column, for Windows or Linux (your choice).\n",
    "1. Add data rows for further shortcuts you find useful to note down.\n",
    "   Feel free to remove or edit the two given rows.\n",
    "1. Fill the column for your operating system and leave the column for the other one empty. (If you use both then by all means fill both columns.)\n",
    "1. Press Shift-Enter to format the table. If it appears all jumbled up,\n",
    "   you may have not enough hyphens and vertical bars,\n",
    "   or put them in the wrong place."
   ]
  },
  {
   "cell_type": "markdown",
   "metadata": {},
   "source": [
    "macOS | Effect\n",
    "-|-\n",
    "Cmd-X | cut the selected text\n",
    "Cmd-Z | undo the last edit in this cell"
   ]
  },
  {
   "cell_type": "markdown",
   "metadata": {},
   "source": [
    "Once you finish the exercise, save the notebook.\n",
    "(I sound like a broken record, I know.) <!-- Maybe change to (I keep saying this, but saving your work regularly is important.) or similar? -->\n",
    "\n",
    "[Hint](../31_Hints/Hints_01_5_03.ipynb)\n",
    "[Answer](../32_Answers/Answers_01_5_03.ipynb)"
   ]
  },
  {
   "cell_type": "markdown",
   "metadata": {},
   "source": [
    "### 1.5.4 Adding study notes"
   ]
  },
  {
   "cell_type": "markdown",
   "metadata": {},
   "source": [
    "Since text cells are editable, you can add notes\n",
    "(clarifications, to-do items, etc.) anywhere among my text.\n",
    "The simplest is to start each note with the same text\n",
    "enclosed in three asterisks, to make it bold italics, e.g. `***My note:***`.\n",
    "This makes it easier to spot your notes and to search for them,\n",
    "using your browser's search command."
   ]
  },
  {
   "cell_type": "markdown",
   "metadata": {},
   "source": [
    "If you're willing to type some HTML, you can style text in various ways,\n",
    "like <span style='background:yellow'>highlighting it</span>,\n",
    "<span style='color:blue'>changing its colour</span>,\n",
    "or combinations thereof, e.g.\n",
    "<span style='color:blue;background:yellow'>**blue bold highlighted text**</span>.\n",
    "Double-click this paragraph to see how it's done."
   ]
  },
  {
   "cell_type": "markdown",
   "metadata": {},
   "source": [
    "If you want your note to link to some resource, type `[text](URL)`,\n",
    "e.g. `[Open University](https://www.open.ac.uk)`\n",
    "produces [Open University](https://www.open.ac.uk).\n",
    "The URL can be the path to a local file, e.g. another notebook.\n",
    "All links to hints and answers are done that way.\n",
    "\n",
    "There's more to text formatting in notebooks, but the above\n",
    "should cover all you need for M269."
   ]
  },
  {
   "cell_type": "markdown",
   "metadata": {
    "tags": [
     "NOTE"
    ]
   },
   "source": [
    "<div class=\"alert alert-warning\">\n",
    "<strong>Note:</strong> To learn how to achieve a particular effect you see in my text,\n",
    "double-click the text cell to reveal the Markdown source,\n",
    "and then press Shift-Enter to format it again.\n",
    "</div>"
   ]
  },
  {
   "cell_type": "markdown",
   "metadata": {},
   "source": [
    "#### Exercise 1.5.4"
   ]
  },
  {
   "cell_type": "markdown",
   "metadata": {},
   "source": [
    "Replace the prompt below by a study note, formatted as you wish.\n",
    "Include a link to a local file or a web page."
   ]
  },
  {
   "cell_type": "markdown",
   "metadata": {
    "tags": [
     "ANSWER"
    ]
   },
   "source": [
    "_Write your answer here._"
   ]
  },
  {
   "cell_type": "markdown",
   "metadata": {},
   "source": [
    "Save the notebook after finishing the exercise.\n",
    "\n",
    "[Answer](../32_Answers/Answers_01_5_04.ipynb)"
   ]
  },
  {
   "cell_type": "markdown",
   "metadata": {},
   "source": [
    "### 1.5.5 Adding cells"
   ]
  },
  {
   "cell_type": "markdown",
   "metadata": {},
   "source": [
    "If you're writing a longer study note, you may prefer to\n",
    "have it in a separate cell. Here's the quickest way to do it:"
   ]
  },
  {
   "cell_type": "markdown",
   "metadata": {},
   "source": [
    "1. Click on the paragraph above to select it and switch to command mode.\n",
    "1. Press B (not Shift-B).\n",
    "   This adds a code cell below the paragraph and selects it.\n",
    "   You can spot it's a code cell because\n",
    "   there's a placeholder for a counter on the left, and the tool bar changed.\n",
    "\n",
    "![This screenshot shows the Jupyter toolbar button that allows you to\n",
    "change the type of the current cell. The button is between\n",
    "the fast-forward icon to its left and the keyboard icon to its right.\n",
    "In the screenshot, the button's label is 'Code'.](01_5_code_indicator.png)\n",
    "\n",
    "3. Press M (not Shift-M) to change the code cell to a text (Markdown) cell.\n",
    "1. Press Enter to switch to edit mode. You can now start writing your note.\n",
    "1. If you don't want to write a note and prefer to delete the created cell,\n",
    "   press Esc to get back to command mode and press D (not Shift-D) twice.\n",
    "\n",
    "To add a new cell above (instead of below) the currently selected one,\n",
    "press A instead of B.\n",
    "\n",
    "You can now save this notebook, open the next one, and close and halt this one."
   ]
  },
  {
   "cell_type": "markdown",
   "metadata": {},
   "source": [
    "⟵ [Previous section](01_4_notebooks.ipynb) | [Up](01-introduction.ipynb) | [Next section](01_6_code.ipynb) ⟶"
   ]
  }
 ],
 "metadata": {
  "kernelspec": {
   "display_name": "Python 3",
   "language": "python",
   "name": "python3"
  },
  "language_info": {
   "codemirror_mode": {
    "name": "ipython",
    "version": 3
   },
   "file_extension": ".py",
   "mimetype": "text/x-python",
   "name": "python",
   "nbconvert_exporter": "python",
   "pygments_lexer": "ipython3",
   "version": "3.8.5"
  }
 },
 "nbformat": 4,
 "nbformat_minor": 4
}
