{
 "cells": [
  {
   "cell_type": "markdown",
   "metadata": {},
   "source": [
    "## 4.9 Summary"
   ]
  },
  {
   "cell_type": "markdown",
   "metadata": {},
   "source": [
    "A sequence is an ordered collection of zero or more items, also called\n",
    "the sequence's members or elements.\n",
    "The empty sequence has no members.\n",
    "A sequence is sorted if it is ordered by ascending or descending value.\n",
    "This requires all items to be pairwise comparable.\n",
    "If all items are of the same type, the sequence is homogeneous;\n",
    "otherwise, it's heterogeneous.\n",
    "If a sequence can't be modified, it's immutable; otherwise, it's mutable.\n",
    "If two sequences have the same items, but possibly in a different order,\n",
    "then each sequence is a permutation of the other.\n",
    "Strings are homogeneous sequences of characters.\n",
    "\n",
    "Python's `str`, `range`, `tuple` and `list` types implement immutable strings,\n",
    "immutable sequences of integers, immutable sequences and mutable sequences,\n",
    "respectively.\n",
    "Tuples and lists can contain items of any type, in particular\n",
    "other tuples or lists. This can be used to represent tables."
   ]
  },
  {
   "cell_type": "markdown",
   "metadata": {},
   "source": [
    "### 4.9.1 Sequence operations"
   ]
  },
  {
   "cell_type": "markdown",
   "metadata": {},
   "source": [
    "The following tables list the operations supported by the sequence ADT\n",
    "and Python's data types, and their assumed complexities in M269.\n",
    "If two complexities are listed, they're the best- and worst-case complexities.\n",
    "\n",
    "In the following, _s_, _s1_, ... are sequences and _i_, _i1_, ... are integers.\n",
    "\n",
    "Operation | English/maths | Python | Complexity\n",
    ":-|:-|:-|:-\n",
    "length | │*s*│ | `len(s)` | Θ(1)\n",
    "membership | _item_ in _s_ or _item_&nbsp;$\\in$&nbsp;_s_| `item in s` | Θ(1), Θ(│*s*│)\n",
    "minimum, maximum  | min(_s_) max(_s_)  | `min(s)` `max(s)` | Θ(│*s*│)\n",
    "comparisons | _s1_ = _s2_, _s1_ < _s2_, etc. | `s1 == s2`, etc. | Θ(1), Θ(min(│*s1*│,&nbsp;│*s2*│))\n",
    "concatenation | _s1_ + _s2_ | `s1 + s2` | Θ(│*s1*│ + │*s2*│)\n",
    "repeated concatenation | _s_ × _i_ or _i_ × _s_ | `s * i` | Θ(│*s*│ × _i_)\n",
    "indexing | $s_i$ or _s_[*i*] | `s[i]` | Θ(1)\n",
    "slicing | _s_[_i1_:*i2*] | `s[i1:i2]` | Θ(_i2_ - _i1_)\n",
    "sorting | _s_ in ascending order | `sorted(s)` | Θ(│*s*│), Θ(│*s*│²)\n",
    "&nbsp;  | _s_ in descending order | `sorted(s, reverse=True)` | Θ(│*s*│), Θ(│*s*│²)\n",
    "\n",
    "The indexing operation obtains the item at the given index.\n",
    "The first (left-most) item is at index zero.\n",
    "The slice _s_[_i1_:*i2*] is the sequence from _s_[*i1*] to _s_[_i2_-1].\n",
    "\n",
    "If sequences _s1_, _s2_ and _s_ satisfy _s1_ + _s2_ = _s_, then\n",
    "_s1_ is a prefix of _s_ and _s2_ is a suffix of _s_.\n",
    "If sequences _s1_, _s2_, _s3_ and _s_ satisfy _s1_ + _s2_ + _s3_ = _s_,\n",
    "then _s2_ is a substring of _s_.\n",
    "\n",
    "The following operations apply to mutable sequences only.\n",
    "\n",
    "Operation | English | Python | Complexity\n",
    "-|-|-|-\n",
    "replace item  | let _s_[*i*] be _new_ | `s[i] = new` | Θ(1)\n",
    "remove item | remove _s_[*i*] | `s.pop(i)` | Θ(│*s*│ - _i_)\n",
    "insert item | insert _new_ at _i_ in _s_ | `s.insert(i, new)` | Θ(│*s*│ - _i_)\n",
    "append item | append _new_ to _s_ | `s.append(new)` | Θ(1)\n",
    "sort sequence | put _s_ in ascending order | `s.sort()`  | Θ(│*s*│²)\n",
    "&nbsp; | put _s_ in descending order | `s.sort(reverse=True)` | Θ(│*s*│²)\n",
    "\n",
    "Sequence _s1_ is a subsequence of _s_ if _s1_ can be obtained from _s_ by\n",
    "deleting zero or more, not necessarily consecutive, items."
   ]
  },
  {
   "cell_type": "markdown",
   "metadata": {},
   "source": [
    "### 4.9.2 IPython"
   ]
  },
  {
   "cell_type": "markdown",
   "metadata": {},
   "source": [
    "The IPython command `%run -i filename` runs the code in file `filename.py`.\n",
    "We will use this to avoid copying code between notebooks.\n",
    "Don't modify the `m269_...py` files in folder `notebooks`."
   ]
  },
  {
   "cell_type": "markdown",
   "metadata": {},
   "source": [
    "### 4.9.3 Python"
   ]
  },
  {
   "cell_type": "markdown",
   "metadata": {},
   "source": [
    "A constant is a variable that keeps its initial value.\n",
    "Names of constants are written in uppercase.\n",
    "\n",
    "A constructor is a function with the same name as a type.\n",
    "It creates values of that type.\n",
    "\n",
    "Trying to apply an operation to the wrong type of values leads to a type error.\n",
    "Trying to access an item outside the range of indices leads to an index error.\n",
    "Python supports negative indices, which access items from right to left:\n",
    "the last (right-most) item is at index -1.\n",
    "\n",
    "If a function body ends without executing a return statement, then\n",
    "the return value is `None`, a keyword that represents 'nothing'.\n",
    "The only operations on `None` are the equality and inequality comparisons.\n",
    "\n",
    "A method is a function that is only known in the context of a data type.\n",
    "It is called using dot notation: `expression.method(arguments)`.\n",
    "To consult the documentation of a method, use dot notation: `help(type.method)`."
   ]
  },
  {
   "cell_type": "markdown",
   "metadata": {},
   "source": [
    "#### Strings"
   ]
  },
  {
   "cell_type": "markdown",
   "metadata": {},
   "source": [
    "A string literal starts and ends with the same kind of quote marks,\n",
    "either single quote (`'`), double quote (`\"`) or three quotes (`'''` or `\"\"\"`).\n",
    "The enclosing quotes are not part of the string, and they cannot occur in the\n",
    "string, e.g. a string enclosed in single quotes must not contain single quotes.\n",
    "Strings spanning multiple lines must be enclosed in three quotes.\n",
    "\n",
    "The `str` constructor produces a string representation of\n",
    "Booleans, numbers, lists and tuples.\n",
    "The `int` and `float` constructors convert a string to a number.\n",
    "\n",
    "In Python, `s1 in s2` checks if `s1` is a substring of `s2`.\n",
    "This corresponds to the membership operation if `s1` is a single character."
   ]
  },
  {
   "cell_type": "markdown",
   "metadata": {},
   "source": [
    "#### Ranges"
   ]
  },
  {
   "cell_type": "markdown",
   "metadata": {},
   "source": [
    "The data type `range` represents an immutable sequence of integers.\n",
    "The expression `range(start, end, step)` is the empty sequence when `start >= end`;\n",
    "otherwise it's the numbers `start`, `start+step`, ..., up to `high-1`."
   ]
  },
  {
   "cell_type": "markdown",
   "metadata": {},
   "source": [
    "#### Lists"
   ]
  },
  {
   "cell_type": "markdown",
   "metadata": {},
   "source": [
    "A list literal is enclosed by square brackets, with items separated by commas.\n",
    "The `list` constructor converts any sequence type to a list."
   ]
  },
  {
   "cell_type": "markdown",
   "metadata": {},
   "source": [
    "#### Tuples"
   ]
  },
  {
   "cell_type": "markdown",
   "metadata": {},
   "source": [
    "Tuple literals are enclosed in parentheses, with items separated by commas.\n",
    "A tuple of length one is written `(item,)`."
   ]
  },
  {
   "cell_type": "markdown",
   "metadata": {},
   "source": [
    "#### Iteration"
   ]
  },
  {
   "cell_type": "markdown",
   "metadata": {},
   "source": [
    "English | Python\n",
    ":-|:-\n",
    "for each _i_ from _i1_ to _i2_:  |  `for i in range(i1, i2+1):`\n",
    "for each _i_ from _i1_ down to _i2_:  |  `for i in range(i1, i2-1, -1):`\n",
    "for each _item_ in _sequence_:  |  `for item in sequence:`\n",
    "while _condition_:  | `while condition:`\n",
    "repeat _n_ times:  |  `for times in range(n):`\n",
    "\n",
    "A repeat-until loop like\n",
    "\n",
    "1. repeat:\n",
    "   1. do something\n",
    "2. until _condition_\n",
    "\n",
    "is translated to\n",
    "\n",
    "```py\n",
    "stop = False\n",
    "while not stop:\n",
    "    # do something\n",
    "    stop = condition\n",
    "```\n",
    "\n",
    "Both `for` and `while` are keywords.\n",
    "\n",
    "A for-loop and 'repeat _n_ times' should be used when\n",
    "the number of iterations is known before entering the loop;\n",
    "a while-loop or repeat-until loop should be used when\n",
    "the algorithm must decide each iteration whether to continue or stop,\n",
    "respectively.\n",
    "A while-loop may execute zero or more times;\n",
    "a repeat-until loop is executed one or more times.\n",
    "\n",
    "The following are equivalent ways of going through the items in a sequence.\n",
    "```py\n",
    "index = 0\n",
    "while index < len(sequence):\n",
    "    item = sequence[index]\n",
    "    # process item\n",
    "    index = index + 1\n",
    "```\n",
    "```py\n",
    "for index in range(len(sequence)):\n",
    "    item = sequence[index]\n",
    "    # process item\n",
    "```\n",
    "```py\n",
    "for item in sequence:\n",
    "    # process item\n",
    "```\n",
    "A nested loop is a loop within another, e.g. to go through all cells of a table."
   ]
  },
  {
   "cell_type": "markdown",
   "metadata": {},
   "source": [
    "### 4.9.4 Problems"
   ]
  },
  {
   "cell_type": "markdown",
   "metadata": {},
   "source": [
    "A search problem requires finding one or more items in a sequence that satisfy\n",
    "one or more conditions.\n",
    "A linear search checks every item of the sequence one by one.\n",
    "A global condition, that has to be satisfied by the whole sequence, can be\n",
    "represented by a Boolean flag that's set when the condition is satisfied.\n",
    "\n",
    "To define an operation that modifies some of its inputs, use this template:\n",
    "\n",
    "**Operation**: name\\\n",
    "**Inputs/Outputs**: variables that are modified\\\n",
    "**Inputs**: inputs that aren't modified\\\n",
    "**Preconditions**: conditions on the inputs and inputs/outputs\\\n",
    "**Output**: output that isn't an input\\\n",
    "**Postconditions**: conditions relating the inputs to the outputs\n",
    "\n",
    "In the postconditions, pre-_x_ is the value of input/output variable _x_\n",
    "before the operation and post-_x_ is its value after the operation.\n",
    "\n",
    "An in-place algorithm works directly on the input/output sequence,\n",
    "without using an additional sequence.\n",
    "\n",
    "The object ADT consists of all values of all other ADTs and\n",
    "two operations: equality and inequality."
   ]
  },
  {
   "cell_type": "markdown",
   "metadata": {},
   "source": [
    "### 4.9.5 Complexity"
   ]
  },
  {
   "cell_type": "markdown",
   "metadata": {},
   "source": [
    "A best- or worst-case scenario is a group of problem instances of varying sizes\n",
    "for which the operation takes the least (respectively, most) time to execute.\n",
    "\n",
    "A quadratic-time algorithm has complexity Θ(*n*²),\n",
    "where _n_ is an integer expression, e.g. the length of the input sequence.\n",
    "The algorithm's run-time quadruples when the input doubles."
   ]
  },
  {
   "cell_type": "markdown",
   "metadata": {},
   "source": [
    "⟵ [Previous section](04_8_practice.ipynb) | [Up](04-introduction.ipynb) | [Next section](../05_TMA01-1/05-introduction.ipynb) ⟶"
   ]
  }
 ],
 "metadata": {
  "kernelspec": {
   "display_name": "Python 3",
   "language": "python",
   "name": "python3"
  },
  "language_info": {
   "codemirror_mode": {
    "name": "ipython",
    "version": 3
   },
   "file_extension": ".py",
   "mimetype": "text/x-python",
   "name": "python",
   "nbconvert_exporter": "python",
   "pygments_lexer": "ipython3",
   "version": "3.8.5"
  }
 },
 "nbformat": 4,
 "nbformat_minor": 4
}
