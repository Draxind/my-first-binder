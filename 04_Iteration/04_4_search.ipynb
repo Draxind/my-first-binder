{
 "cells": [
  {
   "cell_type": "markdown",
   "metadata": {},
   "source": [
    "## 4.4 Linear search"
   ]
  },
  {
   "cell_type": "markdown",
   "metadata": {},
   "source": [
    "Many problems using sequences are **search problems**: they involve\n",
    "finding one or more elements of the sequence that satisfy some condition.\n",
    "Such problems can be solved with a **linear search**, an algorithm\n",
    "that goes systematically through the sequence and checks each element.\n",
    "This section shows some examples of linear searches at work\n",
    "and _en passant_ illustrates some finer points of the problem-solving process."
   ]
  },
  {
   "cell_type": "markdown",
   "metadata": {
    "tags": [
     "INFO"
    ]
   },
   "source": [
    "<div class=\"alert alert-info\">\n",
    "<strong>Info:</strong> TM112 Block&nbsp;2 Section&nbsp;2.3 introduces search problems and\n",
    "algorithmic patterns for them.\n",
    "</div>"
   ]
  },
  {
   "cell_type": "markdown",
   "metadata": {},
   "source": [
    "### 4.4.1 Finding characters"
   ]
  },
  {
   "cell_type": "markdown",
   "metadata": {},
   "source": [
    "Imagine that we have a non-empty string with one or more sentences,\n",
    "each ending with a full stop.\n",
    "We're asked to create a new string with just the first sentence.\n",
    "\n",
    "Although this isn't formulated as a search problem, it involves a search:\n",
    "finding the first full stop in the string. Once we know its index,\n",
    "we simply take the slice up to that index: that's the first sentence."
   ]
  },
  {
   "cell_type": "markdown",
   "metadata": {
    "tags": [
     "NOTE"
    ]
   },
   "source": [
    "<div class=\"alert alert-warning\">\n",
    "<strong>Note:</strong> Even if a problem isn't stated as a search problem,\n",
    "think whether doing a search could solve it.\n",
    "</div>"
   ]
  },
  {
   "cell_type": "markdown",
   "metadata": {},
   "source": [
    "#### Problem definition and instances"
   ]
  },
  {
   "cell_type": "markdown",
   "metadata": {},
   "source": [
    "Let's take the opportunity to define the more general problem of\n",
    "finding the first occurrence of a given character in a given string.\n",
    "\n",
    "**Function**: first index\\\n",
    "**Inputs**: _text_, a string; _character_, a string\\\n",
    "**Preconditions**: │*character*│ = 1\\\n",
    "**Output**: _index_, an integer\\\n",
    "**Postconditions**: if  _character_ in _text_,\n",
    "_index_ is the smallest integer such that _text_[*index*] = _character_,\n",
    "otherwise _index_ = │*text*│\n",
    "\n",
    "Search problems often have postconditions of the form\n",
    "'... is the first / last / smallest / largest ... such that ...' or similar.\n",
    "To indicate that the character doesn't occur in the text,\n",
    "the output is set to an impossible index.\n",
    "\n",
    "For the test table, I need to think of edge cases.\n",
    "An input sequence with the smallest allowed length is always an edge case.\n",
    "I also need to create tests for different options of where and how often\n",
    "_character_ occurs in _text_.\n",
    "\n",
    "Case | _text_ | _character_ | _index_\n",
    "-|-|-|-\n",
    "smallest input | ''  | 'a'  | 0\n",
    "occurs at start  | 'all'  | 'a'  | 0\n",
    "occurs in the middle  | 'abracadabra'  | 'c'  | 4\n",
    "occurs at the end  | 'hi!'  | '!'  | 2\n",
    "multiple occurrences  | 'abracadabra'  | 'b'  | 1\n",
    "no occurrence  | 'abracadabra'  | 'k'  | 11"
   ]
  },
  {
   "cell_type": "markdown",
   "metadata": {},
   "source": [
    "#### Algorithm"
   ]
  },
  {
   "cell_type": "markdown",
   "metadata": {},
   "source": [
    "The linear search algorithm simply goes through all the indices of the text and\n",
    "stops when it finds the character. The output is the index at which it stopped.\n",
    "Otherwise, the postconditions tell us the output is the length of the string.\n",
    "\n",
    "1. for each _index_ from 0 to │*text*│ - 1:\n",
    "   1. if _text_[*index*] = _character_:\n",
    "      1. stop\n",
    "1. let _index_ be │*text*│"
   ]
  },
  {
   "cell_type": "markdown",
   "metadata": {},
   "source": [
    "#### Complexity"
   ]
  },
  {
   "cell_type": "markdown",
   "metadata": {},
   "source": [
    "Whenever there's a stop statement within a loop, we must think of\n",
    "best- and worst-case scenarios: under which conditions does the algorithm\n",
    "stop the earliest and stop the latest?\n",
    "\n",
    "For this algorithm, the loop can stop in its first iteration\n",
    "if the first character of the text is the sought character.\n",
    "In that case step&nbsp;1.1, which takes constant time, is executed once,\n",
    "so the algorithm has best-case complexity Θ(1).\n",
    "\n",
    "In a worst-case scenario the algorithm goes through all characters.\n",
    "This may happen because the character doesn't occur at all\n",
    "or only in the last position.\n",
    "Step&nbsp;1.1 is executed │*text*│ times; the worst-case complexity is Θ(│*text*│).\n",
    "\n",
    "The complexity of linear search algorithms is often, but not always, constant in the best case and linear in the size of the sequence in the worst case."
   ]
  },
  {
   "cell_type": "markdown",
   "metadata": {},
   "source": [
    "#### Code and tests"
   ]
  },
  {
   "cell_type": "markdown",
   "metadata": {},
   "source": [
    "The translation to Python makes use of the `range` constructor.\n",
    "We must not forget that the end of the range isn't included and so must be\n",
    "one higher (or lower, if iterating backwards) than we need."
   ]
  },
  {
   "cell_type": "code",
   "execution_count": 1,
   "metadata": {
    "execution": {
     "iopub.execute_input": "2021-09-10T15:36:38.696766Z",
     "iopub.status.busy": "2021-09-10T15:36:38.696046Z",
     "iopub.status.idle": "2021-09-10T15:36:38.697911Z",
     "shell.execute_reply": "2021-09-10T15:36:38.698359Z"
    }
   },
   "outputs": [],
   "source": [
    "def first_index(text: str, character: str) -> int:\n",
    "    \"\"\"Return the lowest index of character in text.\n",
    "\n",
    "    Preconditions: len(character) = 1\n",
    "    Postconditions: if text includes character, then the output is\n",
    "    the lowest index such that text[index] = character,\n",
    "    otherwise the output is len(text)\n",
    "    \"\"\"\n",
    "    for index in range(len(text)):\n",
    "        if text[index] == character:\n",
    "            return index\n",
    "    return len(text)"
   ]
  },
  {
   "cell_type": "code",
   "execution_count": 2,
   "metadata": {
    "execution": {
     "iopub.execute_input": "2021-09-10T15:36:38.709117Z",
     "iopub.status.busy": "2021-09-10T15:36:38.708421Z",
     "iopub.status.idle": "2021-09-10T15:36:38.711378Z",
     "shell.execute_reply": "2021-09-10T15:36:38.712041Z"
    }
   },
   "outputs": [
    {
     "data": {
      "text/plain": [
       "True"
      ]
     },
     "execution_count": 1,
     "metadata": {},
     "output_type": "execute_result"
    }
   ],
   "source": [
    "first_index('', 'a') == 0"
   ]
  },
  {
   "cell_type": "code",
   "execution_count": 3,
   "metadata": {
    "execution": {
     "iopub.execute_input": "2021-09-10T15:36:38.716167Z",
     "iopub.status.busy": "2021-09-10T15:36:38.715572Z",
     "iopub.status.idle": "2021-09-10T15:36:38.718169Z",
     "shell.execute_reply": "2021-09-10T15:36:38.718852Z"
    }
   },
   "outputs": [
    {
     "data": {
      "text/plain": [
       "True"
      ]
     },
     "execution_count": 1,
     "metadata": {},
     "output_type": "execute_result"
    }
   ],
   "source": [
    "first_index('all', 'a') == 0"
   ]
  },
  {
   "cell_type": "code",
   "execution_count": 4,
   "metadata": {
    "execution": {
     "iopub.execute_input": "2021-09-10T15:36:38.722809Z",
     "iopub.status.busy": "2021-09-10T15:36:38.722070Z",
     "iopub.status.idle": "2021-09-10T15:36:38.726357Z",
     "shell.execute_reply": "2021-09-10T15:36:38.727150Z"
    }
   },
   "outputs": [
    {
     "data": {
      "text/plain": [
       "True"
      ]
     },
     "execution_count": 1,
     "metadata": {},
     "output_type": "execute_result"
    }
   ],
   "source": [
    "first_index('abracadabra', 'c') == 4"
   ]
  },
  {
   "cell_type": "code",
   "execution_count": 5,
   "metadata": {
    "execution": {
     "iopub.execute_input": "2021-09-10T15:36:38.731995Z",
     "iopub.status.busy": "2021-09-10T15:36:38.731348Z",
     "iopub.status.idle": "2021-09-10T15:36:38.733833Z",
     "shell.execute_reply": "2021-09-10T15:36:38.734557Z"
    }
   },
   "outputs": [
    {
     "data": {
      "text/plain": [
       "True"
      ]
     },
     "execution_count": 1,
     "metadata": {},
     "output_type": "execute_result"
    }
   ],
   "source": [
    "first_index('hi!', '!') == 2"
   ]
  },
  {
   "cell_type": "code",
   "execution_count": 6,
   "metadata": {
    "execution": {
     "iopub.execute_input": "2021-09-10T15:36:38.738655Z",
     "iopub.status.busy": "2021-09-10T15:36:38.738057Z",
     "iopub.status.idle": "2021-09-10T15:36:38.740393Z",
     "shell.execute_reply": "2021-09-10T15:36:38.741122Z"
    }
   },
   "outputs": [
    {
     "data": {
      "text/plain": [
       "True"
      ]
     },
     "execution_count": 1,
     "metadata": {},
     "output_type": "execute_result"
    }
   ],
   "source": [
    "first_index('abracadabra', 'b') == 1"
   ]
  },
  {
   "cell_type": "code",
   "execution_count": 7,
   "metadata": {
    "execution": {
     "iopub.execute_input": "2021-09-10T15:36:38.744610Z",
     "iopub.status.busy": "2021-09-10T15:36:38.744072Z",
     "iopub.status.idle": "2021-09-10T15:36:38.746411Z",
     "shell.execute_reply": "2021-09-10T15:36:38.746901Z"
    }
   },
   "outputs": [
    {
     "data": {
      "text/plain": [
       "True"
      ]
     },
     "execution_count": 1,
     "metadata": {},
     "output_type": "execute_result"
    }
   ],
   "source": [
    "first_index('abracadabra', 'k') == 11"
   ]
  },
  {
   "cell_type": "markdown",
   "metadata": {},
   "source": [
    "#### Performance"
   ]
  },
  {
   "cell_type": "markdown",
   "metadata": {},
   "source": [
    "To illustrate the use of repeated concatenation, let's check that the\n",
    "worst-case complexity is linear in the size of the input string.\n",
    "A worst-case scenario is for the sought character to not occur."
   ]
  },
  {
   "cell_type": "code",
   "execution_count": 8,
   "metadata": {
    "execution": {
     "iopub.execute_input": "2021-09-10T15:36:38.822603Z",
     "iopub.status.busy": "2021-09-10T15:36:38.786855Z",
     "iopub.status.idle": "2021-09-10T15:36:40.304820Z",
     "shell.execute_reply": "2021-09-10T15:36:40.305543Z"
    }
   },
   "outputs": [
    {
     "name": "stdout",
     "output_type": "stream",
     "text": [
      "34.4 µs ± 5.61 µs per loop (mean ± std. dev. of 3 runs, 1000 loops each)\n",
      "63.3 µs ± 6.1 µs per loop (mean ± std. dev. of 3 runs, 1000 loops each)\n",
      "125 µs ± 7.24 µs per loop (mean ± std. dev. of 3 runs, 1000 loops each)\n",
      "292 µs ± 7.97 µs per loop (mean ± std. dev. of 3 runs, 1000 loops each)\n"
     ]
    }
   ],
   "source": [
    "text = 100 * 'blah'   # start with a not too short string\n",
    "%timeit -r 3 -n 1000 first_index(text, '!')\n",
    "text = 200 * 'blah'\n",
    "%timeit -r 3 -n 1000 first_index(text, '!')\n",
    "text = 400 * 'blah'\n",
    "%timeit -r 3 -n 1000 first_index(text, '!')\n",
    "text = 800 * 'blah'\n",
    "%timeit -r 3 -n 1000 first_index(text, '!')"
   ]
  },
  {
   "cell_type": "markdown",
   "metadata": {},
   "source": [
    "On my computer, the run-time roughly doubles as the input size doubles,\n",
    "thereby confirming that the worst-case complexity is linear."
   ]
  },
  {
   "cell_type": "markdown",
   "metadata": {},
   "source": [
    "### 4.4.2 Valid password"
   ]
  },
  {
   "cell_type": "markdown",
   "metadata": {},
   "source": [
    "Consider the problem of deciding whether a given string is a valid password,\n",
    "which we take to mean having at least one lowercase letter and one digit.\n",
    "To keep the example short, I focus on the problem definition, algorithm and complexity only.\n",
    "\n",
    "**Function**: valid password\\\n",
    "**Inputs**: _password_, a string\\\n",
    "**Preconditions**: true\\\n",
    "**Output**: _is valid_, a Boolean\\\n",
    "**Postconditions**:\n",
    "_is valid_ if and only if _password_ contains a digit and a lowercase letter\n",
    "\n",
    "There are two conditions to be satisfied, so we should write at least four\n",
    "tests, with inputs that satisfy both, neither or just one of the conditions."
   ]
  },
  {
   "cell_type": "markdown",
   "metadata": {},
   "source": [
    "#### Exercise 4.4.1"
   ]
  },
  {
   "cell_type": "markdown",
   "metadata": {},
   "source": [
    "Write a test table. Add rows as necessary.\n",
    "\n",
    "Case | _password_ | _is valid_\n",
    "-|-|-\n",
    "  |   |\n",
    "\n",
    "[Hint](../31_Hints/Hints_04_4_01.ipynb)\n",
    "[Answer](../32_Answers/Answers_04_4_01.ipynb)"
   ]
  },
  {
   "cell_type": "markdown",
   "metadata": {},
   "source": [
    "#### Algorithm"
   ]
  },
  {
   "cell_type": "markdown",
   "metadata": {},
   "source": [
    "This is a decision problem that can be solved by\n",
    "searching for two characters with certain properties.\n",
    "We can use linear search again, as long as we remember if we found\n",
    "a lowercase letter and a digit so far. There are only two states for each,\n",
    "found or not found, so Boolean variables will do.\n",
    "This problem doesn't require keeping track of indices,\n",
    "so we can iterate over the string directly.\n",
    "\n",
    "1. let _has letter_ be false\n",
    "2. let _has digit_ be false\n",
    "3. for each _character_ in _password_:\n",
    "   1. if '0' ≤ _character_ ≤ '9':\n",
    "      1. let _has digit_ be true\n",
    "   1. if 'a' ≤ _character_ ≤ 'z':\n",
    "      1. let _has letter_ be true\n",
    "1. let _is valid_ be _has digit_ and _has letter_\n",
    "\n",
    "This is a typical use of Boolean variables as **flags**.\n",
    "A flag is 'raised', i.e. the Boolean is set to true, when some condition occurs\n",
    "and it stays raised to remember that the condition occurred.\n",
    "The use of Boolean flags is common in searches."
   ]
  },
  {
   "cell_type": "markdown",
   "metadata": {},
   "source": [
    "#### Exercise 4.4.2"
   ]
  },
  {
   "cell_type": "markdown",
   "metadata": {},
   "source": [
    "Explain whether the following algorithm is correct.\n",
    "\n",
    "1. let _has letter_ be false\n",
    "2. let _has digit_ be false\n",
    "3. for each _character_ in _password_:\n",
    "   1. let _has digit_ be '0' ≤ _character_ ≤ '9'\n",
    "   1. let _has letter_ be 'a' ≤ _character_ ≤ 'z'\n",
    "1. let _is valid_ be _has digit_ and _has letter_"
   ]
  },
  {
   "cell_type": "markdown",
   "metadata": {
    "tags": [
     "ANSWER"
    ]
   },
   "source": [
    "_Write your answer here._"
   ]
  },
  {
   "cell_type": "markdown",
   "metadata": {},
   "source": [
    "[Hint](../31_Hints/Hints_04_4_02.ipynb)\n",
    "[Answer](../32_Answers/Answers_04_4_02.ipynb)"
   ]
  },
  {
   "cell_type": "markdown",
   "metadata": {},
   "source": [
    "#### Exercise 4.4.3"
   ]
  },
  {
   "cell_type": "markdown",
   "metadata": {},
   "source": [
    "The algorithm goes through the whole string even\n",
    "if a lowercase letter and digit appear early on in the string.\n",
    "Alice and Bob are modifying the algorithm to stop as soon as it can.\n",
    "This is Alice's algorithm:\n",
    "\n",
    "1. let _has letter_ be false\n",
    "2. let _has digit_ be false\n",
    "3. for each _character_ in _password_:\n",
    "   1. if '0' ≤ _character_ ≤ '9':\n",
    "      1. let _has digit_ be true\n",
    "   1. if 'a' ≤ _character_ ≤ 'z':\n",
    "      1. let _has letter_ be true\n",
    "   1. if _has digit_ and _has letter_:\n",
    "      1. stop\n",
    "1. let _is valid_ be _has digit_ and _has letter_\n",
    "\n",
    "This is Bob's algorithm:\n",
    "\n",
    "1. let _has letter_ be false\n",
    "2. let _has digit_ be false\n",
    "3. for each _character_ in _password_:\n",
    "   1. if '0' ≤ _character_ ≤ '9':\n",
    "      1. let _has digit_ be true\n",
    "   1. if 'a' ≤ _character_ ≤ 'z':\n",
    "      1. let _has letter_ be true\n",
    "   1. let _is valid_ be _has digit_ and _has letter_\n",
    "   1. if _is valid_:\n",
    "      1. stop\n",
    "\n",
    "For each algorithm, explain whether it's correct or not."
   ]
  },
  {
   "cell_type": "markdown",
   "metadata": {
    "tags": [
     "ANSWER"
    ]
   },
   "source": [
    "_Write your answer here._"
   ]
  },
  {
   "cell_type": "markdown",
   "metadata": {},
   "source": [
    "[Answer](../32_Answers/Answers_04_4_03.ipynb)"
   ]
  },
  {
   "cell_type": "markdown",
   "metadata": {},
   "source": [
    "#### Complexity"
   ]
  },
  {
   "cell_type": "markdown",
   "metadata": {},
   "source": [
    "The complexity of an algorithm is an indication of how its run-time grows\n",
    "for increasingly large inputs. By definition, a constant-time step doesn't make\n",
    "the run-time grow and so doesn't contribute to the complexity of the algorithm.\n",
    "We can thus ignore all constant-time steps when analysing the complexity.\n",
    "Well, not quite all: we can't ignore if and stop statements,\n",
    "because they affect how the algorithm behaves. For the original algorithm,\n",
    "and Alice's, we ignore steps 1, 2, 3.1.1, 3.2.1 and&nbsp;4.\n",
    "(Bob's algorithm doesn't have a step&nbsp;4: we ignore step&nbsp;3.3 instead.)\n",
    "\n",
    "The 'partial' algorithm\n",
    "\n",
    "3. for each _character_ in _password_:\n",
    "   1. if '0' ≤ _character_ ≤ '9':\n",
    "   1. if 'a' ≤ _character_ ≤ 'z':\n",
    "\n",
    "has exactly the same complexity as the complete algorithm.\n",
    "Both if-statements take constant time, as each does one or two comparisons.\n",
    "Whether the current character is a letter, digit or something else,\n",
    "each iteration takes constant time.\n",
    "The complexity is thus linear in the number of iterations,\n",
    "which is the length of the input string: Θ(│*password*│).\n",
    "\n",
    "As mentioned before, the complexity of an algorithm is not about the\n",
    "run-times for particular problem instances, but rather about the growth of\n",
    "the run-times for instances with increasingly large values or sizes.\n",
    "Therefore, a scenario is a _collection_ of problem instances with\n",
    "increasing sizes or values: a scenario is not a _single_ problem instance.\n",
    "Even though this algorithm does the least work for the empty string,\n",
    "because the loop is skipped, the empty string is _not_ a best-case scenario."
   ]
  },
  {
   "cell_type": "markdown",
   "metadata": {},
   "source": [
    "#### Exercise 4.4.4"
   ]
  },
  {
   "cell_type": "markdown",
   "metadata": {},
   "source": [
    "What are best- and worst-case scenarios for a linear search algorithm that\n",
    "stops as soon as it knows the password is valid?"
   ]
  },
  {
   "cell_type": "markdown",
   "metadata": {
    "tags": [
     "ANSWER"
    ]
   },
   "source": [
    "_Write your answer here._"
   ]
  },
  {
   "cell_type": "markdown",
   "metadata": {},
   "source": [
    "[Hint](../31_Hints/Hints_04_4_04.ipynb)\n",
    "[Answer](../32_Answers/Answers_04_4_04.ipynb)"
   ]
  },
  {
   "cell_type": "markdown",
   "metadata": {},
   "source": [
    "#### Exercise 4.4.5"
   ]
  },
  {
   "cell_type": "markdown",
   "metadata": {},
   "source": [
    "Implement and test the password-validation function.\n",
    "You can choose the original algorithm or\n",
    "the more efficient version that stops early."
   ]
  },
  {
   "cell_type": "code",
   "execution_count": null,
   "metadata": {
    "tags": [
     "CODE"
    ]
   },
   "outputs": [],
   "source": [
    "# replace by your code"
   ]
  },
  {
   "cell_type": "markdown",
   "metadata": {},
   "source": [
    "Add code cells for the tests.\n",
    "\n",
    "[Answer](../32_Answers/Answers_04_4_05.ipynb)"
   ]
  },
  {
   "cell_type": "markdown",
   "metadata": {},
   "source": [
    "⟵ [Previous section](04_3_iteration.ipynb) | [Up](04-introduction.ipynb) | [Next section](04_5_tuples.ipynb) ⟶"
   ]
  }
 ],
 "metadata": {
  "kernelspec": {
   "display_name": "Python 3",
   "language": "python",
   "name": "python3"
  },
  "language_info": {
   "codemirror_mode": {
    "name": "ipython",
    "version": 3
   },
   "file_extension": ".py",
   "mimetype": "text/x-python",
   "name": "python",
   "nbconvert_exporter": "python",
   "pygments_lexer": "ipython3",
   "version": "3.8.5"
  }
 },
 "nbformat": 4,
 "nbformat_minor": 4
}
