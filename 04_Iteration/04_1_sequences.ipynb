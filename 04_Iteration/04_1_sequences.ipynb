{
 "cells": [
  {
   "cell_type": "markdown",
   "metadata": {},
   "source": [
    "## 4.1 The Sequence ADT"
   ]
  },
  {
   "cell_type": "markdown",
   "metadata": {},
   "source": [
    "A text is a sequence of characters. A to-do list is a sequence of tasks.\n",
    "A top 40 chart is a sequence of songs. A queue is a sequence of people.\n",
    "A **sequence** is a collection of items in a particular order:\n",
    "one item comes first, another comes second, and so on until the last item.\n",
    "The items in a sequence are also called its **members** or **elements**.\n",
    "An **empty sequence** has no elements, e.g. when all tasks have been done.\n",
    "Sequences tend to be **homogeneous**, with all items of the same data type,\n",
    "like the examples given, but can also be **heterogeneous**,\n",
    "i.e. include items of different types."
   ]
  },
  {
   "cell_type": "markdown",
   "metadata": {
    "tags": [
     "INFO"
    ]
   },
   "source": [
    "<div class=\"alert alert-info\">\n",
    "<strong>Info:</strong> In mathematics, sequences are usually lists of numbers that follow a certain pattern, like 1, 4, 7, 10, ... or 5, 10, 20, 40, ...\n",
    "They are special cases of the sequences used in computing.\n",
    "Numeric sequences are introduced in MU123 Unit&nbsp;9 Section&nbsp;1.1 and MST124 Unit&nbsp;10.\n",
    "</div>"
   ]
  },
  {
   "cell_type": "markdown",
   "metadata": {},
   "source": [
    "In M269 we write sequences as comma-separated lists of items,\n",
    "enclosed in parentheses: () is the empty sequence, while\n",
    "(1, 2, true) is a heterogeneous sequence of two integers and one Boolean.\n",
    "The order matters, so (1, 2, 3) and (1, 3, 2) are different sequences."
   ]
  },
  {
   "cell_type": "markdown",
   "metadata": {
    "tags": [
     "INFO"
    ]
   },
   "source": [
    "<div class=\"alert alert-info\">\n",
    "<strong>Info:</strong> There's no standard bracket to enclose sequences. Some texts use {...} or\n",
    "$\\langle$...$\\rangle$ or no brackets at all, like the MU123 and MST124 books.\n",
    "</div>"
   ]
  },
  {
   "cell_type": "markdown",
   "metadata": {},
   "source": [
    "The following are the most common operations on **immutable** sequences,\n",
    "i.e. sequences that cannot be modified.\n",
    "Operations on **mutable** sequences are given in [Section&nbsp;4.6](../04_Iteration/04_6_lists.ipynb#4.6-Lists)."
   ]
  },
  {
   "cell_type": "markdown",
   "metadata": {},
   "source": [
    "### 4.1.1 Inspecting sequences"
   ]
  },
  {
   "cell_type": "markdown",
   "metadata": {},
   "source": [
    "The following functions allow us to obtain some information about a sequence."
   ]
  },
  {
   "cell_type": "markdown",
   "metadata": {},
   "source": [
    "#### Size"
   ]
  },
  {
   "cell_type": "markdown",
   "metadata": {},
   "source": [
    "The **length** or **size** of a sequence _s_, written │*s*│,\n",
    "is the number of its elements. The empty sequence has length zero.\n",
    "We assume the size is stored in memory together with the sequence, and that\n",
    "the size is computed and updated when the sequence is created and modified.\n",
    "Hence the length operation can look up the size in constant time."
   ]
  },
  {
   "cell_type": "markdown",
   "metadata": {},
   "source": [
    "#### Indexing"
   ]
  },
  {
   "cell_type": "markdown",
   "metadata": {},
   "source": [
    "It's possible to obtain the first, second, ..., last item of a sequence\n",
    "with the **indexing** operation. In the sequence (true, false),\n",
    "true is at index zero and false is at index one. Because indices start at 0,\n",
    "the last index is one less than the sequence's length.\n",
    "\n",
    "The indexing function takes a sequence and an index, and returns\n",
    "the item at that index. The members of a sequence can be of any type, so\n",
    "we need a general ADT that includes every possible data item.\n",
    "In M269 we call it the **object** ADT.\n",
    "It only has two operations: equality and inequality.\n",
    "We can now define the indexing operation.\n",
    "\n",
    "**Function**: indexing\\\n",
    "**Inputs**: _values_, a sequence; _index_, an integer\\\n",
    "**Preconditions**: 0 ≤ _index_ < │*values*│ \\\n",
    "**Output**: _value_, an object\\\n",
    "**Postconditions**: _value_ is the _n_-th item of _values_, with _n_ = _index_ + 1\n",
    "\n",
    "The indexing operation is written in mathematics as $s_i$,\n",
    "for a sequence $s$ and index $i$.\n",
    "In computing, the more common notation is _s_[*i*].\n",
    "You can use both notations in M269.\n",
    "\n",
    "In M269, all data we need to process fits and is stored in the computer's main\n",
    "random-access memory (RAM). Any RAM position can be accessed in the same time,\n",
    "so we assume that indexing takes constant time."
   ]
  },
  {
   "cell_type": "markdown",
   "metadata": {},
   "source": [
    "#### Exercise 4.1.1"
   ]
  },
  {
   "cell_type": "markdown",
   "metadata": {},
   "source": [
    "Does the definition of the indexing function allow the operation\n",
    "to be applied to the empty sequence?"
   ]
  },
  {
   "cell_type": "markdown",
   "metadata": {
    "tags": [
     "ANSWER"
    ]
   },
   "source": [
    "_Write your answer here._"
   ]
  },
  {
   "cell_type": "markdown",
   "metadata": {},
   "source": [
    "[Hint](../31_Hints/Hints_04_1_01.ipynb)\n",
    "[Answer](../32_Answers/Answers_04_1_01.ipynb)"
   ]
  },
  {
   "cell_type": "markdown",
   "metadata": {},
   "source": [
    "#### Membership"
   ]
  },
  {
   "cell_type": "markdown",
   "metadata": {},
   "source": [
    "The **membership** operation, written $v \\in s$ or _v_ in _s_,\n",
    "checks whether value _v_ is an element of sequence _s_.\n",
    "Here's one way to define it.\n",
    "\n",
    "**Function**: membership\\\n",
    "**Inputs**: _values_, a sequence; _value_, an object\\\n",
    "**Preconditions**: true\\\n",
    "**Output**: _is member_, a Boolean\\\n",
    "**Postconditions**: _is member_ if and only if there's an integer _index_\n",
    "such that _values_[*index*] = _value_\n",
    "\n",
    "The postcondition states that the output is true only when there's an integer\n",
    "for which the indexing operation is defined and returns the input value.\n",
    "Note that the postcondition does _not_ state how such an index can be found.\n",
    "In the previous chapters, the postconditions were similar to the algorithm\n",
    "that implemented the operation. But postconditions aren't algorithms:\n",
    "they are conditions – Boolean expressions that must be true after the algorithm\n",
    "does its job. Postconditions _check_ the output: they don't _compute_ it.\n",
    "\n",
    "We assume the membership operation has best-case complexity Θ(1) and\n",
    "worst-case complexity Θ(│*values*│). The reasoning is as follows.\n",
    "To decide whether _value_ is an element of _values_, the operation has to\n",
    "go through each member of _values_ and check if it's equal to _value_.\n",
    "The best-case scenario, when the operation does the least work,\n",
    "is when the first member of the sequence is _value_:\n",
    "the search is over after one comparison.\n",
    "\n",
    "There are two worst-case scenarios, when the operation does the most work:\n",
    "the _value_ is the last item of the sequence or it doesn't occur at all.\n",
    "In both scenarios, the operation compares _value_ against all sequence members,\n",
    "i.e. it takes linear time in the length of the sequence:\n",
    "if the number of items doubles, the operation does double the work."
   ]
  },
  {
   "cell_type": "markdown",
   "metadata": {},
   "source": [
    "#### Comparison"
   ]
  },
  {
   "cell_type": "markdown",
   "metadata": {},
   "source": [
    "If the items of a sequence are **pairwise comparable**, i.e.\n",
    "each item can be compared to every other item, then\n",
    "we can apply the minimum and maximum operations to\n",
    "determine the smallest and largest values.\n",
    "\n",
    "The **lexicographic comparison** of two sequences does a\n",
    "pairwise comparison of items, one by one, until a decision can be made, i.e.\n",
    "items are compared until they differ or one sequence ends before the other.\n",
    "If two sequences are equal until one ends, then the shorter sequence is\n",
    "considered 'less than' the longer one. Some examples:\n",
    "\n",
    "- (1, 2) < (1, 2, 3) because the left sequence ends before the right one\n",
    "- (1, 3, 3) > (1, 2, 3) because the second item of the left sequence is greater than the second item of the right one\n",
    "- () < _s_ for any non-empty sequence _s_\n",
    "- (1, 2, 3) ≠ (1, true) because the second items differ.\n",
    "\n",
    "The last two sequences can only be compared for equality and inequality,\n",
    "because the other comparison operations aren't defined for 2 and true.\n",
    "\n",
    "As usual, we write _s1_ ≤ _s2_ to mean _s1_ < _s2_ or _s1_ = _s2_,\n",
    "and similarly for other operations.\n",
    "\n",
    "The comparison operations on sequences have best-case complexity Θ(1)\n",
    "because in the best-case scenario the first item of both sequences differ\n",
    "and a decision can be made after one comparison, which takes constant time.\n",
    "The comparisons have worst-case complexity Θ(min(│*left*│, │*right*│))\n",
    "because in a worst-case scenario all items of the shorter sequence\n",
    "(or all except the last one) are equal to the corresponding items of the longer\n",
    "sequence and the decision is delayed until the end of the shorter sequence."
   ]
  },
  {
   "cell_type": "markdown",
   "metadata": {},
   "source": [
    "### 4.1.2 Creating sequences"
   ]
  },
  {
   "cell_type": "markdown",
   "metadata": {},
   "source": [
    "The following operations create new sequences from existing ones."
   ]
  },
  {
   "cell_type": "markdown",
   "metadata": {},
   "source": [
    "#### Slicing"
   ]
  },
  {
   "cell_type": "markdown",
   "metadata": {},
   "source": [
    "The **slicing** operation extracts a consecutive sequence of items\n",
    "from the input sequence _s_. The resulting **slice** is defined by\n",
    "the given start and end indices. We follow Python's notation _s_[_start_:*end*]\n",
    "with the understanding that the item at the final index is  _not_ included.\n",
    "A slice is also called a **substring**.\n",
    "The term 'subsequence' has another meaning,\n",
    "explained in [Section&nbsp;4.6](../04_Iteration/04_6_lists.ipynb#4.6.1-Modifying-sequences).\n",
    "\n",
    "For example, if _s_ = (6, 7, 8, 9), then _s_[1:4] is the substring (7, 8, 9),\n",
    "with the items from indices 1 to 3, inclusive.\n",
    "In other words, it's the slice from the second to the fourth item.\n",
    "If _s_ has fewer than four items, then the slice isn't defined.\n",
    "Here's a definition:\n",
    "\n",
    "**Function**: slicing\\\n",
    "**Inputs**: _values_, a sequence; _start_, an integer; _end_, an integer\\\n",
    "**Preconditions**: 0 ≤ _start_ ≤ _end_ ≤ │*values*│\\\n",
    "**Output**: _substring_, a sequence\\\n",
    "**Postconditions**: _substring_ = (_values_[*start*], _values_[_start_ + 1], ..., _values_[_end_ - 1])\n",
    "\n",
    "The preconditions allow the end index to be equal to the length of the sequence,\n",
    "so that the last item can be included in the slice.\n",
    "If _start_ = _end_, then the slice is empty.\n",
    "\n",
    "There are two reasons why the item at index _end_ isn't included in the slice.\n",
    "First, it makes it easier to see how many items are in the slice. If the end\n",
    "item were included, the length of the slice would be _end_ − _start_ + 1.\n",
    "By not including it, │_s_[_start_:*end*]│ = _end_ - _start_, e.g.\n",
    "_s_[2:7] has five items.\n",
    "\n",
    "The second reason is to make it easier to split sequences.\n",
    "If you want to split a sequence _s_ at index _i_, then\n",
    "the 'left' part of the sequence is _s_[0:*i*] and\n",
    "the 'right' part is _s_[_i_:│ _s_ │].\n",
    "\n",
    "The slicing operation copies all items in the slice to a new sequence,\n",
    "so the complexity is linear in the size of the slice: Θ(_end_ - _start_)."
   ]
  },
  {
   "cell_type": "markdown",
   "metadata": {},
   "source": [
    "#### Concatenating"
   ]
  },
  {
   "cell_type": "markdown",
   "metadata": {},
   "source": [
    "The **concatenation** operation, written _left_ + _right_ in M269,\n",
    "forms a new sequence by joining both input sequences.\n",
    "\n",
    "**Function**: concatenation\\\n",
    "**Inputs**: _left_, a sequence; _right_, a sequence\\\n",
    "**Preconditions**: true\\\n",
    "**Output**: _joined_, a sequence\\\n",
    "**Postconditions**: _joined_ = (_left_[0], ..., _left_[│ _left_ │ - 1],\n",
    "_right_[0], ..., _right_[│ _right_ │ - 1])\n",
    "\n",
    "If sequence _s_ is empty, then there are no items _s_[0], ..., _s_[│ _s_ │ - 1].\n",
    "For example, if _left_ is empty, then\n",
    "_joined_ = (_right_[0], ..., _right_[│ _right_ │ - 1]).\n",
    "And if _right_ is also empty, then _joined_ = ().\n",
    "\n",
    "\n",
    "The concatenation _left_ + _right_ copies all items of _left_ and\n",
    "all items of _right_  to the new sequence, so the run-time is proportional to\n",
    "the number of items copied: │*left*│ + │*right*│. The concatenation operation is\n",
    "linear in the total length of the inputs: Θ(│*left*│ + │*right*│).\n",
    "If both inputs double their length, then the total number of items doubles,\n",
    "and so does the run-time of concatenation.\n",
    "\n",
    "A sequence _pattern_ is a **prefix** of a sequence _s_ if there's a sequence\n",
    "_rest_ such that _pattern_ + _rest_ = _s_. In other words,\n",
    "_pattern_ is a substring of _s_ that starts at index&nbsp;0 of _s_.\n",
    "Vice versa, if there's a sequence _rest_ such that _rest_ + _pattern_ = _s_, i.e. _s_ ends with _pattern_, then _pattern_ is a **suffix** of _s_.\n",
    "For every sequence _s_, () and _s_ are substrings of _s_, and\n",
    "hence also prefixes and suffixes of _s_."
   ]
  },
  {
   "cell_type": "markdown",
   "metadata": {},
   "source": [
    "#### Sorting"
   ]
  },
  {
   "cell_type": "markdown",
   "metadata": {},
   "source": [
    "A sequence can be **sorted** in ascending (smallest to largest item) or\n",
    "descending order if the items are pairwise comparable.\n",
    "For example, (3, 3, 7, 9) is in ascending order and\n",
    "(9, 7, 3, 3) is in descending order.\n",
    "Here's one definition:\n",
    "\n",
    "**Function**: ascending sort\\\n",
    "**Inputs**: _original_, a sequence\\\n",
    "**Preconditions**: all items in _original_ are pairwise comparable\\\n",
    "**Output**: _sorted_, a sequence\\\n",
    "**Postconditions**:\n",
    "\n",
    "- _sorted_ is a permutation of _original_\n",
    "- _sorted_[*index*] ≤ _sorted_[_index_+1] for _index_ = 0, 1, ..., │*sorted*│ - 2\n",
    "\n",
    "A **permutation** is a rearrangement.\n",
    "The first postcondition relates the output to the input:\n",
    "the output has the same items as the input, possibly in a different order.\n",
    "(The input sequence may already be in ascending order.)\n",
    "The second postcondition defines what ascending order means.\n",
    "\n",
    "In algorithms in English we write '_s_ in ascending order' or\n",
    "'_s_ in descending order' for some sequence _s_.\n",
    "The sorting functions produce a new sequence that can be part of\n",
    "a longer expression or be the right-hand side of an assignment, like\n",
    "\n",
    "> let _sorted_ be _sequence_ in ascending order\n",
    "\n",
    "Sorting can be the basis for solving other problems, e.g.\n",
    "finding the median (the middle value when values are sorted)\n",
    "or the ten largest values. We'll consider the complexity of sorting later."
   ]
  },
  {
   "cell_type": "markdown",
   "metadata": {},
   "source": [
    "⟵ [Previous section](04-introduction.ipynb) | [Up](04-introduction.ipynb) | [Next section](04_2_strings.ipynb) ⟶"
   ]
  }
 ],
 "metadata": {
  "kernelspec": {
   "display_name": "Python 3",
   "language": "python",
   "name": "python3"
  },
  "language_info": {
   "codemirror_mode": {
    "name": "ipython",
    "version": 3
   },
   "file_extension": ".py",
   "mimetype": "text/x-python",
   "name": "python",
   "nbconvert_exporter": "python",
   "pygments_lexer": "ipython3",
   "version": "3.8.5"
  }
 },
 "nbformat": 4,
 "nbformat_minor": 4
}
