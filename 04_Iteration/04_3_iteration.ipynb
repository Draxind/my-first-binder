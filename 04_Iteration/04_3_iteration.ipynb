{
 "cells": [
  {
   "cell_type": "markdown",
   "metadata": {},
   "source": [
    "## 4.3 Iteration"
   ]
  },
  {
   "cell_type": "markdown",
   "metadata": {},
   "source": [
    "There are two main ways of repeating instructions:\n",
    "a for-loop executes the instructions a fixed number of times;\n",
    "a while-loop repeatedly executes the instructions while a condition is true.\n",
    "Python supports both kinds of loops.\n",
    "I'll cover them through very simple examples that focus on\n",
    "how to express iteration in English and in Python.\n",
    "Full problems are left for a later section."
   ]
  },
  {
   "cell_type": "markdown",
   "metadata": {
    "tags": [
     "INFO"
    ]
   },
   "source": [
    "<div class=\"alert alert-info\">\n",
    "<strong>Info:</strong> TM112 introduces iteration in Block&nbsp;1:\n",
    "for-loops in Section&nbsp;2.2 and while-loops in Section&nbsp;4.5.\n",
    "</div>"
   ]
  },
  {
   "cell_type": "markdown",
   "metadata": {},
   "source": [
    "### 4.3.1 For-loops"
   ]
  },
  {
   "cell_type": "markdown",
   "metadata": {},
   "source": [
    "Here's an algorithm that displays some text vertically, one character per line:\n",
    "\n",
    "1. let _text_ be 'hello'\n",
    "1. for each _character_ in _text_:\n",
    "   1. print _character_\n",
    "\n",
    "This is translated to Python by just dropping the word 'each':"
   ]
  },
  {
   "cell_type": "code",
   "execution_count": 1,
   "metadata": {
    "execution": {
     "iopub.execute_input": "2021-09-10T15:36:35.827903Z",
     "iopub.status.busy": "2021-09-10T15:36:35.827138Z",
     "iopub.status.idle": "2021-09-10T15:36:35.829904Z",
     "shell.execute_reply": "2021-09-10T15:36:35.830526Z"
    }
   },
   "outputs": [
    {
     "name": "stdout",
     "output_type": "stream",
     "text": [
      "h\n",
      "e\n",
      "l\n",
      "l\n",
      "o\n"
     ]
    }
   ],
   "source": [
    "text = 'hello'\n",
    "for character in text:\n",
    "    print(character)"
   ]
  },
  {
   "cell_type": "markdown",
   "metadata": {},
   "source": [
    "Python's for-loop can only iterate over sequences.\n",
    "So, if we want to iterate over some numbers,\n",
    "we must create an integer sequence in Python.\n",
    "Python's `range` data type represents a sequence of consecutive integers.\n",
    "The corresponding constructor `range(start, end)` creates the sequence\n",
    "`start`, `start+1`, ..., `end-1`.\n",
    "The constructor behaves like the slicing operation:\n",
    "the start number is included, but the end number isn't.\n",
    "This means that the sequence is empty if `start >= end`.\n",
    "\n",
    "Here's a simple algorithm that prints some even numbers:\n",
    "\n",
    "1. for each _number_ from 1 to 5:\n",
    "   1. print 2 × _number_\n",
    "\n",
    "This is translated to Python as follows:"
   ]
  },
  {
   "cell_type": "code",
   "execution_count": 2,
   "metadata": {
    "execution": {
     "iopub.execute_input": "2021-09-10T15:36:35.833769Z",
     "iopub.status.busy": "2021-09-10T15:36:35.833146Z",
     "iopub.status.idle": "2021-09-10T15:36:35.835490Z",
     "shell.execute_reply": "2021-09-10T15:36:35.836053Z"
    }
   },
   "outputs": [
    {
     "name": "stdout",
     "output_type": "stream",
     "text": [
      "2\n",
      "4\n",
      "6\n",
      "8\n",
      "10\n"
     ]
    }
   ],
   "source": [
    "for number in range(1, 6):  # the end number is set one higher\n",
    "    print(2 * number)"
   ]
  },
  {
   "cell_type": "markdown",
   "metadata": {},
   "source": [
    "Some further examples:"
   ]
  },
  {
   "cell_type": "code",
   "execution_count": 3,
   "metadata": {
    "execution": {
     "iopub.execute_input": "2021-09-10T15:36:35.839549Z",
     "iopub.status.busy": "2021-09-10T15:36:35.838937Z",
     "iopub.status.idle": "2021-09-10T15:36:35.841368Z",
     "shell.execute_reply": "2021-09-10T15:36:35.841894Z"
    }
   },
   "outputs": [
    {
     "name": "stdout",
     "output_type": "stream",
     "text": [
      "-2\n"
     ]
    }
   ],
   "source": [
    "for number in range(-2, -1):\n",
    "    print(number)"
   ]
  },
  {
   "cell_type": "code",
   "execution_count": 4,
   "metadata": {
    "execution": {
     "iopub.execute_input": "2021-09-10T15:36:35.845022Z",
     "iopub.status.busy": "2021-09-10T15:36:35.844284Z",
     "iopub.status.idle": "2021-09-10T15:36:35.846113Z",
     "shell.execute_reply": "2021-09-10T15:36:35.846613Z"
    }
   },
   "outputs": [],
   "source": [
    "for number in range(3, 3):      # no output if start = end\n",
    "    print(number)"
   ]
  },
  {
   "cell_type": "code",
   "execution_count": 5,
   "metadata": {
    "execution": {
     "iopub.execute_input": "2021-09-10T15:36:35.849809Z",
     "iopub.status.busy": "2021-09-10T15:36:35.849246Z",
     "iopub.status.idle": "2021-09-10T15:36:35.851038Z",
     "shell.execute_reply": "2021-09-10T15:36:35.851683Z"
    }
   },
   "outputs": [],
   "source": [
    "for number in range(0, -1):     # no output if start > end\n",
    "    print(number)"
   ]
  },
  {
   "cell_type": "code",
   "execution_count": 6,
   "metadata": {
    "execution": {
     "iopub.execute_input": "2021-09-10T15:36:35.857159Z",
     "iopub.status.busy": "2021-09-10T15:36:35.856409Z",
     "iopub.status.idle": "2021-09-10T15:36:35.858915Z",
     "shell.execute_reply": "2021-09-10T15:36:35.859652Z"
    }
   },
   "outputs": [
    {
     "name": "stdout",
     "output_type": "stream",
     "text": [
      "0\n",
      "1\n",
      "2\n",
      "3\n"
     ]
    }
   ],
   "source": [
    "for number in range(4):         # start = 0 if omitted\n",
    "    print(number)"
   ]
  },
  {
   "cell_type": "markdown",
   "metadata": {},
   "source": [
    "Since the upper bound is excluded, and the lower bound is zero by default,\n",
    "`for index in range(len(s))` iterates over the indices of string `s`."
   ]
  },
  {
   "cell_type": "code",
   "execution_count": 7,
   "metadata": {
    "execution": {
     "iopub.execute_input": "2021-09-10T15:36:35.863953Z",
     "iopub.status.busy": "2021-09-10T15:36:35.863285Z",
     "iopub.status.idle": "2021-09-10T15:36:35.865728Z",
     "shell.execute_reply": "2021-09-10T15:36:35.866402Z"
    }
   },
   "outputs": [
    {
     "name": "stdout",
     "output_type": "stream",
     "text": [
      "h\n",
      "e\n",
      "l\n",
      "l\n",
      "o\n"
     ]
    }
   ],
   "source": [
    "text = 'hello'\n",
    "for index in range(len(text)):\n",
    "    print(text[index])"
   ]
  },
  {
   "cell_type": "markdown",
   "metadata": {},
   "source": [
    "The corresponding English algorithm is:\n",
    "\n",
    "1. let _text_ be 'hello'\n",
    "2. for each _index_ from 0 to │*text*│ - 1:\n",
    "   1. print _text_[*index*]\n",
    "\n",
    "It's possible to iterate backwards. Here's a countdown algorithm:\n",
    "\n",
    "1. for each _number_ from 10 down to 1:\n",
    "   1. print _number_\n",
    "\n",
    "This can be translated to Python like so:"
   ]
  },
  {
   "cell_type": "code",
   "execution_count": 8,
   "metadata": {
    "execution": {
     "iopub.execute_input": "2021-09-10T15:36:35.870252Z",
     "iopub.status.busy": "2021-09-10T15:36:35.869497Z",
     "iopub.status.idle": "2021-09-10T15:36:35.872448Z",
     "shell.execute_reply": "2021-09-10T15:36:35.873043Z"
    }
   },
   "outputs": [
    {
     "name": "stdout",
     "output_type": "stream",
     "text": [
      "10\n",
      "9\n",
      "8\n",
      "7\n",
      "6\n",
      "5\n",
      "4\n",
      "3\n",
      "2\n",
      "1\n"
     ]
    }
   ],
   "source": [
    "for number in range(10, 0, -1):\n",
    "    print(number)"
   ]
  },
  {
   "cell_type": "markdown",
   "metadata": {},
   "source": [
    "The third argument of `range` is the stepwise increment or decrement\n",
    "between consecutive numbers in the sequence, e.g.\n",
    "`range(start, end)` is shorthand for `range(start, end, 1)`.\n",
    "The end number is always excluded from the sequence, so\n",
    "here we must say the end is zero. Without the -1, the loop wouldn't execute,\n",
    "as the start (10) is larger than the end (0)."
   ]
  },
  {
   "cell_type": "markdown",
   "metadata": {},
   "source": [
    "#### Exercise 4.3.1"
   ]
  },
  {
   "cell_type": "markdown",
   "metadata": {},
   "source": [
    "Change step&nbsp;2 of this algorithm so that the string is printed backwards,\n",
    "character by character."
   ]
  },
  {
   "cell_type": "markdown",
   "metadata": {},
   "source": [
    "1. let _text_ be 'hello'\n",
    "2. for each _index_ from 0 to │*text*│ - 1:\n",
    "   1. print _text_[*index*]"
   ]
  },
  {
   "cell_type": "markdown",
   "metadata": {},
   "source": [
    "Translate step&nbsp;2 of your algorithm to Python."
   ]
  },
  {
   "cell_type": "code",
   "execution_count": 9,
   "metadata": {
    "execution": {
     "iopub.execute_input": "2021-09-10T15:36:35.877149Z",
     "iopub.status.busy": "2021-09-10T15:36:35.876536Z",
     "iopub.status.idle": "2021-09-10T15:36:35.980141Z",
     "shell.execute_reply": "2021-09-10T15:36:35.980833Z"
    }
   },
   "outputs": [
    {
     "ename": "TypeError",
     "evalue": "range expected 1 argument, got 0",
     "output_type": "error",
     "traceback": [
      "\u001b[0;31m---------------------------------------------------------------------------\u001b[0m",
      "\u001b[0;31mTypeError\u001b[0m                                 Traceback (most recent call last)",
      "\u001b[0;32m<ipython-input-1-bab4133b6b78>\u001b[0m in \u001b[0;36m<module>\u001b[0;34m\u001b[0m\n\u001b[1;32m      1\u001b[0m \u001b[0mtext\u001b[0m \u001b[0;34m=\u001b[0m \u001b[0;34m'hello'\u001b[0m\u001b[0;34m\u001b[0m\u001b[0;34m\u001b[0m\u001b[0m\n\u001b[0;32m----> 2\u001b[0;31m \u001b[0;32mfor\u001b[0m \u001b[0mindex\u001b[0m \u001b[0;32min\u001b[0m \u001b[0mrange\u001b[0m\u001b[0;34m(\u001b[0m\u001b[0;34m)\u001b[0m\u001b[0;34m:\u001b[0m   \u001b[0;31m# put the correct arguments in\u001b[0m\u001b[0;34m\u001b[0m\u001b[0;34m\u001b[0m\u001b[0m\n\u001b[0m\u001b[1;32m      3\u001b[0m     \u001b[0mprint\u001b[0m\u001b[0;34m(\u001b[0m\u001b[0mtext\u001b[0m\u001b[0;34m[\u001b[0m\u001b[0mindex\u001b[0m\u001b[0;34m]\u001b[0m\u001b[0;34m)\u001b[0m\u001b[0;34m\u001b[0m\u001b[0;34m\u001b[0m\u001b[0m\n",
      "\u001b[0;31mTypeError\u001b[0m: range expected 1 argument, got 0"
     ]
    }
   ],
   "source": [
    "text = 'hello'\n",
    "for index in range():   # put the correct arguments in\n",
    "    print(text[index])"
   ]
  },
  {
   "cell_type": "markdown",
   "metadata": {},
   "source": [
    "[Hint](../31_Hints/Hints_04_3_01.ipynb)\n",
    "[Answer](../32_Answers/Answers_04_3_01.ipynb)"
   ]
  },
  {
   "cell_type": "markdown",
   "metadata": {},
   "source": [
    "### 4.3.2 While-loops"
   ]
  },
  {
   "cell_type": "markdown",
   "metadata": {},
   "source": [
    "A for-loop executes a fixed number of times,\n",
    "while a while-loop executes as long as some condition is true.\n",
    "Strictly speaking, for-loops are unnecessary because something like\n",
    "\n",
    "1. for _number_ from _start_ to _end_:\n",
    "   1. do something with _number_\n",
    "\n",
    "can be rewritten as:\n",
    "\n",
    "1. let _number_ be _start_\n",
    "2. while _number_ ≤ _end_:\n",
    "   1. do something with _number_\n",
    "   1. let _number_ be _number_ + 1\n",
    "\n",
    "However, it's best to use for-loops rather than while-loops when\n",
    "the number of iterations is fixed, as for-loops make that clearer.\n",
    "\n",
    "Consider the problem of writing all the positive even numbers\n",
    "until some limit _highest_, given as input.\n",
    "We don't know in advance how many numbers to print,\n",
    "so a while-loop is the natural choice.\n",
    "\n",
    "1. let _number_ be 2\n",
    "2. while _number_ ≤ _highest_:\n",
    "   1. print _number_\n",
    "   2. let _number_ be _number_ + 2\n",
    "\n",
    "This translates directly to Python:"
   ]
  },
  {
   "cell_type": "code",
   "execution_count": 10,
   "metadata": {
    "execution": {
     "iopub.execute_input": "2021-09-10T15:36:35.984515Z",
     "iopub.status.busy": "2021-09-10T15:36:35.983833Z",
     "iopub.status.idle": "2021-09-10T15:36:35.985839Z",
     "shell.execute_reply": "2021-09-10T15:36:35.986320Z"
    }
   },
   "outputs": [
    {
     "name": "stdout",
     "output_type": "stream",
     "text": [
      "2\n",
      "4\n",
      "6\n"
     ]
    }
   ],
   "source": [
    "highest = 7     # or some other value\n",
    "number = 2\n",
    "while number <= highest:\n",
    "    print(number)\n",
    "    number = number + 2"
   ]
  },
  {
   "cell_type": "markdown",
   "metadata": {},
   "source": [
    "For this particular problem, it's possible to use a for-loop in Python,\n",
    "making use of the stepwise increment of the `range` constructor."
   ]
  },
  {
   "cell_type": "code",
   "execution_count": 11,
   "metadata": {
    "execution": {
     "iopub.execute_input": "2021-09-10T15:36:35.990044Z",
     "iopub.status.busy": "2021-09-10T15:36:35.989501Z",
     "iopub.status.idle": "2021-09-10T15:36:35.992495Z",
     "shell.execute_reply": "2021-09-10T15:36:35.991821Z"
    }
   },
   "outputs": [
    {
     "name": "stdout",
     "output_type": "stream",
     "text": [
      "2\n",
      "4\n",
      "6\n"
     ]
    }
   ],
   "source": [
    "highest = 7\n",
    "for number in range(2, highest + 1, 2): # 2 to highest in steps of 2\n",
    "    print(number)"
   ]
  },
  {
   "cell_type": "markdown",
   "metadata": {},
   "source": [
    "In general, for 'open-ended' iterations we must use a while-loop.\n",
    "For example, consider printing the outstanding mortgage, until it's paid off.\n",
    "Let's assume the inputs are the annual rate (a percentage),\n",
    "the monthly fixed payment, and the starting mortgage.\n",
    "Every month we must add the interest and deduct the payment, like so:\n",
    "\n",
    "1. while _mortgage_ ≠ 0:\n",
    "   1. let _interest_ be _mortgage_ × _rate_ / 12\n",
    "   2. let _mortgage_ be _mortgage_ + _interest_ - _payment_\n",
    "   3. print _mortgage_\n",
    "\n",
    "Contrary to for-loops, while-loops may never stop.\n",
    "If the mortgage never becomes exactly zero, which is likely,\n",
    "we have an **infinite loop**. For this problem, to avoid looping forever\n",
    "we must guarantee that the mortgage decreases,\n",
    "i.e. have the precondition _payment_ > _mortgage_ × _rate_ / 12,\n",
    "and change the while condition to _mortgage_ > 0."
   ]
  },
  {
   "cell_type": "markdown",
   "metadata": {
    "tags": [
     "INFO"
    ]
   },
   "source": [
    "<div class=\"alert alert-info\">\n",
    "<strong>Info:</strong> The mortgage problem and infinite loops are introduced in\n",
    "TM112 Block&nbsp;1 Section&nbsp;4.5.\n",
    "</div>"
   ]
  },
  {
   "cell_type": "markdown",
   "metadata": {},
   "source": [
    "### 4.3.3 Repeat-loops"
   ]
  },
  {
   "cell_type": "markdown",
   "metadata": {},
   "source": [
    "Sometimes we want to repeat some instructions a fixed number of times.\n",
    "In those cases we use a 'repeat _n_ times' loop, like this one:\n",
    "\n",
    "1. repeat 3 times:\n",
    "   1. print 'echo...'\n",
    "\n",
    "Python doesn't have this kind of loop, so it must be translated to a for-loop:\n",
    "```py\n",
    "for times in range(3):\n",
    "    print('echo...')\n",
    "```\n",
    "It takes a moment to realise that the variable isn't used within the loop.\n",
    "The English description makes this much clearer by not having a variable at all.\n",
    "\n",
    "A repeat-until loop iterates at least once, until a condition becomes true.\n",
    "There's always at least one mortgage payment, so we can use a repeat-until loop.\n",
    "\n",
    "1. repeat:\n",
    "   1. let _interest_ be _mortgage_ × _rate_ / 12\n",
    "   2. let _mortgage_ be _mortgage_ + _interest_ - _payment_\n",
    "   3. print _mortgage_\n",
    "2. until _mortgage_ ≤ 0\n",
    "\n",
    "The Boolean expression in a while-loop is a continuation condition\n",
    "(if it's true, the loop carries on), wheres the Boolean expression\n",
    "in a repeat-until loop is a stopping condition (if it's true, the loop stops).\n",
    "Every repeat-until loop can be written as a while-loop:\n",
    "\n",
    "1. repeat:\n",
    "   1. do something\n",
    "2. until _condition_\n",
    "\n",
    "is equivalent to\n",
    "\n",
    "1. let _stop_ be false\n",
    "2. while not _stop_:\n",
    "   1. do something\n",
    "   2. let _stop_ be _condition_"
   ]
  },
  {
   "cell_type": "markdown",
   "metadata": {},
   "source": [
    "### 4.3.4 Nested loops"
   ]
  },
  {
   "cell_type": "markdown",
   "metadata": {},
   "source": [
    "Any instructions can be executed repeatedly, including other loops.\n",
    "Writing the times table up to some input number _n_ requires nested loops."
   ]
  },
  {
   "cell_type": "markdown",
   "metadata": {
    "tags": [
     "INFO"
    ]
   },
   "source": [
    "<div class=\"alert alert-info\">\n",
    "<strong>Info:</strong> TM112 introduces nested loops and a times table program in Block&nbsp;1 Section&nbsp;2.5.\n",
    "</div>"
   ]
  },
  {
   "cell_type": "markdown",
   "metadata": {},
   "source": [
    "1. for each _left_ from 1 to _n_:\n",
    "   1. for each _right_ from 1 to _n_:\n",
    "      1. let _product_ be _left_ × _right_\n",
    "      1. print _left_ '×' _right_ '=' _product_\n",
    "\n",
    "Step&nbsp;1.1 is executed for each value of _left_, so the successive products are\n",
    "1×1, 1×2, ..., 1×_n_, 2×1, ..., 2×_n_, 3×1, etc.\n",
    "Step&nbsp;1.1.2 prints each line of the table, e.g. '2 × 3 = 6'.\n",
    "\n",
    "Steps 1.1.1 and 1.1.2 take constant time and are executed _n_ × _n_ times.\n",
    "The overall run-time is proportional to *n*².\n",
    "We say the algorithm has **quadratic complexity**: Θ(*n*²).\n",
    "More generally, if a loop does _i_ iterations and each iteration has complexity\n",
    "Θ(_e_), then the loop has complexity Θ(_i_ × _e_).\n",
    "In this example, the inner loop has complexity _n_ × Θ(1) = Θ(_n_) and\n",
    "the outer loop has complexity _n_ × Θ(_n_) = Θ(*n*²)."
   ]
  },
  {
   "cell_type": "markdown",
   "metadata": {
    "tags": [
     "NOTE"
    ]
   },
   "source": [
    "<div class=\"alert alert-warning\">\n",
    "<strong>Note:</strong> The complexity of a loop is the number of iterations multiplied by the\n",
    "complexity of the body of the loop.\n",
    "</div>"
   ]
  },
  {
   "cell_type": "markdown",
   "metadata": {},
   "source": [
    "Here's the corresponding Python code:"
   ]
  },
  {
   "cell_type": "code",
   "execution_count": 12,
   "metadata": {
    "execution": {
     "iopub.execute_input": "2021-09-10T15:36:35.997928Z",
     "iopub.status.busy": "2021-09-10T15:36:35.997318Z",
     "iopub.status.idle": "2021-09-10T15:36:35.999534Z",
     "shell.execute_reply": "2021-09-10T15:36:36.000126Z"
    }
   },
   "outputs": [
    {
     "name": "stdout",
     "output_type": "stream",
     "text": [
      "1 x 1 = 1\n",
      "1 x 2 = 2\n",
      "1 x 3 = 3\n",
      "2 x 1 = 2\n",
      "2 x 2 = 4\n",
      "2 x 3 = 6\n",
      "3 x 1 = 3\n",
      "3 x 2 = 6\n",
      "3 x 3 = 9\n"
     ]
    }
   ],
   "source": [
    "n = 3   # or some other positive integer\n",
    "for left in range(1, n+1):\n",
    "    for right in range(1, n+1):\n",
    "        product = left * right\n",
    "        print(left, 'x', right, '=', product)"
   ]
  },
  {
   "cell_type": "markdown",
   "metadata": {},
   "source": [
    "Like `min` and `max`, `print` can take one or more arguments.\n",
    "It prints them separated by spaces.\n",
    "Arguments can be any integer, Boolean or string expressions, so\n",
    "the last argument can be the multiplication expression.\n",
    "Moreover, when there are no arguments, `print` produces an empty line.\n",
    "Putting all this together, here's a more pleasing program and result."
   ]
  },
  {
   "cell_type": "code",
   "execution_count": 13,
   "metadata": {
    "execution": {
     "iopub.execute_input": "2021-09-10T15:36:36.004425Z",
     "iopub.status.busy": "2021-09-10T15:36:36.003300Z",
     "iopub.status.idle": "2021-09-10T15:36:36.006617Z",
     "shell.execute_reply": "2021-09-10T15:36:36.007163Z"
    }
   },
   "outputs": [
    {
     "name": "stdout",
     "output_type": "stream",
     "text": [
      "1 x 1 = 1\n",
      "1 x 2 = 2\n",
      "1 x 3 = 3\n",
      "\n",
      "2 x 1 = 2\n",
      "2 x 2 = 4\n",
      "2 x 3 = 6\n",
      "\n",
      "3 x 1 = 3\n",
      "3 x 2 = 6\n",
      "3 x 3 = 9\n",
      "\n"
     ]
    }
   ],
   "source": [
    "n = 3   # or some other positive integer\n",
    "for left in range(1, n+1):\n",
    "    for right in range(1, n+1):\n",
    "        print(left, 'x', right, '=', left * right)\n",
    "    print()"
   ]
  },
  {
   "cell_type": "markdown",
   "metadata": {},
   "source": [
    "The indentation makes the first `print` part of the inner loop\n",
    "and the second one part of the outer loop.\n",
    "\n",
    "It's possible to have more than two nested loops and to have while-loops within\n",
    "for-loops and vice versa."
   ]
  },
  {
   "cell_type": "markdown",
   "metadata": {},
   "source": [
    "### 4.3.5 Optional exercises"
   ]
  },
  {
   "cell_type": "markdown",
   "metadata": {},
   "source": [
    "If you've attempted some of the Kattis Guide problems before,\n",
    "you can now try your hand at those involving\n",
    "[iteration](https://mwermelinger.github.io/kattis-guide/foundations.html#iteration)."
   ]
  },
  {
   "cell_type": "markdown",
   "metadata": {},
   "source": [
    "⟵ [Previous section](04_2_strings.ipynb) | [Up](04-introduction.ipynb) | [Next section](04_4_search.ipynb) ⟶"
   ]
  }
 ],
 "metadata": {
  "kernelspec": {
   "display_name": "Python 3",
   "language": "python",
   "name": "python3"
  },
  "language_info": {
   "codemirror_mode": {
    "name": "ipython",
    "version": 3
   },
   "file_extension": ".py",
   "mimetype": "text/x-python",
   "name": "python",
   "nbconvert_exporter": "python",
   "pygments_lexer": "ipython3",
   "version": "3.8.5"
  }
 },
 "nbformat": 4,
 "nbformat_minor": 4
}
