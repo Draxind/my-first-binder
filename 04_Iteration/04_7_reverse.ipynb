{
 "cells": [
  {
   "cell_type": "markdown",
   "metadata": {},
   "source": [
    "## 4.7 Reversal"
   ]
  },
  {
   "cell_type": "markdown",
   "metadata": {},
   "source": [
    "This section presents a single problem, reversing a sequence, to further\n",
    "illustrate sequences, iteration and the problem-solving process."
   ]
  },
  {
   "cell_type": "markdown",
   "metadata": {},
   "source": [
    "### 4.7.1 Problem definition"
   ]
  },
  {
   "cell_type": "markdown",
   "metadata": {},
   "source": [
    "This is the definition from the\n",
    "[previous section](../04_Iteration/04_6_lists.ipynb#Exercise-4.6.1).\n",
    "\n",
    "**Function**: reversed sequence\\\n",
    "**Inputs**: _values_, a sequence\\\n",
    "**Preconditions**: true\\\n",
    "**Output**: _reversed_, a sequence\\\n",
    "**Postconditions**: _reversed_ =\n",
    "(_values_[│ _values_ │ - 1], _values_[│ _values_ │ - 2], ..., _values_[1], _values_[0])\n",
    "\n",
    "With the Python operations we have seen so far, it's impossible to write\n",
    "a Python function that reverses any sequence, be it a string, tuple or list.\n",
    "We have to restrict the problem to a particular data type. I'll solve it\n",
    "for lists and I'll leave strings to you as an exercise.\n",
    "(Tuples are handled similarly.)\n",
    "\n",
    "**Function**: reversed list\\\n",
    "**Inputs**: _values_, a list\\\n",
    "**Preconditions**: true\\\n",
    "**Output**: _reversed_, a list\\\n",
    "**Postconditions**: _reversed_ =\n",
    "[_values_[│ _values_ │ - 1], _values_[│ _values_ │ - 2], ..., _values_[1], _values_[0]]\n",
    "\n",
    "Since this function is for a Python data type,\n",
    "I use Python's notation (square brackets for lists) in the postcondition."
   ]
  },
  {
   "cell_type": "markdown",
   "metadata": {},
   "source": [
    "### 4.7.2 Problem instances"
   ]
  },
  {
   "cell_type": "markdown",
   "metadata": {},
   "source": [
    "I have to think of some problem instances to test the function.\n",
    "The smallest possible inputs are always edge cases and\n",
    "must be included in the test table. For this example, it's the empty list.\n",
    "If the preconditions allow the empty sequence, then a sequence with\n",
    "a single item is an edge case too: it's the smallest non-empty sequence.\n",
    "\n",
    "For problems about sequences, it's often convenient to test sequences of\n",
    "odd and even length, because the middle element of a list of odd length\n",
    "may be treated differently. In this problem, the middle member is\n",
    "the only one that has the same position in the reversed list.\n",
    "\n",
    "Test cases for sequences should also include, if the preconditions allow,\n",
    "duplicate and unique items, and heterogeneous and homogeneous sequences.\n",
    "\n",
    "When thinking about problem instances, put your hacker hat on:\n",
    "you're trying to break the algorithm to reveal it's incorrect.\n",
    "Throw curveballs: think of valid inputs that most people wouldn't dream of\n",
    "when reading the problem description.\n",
    "You don't need large inputs to properly test an algorithm.\n",
    "An algorithm is often incorrect because it failed to consider a particular\n",
    "case, e.g. all items in a sequence being the same.\n",
    "Such cases can be covered with small inputs.\n",
    "When it comes to problem instances for testing, think small, think wildly.\n",
    "(But not too wildly: all test cases must satisfy the preconditions.)\n",
    "\n",
    "So far, we wrote test tables in Markdown and translated them to\n",
    "one code cell per test case. We can now write them directly in Python,\n",
    "as a list (or tuple) of test cases, each represented by a list or tuple.\n",
    "I prefer to write test tables as a list of tuples,\n",
    "so that I can later append a test case if I forgot one,\n",
    "but you can use any combination you prefer.\n",
    "\n",
    "The table's name is the operation's name followed by `_tests`.\n",
    "Each row is the test case description (a string), followed by the input values\n",
    "and ending with the expected output value.\n",
    "The column headings are a comment instead of a row;\n",
    "you'll see why when we get to the actual testing.\n",
    "\n",
    "Here's a possible table for the reversal problem.\n",
    "It includes odd- and even-length lists, homogeneous and heterogeneous lists,\n",
    "and lists with duplicate items."
   ]
  },
  {
   "cell_type": "code",
   "execution_count": 1,
   "metadata": {
    "execution": {
     "iopub.execute_input": "2021-09-10T15:36:49.181402Z",
     "iopub.status.busy": "2021-09-10T15:36:49.180692Z",
     "iopub.status.idle": "2021-09-10T15:36:49.182566Z",
     "shell.execute_reply": "2021-09-10T15:36:49.183083Z"
    }
   },
   "outputs": [],
   "source": [
    "reversed_list_tests = [\n",
    "    # case,             values,             reversed\n",
    "    ('empty list',      [],                 []              ),\n",
    "    ('length 1',        [4],                [4]             ),\n",
    "    ('length 2',        [5, True],          [True, 5]       ),\n",
    "    ('length 5',        [5, 6, 7, 8, 9],    [9, 8, 7, 6, 5] ),\n",
    "    ('same items',      [0, 0, 0],          [0, 0, 0]       )\n",
    "]"
   ]
  },
  {
   "cell_type": "markdown",
   "metadata": {},
   "source": [
    "### 4.7.3 Algorithm"
   ]
  },
  {
   "cell_type": "markdown",
   "metadata": {},
   "source": [
    "Sometimes the best way to come up with an algorithm is to think how we'd\n",
    "do it manually. And I literally mean with our hands.\n",
    "\n",
    "The reverse operation takes one list and produces another one.\n",
    "Lists have to be processed item by item. I use my left index finger to\n",
    "point at the item being processed in the input list and\n",
    "my right index finger to point to the position where\n",
    "that item should be put in the output list.\n",
    "\n",
    "Initially, my left finger points at the first item of _values_ and my right finger points to an empty _reversed_ list. Let's use the length&nbsp;2 test case.\n",
    "\n",
    "![The left side of the figure shows the original list [5, True] and my\n",
    "left index finger pointing at 5. The right side of the figure shows\n",
    "my right index finger pointing at the reversed list, currently empty.\n",
    "](04_7_ro1.png)\n",
    "\n",
    "The first two steps are obvious: insert the item pointed by the left finger\n",
    "into the empty list and move the left finger to the next item.\n",
    "\n",
    "![The left side of the figure shows the original list [5, True] with my\n",
    "left index finger now pointing at True. On the right side of the figure,\n",
    "the reversed list is now [5] and my right index finger points at 5.\n",
    "](04_7_ro2.png)\n",
    "\n",
    "The second item of _values_ should be inserted at the start of _reversed_,\n",
    "hence I can keep the right finger where it is.\n",
    "\n",
    "![This figure shows on the left side the original list [5, True], with\n",
    "my left index finger still pointing at True. On the right side,\n",
    "the reversed list is now [True, 5] and my right index finger continues\n",
    "pointing at the first item, now True.](04_7_ro3.png)\n",
    "\n",
    "If the input list were longer, I would continue in the same way.\n",
    "Each item of _values_ has to be inserted at index&nbsp;0 of _reversed_\n",
    "to push the previous items to the right. I'm ready to write the algorithm:\n",
    "\n",
    "1. let _reversed_ be the empty list\n",
    "2. for each _item_ in _values_:\n",
    "   1. insert _item_ at index&nbsp;0 of _reversed_\n",
    "\n",
    "Before implementing this algorithm, let's check it works for the edge cases.\n",
    "Does it work for lists of length&nbsp;0 and 1?\n",
    "\n",
    "___\n",
    "\n",
    "Yes, it does. The loop is executed as often as the length of the input list,\n",
    "so the output is the same as the input for lists of length&nbsp;0 and 1."
   ]
  },
  {
   "cell_type": "markdown",
   "metadata": {},
   "source": [
    "### 4.7.4 Complexity"
   ]
  },
  {
   "cell_type": "markdown",
   "metadata": {},
   "source": [
    "I can ignore step&nbsp;1 because it takes constant time.\n",
    "Step&nbsp;2 is executed │*values*│ times.\n",
    "The complexity of inserting an item at index _i_ in a list of length _l_ is\n",
    "Θ(_l_ - _i_). In step&nbsp;3, _i_ = 0, so that step has complexity Θ(│*reversed*│):\n",
    "it shifts all items in _reversed_ up to make space for a new item at index&nbsp;0.\n",
    "The complexity of the loop is hence\n",
    "│*values*│ × Θ(│*reversed*│) = Θ(│*values*│ × │*reversed*│).\n",
    "Unfortunately, I can't write it like that because _reversed_ isn't an input.\n",
    "Fortunately, │*reversed*│ = │*values*│ because\n",
    "reversing a list doesn't change its length.\n",
    "The algorithm has quadratic complexity: Θ(│*values*│²)."
   ]
  },
  {
   "cell_type": "markdown",
   "metadata": {},
   "source": [
    "### 4.7.5 Code"
   ]
  },
  {
   "cell_type": "markdown",
   "metadata": {},
   "source": [
    "The translation of the function definition and the algorithm to Python is:"
   ]
  },
  {
   "cell_type": "code",
   "execution_count": 2,
   "metadata": {
    "execution": {
     "iopub.execute_input": "2021-09-10T15:36:49.186954Z",
     "iopub.status.busy": "2021-09-10T15:36:49.186477Z",
     "iopub.status.idle": "2021-09-10T15:36:49.188380Z",
     "shell.execute_reply": "2021-09-10T15:36:49.188898Z"
    }
   },
   "outputs": [],
   "source": [
    "def reversed_list(values: list) -> list:\n",
    "    \"\"\"Return the same items as values, in inverse order.\n",
    "\n",
    "    Postconditions: the output is\n",
    "    [values[-1], values [-2], ..., values[1], values[0]]\n",
    "    \"\"\"\n",
    "    reversed = []\n",
    "    for item in values:\n",
    "        reversed.insert(0, item)\n",
    "    return reversed"
   ]
  },
  {
   "cell_type": "markdown",
   "metadata": {},
   "source": [
    "### 4.7.6 Tests"
   ]
  },
  {
   "cell_type": "markdown",
   "metadata": {},
   "source": [
    "Having put the test cases in a table, I can write a test function that\n",
    "uses iteration to automatically run all tests,\n",
    "instead of manually writing one code cell for each.\n",
    "\n",
    "The test function goes through each row of the test table,\n",
    "extracts the case description, the input and the expected output, calls\n",
    "the reversal function on that input and compares it to the expected output.\n",
    "If the actual and expected outputs differ, a message is printed.\n",
    "\n",
    "The test function doesn't return anything. Python represents 'nothing'\n",
    "with the special value `None`. Like `True` and `False`, it's both a value\n",
    "(that can be compared with the equality and inequality operations) and\n",
    "a keyword (so that it can't be used as a variable name by mistake).\n",
    "In Python, all functions that haven't a `return` statement return `None`,\n",
    "so we write that in the function header."
   ]
  },
  {
   "cell_type": "code",
   "execution_count": 3,
   "metadata": {
    "execution": {
     "iopub.execute_input": "2021-09-10T15:36:49.192673Z",
     "iopub.status.busy": "2021-09-10T15:36:49.192087Z",
     "iopub.status.idle": "2021-09-10T15:36:49.193836Z",
     "shell.execute_reply": "2021-09-10T15:36:49.194391Z"
    }
   },
   "outputs": [],
   "source": [
    "def test_reversed_list(test_table: list) -> None:\n",
    "    \"\"\"Report which tests for the reversed_list function fail.\"\"\"\n",
    "    for test_case in test_table:\n",
    "        name = test_case[0]\n",
    "        values = test_case[1]\n",
    "        reversed = test_case[2]\n",
    "        actual = reversed_list(values)\n",
    "        if actual != reversed:\n",
    "            print(name, 'FAILED:', actual, 'instead of', reversed)\n",
    "    print('Tests finished.')"
   ]
  },
  {
   "cell_type": "markdown",
   "metadata": {},
   "source": [
    "Now you can see why I didn't include the test table column headings as a row:\n",
    "it makes the loop in the test function simpler. Let's run the tests."
   ]
  },
  {
   "cell_type": "code",
   "execution_count": 4,
   "metadata": {
    "execution": {
     "iopub.execute_input": "2021-09-10T15:36:49.197559Z",
     "iopub.status.busy": "2021-09-10T15:36:49.196940Z",
     "iopub.status.idle": "2021-09-10T15:36:49.199303Z",
     "shell.execute_reply": "2021-09-10T15:36:49.199783Z"
    }
   },
   "outputs": [
    {
     "name": "stdout",
     "output_type": "stream",
     "text": [
      "Tests finished.\n"
     ]
    }
   ],
   "source": [
    "test_reversed_list(reversed_list_tests)"
   ]
  },
  {
   "cell_type": "markdown",
   "metadata": {},
   "source": [
    "For each problem that we solve we must write a new test function that\n",
    "looks like the above one, except that it possibly extracts more input values\n",
    "and then calls a different function to be tested.\n",
    "Writing a new but very similar test function each time is a faff,\n",
    "although not as big as writing one code cell per test case.\n",
    "\n",
    "Python allows me to write a generic test function that works for any\n",
    "function to be tested and any test table, provided the first column is\n",
    "the case description and the last column is the expected output.\n",
    "\n",
    "We'll use the test function over and over again.\n",
    "To avoid copying the function to each notebook,\n",
    "I've put it in an auxiliary file that each notebook will load.\n",
    "From now on, every cell with code that is also in a file will say so.\n",
    "All auxiliary code files have names starting with `m269_`\n",
    "and are in the same `notebooks` folder as the 'root' notebook `M269.ipynb`."
   ]
  },
  {
   "cell_type": "markdown",
   "metadata": {
    "tags": [
     "NOTE"
    ]
   },
   "source": [
    "<div class=\"alert alert-warning\">\n",
    "<strong>Note:</strong> Do <strong>not</strong> modify the auxiliary Python files\n",
    "as that may break the notebooks that use them.\n",
    "</div>"
   ]
  },
  {
   "cell_type": "markdown",
   "metadata": {},
   "source": [
    "Here's the generic test function; it uses advanced Python features.\n",
    "I'm not going to explain them: you won't need them to solve M269 problems."
   ]
  },
  {
   "cell_type": "code",
   "execution_count": 5,
   "metadata": {
    "execution": {
     "iopub.execute_input": "2021-09-10T15:36:49.203862Z",
     "iopub.status.busy": "2021-09-10T15:36:49.203262Z",
     "iopub.status.idle": "2021-09-10T15:36:49.205211Z",
     "shell.execute_reply": "2021-09-10T15:36:49.205897Z"
    }
   },
   "outputs": [],
   "source": [
    "# this code is also in m269_util.py\n",
    "\n",
    "from typing import Callable\n",
    "\n",
    "def test(function: Callable, test_table: list) -> None:\n",
    "    \"\"\"Test the function with the test_table. Report failed tests.\n",
    "\n",
    "    Preconditions: each element of test_table is a list or tuple with\n",
    "        - a string (the test case name)\n",
    "        - one or more values (the inputs to the function)\n",
    "        - the expected output value\n",
    "    \"\"\"\n",
    "    for test_case in test_table:\n",
    "        name = test_case[0]\n",
    "        inputs = test_case[1:-1]\n",
    "        expected = test_case[-1]\n",
    "        actual = function(*inputs)\n",
    "        if actual != expected:\n",
    "            print(name, 'FAILED:', actual, 'instead of', expected)\n",
    "    print('Tests finished.')"
   ]
  },
  {
   "cell_type": "markdown",
   "metadata": {},
   "source": [
    "The generic test function is called with the function to be tested and\n",
    "the test table to be used."
   ]
  },
  {
   "cell_type": "code",
   "execution_count": 6,
   "metadata": {
    "execution": {
     "iopub.execute_input": "2021-09-10T15:36:49.210416Z",
     "iopub.status.busy": "2021-09-10T15:36:49.209626Z",
     "iopub.status.idle": "2021-09-10T15:36:49.211970Z",
     "shell.execute_reply": "2021-09-10T15:36:49.212589Z"
    }
   },
   "outputs": [
    {
     "name": "stdout",
     "output_type": "stream",
     "text": [
      "Tests finished.\n"
     ]
    }
   ],
   "source": [
    "test(reversed_list, reversed_list_tests)"
   ]
  },
  {
   "cell_type": "markdown",
   "metadata": {},
   "source": [
    "Subsequent notebooks must first load the code file with the function `test`\n",
    "before calling it. That's done with the IPython command `%run -i m269_util`\n",
    "in the first line of a code cell.\n",
    "The command executes the code in the given file as if the code were in the cell.\n",
    "The `.py` file extension is optional, as the example shows.\n",
    "The command is similar to an import statement."
   ]
  },
  {
   "cell_type": "markdown",
   "metadata": {},
   "source": [
    "### 4.7.7 Performance"
   ]
  },
  {
   "cell_type": "markdown",
   "metadata": {},
   "source": [
    "An algorithm with quadratic complexity takes much longer than\n",
    "an algorithm with linear complexity.\n",
    "Let's assume an algorithm with complexity Θ(_e_) does exactly _e_ operations,\n",
    "each taking one microsecond. Here are the run-times for various input sizes _n_.\n",
    "\n",
    "_n_ | Θ(1) | Θ(_n_) | Θ(*n*²)\n",
    "-|-|-|-\n",
    "10  | 1&nbsp;µs  | 10&nbsp;µs  | 100&nbsp;µs\n",
    "1,000  | 1&nbsp;µs  | 1&nbsp;ms  | 1&nbsp;s\n",
    "2,000  | 1&nbsp;µs  | 2&nbsp;ms  | 4&nbsp;s\n",
    "2,000,000 | 1&nbsp;µs  | 2&nbsp;s  | 4,000,000&nbsp;s = 46&nbsp;days\n",
    "\n",
    "When the input size doubles, a linear algorithm takes double the time,\n",
    "but a quadratic algorithm takes 2² = 4 times as long.\n",
    "If the input is a thousand times as long then a linear algorithm takes a thousand\n",
    "times as long, but a quadratic algorithm takes 1000² = 1,000,000 as long!"
   ]
  },
  {
   "cell_type": "markdown",
   "metadata": {
    "tags": [
     "NOTE"
    ]
   },
   "source": [
    "<div class=\"alert alert-warning\">\n",
    "<strong>Note:</strong> When the input size doubles, the run-time of algorithms with constant, linear\n",
    "and quadratic complexity respectively stays the same, doubles or quadruples.\n",
    "</div>"
   ]
  },
  {
   "cell_type": "markdown",
   "metadata": {},
   "source": [
    "To measure the run-times of quadratic algorithms\n",
    "we can't use very large inputs, unless we're prepared to wait quite a bit.\n",
    "We have to start with small inputs, double them only a few times\n",
    "and, for each measurement, not repeat the operation often."
   ]
  },
  {
   "cell_type": "code",
   "execution_count": 7,
   "metadata": {
    "execution": {
     "iopub.execute_input": "2021-09-10T15:36:49.224842Z",
     "iopub.status.busy": "2021-09-10T15:36:49.222709Z",
     "iopub.status.idle": "2021-09-10T15:36:49.446961Z",
     "shell.execute_reply": "2021-09-10T15:36:49.447719Z"
    }
   },
   "outputs": [
    {
     "name": "stdout",
     "output_type": "stream",
     "text": [
      "Reversing 10 numbers:\n",
      "777 ns ± 64.5 ns per loop (mean ± std. dev. of 3 runs, 10 loops each)\n",
      "Reversing 20 numbers:\n",
      "1.75 µs ± 473 ns per loop (mean ± std. dev. of 3 runs, 10 loops each)\n",
      "Reversing 40 numbers:\n",
      "3.07 µs ± 470 ns per loop (mean ± std. dev. of 3 runs, 10 loops each)\n",
      "Reversing 80 numbers:\n",
      "6.65 µs ± 46.2 ns per loop (mean ± std. dev. of 3 runs, 10 loops each)\n",
      "Reversing 160 numbers:\n",
      "16.3 µs ± 871 ns per loop (mean ± std. dev. of 3 runs, 10 loops each)\n",
      "Reversing 320 numbers:\n",
      "49.5 µs ± 10.2 µs per loop (mean ± std. dev. of 3 runs, 10 loops each)\n",
      "Reversing 640 numbers:\n",
      "154 µs ± 37.2 µs per loop (mean ± std. dev. of 3 runs, 10 loops each)\n",
      "Reversing 1280 numbers:\n",
      "426 µs ± 50.7 µs per loop (mean ± std. dev. of 3 runs, 10 loops each)\n",
      "Reversing 2560 numbers:\n",
      "1.12 ms ± 27.8 µs per loop (mean ± std. dev. of 3 runs, 10 loops each)\n",
      "Reversing 5120 numbers:\n",
      "5.45 ms ± 376 µs per loop (mean ± std. dev. of 3 runs, 10 loops each)\n"
     ]
    }
   ],
   "source": [
    "size = 10\n",
    "for measurement in range(10):\n",
    "    numbers = list(range(size))     # list [0, 1, 2, ..., size-1]\n",
    "    print('Reversing', size, 'numbers:')\n",
    "    %timeit -r 3 -n 10 reversed_list(numbers)\n",
    "    size = size * 2"
   ]
  },
  {
   "cell_type": "markdown",
   "metadata": {},
   "source": [
    "On my machine the run-time clearly quadruples\n",
    "for some doublings of the input size."
   ]
  },
  {
   "cell_type": "markdown",
   "metadata": {},
   "source": [
    "#### Exercise 4.7.1"
   ]
  },
  {
   "cell_type": "markdown",
   "metadata": {},
   "source": [
    "Write a more efficient algorithm to produce a reversed list.\n",
    "(The next exercise asks you to justify why it's more efficient.)"
   ]
  },
  {
   "cell_type": "markdown",
   "metadata": {
    "tags": [
     "ANSWER"
    ]
   },
   "source": [
    "_Write your answer here._"
   ]
  },
  {
   "cell_type": "markdown",
   "metadata": {},
   "source": [
    "[Hint](../31_Hints/Hints_04_7_01.ipynb)\n",
    "[Answer](../32_Answers/Answers_04_7_01.ipynb)"
   ]
  },
  {
   "cell_type": "markdown",
   "metadata": {},
   "source": [
    "#### Exercise 4.7.2"
   ]
  },
  {
   "cell_type": "markdown",
   "metadata": {},
   "source": [
    "Analyse the complexity of your algorithm,\n",
    "showing that it's more efficient than the original algorithm.\n",
    "\n",
    "[Answer](../32_Answers/Answers_04_7_02.ipynb)"
   ]
  },
  {
   "cell_type": "markdown",
   "metadata": {},
   "source": [
    "#### Exercise 4.7.3"
   ]
  },
  {
   "cell_type": "markdown",
   "metadata": {},
   "source": [
    "Translate your algorithm to Python and test it."
   ]
  },
  {
   "cell_type": "code",
   "execution_count": 8,
   "metadata": {
    "execution": {
     "iopub.execute_input": "2021-09-10T15:36:49.453098Z",
     "iopub.status.busy": "2021-09-10T15:36:49.452407Z",
     "iopub.status.idle": "2021-09-10T15:36:49.455578Z",
     "shell.execute_reply": "2021-09-10T15:36:49.456417Z"
    }
   },
   "outputs": [],
   "source": [
    "def reversed_list_2(values: list) -> list:\n",
    "    \"\"\"Return the same items as values, in inverse order.\n",
    "\n",
    "    This is a more efficient version of reversed_list.\n",
    "    Postconditions: the output is\n",
    "    [values[-1], values [-2], ..., values[1], values[0]]\n",
    "    \"\"\"\n",
    "    # replace by your function body\n",
    "\n",
    "test(reversed_list_2, reversed_list_tests)"
   ]
  },
  {
   "cell_type": "markdown",
   "metadata": {},
   "source": [
    "[Hint](../31_Hints/Hints_04_7_03.ipynb)\n",
    "[Answer](../32_Answers/Answers_04_7_03.ipynb)"
   ]
  },
  {
   "cell_type": "markdown",
   "metadata": {},
   "source": [
    "#### Exercise 4.7.4"
   ]
  },
  {
   "cell_type": "markdown",
   "metadata": {},
   "source": [
    "Write a reversal algorithm for when _values_ and _reversed_ are strings."
   ]
  },
  {
   "cell_type": "markdown",
   "metadata": {
    "tags": [
     "ANSWER"
    ]
   },
   "source": [
    "_Write your answer here._"
   ]
  },
  {
   "cell_type": "markdown",
   "metadata": {},
   "source": [
    "[Hint](../31_Hints/Hints_04_7_04.ipynb)\n",
    "[Answer](../32_Answers/Answers_04_7_04.ipynb)"
   ]
  },
  {
   "cell_type": "markdown",
   "metadata": {},
   "source": [
    "#### Exercise 4.7.5"
   ]
  },
  {
   "cell_type": "markdown",
   "metadata": {},
   "source": [
    "What is the complexity of your reversal algorithm for strings?"
   ]
  },
  {
   "cell_type": "markdown",
   "metadata": {
    "tags": [
     "ANSWER"
    ]
   },
   "source": [
    "_Write your answer here._"
   ]
  },
  {
   "cell_type": "markdown",
   "metadata": {},
   "source": [
    "[Hint](../31_Hints/Hints_04_7_05.ipynb)\n",
    "[Answer](../32_Answers/Answers_04_7_05.ipynb)"
   ]
  },
  {
   "cell_type": "markdown",
   "metadata": {},
   "source": [
    "#### Exercise 4.7.6"
   ]
  },
  {
   "cell_type": "markdown",
   "metadata": {},
   "source": [
    "Write an algorithm in English that reverses a list **in-place**, i.e.\n",
    "without creating a new list. There's a single input/output variable _values_.\n",
    "(See the solution to\n",
    "[Exercise 4.6.1](../04_Iteration/04_6_lists.ipynb#Exercise-4.6.1).)\n",
    "Think with your hands."
   ]
  },
  {
   "cell_type": "markdown",
   "metadata": {
    "tags": [
     "ANSWER"
    ]
   },
   "source": [
    "_Write your answer here._"
   ]
  },
  {
   "cell_type": "markdown",
   "metadata": {},
   "source": [
    "[Hint](../31_Hints/Hints_04_7_06.ipynb)\n",
    "[Answer](../32_Answers/Answers_04_7_06.ipynb)"
   ]
  },
  {
   "cell_type": "markdown",
   "metadata": {},
   "source": [
    "#### Exercise 4.7.7"
   ]
  },
  {
   "cell_type": "markdown",
   "metadata": {},
   "source": [
    "Implement your algorithm in the next code cell and run it.\n",
    "\n",
    "Strictly speaking, the columns of the test table should\n",
    "be named pre-_values_ and post-_values_ instead of _values_ and _reversed_, but\n",
    "it's not worth doing such a small change, so we reuse `reversed_list_tests`.\n",
    "In addition, we can't use the generic test function because\n",
    "it assumes the function tested returns a value."
   ]
  },
  {
   "cell_type": "code",
   "execution_count": 9,
   "metadata": {
    "execution": {
     "iopub.execute_input": "2021-09-10T15:36:49.463187Z",
     "iopub.status.busy": "2021-09-10T15:36:49.462569Z",
     "iopub.status.idle": "2021-09-10T15:36:49.465079Z",
     "shell.execute_reply": "2021-09-10T15:36:49.465667Z"
    }
   },
   "outputs": [],
   "source": [
    "def reverse_in_place(values: list) -> None:\n",
    "    \"\"\"Write the docstring.\"\"\"\n",
    "    # replace by your code\n",
    "\n",
    "def test_reverse_in_place(test_table: list) -> None:\n",
    "    \"\"\"Report which tests for the reverse_in_place function fail.\"\"\"\n",
    "    for test_case in test_table:\n",
    "        name = test_case[0]\n",
    "        values = test_case[1]\n",
    "        reversed = test_case[2]\n",
    "        reverse_in_place(values)\n",
    "        if values != reversed:\n",
    "            print(name, 'FAILED:', values, 'instead of', reversed)\n",
    "    print('Tests finished.')\n",
    "\n",
    "test_reverse_in_place(reversed_list_tests)"
   ]
  },
  {
   "cell_type": "markdown",
   "metadata": {},
   "source": [
    "[Hint](../31_Hints/Hints_04_7_07.ipynb)\n",
    "[Answer](../32_Answers/Answers_04_7_07.ipynb)"
   ]
  },
  {
   "cell_type": "markdown",
   "metadata": {},
   "source": [
    "⟵ [Previous section](04_6_lists.ipynb) | [Up](04-introduction.ipynb) | [Next section](04_8_practice.ipynb) ⟶"
   ]
  }
 ],
 "metadata": {
  "kernelspec": {
   "display_name": "Python 3",
   "language": "python",
   "name": "python3"
  },
  "language_info": {
   "codemirror_mode": {
    "name": "ipython",
    "version": 3
   },
   "file_extension": ".py",
   "mimetype": "text/x-python",
   "name": "python",
   "nbconvert_exporter": "python",
   "pygments_lexer": "ipython3",
   "version": "3.8.5"
  }
 },
 "nbformat": 4,
 "nbformat_minor": 4
}
