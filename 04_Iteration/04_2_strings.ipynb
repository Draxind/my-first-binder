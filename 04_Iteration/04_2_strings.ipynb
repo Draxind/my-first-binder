{
 "cells": [
  {
   "cell_type": "markdown",
   "metadata": {},
   "source": [
    "## 4.2 Strings"
   ]
  },
  {
   "cell_type": "markdown",
   "metadata": {},
   "source": [
    "Many applications process textual data or present text messages to the user.\n",
    "Text is formed from characters that represent letters, digits, punctuation,\n",
    "mathematical symbols, etc.\n",
    "A sequence of zero or more characters is a **string**, e.g. (H, i, !).\n",
    "\n",
    "The usual, and more compact, notation is to write strings within\n",
    "single or double quotation marks, also known simply as quotes, e.g.\n",
    "'Hi!' or \"Hi!\". The quotes signal the start and end of the string.\n",
    "They're not part of the string itself, in the same way that the parentheses\n",
    "and commas in (H, i, !) are not items of the sequence.\n",
    "\n",
    "In M269, the string ADT is a restricted form of the sequence ADT,\n",
    "where the values are immutable strings.\n",
    "Python's `str` type implements the string ADT."
   ]
  },
  {
   "cell_type": "markdown",
   "metadata": {},
   "source": [
    "### 4.2.1 Literals"
   ]
  },
  {
   "cell_type": "markdown",
   "metadata": {},
   "source": [
    "Python follows the same notation as English.\n",
    "For example, we write `'Hi!'` or `\"Hi!\"`.\n",
    "The double quote is the single character `\"`, not two single-quotes.\n",
    "Two single-quotes `''` (or two double quotes `\"\"`) denote the empty string,\n",
    "a sequence of no characters, a characterless string.\n",
    "\n",
    "If a string includes a single-quote or apostrophe (they're the same character),\n",
    "then it must be enclosed in double quotes, e.g. `\"It's OK\"`. Vice versa,\n",
    "strings that include double quotes must be enclosed in single-quotes, e.g.\n",
    "`'Kane whispered \"Rosebud\" as he died.'` If a string has both kinds of quotes,\n",
    "or spans multiple lines like docstrings,\n",
    "enclose it in three single or double quotes, e.g.\n",
    "`'''Rhett said \"Frankly, my dear, I don't give a damn.\" and left.'''`\n",
    "\n",
    "A string literal represents a value, hence it's an expression, and\n",
    "therefore gets evaluated."
   ]
  },
  {
   "cell_type": "code",
   "execution_count": 1,
   "metadata": {
    "execution": {
     "iopub.execute_input": "2021-09-10T15:36:32.438059Z",
     "iopub.status.busy": "2021-09-10T15:36:32.437367Z",
     "iopub.status.idle": "2021-09-10T15:36:32.440315Z",
     "shell.execute_reply": "2021-09-10T15:36:32.440915Z"
    }
   },
   "outputs": [
    {
     "data": {
      "text/plain": [
       "\"Rick: And remember, this gun's pointed right at your heart.\\nLouis: That is my least vulnerable spot.\""
      ]
     },
     "execution_count": 1,
     "metadata": {},
     "output_type": "execute_result"
    }
   ],
   "source": [
    "\"\"\"Rick: And remember, this gun's pointed right at your heart.\n",
    "Louis: That is my least vulnerable spot.\"\"\""
   ]
  },
  {
   "cell_type": "markdown",
   "metadata": {},
   "source": [
    "The interpreter shows an alternative literal for the multi-line string,\n",
    "with double quotes and newline characters (`\\n`).\n",
    "Not very readable, I must say.\n",
    "The `print` function displays the string itself, without the enclosing quotes."
   ]
  },
  {
   "cell_type": "code",
   "execution_count": 2,
   "metadata": {
    "execution": {
     "iopub.execute_input": "2021-09-10T15:36:32.444489Z",
     "iopub.status.busy": "2021-09-10T15:36:32.443850Z",
     "iopub.status.idle": "2021-09-10T15:36:32.446519Z",
     "shell.execute_reply": "2021-09-10T15:36:32.447095Z"
    }
   },
   "outputs": [
    {
     "name": "stdout",
     "output_type": "stream",
     "text": [
      "Rick: And remember, this gun's pointed right at your heart.\n",
      "Louis: That is my least vulnerable spot.\n"
     ]
    }
   ],
   "source": [
    "print(\"\"\"Rick: And remember, this gun's pointed right at your heart.\n",
    "Louis: That is my least vulnerable spot.\"\"\")"
   ]
  },
  {
   "cell_type": "markdown",
   "metadata": {},
   "source": [
    "String literals can have accented characters like ñ, é, ö and\n",
    "any character listed in the Unicode standard,\n",
    "which covers Chinese, Arabic and most other written languages."
   ]
  },
  {
   "cell_type": "markdown",
   "metadata": {
    "tags": [
     "INFO"
    ]
   },
   "source": [
    "<div class=\"alert alert-info\">\n",
    "<strong>Info:</strong> TM112 Block&nbsp;1 Section&nbsp;1.1.5 introduces the Unicode standard.\n",
    "</div>"
   ]
  },
  {
   "cell_type": "markdown",
   "metadata": {},
   "source": [
    "#### Mistakes"
   ]
  },
  {
   "cell_type": "markdown",
   "metadata": {},
   "source": [
    "Typeset quotes are often curved, but in Python they're straight.\n",
    "If you copy curved quotes from a PDF, HTML or Word document into Python code,\n",
    "you get a syntax error."
   ]
  },
  {
   "cell_type": "code",
   "execution_count": 3,
   "metadata": {
    "execution": {
     "iopub.execute_input": "2021-09-10T15:36:32.450944Z",
     "iopub.status.busy": "2021-09-10T15:36:32.450210Z",
     "iopub.status.idle": "2021-09-10T15:36:32.452916Z",
     "shell.execute_reply": "2021-09-10T15:36:32.453622Z"
    }
   },
   "outputs": [
    {
     "ename": "SyntaxError",
     "evalue": "invalid character in identifier (<ipython-input-1-3d9fa56edc28>, line 1)",
     "output_type": "error",
     "traceback": [
      "\u001b[0;36m  File \u001b[0;32m\"<ipython-input-1-3d9fa56edc28>\"\u001b[0;36m, line \u001b[0;32m1\u001b[0m\n\u001b[0;31m    ‘Game over ...’\u001b[0m\n\u001b[0m        ^\u001b[0m\n\u001b[0;31mSyntaxError\u001b[0m\u001b[0;31m:\u001b[0m invalid character in identifier\n"
     ]
    }
   ],
   "source": [
    "‘Game over ...’"
   ]
  },
  {
   "cell_type": "markdown",
   "metadata": {},
   "source": [
    "The starting quote isn't the `'` character,\n",
    "so the interpreter doesn't recognise the start of a string literal,\n",
    "assuming instead it's an identifier with a strange character.\n",
    "\n",
    "Starting a literal with one kind of quote and ending with another\n",
    "is also a syntax error."
   ]
  },
  {
   "cell_type": "code",
   "execution_count": 4,
   "metadata": {
    "execution": {
     "iopub.execute_input": "2021-09-10T15:36:32.456960Z",
     "iopub.status.busy": "2021-09-10T15:36:32.456226Z",
     "iopub.status.idle": "2021-09-10T15:36:32.459307Z",
     "shell.execute_reply": "2021-09-10T15:36:32.460058Z"
    }
   },
   "outputs": [
    {
     "ename": "SyntaxError",
     "evalue": "EOL while scanning string literal (<ipython-input-1-b7d55a856928>, line 1)",
     "output_type": "error",
     "traceback": [
      "\u001b[0;36m  File \u001b[0;32m\"<ipython-input-1-b7d55a856928>\"\u001b[0;36m, line \u001b[0;32m1\u001b[0m\n\u001b[0;31m    'holy guacamole!\"\u001b[0m\n\u001b[0m                     ^\u001b[0m\n\u001b[0;31mSyntaxError\u001b[0m\u001b[0;31m:\u001b[0m EOL while scanning string literal\n"
     ]
    }
   ],
   "source": [
    "'holy guacamole!\""
   ]
  },
  {
   "cell_type": "markdown",
   "metadata": {},
   "source": [
    "Strings within single and double quotes can't span multiple lines."
   ]
  },
  {
   "cell_type": "code",
   "execution_count": 5,
   "metadata": {
    "execution": {
     "iopub.execute_input": "2021-09-10T15:36:32.464371Z",
     "iopub.status.busy": "2021-09-10T15:36:32.463587Z",
     "iopub.status.idle": "2021-09-10T15:36:32.466266Z",
     "shell.execute_reply": "2021-09-10T15:36:32.466731Z"
    }
   },
   "outputs": [
    {
     "ename": "SyntaxError",
     "evalue": "EOL while scanning string literal (<ipython-input-1-cacdaa38aa65>, line 1)",
     "output_type": "error",
     "traceback": [
      "\u001b[0;36m  File \u001b[0;32m\"<ipython-input-1-cacdaa38aa65>\"\u001b[0;36m, line \u001b[0;32m1\u001b[0m\n\u001b[0;31m    \"Rick: And remember, this gun's pointed right at your heart.\u001b[0m\n\u001b[0m                                                                ^\u001b[0m\n\u001b[0;31mSyntaxError\u001b[0m\u001b[0;31m:\u001b[0m EOL while scanning string literal\n"
     ]
    }
   ],
   "source": [
    "\"Rick: And remember, this gun's pointed right at your heart.\n",
    "Louis: That is my least vulnerable spot.\""
   ]
  },
  {
   "cell_type": "markdown",
   "metadata": {},
   "source": [
    "In both examples the interpreter complains that\n",
    "it reached the end of the line (EOL) before it reached the end of the string.\n",
    "\n",
    "Jupyter notebooks and other code editors use syntax colouring to distinguish\n",
    "strings (in red), keywords (in bold green), operators (in bold purple), etc.\n",
    "That's useful to detect errors before running the code.\n",
    "When the whole string or part of it isn't in red, as in two of the examples,\n",
    "you know there's some mistake."
   ]
  },
  {
   "cell_type": "markdown",
   "metadata": {},
   "source": [
    "### 4.2.2 Inspecting strings"
   ]
  },
  {
   "cell_type": "markdown",
   "metadata": {},
   "source": [
    "Python's `str` type supports many operations, in particular\n",
    "the length, indexing, comparison and membership operations."
   ]
  },
  {
   "cell_type": "markdown",
   "metadata": {},
   "source": [
    "#### Length"
   ]
  },
  {
   "cell_type": "markdown",
   "metadata": {},
   "source": [
    "The function `len` returns the size of a string."
   ]
  },
  {
   "cell_type": "code",
   "execution_count": 6,
   "metadata": {
    "execution": {
     "iopub.execute_input": "2021-09-10T15:36:32.471671Z",
     "iopub.status.busy": "2021-09-10T15:36:32.470843Z",
     "iopub.status.idle": "2021-09-10T15:36:32.473613Z",
     "shell.execute_reply": "2021-09-10T15:36:32.474237Z"
    }
   },
   "outputs": [
    {
     "data": {
      "text/plain": [
       "0"
      ]
     },
     "execution_count": 1,
     "metadata": {},
     "output_type": "execute_result"
    }
   ],
   "source": [
    "len('')     # length of the empty string"
   ]
  },
  {
   "cell_type": "code",
   "execution_count": 7,
   "metadata": {
    "execution": {
     "iopub.execute_input": "2021-09-10T15:36:32.477737Z",
     "iopub.status.busy": "2021-09-10T15:36:32.476989Z",
     "iopub.status.idle": "2021-09-10T15:36:32.479587Z",
     "shell.execute_reply": "2021-09-10T15:36:32.480288Z"
    }
   },
   "outputs": [
    {
     "data": {
      "text/plain": [
       "8"
      ]
     },
     "execution_count": 1,
     "metadata": {},
     "output_type": "execute_result"
    }
   ],
   "source": [
    "len(\"\"\"\n",
    "Hello!\n",
    "\"\"\")        # string includes 2 newline characters, but no quotes"
   ]
  },
  {
   "cell_type": "markdown",
   "metadata": {},
   "source": [
    "#### Indexing"
   ]
  },
  {
   "cell_type": "markdown",
   "metadata": {},
   "source": [
    "Python is more flexible than the indexing operation I defined:\n",
    "it allows any integer index."
   ]
  },
  {
   "cell_type": "code",
   "execution_count": 8,
   "metadata": {
    "execution": {
     "iopub.execute_input": "2021-09-10T15:36:32.483930Z",
     "iopub.status.busy": "2021-09-10T15:36:32.483215Z",
     "iopub.status.idle": "2021-09-10T15:36:32.485766Z",
     "shell.execute_reply": "2021-09-10T15:36:32.486487Z"
    }
   },
   "outputs": [
    {
     "data": {
      "text/plain": [
       "'h'"
      ]
     },
     "execution_count": 1,
     "metadata": {},
     "output_type": "execute_result"
    }
   ],
   "source": [
    "'hello'[0]          # retrieve the first character"
   ]
  },
  {
   "cell_type": "code",
   "execution_count": 9,
   "metadata": {
    "execution": {
     "iopub.execute_input": "2021-09-10T15:36:32.489959Z",
     "iopub.status.busy": "2021-09-10T15:36:32.489454Z",
     "iopub.status.idle": "2021-09-10T15:36:32.491772Z",
     "shell.execute_reply": "2021-09-10T15:36:32.492217Z"
    }
   },
   "outputs": [
    {
     "data": {
      "text/plain": [
       "'o'"
      ]
     },
     "execution_count": 1,
     "metadata": {},
     "output_type": "execute_result"
    }
   ],
   "source": [
    "'hello'[5 - 1]      # the index can be an integer expression"
   ]
  },
  {
   "cell_type": "code",
   "execution_count": 10,
   "metadata": {
    "execution": {
     "iopub.execute_input": "2021-09-10T15:36:32.495100Z",
     "iopub.status.busy": "2021-09-10T15:36:32.494462Z",
     "iopub.status.idle": "2021-09-10T15:36:32.496414Z",
     "shell.execute_reply": "2021-09-10T15:36:32.496869Z"
    }
   },
   "outputs": [
    {
     "data": {
      "text/plain": [
       "'o'"
      ]
     },
     "execution_count": 1,
     "metadata": {},
     "output_type": "execute_result"
    }
   ],
   "source": [
    "'hello'[-1]"
   ]
  },
  {
   "cell_type": "markdown",
   "metadata": {},
   "source": [
    "Negative indices count from the end of the string:\n",
    "the character at index -1 is the first character from the end,\n",
    "the character at index -2 is the second character from the end, etc.\n",
    "In M269, we shall use mainly index -1, because it's a convenient\n",
    "shorthand for `len(s) - 1` to access the last item of sequence `s`."
   ]
  },
  {
   "cell_type": "code",
   "execution_count": 11,
   "metadata": {
    "execution": {
     "iopub.execute_input": "2021-09-10T15:36:32.500291Z",
     "iopub.status.busy": "2021-09-10T15:36:32.499752Z",
     "iopub.status.idle": "2021-09-10T15:36:32.501912Z",
     "shell.execute_reply": "2021-09-10T15:36:32.502353Z"
    }
   },
   "outputs": [
    {
     "data": {
      "text/plain": [
       "'o'"
      ]
     },
     "execution_count": 1,
     "metadata": {},
     "output_type": "execute_result"
    }
   ],
   "source": [
    "text = 'hello'\n",
    "text[len(text) - 1]     # the same as text[-1]"
   ]
  },
  {
   "cell_type": "markdown",
   "metadata": {},
   "source": [
    "#### Comparisons"
   ]
  },
  {
   "cell_type": "markdown",
   "metadata": {},
   "source": [
    "All six comparison operators apply to strings."
   ]
  },
  {
   "cell_type": "code",
   "execution_count": 12,
   "metadata": {
    "execution": {
     "iopub.execute_input": "2021-09-10T15:36:32.505503Z",
     "iopub.status.busy": "2021-09-10T15:36:32.504883Z",
     "iopub.status.idle": "2021-09-10T15:36:32.506790Z",
     "shell.execute_reply": "2021-09-10T15:36:32.507253Z"
    }
   },
   "outputs": [
    {
     "data": {
      "text/plain": [
       "False"
      ]
     },
     "execution_count": 1,
     "metadata": {},
     "output_type": "execute_result"
    }
   ],
   "source": [
    "'Tweedledee' == 'Tweedledum'"
   ]
  },
  {
   "cell_type": "code",
   "execution_count": 13,
   "metadata": {
    "execution": {
     "iopub.execute_input": "2021-09-10T15:36:32.512920Z",
     "iopub.status.busy": "2021-09-10T15:36:32.510211Z",
     "iopub.status.idle": "2021-09-10T15:36:32.514487Z",
     "shell.execute_reply": "2021-09-10T15:36:32.514937Z"
    }
   },
   "outputs": [
    {
     "data": {
      "text/plain": [
       "True"
      ]
     },
     "execution_count": 1,
     "metadata": {},
     "output_type": "execute_result"
    }
   ],
   "source": [
    "'hello' < 'high'        # e comes before i, so 'hello' < 'high'"
   ]
  },
  {
   "cell_type": "code",
   "execution_count": 14,
   "metadata": {
    "execution": {
     "iopub.execute_input": "2021-09-10T15:36:32.518790Z",
     "iopub.status.busy": "2021-09-10T15:36:32.518041Z",
     "iopub.status.idle": "2021-09-10T15:36:32.520719Z",
     "shell.execute_reply": "2021-09-10T15:36:32.521340Z"
    }
   },
   "outputs": [
    {
     "data": {
      "text/plain": [
       "True"
      ]
     },
     "execution_count": 1,
     "metadata": {},
     "output_type": "execute_result"
    }
   ],
   "source": [
    "'underpass' > 'under'"
   ]
  },
  {
   "cell_type": "markdown",
   "metadata": {},
   "source": [
    "Python's lexicographic comparison uses the character ordering of the Unicode\n",
    "standard, which leads to results you may not expect."
   ]
  },
  {
   "cell_type": "code",
   "execution_count": 15,
   "metadata": {
    "execution": {
     "iopub.execute_input": "2021-09-10T15:36:32.525416Z",
     "iopub.status.busy": "2021-09-10T15:36:32.524707Z",
     "iopub.status.idle": "2021-09-10T15:36:32.527195Z",
     "shell.execute_reply": "2021-09-10T15:36:32.527954Z"
    }
   },
   "outputs": [
    {
     "data": {
      "text/plain": [
       "False"
      ]
     },
     "execution_count": 1,
     "metadata": {},
     "output_type": "execute_result"
    }
   ],
   "source": [
    "'aardvark' < 'Zeus'     # A-Z comes before a-z in Unicode"
   ]
  },
  {
   "cell_type": "code",
   "execution_count": 16,
   "metadata": {
    "execution": {
     "iopub.execute_input": "2021-09-10T15:36:32.531848Z",
     "iopub.status.busy": "2021-09-10T15:36:32.531175Z",
     "iopub.status.idle": "2021-09-10T15:36:32.534141Z",
     "shell.execute_reply": "2021-09-10T15:36:32.534884Z"
    }
   },
   "outputs": [
    {
     "data": {
      "text/plain": [
       "False"
      ]
     },
     "execution_count": 1,
     "metadata": {},
     "output_type": "execute_result"
    }
   ],
   "source": [
    "'exposé' < 'exposed'    # accented letters come after non-accented"
   ]
  },
  {
   "cell_type": "markdown",
   "metadata": {},
   "source": [
    "As long as you compare two strings _left_ and _right_ that only have\n",
    "the unaccented letters a to z and follow the same lower/uppercase pattern, then\n",
    "_left_ < _right_ is true if and only if dictionaries list _left_ before _right_."
   ]
  },
  {
   "cell_type": "code",
   "execution_count": 17,
   "metadata": {
    "execution": {
     "iopub.execute_input": "2021-09-10T15:36:32.539088Z",
     "iopub.status.busy": "2021-09-10T15:36:32.538401Z",
     "iopub.status.idle": "2021-09-10T15:36:32.541018Z",
     "shell.execute_reply": "2021-09-10T15:36:32.541753Z"
    }
   },
   "outputs": [
    {
     "data": {
      "text/plain": [
       "True"
      ]
     },
     "execution_count": 1,
     "metadata": {},
     "output_type": "execute_result"
    }
   ],
   "source": [
    "'Aardvark' < 'Zeus'     # capital first letter, rest lowercase"
   ]
  },
  {
   "cell_type": "markdown",
   "metadata": {},
   "source": [
    "The 26 lowercase letters are listed consecutively, in alphabetical order,\n",
    "in the Unicode standard. We can thus use comparisons to check\n",
    "if a character is a lowercase letter."
   ]
  },
  {
   "cell_type": "code",
   "execution_count": 18,
   "metadata": {
    "execution": {
     "iopub.execute_input": "2021-09-10T15:36:32.545609Z",
     "iopub.status.busy": "2021-09-10T15:36:32.544965Z",
     "iopub.status.idle": "2021-09-10T15:36:32.547884Z",
     "shell.execute_reply": "2021-09-10T15:36:32.548554Z"
    }
   },
   "outputs": [
    {
     "data": {
      "text/plain": [
       "False"
      ]
     },
     "execution_count": 1,
     "metadata": {},
     "output_type": "execute_result"
    }
   ],
   "source": [
    "character = '!'\n",
    "'a' <= character <= 'z'     # is the character a lowercase letter?"
   ]
  },
  {
   "cell_type": "markdown",
   "metadata": {},
   "source": [
    "We can write similar expressions to check if a character is a digit or\n",
    "an uppercase letter.\n",
    "\n",
    "We can apply the minimum and maximum operations to obtain the character that\n",
    "appears first or last in the Unicode table."
   ]
  },
  {
   "cell_type": "code",
   "execution_count": 19,
   "metadata": {
    "execution": {
     "iopub.execute_input": "2021-09-10T15:36:32.551825Z",
     "iopub.status.busy": "2021-09-10T15:36:32.551275Z",
     "iopub.status.idle": "2021-09-10T15:36:32.554069Z",
     "shell.execute_reply": "2021-09-10T15:36:32.554718Z"
    }
   },
   "outputs": [
    {
     "data": {
      "text/plain": [
       "'Z'"
      ]
     },
     "execution_count": 1,
     "metadata": {},
     "output_type": "execute_result"
    }
   ],
   "source": [
    "min('Zeus')         # in Unicode, A-Z comes before a-z"
   ]
  },
  {
   "cell_type": "code",
   "execution_count": 20,
   "metadata": {
    "execution": {
     "iopub.execute_input": "2021-09-10T15:36:32.558104Z",
     "iopub.status.busy": "2021-09-10T15:36:32.557549Z",
     "iopub.status.idle": "2021-09-10T15:36:32.560186Z",
     "shell.execute_reply": "2021-09-10T15:36:32.560768Z"
    }
   },
   "outputs": [
    {
     "data": {
      "text/plain": [
       "'y'"
      ]
     },
     "execution_count": 1,
     "metadata": {},
     "output_type": "execute_result"
    }
   ],
   "source": [
    "max('By Jove!')     # in Unicode, space and ! come before A-Z"
   ]
  },
  {
   "cell_type": "markdown",
   "metadata": {},
   "source": [
    "#### Membership"
   ]
  },
  {
   "cell_type": "markdown",
   "metadata": {},
   "source": [
    "Python's `in` operator checks if the left operand\n",
    "is a substring of the right operand."
   ]
  },
  {
   "cell_type": "code",
   "execution_count": 21,
   "metadata": {
    "execution": {
     "iopub.execute_input": "2021-09-10T15:36:32.564336Z",
     "iopub.status.busy": "2021-09-10T15:36:32.563591Z",
     "iopub.status.idle": "2021-09-10T15:36:32.565936Z",
     "shell.execute_reply": "2021-09-10T15:36:32.566565Z"
    }
   },
   "outputs": [
    {
     "data": {
      "text/plain": [
       "True"
      ]
     },
     "execution_count": 1,
     "metadata": {},
     "output_type": "execute_result"
    }
   ],
   "source": [
    "'pose' in 'exposed'"
   ]
  },
  {
   "cell_type": "code",
   "execution_count": 22,
   "metadata": {
    "execution": {
     "iopub.execute_input": "2021-09-10T15:36:32.569371Z",
     "iopub.status.busy": "2021-09-10T15:36:32.568792Z",
     "iopub.status.idle": "2021-09-10T15:36:32.570885Z",
     "shell.execute_reply": "2021-09-10T15:36:32.571332Z"
    }
   },
   "outputs": [
    {
     "data": {
      "text/plain": [
       "False"
      ]
     },
     "execution_count": 1,
     "metadata": {},
     "output_type": "execute_result"
    }
   ],
   "source": [
    "'hello' in 'Hello, world!'      # h and H are different characters"
   ]
  },
  {
   "cell_type": "markdown",
   "metadata": {},
   "source": [
    "When the left operand is a single character,\n",
    "this becomes the membership operation."
   ]
  },
  {
   "cell_type": "code",
   "execution_count": 23,
   "metadata": {
    "execution": {
     "iopub.execute_input": "2021-09-10T15:36:32.574083Z",
     "iopub.status.busy": "2021-09-10T15:36:32.573565Z",
     "iopub.status.idle": "2021-09-10T15:36:32.575729Z",
     "shell.execute_reply": "2021-09-10T15:36:32.576169Z"
    }
   },
   "outputs": [
    {
     "data": {
      "text/plain": [
       "True"
      ]
     },
     "execution_count": 1,
     "metadata": {},
     "output_type": "execute_result"
    }
   ],
   "source": [
    "',' in 'Hello, world!'  # does the string contain a comma?"
   ]
  },
  {
   "cell_type": "markdown",
   "metadata": {},
   "source": [
    "A Boolean expression of the form `not (substring in string)`\n",
    "can also be written as `substring not in string`, which is easier to read."
   ]
  },
  {
   "cell_type": "code",
   "execution_count": 24,
   "metadata": {
    "execution": {
     "iopub.execute_input": "2021-09-10T15:36:32.579045Z",
     "iopub.status.busy": "2021-09-10T15:36:32.578439Z",
     "iopub.status.idle": "2021-09-10T15:36:32.580297Z",
     "shell.execute_reply": "2021-09-10T15:36:32.580753Z"
    }
   },
   "outputs": [
    {
     "data": {
      "text/plain": [
       "True"
      ]
     },
     "execution_count": 1,
     "metadata": {},
     "output_type": "execute_result"
    }
   ],
   "source": [
    "'hello' not in 'Hello, world!'"
   ]
  },
  {
   "cell_type": "markdown",
   "metadata": {},
   "source": [
    "#### Exercise 4.2.1"
   ]
  },
  {
   "cell_type": "markdown",
   "metadata": {},
   "source": [
    "Assume `character` is a string of length&nbsp;1. Write a Boolean expression that\n",
    "is true if and only if `character` is a decimal digit. Don't use comparisons."
   ]
  },
  {
   "cell_type": "code",
   "execution_count": 25,
   "metadata": {
    "execution": {
     "iopub.execute_input": "2021-09-10T15:36:32.583435Z",
     "iopub.status.busy": "2021-09-10T15:36:32.582821Z",
     "iopub.status.idle": "2021-09-10T15:36:32.584595Z",
     "shell.execute_reply": "2021-09-10T15:36:32.585242Z"
    }
   },
   "outputs": [],
   "source": [
    "character = '6'\n",
    "# replace this by your expression"
   ]
  },
  {
   "cell_type": "markdown",
   "metadata": {},
   "source": [
    "After running your code (you should get `True`),\n",
    "change the character to a letter and rerun the code (you should get `False`).\n",
    "\n",
    "[Hint](../31_Hints/Hints_04_2_01.ipynb)\n",
    "[Answer](../32_Answers/Answers_04_2_01.ipynb)"
   ]
  },
  {
   "cell_type": "markdown",
   "metadata": {},
   "source": [
    "#### Mistakes"
   ]
  },
  {
   "cell_type": "markdown",
   "metadata": {},
   "source": [
    "A frequent mistake is to forget that indices start from zero.\n",
    "This leads to 'off by one' errors where you intend to access the _n_-th item\n",
    "of a sequence but are instead accessing the next item.\n",
    "If the index is 'out of bounds', the interpreter raises an **index error**,\n",
    "but if it's not, the 'off by one' error may only become apparent far later\n",
    "in the execution of the algorithm."
   ]
  },
  {
   "cell_type": "code",
   "execution_count": 26,
   "metadata": {
    "execution": {
     "iopub.execute_input": "2021-09-10T15:36:32.588751Z",
     "iopub.status.busy": "2021-09-10T15:36:32.588100Z",
     "iopub.status.idle": "2021-09-10T15:36:32.695416Z",
     "shell.execute_reply": "2021-09-10T15:36:32.696077Z"
    }
   },
   "outputs": [
    {
     "ename": "IndexError",
     "evalue": "string index out of range",
     "output_type": "error",
     "traceback": [
      "\u001b[0;31m---------------------------------------------------------------------------\u001b[0m",
      "\u001b[0;31mIndexError\u001b[0m                                Traceback (most recent call last)",
      "\u001b[0;32m<ipython-input-1-e2509c9d44c4>\u001b[0m in \u001b[0;36m<module>\u001b[0;34m\u001b[0m\n\u001b[0;32m----> 1\u001b[0;31m \u001b[0;34m'hello'\u001b[0m\u001b[0;34m[\u001b[0m\u001b[0;36m5\u001b[0m\u001b[0;34m]\u001b[0m  \u001b[0;31m# there's no 6th character, counting from the start\u001b[0m\u001b[0;34m\u001b[0m\u001b[0;34m\u001b[0m\u001b[0m\n\u001b[0m",
      "\u001b[0;31mIndexError\u001b[0m: string index out of range"
     ]
    }
   ],
   "source": [
    "'hello'[5]  # there's no 6th character, counting from the start"
   ]
  },
  {
   "cell_type": "code",
   "execution_count": 27,
   "metadata": {
    "execution": {
     "iopub.execute_input": "2021-09-10T15:36:32.698892Z",
     "iopub.status.busy": "2021-09-10T15:36:32.698393Z",
     "iopub.status.idle": "2021-09-10T15:36:32.702773Z",
     "shell.execute_reply": "2021-09-10T15:36:32.703366Z"
    }
   },
   "outputs": [
    {
     "ename": "IndexError",
     "evalue": "string index out of range",
     "output_type": "error",
     "traceback": [
      "\u001b[0;31m---------------------------------------------------------------------------\u001b[0m",
      "\u001b[0;31mIndexError\u001b[0m                                Traceback (most recent call last)",
      "\u001b[0;32m<ipython-input-1-bf5853b5575c>\u001b[0m in \u001b[0;36m<module>\u001b[0;34m\u001b[0m\n\u001b[0;32m----> 1\u001b[0;31m \u001b[0;34m'hello'\u001b[0m\u001b[0;34m[\u001b[0m\u001b[0;34m-\u001b[0m\u001b[0;36m6\u001b[0m\u001b[0;34m]\u001b[0m \u001b[0;31m# there's no 6th character, counting from the end\u001b[0m\u001b[0;34m\u001b[0m\u001b[0;34m\u001b[0m\u001b[0m\n\u001b[0m",
      "\u001b[0;31mIndexError\u001b[0m: string index out of range"
     ]
    }
   ],
   "source": [
    "'hello'[-6] # there's no 6th character, counting from the end"
   ]
  },
  {
   "cell_type": "markdown",
   "metadata": {},
   "source": [
    "If we apply an operation to operands of the wrong type, we get a **type error**."
   ]
  },
  {
   "cell_type": "code",
   "execution_count": 28,
   "metadata": {
    "execution": {
     "iopub.execute_input": "2021-09-10T15:36:32.706213Z",
     "iopub.status.busy": "2021-09-10T15:36:32.705706Z",
     "iopub.status.idle": "2021-09-10T15:36:32.710426Z",
     "shell.execute_reply": "2021-09-10T15:36:32.710898Z"
    }
   },
   "outputs": [
    {
     "ename": "TypeError",
     "evalue": "'<' not supported between instances of 'str' and 'int'",
     "output_type": "error",
     "traceback": [
      "\u001b[0;31m---------------------------------------------------------------------------\u001b[0m",
      "\u001b[0;31mTypeError\u001b[0m                                 Traceback (most recent call last)",
      "\u001b[0;32m<ipython-input-1-203b69f79278>\u001b[0m in \u001b[0;36m<module>\u001b[0;34m\u001b[0m\n\u001b[0;32m----> 1\u001b[0;31m \u001b[0;34m'five'\u001b[0m \u001b[0;34m<\u001b[0m \u001b[0;36m5\u001b[0m\u001b[0;34m\u001b[0m\u001b[0;34m\u001b[0m\u001b[0m\n\u001b[0m",
      "\u001b[0;31mTypeError\u001b[0m: '<' not supported between instances of 'str' and 'int'"
     ]
    }
   ],
   "source": [
    "'five' < 5"
   ]
  },
  {
   "cell_type": "markdown",
   "metadata": {},
   "source": [
    "#### Exercise 4.2.2"
   ]
  },
  {
   "cell_type": "markdown",
   "metadata": {},
   "source": [
    "Explain whether these expressions are valid or\n",
    "lead to a syntax, type or index error:\n",
    "\n",
    "1. `\"hello\"['e']`\n",
    "1. `''[0]`\n",
    "1. `len('goodman'[-1])`\n",
    "1. `42 in 'Everyone wears jersey 42 on Jackie Robinson Day'`\n",
    "\n",
    "[Hint](../31_Hints/Hints_04_2_02.ipynb)\n",
    "[Answer](../32_Answers/Answers_04_2_02.ipynb)"
   ]
  },
  {
   "cell_type": "markdown",
   "metadata": {},
   "source": [
    "### 4.2.3 Creating strings"
   ]
  },
  {
   "cell_type": "markdown",
   "metadata": {},
   "source": [
    "Python's `str` type also supports the concatenation and slicing operations,\n",
    "again with some 'extensions'."
   ]
  },
  {
   "cell_type": "markdown",
   "metadata": {},
   "source": [
    "#### Concatenation"
   ]
  },
  {
   "cell_type": "markdown",
   "metadata": {},
   "source": [
    "Python overloads the addition operator to also represent concatenation:"
   ]
  },
  {
   "cell_type": "code",
   "execution_count": 29,
   "metadata": {
    "execution": {
     "iopub.execute_input": "2021-09-10T15:36:32.713971Z",
     "iopub.status.busy": "2021-09-10T15:36:32.713417Z",
     "iopub.status.idle": "2021-09-10T15:36:32.715752Z",
     "shell.execute_reply": "2021-09-10T15:36:32.716058Z"
    }
   },
   "outputs": [
    {
     "data": {
      "text/plain": [
       "'Hello,world!'"
      ]
     },
     "execution_count": 1,
     "metadata": {},
     "output_type": "execute_result"
    }
   ],
   "source": [
    "'Hello,' + 'world!'     # concatenation doesn't add spaces"
   ]
  },
  {
   "cell_type": "code",
   "execution_count": 30,
   "metadata": {
    "execution": {
     "iopub.execute_input": "2021-09-10T15:36:32.719165Z",
     "iopub.status.busy": "2021-09-10T15:36:32.718475Z",
     "iopub.status.idle": "2021-09-10T15:36:32.720787Z",
     "shell.execute_reply": "2021-09-10T15:36:32.721232Z"
    }
   },
   "outputs": [
    {
     "data": {
      "text/plain": [
       "'Hello, world!'"
      ]
     },
     "execution_count": 1,
     "metadata": {},
     "output_type": "execute_result"
    }
   ],
   "source": [
    "'Hello' + ', ' + 'world' + '!'"
   ]
  },
  {
   "cell_type": "markdown",
   "metadata": {},
   "source": [
    "Multiplication is just repeated additions, e.g. 3 × 4 = 4 + 4 + 4.\n",
    "By analogy, Python reuses the multiplication operator for repeated\n",
    "concatenation."
   ]
  },
  {
   "cell_type": "code",
   "execution_count": 31,
   "metadata": {
    "execution": {
     "iopub.execute_input": "2021-09-10T15:36:32.724145Z",
     "iopub.status.busy": "2021-09-10T15:36:32.723614Z",
     "iopub.status.idle": "2021-09-10T15:36:32.725798Z",
     "shell.execute_reply": "2021-09-10T15:36:32.726311Z"
    }
   },
   "outputs": [
    {
     "data": {
      "text/plain": [
       "'HoHoHo'"
      ]
     },
     "execution_count": 1,
     "metadata": {},
     "output_type": "execute_result"
    }
   ],
   "source": [
    "3 * 'Ho'    # thus spoke Father Christmas"
   ]
  },
  {
   "cell_type": "code",
   "execution_count": 32,
   "metadata": {
    "execution": {
     "iopub.execute_input": "2021-09-10T15:36:32.730350Z",
     "iopub.status.busy": "2021-09-10T15:36:32.729526Z",
     "iopub.status.idle": "2021-09-10T15:36:32.731863Z",
     "shell.execute_reply": "2021-09-10T15:36:32.732356Z"
    }
   },
   "outputs": [
    {
     "data": {
      "text/plain": [
       "''"
      ]
     },
     "execution_count": 1,
     "metadata": {},
     "output_type": "execute_result"
    }
   ],
   "source": [
    "'Ho' * 0    # repeating zero times produces the empty string"
   ]
  },
  {
   "cell_type": "markdown",
   "metadata": {},
   "source": [
    "We'll use repeated concatenation mainly for creating long test strings."
   ]
  },
  {
   "cell_type": "markdown",
   "metadata": {},
   "source": [
    "#### Exercise 4.2.3"
   ]
  },
  {
   "cell_type": "markdown",
   "metadata": {},
   "source": [
    "What are the best- and worst-case scenarios of repeated concatenation?\n",
    "What are the corresponding complexities?"
   ]
  },
  {
   "cell_type": "markdown",
   "metadata": {
    "tags": [
     "ANSWER"
    ]
   },
   "source": [
    "_Write your answer here._"
   ]
  },
  {
   "cell_type": "markdown",
   "metadata": {},
   "source": [
    "[Hint](../31_Hints/Hints_04_2_03.ipynb)\n",
    "[Answer](../32_Answers/Answers_04_2_03.ipynb)"
   ]
  },
  {
   "cell_type": "markdown",
   "metadata": {},
   "source": [
    "#### Slicing"
   ]
  },
  {
   "cell_type": "markdown",
   "metadata": {},
   "source": [
    "Python allows arbitrary integers as the start and end indices.\n",
    "The character at the end index is excluded from the slice."
   ]
  },
  {
   "cell_type": "code",
   "execution_count": 33,
   "metadata": {
    "execution": {
     "iopub.execute_input": "2021-09-10T15:36:32.736408Z",
     "iopub.status.busy": "2021-09-10T15:36:32.735820Z",
     "iopub.status.idle": "2021-09-10T15:36:32.738380Z",
     "shell.execute_reply": "2021-09-10T15:36:32.738853Z"
    }
   },
   "outputs": [
    {
     "data": {
      "text/plain": [
       "'h'"
      ]
     },
     "execution_count": 1,
     "metadata": {},
     "output_type": "execute_result"
    }
   ],
   "source": [
    "'hello'[0:1]        # indices 0 to 0, i.e. 'hello'[0]"
   ]
  },
  {
   "cell_type": "code",
   "execution_count": 34,
   "metadata": {
    "execution": {
     "iopub.execute_input": "2021-09-10T15:36:32.741683Z",
     "iopub.status.busy": "2021-09-10T15:36:32.741185Z",
     "iopub.status.idle": "2021-09-10T15:36:32.743228Z",
     "shell.execute_reply": "2021-09-10T15:36:32.743685Z"
    }
   },
   "outputs": [
    {
     "data": {
      "text/plain": [
       "'ell'"
      ]
     },
     "execution_count": 1,
     "metadata": {},
     "output_type": "execute_result"
    }
   ],
   "source": [
    "'hello'[1:4]        # indices 1 to 3, i.e. 2nd to 4th character"
   ]
  },
  {
   "cell_type": "code",
   "execution_count": 35,
   "metadata": {
    "execution": {
     "iopub.execute_input": "2021-09-10T15:36:32.746526Z",
     "iopub.status.busy": "2021-09-10T15:36:32.745900Z",
     "iopub.status.idle": "2021-09-10T15:36:32.747951Z",
     "shell.execute_reply": "2021-09-10T15:36:32.748397Z"
    }
   },
   "outputs": [
    {
     "data": {
      "text/plain": [
       "''"
      ]
     },
     "execution_count": 1,
     "metadata": {},
     "output_type": "execute_result"
    }
   ],
   "source": [
    "'hello'[3:3]        # if start = end, the slice is empty"
   ]
  },
  {
   "cell_type": "code",
   "execution_count": 36,
   "metadata": {
    "execution": {
     "iopub.execute_input": "2021-09-10T15:36:32.751131Z",
     "iopub.status.busy": "2021-09-10T15:36:32.750590Z",
     "iopub.status.idle": "2021-09-10T15:36:32.752666Z",
     "shell.execute_reply": "2021-09-10T15:36:32.753304Z"
    }
   },
   "outputs": [
    {
     "data": {
      "text/plain": [
       "''"
      ]
     },
     "execution_count": 1,
     "metadata": {},
     "output_type": "execute_result"
    }
   ],
   "source": [
    "'hello'[2:1]        # if start > end, the slice is empty"
   ]
  },
  {
   "cell_type": "code",
   "execution_count": 37,
   "metadata": {
    "execution": {
     "iopub.execute_input": "2021-09-10T15:36:32.756079Z",
     "iopub.status.busy": "2021-09-10T15:36:32.755582Z",
     "iopub.status.idle": "2021-09-10T15:36:32.757715Z",
     "shell.execute_reply": "2021-09-10T15:36:32.758160Z"
    }
   },
   "outputs": [
    {
     "data": {
      "text/plain": [
       "'ll'"
      ]
     },
     "execution_count": 1,
     "metadata": {},
     "output_type": "execute_result"
    }
   ],
   "source": [
    "'hello'[2:-1]       # 3rd to penultimate character (-1 not included)"
   ]
  },
  {
   "cell_type": "markdown",
   "metadata": {},
   "source": [
    "The following examples show why the last index isn't included."
   ]
  },
  {
   "cell_type": "code",
   "execution_count": 38,
   "metadata": {
    "execution": {
     "iopub.execute_input": "2021-09-10T15:36:32.761370Z",
     "iopub.status.busy": "2021-09-10T15:36:32.760757Z",
     "iopub.status.idle": "2021-09-10T15:36:32.762942Z",
     "shell.execute_reply": "2021-09-10T15:36:32.763381Z"
    }
   },
   "outputs": [
    {
     "data": {
      "text/plain": [
       "'ell'"
      ]
     },
     "execution_count": 1,
     "metadata": {},
     "output_type": "execute_result"
    }
   ],
   "source": [
    "'hello'[1:4]        # len(text[start:end]) = end - start"
   ]
  },
  {
   "cell_type": "code",
   "execution_count": 39,
   "metadata": {
    "execution": {
     "iopub.execute_input": "2021-09-10T15:36:32.766149Z",
     "iopub.status.busy": "2021-09-10T15:36:32.765653Z",
     "iopub.status.idle": "2021-09-10T15:36:32.767664Z",
     "shell.execute_reply": "2021-09-10T15:36:32.768104Z"
    }
   },
   "outputs": [
    {
     "data": {
      "text/plain": [
       "'hell'"
      ]
     },
     "execution_count": 1,
     "metadata": {},
     "output_type": "execute_result"
    }
   ],
   "source": [
    "'hello'[0:1] + 'hello'[1:4]     # text[a:b] + text[b:c] = text[a:c]"
   ]
  },
  {
   "cell_type": "markdown",
   "metadata": {},
   "source": [
    "As an example of slicing, here's how to swap the two halves of a string."
   ]
  },
  {
   "cell_type": "code",
   "execution_count": 40,
   "metadata": {
    "execution": {
     "iopub.execute_input": "2021-09-10T15:36:32.771885Z",
     "iopub.status.busy": "2021-09-10T15:36:32.771250Z",
     "iopub.status.idle": "2021-09-10T15:36:32.773479Z",
     "shell.execute_reply": "2021-09-10T15:36:32.774136Z"
    }
   },
   "outputs": [
    {
     "data": {
      "text/plain": [
       "'and BobAlice '"
      ]
     },
     "execution_count": 1,
     "metadata": {},
     "output_type": "execute_result"
    }
   ],
   "source": [
    "text = 'Alice and Bob'\n",
    "middle = len(text) // 2\n",
    "text[middle:len(text)] + text[0:middle]"
   ]
  },
  {
   "cell_type": "markdown",
   "metadata": {
    "tags": [
     "INFO"
    ]
   },
   "source": [
    "<div class=\"alert alert-info\">\n",
    "<strong>Info:</strong> In Python, the start index of a slice can be omitted (it defaults to zero)\n",
    "and so can the end index (it defaults to the length of the string).\n",
    "In M269 we write both indices.\n",
    "</div>"
   ]
  },
  {
   "cell_type": "markdown",
   "metadata": {},
   "source": [
    "#### Exercise 4.2.4"
   ]
  },
  {
   "cell_type": "markdown",
   "metadata": {},
   "source": [
    "Explain why the swapping code works for strings of length&nbsp;0 and 1,\n",
    "the edge cases, without raising an index error."
   ]
  },
  {
   "cell_type": "markdown",
   "metadata": {
    "tags": [
     "ANSWER"
    ]
   },
   "source": [
    "_Write your answer here._"
   ]
  },
  {
   "cell_type": "markdown",
   "metadata": {},
   "source": [
    "[Hint](../31_Hints/Hints_04_2_04.ipynb)\n",
    "[Answer](../32_Answers/Answers_04_2_04.ipynb)"
   ]
  },
  {
   "cell_type": "markdown",
   "metadata": {},
   "source": [
    "#### Conversion"
   ]
  },
  {
   "cell_type": "markdown",
   "metadata": {},
   "source": [
    "Python also includes an operation to create a string from a number or Boolean."
   ]
  },
  {
   "cell_type": "code",
   "execution_count": 41,
   "metadata": {
    "execution": {
     "iopub.execute_input": "2021-09-10T15:36:32.778080Z",
     "iopub.status.busy": "2021-09-10T15:36:32.777472Z",
     "iopub.status.idle": "2021-09-10T15:36:32.780104Z",
     "shell.execute_reply": "2021-09-10T15:36:32.780754Z"
    }
   },
   "outputs": [
    {
     "data": {
      "text/plain": [
       "'2020'"
      ]
     },
     "execution_count": 1,
     "metadata": {},
     "output_type": "execute_result"
    }
   ],
   "source": [
    "str(2020)"
   ]
  },
  {
   "cell_type": "code",
   "execution_count": 42,
   "metadata": {
    "execution": {
     "iopub.execute_input": "2021-09-10T15:36:32.783684Z",
     "iopub.status.busy": "2021-09-10T15:36:32.783050Z",
     "iopub.status.idle": "2021-09-10T15:36:32.785103Z",
     "shell.execute_reply": "2021-09-10T15:36:32.785734Z"
    }
   },
   "outputs": [
    {
     "data": {
      "text/plain": [
       "'True'"
      ]
     },
     "execution_count": 1,
     "metadata": {},
     "output_type": "execute_result"
    }
   ],
   "source": [
    "str(True)"
   ]
  },
  {
   "cell_type": "markdown",
   "metadata": {},
   "source": [
    "Each Python data type has a **constructor**, a function with the same name as the type to create a value of that type.\n",
    "Constructors `int`, `float` and `bool` convert a string to\n",
    "the corresponding integer, float or Boolean."
   ]
  },
  {
   "cell_type": "code",
   "execution_count": 43,
   "metadata": {
    "execution": {
     "iopub.execute_input": "2021-09-10T15:36:32.789637Z",
     "iopub.status.busy": "2021-09-10T15:36:32.788970Z",
     "iopub.status.idle": "2021-09-10T15:36:32.791822Z",
     "shell.execute_reply": "2021-09-10T15:36:32.792474Z"
    }
   },
   "outputs": [
    {
     "data": {
      "text/plain": [
       "1984"
      ]
     },
     "execution_count": 1,
     "metadata": {},
     "output_type": "execute_result"
    }
   ],
   "source": [
    "int('1984')"
   ]
  },
  {
   "cell_type": "code",
   "execution_count": 44,
   "metadata": {
    "execution": {
     "iopub.execute_input": "2021-09-10T15:36:32.795862Z",
     "iopub.status.busy": "2021-09-10T15:36:32.795165Z",
     "iopub.status.idle": "2021-09-10T15:36:32.799202Z",
     "shell.execute_reply": "2021-09-10T15:36:32.798284Z"
    }
   },
   "outputs": [
    {
     "data": {
      "text/plain": [
       "1984.0"
      ]
     },
     "execution_count": 1,
     "metadata": {},
     "output_type": "execute_result"
    }
   ],
   "source": [
    "float('1984')"
   ]
  },
  {
   "cell_type": "code",
   "execution_count": 45,
   "metadata": {
    "execution": {
     "iopub.execute_input": "2021-09-10T15:36:32.803672Z",
     "iopub.status.busy": "2021-09-10T15:36:32.802891Z",
     "iopub.status.idle": "2021-09-10T15:36:32.805860Z",
     "shell.execute_reply": "2021-09-10T15:36:32.806842Z"
    }
   },
   "outputs": [
    {
     "data": {
      "text/plain": [
       "True"
      ]
     },
     "execution_count": 1,
     "metadata": {},
     "output_type": "execute_result"
    }
   ],
   "source": [
    "bool('True')"
   ]
  },
  {
   "cell_type": "code",
   "execution_count": 46,
   "metadata": {
    "execution": {
     "iopub.execute_input": "2021-09-10T15:36:32.811265Z",
     "iopub.status.busy": "2021-09-10T15:36:32.810529Z",
     "iopub.status.idle": "2021-09-10T15:36:32.813377Z",
     "shell.execute_reply": "2021-09-10T15:36:32.814169Z"
    }
   },
   "outputs": [
    {
     "data": {
      "text/plain": [
       "False"
      ]
     },
     "execution_count": 1,
     "metadata": {},
     "output_type": "execute_result"
    }
   ],
   "source": [
    "bool('True') == 'True'  # a Boolean isn't a string"
   ]
  },
  {
   "cell_type": "markdown",
   "metadata": {},
   "source": [
    "#### Exercise 4.2.5"
   ]
  },
  {
   "cell_type": "markdown",
   "metadata": {},
   "source": [
    "What is the complexity of the constructors to convert numbers and Booleans\n",
    "from and to strings?"
   ]
  },
  {
   "cell_type": "markdown",
   "metadata": {
    "tags": [
     "ANSWER"
    ]
   },
   "source": [
    "_Write your answer here._"
   ]
  },
  {
   "cell_type": "markdown",
   "metadata": {},
   "source": [
    "[Hint](../31_Hints/Hints_04_2_05.ipynb)\n",
    "[Answer](../32_Answers/Answers_04_2_05.ipynb)"
   ]
  },
  {
   "cell_type": "markdown",
   "metadata": {},
   "source": [
    "#### Mistakes"
   ]
  },
  {
   "cell_type": "markdown",
   "metadata": {},
   "source": [
    "The `+` operator means addition if both operands are numbers,\n",
    "and concatenation if both are strings.\n",
    "The `*` operator means multiplication if both operands are numbers,\n",
    "and repeated concatenation if one is an integer and the other is a string.\n",
    "Any other combination leads to a type error. The exact message may vary."
   ]
  },
  {
   "cell_type": "code",
   "execution_count": 47,
   "metadata": {
    "execution": {
     "iopub.execute_input": "2021-09-10T15:36:32.819074Z",
     "iopub.status.busy": "2021-09-10T15:36:32.818377Z",
     "iopub.status.idle": "2021-09-10T15:36:32.825193Z",
     "shell.execute_reply": "2021-09-10T15:36:32.826107Z"
    }
   },
   "outputs": [
    {
     "ename": "TypeError",
     "evalue": "unsupported operand type(s) for +: 'int' and 'str'",
     "output_type": "error",
     "traceback": [
      "\u001b[0;31m---------------------------------------------------------------------------\u001b[0m",
      "\u001b[0;31mTypeError\u001b[0m                                 Traceback (most recent call last)",
      "\u001b[0;32m<ipython-input-1-4ab8cd832a54>\u001b[0m in \u001b[0;36m<module>\u001b[0;34m\u001b[0m\n\u001b[0;32m----> 1\u001b[0;31m \u001b[0;36m3\u001b[0m \u001b[0;34m+\u001b[0m \u001b[0;34m'3'\u001b[0m\u001b[0;34m\u001b[0m\u001b[0;34m\u001b[0m\u001b[0m\n\u001b[0m",
      "\u001b[0;31mTypeError\u001b[0m: unsupported operand type(s) for +: 'int' and 'str'"
     ]
    }
   ],
   "source": [
    "3 + '3'"
   ]
  },
  {
   "cell_type": "code",
   "execution_count": 48,
   "metadata": {
    "execution": {
     "iopub.execute_input": "2021-09-10T15:36:32.830303Z",
     "iopub.status.busy": "2021-09-10T15:36:32.829557Z",
     "iopub.status.idle": "2021-09-10T15:36:32.835904Z",
     "shell.execute_reply": "2021-09-10T15:36:32.836578Z"
    }
   },
   "outputs": [
    {
     "ename": "TypeError",
     "evalue": "can't multiply sequence by non-int of type 'float'",
     "output_type": "error",
     "traceback": [
      "\u001b[0;31m---------------------------------------------------------------------------\u001b[0m",
      "\u001b[0;31mTypeError\u001b[0m                                 Traceback (most recent call last)",
      "\u001b[0;32m<ipython-input-1-5fee3a040abb>\u001b[0m in \u001b[0;36m<module>\u001b[0;34m\u001b[0m\n\u001b[0;32m----> 1\u001b[0;31m \u001b[0;34m'high'\u001b[0m \u001b[0;34m*\u001b[0m \u001b[0;36m5.0\u001b[0m\u001b[0;34m\u001b[0m\u001b[0;34m\u001b[0m\u001b[0m\n\u001b[0m",
      "\u001b[0;31mTypeError\u001b[0m: can't multiply sequence by non-int of type 'float'"
     ]
    }
   ],
   "source": [
    "'high' * 5.0"
   ]
  },
  {
   "cell_type": "markdown",
   "metadata": {},
   "source": [
    "A **value error** occurs when an operand or argument is of the expected type\n",
    "but not of a value that makes sense for the operation."
   ]
  },
  {
   "cell_type": "code",
   "execution_count": 49,
   "metadata": {
    "execution": {
     "iopub.execute_input": "2021-09-10T15:36:32.840657Z",
     "iopub.status.busy": "2021-09-10T15:36:32.840044Z",
     "iopub.status.idle": "2021-09-10T15:36:32.845095Z",
     "shell.execute_reply": "2021-09-10T15:36:32.845787Z"
    }
   },
   "outputs": [
    {
     "ename": "ValueError",
     "evalue": "invalid literal for int() with base 10: 'five'",
     "output_type": "error",
     "traceback": [
      "\u001b[0;31m---------------------------------------------------------------------------\u001b[0m",
      "\u001b[0;31mValueError\u001b[0m                                Traceback (most recent call last)",
      "\u001b[0;32m<ipython-input-1-3e382ef51cdd>\u001b[0m in \u001b[0;36m<module>\u001b[0;34m\u001b[0m\n\u001b[0;32m----> 1\u001b[0;31m \u001b[0mint\u001b[0m\u001b[0;34m(\u001b[0m\u001b[0;34m'five'\u001b[0m\u001b[0;34m)\u001b[0m\u001b[0;34m\u001b[0m\u001b[0;34m\u001b[0m\u001b[0m\n\u001b[0m",
      "\u001b[0;31mValueError\u001b[0m: invalid literal for int() with base 10: 'five'"
     ]
    }
   ],
   "source": [
    "int('five')"
   ]
  },
  {
   "cell_type": "markdown",
   "metadata": {},
   "source": [
    "As expected, the Python interpreter only understands Python, not English.\n",
    "\n",
    "You may think repeated concatenation doesn't make sense for negative integers,\n",
    "but the Python designers decided to produce the empty string instead of raising\n",
    "a value error."
   ]
  },
  {
   "cell_type": "code",
   "execution_count": 50,
   "metadata": {
    "execution": {
     "iopub.execute_input": "2021-09-10T15:36:32.849228Z",
     "iopub.status.busy": "2021-09-10T15:36:32.848670Z",
     "iopub.status.idle": "2021-09-10T15:36:32.850955Z",
     "shell.execute_reply": "2021-09-10T15:36:32.851407Z"
    }
   },
   "outputs": [
    {
     "data": {
      "text/plain": [
       "''"
      ]
     },
     "execution_count": 1,
     "metadata": {},
     "output_type": "execute_result"
    }
   ],
   "source": [
    "'Ho' * -5"
   ]
  },
  {
   "cell_type": "markdown",
   "metadata": {},
   "source": [
    "#### Exercise 4.2.6"
   ]
  },
  {
   "cell_type": "markdown",
   "metadata": {},
   "source": [
    "Assume that you have a string variable `text` and\n",
    "an integer variable `times` with a positive value.\n",
    "Write an expression that repeats the text the given number of times,\n",
    "separated by ellipses (`...`)."
   ]
  },
  {
   "cell_type": "code",
   "execution_count": 51,
   "metadata": {
    "execution": {
     "iopub.execute_input": "2021-09-10T15:36:32.855005Z",
     "iopub.status.busy": "2021-09-10T15:36:32.854360Z",
     "iopub.status.idle": "2021-09-10T15:36:32.856567Z",
     "shell.execute_reply": "2021-09-10T15:36:32.856124Z"
    }
   },
   "outputs": [],
   "source": [
    "text = 'hello'\n",
    "times = 3\n",
    "# replace this by your expression"
   ]
  },
  {
   "cell_type": "markdown",
   "metadata": {},
   "source": [
    "Running the previous cell should create the string `'hello...hello...hello'`.\n",
    "If you run the cell with `times = 1`, you should obtain just `'hello'`.\n",
    "\n",
    "[Hint](../31_Hints/Hints_04_2_06.ipynb)\n",
    "[Answer](../32_Answers/Answers_04_2_06.ipynb)"
   ]
  },
  {
   "cell_type": "markdown",
   "metadata": {},
   "source": [
    "⟵ [Previous section](04_1_sequences.ipynb) | [Up](04-introduction.ipynb) | [Next section](04_3_iteration.ipynb) ⟶"
   ]
  }
 ],
 "metadata": {
  "kernelspec": {
   "display_name": "Python 3",
   "language": "python",
   "name": "python3"
  },
  "language_info": {
   "codemirror_mode": {
    "name": "ipython",
    "version": 3
   },
   "file_extension": ".py",
   "mimetype": "text/x-python",
   "name": "python",
   "nbconvert_exporter": "python",
   "pygments_lexer": "ipython3",
   "version": "3.8.5"
  }
 },
 "nbformat": 4,
 "nbformat_minor": 4
}
