{
 "cells": [
  {
   "cell_type": "markdown",
   "metadata": {},
   "source": [
    "## 16.3 Traversals"
   ]
  },
  {
   "cell_type": "markdown",
   "metadata": {},
   "source": [
    "To do a brute-force search over a binary tree we must traverse it\n",
    "to visit all its nodes.\n",
    "The traversal generates the candidates and visiting a node does the testing,\n",
    "i.e. checks if it satisfies the search criteria.\n",
    "\n",
    "Traversals can be used for non-search problems too, e.g. to print the tree.\n",
    "Visiting a node processes its item and what is done depends on the problem,\n",
    "e.g. the size operation process a node by adding one to count.\n",
    "\n",
    "There are several systematic ways of traversing a binary tree.\n",
    "Once again I'll use the tree for expression (3+4)×5−6 to illustrate the concepts.\n",
    "![This figure shows a diagram made of circles connected by lines.\n",
    "Each circle surrounds an arithmetic operator or a number.\n",
    "Each circle with an operator is connected by two lines to\n",
    "two other circles below it, to the left and right.\n",
    "Each circle with a number has no further circles below it.\n",
    "The circle at the top has the subtraction operator.\n",
    "Below it, the left circle has the multiplication operator\n",
    "and the right circle has number 6.\n",
    "Below the multiplication operator, the left circle has the addition operator\n",
    "and the right circle has number 5.\n",
    "Below the addition operator, the left circle has number 3\n",
    "and the right circle has number 4.\n",
    "](16_1_example.png)"
   ]
  },
  {
   "cell_type": "code",
   "execution_count": 1,
   "metadata": {
    "execution": {
     "iopub.execute_input": "2021-09-10T15:45:10.871878Z",
     "iopub.status.busy": "2021-09-10T15:45:10.871365Z",
     "iopub.status.idle": "2021-09-10T15:45:10.874371Z",
     "shell.execute_reply": "2021-09-10T15:45:10.875021Z"
    }
   },
   "outputs": [],
   "source": [
    "%run -i ../m269_tree\n",
    "\n",
    "MTP = join('-', join('*', join('+', THREE, FOUR), FIVE), SIX)"
   ]
  },
  {
   "cell_type": "markdown",
   "metadata": {},
   "source": [
    "### 16.3.1 Depth-first search"
   ]
  },
  {
   "cell_type": "markdown",
   "metadata": {},
   "source": [
    "Traversals can be classified according to whether the root is visited before,\n",
    "in between or after visiting the subtrees.\n",
    "\n",
    "A **pre-order** traversal first visits the root, then the left subtree, then\n",
    "the right subtree. For the example tree, it would visit nodes\n",
    "−, ×, +, 3, 4, 5, 6 in that order.\n",
    "\n",
    "An **in-order** traversal first visits the left subtree, then the root, then\n",
    "the right subtree. For the example tree, the visiting order is\n",
    "3, +, 4, ×, 5, −, 6.  The in-order traversal generates the usual [infix notation](../07_Ordered/07_2_stack_usage.ipynb#7.2.2-Postfix-expressions)\n",
    "of expressions (operator between operands) but without the brackets.\n",
    "\n",
    "A **post-order** traversal first visits the left subtree, then\n",
    "the right subtree and finally the root. For the example tree,\n",
    "the visiting order is 3, 4, +, 5, ×, 6, −.\n",
    "This is the [postfix notation](../07_Ordered/07_2_stack_usage.ipynb#7.2.2-Postfix-expressions)\n",
    "that can be evaluated with a stack.\n",
    "\n",
    "All these traversals are forms of **depth-first search** (**DFS**),\n",
    "a search that explores one subtree in depth before searching the other subtree."
   ]
  },
  {
   "cell_type": "markdown",
   "metadata": {},
   "source": [
    "### 16.3.2 Pre-order traversal"
   ]
  },
  {
   "cell_type": "markdown",
   "metadata": {},
   "source": [
    "The algorithmic pattern for preorder(_tree_) is as follows, where\n",
    "step&nbsp;2 is problem-dependent.\n",
    "\n",
    "1. if _tree_ is empty:\n",
    "   1. stop\n",
    "2. visit root(_tree_)\n",
    "3. preorder(left(_tree_))\n",
    "4. preorder(right(_tree_))\n",
    "\n",
    "This basic pattern may be modified for some problems, e.g. if\n",
    "the search stops early, as in the following search for an item in a tree."
   ]
  },
  {
   "cell_type": "code",
   "execution_count": 2,
   "metadata": {
    "execution": {
     "iopub.execute_input": "2021-09-10T15:45:10.883054Z",
     "iopub.status.busy": "2021-09-10T15:45:10.882283Z",
     "iopub.status.idle": "2021-09-10T15:45:10.885241Z",
     "shell.execute_reply": "2021-09-10T15:45:10.885886Z"
    }
   },
   "outputs": [
    {
     "data": {
      "text/plain": [
       "False"
      ]
     },
     "execution_count": 1,
     "metadata": {},
     "output_type": "execute_result"
    }
   ],
   "source": [
    "def has(tree: Tree, item: object) -> bool:\n",
    "    \"\"\"Return True if and only if the item occurs in the tree.\"\"\"\n",
    "    if is_empty(tree):\n",
    "        return False\n",
    "    if tree.root == item:   # visit a node\n",
    "        return True\n",
    "    return has(tree.left, item) or has(tree.right, item)\n",
    "\n",
    "has(MTP, 9)"
   ]
  },
  {
   "cell_type": "markdown",
   "metadata": {},
   "source": [
    "This is similar to the recursive membership operation\n",
    "[on sequences](../12_Recursion/12_4_inspect_sequences.ipynb#12.4.2-Membership), which has two analogous\n",
    "base cases: the empty sequence and the head is the sought item.\n",
    "\n",
    "The code uses short-circuit disjunction to search the right subtree only if\n",
    "the item isn't in the left subtree.\n",
    "In languages without short-circuiting we'd write:\n",
    "```py\n",
    "if has(tree.left, item):\n",
    "    return True\n",
    "return has(tree.right, item)\n",
    "```\n",
    "Exhaustive search algorithms on trees usually do a pre-order traversal because\n",
    "by first looking at the root they may avoid visiting the subtrees."
   ]
  },
  {
   "cell_type": "markdown",
   "metadata": {},
   "source": [
    "### 16.3.3 In-order traversal"
   ]
  },
  {
   "cell_type": "markdown",
   "metadata": {},
   "source": [
    "Other than the name of the recursive function, what to we need to change\n",
    "in the pre-order pattern to obtain in-order traversal?\n",
    "\n",
    "___\n",
    "\n",
    "We just need to swap steps 2 and 3 to visit the left subtree before the root.\n",
    "\n",
    "A plain in-order traversal of an expression tree produces the expression in\n",
    "infix notation but without the parentheses.\n",
    "This is wrong because the original expression (3+4)×5−6 becomes 3+4×5−6 which,\n",
    "according to the usual precedence of operators, means 3+(4×5)−6.\n",
    "We have to print each subtree within brackets."
   ]
  },
  {
   "cell_type": "code",
   "execution_count": 3,
   "metadata": {
    "execution": {
     "iopub.execute_input": "2021-09-10T15:45:10.890735Z",
     "iopub.status.busy": "2021-09-10T15:45:10.890020Z",
     "iopub.status.idle": "2021-09-10T15:45:10.892751Z",
     "shell.execute_reply": "2021-09-10T15:45:10.893389Z"
    }
   },
   "outputs": [
    {
     "name": "stdout",
     "output_type": "stream",
     "text": [
      "((((  3  )  +  (  4  ))  *  (  5  ))  -  (  6  ))"
     ]
    }
   ],
   "source": [
    "def infix(expression: Tree) -> None:\n",
    "    \"\"\"Print infix form of expression, with full brackets.\"\"\"\n",
    "    if is_empty(expression):\n",
    "        return\n",
    "    print('(', end='')                  # print nothing after (\n",
    "    infix(expression.left)\n",
    "    print(' ', expression.root, ' ', end='')\n",
    "    infix(expression.right)\n",
    "    print(')', end='')\n",
    "\n",
    "infix(MTP)"
   ]
  },
  {
   "cell_type": "markdown",
   "metadata": {},
   "source": [
    "When the `print` function has argument `end=s`,\n",
    "it prints string `s` instead of the newline character."
   ]
  },
  {
   "cell_type": "markdown",
   "metadata": {},
   "source": [
    "#### Exercise 16.3.1"
   ]
  },
  {
   "cell_type": "markdown",
   "metadata": {},
   "source": [
    "Here's the function again with some more tests.\n",
    "Change it so that brackets around integer literals aren't printed."
   ]
  },
  {
   "cell_type": "code",
   "execution_count": 4,
   "metadata": {
    "execution": {
     "iopub.execute_input": "2021-09-10T15:45:10.898640Z",
     "iopub.status.busy": "2021-09-10T15:45:10.897908Z",
     "iopub.status.idle": "2021-09-10T15:45:10.903302Z",
     "shell.execute_reply": "2021-09-10T15:45:10.903914Z"
    }
   },
   "outputs": [],
   "source": [
    "def infix(expression: Tree) -> None:\n",
    "    \"\"\"Print infix form of expression, with full brackets.\"\"\"\n",
    "    if is_empty(expression):\n",
    "        return\n",
    "    print('(', end='')\n",
    "    infix(expression.left)\n",
    "    print(' ', expression.root, ' ', end='')\n",
    "    infix(expression.right)\n",
    "    print(')', end='')\n",
    "\n",
    "infix(MTP)  # ((3+4)*5)–6\n",
    "print()\n",
    "infix(TPM)  # (3+4)*(5-6)\n",
    "print()\n",
    "infix(PMT)  # 3+((4*5)-6)\n",
    "print()\n",
    "infix(MPT)  # (3+(4*5))-6"
   ]
  },
  {
   "cell_type": "markdown",
   "metadata": {},
   "source": [
    "[Hint](../31_Hints/Hints_16_3_01.ipynb)\n",
    "[Answer](../32_Answers/Answers_16_3_01.ipynb)"
   ]
  },
  {
   "cell_type": "markdown",
   "metadata": {},
   "source": [
    "### 16.3.4 Post-order traversal"
   ]
  },
  {
   "cell_type": "markdown",
   "metadata": {},
   "source": [
    "Other than the name of the recursive function, what do we need to change\n",
    "to the pre-order pattern to obtain post-order traversal?\n",
    "\n",
    "___\n",
    "\n",
    "We must move step&nbsp;2 (visit the root) to the end of the algorithm,\n",
    "after visiting the right subtree.\n",
    "\n",
    "We can evaluate an expression tree with a post-order traversal, because we\n",
    "can only process an operator after evaluating the left and right operands.\n",
    "The base case isn't the empty tree as that has no defined value;\n",
    "it's a leaf (a literal)."
   ]
  },
  {
   "cell_type": "code",
   "execution_count": 5,
   "metadata": {
    "execution": {
     "iopub.execute_input": "2021-09-10T15:45:10.910722Z",
     "iopub.status.busy": "2021-09-10T15:45:10.909959Z",
     "iopub.status.idle": "2021-09-10T15:45:10.914767Z",
     "shell.execute_reply": "2021-09-10T15:45:10.915412Z"
    }
   },
   "outputs": [
    {
     "name": "stdout",
     "output_type": "stream",
     "text": [
      "((((  3  )  +  (  4  ))  *  (  5  ))  -  (  6  )) = 29\n",
      "(((  3  )  +  (  4  ))  *  ((  5  )  -  (  6  ))) = -7\n",
      "((  3  )  +  (((  4  )  *  (  5  ))  -  (  6  ))) = 17\n",
      "(((  3  )  +  ((  4  )  *  (  5  )))  -  (  6  )) = 17\n"
     ]
    }
   ],
   "source": [
    "def evaluate(expression: Tree) -> int:\n",
    "    \"\"\"Return the value of the expression tree.\n",
    "\n",
    "    Preconditions:\n",
    "    - expression isn't empty\n",
    "    - expression only has operators +, -, * and numeric operands\n",
    "    \"\"\"\n",
    "    if is_leaf(expression):\n",
    "        return expression.root\n",
    "    left_value = evaluate(expression.left)\n",
    "    right_value = evaluate(expression.right)\n",
    "    operator = expression.root\n",
    "    if operator == '+':\n",
    "        return left_value + right_value\n",
    "    if operator == '-':\n",
    "        return left_value - right_value\n",
    "    if operator == '*':\n",
    "        return left_value * right_value\n",
    "\n",
    "infix(MTP)                  # ((3+4)*5)–6\n",
    "print(' =', evaluate(MTP))\n",
    "infix(TPM)                  # (3+4)*(5-6)\n",
    "print(' =', evaluate(TPM))\n",
    "infix(PMT)                  # 3+((4*5)-6)\n",
    "print(' =', evaluate(PMT))\n",
    "infix(MPT)                  # (3+(4*5))-6\n",
    "print(' =', evaluate(MPT))"
   ]
  },
  {
   "cell_type": "markdown",
   "metadata": {},
   "source": [
    "If you run this cell after doing the previous exercise you get fewer brackets."
   ]
  },
  {
   "cell_type": "markdown",
   "metadata": {},
   "source": [
    "### 16.3.5 Breadth-first search"
   ]
  },
  {
   "cell_type": "markdown",
   "metadata": {},
   "source": [
    "A **level-order** traversal goes through the tree level by level,\n",
    "from left to right within each level.\n",
    "This is a form of **breadth-first search** (**BFS**) because it goes through\n",
    "the breadth of each level before moving down to the next one.\n",
    "\n",
    "Depth-first search uses the call stack of the interpreter\n",
    "for the recursive calls; breath-first search uses a queue.\n",
    "When we visit a node, we enqueue its children, i.e. the next level,\n",
    "to visit them later.\n",
    "As we visit each level from left to right and enqueue its children,\n",
    "the next level will also be traversed left to right.\n",
    "The front of the queue is the next node to be visited.\n",
    "When we reach a leaf, no children are enqueued.\n",
    "At some point the queue will be empty and the algorithm stops.\n",
    "Here's the BFS pattern:\n",
    "\n",
    "1. let _to visit_ be the empty queue\n",
    "2. enqueue _tree_ in _to visit_\n",
    "3. while _to visit_ isn't empty:\n",
    "   1. dequeue _tree_ from _to visit_\n",
    "   2. visit root(_tree_)\n",
    "   3. if left(_tree_) isn't empty:\n",
    "      1. enqueue left(_tree_) in _to visit_\n",
    "   3. if right(_tree_) isn't empty:\n",
    "      1. enqueue right(_tree_) in _to visit_\n",
    "\n",
    "Here's a version of level-order traversal that prints one level per line.\n",
    "It uses two queues, one for the current level and the other for the next level,\n",
    "to detect when the current level ends and print a newline."
   ]
  },
  {
   "cell_type": "code",
   "execution_count": 6,
   "metadata": {
    "execution": {
     "iopub.execute_input": "2021-09-10T15:45:10.921402Z",
     "iopub.status.busy": "2021-09-10T15:45:10.920928Z",
     "iopub.status.idle": "2021-09-10T15:45:10.922990Z",
     "shell.execute_reply": "2021-09-10T15:45:10.923633Z"
    }
   },
   "outputs": [
    {
     "name": "stdout",
     "output_type": "stream",
     "text": [
      "-  \n",
      "*  6  \n",
      "+  5  \n",
      "3  4  \n"
     ]
    }
   ],
   "source": [
    "from collections import deque\n",
    "\n",
    "def levels(tree: Tree) -> None:\n",
    "    \"\"\"Print the tree from the root down, one level per line.\"\"\"\n",
    "    this_level = deque()\n",
    "    next_level = deque()\n",
    "    this_level.append(tree)\n",
    "    while len(this_level) > 0:\n",
    "        tree = this_level.popleft()\n",
    "        print(tree.root, ' ', end='')\n",
    "        if not is_empty(tree.left):\n",
    "            next_level.append(tree.left)\n",
    "        if not is_empty(tree.right):\n",
    "            next_level.append(tree.right)\n",
    "        # if it was last tree of this level, start new line and level\n",
    "        if len(this_level) == 0:\n",
    "            print()\n",
    "            this_level = next_level\n",
    "            next_level = deque()\n",
    "\n",
    "levels(MTP)    # (3+4) * 5 - 6"
   ]
  },
  {
   "cell_type": "code",
   "execution_count": 7,
   "metadata": {
    "execution": {
     "iopub.execute_input": "2021-09-10T15:45:10.926752Z",
     "iopub.status.busy": "2021-09-10T15:45:10.926130Z",
     "iopub.status.idle": "2021-09-10T15:45:10.928236Z",
     "shell.execute_reply": "2021-09-10T15:45:10.928886Z"
    }
   },
   "outputs": [
    {
     "name": "stdout",
     "output_type": "stream",
     "text": [
      "*  \n",
      "+  -  \n",
      "3  4  5  6  \n"
     ]
    }
   ],
   "source": [
    "levels(TPM)    # (3+4) * (5-6)"
   ]
  },
  {
   "cell_type": "markdown",
   "metadata": {},
   "source": [
    "⟵ [Previous section](16_2_algorithms.ipynb) | [Up](16-introduction.ipynb) | [Next section](16_4_bst.ipynb) ⟶"
   ]
  }
 ],
 "metadata": {
  "kernelspec": {
   "display_name": "Python 3",
   "language": "python",
   "name": "python3"
  },
  "language_info": {
   "codemirror_mode": {
    "name": "ipython",
    "version": 3
   },
   "file_extension": ".py",
   "mimetype": "text/x-python",
   "name": "python",
   "nbconvert_exporter": "python",
   "pygments_lexer": "ipython3",
   "version": "3.8.5"
  }
 },
 "nbformat": 4,
 "nbformat_minor": 4
}
