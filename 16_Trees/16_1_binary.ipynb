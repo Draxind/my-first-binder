{
 "cells": [
  {
   "cell_type": "markdown",
   "metadata": {},
   "source": [
    "## 16.1 Binary tree"
   ]
  },
  {
   "cell_type": "markdown",
   "metadata": {},
   "source": [
    "In M269 we focus on a restricted form of rooted trees: binary trees.\n",
    "They can be defined recursively:\n",
    "\n",
    "> A **binary tree** is either empty or it consists of an item,\n",
    "> called the **root**, and two binary trees,\n",
    "> called the **left subtree** and the **right subtree**.\n",
    "\n",
    "The next figure shows a binary tree that represents the expression (3+4)×5 − 6.\n",
    "Rooted trees are usually depicted from the root downwards, unlike natural trees.\n",
    "\n",
    "![This figure shows a diagram made of circles connected by lines.\n",
    "Each circle surrounds an arithmetic operator or a number.\n",
    "Each circle with an operator is connected by two lines to\n",
    "two other circles below it, to the left and right.\n",
    "Each circle with a number has no further circles below it.\n",
    "The circle at the top has the subtraction operator.\n",
    "Below it, the left circle has the multiplication operator\n",
    "and the right circle has number 6.\n",
    "Below the multiplication operator, the left circle has the addition operator\n",
    "and the right circle has number 5.\n",
    "Below the addition operator, the left circle has number 3\n",
    "and the right circle has number 4.\n",
    "](16_1_example.png)\n",
    "\n",
    "The root is the subtraction operator.\n",
    "The left subtree's root is the multiplication operator.\n",
    "The right subtree consists of root 6 and two empty subtrees.\n",
    "Why the expression is represented in this particular way will become clear\n",
    "in the next section, when we evaluate such expression trees.\n",
    "\n",
    "Many examples, like the folder hierarchy on a disk, can't be modelled as\n",
    "binary trees, because a folder can have more than two subfolders.\n",
    "But the concepts and techniques for binary trees\n",
    "can be extended to rooted trees with any number of subtrees."
   ]
  },
  {
   "cell_type": "markdown",
   "metadata": {},
   "source": [
    "### 16.1.1 Terminology"
   ]
  },
  {
   "cell_type": "markdown",
   "metadata": {},
   "source": [
    "A **node** consists of an item and\n",
    "the references to the left and right subtrees. The **size** of a tree is\n",
    "the number of its items (or nodes); the example tree has size 7.\n",
    "\n",
    "A node A is the **parent** of node B, and B is the **left or right child** of A,\n",
    "if B is the root of the left or right subtree of A, respectively.\n",
    "For example, node 6 is the right child of the subtraction node,\n",
    "which is also the parent of the multiplication node.\n",
    "\n",
    "Every node has exactly one parent, except the root, which has no parent.\n",
    "A **leaf** is a childless node, i.e. both its subtrees are empty.\n",
    "In the example, the leaves are the integer literals.\n",
    "\n",
    "A node A is an **ancestor** of node B, and B is a **descendant** of A,\n",
    "if A is a parent of B or A is an ancestor of the parent of B.\n",
    "For example, the ancestors of node 3 are\n",
    "addition, multiplication and subtraction.\n",
    "A subtree rooted at a node A consists of A and all its descendants.\n",
    "For example, the subtree rooted at the addition node consists of it\n",
    "and the descendants 3 and 4.\n",
    "\n",
    "The **level** or **depth** of a node is the number of its ancestors.\n",
    "The root has depth 0 because it has no ancestors.\n",
    "In the example tree, node 5 and the addition node have depth 2;\n",
    "nodes 3 and 4 are at level 3.\n",
    "\n",
    "The **height** of a tree is the number of levels,\n",
    "which is the largest depth plus one.\n",
    "The height of the example tree is 4. The height of the empty tree is 0."
   ]
  },
  {
   "cell_type": "markdown",
   "metadata": {
    "tags": [
     "INFO"
    ]
   },
   "source": [
    "<div class=\"alert alert-info\">\n",
    "<strong>Info:</strong> Many authors define the height of the empty tree as −1 and the height of\n",
    "a non-empty tree as the largest depth.\n",
    "</div>"
   ]
  },
  {
   "cell_type": "markdown",
   "metadata": {},
   "source": [
    "A binary tree is **perfect** if all its levels are full, i.e. all parents have\n",
    "two children and all leaves are at the same depth.\n",
    "An empty tree and a tree with just one node are perfect trees.\n",
    "The left-hand tree in the next figure is also perfect."
   ]
  },
  {
   "cell_type": "markdown",
   "metadata": {},
   "source": [
    "#### Exercise 16.1.1"
   ]
  },
  {
   "cell_type": "markdown",
   "metadata": {},
   "source": [
    "Consider the following binary trees, which represent, from left to to right,\n",
    "expressions (3+4)×(5-6), 3+((4×5)−6) and (3+(4×5))−6.\n",
    "\n",
    "![This figure shows three separate circle-and-line diagrams,\n",
    "with the same operators and numbers as the previous figure. Again,\n",
    "only circles with operators are connected to a left and a right circle below.\n",
    "Left diagram:\n",
    "The top circle has the multiplication operator.\n",
    "The circles below have the addition operator on the left\n",
    "and the subtraction operator on the right.\n",
    "Below the addition circle are the numbers 3 on the left and 4 on the right.\n",
    "Below the subtraction circle are the numbers 5 on the left and 6 on the right.\n",
    "Middle diagram:\n",
    "The top circle has the addition operator.\n",
    "The circles below have number 3 on the left\n",
    "and the subtraction operator on the right.\n",
    "Below the subtraction circle are the multiplication operator on the left\n",
    "and number 6 on the right.\n",
    "Below the multiplication circle are the numbers 4 on the left\n",
    "and 5 on the right.\n",
    "Right diagram:\n",
    "The top circle has the subtraction operator.\n",
    "The circles below have the addition operator on the left\n",
    "and number 6 on the right.\n",
    "Below the addition circle are number 3 on the left\n",
    "and the multiplication operator on the right.\n",
    "Below the multiplication circle are the numbers 4 on the left\n",
    "and 5 on the right.\n",
    "](16_1_exercise.png)\n",
    "\n",
    "For each tree:\n",
    "\n",
    "1. State its size and height."
   ]
  },
  {
   "cell_type": "markdown",
   "metadata": {
    "tags": [
     "ANSWER"
    ]
   },
   "source": [
    "_Write your answer here._"
   ]
  },
  {
   "cell_type": "markdown",
   "metadata": {},
   "source": [
    "2. List the nodes at level 2."
   ]
  },
  {
   "cell_type": "markdown",
   "metadata": {
    "tags": [
     "ANSWER"
    ]
   },
   "source": [
    "_Write your answer here._"
   ]
  },
  {
   "cell_type": "markdown",
   "metadata": {},
   "source": [
    "3. Explain if the multiplication node is a descendant of the subtraction node."
   ]
  },
  {
   "cell_type": "markdown",
   "metadata": {
    "tags": [
     "ANSWER"
    ]
   },
   "source": [
    "_Write your answer here._"
   ]
  },
  {
   "cell_type": "markdown",
   "metadata": {},
   "source": [
    "[Answer](../32_Answers/Answers_16_1_01.ipynb)"
   ]
  },
  {
   "cell_type": "markdown",
   "metadata": {},
   "source": [
    "### 16.1.2 ADT and data structure"
   ]
  },
  {
   "cell_type": "markdown",
   "metadata": {},
   "source": [
    "The binary tree ADT has the following operations:\n",
    "\n",
    "Operation | Effect | Algorithm in English\n",
    "-|-|-\n",
    "new  | create a new empty binary tree | let _t_ be an empty binary tree\n",
    "join | create a tree from item _i_ and trees _l_ and _r_ | join(_i_, _l_, _r_)\n",
    "root | obtain the root item of non-empty tree _t_ | root(_t_)\n",
    "left | obtain the left subtree of non-empty tree _t_ | left(_t_)\n",
    "right | obtain the right subtree of non-empty tree _t_ | right(_t_)\n",
    "is empty | check if a given tree is empty | _t_ is empty\n",
    "\n",
    "The join operation puts together a tree while\n",
    "the root, left and right operations take it apart. We have\n",
    "root(join(_i_, _l_, _r_)) = _i_,\n",
    "left(join(_i_, _l_, _r_)) = _l_ and right(join(_i_, _l_, _r_)) = _r_.\n",
    "This is the same approach as for composing sequences with the prepend operation\n",
    "and decomposing them with the head and tail operations."
   ]
  },
  {
   "cell_type": "markdown",
   "metadata": {
    "tags": [
     "NOTE"
    ]
   },
   "source": [
    "<div class=\"alert alert-warning\">\n",
    "<strong>Note:</strong> When designing a data type made of several parts,\n",
    "include operations to join and to separate the parts.\n",
    "</div>"
   ]
  },
  {
   "cell_type": "markdown",
   "metadata": {},
   "source": [
    "Instead of writing in one go a large class with many methods,\n",
    "I define a data structure and add operations one by one,\n",
    "as standalone functions. Introducing operations incrementally\n",
    "makes it easier for me to explain (and for you to learn) how binary trees work.\n",
    "\n",
    "The binary tree data structure follows the recursive definition:\n",
    "a tree node has an item and points to two children nodes.\n",
    "A binary tree is like a bifurcating [linked list](../06_Implementing/06_7_linked_list.ipynb#6.7-Linked-lists).\n",
    "I represent an empty tree by a node without a root or subtrees."
   ]
  },
  {
   "cell_type": "code",
   "execution_count": 1,
   "metadata": {
    "execution": {
     "iopub.execute_input": "2021-09-10T15:44:54.335840Z",
     "iopub.status.busy": "2021-09-10T15:44:54.335176Z",
     "iopub.status.idle": "2021-09-10T15:44:54.336866Z",
     "shell.execute_reply": "2021-09-10T15:44:54.337353Z"
    }
   },
   "outputs": [],
   "source": [
    "# this code is also in m269_tree.py\n",
    "\n",
    "class Tree:\n",
    "    \"\"\"A rooted binary tree\"\"\"\n",
    "    def __init__(self):\n",
    "        self.root = None\n",
    "        self.left = None\n",
    "        self.right = None"
   ]
  },
  {
   "cell_type": "markdown",
   "metadata": {},
   "source": [
    "The class could be named `BinaryTree` or `TreeNode`\n",
    "but since we're using only one kind of tree, I prefer a shorter name.\n",
    "\n",
    "The analogue to a doubly linked list would be to have an\n",
    "additional pointer to the parent node.\n",
    "This would allow us to write operations that\n",
    "can navigate up a tree, but we can live without the parent pointer in M269.\n",
    "\n",
    "Let's implement the ADT operations.\n",
    "The new operation is provided by the constructor.\n",
    "To obtain the root, left and right subtrees we can simply access\n",
    "the corresponding attribute because we're using the class as the raw\n",
    "data structure. The remaining operations are:"
   ]
  },
  {
   "cell_type": "code",
   "execution_count": 2,
   "metadata": {
    "execution": {
     "iopub.execute_input": "2021-09-10T15:44:54.340923Z",
     "iopub.status.busy": "2021-09-10T15:44:54.340465Z",
     "iopub.status.idle": "2021-09-10T15:44:54.341938Z",
     "shell.execute_reply": "2021-09-10T15:44:54.342378Z"
    }
   },
   "outputs": [],
   "source": [
    "# this code is also in m269_tree.py\n",
    "\n",
    "def is_empty(tree: Tree) -> bool:\n",
    "    \"\"\"Return True if and only if tree is empty.\"\"\"\n",
    "    return tree.root == tree.left == tree.right == None\n",
    "\n",
    "def join(item: object, left: Tree, right: Tree) -> Tree:\n",
    "    \"\"\"Return a tree with the given root and subtrees.\"\"\"\n",
    "    tree = Tree()\n",
    "    tree.root = item\n",
    "    tree.left = left\n",
    "    tree.right = right\n",
    "    return tree"
   ]
  },
  {
   "cell_type": "markdown",
   "metadata": {},
   "source": [
    "We construct trees bottom-up, starting from the leaves and joining two subtrees.\n",
    "First, the leaves for all the example trees."
   ]
  },
  {
   "cell_type": "code",
   "execution_count": 3,
   "metadata": {
    "execution": {
     "iopub.execute_input": "2021-09-10T15:44:54.346116Z",
     "iopub.status.busy": "2021-09-10T15:44:54.345470Z",
     "iopub.status.idle": "2021-09-10T15:44:54.346974Z",
     "shell.execute_reply": "2021-09-10T15:44:54.347497Z"
    }
   },
   "outputs": [],
   "source": [
    "# this code is also in m269_tree.py\n",
    "\n",
    "EMPTY = Tree()\n",
    "THREE = join(3, EMPTY, EMPTY)\n",
    "FOUR = join(4, EMPTY, EMPTY)\n",
    "FIVE = join(5, EMPTY, EMPTY)\n",
    "SIX = join(6, EMPTY, EMPTY)"
   ]
  },
  {
   "cell_type": "markdown",
   "metadata": {},
   "source": [
    "Next, the trees in the second figure, named after the order in which\n",
    "the plus, minus and times operators appear in the `join` arguments."
   ]
  },
  {
   "cell_type": "code",
   "execution_count": 4,
   "metadata": {
    "execution": {
     "iopub.execute_input": "2021-09-10T15:44:54.352245Z",
     "iopub.status.busy": "2021-09-10T15:44:54.351538Z",
     "iopub.status.idle": "2021-09-10T15:44:54.353071Z",
     "shell.execute_reply": "2021-09-10T15:44:54.353671Z"
    }
   },
   "outputs": [],
   "source": [
    "# this code is also in m269_tree.py\n",
    "\n",
    "TPM = join('*', join('+', THREE, FOUR), join('-', FIVE, SIX)) # (3+4)*(5-6)\n",
    "PMT = join('+', THREE, join('-', join('*', FOUR, FIVE), SIX)) # 3+((4*5)-6)\n",
    "MPT = join('-', join('+', THREE, join('*', FOUR, FIVE)), SIX) # (3+(4*5))-6"
   ]
  },
  {
   "cell_type": "markdown",
   "metadata": {},
   "source": [
    "I can reuse the same leaf objects for different trees\n",
    "because they won't be modified (hence the uppercase names)."
   ]
  },
  {
   "cell_type": "markdown",
   "metadata": {},
   "source": [
    "#### Exercise 16.1.2"
   ]
  },
  {
   "cell_type": "markdown",
   "metadata": {},
   "source": [
    "Write the Python expression for the tree in the first figure,\n",
    "for expression ((3+4)×5) − 6."
   ]
  },
  {
   "cell_type": "code",
   "execution_count": 5,
   "metadata": {
    "execution": {
     "iopub.execute_input": "2021-09-10T15:44:54.357421Z",
     "iopub.status.busy": "2021-09-10T15:44:54.356797Z",
     "iopub.status.idle": "2021-09-10T15:44:54.361168Z",
     "shell.execute_reply": "2021-09-10T15:44:54.361691Z"
    }
   },
   "outputs": [],
   "source": [
    "%run -i ../m269_tree\n",
    "\n",
    "pass"
   ]
  },
  {
   "cell_type": "markdown",
   "metadata": {},
   "source": [
    "[Answer](../32_Answers/Answers_16_1_02.ipynb)\n",
    "\n",
    "Before we move on, here's one more operation to illustrate accessing the subtrees."
   ]
  },
  {
   "cell_type": "code",
   "execution_count": 6,
   "metadata": {
    "execution": {
     "iopub.execute_input": "2021-09-10T15:44:54.365300Z",
     "iopub.status.busy": "2021-09-10T15:44:54.364661Z",
     "iopub.status.idle": "2021-09-10T15:44:54.366359Z",
     "shell.execute_reply": "2021-09-10T15:44:54.367052Z"
    }
   },
   "outputs": [],
   "source": [
    "# this code is also in m269_tree.py\n",
    "\n",
    "def is_leaf(tree: Tree) -> bool:\n",
    "    \"\"\"Return True if and only if the tree is a single leaf.\"\"\"\n",
    "    return not is_empty(tree) and is_empty(tree.left) and is_empty(tree.right)"
   ]
  },
  {
   "cell_type": "code",
   "execution_count": 7,
   "metadata": {
    "execution": {
     "iopub.execute_input": "2021-09-10T15:44:54.376440Z",
     "iopub.status.busy": "2021-09-10T15:44:54.375942Z",
     "iopub.status.idle": "2021-09-10T15:44:54.378302Z",
     "shell.execute_reply": "2021-09-10T15:44:54.379022Z"
    }
   },
   "outputs": [
    {
     "data": {
      "text/plain": [
       "True"
      ]
     },
     "execution_count": 1,
     "metadata": {},
     "output_type": "execute_result"
    }
   ],
   "source": [
    "is_leaf(THREE)"
   ]
  },
  {
   "cell_type": "code",
   "execution_count": 8,
   "metadata": {
    "execution": {
     "iopub.execute_input": "2021-09-10T15:44:54.382249Z",
     "iopub.status.busy": "2021-09-10T15:44:54.381601Z",
     "iopub.status.idle": "2021-09-10T15:44:54.383786Z",
     "shell.execute_reply": "2021-09-10T15:44:54.384307Z"
    }
   },
   "outputs": [
    {
     "data": {
      "text/plain": [
       "False"
      ]
     },
     "execution_count": 1,
     "metadata": {},
     "output_type": "execute_result"
    }
   ],
   "source": [
    "is_leaf(EMPTY)"
   ]
  },
  {
   "cell_type": "code",
   "execution_count": 9,
   "metadata": {
    "execution": {
     "iopub.execute_input": "2021-09-10T15:44:54.387454Z",
     "iopub.status.busy": "2021-09-10T15:44:54.386964Z",
     "iopub.status.idle": "2021-09-10T15:44:54.389137Z",
     "shell.execute_reply": "2021-09-10T15:44:54.389810Z"
    }
   },
   "outputs": [
    {
     "data": {
      "text/plain": [
       "False"
      ]
     },
     "execution_count": 1,
     "metadata": {},
     "output_type": "execute_result"
    }
   ],
   "source": [
    "is_leaf(TPM)"
   ]
  },
  {
   "cell_type": "markdown",
   "metadata": {},
   "source": [
    "⟵ [Previous section](16-introduction.ipynb) | [Up](16-introduction.ipynb) | [Next section](16_2_algorithms.ipynb) ⟶"
   ]
  }
 ],
 "metadata": {
  "kernelspec": {
   "display_name": "Python 3",
   "language": "python",
   "name": "python3"
  },
  "language_info": {
   "codemirror_mode": {
    "name": "ipython",
    "version": 3
   },
   "file_extension": ".py",
   "mimetype": "text/x-python",
   "name": "python",
   "nbconvert_exporter": "python",
   "pygments_lexer": "ipython3",
   "version": "3.8.5"
  }
 },
 "nbformat": 4,
 "nbformat_minor": 4
}
