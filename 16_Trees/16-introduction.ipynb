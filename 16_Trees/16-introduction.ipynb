{
 "cells": [
  {
   "cell_type": "markdown",
   "metadata": {},
   "source": [
    "# 16 Rooted trees"
   ]
  },
  {
   "cell_type": "markdown",
   "metadata": {},
   "source": [
    "So far we organised items in some kind of sequence, like stacks and queues,\n",
    "or as an unordered 'bunch', like maps, sets and bags.\n",
    "All collections were 'flat'.\n",
    "\n",
    "A **rooted tree** is an ADT that can represent a hierarchical collection,\n",
    "in which items are organised into levels.\n",
    "In a rooted tree, only one item (called the **root**) can be in the top level.\n",
    "For example, folders on a disk are organised hierarchically in a tree.\n",
    "Each folder contains zero or more subfolders, which in turn may contain others.\n",
    "The root folder on a disk is usually named `/` or `\\`.\n",
    "\n",
    "This chapter introduces rooted trees and their properties, and\n",
    "how to represent and manipulate them, including two new forms of search\n",
    "in order to find items in a tree: breadth- and depth-first search.\n",
    "You will learn about two kinds of rooted trees: binary search trees and heaps.\n",
    "The latter provide an efficient implementation of priority queues, which in turn\n",
    "leads to heapsort, a sorting algorithm with log-linear worst-case complexity.\n",
    "\n",
    "To understand and handle rooted trees, you will draw on\n",
    "concepts and techniques introduced before:\n",
    "recursion, divide and conquer, stacks, queues,\n",
    "linked lists, binary search and logarithmic complexity.\n",
    "\n",
    "Trees without a designated root item are introduced in the next chapter.\n",
    "\n",
    "This chapter supports these learning outcomes:\n",
    "\n",
    "- Apply general-purpose data structures and algorithmic techniques\n",
    "  to efficiently solve computational problems – this chapter draws on\n",
    "  previous data structures and techniques to introduce rooted trees and\n",
    "  breadth- and depth-first search.\n",
    "- Explain in a clear and succinct way how an algorithm or data structure\n",
    "  works, and its assumptions, in order to communicate with peers –\n",
    "  this chapter explains how binary search trees and heaps work.\n",
    "\n",
    "\n",
    "Before starting to work on this chapter, check the\n",
    "[M269 website](https://learn2.open.ac.uk/course/view.php?id=208089) for relevant news and errata."
   ]
  },
  {
   "cell_type": "markdown",
   "metadata": {
    "nbsphinx-toctree": {
     "hidden": true,
     "maxdepth": 1,
     "numbered": false
    }
   },
   "source": [
    "1. [Binary tree](16_1_binary.ipynb)\n",
    "1. [Algorithms on trees](16_2_algorithms.ipynb)\n",
    "1. [Traversals](16_3_traversals.ipynb)\n",
    "1. [Binary search trees](16_4_bst.ipynb)\n",
    "1. [Balanced trees](16_5_balanced.ipynb)\n",
    "1. [Heapsort](16_6_heapsort.ipynb)\n",
    "1. [Summary](16_7_summary.ipynb)"
   ]
  },
  {
   "cell_type": "markdown",
   "metadata": {},
   "source": [
    "⟵ [Previous chapter](../15_TMA02-1/15-introduction.ipynb) | [Up](../M269.ipynb) | [Next chapter](../31_Hints/31-introduction.ipynb) ⟶"
   ]
  }
 ],
 "metadata": {
  "kernelspec": {
   "display_name": "Python 3",
   "language": "python",
   "name": "python3"
  },
  "language_info": {
   "codemirror_mode": {
    "name": "ipython",
    "version": 3
   },
   "file_extension": ".py",
   "mimetype": "text/x-python",
   "name": "python",
   "nbconvert_exporter": "python",
   "pygments_lexer": "ipython3",
   "version": "3.8.5"
  }
 },
 "nbformat": 4,
 "nbformat_minor": 4
}
