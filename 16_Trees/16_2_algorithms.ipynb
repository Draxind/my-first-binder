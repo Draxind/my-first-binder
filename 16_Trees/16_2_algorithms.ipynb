{
 "cells": [
  {
   "cell_type": "markdown",
   "metadata": {},
   "source": [
    "## 16.2 Algorithms on trees"
   ]
  },
  {
   "cell_type": "markdown",
   "metadata": {},
   "source": [
    "Due to the recursive definition of binary trees, a function f on them\n",
    "is usually defined recursively like this:\n",
    "\n",
    "1. if _tree_ is empty: f(_tree_) = ...\n",
    "2. otherwise: f(_tree_) = an expression based on operations root, left, right and join.\n",
    "\n",
    "To come up with such a definition you need to answer these questions:\n",
    "\n",
    "1. What's the output for an empty tree?\n",
    "2. If I know the outputs for the left and right subtrees, what's the output for the whole tree?\n",
    "\n",
    "For example, the size of the empty tree is zero, and if I know the sizes of the\n",
    "left and right subtrees, then the size of the tree is their sum plus one,\n",
    "for the root.\n",
    "\n",
    "- if _tree_ is empty: size(_tree_) = 0\n",
    "- otherwise: size(_tree_) = size(left(_tree_)) + size(right(_tree_)) + 1\n",
    "\n",
    "The recursive definition of the length of a sequence didn't refer to the head\n",
    "of the sequence; similarly, the size of a tree doesn't refer to the root.\n",
    "Like for sequences, recursive definitions on trees are straightforward to\n",
    "translate to code. First we must 'import' the definition of `Tree`."
   ]
  },
  {
   "cell_type": "code",
   "execution_count": 1,
   "metadata": {
    "execution": {
     "iopub.execute_input": "2021-09-10T15:44:56.851585Z",
     "iopub.status.busy": "2021-09-10T15:44:56.850731Z",
     "iopub.status.idle": "2021-09-10T15:44:56.853797Z",
     "shell.execute_reply": "2021-09-10T15:44:56.854284Z"
    }
   },
   "outputs": [],
   "source": [
    "%run -i ../m269_tree"
   ]
  },
  {
   "cell_type": "markdown",
   "metadata": {},
   "source": [
    "Now we can define a new operation on binary trees."
   ]
  },
  {
   "cell_type": "code",
   "execution_count": 2,
   "metadata": {
    "execution": {
     "iopub.execute_input": "2021-09-10T15:44:56.858316Z",
     "iopub.status.busy": "2021-09-10T15:44:56.857440Z",
     "iopub.status.idle": "2021-09-10T15:44:56.859554Z",
     "shell.execute_reply": "2021-09-10T15:44:56.860212Z"
    }
   },
   "outputs": [],
   "source": [
    "# this code is also in m269_tree.py\n",
    "\n",
    "def size(tree: Tree) -> int:\n",
    "    \"\"\"Return the number of nodes in tree.\"\"\"\n",
    "    if is_empty(tree):\n",
    "        return 0\n",
    "    else:\n",
    "        return size(tree.left) + size(tree.right) + 1"
   ]
  },
  {
   "cell_type": "markdown",
   "metadata": {},
   "source": [
    "I test the function on one expression tree, as they all have the same size."
   ]
  },
  {
   "cell_type": "code",
   "execution_count": 3,
   "metadata": {
    "execution": {
     "iopub.execute_input": "2021-09-10T15:44:56.868365Z",
     "iopub.status.busy": "2021-09-10T15:44:56.867723Z",
     "iopub.status.idle": "2021-09-10T15:44:56.870498Z",
     "shell.execute_reply": "2021-09-10T15:44:56.871136Z"
    }
   },
   "outputs": [
    {
     "data": {
      "text/plain": [
       "7"
      ]
     },
     "execution_count": 1,
     "metadata": {},
     "output_type": "execute_result"
    }
   ],
   "source": [
    "size(TPM)"
   ]
  },
  {
   "cell_type": "markdown",
   "metadata": {},
   "source": [
    "Algorithms on binary trees usually follow a divide-and-conquer approach\n",
    "to process both subtrees and thereby all nodes.\n",
    "This takes linear time in the size of the tree,\n",
    "assuming that processing each node takes constant time."
   ]
  },
  {
   "cell_type": "markdown",
   "metadata": {},
   "source": [
    "#### Exercise 16.2.1"
   ]
  },
  {
   "cell_type": "markdown",
   "metadata": {},
   "source": [
    "Recursively define the height of a tree."
   ]
  },
  {
   "cell_type": "markdown",
   "metadata": {},
   "source": [
    "- if _tree_ is empty: height(_tree_) = ...\n",
    "- otherwise: height(_tree_) =\n",
    "\n",
    "[Hint](../31_Hints/Hints_16_2_01.ipynb)\n",
    "[Answer](../32_Answers/Answers_16_2_01.ipynb)"
   ]
  },
  {
   "cell_type": "markdown",
   "metadata": {},
   "source": [
    "#### Exercise 16.2.2"
   ]
  },
  {
   "cell_type": "markdown",
   "metadata": {},
   "source": [
    "Implement the operation."
   ]
  },
  {
   "cell_type": "code",
   "execution_count": 4,
   "metadata": {
    "execution": {
     "iopub.execute_input": "2021-09-10T15:44:56.876835Z",
     "iopub.status.busy": "2021-09-10T15:44:56.876194Z",
     "iopub.status.idle": "2021-09-10T15:44:56.880003Z",
     "shell.execute_reply": "2021-09-10T15:44:56.880671Z"
    }
   },
   "outputs": [],
   "source": [
    "%run -i ../m269_tree\n",
    "%run -i ../m269_util\n",
    "\n",
    "def height(tree: Tree) -> int:\n",
    "    \"\"\"Return the height of the tree.\"\"\"\n",
    "    pass\n",
    "\n",
    "height_tests = [\n",
    "    # case,         tree,   height\n",
    "    ('empty',       EMPTY,  0),\n",
    "    ('(3+4)*(5-6)',   TPM,  3),\n",
    "    ('3+((4*5)-6)',   PMT,  4),\n",
    "    ('(3+(4*5))-6',   MPT,  4),\n",
    "]\n",
    "\n",
    "test(height, height_tests)"
   ]
  },
  {
   "cell_type": "markdown",
   "metadata": {},
   "source": [
    "[Answer](../32_Answers/Answers_16_2_02.ipynb)"
   ]
  },
  {
   "cell_type": "markdown",
   "metadata": {},
   "source": [
    "### 16.2.1 Arm's-length recursion"
   ]
  },
  {
   "cell_type": "markdown",
   "metadata": {},
   "source": [
    "The size algorithm always does two recursive calls per node,\n",
    "whether a node has 0, 1 or 2 children.\n",
    "However, empty subtrees don't add anything to the size of the tree.\n",
    "Making a recursive call to immediately return zero seems a bit pointless.\n",
    "\n",
    "**Arm's-length recursion** checks for the base case _before_ making a recursive\n",
    "call. For the size function, this means checking if a subtree is empty and\n",
    "not making a recursive call if it is. Since one or both subtrees may be empty,\n",
    "we must check three additional cases.\n",
    "The base case must still be checked in case the whole tree is empty."
   ]
  },
  {
   "cell_type": "code",
   "execution_count": 5,
   "metadata": {
    "execution": {
     "iopub.execute_input": "2021-09-10T15:44:56.884539Z",
     "iopub.status.busy": "2021-09-10T15:44:56.884055Z",
     "iopub.status.idle": "2021-09-10T15:44:56.885787Z",
     "shell.execute_reply": "2021-09-10T15:44:56.886268Z"
    }
   },
   "outputs": [],
   "source": [
    "def size_arm(tree: Tree) -> int:\n",
    "    \"\"\"Return the size of the tree using arm's length recursion.\"\"\"\n",
    "    if is_empty(tree):\n",
    "        return 0\n",
    "    elif is_leaf(tree):                 # both subtrees empty\n",
    "        return 1\n",
    "    elif is_empty(tree.left):           # left subtree empty\n",
    "        return size_arm(tree.right) + 1\n",
    "    elif is_empty(tree.right):          # right subtree empty\n",
    "        return size_arm(tree.left) + 1\n",
    "    else:\n",
    "        return size_arm(tree.left) + size_arm(tree.right) + 1"
   ]
  },
  {
   "cell_type": "markdown",
   "metadata": {},
   "source": [
    "The new algorithm is longer, inelegant, repetitive and thus\n",
    "prone to typos and other errors. It only recurs on non-empty subtrees,\n",
    "so it makes as many recursive calls as there are nodes, not twice as much,\n",
    "but each call makes more checks.\n",
    "Let's compare this version to the first one, using a tall tree\n",
    "with one child per node; essentially, a linked list."
   ]
  },
  {
   "cell_type": "code",
   "execution_count": 6,
   "metadata": {
    "execution": {
     "iopub.execute_input": "2021-09-10T15:44:56.961345Z",
     "iopub.status.busy": "2021-09-10T15:44:56.924767Z",
     "iopub.status.idle": "2021-09-10T15:45:08.465530Z",
     "shell.execute_reply": "2021-09-10T15:45:08.466023Z"
    }
   },
   "outputs": [
    {
     "name": "stdout",
     "output_type": "stream",
     "text": [
      "662 µs ± 51.3 µs per loop (mean ± std. dev. of 5 runs, 1000 loops each)\n",
      "1.21 ms ± 37.4 µs per loop (mean ± std. dev. of 5 runs, 1000 loops each)\n"
     ]
    }
   ],
   "source": [
    "tree = join('leaf', EMPTY, EMPTY)\n",
    "for level in range(1000):\n",
    "    tree = join('a node', tree, EMPTY)\n",
    "\n",
    "%timeit -r 5 size(tree)\n",
    "%timeit -r 5 size_arm(tree)"
   ]
  },
  {
   "cell_type": "markdown",
   "metadata": {},
   "source": [
    "In this example, arm's length recursion takes longer, even though it makes fewer recursive calls."
   ]
  },
  {
   "cell_type": "markdown",
   "metadata": {
    "tags": [
     "NOTE"
    ]
   },
   "source": [
    "<div class=\"alert alert-warning\">\n",
    "<strong>Note:</strong> Avoid arm's length recursion:\n",
    "it complicates your code and usually slows it down.\n",
    "</div>"
   ]
  },
  {
   "cell_type": "markdown",
   "metadata": {},
   "source": [
    "If an operation isn't defined for the empty tree, then an algorithm must first\n",
    "check if a subtree isn't empty before making a recursive call.\n",
    "Consider finding the largest item in a binary tree. The preconditions are that\n",
    "the input tree isn't empty and its items are comparable.\n",
    "\n",
    "- if _tree_ is a leaf: largest(_tree_) = root(_tree_)\n",
    "- if left(_tree_) is empty and right(_tree_) isn't:\n",
    "  largest(_tree_) = max(largest(right(_tree_)), root(_tree_))\n",
    "- if right(_tree_) is empty and left(_tree_) isn't:\n",
    "  largest(_tree_) = max(largest(left(_tree_)), root(_tree_))\n",
    "- otherwise: largest(_tree_) = max(largest(left(_tree_)),\n",
    "  largest(right(_tree_)), root(_tree_))\n",
    "\n",
    "This is _not_ arm's-length recursion: each recurrence relation is checking for\n",
    "the empty tree, not for the base case (tree is a leaf).\n",
    "The definition is making sure no recursive call violates the preconditions."
   ]
  },
  {
   "cell_type": "markdown",
   "metadata": {},
   "source": [
    "⟵ [Previous section](16_1_binary.ipynb) | [Up](16-introduction.ipynb) | [Next section](16_3_traversals.ipynb) ⟶"
   ]
  }
 ],
 "metadata": {
  "kernelspec": {
   "display_name": "Python 3",
   "language": "python",
   "name": "python3"
  },
  "language_info": {
   "codemirror_mode": {
    "name": "ipython",
    "version": 3
   },
   "file_extension": ".py",
   "mimetype": "text/x-python",
   "name": "python",
   "nbconvert_exporter": "python",
   "pygments_lexer": "ipython3",
   "version": "3.8.5"
  }
 },
 "nbformat": 4,
 "nbformat_minor": 4
}
