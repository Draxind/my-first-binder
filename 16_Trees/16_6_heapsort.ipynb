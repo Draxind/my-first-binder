{
 "cells": [
  {
   "cell_type": "markdown",
   "metadata": {},
   "source": [
    "## 16.6 Heapsort"
   ]
  },
  {
   "cell_type": "markdown",
   "metadata": {},
   "source": [
    "Selection sort searches the unsorted part for\n",
    "the item with the smallest key, removes it and appends it to sorted part.\n",
    "We can see an item's key as the priority of being chosen next\n",
    "and use a min-priority queue to retrieve the next item for the sorted part.\n",
    "\n",
    "1. let _queue_ be a min-priority queue\n",
    "2. for each _item_ in _unsorted_:\n",
    "   1. enqueue _item_ in _queue_ with priority _key_(_item_)\n",
    "2. let _sorted_ be the empty sequence\n",
    "2. while _queue_ isn't empty:\n",
    "   1. append front of _queue_ to _sorted_\n",
    "   2. dequeue _queue_\n",
    "\n",
    "This is a form of selection sort with pre-processing steps 1 and 2 to\n",
    "put the unsorted part in a min-priority queue, which thereby sorts it.\n",
    "The algorithm is stable if\n",
    "the queue keeps items with the same priority in FIFO order.\n",
    "\n",
    "If we implement the priority queue with a self-balancing BST,\n",
    "adding and removing an item in steps 2.1 and 4.2 takes logarithmic time.\n",
    "Selection sort on an array takes quadratic time to do _n_ linear searches;\n",
    "with a BST-based min-priority queue, it takes log-linear time.\n",
    "\n",
    "Pigeonhole sort is also a form of selection sort with a data structure that\n",
    "allows getting the lowest key item in constant time."
   ]
  },
  {
   "cell_type": "markdown",
   "metadata": {
    "tags": [
     "NOTE"
    ]
   },
   "source": [
    "<div class=\"alert alert-warning\">\n",
    "<strong>Note:</strong> An algorithm's complexity may be improved by using an auxiliary data structure.\n",
    "</div>"
   ]
  },
  {
   "cell_type": "markdown",
   "metadata": {},
   "source": [
    "Self-balancing BSTs have a memory overhead of two pointers per item and\n",
    "a run-time overhead to keep the tree balanced.\n",
    "There's a more efficient data structure for priority queues."
   ]
  },
  {
   "cell_type": "markdown",
   "metadata": {},
   "source": [
    "### 16.6.1 Binary heap"
   ]
  },
  {
   "cell_type": "markdown",
   "metadata": {},
   "source": [
    "In a **complete** tree all levels are full except possibly the last one\n",
    "and there are no 'gaps' in the bottom-level leaves, i.e.\n",
    "they were added from left to right.\n",
    "A complete tree has minimal height and is balanced.\n",
    "The next figure shows two balanced binary trees. Only the left-hand tree is complete:\n",
    "the right-hand tree doesn't have middle leaves in the deepest level.\n",
    "\n",
    "![This figure shows two separate binary trees.\n",
    "The nodes are empty: there's nothing inside the circles.\n",
    "In both trees, the root has two children.\n",
    "In the left-hand tree, the left child of the root has two children but\n",
    "the right child of the root has no children.\n",
    "In the right-hand tree, the left child of the root has one left child and\n",
    "the right child of the root has one right child.\n",
    "](16_6_complete.png)\n",
    "\n",
    "A **binary heap** is a complete binary tree with an ordering property:\n",
    "in a **min-heap** each node's key is less than or equal to its children's keys,\n",
    "whereas in a **max-heap** it's larger than or equal to.\n",
    "A min-heap has the smallest item in the root; a max-heap has the largest.\n",
    "In M269, heap means a binary heap, since we're not using other kinds of heaps.\n",
    "\n",
    "The next figure shows a min-heap on the left, a max-heap on the right,\n",
    "whereas the middle tree is complete but not a heap:\n",
    "node 3 is smaller than one of its children but larger than the other.\n",
    "![This figure shows three binary trees.\n",
    "Left tree:\n",
    "The root, with key 0, has two children with keys 1 and 2.\n",
    "The node with key 1&nbsp;has two children with keys 3 and 4.\n",
    "Middle tree:\n",
    "The root, with key 0, has two children with keys 3 and 2.\n",
    "The node with key 3&nbsp;has two children with keys 1 and 4.\n",
    "Right tree:\n",
    "The root, with key 4, has two children with keys 3 and 2.\n",
    "The node with key 3&nbsp;has two children with keys 1 and 0.\n",
    "](16_6_heap.png)"
   ]
  },
  {
   "cell_type": "markdown",
   "metadata": {},
   "source": [
    "#### Exercise 16.6.1"
   ]
  },
  {
   "cell_type": "markdown",
   "metadata": {},
   "source": [
    "Can an item be searched in logarithmic time in a binary heap?"
   ]
  },
  {
   "cell_type": "markdown",
   "metadata": {
    "tags": [
     "ANSWER"
    ]
   },
   "source": [
    "_Write your answer here._"
   ]
  },
  {
   "cell_type": "markdown",
   "metadata": {},
   "source": [
    "[Hint](../31_Hints/Hints_16_6_01.ipynb)\n",
    "[Answer](../32_Answers/Answers_16_6_01.ipynb)\n",
    "\n",
    "A complete binary tree can be efficiently stored in an array in level order.\n",
    "We put the root in index&nbsp;0, its left child in index&nbsp;1,\n",
    "its right child in index&nbsp;2, and so on. This way, the node at index _i_ has\n",
    "its children at indices _2×i_ + 1 and 2×_i_ + 2 and\n",
    "its parent at index floor((_i_ – 1)/ 2).\n",
    "This is illustrated by the previous figure,\n",
    "where the keys of the left-hand tree are the same as the nodes' indices.\n",
    "For example, node 1&nbsp;has children 2×1 + 1 = 3 and 2×2 + 2 = 4, and\n",
    "nodes 1 and 2&nbsp;have parent floor((1–1) / 2) = floor ((2–1) / 2) = 0.\n",
    "\n",
    "This approach is much more efficient in terms of memory and run-time than a\n",
    "pointer-based implementation of a complete tree. The latter requires\n",
    "three pointers per node to also access a node's parent, whereas\n",
    "the array-based implementation multiplies and divides indices by 2,\n",
    "which is very fast in binary arithmetic.\n",
    "\n",
    "**Heapsort** is the above min-priority queue version of selection sort,\n",
    "using a min-heap as the data structure.\n",
    "Before I go into the details of the heap operations,\n",
    "you should see them and heapsort at work in this [visualisation](https://learn2.open.ac.uk/mod/oucontent/view.php?id=1827810&extra=thumbnail_idm45069228651424).\n",
    "(Ignore the references to Miller and Ranum's textbook.)"
   ]
  },
  {
   "cell_type": "markdown",
   "metadata": {},
   "source": [
    "### 16.6.2 Inserting items"
   ]
  },
  {
   "cell_type": "markdown",
   "metadata": {},
   "source": [
    "To add an item to a min-heap, we first put it in the next available\n",
    "leaf position, i.e. we append it to the array.\n",
    "This guarantees the tree remains complete.\n",
    "However, the new item may be smaller than its parent. If that's the case,\n",
    "we swap it with its parent to satisfy the heap's ordering property.\n",
    "If the new item is still smaller than its new parent, we keep swapping it\n",
    "up the tree until it becomes the root or is the child of a smaller item.\n",
    "\n",
    "The algorithm keeps two variables with the current index of the new item and\n",
    "its current parent, and updates them as the item 'bubbles' up the tree.\n",
    "\n",
    "1. append _item_ to _heap_\n",
    "1. let _index_ be │*heap*│ − 1\n",
    "2. let _parent_ be floor((_index_ – 1) / 2)\n",
    "1. while _index_ ≠ 0 and _key_(_item_) > _key_(_heap_[*parent*]):\n",
    "   1. swap _heap_[*index*] with _heap_[*parent*]\n",
    "   1. let _index_ be _parent_\n",
    "   1. let _parent_ be floor((_index_ – 1) / 2)\n",
    "\n",
    "The algorithm relies on short-circuit conjunction in step&nbsp;4,\n",
    "so that the invalid parent index isn't accessed when the item becomes the root."
   ]
  },
  {
   "cell_type": "markdown",
   "metadata": {},
   "source": [
    "### 16.6.3 Removing the root"
   ]
  },
  {
   "cell_type": "markdown",
   "metadata": {},
   "source": [
    "The only item that can be removed from a min-heap is the root,\n",
    "which is the front of the priority queue.\n",
    "When the root is removed the last leaf node replaces it, so that the tree\n",
    "remains complete. However, this will break the ordering property:\n",
    "the old root was the smallest item but the new root is one of the largest items,\n",
    "because it was in the lowest level. To reinstate the ordering,\n",
    "we simply swap the new root with one of its children and keep swapping it down\n",
    "until it becomes a leaf again or is smaller than its children.\n",
    "\n",
    "Promoting one of the largest items to the root only to move it back down\n",
    "sounds daft, but the actual point is to move the appropriate smaller items up\n",
    "as the swaps are made.\n",
    "\n",
    "Does it matter which child the parent is swapped with?\n",
    "Let's think with a concrete example, the min-heap of the previous figure.\n",
    "If we dequeue the root, it gets replaced by the last leaf with key 4.\n",
    "The middle of the next figure shows the new root and its children.\n",
    "\n",
    "![This figure shows three binary trees, each with three nodes:\n",
    "the root and two children.\n",
    "The middle tree's root has key 4.\n",
    "Its left child has key 1 and its right child has key 2.\n",
    "In the left-hand tree, 4 and 1&nbsp;have swapped places:\n",
    "1 is in the root, 4 is in the left child and 2&nbsp;stays as the right child.\n",
    "In the right-hand tree, 4 and 2&nbsp;have swapped places:\n",
    "2 is in the root, 4 is in the right child and 1&nbsp;stays as the left child.\n",
    "](16_6_swap_down.png)\n",
    "\n",
    "If we swap node 4 with its right child, as shown in the right-hand side of\n",
    "the figure, it still isn't a min-heap, because the new root, with key 2,\n",
    "is larger than the left child. If we instead swap node 4 with its left child,\n",
    "node 1, as shown in the left-hand side of the figure, we reinstate the ordering property.\n",
    "\n",
    "In general, we must swap the root with the smallest of its children.\n",
    "This guarantees the child being promoted to parent is smaller than\n",
    "its two new children: its former parent and its former sibling.\n",
    "\n",
    "The algorithm to dequeue the root is as follows,\n",
    "with _front_ being the output variable:\n",
    "\n",
    "1. let _front_ be _heap_[0]\n",
    "2. let _last_ be │*heap*│ − 1\n",
    "2. let _heap_[0] be _heap_[*last*]\n",
    "3. remove _heap_[*last*]\n",
    "4. down(_heap_, 0)\n",
    "\n",
    "The auxiliary function down(_heap_, _index_) moves the node at the given\n",
    "index down as far as possible. The easiest implementation is recursive.\n",
    "One base case is that the node is a leaf, the other that it's already smaller\n",
    "than its children. In both cases, nothing is done.\n",
    "Otherwise the node is swapped with the smallest child and pushed down further.\n",
    "\n",
    "1. let _left_ be 2×_index_ + 1\n",
    "2. if _left_ ≥  │*heap*│:\n",
    "   1. stop\n",
    "3. let _right_ be _left_ + 1\n",
    "4. if _right_ < │*heap*│ and _key_(_heap_[*right*]) < _key_(_heap_[*left*])\n",
    "   1. let _smallest_ be _right_\n",
    "5. otherwise:\n",
    "   1. let _smallest_ be _left_\n",
    "6. if _key_(_heap_[*index*]) > _key_(_heap_[*smallest*]):\n",
    "   1. swap _heap_[*index*] with _heap_[*smallest*]\n",
    "   2. down(_heap_, _smallest_)\n",
    "\n",
    "Step&nbsp;2 checks that the node to be pushed down is a leaf by checking if the\n",
    "index of its left child is out of bounds.\n",
    "Step&nbsp;4 uses short-circuit conjunction to first check if there's a right child\n",
    "before comparing it to the left child.\n",
    "\n",
    "Is heapsort stable?\n",
    "\n",
    "___\n",
    "\n",
    "No. As items are swapped in the heap, there's no guarantee that\n",
    "those with equal keys are dequeued in the original order."
   ]
  },
  {
   "cell_type": "markdown",
   "metadata": {},
   "source": [
    "### 16.6.4 Complexity"
   ]
  },
  {
   "cell_type": "markdown",
   "metadata": {},
   "source": [
    "The worst-case scenario for inserting an item is to bubble it up\n",
    "from the bottom level to the root. Likewise the worst-case scenario for\n",
    "dequeueing the root is to push the new root (which was the right-most leaf) down\n",
    "back to the bottom level."
   ]
  },
  {
   "cell_type": "markdown",
   "metadata": {},
   "source": [
    "#### Exercise 16.6.2"
   ]
  },
  {
   "cell_type": "markdown",
   "metadata": {},
   "source": [
    "What's the worst-case complexity of heapsort?"
   ]
  },
  {
   "cell_type": "markdown",
   "metadata": {
    "tags": [
     "ANSWER"
    ]
   },
   "source": [
    "_Write your answer here._"
   ]
  },
  {
   "cell_type": "markdown",
   "metadata": {},
   "source": [
    "[Hint](../31_Hints/Hints_16_6_02.ipynb)\n",
    "[Answer](../32_Answers/Answers_16_6_02.ipynb)"
   ]
  },
  {
   "cell_type": "markdown",
   "metadata": {},
   "source": [
    "#### Exercise 16.6.3"
   ]
  },
  {
   "cell_type": "markdown",
   "metadata": {},
   "source": [
    "What's the best-case scenario and complexity of heapsort?"
   ]
  },
  {
   "cell_type": "markdown",
   "metadata": {
    "tags": [
     "ANSWER"
    ]
   },
   "source": [
    "_Write your answer here._"
   ]
  },
  {
   "cell_type": "markdown",
   "metadata": {},
   "source": [
    "[Hint](../31_Hints/Hints_16_6_03.ipynb)\n",
    "[Answer](../32_Answers/Answers_16_6_03.ipynb)\n",
    "\n",
    "Heapsort isn't adaptive. Even if several items are inserted in ascending order,\n",
    "depending on each item's parent, some of them may bubble up, some not.\n",
    "And when removing the root, the new root almost always has to be pushed down.\n",
    "Heapsort is almost always log-linear,\n",
    "except if there are many duplicate keys, which reduces the swaps needed.\n",
    "\n",
    "In summary, their weaker ordering property than for BSTs and\n",
    "their structural property (being complete trees) makes heaps more efficient\n",
    "for implementing priority queues than self-balancing BSTs:\n",
    "although each priority queue operation takes logarithmic time for both\n",
    "data structures, heaps use less memory and execute operations faster.\n",
    "\n",
    "Despite heapsort being very efficient, Python and other languages\n",
    "used quicksort as the built-in sorting algorithm before Timsort came along.\n",
    "Heapsort accesses all parts of the array as it swaps items.\n",
    "If the array doesn't fit in cache memory, then the various parts of the\n",
    "array are copied in and out of the cache as the item bubbles up or down.\n",
    "In contrast, quicksort doesn't access any part of the array outside\n",
    "the partition it's working on.\n",
    "Every partition small enough to fit in the cache stays there until it's sorted.\n",
    "We say that quicksort has better cache locality than heapsort.\n",
    "A well-implemented in-place quicksort algorithm\n",
    "runs faster than heapsort for large arrays."
   ]
  },
  {
   "cell_type": "markdown",
   "metadata": {
    "tags": [
     "INFO"
    ]
   },
   "source": [
    "<div class=\"alert alert-info\">\n",
    "<strong>Info:</strong> TM112 Block&nbsp;1 Section&nbsp;3.1.2 explains cache memory.\n",
    "</div>"
   ]
  },
  {
   "cell_type": "markdown",
   "metadata": {},
   "source": [
    "### 16.6.5 Heaps in Python"
   ]
  },
  {
   "cell_type": "markdown",
   "metadata": {},
   "source": [
    "Python's module `heapq` implements min-priority queues with min-heaps.\n",
    "No new data type is introduced: a heap is represented by a list.\n",
    "The module includes\n",
    "function `heappush(heap, item)` to add the given item to the given heap, and\n",
    "function `heappop(heap)` to remove and return the smallest item.\n",
    "Note that items are assumed to be directly comparable:\n",
    "there's no additional parameter for a key function.\n",
    "\n",
    "To access the front of the priority queue without removing it,\n",
    "just write `heap[0]`.\n",
    "You can use any other list operation, but most of them are meaningless\n",
    "for priority queues and will break the heap properties.\n",
    "\n",
    "Here's the heapsort algorithm, with a key function.\n",
    "I add each item to the heap as a key–item tuple.\n",
    "Due to lexicographic comparison, the keys are compared first, then the items,\n",
    "if they have the same key. This means that items must be comparable,\n",
    "contrary to the other sorting algorithms, where only keys are.\n",
    "The key is discarded before appending the item to the output sequence."
   ]
  },
  {
   "cell_type": "code",
   "execution_count": 1,
   "metadata": {
    "execution": {
     "iopub.execute_input": "2021-09-10T15:45:20.295972Z",
     "iopub.status.busy": "2021-09-10T15:45:20.295281Z",
     "iopub.status.idle": "2021-09-10T15:45:20.299631Z",
     "shell.execute_reply": "2021-09-10T15:45:20.300161Z"
    }
   },
   "outputs": [
    {
     "name": "stdout",
     "output_type": "stream",
     "text": [
      "Tests finished.\n"
     ]
    }
   ],
   "source": [
    "%run -i ../m269_util\n",
    "%run -i ../m269_sorting\n",
    "\n",
    "from heapq import heappush, heappop\n",
    "\n",
    "def heapsorted(unsorted: list, key: Callable) -> list:\n",
    "    \"\"\"Return a permutation with keys in non-decreasing order.\n",
    "\n",
    "    Preconditions:\n",
    "    - all items in unsorted are pairwise comparable\n",
    "    - for any indices i and j,\n",
    "      key(unsorted[i]) and key(unsorted[j]) are comparable\n",
    "    \"\"\"\n",
    "    heap = []\n",
    "    for item in unsorted:\n",
    "        heappush(heap, (key(item), item) )\n",
    "    sorted = []\n",
    "    while len(heap) > 0:\n",
    "        sorted.append(heappop(heap)[1])\n",
    "    return sorted\n",
    "\n",
    "test(heapsorted, sorting_tests)"
   ]
  },
  {
   "cell_type": "markdown",
   "metadata": {},
   "source": [
    "Let's confirm that heapsort is log-linear."
   ]
  },
  {
   "cell_type": "code",
   "execution_count": 2,
   "metadata": {
    "execution": {
     "iopub.execute_input": "2021-09-10T15:45:20.380708Z",
     "iopub.status.busy": "2021-09-10T15:45:20.341701Z",
     "iopub.status.idle": "2021-09-10T15:45:45.625698Z",
     "shell.execute_reply": "2021-09-10T15:45:45.626236Z"
    }
   },
   "outputs": [
    {
     "name": "stdout",
     "output_type": "stream",
     "text": [
      "63.2 µs ± 4.35 µs per loop (mean ± std. dev. of 5 runs, 10000 loops each)\n",
      "134 µs ± 9.92 µs per loop (mean ± std. dev. of 5 runs, 10000 loops each)\n",
      "279 µs ± 54.8 µs per loop (mean ± std. dev. of 5 runs, 1000 loops each)\n",
      "634 µs ± 112 µs per loop (mean ± std. dev. of 5 runs, 1000 loops each)\n",
      "1.25 ms ± 79.2 µs per loop (mean ± std. dev. of 5 runs, 1000 loops each)\n"
     ]
    }
   ],
   "source": [
    "from random import shuffle\n",
    "\n",
    "for doubling in range(5):\n",
    "    items = list(range(100 * 2**doubling, -1, -1))\n",
    "    shuffle(items)                              # random sequence\n",
    "    %timeit -r 5 heapsorted(items, identity)"
   ]
  },
  {
   "cell_type": "markdown",
   "metadata": {},
   "source": [
    "#### Optional exercises"
   ]
  },
  {
   "cell_type": "markdown",
   "metadata": {},
   "source": [
    "The Kattis Guide has some problems based on\n",
    "[heaps](https://mwermelinger.github.io/kattis-guide/tree.html#binary-heap)."
   ]
  },
  {
   "cell_type": "markdown",
   "metadata": {},
   "source": [
    "⟵ [Previous section](16_5_balanced.ipynb) | [Up](16-introduction.ipynb) | [Next section](16_7_summary.ipynb) ⟶"
   ]
  }
 ],
 "metadata": {
  "kernelspec": {
   "display_name": "Python 3",
   "language": "python",
   "name": "python3"
  },
  "language_info": {
   "codemirror_mode": {
    "name": "ipython",
    "version": 3
   },
   "file_extension": ".py",
   "mimetype": "text/x-python",
   "name": "python",
   "nbconvert_exporter": "python",
   "pygments_lexer": "ipython3",
   "version": "3.8.5"
  }
 },
 "nbformat": 4,
 "nbformat_minor": 4
}
